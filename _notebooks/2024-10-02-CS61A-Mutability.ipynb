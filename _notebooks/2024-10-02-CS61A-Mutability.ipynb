{
 "cells": [
  {
   "cell_type": "markdown",
   "metadata": {},
   "source": [
    "---\n",
    "- title: \"'CS61A: Mutability'\"\n",
    "- author: alex\n",
    "- badges: true\n",
    "- comments: true\n",
    "- categories: [CS61A]\n",
    "- date: 2024-09-30 6:00:00 -0800\n",
    "- math: true\n",
    "- tags: [CS61A, mutability]\n",
    "---"
   ]
  },
  {
   "cell_type": "markdown",
   "metadata": {},
   "source": [
    "# Objects\n",
    "- Objects are values that behave like what it's supposed to represent\n",
    "- Ex: `datetime` module"
   ]
  },
  {
   "cell_type": "code",
   "execution_count": 1,
   "metadata": {},
   "outputs": [
    {
     "data": {
      "text/plain": [
       "datetime.date"
      ]
     },
     "execution_count": 1,
     "metadata": {},
     "output_type": "execute_result"
    }
   ],
   "source": [
    "from datetime import date\n",
    "date"
   ]
  },
  {
   "cell_type": "markdown",
   "metadata": {},
   "source": [
    "- In datetime, `date` is a class that literally represents a date"
   ]
  },
  {
   "cell_type": "code",
   "execution_count": 8,
   "metadata": {},
   "outputs": [
    {
     "data": {
      "text/plain": [
       "'55 days, 0:00:00'"
      ]
     },
     "execution_count": 8,
     "metadata": {},
     "output_type": "execute_result"
    }
   ],
   "source": [
    "today = date.today()\n",
    "go_home_date = date(2024, 11, 26)\n",
    "str(go_home_date - today)"
   ]
  },
  {
   "cell_type": "markdown",
   "metadata": {},
   "source": [
    "- Primary mechanism of how object behavior is defined is through their attributes\n",
    "    - Attributes of an object are accessed through the dot expression:\n",
    "    - `<name of object>.<name of attribute>`"
   ]
  },
  {
   "cell_type": "code",
   "execution_count": 10,
   "metadata": {},
   "outputs": [
    {
     "name": "stdout",
     "output_type": "stream",
     "text": [
      "Today's year: 2024\n",
      "Today's month: 10\n",
      "Today's date: 2\n"
     ]
    }
   ],
   "source": [
    "print(\"Today's year:\", today.year)\n",
    "print(\"Today's month:\", today.month)\n",
    "print(\"Today's date:\", today.day)"
   ]
  },
  {
   "cell_type": "markdown",
   "metadata": {},
   "source": [
    "- Attributes are not only bound to values, but also to the functions of a class.\n",
    "    - These functional attributes are called methods\n",
    "    - `<name of object>.<name of method>()`\n"
   ]
  },
  {
   "cell_type": "code",
   "execution_count": 12,
   "metadata": {},
   "outputs": [
    {
     "data": {
      "text/plain": [
       "'Wednesday October 02'"
      ]
     },
     "execution_count": 12,
     "metadata": {},
     "output_type": "execute_result"
    }
   ],
   "source": [
    "today.strftime('%A %B %d')\n",
    "# %A : day of the week\n",
    "# %B : Month of the year\n",
    "# %d: Day of the month"
   ]
  },
  {
   "cell_type": "markdown",
   "metadata": {},
   "source": [
    "- The date object contains information pertinent to the day of the week, the string representation of the month, and other such useful information, because it is precisely used to represent everything that comes with a date."
   ]
  },
  {
   "cell_type": "markdown",
   "metadata": {},
   "source": [
    "## Objects\n",
    "- Objects represent information\n",
    "    - Are composed of data and behavior that is bundled together to form an abstraction\n",
    "- A type of object is called a class, and classes are first-class values in Python, meaning they may be passed in as values to functions.\n",
    "\n",
    "## Object-oriented programming\n",
    "- A method of organizing large programs by constructing them as an intricate connection of smaller objects that communicate with each other.\n",
    "- Every value in python is an object and has attributes and methods.\n",
    "    - A lot of data manipulation occurs through object methods.\n",
    "    - Functions do one thing, objects are able to do many related things bundled together.\n",
    "\n",
    "# Strings\n",
    "- Strings are also objects with attributes themselves\n",
    "    -`.upper()`, `.lower()`, and `.swapcase()` methods."
   ]
  },
  {
   "cell_type": "code",
   "execution_count": 14,
   "metadata": {},
   "outputs": [
    {
     "name": "stdout",
     "output_type": "stream",
     "text": [
      "Original: Hello\n",
      "Uppercase: HELLO\n",
      "Lowercase: hello\n",
      "Swapcase: hELLO\n"
     ]
    }
   ],
   "source": [
    "s = \"Hello\"\n",
    "print(\"Original:\", s)\n",
    "print(\"Uppercase:\", s.upper())\n",
    "print(\"Lowercase:\", s.lower())\n",
    "print(\"Swapcase:\", s.swapcase())"
   ]
  },
  {
   "cell_type": "markdown",
   "metadata": {},
   "source": [
    "- The string methods are functions, but they aren't general functions.\n",
    "    - The methods all perform string operations, which means that they are particular to string types. They are not functions built into the language.\n",
    "- Strings are an abstraction that allows us to represent text.\n",
    "    - Strings may be encoded as numbers through a standard called `ASCII`. This standard is used across many programming languages.\n",
    "        - Transmission characters are the ascii characters from 0x00 to 0x1F (first two rows). They are used for interchanging and feeding information.\n",
    "        - The `ord()` function returns the given integer ASCII code for a character"
   ]
  },
  {
   "cell_type": "code",
   "execution_count": 2,
   "metadata": {},
   "outputs": [
    {
     "name": "stdout",
     "output_type": "stream",
     "text": [
      "ASCII code for 'A': 65\n",
      "hex code for 'A': 0x41\n"
     ]
    }
   ],
   "source": [
    "print(\"ASCII code for 'A':\", ord(\"A\"))\n",
    "print(\"hex code for 'A':\", hex(ord(\"A\"))) # Row and column in ASCII table"
   ]
  },
  {
   "cell_type": "markdown",
   "metadata": {},
   "source": [
    "- Strings may also be represented using the Unicode standard\n",
    "    - The unicode standard accomodates for more characters outside of English, including things like Chinese scripts.\n",
    "    - 109k+ characters and counting\n",
    "    - 93 scripts\n",
    "    - Supports bidirectional display order (left-to-right for English), and (right-to-left for Arabic, etc.)"
   ]
  },
  {
   "cell_type": "code",
   "execution_count": 4,
   "metadata": {},
   "outputs": [
    {
     "name": "stdout",
     "output_type": "stream",
     "text": [
      "CJK UNIFIED IDEOGRAPH-6BD4\n"
     ]
    },
    {
     "data": {
      "text/plain": [
       "'👶'"
      ]
     },
     "execution_count": 4,
     "metadata": {},
     "output_type": "execute_result"
    }
   ],
   "source": [
    "from unicodedata import name, lookup\n",
    "print(name(\"比\"))\n",
    "lookup('BABY')"
   ]
  },
  {
   "cell_type": "markdown",
   "metadata": {},
   "source": [
    "# Mutation Operations\n",
    "- The value of an object can change over the time of execution\n",
    "\n",
    "## Some Objects can change\n",
    "- Lists may change their contents as time goes on."
   ]
  },
  {
   "cell_type": "code",
   "execution_count": 12,
   "metadata": {},
   "outputs": [
    {
     "name": "stdout",
     "output_type": "stream",
     "text": [
      "Migration to Europe, lost myriad\n",
      "Migration to Europe, lost string\n",
      "Current suits ['coin']\n",
      "Added some Spanish suits, ['coin', 'cup', 'sword', 'club']\n",
      "The Italian and the French changed some more suits, ['heart', 'diamond', 'spade', 'club']\n",
      "But wait, original suits also changed ['heart', 'diamond', 'spade', 'club']\n"
     ]
    }
   ],
   "source": [
    "suits = ['coin', 'string', 'myriad'] # Created in Asia with 3 suits\n",
    "original_suits = suits\n",
    "print(\"Migration to Europe, lost\", suits.pop())\n",
    "suits.remove('string')\n",
    "print(\"Migration to Europe, lost string\")\n",
    "print(\"Current suits\", suits)\n",
    "suits.append('cup')\n",
    "suits.extend(['sword', 'club'])\n",
    "print(\"Added some Spanish suits,\", suits)\n",
    "suits[2] = 'spade'\n",
    "suits[0:2] = ['heart', 'diamond']\n",
    "print(\"The Italian and the French changed some more suits,\", suits)\n",
    "print(\"But wait, original suits also changed\", original_suits)"
   ]
  },
  {
   "cell_type": "markdown",
   "metadata": {},
   "source": [
    "- In the case above, both `original_suits` and `suits` were bound to the same list.\n",
    "    - That is why, when the value associated with `suits` was changed, the same value for `original_suits` also changed.\n",
    "- Thus, all names that refer to the same object are all affected by a particular mutation.\n",
    "    - Mutation: A particular change to an object.\n",
    "    - Only `mutable` types may have changes to their values.\n",
    "- So far, only lists and dictionaries are mutable types.\n",
    "\n",
    "## Mutation Can Happen Within a Function Call\n",
    "- A function can change the value of any object in its scope. "
   ]
  },
  {
   "cell_type": "code",
   "execution_count": 20,
   "metadata": {},
   "outputs": [
    {
     "name": "stdout",
     "output_type": "stream",
     "text": [
      "Original length, 4\n",
      "New length, 2\n"
     ]
    }
   ],
   "source": [
    "def mystery(s):\n",
    "    s[2:] = [] # We may also override certain slices of lists\n",
    "\n",
    "four = [1,2,3,4]\n",
    "print(\"Original length,\", len(four))\n",
    "mystery(four)\n",
    "print(\"New length,\", len(four))"
   ]
  },
  {
   "cell_type": "markdown",
   "metadata": {},
   "source": [
    "- When the mystery function is called, the parameter s is bound to the same list object as four."
   ]
  },
  {
   "cell_type": "markdown",
   "metadata": {},
   "source": [
    "# Tuples\n",
    "- Tuples are immutable sequences.\n",
    "    - Initialized using parathesis, or nothing at all, anything separated with commas is evaluated as a tuple.\n",
    "    - A tuple may also be intialized using the `tuple()` constructor on any sequence"
   ]
  },
  {
   "cell_type": "code",
   "execution_count": 23,
   "metadata": {},
   "outputs": [
    {
     "data": {
      "text/plain": [
       "(3, 4, 5, 6)"
      ]
     },
     "execution_count": 23,
     "metadata": {},
     "output_type": "execute_result"
    }
   ],
   "source": [
    "(3,4,5,6)"
   ]
  },
  {
   "cell_type": "code",
   "execution_count": 25,
   "metadata": {},
   "outputs": [
    {
     "data": {
      "text/plain": [
       "(3, 4, 5, 6)"
      ]
     },
     "execution_count": 25,
     "metadata": {},
     "output_type": "execute_result"
    }
   ],
   "source": [
    "3,4,5,6"
   ]
  },
  {
   "cell_type": "code",
   "execution_count": 28,
   "metadata": {},
   "outputs": [
    {
     "data": {
      "text/plain": [
       "('I', 'like', 'hashbrowns')"
      ]
     },
     "execution_count": 28,
     "metadata": {},
     "output_type": "execute_result"
    }
   ],
   "source": [
    "strings = [\"I\", \"like\", \"hashbrowns\"]\n",
    "tuple(strings)\n"
   ]
  },
  {
   "cell_type": "markdown",
   "metadata": {},
   "source": [
    "## Tuple operations\n",
    "- We may create a single tuple with the value and a comma at the end\n",
    "    - Ex: `2,`\n",
    "- We may add tuples together to get larger tuples\n",
    "    - Ex: `(3, 4) + (5, 6)`\n",
    "- We may use the membership operator `is` to check if an element is in a tuple\n",
    "    - Ex: `5 in (3, 4, 5)`\n",
    "- We may also create slices of tuples\n",
    "    - Ex: `(1,2,3,4,5)[2:]`\n",
    "\n",
    "## Immutable nature of Tuples\n",
    "- Because tuples are immutable, that means we can use them as keys within a dictionary, unlike a list"
   ]
  },
  {
   "cell_type": "code",
   "execution_count": 31,
   "metadata": {},
   "outputs": [
    {
     "data": {
      "text/plain": [
       "{(1, 2): 3}"
      ]
     },
     "execution_count": 31,
     "metadata": {},
     "output_type": "execute_result"
    }
   ],
   "source": [
    "{(1,2): 3}"
   ]
  },
  {
   "cell_type": "markdown",
   "metadata": {},
   "source": [
    "\n",
    "- Immutable values such as tuples are protected from mutation.\n",
    "    - However, the value that names are bound to can be changed still.\n",
    "- Values of expressions can change if there are changes within names or objects.\n",
    "- An immutable sequence may change if it contains a mutable value as an element\n",
    "    - Like a list\n"
   ]
  },
  {
   "cell_type": "code",
   "execution_count": 34,
   "metadata": {},
   "outputs": [
    {
     "data": {
      "text/plain": [
       "([1, 4], 2)"
      ]
     },
     "execution_count": 34,
     "metadata": {},
     "output_type": "execute_result"
    }
   ],
   "source": [
    "test_tuple = ([1,3],2)\n",
    "test_tuple[0][1] = 4\n",
    "test_tuple"
   ]
  },
  {
   "cell_type": "markdown",
   "metadata": {},
   "source": [
    "## Mutation\n",
    "- Sameness and Change\n",
    "- Compound data objects such as lists have \"identity\" in addition to the pieces that it's composed by.\n",
    "    - The object is still the same object even when the object's contents have been changed.\n",
    "    - Two objects can also have the same contents, but be different objects.\n"
   ]
  },
  {
   "cell_type": "code",
   "execution_count": 4,
   "metadata": {},
   "outputs": [
    {
     "name": "stdout",
     "output_type": "stream",
     "text": [
      "Same Object, contents changed:\n",
      "Is a equal to b? True\n",
      "Different Objects, content changed:\n",
      "Is a equal b? True\n",
      "What about now? False\n"
     ]
    }
   ],
   "source": [
    "print(\"Same Object, contents changed:\")\n",
    "a = [10]\n",
    "b = a\n",
    "a.append(20)\n",
    "print(\"Is a equal to b?\", a == b)\n",
    "print(\"Different Objects, content changed:\")\n",
    "a = [10]\n",
    "b = [10]\n",
    "print(\"Is a equal b?\", a == b)\n",
    "b.append(20)\n",
    "print(\"What about now?\", a == b)"
   ]
  },
  {
   "cell_type": "markdown",
   "metadata": {},
   "source": [
    "### Identity Operators\n",
    "- These operators allow us to figure out if something is the same\n",
    "- **Identity**: \n",
    "    - `<expr 1> is <expr 2>`\n",
    "    - evaluates to True if `<expr 1>` and `<expr 2>` evaluates to the same object\n",
    "    - may also check for difference in objects with `is not`\n",
    "- **Equality**\n",
    "    - `<expr 1> == <expr 2>`\n",
    "    - evaluates to True if `<expr 1>` and `<expr 2>` evaluates to the same values\n",
    "    - `<expr 1>` and `<expr 2>` can be of different objects! Like the list example above\n",
    "- Identical objects are always equal, ***BUT EQUAL VALUES AREN'T ALWAYS IDENTICAL!!!***\n",
    "- When two things aren't the same (identical), changes to one do not affect the other.\n",
    "\n",
    "## Mutable Default Arguments are Dangerous\n",
    "- A default argument value is a part of a function value, not generated by a call.\n",
    "    - This is because the default value is bound to the same value over each function call.\n",
    "    - For all function calls of the same function, the default arguments are always bound to the same value, which could possibly change if it were a mutable object."
   ]
  },
  {
   "cell_type": "code",
   "execution_count": 9,
   "metadata": {},
   "outputs": [
    {
     "name": "stdout",
     "output_type": "stream",
     "text": [
      "First call: 1\n",
      "Second call: 2\n",
      "Third call: 3\n",
      "Fourth call: 4\n"
     ]
    }
   ],
   "source": [
    "def f(s=[]):\n",
    "    s.append(5)\n",
    "    return len(s)\n",
    "\n",
    "print(\"First call:\", f())\n",
    "print(\"Second call:\", f())\n",
    "print(\"Third call:\", f())\n",
    "print(\"Fourth call:\", f())"
   ]
  },
  {
   "cell_type": "markdown",
   "metadata": {},
   "source": [
    "# Mutable Functions\n",
    "- Mutable values may be used to define mutable functions: functions with behaviors that vary over time.\n",
    "    - Mutable functions do not always return the same return value for the same arguments.\n",
    "    - This is because they are non-pure functions. Some side-effect happens as a result of calling the function, which could affect future calls to that function.\n",
    "        - These functions represent a state, which is always changing.\n",
    "        - The state is local, it is not defined anywhere else, it is just part of the function's behavior\n",
    "- Using higher order functions, we may bundle specific functions with data, and that data can be mutable, making the function mutable as well.\n",
    "- Mutable values induces behavior changes"
   ]
  },
  {
   "cell_type": "markdown",
   "metadata": {},
   "source": [
    "## Mutable Values & Persistent Local State\n",
    "- Values that persist across multiple function calls, and can be changed\n",
    "    - We use a mutable value to achieve this.\n",
    "    - The mutable is bound in a frame above the function call frame, so the function may always access that mutable value even across different function call frames."
   ]
  },
  {
   "cell_type": "code",
   "execution_count": 20,
   "metadata": {},
   "outputs": [
    {
     "name": "stdout",
     "output_type": "stream",
     "text": [
      "Withdraw 25: 75\n",
      "Withdraw 25: 50\n",
      "Withdraw 60: Insufficient funds\n",
      "Withdraw 15: 35\n"
     ]
    }
   ],
   "source": [
    "def make_withdraw_list(balance):\n",
    "    b = [balance]\n",
    "    def withdraw(amount):\n",
    "        if (amount > b[0]):\n",
    "            return 'Insufficient funds'\n",
    "        b[0]-=amount\n",
    "        return b[0]\n",
    "    return withdraw\n",
    "\n",
    "withdraw = make_withdraw_list(100)\n",
    "print(\"Withdraw 25:\", withdraw(25))\n",
    "print(\"Withdraw 25:\", withdraw(25))\n",
    "print(\"Withdraw 60:\", withdraw(60))\n",
    "print(\"Withdraw 15:\", withdraw(15))\n"
   ]
  }
 ],
 "metadata": {
  "kernelspec": {
   "display_name": "Python 3",
   "language": "python",
   "name": "python3"
  },
  "language_info": {
   "codemirror_mode": {
    "name": "ipython",
    "version": 3
   },
   "file_extension": ".py",
   "mimetype": "text/x-python",
   "name": "python",
   "nbconvert_exporter": "python",
   "pygments_lexer": "ipython3",
   "version": "3.10.12"
  }
 },
 "nbformat": 4,
 "nbformat_minor": 2
}
