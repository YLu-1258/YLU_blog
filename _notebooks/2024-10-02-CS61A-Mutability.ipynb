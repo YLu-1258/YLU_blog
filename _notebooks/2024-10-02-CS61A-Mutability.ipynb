{
 "cells": [
  {
   "cell_type": "markdown",
   "metadata": {},
   "source": [
    "---\n",
    "- title: \"'CS61A: Lecture 14'\"\n",
    "- author: alex\n",
    "- badges: true\n",
    "- comments: true\n",
    "- categories: [CS61A]\n",
    "- date: 2024-09-30 6:00:00 -0800\n",
    "- math: true\n",
    "- tags: [CS61A, mutability]\n",
    "---"
   ]
  },
  {
   "cell_type": "markdown",
   "metadata": {},
   "source": [
    "# Mutability\n",
    "- In the way that names refer to values, we can have multiple names refer to the same values\n",
    "    - The names declared within functions may also refer to values outside of the scope of the function"
   ]
  },
  {
   "cell_type": "code",
   "execution_count": 8,
   "metadata": {},
   "outputs": [
    {
     "name": "stdout",
     "output_type": "stream",
     "text": [
      "original s: [3, 3, 7, 9]\n",
      "New length of s:  5\n",
      "What is u? [3, 5, 7, 9, 11]\n",
      "What is u now? [3, 5, 7, 9, 11, 13]\n"
     ]
    }
   ],
   "source": [
    "s = [3, 3, 7, 9]\n",
    "u = s\n",
    "print(\"original s:\", s)\n",
    "s[1] = 5\n",
    "s.append(11)\n",
    "print(\"New length of s: \", len(s))\n",
    "print(\"What is u?\", u)\n",
    "def f(r):\n",
    "    r.append(13)\n",
    "f(s)\n",
    "print(\"What is u now?\", u)"
   ]
  },
  {
   "cell_type": "markdown",
   "metadata": {},
   "source": [
    "- The reason that u is updated even after the function call is because s is passed into the function. Thus, both r and u point to the same list that s is pointing to.\n",
    "- Mutable values include lists. Integers and strings are immutable values.\n",
    "    - Strings are not lists. They have similar properties, but ultimately still different."
   ]
  },
  {
   "cell_type": "code",
   "execution_count": 13,
   "metadata": {},
   "outputs": [
    {
     "data": {
      "text/plain": [
       "'wonderful world'"
      ]
     },
     "execution_count": 13,
     "metadata": {},
     "output_type": "execute_result"
    }
   ],
   "source": [
    "word = \"wonderful\"\n",
    "words = [\"wonderful\", \"world\"]\n",
    "\" \".join(words)"
   ]
  },
  {
   "cell_type": "markdown",
   "metadata": {},
   "source": [
    "- The type system in python means that one name could refer to a value, but that reference may be changed later on."
   ]
  },
  {
   "cell_type": "markdown",
   "metadata": {},
   "source": [
    "## Building a new list\n",
    "- We may do so with list comprehension, but we may also use a for-loop, and there is a difference"
   ]
  },
  {
   "cell_type": "code",
   "execution_count": 24,
   "metadata": {},
   "outputs": [
    {
     "name": "stdout",
     "output_type": "stream",
     "text": [
      "Current s: [3, 5, 7, 9, 11, 13]\n",
      "Current u: [3, 5, 7, 9, 11, 13]\n",
      "----------------------------------------\n",
      "current t: [6, 8, 10, 12, 14, 16]\n",
      "Current s: [6, 8, 10, 12, 14, 16]\n",
      "current u: [6, 8, 10, 12, 14, 16]\n",
      "current v: [3, 5, 7, 9, 11, 13]\n"
     ]
    }
   ],
   "source": [
    "s = [3, 5, 7, 9, 11, 13]\n",
    "u = s\n",
    "print(\"Current s:\", s)\n",
    "print(\"Current u:\", u)\n",
    "t = [x+3 for x in s] # This creates a new list\n",
    "v = s[:]\n",
    "print(\"-\"*40)\n",
    "for i in range(len(s)): # This modifies the original list\n",
    "    s[i] = s[i] + 3\n",
    "print(\"current t:\", t)\n",
    "print(\"Current s:\", s)\n",
    "print(\"current u:\", u)\n",
    "print(\"current v:\", v)"
   ]
  },
  {
   "cell_type": "markdown",
   "metadata": {},
   "source": [
    "- We may create a new list with the following strategies\n",
    "    - Assign the name to a slice of a list\n",
    "    - Apply the `list()` constructor\n",
    "    - Use list comprehension\n",
    "    - Literally creating a new list.\n",
    "- Whenever we create a new list, that name is bound to a new value that is separate from the original list from which the copy was created."
   ]
  },
  {
   "cell_type": "code",
   "execution_count": 8,
   "metadata": {},
   "outputs": [
    {
     "data": {
      "text/plain": [
       "[[1, 3, 1], [1, 4], [2, 1, 2], [2, 3], [3, 2], [4, 1], [5]]"
      ]
     },
     "execution_count": 8,
     "metadata": {},
     "output_type": "execute_result"
    }
   ],
   "source": [
    "def sums(n, m):\n",
    "    \"\"\"Review this problem, why use min(m+1, n)????\"\"\"\n",
    "    result = []\n",
    "    for k in range(1, min(m+1, n)):\n",
    "        for rest in sums(n-k, m):\n",
    "            if rest[0] != k:\n",
    "                result.append([k] + rest)\n",
    "    if n<=m:\n",
    "        result.append([n])\n",
    "    return result\n",
    "\n",
    "sums(5,5)"
   ]
  },
  {
   "cell_type": "markdown",
   "metadata": {},
   "source": [
    "- A list describes a path if it contains labels along a path from the root of a tree. Implement make_path, which takes a tree t with unique labels and a list p that starts with the root label of t. It returns the tree u with the fewest nodes that contains all the paths in t as well as (possibly new) path p.\n"
   ]
  },
  {
   "cell_type": "code",
   "execution_count": 10,
   "metadata": {},
   "outputs": [],
   "source": [
    "from tree import *\n",
    "def make_path(t1, p):\n",
    "    assert p[0] == label(t), 'Impossible'\n",
    "    if len(p) == 1:\n",
    "        return t\n",
    "    new_branches = []\n",
    "    found_p1 = False\n",
    "    for b in branches(t):\n",
    "        if label(b) == p[1]:\n",
    "            new_branches.append(make_path(b, p[1:]))\n",
    "            found_p1 = True\n",
    "        else:\n",
    "            new_branches.append(b)\n",
    "    if not found_p1:\n",
    "        new_branches.append(make_path(tree(p[1]),p[1:]))\n",
    "    return tree(label(t), new_branches)\n"
   ]
  },
  {
   "cell_type": "markdown",
   "metadata": {},
   "source": [
    "# Sameness and Change\n",
    "- As long as we never modify objects, a compound object is just the totality of its pieces.\n",
    "\n",
    "## Identity Operators\n",
    "- **Identity**:\n",
    "    - `<exp0> is <exp1>`\n",
    "    - Evaluates to True if both `<exp0>` and `<exp1>` evaluate to the same object\n",
    "- **Equality**\n",
    "    - `<exp0> == <exp1>`\n",
    "    - Evaluates to True if both `<exp0>` and `<exp1>` evaluates to the same value."
   ]
  },
  {
   "cell_type": "code",
   "execution_count": 12,
   "metadata": {},
   "outputs": [],
   "source": [
    "def make_path(t1, p):\n",
    "    assert label(t1) == p[0], \"Impossible\"\n",
    "    found_p1 = False\n",
    "    new_branches_to_add = []\n",
    "    if (len(p) == 1):\n",
    "        return t1\n",
    "    for branch in branches(t1):\n",
    "        if label(branch) == p[1]:\n",
    "            found_p1 = True\n",
    "            new_branches_to_add.append(make_path(branch, p[1:]))\n",
    "        else:\n",
    "            new_branches_to_add.append(branch)\n",
    "    if not found_p1:\n",
    "        new_branches_to_add.append(make_path(tree(p[1]), p[1:]))\n",
    "    return tree(p[0], new_branches_to_add)"
   ]
  }
 ],
 "metadata": {
  "kernelspec": {
   "display_name": "Python 3",
   "language": "python",
   "name": "python3"
  },
  "language_info": {
   "codemirror_mode": {
    "name": "ipython",
    "version": 3
   },
   "file_extension": ".py",
   "mimetype": "text/x-python",
   "name": "python",
   "nbconvert_exporter": "python",
   "pygments_lexer": "ipython3",
   "version": "3.10.12"
  }
 },
 "nbformat": 4,
 "nbformat_minor": 2
}
