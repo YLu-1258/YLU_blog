{
 "cells": [
  {
   "cell_type": "markdown",
   "metadata": {},
   "source": [
    "---\n",
    "- toc: true\n",
    "- comments: true\n",
    "- layout: post\n",
    "- title: Unit 6 Arrays - Teacher notebook\n",
    "- description:  Lesson on the College Board Unit 6 Arrays. This is the teacher notebook.\n",
    "- week: 9\n",
    "- type: hacks\n",
    "- author: alex\n",
    "---"
   ]
  },
  {
   "cell_type": "markdown",
   "metadata": {},
   "source": [
    "## Intro into Arrays\n",
    "\n",
    "- An **array** is a data structure used to implement a collection (list) of primitive or object reference data.\n",
    "\n",
    "- An **element** is a single value in the **array**\n",
    "\n",
    "- The __**index**__ of an **element** is the position of the element in the **array**\n",
    "\n",
    "    - In java, the **first element** of an array is at **index 0**.\n",
    "\n",
    "- The **length** of an **array** is the number of elements in the array.\n",
    "\n",
    "    - **`length`** is a `public final` data member of an array\n",
    "\n",
    "        - Since `length` is `public`, we can access it in **any class**!\n",
    "\n",
    "        - Since `length` is `final` we cannot change an array's `length` after it has been created\n",
    "    - In Java, the **last element** of an array named `list` is at **index** `list.length -1`"
   ]
  },
  {
   "cell_type": "markdown",
   "metadata": {},
   "source": [
    "## A look into list Memory\n",
    "`int [] listOne = new int[5];`\n",
    "\n",
    "This will allocate a space in memory for 5 integers.\n",
    "\n",
    "```\n",
    "ARRAY: [0, 0, 0, 0, 0]\n",
    "INDEX:  0  1  2  3  4\n",
    "```\n",
    "\n",
    "Using the keyword new uses the default values for the data type. The default values are as follows:\n",
    "\n",
    "| Data Type | Default Value |\n",
    "| --------- | ------------- |\n",
    "| byte      | (byte) 0      |\n",
    "| short     | (short) 0     |\n",
    "| int       | 0             |\n",
    "| double    | 0.0           |\n",
    "| boolean   | false         |\n",
    "| char      | '\\u0000'      |\n",
    "\n",
    "What do we do if we want to insert a value into the array?\n",
    "\n",
    "`listOne[0] = 5;`\n",
    "\n",
    "Gives us the following array:\n",
    "\n",
    "```\n",
    "ARRAY: [5, 0, 0, 0, 0]\n",
    "INDEX:  0  1  2  3  4\n",
    "```\n",
    "\n",
    "What if we want to initialize our own values? We can use an initializer list!\n",
    "\n",
    "`int [] listTwo = {1, 2, 3, 4, 5};`\n",
    "\n",
    "Gives us the following array:\n",
    "\n",
    "```\n",
    "ARRAY: [1, 2, 3, 4, 5]\n",
    "INDEX:  0  1  2  3  4\n",
    "```\n",
    "\n",
    "If we try to access an index outside of the range of existing indexes, we will get an error. But why? Remember the basis of all programming languages is memory. Because we are trying to access a location in memory that does not exist, java will throw an error (`ArrayIndexOutOfBoundsException`).\n",
    "\n",
    "How do we print the array? Directly printing the array will not work, it just prints the value of the array in memory. We need to iterate through the array and print each value individually!"
   ]
  },
  {
   "cell_type": "code",
   "execution_count": 1,
   "metadata": {
    "vscode": {
     "languageId": "java"
    }
   },
   "outputs": [
    {
     "name": "stdout",
     "output_type": "stream",
     "text": [
      "Error at listOne[5] = 13\n",
      "java.lang.ArrayIndexOutOfBoundsException: Index 5 out of bounds for length 5\n",
      "[I@c0d29\n",
      "0\n"
     ]
    }
   ],
   "source": [
    "/* lets take a look at the above */\n",
    "\n",
    "int [] listOne = new int[5]; // Our list looks like [0, 0, 0, 0, 0]\n",
    "\n",
    "listOne[2] = 33; // Our list looks like [0, 0, 33, 0, 0]\n",
    "listOne[3] = listOne[2] * 3; // Our list looks like [0, 0, 33, 99, 0]\n",
    "\n",
    "try {\n",
    "    listOne[5] = 13; // This will return an error\n",
    "} catch (Exception e) {\n",
    "    System.out.println(\"Error at listOne[5] = 13\");\n",
    "    System.out.println(e);\n",
    "}\n",
    "\n",
    "\n",
    "System.out.println(listOne); // THIS DOES NOT PRINT THE LIST!! It prints the value in memory\n",
    "System.out.println(listOne[4]); // This will actually print the vaules in the array"
   ]
  },
  {
   "cell_type": "markdown",
   "metadata": {},
   "source": [
    "## Popcorn Hacks!\n",
    "\n",
    "Write code to print out every element of listOne the following"
   ]
  },
  {
   "cell_type": "code",
   "execution_count": 3,
   "metadata": {
    "vscode": {
     "languageId": "java"
    }
   },
   "outputs": [
    {
     "name": "stdout",
     "output_type": "stream",
     "text": [
      "0 0 33 99 0 "
     ]
    }
   ],
   "source": [
    "/* popcorn hacks go here */\n",
    "for (int i = 0; i < listOne.length; i++) {\n",
    "    System.out.print(listOne[i] + \" \");\n",
    "}"
   ]
  },
  {
   "cell_type": "markdown",
   "metadata": {},
   "source": [
    "## Reference elements\n",
    "\n",
    "Lists can be made up of elements other than the default data types! We can make lists of objects, or even lists of lists! Lets say I have a class `Student` and I want to make a list of all students in the class. I can do this by creating a list of `Student` objects.\n",
    "\n",
    "```\n",
    "Student [] classList;\n",
    "classList new Student [3];\n",
    "```\n",
    "\n",
    "Keep in mind, however, that the list won't be generated with any students in it. They are initialized to `null` by default, and We need to create the students and then add them to the list ourselves.\n",
    "\n",
    "```\n",
    "classList[0] = new Student(\"Bob\", 12, 3.5);\n",
    "classList[1] = new Student(\"John\", 11, 4.0);\n",
    "classList[2] = new Student(\"Steve\", 10, 3.75);\n",
    "```"
   ]
  },
  {
   "cell_type": "markdown",
   "metadata": {},
   "source": [
    "## Popcorn hacks!\n",
    "\n",
    "Use a class that you have already created and create a list of objects of that class. Then, iterate through the list and print out each object using:\n",
    " 1) a for loop\n",
    " 2) a while loop"
   ]
  },
  {
   "cell_type": "code",
   "execution_count": 16,
   "metadata": {
    "vscode": {
     "languageId": "java"
    }
   },
   "outputs": [
    {
     "name": "stdout",
     "output_type": "stream",
     "text": [
      "REPL.$JShell$22E$Car@4574051 REPL.$JShell$22E$Car@a90aeab \n",
      "REPL.$JShell$22E$Car@4574051 REPL.$JShell$22E$Car@a90aeab "
     ]
    }
   ],
   "source": [
    "/* Popcorn hacks go here */\n",
    "public class Car {\n",
    "    public String name;\n",
    "    public String model;\n",
    "    public String license;\n",
    "    public int mileage;\n",
    "    public Car() {\n",
    "        this.name = \"N/A\";\n",
    "        this.model = \"N/A\";\n",
    "        this.license = \"0000000\";\n",
    "        this.mileage = 0;\n",
    "    }\n",
    "    \n",
    "    public Car(String name, String model, String license, int mileage) {\n",
    "        this.name = name;\n",
    "        this.model = model;\n",
    "        this.license = license;\n",
    "        this.mileage = mileage;\n",
    "    }\n",
    "}\n",
    "\n",
    "Car [] carsList = new Car[2]; \n",
    "carsList[0] = new Car();\n",
    "carsList[1] = new Car(\"Tesla\", \"3\", \"Q739SJF\", 19000);\n",
    "\n",
    "for (int i = 0; i < carsList.length; i++) {\n",
    "    System.out.print(carsList[i] + \" \");\n",
    "}\n",
    "System.out.print(\"\\n\");\n",
    "int i = 0;\n",
    "while (i < carsList.length) {\n",
    "    System.out.print(carsList[i] + \" \");\n",
    "    i++;\n",
    "}"
   ]
  },
  {
   "cell_type": "markdown",
   "metadata": {},
   "source": [
    "## Enhanced for loops\n",
    "\n",
    "The enhanced `for` loop is also called a for-each loop. Unlike a \"traditional\" indexed `for` loop with three parts separated by semicolons, there are only two parts to the enhanced `for` loop header and they are separated by a colon.\n",
    "\n",
    "The first half of an enhanced `for` loop signature is the type of name for the variable that is a copy of the value stored in the structure. Next a colon separates the variable section from the data structure being traversed with the loop.\n",
    "\n",
    "Inside the body of the loop you are able to access the value stored in the variable. A key point to remember is that you are unable to assign into the variable defined in the header (the signature)\n",
    "\n",
    "You also do not have access to the indices of the array or subscript notation when using the enhanced `for` loop.\n",
    "\n",
    "These loops have a structure similar to the one shown below:\n",
    "\n",
    "```js\n",
    "for (type declaration : structure )\n",
    "{\n",
    "    // statement one;\n",
    "    // statement two;\n",
    "    // ...\n",
    "}\n",
    "```\n",
    "\n",
    "## Popcorn Hacks!\n",
    "\n",
    "Create an array, then use a enhanced for loop to print out each element of the array."
   ]
  },
  {
   "cell_type": "code",
   "execution_count": 20,
   "metadata": {
    "vscode": {
     "languageId": "java"
    }
   },
   "outputs": [
    {
     "name": "stdout",
     "output_type": "stream",
     "text": [
      "1 2 3 4 5 "
     ]
    }
   ],
   "source": [
    "/* Popcorn hacks go here */\n",
    "int [] nums = {1,2,3,4,5};\n",
    "for (int num : nums) {\n",
    "    System.out.print(num + \" \");\n",
    "}"
   ]
  },
  {
   "cell_type": "markdown",
   "metadata": {},
   "source": [
    "## Min maxing\n",
    "\n",
    "It is a common task to determine what the largest or smallest value stored is inside an array. in order to do this, we need a method that can ake a parameter of an array of primitive values (`int` or `double`) and return the item that is at the appropriate extreme.\n",
    "\n",
    "Inside the method of a local variable is needed to store the current max of min value that will be compared against all the values in the array. you can assign the current value to be either the opposite extreme or the first item you would be looking at.\n",
    "\n",
    "You can use either a standard `for` loop or an enhanced `for` loop to determine the max or min. Assign the temporary variable a starting value based on what extreme you are searching for.\n",
    "\n",
    "Inside the `for` loop, compare the current value against the local variable, if the current value is better, assign it to the temporary variable. When the loop is over, the local variable will contain the approximate value and is still available and within scope and can be returned from the method.\n",
    "\n",
    "## Popcorn Hacks!\n",
    "Create two lists: one of ints and one of doubles. Use both a standard for loop and an enhanced for loop to find the max and min of each list."
   ]
  },
  {
   "cell_type": "code",
   "execution_count": 26,
   "metadata": {
    "vscode": {
     "languageId": "java"
    }
   },
   "outputs": [
    {
     "name": "stdout",
     "output_type": "stream",
     "text": [
      "Int MAX: 5\n",
      "Int MIN: 1\n",
      "Int MAX: 5\n",
      "Int MIN: 1\n",
      "Double MAX: 9.1\n",
      "Double MIN: 2.8\n",
      "Double MAX: 9.1\n",
      "Double MIN: 2.8\n"
     ]
    }
   ],
   "source": [
    "/* Popcorn hacks go here! */\n",
    "int [] intList = {1,2,3,4,5,4,3,2,1};\n",
    "double [] doubleList = {1.4,2.5,2.6,6.3,2.8,9.1};\n",
    "\n",
    "int intmax=Integer.MAX_VALUE+1; int intmin = Integer.MAX_VALUE; double doublemax = -1 * Double.MAX_VALUE; double doublemin = Double.MAX_VALUE;\n",
    "\n",
    "for (int i = 0; i < intList.length; i++) {\n",
    "    if (intList[i] > intmax) {\n",
    "        intmax = intList[i];\n",
    "    } else if (intList[i] < intmin) {\n",
    "        intmin = intList[i];\n",
    "    }\n",
    "}\n",
    "System.out.println(\"Int MAX: \" + intmax); System.out.println(\"Int MIN: \" + intmin); int intmax=Integer.MAX_VALUE+1; int intmin = Integer.MAX_VALUE;\n",
    "\n",
    "for (int i : intList) {\n",
    "    if (i > intmax) {\n",
    "        intmax = i;\n",
    "    } else if (i < intmin) {\n",
    "        intmin = i;\n",
    "    }\n",
    "}\n",
    "\n",
    "System.out.println(\"Int MAX: \" + intmax); System.out.println(\"Int MIN: \" + intmin);\n",
    "\n",
    "for (int i = 0; i < doubleList.length; i++) {\n",
    "    if (doubleList[i] > doublemax) {\n",
    "        doublemax = doubleList[i];\n",
    "    } else if (doubleList[i] < doublemin) {\n",
    "        doublemin = doubleList[i];\n",
    "    }\n",
    "}\n",
    "System.out.println(\"Double MAX: \" + doublemax); System.out.println(\"Double MIN: \" + doublemin); double doublemax = -1 * Double.MAX_VALUE; double doublemin = Double.MAX_VALUE;\n",
    "\n",
    "for (double i : doubleList) {\n",
    "    if (i > doublemax) {\n",
    "        doublemax = i;\n",
    "    } else if (i < doublemin) {\n",
    "        doublemin = i;\n",
    "    }\n",
    "}\n",
    "\n",
    "##System.out.println(\"Double MAX: \" + doublemax); System.out.println(\"Double MIN: \" + doublemin);"
   ]
  },
  {
   "cell_type": "markdown",
   "metadata": {},
   "source": [
    "## Hacks\n",
    "Given an input of N integers, find A, the maximum, B, the minimum, and C the median.\n",
    "\n",
    "Print the following in this order: A + B + C A - B - C (A + B) * C\n",
    "\n",
    "Sample data:\n",
    "\n",
    "INPUT:\n",
    "5\n",
    "1 2 3 4 5\n",
    "\n",
    "OUTPUT:\n",
    "9 1 18\n",
    "\n",
    "INPUT:\n",
    "9\n",
    "2 4 6 8 10 10 12 14 16\n",
    "\n",
    "OUTPUT:\n",
    "28 6 180"
   ]
  },
  {
   "cell_type": "code",
   "execution_count": 20,
   "metadata": {
    "vscode": {
     "languageId": "java"
    }
   },
   "outputs": [
    {
     "name": "stdout",
     "output_type": "stream",
     "text": [
      "Max: 5 Median: 3 Min: 1\n",
      "9 1 18\n",
      "Max: 16 Median: 10 Min: 2\n",
      "28 4 180\n"
     ]
    }
   ],
   "source": [
    "import java.util.Arrays;\n",
    "\n",
    "public class Main {\n",
    "    public static void hack1(int N, int[] nums) {\n",
    "        Arrays.sort(nums);\n",
    "        int min = nums[0];\n",
    "        int max = nums[N - 1];\n",
    "        int median;\n",
    "        if (N % 2 == 0) {\n",
    "            median = (nums[N / 2 - 1] + nums[N / 2]) / 2;\n",
    "        } else {\n",
    "            median = nums[N / 2];\n",
    "        }\n",
    "        System.out.print(\"Max: \"+ max +\" Median: \" + median + \" Min: \" + min + \"\\n\");\n",
    "        System.out.print((min + max + median) + \" \" + (max - min - median) + \" \" + (max + min) * median + \"\\n\");\n",
    "    }\n",
    "\n",
    "    public static void main(String[] args) {\n",
    "\n",
    "        // Test the hack\n",
    "        int[] nums1 = {1, 2, 3, 4, 5};\n",
    "        hack1(nums1.length, nums1);\n",
    "        \n",
    "        int[] nums2 = {2, 4, 6, 8, 10, 10, 12, 14, 16};\n",
    "        hack1(nums2.length, nums2);\n",
    "    }\n",
    "}\n",
    "\n",
    "Main.main(null);"
   ]
  },
  {
   "cell_type": "code",
   "execution_count": 26,
   "metadata": {
    "vscode": {
     "languageId": "java"
    }
   },
   "outputs": [
    {
     "name": "stdout",
     "output_type": "stream",
     "text": [
      "13\n",
      "6765\n"
     ]
    }
   ],
   "source": [
    "// Find the N-th fibonacci num\n",
    "public class Main {\n",
    "    public static int hackFibo(int N) {\n",
    "        int[] fibo = new int[N];\n",
    "        fibo[0] = 1;\n",
    "        fibo[1] = 1;\n",
    "        for (int i = 2; i < N; i++) {\n",
    "            fibo[i] = fibo[i-1] + fibo[i-2];\n",
    "        }\n",
    "        return fibo[N-1];\n",
    "    }\n",
    "    public static void main(String[] args) {\n",
    "\n",
    "        // Test the hack\n",
    "        System.out.println(hackFibo(7));\n",
    "        System.out.println(hackFibo(20));\n",
    "    }\n",
    "}\n",
    "\n",
    "Main.main(null);"
   ]
  },
  {
   "cell_type": "code",
   "execution_count": null,
   "metadata": {
    "vscode": {
     "languageId": "java"
    }
   },
   "outputs": [],
   "source": []
  }
 ],
 "metadata": {
  "kernelspec": {
   "display_name": "java",
   "language": "java",
   "name": "java"
  },
  "language_info": {
   "codemirror_mode": "java",
   "file_extension": ".jshell",
   "mimetype": "text/x-java-source",
   "name": "Java",
   "pygments_lexer": "java",
   "version": "11.0.20.1+1-post-Ubuntu-0ubuntu120.04"
  },
  "orig_nbformat": 4
 },
 "nbformat": 4,
 "nbformat_minor": 2
}
