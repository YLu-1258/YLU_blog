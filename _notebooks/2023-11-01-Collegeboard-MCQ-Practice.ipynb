{
 "cells": [
  {
   "cell_type": "markdown",
   "metadata": {},
   "source": [
    "---\n",
    "- title: 2014 Practice Exam MCQ\n",
    "- author: alex\n",
    "- badges: true\n",
    "- comments: true\n",
    "- categories: [collegeboard, MCQ]\n",
    "- date: 2023-10-22 06:05:00 -0800\n",
    "- tags: [MCQ, collegeboard, APPREP]\n",
    "- week: 11\n",
    "- render_with_liquid: false\n",
    "- type: hacks\n",
    "---"
   ]
  },
  {
   "cell_type": "markdown",
   "metadata": {},
   "source": [
    "## Q12 mystery method with substrings\n",
    "\n",
    "![Q12]({{site.baseurl}}/assets/img/2014_MC/Q12.png)  \n",
    "\n",
    "For this question, I had incorrectly thought that the program wouldn't compile because I didn't understand the substring method. I thought that the substring method's end index marked the last character that it would return from the string, but really, the last character grabbed by substring is `end_indice-1`, which would be within the bounds of the string. The correct answer should've been C."
   ]
  },
  {
   "cell_type": "code",
   "execution_count": 3,
   "metadata": {
    "vscode": {
     "languageId": "java"
    }
   },
   "outputs": [
    {
     "data": {
      "text/plain": [
       "optr"
      ]
     },
     "execution_count": 3,
     "metadata": {},
     "output_type": "execute_result"
    }
   ],
   "source": [
    "public String mystery(String input) {\n",
    "    String output = \"\";\n",
    "    for (int k = 1; k < input.length(); k = k+2) {\n",
    "        output += input.substring(k, k+1);\n",
    "    }\n",
    "    return output;\n",
    "}\n",
    "\n",
    "mystery(\"computer\");"
   ]
  },
  {
   "cell_type": "markdown",
   "metadata": {},
   "source": [
    "# Q18 Generate random index for ArrayList\n",
    "![Q12]({{site.baseurl}}/assets/img/2014_MC/Q18.png)  \n",
    "In this question, I had confused the range of the random function. The random function will generate any value from 0 to 1, including 0 but excluding one. Multiplying this by the array size, and casting it to an integer primative ensures that the resutling index is within 0 to myList.size() - 1. `(int) (Math.Random()*myList.size())` would've been sufficient. "
   ]
  },
  {
   "cell_type": "markdown",
   "metadata": {},
   "source": [
    "# Q25 RBox interfaces\n",
    "![Q25]({{site.baseurl}}/assets/img/2014_MC/Q25.png)  \n",
    "In this question, I just had bad geometry. I failed to consider for the edge case where a rectangular box could have greater volume and surface area than another one, but not fit the other if even a single one of its dimensions were smaller. The collegeboard response provided such a scenario."
   ]
  },
  {
   "cell_type": "markdown",
   "metadata": {},
   "source": [
    "# Q30 RBox interfaces\n",
    "![Q30]({{site.baseurl}}/assets/img/2014_MC/Q30.png)  \n",
    "In this question, I had misread the code that was provided. The first substring begins at `howFar+1` which would be the 4th index, starting with \"o\" instead of \"p\". The right answer should've been \"ilercom\", and the second substring would end at `howFar-1`, which would be the second index at \"m\"."
   ]
  },
  {
   "cell_type": "code",
   "execution_count": 6,
   "metadata": {
    "vscode": {
     "languageId": "java"
    }
   },
   "outputs": [
    {
     "data": {
      "text/plain": [
       "ilercom"
      ]
     },
     "execution_count": 6,
     "metadata": {},
     "output_type": "execute_result"
    }
   ],
   "source": [
    "public String scramble(String word, int howFar) {\n",
    "    return word.substring(howFar + 1, word.length()) + word.substring(0, howFar);\n",
    "}\n",
    "\n",
    "scramble(\"compiler\", 3)"
   ]
  },
  {
   "cell_type": "markdown",
   "metadata": {},
   "source": [
    "# Q32 compute method with parameters n and k\n",
    "![Q32]({{site.baseurl}}/assets/img/2014_MC/Q32.png)  \n",
    "In this question, I had misread the code that was provided. I had thought the code within the loop said `answer*=i` but instead it says `answer*=n`. This is equivalent to $n^k$ not $n!$"
   ]
  },
  {
   "cell_type": "markdown",
   "metadata": {},
   "source": [
    "# Q39 recur method with int parameter\n",
    "![Q39]({{site.baseurl}}/assets/img/2014_MC/Q39.png)  \n",
    "In this question, I had incorrectly traced the recursion to get to the right answer. The actual process would've been as follows:  \n",
    "\n",
    "recur(27) --> recur(recur(9)) --> recur(18) --> recur(recur(6)) --> recur(12) --> recur(recur(4)) --> recur(8) --> 16"
   ]
  },
  {
   "cell_type": "markdown",
   "metadata": {},
   "source": [
    "# Overall reflections\n",
    "\n",
    "Overall, I believe I did pretty good with the collegeboard MCQ. I was able to correctly answer most of the questions, and the problems that I got wrong were largely just silly mistakes, instead of conceptual ones."
   ]
  }
 ],
 "metadata": {
  "kernelspec": {
   "display_name": "java",
   "language": "java",
   "name": "java"
  },
  "language_info": {
   "codemirror_mode": "java",
   "file_extension": ".jshell",
   "mimetype": "text/x-java-source",
   "name": "Java",
   "pygments_lexer": "java",
   "version": "11.0.20.1+1-post-Ubuntu-0ubuntu120.04"
  }
 },
 "nbformat": 4,
 "nbformat_minor": 2
}
