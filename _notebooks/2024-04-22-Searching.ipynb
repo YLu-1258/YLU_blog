{
 "cells": [
  {
   "cell_type": "markdown",
   "metadata": {},
   "source": [
    "---\n",
    "toc: true \n",
    "comments: true \n",
    "layout: post \n",
    "title: Searching Lesson\n",
    "author: Finn C, Theo H, Grace W, Emma S\n",
    "type: hacks \n",
    "courses: { csse: {week: 1}, csp: {week: 1, categories: [4.A]}, csa: {week: 0}, labnotebook: {week: 3} } \n",
    "---"
   ]
  },
  {
   "cell_type": "markdown",
   "metadata": {},
   "source": [
    "# 7.5 Searching\n",
    "\n",
    "## What does college board want you to know\n",
    "- Differences in searching using arrayList and arrays\n",
    "- Types of searches: sequential (linear) and binary\n",
    "- Searching for a double vs int vs object\n",
    "\n",
    "<br>"
   ]
  },
  {
   "cell_type": "markdown",
   "metadata": {},
   "source": [
    "## Differences Reminder\n",
    "- Answer all the question, they are popcorn hacks\n",
    "\n",
    "### Arrays\n",
    "- Query looks like array[index]\n",
    "- array.length\n",
    "- ``int[] array = new int[];``\n",
    "\n",
    "\n",
    "### arrayList\n",
    "- Query looks like arrayList.get(index)\n",
    "- arrayList.size()\n",
    "- ``ArrayList<Integer> arrayList = new ArrayList<Integer>();``\n",
    "\n",
    "### Question 1\n",
    "![question1](https://raw.githubusercontent.com/Codemaxxers/codemaxxerblog/main/images/question1.png)\n"
   ]
  },
  {
   "cell_type": "code",
   "execution_count": null,
   "metadata": {
    "vscode": {
     "languageId": "java"
    }
   },
   "outputs": [],
   "source": [
    "// Write the answer here"
   ]
  },
  {
   "cell_type": "markdown",
   "metadata": {},
   "source": [
    "### Question 2\n",
    "![question2](https://raw.githubusercontent.com/Codemaxxers/codemaxxerblog/main/images/question2.png)"
   ]
  },
  {
   "cell_type": "code",
   "execution_count": null,
   "metadata": {
    "vscode": {
     "languageId": "java"
    }
   },
   "outputs": [],
   "source": [
    "// Write the answer here"
   ]
  },
  {
   "cell_type": "markdown",
   "metadata": {},
   "source": [
    "## Searching for a double vs int vs object\n",
    "\n",
    "1. **Data Type Basics**:\n",
    "   - `double` is used for decimal numbers (like 3.14 or 10.5).\n",
    "   - `int` is for whole numbers (like 5 or -10).\n",
    "   - `Object` is a generic type that can hold any kind of data.\n",
    "\n",
    "2. **Comparing Values**:\n",
    "   - With `double` and `int`, searching algorithms can directly compare values using simple checks like \"Is this number greater than that number?\"\n",
    "   - With `Object`, the comparison might involve more steps, like checking specific properties of the objects.\n",
    "\n",
    "3. **Performance Considerations**:\n",
    "   - `double` and `int` use less memory and have simpler comparison logic, which can make searching faster.\n",
    "   - `Object` might be slower due to the need for more complex comparison logic and potentially larger memory usage.\n",
    "\n",
    "4. **Handling Null Values**:\n",
    "   - With `Object`, you need to handle cases where the data is null (empty) to avoid errors during searching.\n",
    "\n",
    "5. **Binary Search Advantage**:\n",
    "   - Binary search works best on sorted data, and with `double` and `int`, the sorting and comparison are straightforward.\n",
    "   - With `Object`, sorting and comparison might require more effort, especially for custom data types."
   ]
  },
  {
   "cell_type": "markdown",
   "metadata": {},
   "source": [
    "![gif](https://raw.githubusercontent.com/Codemaxxers/codemaxxerblog/main/images/search.gif)"
   ]
  },
  {
   "cell_type": "markdown",
   "metadata": {},
   "source": [
    "## What is Linear Search?\n",
    "\n",
    "Linear or Sequential Search is a simple searching algorithm that checks each element in a list one by one until it finds a match or reaches the end of the list.\n",
    "\n",
    "- usually used when there is no specific order or structure to the data\n",
    "- O(n), where n is the number of elements in the array\n",
    "\n",
    "Return the position of key in arr or -1 if key is not in arr.\n",
    "\n",
    "Return true if key is in arr; otherwise, return false."
   ]
  },
  {
   "cell_type": "code",
   "execution_count": 5,
   "metadata": {
    "vscode": {
     "languageId": "java"
    }
   },
   "outputs": [],
   "source": [
    "import java.util.ArrayList;\n",
    "\n",
    "public class LinearSearch {\n",
    "\n",
    "    // Iterative implementation for ArrayList<String>\n",
    "    public static int iterativeLinearSearch(ArrayList<String> list, String target) {\n",
    "        // Start from the first element of the list\n",
    "        for (int i = 0; i < list.size(); i++) {\n",
    "\n",
    "            // Compare each element with the target element until a match is found or the end of the list is reached\n",
    "            if (list.get(i).equals(target)) {\n",
    "                return i; // Element found at index i\n",
    "            }\n",
    "        }\n",
    "        return -1; // Element not found\n",
    "    }\n",
    "\n",
    "    // Recursive implementation for ArrayList<String>\n",
    "    private static int search(ArrayList<String> list, String target, int startIndex) {\n",
    "        // Check if the startIndex is greater than or equal to the size of the list\n",
    "        if (startIndex >= list.size())\n",
    "            // If startIndex is out of bounds, return -1 -> target not found\n",
    "            return -1;\n",
    "    \n",
    "        // Check if the string at the startIndex position in the list is equal to the target string\n",
    "        if (list.get(startIndex).equals(target))\n",
    "            // If the target string is found at startIndex, return the index\n",
    "            return startIndex;\n",
    "    \n",
    "        // If the target string is not found at startIndex, recursively call the search method\n",
    "        // with the incremented startIndex to continue searching in the rest of the list\n",
    "        return search(list, target, startIndex + 1);\n",
    "    }\n",
    "\n",
    "\n",
    "    public static void example1(String[] args) {\n",
    "        ArrayList<String> namesList = new ArrayList<>(Arrays.asList(\"Grace\", \"Emma\", \"Finn\", \"Theo\", \"Rachit\", \"Tanisha\", \"Vivian\", \"Aliya\", \"Justin\"));\n",
    "\n",
    "        int index = LinearSearch.iterativeLinearSearch(namesList, \"Emma\");\n",
    "        if (index != -1) {\n",
    "            System.out.println(\"Element found at index: \" + index);\n",
    "        } else {\n",
    "            System.out.println(\"Element not found\");\n",
    "        }\n",
    "    }\n",
    "\n",
    "    public static void example2(String[] args) {\n",
    "        ArrayList<String> namesList = new ArrayList<>(Arrays.asList(\"Grace\", \"Emma\", \"Finn\", \"Theo\", \"Rachit\", \"Tanisha\", \"Vivian\", \"Aliya\", \"Justin\"));\n",
    "\n",
    "        int index = LinearSearch.recursiveLinearSearch(namesList, \"Vivian\");\n",
    "        if (index != -1) {\n",
    "            System.out.println(\"Element found at index: \" + index);\n",
    "        } else {\n",
    "            System.out.println(\"Element not found\");\n",
    "        }\n",
    "    }\n",
    "}\n"
   ]
  },
  {
   "cell_type": "code",
   "execution_count": 6,
   "metadata": {
    "vscode": {
     "languageId": "java"
    }
   },
   "outputs": [
    {
     "name": "stdout",
     "output_type": "stream",
     "text": [
      "Element found at index: 1\n"
     ]
    }
   ],
   "source": [
    "// Example with Iterative Implementation\n",
    "LinearSearch.example1(null);"
   ]
  },
  {
   "cell_type": "code",
   "execution_count": 7,
   "metadata": {
    "vscode": {
     "languageId": "java"
    }
   },
   "outputs": [
    {
     "name": "stdout",
     "output_type": "stream",
     "text": [
      "Element found at index: 6\n"
     ]
    }
   ],
   "source": [
    "// Example with Recursive Implementation\n",
    "LinearSearch.example2(null);"
   ]
  },
  {
   "cell_type": "markdown",
   "metadata": {},
   "source": [
    "## Popcorn Hack\n",
    "1. Implement linear search for an array list of integers"
   ]
  },
  {
   "cell_type": "markdown",
   "metadata": {},
   "source": [
    "2. When is it preferred to use linear search over binary search?\n",
    "\n",
    "(answer here)"
   ]
  },
  {
   "cell_type": "markdown",
   "metadata": {},
   "source": [
    "<h2> Recursive algorithms </h2>\n",
    "\n",
    "- a method that calls upon itself\n",
    "- has a \"base case\" that is a conditional statement that skips the recursive call so algorithm stops at certain point \n",
    "\n",
    "<img src=\"https://i.imgur.com/Su3D1Cc.png\" alt=\"recursive\" width=\"600\"/>"
   ]
  },
  {
   "cell_type": "markdown",
   "metadata": {},
   "source": [
    "- useful when solving problems that can be broken down into smaller, repetitive problems \n",
    "\n",
    "<h4> Popcorn Hack </h4>\n",
    "\n",
    "What are some examples of algorithms that would be useful to have recursion? "
   ]
  },
  {
   "cell_type": "markdown",
   "metadata": {},
   "source": [
    "<h2> Binary Search </h2>\n",
    "\n",
    "- finds the index of an element of a <b>SORTED</b> array \n",
    "- why use it? can be faster than linear search which has O(n) complexity while binary has O(log N)\n",
    "- how it works simply: (Divide and Conquer method 💪)\n",
    "\n",
    "1. Start in the middle --> see if that number is lower or higher than the desired number\n",
    "\n",
    "    a. if lower than disregard upper half section and only look at lower section\n",
    "\n",
    "    b. if higher than disregard lower half and only look at upper section \n",
    "\n",
    "2. Find middle of that lower/higher section (those sections don’t include the original middle number) \n",
    "\n",
    "    a. if even number of numbers in that section, you can specify in algorithm whether want to use lower or higher number\n",
    "    \n",
    "3. Keep repeating process until find number \n",
    "\n",
    "    a. if desired number trying to find is not in the list → high and low are swapped incorrectly → return -1 \n"
   ]
  },
  {
   "cell_type": "markdown",
   "metadata": {},
   "source": [
    "<h4>Simple example </h4>\n"
   ]
  },
  {
   "cell_type": "code",
   "execution_count": 3,
   "metadata": {
    "vscode": {
     "languageId": "java"
    }
   },
   "outputs": [
    {
     "name": "stdout",
     "output_type": "stream",
     "text": [
      "Found it at index 5\n"
     ]
    }
   ],
   "source": [
    "public class BinarySearch {\n",
    "    static char[] arr = {'a', 'b', 'c', 'd', 'e', 'f', 'g', 'h'};\n",
    "\n",
    "    public static String findMe(char target, int start, int end) {\n",
    "        if (start > end) {\n",
    "            return \"Not Found\";\n",
    "        }\n",
    "\n",
    "        // find middle number - java integer division automatically truncates\n",
    "        int middle = (start + end) / 2;\n",
    "\n",
    "        if (arr[middle] == target) {\n",
    "            return \"Found it at index \" + middle;\n",
    "        }\n",
    "\n",
    "        // recursion spotted - search lower section\n",
    "        if (arr[middle] > target) {\n",
    "            return findMe(target, start, middle - 1);\n",
    "        } \n",
    "\n",
    "        // recursion spotted part 2 - search higher section\n",
    "        if (arr[middle] < target) {\n",
    "            return findMe(target, middle + 1, end);\n",
    "        }\n",
    "        \n",
    "        return \"Not Found\";\n",
    "    }\n",
    "\n",
    "    public static void main(String[] args) {\n",
    "        char target = 'f';\n",
    "        int start = 0;\n",
    "        int end = arr.length - 1;\n",
    "        System.out.println(findMe(target, start, end));\n",
    "    }\n",
    "}\n",
    "BinarySearch.main(null);"
   ]
  },
  {
   "cell_type": "markdown",
   "metadata": {},
   "source": [
    "<h4> Popcorn Hack </h4>\n",
    "\n",
    "What iteration did it find f?"
   ]
  },
  {
   "cell_type": "markdown",
   "metadata": {},
   "source": [
    "## Hashmap searching\n",
    "\n",
    "### Introduction to HashMap:\n",
    "1. HashMap is a data structure that stores key-value pairs.\n",
    "2. Keys are hashed to determine their storage location in the map.\n",
    "3. Java's HashMap provides O(1) time complexity for get() and put() operations.\n",
    "4. No keys can be the same, or else the old data is lost, and is replaced by the new one"
   ]
  },
  {
   "cell_type": "code",
   "execution_count": 2,
   "metadata": {
    "vscode": {
     "languageId": "java"
    }
   },
   "outputs": [
    {
     "name": "stdout",
     "output_type": "stream",
     "text": [
      "Alice's score is: 80\n"
     ]
    }
   ],
   "source": [
    "import java.util.HashMap;\n",
    "\n",
    "public class HashMapSearching {\n",
    "    public static void main(String[] args) {\n",
    "        // Create a HashMap of students and their scores\n",
    "        // Declaring the HashMap with <String, Integer> type\n",
    "        HashMap<String, Integer> scores = new HashMap<>();\n",
    "        scores.put(\"Alice\", 85);\n",
    "        scores.put(\"Bob\", 90);\n",
    "        scores.put(\"Charlie\", 95);\n",
    "        scores.put(\"Alice\", 80);\n",
    "\n",
    "        // Search for a student\n",
    "        String name = \"Alice\";\n",
    "\n",
    "        // containsKey() method is used to check if the key is present in the HashMap\n",
    "        if (scores.containsKey(name)) {\n",
    "            int score = scores.get(name);\n",
    "            System.out.println(name + \"'s score is: \" + score);\n",
    "        } else {\n",
    "            System.out.println(name + \" not found in the records.\");\n",
    "        }\n",
    "    }\n",
    "}\n",
    "\n",
    "HashMapSearching.main(null);\n"
   ]
  },
  {
   "cell_type": "markdown",
   "metadata": {},
   "source": [
    "## Hashmaps with objects\n",
    "- What is an Abstract Class Review\n",
    "    * Abstract classes can't be made into objects\n",
    "    * They enforce a structure for the subclasses generated by it\n",
    "\n",
    "### Hacks for this part\n",
    "1. Create a method to delete data based off the key"
   ]
  },
  {
   "cell_type": "code",
   "execution_count": 10,
   "metadata": {
    "vscode": {
     "languageId": "java"
    }
   },
   "outputs": [
    {
     "name": "stdout",
     "output_type": "stream",
     "text": [
      "Ferrari: 2021 Ferrari F8 Tributo\n",
      "Porsche: 2021 Porsche 911 Turbo S\n",
      "Lambo: 2021 Lamborghini Aventador\n",
      "McLaren: 2021 McLaren 720S\n"
     ]
    }
   ],
   "source": [
    "import java.util.HashMap;\n",
    "\n",
    "public abstract class Collectable implements Comparable <Collectable> {\n",
    "\tpublic final String masterType = \"Collectable\";\n",
    "\tprivate String type;\t// extender should define their data type\n",
    "\n",
    "\t// enumerated interface\n",
    "\tpublic interface KeyTypes {\n",
    "\t\tString name();\n",
    "\t}\n",
    "    \n",
    "\tprotected abstract KeyTypes getKey();  \t// this method helps force usage of KeyTypes\n",
    "\n",
    "\t// getter\n",
    "\tpublic String getMasterType() {\n",
    "\t\treturn masterType;\n",
    "\t}\n",
    "\n",
    "\t// getter\n",
    "\tpublic String getType() {\n",
    "\t\treturn type;\n",
    "\t}\n",
    "\n",
    "\t// setter\n",
    "\tpublic void setType(String type) {\n",
    "\t\tthis.type = type;\n",
    "\t}\n",
    "\t\n",
    "\t// this method is used to establish key order\n",
    "\tpublic abstract String toString();\n",
    "\n",
    "\t// this method is used to compare toString of objects\n",
    "\tpublic int compareTo(Collectable obj) {\n",
    "\t\treturn this.toString().compareTo(obj.toString());\n",
    "\t}\n",
    "\n",
    "\t// static print method used by extended classes\n",
    "\tpublic static void print(Collectable[] objs) {\n",
    "\t\t// print 'Object' properties\n",
    "\t\tSystem.out.println(objs.getClass() + \" \" + objs.length);\n",
    "\n",
    "\t\t// print 'Collectable' properties\n",
    "\t\tif (objs.length > 0) {\n",
    "\t\t\tCollectable obj = objs[0];\t// Look at properties of 1st element\n",
    "\t\t\tSystem.out.println(\n",
    "\t\t\t\t\tobj.getMasterType() + \": \" + \n",
    "\t\t\t\t\tobj.getType() +\n",
    "\t\t\t\t\t\" listed by \" +\n",
    "\t\t\t\t\tobj.getKey());\n",
    "\t\t}\n",
    "\n",
    "\t\t// print \"Collectable: Objects'\n",
    "\t\tfor(Object o : objs)\t// observe that type is Opaque\n",
    "\t\t\tSystem.out.println(o);\n",
    "\n",
    "\t\tSystem.out.println();\n",
    "\t}\n",
    "}\n",
    "\n",
    "public class Car extends Collectable {\n",
    "    private String make;\n",
    "    private String model;\n",
    "    private int year;\n",
    "\n",
    "    public Car(String make, String model, int year) {\n",
    "        this.make = make;\n",
    "        this.model = model;\n",
    "        this.year = year;\n",
    "    }\n",
    "\n",
    "\t@Override\n",
    "    protected KeyTypes getKey() {\n",
    "        return null; \n",
    "    }\n",
    "\n",
    "    public String getMake() {\n",
    "        return make;\n",
    "    }\n",
    "\n",
    "    public String getModel() {\n",
    "        return model;\n",
    "    }\n",
    "\n",
    "    public int getYear() {\n",
    "        return year;\n",
    "    }\n",
    "\n",
    "    public String toString() {\n",
    "        return year + \" \" + make + \" \" + model;\n",
    "    }\n",
    "}\n",
    "\n",
    "public class Garage {\n",
    "    private static HashMap<String, Car> garage = new HashMap<>();\n",
    "\n",
    "    public Garage() {\n",
    "        garage.put(\"Lambo\", new Car(\"Lamborghini\", \"Aventador\", 2021));\n",
    "        garage.put(\"Ferrari\", new Car(\"Ferrari\", \"F8 Tributo\", 2021));\n",
    "        garage.put(\"Porsche\", new Car(\"Porsche\", \"911 Turbo S\", 2021));\n",
    "        garage.put(\"McLaren\", new Car(\"McLaren\", \"720S\", 2021));\n",
    "    }\n",
    "\n",
    "    //print what's in my garage\n",
    "    public void printGarage() {\n",
    "        for (String key : garage.keySet()) {\n",
    "            System.out.println(key + \": \" + garage.get(key));\n",
    "        }\n",
    "    }\n",
    "\n",
    "    public static void main(String[] args) {\n",
    "        Garage myGarage = new Garage();\n",
    "        myGarage.printGarage();\n",
    "\n",
    "        // Removing a car from the garage tester code\n",
    "        // String key = \"Lambo\";\n",
    "        // Car car = garage.remove(key);\n",
    "        // if (car == null) {\n",
    "        //     System.out.println(key + \" not found\");\n",
    "        // } else {\n",
    "        //     System.out.println(\"Removed: \" + key + \", \" + car);\n",
    "        // }\n",
    "    }\n",
    "}\n",
    "\n",
    "Garage.main(null);"
   ]
  },
  {
   "cell_type": "markdown",
   "metadata": {},
   "source": [
    "# HACKS (you should be able to do with chatgpt)"
   ]
  },
  {
   "cell_type": "markdown",
   "metadata": {},
   "source": [
    "1. Is sequential/linear or binary more efficient? Why?\n",
    "2. Why might you not always be able to use binary search?\n",
    "3. Which of the following implements a method named contains for searching an array sequentially, confirming whether or not the array contains a requested element?\n"
   ]
  },
  {
   "cell_type": "markdown",
   "metadata": {},
   "source": [
    "![](https://raw.githubusercontent.com/Codemaxxers/codemaxxerblog/main/images/4isanswer.jpg)"
   ]
  },
  {
   "cell_type": "markdown",
   "metadata": {},
   "source": [
    "# Answer the comment in the code"
   ]
  },
  {
   "cell_type": "markdown",
   "metadata": {},
   "source": [
    "public static int foo(int[] arr, int x) {\n",
    "\n",
    "    for(int i = 0; i < arr.length; i++) {\n",
    "\n",
    "        if(arr[i] == x) {\n",
    "\n",
    "            return i;\n",
    "\n",
    "        }\n",
    "\n",
    "    }\n",
    "\n",
    "    return -1;\n",
    "\n",
    "}\n",
    "\n",
    "Given the method defined above, how many times is the word \"Indubitably!\" output by the code below?\n",
    "\n",
    "int[] vals = {1,4,51,3,14,91,130,14};\n",
    "\n",
    "for(int i = 0; i < 20; i++) {\n",
    "\n",
    "    if(foo(vals,i%4) < 0) {\n",
    "\n",
    "        System.out.println(\"Indubitably!\");\n",
    "\n",
    "    }\n",
    "\n",
    "}"
   ]
  },
  {
   "cell_type": "markdown",
   "metadata": {},
   "source": [
    "### Answer:"
   ]
  }
 ],
 "metadata": {
  "kernelspec": {
   "display_name": "Java",
   "language": "java",
   "name": "java"
  },
  "language_info": {
   "codemirror_mode": "java",
   "file_extension": ".jshell",
   "mimetype": "text/x-java-source",
   "name": "Java",
   "pygments_lexer": "java",
   "version": "20.0.2+9-78"
  }
 },
 "nbformat": 4,
 "nbformat_minor": 2
}
