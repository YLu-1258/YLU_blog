{
 "cells": [
  {
   "cell_type": "markdown",
   "metadata": {},
   "source": [
    "---\n",
    "- title: \"'CS61A: Trees'\"\n",
    "- author: alex\n",
    "- badges: true\n",
    "- comments: true\n",
    "- categories: [CS61A]\n",
    "- date: 2024-09-30 6:00:00 -0800\n",
    "- math: true\n",
    "- tags: [CS61A, tree]\n",
    "---"
   ]
  },
  {
   "cell_type": "markdown",
   "metadata": {},
   "source": [
    "# Trees\n",
    "- A data abstraction used for representing hierarchical relationships.\n",
    "    - Two different metaphors of a tree:\n",
    "        - **Recursive description (wooden trees)**: \n",
    "            - A tree possesses a root label and a list of branches.\n",
    "            - Each branch is a a tree, and also has a root label.\n",
    "            - A tree with zero branches is a leaf\n",
    "                - A leaf is also a tree\n",
    "        - **Relative description: (family trees)**: \n",
    "            - Each location in a tree is called a *node*.\n",
    "            - Each *node* has a *label* that can be any value.\n",
    "            - One node can be the *parent/child* of another.\n",
    "                - Ancestors, descendants, siblings, etc.\n",
    "- People often refer to labels by their locations: \"each parent is the sum of its children\"  \n",
    "![Tree Abstraction](/assets/img/CS61A/Trees/TreeDiagram.png)"
   ]
  },
  {
   "cell_type": "markdown",
   "metadata": {},
   "source": [
    "# Implementing the Tree Abstraction\n",
    "- A tree has a root label and a list of branches (this is for the constructor)\n",
    "    - Each branch is a tree"
   ]
  },
  {
   "cell_type": "code",
   "execution_count": 6,
   "metadata": {},
   "outputs": [],
   "source": [
    "def tree(label, branches=[]): # The default value of branches has nothing. So by default, we create a leaf of a tree\n",
    "    for branch in branches:\n",
    "        assert is_tree(branch) # Make sure that all branches are trees\n",
    "    return [label] + list(branches) # Ensure that any sequence of trees is converted into a list\n",
    "\n",
    "def label(tree):\n",
    "    return tree[0]\n",
    "\n",
    "def branches(tree):\n",
    "    return tree[1:]\n",
    "\n",
    "def is_tree(tree):\n",
    "    if type(tree) != list or len(tree) < 1:\n",
    "        return False\n",
    "    for branch in branches(tree):\n",
    "        if not is_tree(branch):\n",
    "            return False\n",
    "    return True\n",
    "\n",
    "def is_leaf(tree):\n",
    "    return not branches(tree)"
   ]
  },
  {
   "cell_type": "code",
   "execution_count": 4,
   "metadata": {},
   "outputs": [
    {
     "data": {
      "text/plain": [
       "[3, [1], [2, [1], [1]]]"
      ]
     },
     "execution_count": 4,
     "metadata": {},
     "output_type": "execute_result"
    }
   ],
   "source": [
    "from tree import tree\n",
    "tree(3, [tree(1), tree(2, [tree(1), tree(1)])])"
   ]
  },
  {
   "cell_type": "markdown",
   "metadata": {},
   "source": [
    "# Tree Processing\n",
    "- Any function that takes in a tree as an input or returns a tree is likely tree recursive as well.\n",
    "- Tree are typically generated programmatically, for instance, a fibonacci tree:\n"
   ]
  },
  {
   "cell_type": "code",
   "execution_count": 10,
   "metadata": {},
   "outputs": [
    {
     "data": {
      "text/plain": [
       "[3, [1, [0], [1]], [2, [1], [1, [0], [1]]]]"
      ]
     },
     "execution_count": 10,
     "metadata": {},
     "output_type": "execute_result"
    }
   ],
   "source": [
    "def fib_tree(n):\n",
    "    if n <= 1:\n",
    "        return tree(n)\n",
    "    left, right = fib_tree(n-2), fib_tree(n-1)\n",
    "    return tree(label(left) + label(right), [left, right])\n",
    "\n",
    "fib_tree(4)"
   ]
  },
  {
   "cell_type": "markdown",
   "metadata": {},
   "source": [
    "## Tree Processing Uses Recursion\n",
    "- In most tree processing functions, processing a leaf is the base case.\n",
    "    - Recursive case makes a recursive call on each branch, then aggregates the results."
   ]
  },
  {
   "cell_type": "code",
   "execution_count": 12,
   "metadata": {},
   "outputs": [
    {
     "data": {
      "text/plain": [
       "5"
      ]
     },
     "execution_count": 12,
     "metadata": {},
     "output_type": "execute_result"
    }
   ],
   "source": [
    "def count_leaves(t):\n",
    "    \"\"\"Count the leaves of a tree.\"\"\"\n",
    "    if is_leaf(t):\n",
    "        return 1\n",
    "    return sum([count_leaves(branch) for branch in branches(t)])\n",
    "\n",
    "count_leaves(fib_tree(4))"
   ]
  },
  {
   "cell_type": "markdown",
   "metadata": {},
   "source": [
    "## Discussion Question 1\n",
    "- Implement `leaves`, which returns a list of the leaf labels of a tree"
   ]
  },
  {
   "cell_type": "code",
   "execution_count": 36,
   "metadata": {},
   "outputs": [
    {
     "data": {
      "text/plain": [
       "[1, 0, 1, 0, 1, 1, 0, 1]"
      ]
     },
     "execution_count": 36,
     "metadata": {},
     "output_type": "execute_result"
    }
   ],
   "source": [
    "def leaves(tree):\n",
    "    if is_leaf(tree):\n",
    "        return [label(tree)]\n",
    "    return sum([leaves(branch) for branch in branches(tree)], [])\n",
    "\n",
    "leaves(fib_tree(5))"
   ]
  },
  {
   "cell_type": "markdown",
   "metadata": {},
   "source": [
    "## Creating Trees\n",
    "- A function that creates a tree from another tree is typically also recursive"
   ]
  },
  {
   "cell_type": "code",
   "execution_count": 39,
   "metadata": {},
   "outputs": [
    {
     "name": "stdout",
     "output_type": "stream",
     "text": [
      "[3, [1, [0], [1]], [2, [1], [1, [0], [1]]]]\n",
      "[3, [1, [1], [2]], [2, [2], [1, [1], [2]]]]\n"
     ]
    }
   ],
   "source": [
    "def increment_leaves(t):\n",
    "    \"\"\"Return a tree like t but with leaf labels incremented.\"\"\"\n",
    "    def helper(t):\n",
    "        if is_leaf(t):\n",
    "            return tree(label(t) + 1)\n",
    "        return tree(label(t), [helper(branch) for branch in branches(t)])\n",
    "    return helper(t)\n",
    "\n",
    "print(fib_tree(4))\n",
    "print(increment_leaves(fib_tree(4)))"
   ]
  },
  {
   "cell_type": "code",
   "execution_count": 40,
   "metadata": {},
   "outputs": [
    {
     "name": "stdout",
     "output_type": "stream",
     "text": [
      "[3, [1, [0], [1]], [2, [1], [1, [0], [1]]]]\n",
      "[4, [2, [1], [2]], [3, [2], [2, [1], [2]]]]\n"
     ]
    }
   ],
   "source": [
    "def increment(t):\n",
    "    \"\"\"Return a tree like t but with leaf labels incremented.\"\"\"\n",
    "    return tree(label(t) + 1, [increment(branch) for branch in branches(t)])\n",
    "\n",
    "print(fib_tree(4))\n",
    "print(increment(fib_tree(4)))"
   ]
  },
  {
   "cell_type": "markdown",
   "metadata": {},
   "source": [
    "# Example: Printing Trees\n"
   ]
  },
  {
   "cell_type": "code",
   "execution_count": 50,
   "metadata": {},
   "outputs": [
    {
     "name": "stdout",
     "output_type": "stream",
     "text": [
      "|--8\n",
      "   |--3\n",
      "      |--1\n",
      "         |--0\n",
      "         |--1\n",
      "      |--2\n",
      "         |--1\n",
      "         |--1\n",
      "            |--0\n",
      "            |--1\n",
      "   |--5\n",
      "      |--2\n",
      "         |--1\n",
      "         |--1\n",
      "            |--0\n",
      "            |--1\n",
      "      |--3\n",
      "         |--1\n",
      "            |--0\n",
      "            |--1\n",
      "         |--2\n",
      "            |--1\n",
      "            |--1\n",
      "               |--0\n",
      "               |--1\n"
     ]
    }
   ],
   "source": [
    "def print_tree(t, level=0):\n",
    "    print(level * \"   \" + \"|--\" + str(label(t)))\n",
    "    for b in branches(t):\n",
    "        print_tree(b, level+1)\n",
    "\n",
    "print_tree(fib_tree(6))"
   ]
  },
  {
   "cell_type": "markdown",
   "metadata": {},
   "source": [
    "# Example: Summing Paths\n",
    "- Some recursive functions build up their result by manipulating the return values of a recursive call.\n",
    "- Other recursive functions build up their results by passing information into the recursive call as an argument. \n",
    "- Ex: Factorial"
   ]
  },
  {
   "cell_type": "code",
   "execution_count": 52,
   "metadata": {},
   "outputs": [],
   "source": [
    "def fact(n):\n",
    "    if n == 0:\n",
    "        return 1\n",
    "    else:\n",
    "        return n * fact(n-1) # manipulating the return value of a recursive call.\n",
    "    \n",
    "def fact_times(n, k):\n",
    "    \"\"\"Returns k * n * (n-1) * ... * 1\"\"\"\n",
    "    if n == 0:\n",
    "        return k\n",
    "    else:\n",
    "        return fact_times(n-1, k * n) # Result of the recursive call is the result of the current call.\n",
    "    \n"
   ]
  },
  {
   "cell_type": "markdown",
   "metadata": {},
   "source": [
    "- In `fact_times`, the result is being built up with each recursive call, until we hit the base case, which just returns the solution.\n",
    "    - In `fact` all the multiplying occurs after we've hit the base case.\n",
    "- We can apply similar recursive logic to trees"
   ]
  },
  {
   "cell_type": "code",
   "execution_count": 63,
   "metadata": {},
   "outputs": [
    {
     "name": "stdout",
     "output_type": "stream",
     "text": [
      "has\n",
      "hat\n",
      "he\n"
     ]
    }
   ],
   "source": [
    "from tree import *\n",
    "\n",
    "numbers = tree(3, [tree(4), tree(5, [tree(6)])])\n",
    "haste = tree(\"h\", [tree(\"a\", [tree(\"s\"), tree(\"t\")]), tree(\"e\")])\n",
    "\n",
    "def print_sums(t, sum_so_far):\n",
    "    if is_leaf(t):\n",
    "        print(sum_so_far + label(t))\n",
    "    for branch in branches(t):\n",
    "        print_sums(branch, sum_so_far+label(t))\n",
    "\n",
    "print_sums(haste, \"\")"
   ]
  },
  {
   "cell_type": "markdown",
   "metadata": {},
   "source": [
    "# Example: Counting Paths\n",
    "- Create a function that count the number of paths within a tree that have a total label sum.\n"
   ]
  },
  {
   "cell_type": "code",
   "execution_count": 86,
   "metadata": {},
   "outputs": [
    {
     "data": {
      "text/plain": [
       "2"
      ]
     },
     "execution_count": 86,
     "metadata": {},
     "output_type": "execute_result"
    }
   ],
   "source": [
    "def count_paths(t, total):\n",
    "    \"\"\"Return the number of paths from the root to any node in tree t for which the labels along the path sum to total.\"\"\"\n",
    "    if total-label(t) == 0:\n",
    "        found = 1\n",
    "    else:\n",
    "        found = 0\n",
    "    return found + sum([count_paths(branch, total-label(t)) for branch in branches(t)])\n",
    "\n",
    "t = tree(3, [tree(-1), tree(1, [tree(2, [tree(1)]), tree(3)]), tree(1, [tree(-1)])])\n",
    "count_paths(t, 3)"
   ]
  }
 ],
 "metadata": {
  "kernelspec": {
   "display_name": "Python 3",
   "language": "python",
   "name": "python3"
  },
  "language_info": {
   "codemirror_mode": {
    "name": "ipython",
    "version": 3
   },
   "file_extension": ".py",
   "mimetype": "text/x-python",
   "name": "python",
   "nbconvert_exporter": "python",
   "pygments_lexer": "ipython3",
   "version": "3.10.12"
  }
 },
 "nbformat": 4,
 "nbformat_minor": 2
}
