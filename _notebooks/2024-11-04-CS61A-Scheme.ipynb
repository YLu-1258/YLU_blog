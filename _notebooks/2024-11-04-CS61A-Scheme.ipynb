{
 "cells": [
  {
   "cell_type": "markdown",
   "metadata": {},
   "source": [
    "---\n",
    "- title: \"'CS61A: Scheme'\"\n",
    "- author: alex\n",
    "- badges: true\n",
    "- comments: true\n",
    "- categories: [CS61A]\n",
    "- date: 2024-11-04 1:00:00 -0800\n",
    "- math: true\n",
    "- tags: [CS61A, OOP, Scheme]\n",
    "---"
   ]
  },
  {
   "cell_type": "markdown",
   "metadata": {},
   "source": [
    "# Scheme\n",
    "- Scheme is a dialect of lisp\n",
    "- Scheme programs consist of expressions:\n",
    "    - **Primitive expressions**: 2, 3.3, true, +, quotient, ...\n",
    "        - \"quotient\" names Scheme's built-in integer division procedure (i.e., function)\n",
    "    - **Combinations:** (quotient 10 2), (not true), ...\n",
    "- Numbers in scheme are self-evaluatin; symbols are bound to values.\n",
    "- Call expressions include an operator and 0 or more operands in parenthesis\n",
    "- A combination can also span multiple lines and the spacing doesn't matter."
   ]
  },
  {
   "cell_type": "code",
   "execution_count": null,
   "metadata": {
    "vscode": {
     "languageId": "plaintext"
    }
   },
   "outputs": [],
   "source": [
    "> (quotient 10 2)\n",
    "5\n",
    "> (quotient (+ 8 7) 5)\n",
    "3\n",
    "> (+ (* 3\n",
    "        (+ (* 2 4)\n",
    "            (+ 3 5 )))\n",
    "    (+ (- 10 7)\n",
    "        6))\n",
    "57"
   ]
  },
  {
   "cell_type": "markdown",
   "metadata": {},
   "source": [
    "- Certain primatives have default behaviors, such as the plus and multiplication operations"
   ]
  },
  {
   "cell_type": "code",
   "execution_count": null,
   "metadata": {
    "vscode": {
     "languageId": "plaintext"
    }
   },
   "outputs": [],
   "source": [
    "> (+)\n",
    "0\n",
    "> (*)\n",
    "1"
   ]
  },
  {
   "cell_type": "markdown",
   "metadata": {},
   "source": [
    "## Other built-in procedures\n",
    "- `number?`: returns if a number is a number or not.\n",
    "- `zero?`: returns if a number is zero or not.\n",
    "- `integer?`: returns if a number is an integer or not.\n",
    "\n",
    "# Special Forms\n",
    "- Any combination that is not a call expression is a **special form**:\n",
    "    - **If** expression: \n",
    "        - `(if <predicate> <consequent> <alternative>)`\n",
    "        - First evaluate the predicate expression.\n",
    "            - If true, evaluate the consequent expression.\n",
    "            - Otherwise, evaluate the alternative expression.\n",
    "    - **And** and **or**:\n",
    "        - `(and <e1> ... <en>)`, `(or <e1> ... <en>)`\n",
    "    - Binding symbols:\n",
    "        - `(define <symbol> <expression>)`\n",
    "    - New procedures:\n",
    "        - `(define (<symbol> <formal parameters>) <body>)`\n",
    "- Ex:"
   ]
  },
  {
   "cell_type": "code",
   "execution_count": null,
   "metadata": {
    "vscode": {
     "languageId": "plaintext"
    }
   },
   "outputs": [],
   "source": [
    "> (define pi 3.14) # The symbol pi is bound to 3.14 in the global frame\n",
    "> (* pi 2)\n",
    "6.28\n",
    "> (define (abs x) # A procedure is created ad bound to the sumbol \"abs\"\n",
    "    (if (< x 0) \n",
    "        (-x)\n",
    "        x))\n",
    "> (abs -3)\n",
    "3"
   ]
  },
  {
   "cell_type": "markdown",
   "metadata": {},
   "source": [
    "- Ex: a squaring procedure"
   ]
  },
  {
   "cell_type": "code",
   "execution_count": null,
   "metadata": {
    "vscode": {
     "languageId": "plaintext"
    }
   },
   "outputs": [],
   "source": [
    "> (define (square x) (* x x))\n",
    "square\n",
    "> (square 16)\n",
    "256\n",
    "> (define (average x y) (/ (+ x y) 2))\n",
    "average\n",
    "> (average 3 7)\n",
    "5"
   ]
  },
  {
   "cell_type": "markdown",
   "metadata": {},
   "source": [
    "## Recursive functions\n",
    "- We may also create recursive functions in scheme\n",
    "- Ex: square root procedure"
   ]
  },
  {
   "cell_type": "code",
   "execution_count": null,
   "metadata": {
    "vscode": {
     "languageId": "plaintext"
    }
   },
   "outputs": [],
   "source": [
    "> (define (sqrt x) \n",
    "    (define (update guess) \n",
    "        (if (= (square(guess) x) \n",
    "            guess\n",
    "            (update (average guess (/ x guess)))))\n",
    "        )\n",
    "    (update 1))\n",
    "sqrt\n",
    "> (sqrt 256)\n",
    "16"
   ]
  },
  {
   "cell_type": "markdown",
   "metadata": {},
   "source": [
    "# Lambda Expressions\n",
    "- Lambda expressions evaluate to anonymous procedures.\n",
    "    - `(lambda (<formal-parameters>) <body>)`\n",
    "        - `(define (plus4 x) (+ 4 x))`\n",
    "        - `(define plus4 (lambda (x) (+ 4 x)))`\n",
    "            - We bind the name plus4 to the lambda that adds 4 to a value."
   ]
  },
  {
   "cell_type": "code",
   "execution_count": null,
   "metadata": {
    "vscode": {
     "languageId": "plaintext"
    }
   },
   "outputs": [],
   "source": [
    "> ((lambda (x y z) (+ x y square(z))) 1 2 3)\n",
    "12"
   ]
  },
  {
   "cell_type": "markdown",
   "metadata": {},
   "source": [
    "# More Special Forms\n",
    "## Cond & Begin\n",
    "- The `cond` special form behaves like if-elif-else statements in Python\n",
    "- The following code snippets are logically equivalent"
   ]
  },
  {
   "cell_type": "code",
   "execution_count": null,
   "metadata": {},
   "outputs": [],
   "source": [
    "if x > 10:\n",
    "    print('big')\n",
    "elif x > 5:\n",
    "    print('medium')\n",
    "else:\n",
    "    print('small')"
   ]
  },
  {
   "cell_type": "raw",
   "metadata": {
    "vscode": {
     "languageId": "raw"
    }
   },
   "source": [
    "(cond ((> x 10) (print 'big))\n",
    "        ((> x 5) (print 'medium))\n",
    "        (else (print 'small)))"
   ]
  },
  {
   "cell_type": "raw",
   "metadata": {},
   "source": []
  },
  {
   "cell_type": "markdown",
   "metadata": {},
   "source": [
    "- The `begin` special form combines multiple expressions into one expression\n",
    "    - The value of a `begin` special form is just the value of its last subexpression\n",
    "- We do this because certain expressions such as if or cond only supports one expression for the consequential or alternative expressions.\n",
    "    - `begin` allows us to run multiple expressions"
   ]
  },
  {
   "cell_type": "raw",
   "metadata": {
    "vscode": {
     "languageId": "raw"
    }
   },
   "source": [
    "> (cond \n",
    "    ((> x 10) (begin (print 'big) (print 'guy))\n",
    "    (else (begin (print 'small) (print 'fry))))"
   ]
  },
  {
   "cell_type": "markdown",
   "metadata": {},
   "source": [
    "# Let Expressions\n",
    "- The `let` special form binds symbols of values temporarily and only for one expression.\n",
    "    - After that expression, the binding is gone."
   ]
  },
  {
   "cell_type": "code",
   "execution_count": null,
   "metadata": {
    "vscode": {
     "languageId": "plaintext"
    }
   },
   "outputs": [],
   "source": [
    "(define c\n",
    "    (let ((a 3) (b (+ 2 2)) )\n",
    "        (sqrt (+ (* a a ) (* b b )))\n",
    "    )\n",
    ")"
   ]
  },
  {
   "cell_type": "markdown",
   "metadata": {},
   "source": [
    "- The values of a and b only exist within the define c statement, and are gone after that is executed.\n",
    "- define is used for permenant bindings, while most other temporary information is bound using let."
   ]
  },
  {
   "cell_type": "markdown",
   "metadata": {},
   "source": [
    "# Spierpinski's Triangle\n",
    "- We may create certain functions to do what we want in our turtle canvas"
   ]
  },
  {
   "cell_type": "code",
   "execution_count": null,
   "metadata": {
    "vscode": {
     "languageId": "plaintext"
    }
   },
   "outputs": [],
   "source": [
    "> (define (line) (fd 50))\n",
    "> (define (twice fn) (fn) (fn))\n",
    "> (define (repeat k fn)\n",
    "    (fn)\n",
    "    (if (> k 1)\n",
    "        (repeat (- k 1) fn)\n",
    "    )\n",
    ")"
   ]
  },
  {
   "cell_type": "markdown",
   "metadata": {},
   "source": [
    "- The following draws a triangle with a certain edge"
   ]
  },
  {
   "cell_type": "code",
   "execution_count": null,
   "metadata": {
    "vscode": {
     "languageId": "plaintext"
    }
   },
   "outputs": [],
   "source": [
    "(define (tri fn)\n",
    "    (repeat 3 (lambda () (fn) (lt 120))))"
   ]
  },
  {
   "cell_type": "markdown",
   "metadata": {},
   "source": [
    "- The following draws a sierpinksi's trianglelet\n",
    "    - Create a prodecude that takes in a depth d and a length k."
   ]
  },
  {
   "cell_type": "code",
   "execution_count": null,
   "metadata": {
    "vscode": {
     "languageId": "plaintext"
    }
   },
   "outputs": [],
   "source": [
    "(define (repeat k fn)\n",
    "    (fn)\n",
    "    (if (> k 1)\n",
    "        (repeat (- k 1) fn)\n",
    "    )\n",
    ")\n",
    "\n",
    "(define (tri fn)\n",
    "    (repeat 3 (lambda () (fn) (lt 120))))\n",
    "    \n",
    "(define (sier d k)\n",
    "    (tri (lambda()\n",
    "        (if (= d 1) \n",
    "            (fd k)\n",
    "            (leg d k))\n",
    "        )\n",
    "    )\n",
    ")\n",
    "\n",
    "(define (leg d k)\n",
    "    (sier (- d 1) (/ k 2))\n",
    "    (penup) (fd k) (pendown)\n",
    ")\n"
   ]
  }
 ],
 "metadata": {
  "kernelspec": {
   "display_name": "Python 3",
   "language": "python",
   "name": "python3"
  },
  "language_info": {
   "codemirror_mode": {
    "name": "ipython",
    "version": 3
   },
   "file_extension": ".py",
   "mimetype": "text/x-python",
   "name": "python",
   "nbconvert_exporter": "python",
   "pygments_lexer": "ipython3",
   "version": "3.10.12"
  }
 },
 "nbformat": 4,
 "nbformat_minor": 2
}
