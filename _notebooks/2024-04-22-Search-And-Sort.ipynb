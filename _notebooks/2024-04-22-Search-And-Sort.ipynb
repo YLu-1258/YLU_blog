{
 "cells": [
  {
   "cell_type": "markdown",
   "metadata": {},
   "source": [
    "---\n",
    "- title: Binary Search and Merge Sort\n",
    "- description: Exploring the binary search and merge sort algorithms\n",
    "- toc: true\n",
    "- layout: post\n",
    "- type: hacks\n",
    "- comments: true\n",
    "---"
   ]
  },
  {
   "cell_type": "markdown",
   "metadata": {},
   "source": [
    "# MergeSort\n",
    "MergeSort is a sorting algorithm that relies on recursion to solve what is commonly known as a \"divide-and-conquer\" problem. Essentially, the problem of sorting an array (or any collection of objects really) can be broken down into sub problems which can be recursively solved to be combined into a final solution.\n",
    "\n",
    "In the context of sorting, imagine an initial array of length n. We can reduce the \"size\" of the problem by passing a smaller size, maybe \"n/2\", back into our algorithm for a simpler calculation, reducing the complexity. We repeat this process until we hit a sub array of size 1, which is a trvially easy case: the \"array\" is already sorted. From this point and onwards, we use a procedure called merge to repeatedly re-combine these smaller elements into larger sorted elements, until we eventually get back to the original n length array whih should be sorted.\n"
   ]
  },
  {
   "cell_type": "markdown",
   "metadata": {},
   "source": [
    "## MergeSort Pseudo-code\n",
    "```text\n",
    "MERGE-SORT(A, p, r)  \n",
    "if p >= r               // zero or one element?  \n",
    "    return   \n",
    "q = ⌊p + r/2⌋            // midpoint of A[p,r]  \n",
    "MERGE-SORT(A, p, q)     // recursively sort A[p,q]  \n",
    "MERGE-SORT(A, q+1, r)   // recursively sort A[q+1:r]  \n",
    "// Merge A[p:q] and A[q+1:r] into A[p:r].  \n",
    "MERGE(A, p, q, r)  \n",
    "```"
   ]
  },
  {
   "cell_type": "markdown",
   "metadata": {},
   "source": [
    "## MergeSort Code"
   ]
  },
  {
   "cell_type": "code",
   "execution_count": 11,
   "metadata": {},
   "outputs": [
    {
     "name": "stdout",
     "output_type": "stream",
     "text": [
      "[4, 7, 6, 1, 3, 9]\n",
      "[1, 3, 4, 6, 7, 9]\n"
     ]
    }
   ],
   "source": [
    "class MergeSort {\n",
    "    private static void mergeSort(ArrayList<Integer> array, int left, int right) {\n",
    "        if (left < right) {\n",
    "            int mid = (left+right-1)/2;\n",
    "            mergeSort(array, left, mid);\n",
    "            mergeSort(array, mid+1, right);\n",
    "            merge(array, left, mid, right);\n",
    "        }\n",
    "    }\n",
    "\n",
    "    private static void merge(ArrayList<Integer> array, int left, int mid, int right) {\n",
    "        // create temp arrays\n",
    "        ArrayList<Integer> leftSubArray = new ArrayList<Integer>();\n",
    "        ArrayList<Integer> rightSubArray = new ArrayList<Integer>();\n",
    "\n",
    "        for (int i = left; i <= mid; i++) {\n",
    "            leftSubArray.add(array.get(i));\n",
    "        }\n",
    "\n",
    "        for (int j = mid+1; j <= right; j++) {\n",
    "            rightSubArray.add(array.get(j));\n",
    "        }\n",
    "\n",
    "        int i = 0; int j = 0; int k = left;\n",
    "        while (i < leftSubArray.size() && j < rightSubArray.size()) {\n",
    "            if (leftSubArray.get(i) <= rightSubArray.get(j)) {\n",
    "                array.set(k, leftSubArray.get(i));\n",
    "                i++;\n",
    "                k++;\n",
    "            } else {\n",
    "                array.set(k, rightSubArray.get(j));\n",
    "                j++;\n",
    "                k++;\n",
    "            }\n",
    "        }\n",
    "\n",
    "        while (i < leftSubArray.size()) {\n",
    "            array.set(k, leftSubArray.get(i));\n",
    "            i++;\n",
    "            k++;\n",
    "        }\n",
    "\n",
    "        while (j < rightSubArray.size()) {\n",
    "            array.set(k, rightSubArray.get(j));\n",
    "            j++;\n",
    "            k++;\n",
    "        }\n",
    "    }\n",
    "\n",
    "    public static void main(String args[]) {\n",
    "        ArrayList<Integer> array = new ArrayList<Integer>();\n",
    "        array.add(4); array.add(7); array.add(6); array.add(1); array.add(3); array.add(9); \n",
    "        System.out.println(array);\n",
    "        mergeSort(array, 0, array.size()-1);\n",
    "        System.out.println(array);\n",
    "    }\n",
    "\n",
    "}\n",
    "\n",
    "MergeSort.main(null);"
   ]
  },
  {
   "cell_type": "markdown",
   "metadata": {},
   "source": [
    "## Popcorn Hack\n",
    "The current implementation of MergeSort sorts our array in increasing order (least to greatest). Can you adjust this implementation such that it sorts in the inverse order, that is, decreasing order (greatest to least)?"
   ]
  }
 ],
 "metadata": {
  "kernelspec": {
   "display_name": "Java",
   "language": "java",
   "name": "java"
  },
  "language_info": {
   "codemirror_mode": "java",
   "file_extension": ".jshell",
   "mimetype": "text/x-java-source",
   "name": "java",
   "pygments_lexer": "java",
   "version": "17.0.10+7-Ubuntu-122.04.1"
  }
 },
 "nbformat": 4,
 "nbformat_minor": 2
}
