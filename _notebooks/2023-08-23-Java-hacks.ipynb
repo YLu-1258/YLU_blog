{
 "cells": [
  {
   "cell_type": "markdown",
   "metadata": {},
   "source": [
    "---\n",
    "- title: Week 1 Java hacks\n",
    "- description: What are the aspects of a class? What does the static keyword do in java?\n",
    "- author: alex\n",
    "- badges: true\n",
    "- comments: true\n",
    "- week: 1\n",
    "- categories: [Java, hacks]\n",
    "- date: 2023-08-20 20:48:00 -0800\n",
    "- tags: [notebooks, java, hacks, OOP]\n",
    "- render_with_liquid: false\n",
    "---"
   ]
  },
  {
   "cell_type": "markdown",
   "metadata": {},
   "source": [
    "# Java Class\n",
    "Below are the different aspects of a Java class\n",
    "![Java Class Anatomy](/assets/img/hacks/anatomy_of_a_class.png)"
   ]
  },
  {
   "cell_type": "code",
   "execution_count": null,
   "metadata": {},
   "outputs": [],
   "source": []
  }
 ],
 "metadata": {
  "kernelspec": {
   "display_name": "java",
   "language": "java",
   "name": "java"
  },
  "language_info": {
   "name": "java"
  },
  "orig_nbformat": 4
 },
 "nbformat": 4,
 "nbformat_minor": 2
}
