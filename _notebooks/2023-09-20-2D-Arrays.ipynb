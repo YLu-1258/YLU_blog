{
 "cells": [
  {
   "cell_type": "markdown",
   "metadata": {},
   "source": [
    "---\n",
    "- title: 2D Arrays\n",
    "- description: Lesson on 2D Arrays\n",
    "- week: 1\n",
    "- type: lessons\n",
    "- toc: true\n",
    "- comments: true\n",
    "- author: alex\n",
    "- categories: [arrays, tutorials]\n",
    "- date: 2023-10-25 09:00:00 -0800\n",
    "- tags: [notebooks, arrays, lesson]\n",
    "---"
   ]
  },
  {
   "cell_type": "markdown",
   "metadata": {},
   "source": [
    "# APCSA Unit 3 College Board Learning Objectives and Standards\n",
    "\n",
    "## Learning Objectives\n",
    "\n",
    "The objective of today's lesson is to...\n",
    "\n",
    "- Learn about 2D arrays, their use cases, and how to create them.\n",
    "\n",
    "## Essential Knowledge\n",
    "\n",
    "College Board wants you to know...\n",
    "\n",
    "- How to declare/initialize 2D arrays.\n",
    "- How to determine their size.\n",
    "- How to access and update the values of a 2D array.\n",
    "- How to traverse/access elements of a 2D array using nested iteration statements. \n",
    "- How nested iteration statements can be used to traverse 2D arrays in “row-major order” vs “column-major order.”\n",
    "- How to create algorithms that require the use of 2D array traversals."
   ]
  },
  {
   "cell_type": "markdown",
   "metadata": {},
   "source": [
    "## Warm Up\n",
    "\n",
    "Answer the following questions as a group or individually. Write down your answers in your hacks notebook.\n",
    "\n",
    "- What are 2D arrays?\n",
    "  - Nested arrays that contain arrays as elements\n",
    "- How are 2D arrays organized?\n",
    "  - Each element of a 2D array is an array with it's on set of elements and indices to access.\n",
    "- What are some real-world examples of 2D arrays?\n",
    "  - Some real-world exmaples of a 2D array could be a matrix or game state.\n"
   ]
  },
  {
   "cell_type": "markdown",
   "metadata": {},
   "source": [
    "## The Basics/Recap\n",
    "\n",
    "2D arrays, and higher dimension arrays overall, can be thought of as just an array that's made up of other arrays or an array of arrays. One way of looking at 2D arrays is by thinking of them as a chess board. They have rows and columns, and every element is identified via row or column number or index.\n",
    "\n",
    "Below is an illustration of a 2D array:\n",
    "![2D Array Image](https://raw.githubusercontent.com/The-Code-Monkeys/Monkeys38/main/images/2dArray.png)\n",
    "\n"
   ]
  },
  {
   "cell_type": "markdown",
   "metadata": {},
   "source": [
    "## 1) How to declare/initialize 2D arrays\n",
    "\n",
    "Initializing 2D arrays can be done in multiple different ways. Note: In Java whenever we declare an array we must specify the datatype of the elements in the array. The most common include:"
   ]
  },
  {
   "cell_type": "markdown",
   "metadata": {},
   "source": [
    "1) Initializing and populating the array in one go:"
   ]
  },
  {
   "cell_type": "code",
   "execution_count": 8,
   "metadata": {},
   "outputs": [
    {
     "name": "stdout",
     "output_type": "stream",
     "text": [
      "1 2 3 \n",
      "4 5 6 \n",
      "7 8 9 \n"
     ]
    }
   ],
   "source": [
    "public class Main {\n",
    "    public static void main(String[] args) {\n",
    "        int[][] Array1 = { // 2d Array of integers\n",
    "            {1, 2, 3},\n",
    "            {4, 5, 6},\n",
    "            {7, 8, 9}\n",
    "        };\n",
    "\n",
    "        for (int i = 0; i < Array1.length; i++) { // Loop through the rows\n",
    "            for (int j = 0; j < Array1[i].length; j++) { // Loop through the columns\n",
    "                System.out.print(Array1[i][j] + \" \"); // Print out the element\n",
    "            }\n",
    "            System.out.println(); // Print a new line\n",
    "        }\n",
    "    }\n",
    "}\n",
    "\n",
    "Main.main(null)"
   ]
  },
  {
   "cell_type": "code",
   "execution_count": 9,
   "metadata": {},
   "outputs": [
    {
     "name": "stdout",
     "output_type": "stream",
     "text": [
      "one two three \n",
      "four five six \n",
      "seven eight nine \n"
     ]
    }
   ],
   "source": [
    "public class Main {\n",
    "    public static void main(String[] args){\n",
    "    String[][] Array2 = { // 2d Array of strings\n",
    "        {\"one\", \"two\", \"three\"},\n",
    "        {\"four\", \"five\", \"six\"},\n",
    "        {\"seven\", \"eight\", \"nine\"}\n",
    "    };\n",
    "    \n",
    "    for (int i = 0; i < Array2.length; i++) { // Loop through the rows\n",
    "        for (int j = 0; j < Array2[i].length; j++) { // Loop through the columns\n",
    "            System.out.print(Array2[i][j] + \" \"); // Print out the element\n",
    "        }\n",
    "            System.out.println(); // Print a new line\n",
    "        }\n",
    "    }\n",
    "}\n",
    "\n",
    "Main.main(null)\n"
   ]
  },
  {
   "cell_type": "code",
   "execution_count": 10,
   "metadata": {},
   "outputs": [
    {
     "name": "stdout",
     "output_type": "stream",
     "text": [
      "1 two 3.0 \n",
      "4 five 6.0 \n",
      "7 eight 9.0 \n"
     ]
    }
   ],
   "source": [
    "public class Main {\n",
    "    public static void main(String[] args){\n",
    "        Object[][] Array3 = { // 2d Array of objects allows for having varying types in the same 2d array\n",
    "            {1, \"two\", 3.0},\n",
    "            {4, \"five\", 6.0},\n",
    "            {7, \"eight\", 9.0}\n",
    "        };\n",
    "\n",
    "        for (int i = 0; i < Array3.length; i++) { // Loop through the rows\n",
    "            for (int j = 0; j < Array3[i].length; j++) { // Loop through the columns\n",
    "                System.out.print(Array3[i][j] + \" \"); // Print out the element\n",
    "            }\n",
    "            System.out.println(); // Print a new line\n",
    "        }\n",
    "    }\n",
    "} \n",
    "\n",
    "Main.main(null)"
   ]
  },
  {
   "cell_type": "markdown",
   "metadata": {},
   "source": [
    "2) Creating an empty 2D array and then assigning values to individual elements as through accessing and changing each value via their corresponding row and column index: "
   ]
  },
  {
   "cell_type": "code",
   "execution_count": 11,
   "metadata": {},
   "outputs": [
    {
     "name": "stdout",
     "output_type": "stream",
     "text": [
      "1 2 3 \n",
      "4 5 6 \n",
      "7 8 9 \n"
     ]
    }
   ],
   "source": [
    "public class Main {\n",
    "    public static void main(String[] args){\n",
    "        int[][] myArray = new int[3][3]; // Defines the size of the array, think of the first number as x and the second number as y, for rows and columns.\n",
    "        \n",
    "        myArray[0][0] = 1; //  Maps the desired value to a specific point in the array, think of this as an (x,y) coordinate.\n",
    "        myArray[0][1] = 2;\n",
    "        myArray[0][2] = 3;\n",
    "        myArray[1][0] = 4;\n",
    "        myArray[1][1] = 5;\n",
    "        myArray[1][2] = 6;\n",
    "        myArray[2][0] = 7;\n",
    "        myArray[2][1] = 8;\n",
    "        myArray[2][2] = 9;\n",
    "\n",
    "        for (int i = 0; i < myArray.length; i++) { // Loop through the rows\n",
    "            for (int j = 0; j < myArray[i].length; j++) { // Loop through the columns\n",
    "                System.out.print(myArray[i][j] + \" \"); // Print out the element\n",
    "            }\n",
    "            System.out.println(); // Print a new line\n",
    "        }\n",
    "    }\n",
    "}\n",
    "\n",
    "Main.main(null)"
   ]
  },
  {
   "cell_type": "markdown",
   "metadata": {},
   "source": [
    "3) Using a nested loop to manually populate each element:"
   ]
  },
  {
   "cell_type": "code",
   "execution_count": 12,
   "metadata": {},
   "outputs": [
    {
     "name": "stdout",
     "output_type": "stream",
     "text": [
      "0 1 2 3 \n",
      "4 5 6 7 \n",
      "8 9 10 11 \n"
     ]
    }
   ],
   "source": [
    "public class Main {\n",
    "        public static void main(String[] args){\n",
    "        int rows = 3; // Define number of rows and columns here as variables\n",
    "        int columns = 4;\n",
    "        int[][] myArray = new int[rows][columns];  // Create an array based on the values of the aforementioned variables.\n",
    "        // Create a nested for loop that iterates based on the number of rows and columns.\n",
    "        for (int i = 0; i < rows; i++) { \n",
    "            for (int j = 0; j < columns; j++) {\n",
    "                // You can assign values to each element here\n",
    "                myArray[i][j] = i * columns + j;\n",
    "\n",
    "            }\n",
    "        }\n",
    "        // Print out the array\n",
    "        for (int i = 0; i < myArray.length; i++) { // Loop through the rows\n",
    "            for (int j = 0; j < myArray[i].length; j++) { // Loop through the columns\n",
    "                System.out.print(myArray[i][j] + \" \"); // Print out the element\n",
    "            }\n",
    "            System.out.println(); // Print a new line\n",
    "        }\n",
    "    }\n",
    "}\n",
    "\n",
    "Main.main(null)"
   ]
  },
  {
   "cell_type": "markdown",
   "metadata": {},
   "source": [
    "### Popcorn Hack: Create a 2D Array with random values"
   ]
  },
  {
   "cell_type": "code",
   "execution_count": 3,
   "metadata": {},
   "outputs": [
    {
     "name": "stdout",
     "output_type": "stream",
     "text": [
      "1894983013 875776931 -1049568509 1155536736 1113873284 \n",
      "-1999215648 1523718306 539446777 -61773738 1797175438 \n",
      "-1343668809 -1334330818 -284386891 1303542752 455618848 \n",
      "1315527959 2050213794 1190570371 -1254478962 -1884569522 \n",
      "749839536 -1274537674 -130967413 -513254082 -1361497950 \n"
     ]
    }
   ],
   "source": [
    "import java.util.Random;\n",
    "public class Main {\n",
    "    private static Random  rand = new Random();\n",
    "    public static void main(String[] args){\n",
    "        int[][] randomIntegers = new int[5][5];\n",
    "        for (int i = 0; i < randomIntegers.length; i++) {\n",
    "            for (int j = 0; j < randomIntegers[0].length; j++) {\n",
    "                randomIntegers[i][j] = rand.nextInt();\n",
    "            }\n",
    "        }\n",
    "        for (int i = 0; i < randomIntegers.length; i++) {\n",
    "            for (int j = 0; j < randomIntegers[0].length; j++) {\n",
    "                System.out.print(randomIntegers[i][j] + \" \");\n",
    "            }\n",
    "            System.out.println();\n",
    "        }\n",
    "    }\n",
    "\n",
    "}\n",
    "Main.main(null)"
   ]
  },
  {
   "cell_type": "markdown",
   "metadata": {},
   "source": [
    "## 2) Accessing and updating the values of a 2D array\n",
    "\n",
    "In order to access the value of a 2D array, you must use array indexing notation, which is as follows:\n",
    "\n",
    "```java\n",
    "// Say you have myArray:\n",
    "int[][] myArray = {\n",
    "    {1, 2, 3},\n",
    "    {4, 5, 6},\n",
    "    {7, 8, 9}\n",
    "};\n",
    "\n",
    "// To access the third number of the third column, use array indexing notation:\n",
    "int desiredValue = myArray[2][2]; // REMEMBER BASE 0!\n",
    "\n",
    "// And print the value:\n",
    "System.out.print(desiredValue);\n",
    "```\n",
    "Assign the \"coordinate point\" of the desired value as a variable, using the \"x\" value for row number and \"y\" value for column number."
   ]
  },
  {
   "cell_type": "code",
   "execution_count": 13,
   "metadata": {},
   "outputs": [
    {
     "name": "stdout",
     "output_type": "stream",
     "text": [
      "9"
     ]
    }
   ],
   "source": [
    "// Executable Version:\n",
    "public class Main {\n",
    "    public static void main(String[] args) {\n",
    "        int[][] myArray = {\n",
    "            {1, 2, 3},\n",
    "            {4, 5, 6},\n",
    "            {7, 8, 9}\n",
    "        };\n",
    "\n",
    "        int desiredValue = myArray[2][2];\n",
    "\n",
    "        System.out.print(desiredValue);\n",
    "\n",
    "    }\n",
    "}\n",
    "\n",
    "Main.main(null)"
   ]
  },
  {
   "cell_type": "markdown",
   "metadata": {},
   "source": [
    "In order to update the value of a specific point in a 2D array, assign the desired value to a specific point in the array, denoted by array indexing notation:\n",
    "\n",
    "```java\n",
    "// Say you have myArray:\n",
    "int[][] myArray = {\n",
    "    {1, 2, 3},\n",
    "    {4, 5, 6},\n",
    "    {7, 8, 9}\n",
    "};\n",
    "\n",
    "// To change the third number of the third column, use array indexing notation:\n",
    "int desiredValue = 10; // Define what you want the new value to be.\n",
    "myArray[2][2] = desiredValue; // Use array indexing notation to insert the desired value at the specific desired point.\n",
    "\n",
    "// And print the updated value at the desired location:\n",
    "System.out.print(myArray[2][2]);\n",
    "```"
   ]
  },
  {
   "cell_type": "code",
   "execution_count": 14,
   "metadata": {},
   "outputs": [
    {
     "name": "stdout",
     "output_type": "stream",
     "text": [
      "10"
     ]
    }
   ],
   "source": [
    "// Executable Version:\n",
    "public class Main {\n",
    "    public static void main(String[] args) {\n",
    "        int[][] myArray = {\n",
    "            {1, 2, 3},\n",
    "            {4, 5, 6},\n",
    "            {7, 8, 9}\n",
    "        };\n",
    "\n",
    "        int desiredValue = 10; \n",
    "        myArray[2][2] = desiredValue; \n",
    "\n",
    "        System.out.print(myArray[2][2]);\n",
    "\n",
    "    }\n",
    "}\n",
    "\n",
    "Main.main(null)"
   ]
  },
  {
   "cell_type": "markdown",
   "metadata": {},
   "source": [
    "### Popcorn Hack: Print all the values on this 2D Array and update the last value to be 12."
   ]
  },
  {
   "cell_type": "code",
   "execution_count": 4,
   "metadata": {},
   "outputs": [
    {
     "name": "stdout",
     "output_type": "stream",
     "text": [
      "1 2 3 \n",
      "4 5 6 \n",
      "7 8 12 \n"
     ]
    }
   ],
   "source": [
    "// basic scaffolding to get you started :)\n",
    "public class Main {\n",
    "    public static void main(String[] args) {\n",
    "        int[][] myArray = {\n",
    "            {1, 2, 3},\n",
    "            {4, 5, 6},\n",
    "            {7, 8, 9}\n",
    "        };\n",
    "        for (int i = 0; i < myArray.length; i++) {\n",
    "            for (int j = 0; j < myArray[0].length; j++) {\n",
    "                if (i == myArray.length-1 && j == myArray[0].length-1 ) {\n",
    "                    myArray[i][j] = 12;\n",
    "                }\n",
    "                System.out.print(myArray[i][j] + \" \");\n",
    "            }\n",
    "            System.out.println();\n",
    "        }\n",
    "    }\n",
    "}\n",
    "\n",
    "Main.main(null)"
   ]
  },
  {
   "cell_type": "markdown",
   "metadata": {},
   "source": []
  },
  {
   "cell_type": "markdown",
   "metadata": {},
   "source": [
    "## 3) Traversing 2D Arrays \n",
    "- When we traverse a regular array we use a singular for loop to iterate through each element in the array. However, when we have 2D array we need to use nested for loops to iterate through each element in the array. Below is the difference between the two:\n",
    "\n",
    "```java\n",
    "// Regular array traversal\n",
    "for(int i = 0; i < myArray.length; i++){\n",
    "    System.out.println(myArray[i]);\n",
    "}\n",
    "\n",
    "// 2D array traversal\n",
    "for(int i = 0; i < myArray.length; i++){\n",
    "    for(int j = 0; j < myArray[i].length; j++){\n",
    "        System.out.println(myArray[i][j]);\n",
    "    }\n",
    "}\n",
    "```"
   ]
  },
  {
   "cell_type": "code",
   "execution_count": 16,
   "metadata": {},
   "outputs": [
    {
     "name": "stdout",
     "output_type": "stream",
     "text": [
      "1D Array\n",
      "\n",
      "1 2 3 4 5 6 7 8 9 \n",
      "\n",
      "2D Array\n",
      "\n",
      "1 2 3 \n",
      "4 5 6 \n",
      "7 8 9 \n"
     ]
    }
   ],
   "source": [
    "public class Main {\n",
    "    public static void main(String[] args){\n",
    "        int[] myArray = {1, 2, 3, 4, 5, 6, 7, 8, 9}; // 1d array of integers\n",
    "        int[][] my2dArray = { // 2d array of integers\n",
    "            {1, 2, 3},\n",
    "            {4, 5, 6},\n",
    "            {7, 8, 9}\n",
    "        };\n",
    "        \n",
    "        System.out.println(\"1D Array\\n\"); // Print a new line\n",
    "\n",
    "        for (int i = 0; i < myArray.length; i++) { // Loop through the 1d array\n",
    "            System.out.print(myArray[i] + \" \"); // Print out the element\n",
    "        }\n",
    "\n",
    "        System.out.println(\"\\n\\n2D Array\\n\"); // Print a new line\n",
    "        \n",
    "\n",
    "        for (int i = 0; i < my2dArray.length; i++) { // First traversal condition\n",
    "            for (int j = 0; j < my2dArray[i].length; j++) { // Second traversal condition\n",
    "                System.out.print(my2dArray[i][j] + \" \"); // Print out the element\n",
    "            }\n",
    "            System.out.println(); // Print a new line\n",
    "        }\n",
    "    }\n",
    "}\n",
    "\n",
    "Main.main(null)"
   ]
  },
  {
   "cell_type": "markdown",
   "metadata": {},
   "source": [
    "### Popcorn Hack: Traverse the following array and only print the values divisible by 7"
   ]
  },
  {
   "cell_type": "code",
   "execution_count": 5,
   "metadata": {},
   "outputs": [
    {
     "name": "stdout",
     "output_type": "stream",
     "text": [
      "   \n",
      "14  21 \n",
      " 28 70 \n"
     ]
    }
   ],
   "source": [
    "public class Main {\n",
    "    public static void main(String[] args) {\n",
    "        int[][] myArray = {\n",
    "            {1, 2, 11},\n",
    "            {14, 5, 21},\n",
    "            {25, 28, 70}\n",
    "        };\n",
    "\n",
    "        for (int i = 0; i < myArray.length; i++) {\n",
    "            for (int j = 0; j < myArray[0].length; j++) {\n",
    "                if (myArray[i][j]%7==0) {\n",
    "                    System.out.print(myArray[i][j] + \" \");\n",
    "                } else {\n",
    "                    System.out.print(\" \");\n",
    "                }\n",
    "            }\n",
    "            System.out.println();\n",
    "        }\n",
    "        \n",
    "    }\n",
    "}\n",
    "\n",
    "Main.main(null)"
   ]
  },
  {
   "cell_type": "markdown",
   "metadata": {},
   "source": [
    "## Row-Major Order vs Column-Major Order\n",
    "\n",
    "### Row-Major-Order: \n",
    "- The outer loop traverses the rows and the inner loop traverses the columns or the elements within the rows. Here is an example bellow of row-major order traversals:"
   ]
  },
  {
   "cell_type": "code",
   "execution_count": 18,
   "metadata": {},
   "outputs": [
    {
     "name": "stdout",
     "output_type": "stream",
     "text": [
      "Row Major Order\n",
      "\n",
      "0 2 0 \n",
      "4 0 6 \n",
      "0 8 0 \n"
     ]
    }
   ],
   "source": [
    "public class rowMajorOrder {\n",
    "    public static void main(String[] args){\n",
    "        int[][] my2dArray = { // 2d array of integers\n",
    "            {1, 2, 3},\n",
    "            {4, 5, 6},\n",
    "            {7, 8, 9}\n",
    "        };\n",
    "        \n",
    "        System.out.println(\"Row Major Order\\n\"); // Print a new line\n",
    "\n",
    "        for (int i = 0; i < my2dArray.length; i++) { // First traversal traverses by rows condition\n",
    "\n",
    "            for (int j = 0; j < my2dArray[i].length; j++) { // Iterates through the columns\n",
    "                if (my2dArray[i][j] % 2 == 0) { // If the element is even\n",
    "                } else{\n",
    "                    my2dArray[i][j] = 0; // Otherwise set the element to 0\n",
    "                }\n",
    "                System.out.print(my2dArray[i][j] + \" \"); // Print out the element\n",
    "            }\n",
    "            System.out.println(); // Print a new line\n",
    "        }\n",
    "    }\n",
    "}\n",
    "\n",
    "rowMajorOrder.main(null)"
   ]
  },
  {
   "cell_type": "code",
   "execution_count": 19,
   "metadata": {},
   "outputs": [
    {
     "name": "stdout",
     "output_type": "stream",
     "text": [
      "1 2 3 \n",
      "4 5 6 \n",
      "7 8 9 \n"
     ]
    }
   ],
   "source": [
    "// Variation that only applies to forward row-wise major traversal\n",
    "\n",
    "public class rowMajorTraversalAlt{\n",
    "    public static void rowMajorOrderAlt(int[][] array){\n",
    "        for (int[] row: array){\n",
    "            for (int element: row){\n",
    "                System.out.print(element + \" \");\n",
    "            }\n",
    "            System.out.println();\n",
    "        }\n",
    "    }\n",
    "}\n",
    "\n",
    "rowMajorTraversalAlt.rowMajorOrderAlt(new int[][]{\n",
    "    {1, 2, 3},\n",
    "    {4, 5, 6},\n",
    "    {7, 8, 9}\n",
    "});"
   ]
  },
  {
   "cell_type": "markdown",
   "metadata": {},
   "source": [
    "### Column-Major-Order: \n",
    "- The outer loop will traverse through the columns and the inner loop will traverses through each element in the columns or the rows. Here is an example bellow of column-major order traversals: "
   ]
  },
  {
   "cell_type": "code",
   "execution_count": 20,
   "metadata": {},
   "outputs": [
    {
     "name": "stdout",
     "output_type": "stream",
     "text": [
      "Column Wise Traversal\n",
      "\n",
      "0 2 0 \n",
      "4 0 6 \n",
      "0 8 0 \n"
     ]
    }
   ],
   "source": [
    "public class columnWiseTraversal{\n",
    "    public static void main(String[] args){\n",
    "        int[][] my2dArray = { // 2d array of integers\n",
    "            {1, 2, 3},\n",
    "            {4, 5, 6},\n",
    "            {7, 8, 9}\n",
    "        };\n",
    "        \n",
    "        System.out.println(\"Column Wise Traversal\\n\"); // Print a new line\n",
    "\n",
    "        for (int j = 0; j < my2dArray[0].length; j++) { // First traversal traverses by columns condition\n",
    "\n",
    "            for (int i = 0; i < my2dArray.length; i++) { // Iterates through the rows\n",
    "                if (my2dArray[j][i] % 2 == 0) { // If the element is even\n",
    "                } else{\n",
    "                    my2dArray[j][i] = 0; // Otherwise set the element to 0\n",
    "                }\n",
    "                System.out.print(my2dArray[j][i] + \" \"); // Print out the element\n",
    "            }\n",
    "            System.out.println(); // Print a new line\n",
    "        }\n",
    "    }\n",
    "}\n",
    "\n",
    "columnWiseTraversal.main(null)\n",
    "\n",
    "// Both row and column wise traversals in our examples do the same thing, but in different orders. However for certain functions one may be easier to use than the other.  \n"
   ]
  },
  {
   "cell_type": "markdown",
   "metadata": {},
   "source": [
    "# Algoirthms 2D Array Java"
   ]
  },
  {
   "cell_type": "markdown",
   "metadata": {},
   "source": [
    "Linear search is a simple and sequential searching algorithm. It is used to find whether a particular element is present in the array or not by traversing every element in the array. While searching in the 2D array is exactly the same but here all the cells need to be traversed In this way, any element is searched in a 2D array. \n",
    "\n",
    "Below is the implementation for linear search in 2D arrays"
   ]
  },
  {
   "cell_type": "code",
   "execution_count": 2,
   "metadata": {},
   "outputs": [],
   "source": [
    "// Linear Search in 2D arrays\n",
    "import java.util.Arrays;\n",
    " \n",
    "public class GFG {\n",
    "    public static void main(String[] args)\n",
    "    {\n",
    "        int arr[][] = { { 3, 12, 9 },\n",
    "                        { 5, 2, 89 },\n",
    "                        { 90, 45, 22 } };\n",
    "        int target = 89;\n",
    "        int ans[] = linearSearch(arr, target);\n",
    "        System.out.println(\"Element found at index: \"\n",
    "                           + Arrays.toString(ans));\n",
    "    }\n",
    " \n",
    "    static int[] linearSearch(int[][] arr, int target)\n",
    "    {\n",
    "        for (int i = 0; i < arr.length; i++) {\n",
    "            for (int j = 0; j < arr[i].length; j++) {\n",
    "                if (arr[i][j] == target) {\n",
    "                    return new int[] { i, j };\n",
    "                }\n",
    "            }\n",
    "        }\n",
    "        return new int[] { -1, -1 };\n",
    "    }\n",
    "}"
   ]
  },
  {
   "cell_type": "markdown",
   "metadata": {},
   "source": [
    "Summary:\n",
    "Linear Search involves iterating through all elements in the matrix.\n",
    "Binary Search is applicable when the matrix is sorted.\n",
    "Binary Search treats the 2D matrix as a 1D array by converting the indices.\n",
    "These searching algorithms are fundamental and widely used. Practice applying them to different scenarios to solidify your understanding. Additionally, consider exploring more advanced searching techniques for 2D arrays as you become more proficient."
   ]
  },
  {
   "cell_type": "code",
   "execution_count": null,
   "metadata": {},
   "outputs": [],
   "source": [
    "public class Main {\n",
    "    public static int[] binarySearch(int[][] matrix, int target) {\n",
    "        int rows = matrix.length;\n",
    "        int cols = matrix[0].length;\n",
    "        int left = 0;\n",
    "        int right = rows * cols - 1;\n",
    "\n",
    "        while (left <= right) {\n",
    "            int mid = left + (right - left) / 2;\n",
    "            int midValue = matrix[mid / cols][mid % cols];\n",
    "\n",
    "            if (midValue == target) {\n",
    "                return new int[] {mid / cols, mid % cols};\n",
    "            }\n",
    "\n",
    "            if (midValue < target) {\n",
    "                left = mid + 1;\n",
    "            } else {\n",
    "                right = mid - 1;\n",
    "            }\n",
    "        }\n",
    "\n",
    "        return new int[] {-1, -1}; // Target not found\n",
    "    }\n",
    "}\n"
   ]
  },
  {
   "cell_type": "markdown",
   "metadata": {},
   "source": [
    "### Binary Search in a 2D Array: \n",
    "\n",
    "Binary search is an efficient method of searching in an array. Binary search works on a sorted array. At each iteration the search space is divided in half, this is the reason why binary search is more efficient than linear search"
   ]
  },
  {
   "cell_type": "code",
   "execution_count": null,
   "metadata": {},
   "outputs": [],
   "source": [
    "// Binary Search on sorted 2D array\n",
    "import java.util.Arrays;\n",
    " \n",
    "class GFG {\n",
    " \n",
    "    static int[] findAns(int[][] arr, int target)\n",
    "    {\n",
    "        int row = 0;\n",
    "        int col = arr[row].length - 1;\n",
    "        while (row < arr.length && col >= 0) {\n",
    "            if (arr[row][col] == target) {\n",
    "                return new int[] { row, col };\n",
    "            }\n",
    " \n",
    "            // Target lies in further row\n",
    "            if (arr[row][col] < target) {\n",
    "                row++;\n",
    "            }\n",
    "            // Target lies in previous column\n",
    "            else {\n",
    "                col--;\n",
    "            }\n",
    "        }\n",
    "        return new int[] { -1, -1 };\n",
    "    }\n",
    " \n",
    "    // Driver Code\n",
    "    public static void main(String[] args)\n",
    "    {\n",
    " \n",
    "        // Binary search in sorted matrix\n",
    "        int arr[][] = { { 1, 2, 3, 4 },\n",
    "                        { 5, 6, 7, 8 },\n",
    "                        { 9, 10, 11, 12 } };\n",
    "        int[] ans = findAns(arr, 12);\n",
    "        System.out.println(\"Element found at index: \"\n",
    "                           + Arrays.toString(ans));\n",
    "    }\n",
    "}"
   ]
  },
  {
   "cell_type": "markdown",
   "metadata": {},
   "source": [
    "### Popcorn Hack\n",
    "\n",
    "Binary search on a random matrix"
   ]
  },
  {
   "cell_type": "code",
   "execution_count": null,
   "metadata": {},
   "outputs": [],
   "source": [
    "// Binary Search on sorted 2D array\n",
    "import java.util.Arrays;\n",
    " \n",
    "class GFG {\n",
    " \n",
    "    static int[] findAns(int[][] arr, int target)\n",
    "    {\n",
    "        int row = 0;\n",
    "        int col = arr[row].length - 1;\n",
    "        while (row < arr.length && col >= 0) {\n",
    "            if (arr[row][col] == target) {\n",
    "                return new int[] { row, col };\n",
    "            }\n",
    " \n",
    "            // Target lies in further row\n",
    "            if (arr[row][col] < target) {\n",
    "                row++;\n",
    "            }\n",
    "            // Target lies in previous column\n",
    "            else {\n",
    "                col--;\n",
    "            }\n",
    "        }\n",
    "        return new int[] { -1, -1 };\n",
    "    }\n",
    " \n",
    "    // Driver Code\n",
    "    public static void main(String[] args)\n",
    "    {\n",
    " \n",
    "        // Binary search in sorted matrix\n",
    "        int arr[][] = { { 1, 2, 3, 4 },\n",
    "                        { 5, 6, 7, 8 },\n",
    "                        { 9, 10, 11, 12 } };\n",
    "        int[] ans = findAns(arr, 12);\n",
    "        System.out.println(\"Element found at index: \"\n",
    "                           + Arrays.toString(ans));\n",
    "    }\n",
    "}"
   ]
  },
  {
   "cell_type": "markdown",
   "metadata": {},
   "source": [
    "# Enhanced For-Each Loop for 2D Arrays \n",
    "Since 2D arrays are really arrays of arrays you can also use a nested enhanced for-each loop to loop through all elements in an array. We loop through each of the inner arrays and loop through all the values in each inner array. Notice the type of the outer loop array variable – it is an array that will hold each row, String[] in the example below for a 2D String array. The type of the variables in the for-each loops must match the type of the array. For-each loops are much simpler since you don’t have to use the indices and the []’s, but you can only use them if you are not going to change the values in an array of primitive types since the variable val below will not change the original array.\n",
    "\n"
   ]
  },
  {
   "cell_type": "code",
   "execution_count": null,
   "metadata": {},
   "outputs": [],
   "source": [
    "String[][] array;\n",
    "// Nested For-each loops that traverse a 2D String array\n",
    "for (String[] innerArray : array)\n",
    "{\n",
    "   for (String val : innerArray)\n",
    "   {\n",
    "       System.out.println(val);\n",
    "   }\n",
    "}"
   ]
  },
  {
   "cell_type": "code",
   "execution_count": 2,
   "metadata": {},
   "outputs": [
    {
     "name": "stdout",
     "output_type": "stream",
     "text": [
      "69.16666666666667\n"
     ]
    }
   ],
   "source": [
    "public class Average\n",
    "{\n",
    "\n",
    "    public static double getAvg(int[][] a)\n",
    "    {\n",
    "        double total = 0;\n",
    "        for (int[] innerArray : a)\n",
    "        {\n",
    "            for (int val : innerArray)\n",
    "            {\n",
    "                total = total + val;\n",
    "            }\n",
    "        }\n",
    "        return total / (a.length * a[0].length);\n",
    "    }\n",
    "\n",
    "    public static void main(String[] args)\n",
    "    {\n",
    "        int[][] theArray = { {80, 90, 70}, {20, 80, 75}};\n",
    "        System.out.println(getAvg(theArray));\n",
    "    }\n",
    "}\n",
    "\n",
    "Average.main(null);"
   ]
  },
  {
   "cell_type": "markdown",
   "metadata": {},
   "source": [
    "# 4) How to create an algorithm that involves traversing a 2D Array\n",
    "\n",
    "During the APCSA AP exam, we will be required to write an algorithm for a 2D array that solves a problem discussed in the prompt. Collegeboard will give you a situation, and you will have to write an algorithm based on said situation. \n",
    "\n",
    "Here's an example of an algorithm that was needed for the real Collegeboard APCSA exam in 2022:"
   ]
  },
  {
   "cell_type": "markdown",
   "metadata": {},
   "source": [
    "For this problem, the question asked for the student to write the `countIncreasingCols` method, which returns the number of columns in `grid` that are in increasing order. `grid` is a 2D array with randomly populated numbers."
   ]
  },
  {
   "cell_type": "code",
   "execution_count": null,
   "metadata": {},
   "outputs": [],
   "source": [
    "public int countIncreaseCols() {\n",
    "    int count = 0;\n",
    "    for (int j = 0; j < grid[0].length; j++) { // Iterates through columns\n",
    "        boolean isIncreasing = true; \n",
    "        if (grid[0].length > 1) { // Checks if there is more than one column to prevent out of bounds error\n",
    "            for (int i = 1; i < grid.length; i++) {  // Iterates through rows\n",
    "                if (grid[i][j] <= grid[i - 1][j]) { // Checks if the current element is less than or equal to the previous element\n",
    "                    isIncreasing = false; // If so set isIncreasing to false and break out of loop\n",
    "                    break; \n",
    "                }\n",
    "            }\n",
    "    \n",
    "            if (isIncreasing) { // If the column is increasing increment count as if \n",
    "                count++;        // the value is not less than or equal to the previous \n",
    "                                // element then it must be increasing \n",
    "            }\n",
    "        }\n",
    "        \n",
    "        else if (grid[0].length == 1) { // To match the criteria of a single column being increasing\n",
    "            count++;\n",
    "        }\n",
    "        \n",
    "        else { // If there are no columns then break out of loop\n",
    "            break;\n",
    "        }\n",
    "    }\n",
    "    return count; \n",
    "}"
   ]
  },
  {
   "cell_type": "markdown",
   "metadata": {},
   "source": [
    "# Hacks:"
   ]
  },
  {
   "cell_type": "markdown",
   "metadata": {},
   "source": [
    "### 1) \n",
    "Initialize a 5 x 5 2D array that is populated by random values."
   ]
  },
  {
   "cell_type": "code",
   "execution_count": null,
   "metadata": {},
   "outputs": [],
   "source": [
    "// Add the code here:\n",
    "\n",
    "public class random2DA {\n",
    "    \n",
    "}\n"
   ]
  },
  {
   "cell_type": "markdown",
   "metadata": {},
   "source": [
    "### 2)\n",
    "- a) Print the values 47, 51, and 20 by accessing them in the the given two-dimensional array.\n",
    "- b) Find the values from part a) using row major and column major order and print the values in each respective order."
   ]
  },
  {
   "cell_type": "code",
   "execution_count": null,
   "metadata": {},
   "outputs": [],
   "source": [
    "public class Problem2\n",
    "{\n",
    "    public static void main(String[] args)\n",
    "    {\n",
    "        int[][] arr = { {47,3,12},{51,74,20} };\n",
    "\n",
    "\n",
    "    }\n",
    "}\n",
    "Problem2.main(null);"
   ]
  },
  {
   "cell_type": "markdown",
   "metadata": {},
   "source": [
    "### 3) \n",
    "The following 2d array `myArray` is populated with integers 1-9. Write an algorithm thath sorts the 2D array by column and returnst the values of the array in increaing order.\n",
    "\n",
    "The expected output is:\n",
    "`1 4 7`<br>\n",
    "`2 5 8`<br>\n",
    "`3 6 9`<br>\n",
    "\n"
   ]
  },
  {
   "cell_type": "code",
   "execution_count": null,
   "metadata": {},
   "outputs": [],
   "source": [
    "public class Problem3 {\n",
    "    public static void main(String[] args) { \n",
    "        int[][] MyArray = { // 2d array of integers\n",
    "            {1, 2, 3},\n",
    "            {4, 5, 6},\n",
    "            {7, 8, 9}\n",
    "        };\n",
    "        \n",
    "    }\n",
    "}\n",
    "Problem3.main(null);"
   ]
  },
  {
   "cell_type": "markdown",
   "metadata": {},
   "source": [
    "### 4) \n",
    "Replace the “ADD CODE HERE” below with the code to declare and create a 3 by 3 two-dimensional int array named table. The finished code will print the values 0 to 8."
   ]
  },
  {
   "cell_type": "code",
   "execution_count": null,
   "metadata": {},
   "outputs": [],
   "source": [
    "public class Test1\n",
    "{\n",
    "\n",
    "    public static void main(String[] args)\n",
    "    {\n",
    "        // ADD CODE HERE //\n",
    "\n",
    "        // Should print the values in table\n",
    "        int count = 0;\n",
    "        for (int row = 0; row < table.length; row++)\n",
    "        {\n",
    "            for (int col = 0; col < table.length; col++)\n",
    "            {\n",
    "                table[row][col] = count;\n",
    "                count++;\n",
    "                System.out.print(table[row][col] + \" \");\n",
    "            }\n",
    "        }\n",
    "    }\n",
    "}\n"
   ]
  },
  {
   "cell_type": "markdown",
   "metadata": {},
   "source": [
    "### 5)\n",
    "Replace the “ADD CODE HERE” below with the code to declare and initialize a two-dimensional String array called students with the names “Brice, Marvin, Anna” in the first row and “Kamal, Maria, Elissa” in the second. The finished code will print all the names in the array starting with all in the first row followed by all in the second row."
   ]
  },
  {
   "cell_type": "code",
   "execution_count": null,
   "metadata": {},
   "outputs": [],
   "source": [
    "public class Test1\n",
    "{\n",
    "    public static void main(String[] args)\n",
    "    {\n",
    "        // ADD CODE HERE //\n",
    "\n",
    "\n",
    "        // Should print the values in students in order\n",
    "        for (int row = 0; row <= students.length; row++)\n",
    "        {\n",
    "            for (int col = 0; col <= students.length; col++)\n",
    "            {\n",
    "                System.out.print(students[row][col] + \" \");\n",
    "            }\n",
    "        }\n",
    "    }\n",
    "}\n"
   ]
  }
 ],
 "metadata": {
  "kernelspec": {
   "display_name": "java",
   "language": "java",
   "name": "java"
  },
  "language_info": {
   "codemirror_mode": "java",
   "file_extension": ".jshell",
   "mimetype": "text/x-java-source",
   "name": "java",
   "pygments_lexer": "java",
   "version": "11.0.20.1+1-post-Ubuntu-0ubuntu120.04"
  },
  "orig_nbformat": 4
 },
 "nbformat": 4,
 "nbformat_minor": 2
}
