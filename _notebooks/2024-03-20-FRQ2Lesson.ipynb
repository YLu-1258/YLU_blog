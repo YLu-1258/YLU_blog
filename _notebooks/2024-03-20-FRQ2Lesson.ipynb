{
 "cells": [
  {
   "cell_type": "markdown",
   "metadata": {},
   "source": [
    "---\n",
    "toc: True\n",
    "comments: True\n",
    "layout: post\n",
    "title: FRQ 2 - Writing Classes\n",
    "description: Focus on 2021 FRQ. classes tips and tricks\n",
    "courses: {'labnotebook': {'week': 26}}\n",
    "type: tangibles\n",
    "---"
   ]
  },
  {
   "cell_type": "markdown",
   "metadata": {},
   "source": [
    "# What to Know\n",
    "\n",
    "for more info on classes go here: [csawesome_resource](https://runestone.academy/ns/books/published/csawesome/Unit5-Writing-Classes/topic-5-1-parts-of-class.html)\n",
    "\n",
    "- Classes are the blueprints for making objects. When you create objects, you create new instances of that class and what you can do with those instances is determined by what methods are defined in the class.\n",
    "\n",
    "## Specifically for AP Test: \n",
    "- Implement class with instance variables, methods, constructors \n",
    "- Inheritance (extend class, override methods), but just because you're using the methods of seperate classes in new classes DOES NOT mean you use extend when declaring class header\n",
    "- Use object or class from one class in another class\n",
    "- Use classes to store methods if they ask you to write classes\n",
    "- Realistically the only things you need to worry about is remembering to make instance variables and constructors if they ask to write one and to actually put everything within the class"
   ]
  },
  {
   "cell_type": "code",
   "execution_count": null,
   "metadata": {
    "vscode": {
     "languageId": "java"
    }
   },
   "outputs": [],
   "source": [
    "public class Example \n",
    "{\n",
    "    // instance variables\n",
    "    private String var1;\n",
    "    private int var2;\n",
    "\n",
    "    // Constructor\n",
    "    public Example(String initVar1, int initVar2)\n",
    "    {\n",
    "        var1 = initVar1;\n",
    "        var2 = initVar2;\n",
    "    }\n",
    "\n",
    "    // Method to print instance variable values, again NOT \n",
    "    public void print()\n",
    "    {\n",
    "        System.out.println(\"Var1: \" + var1);\n",
    "        System.out.println(\"Var2: \" + var2);\n",
    "    }\n",
    "\n",
    "    // Main method for testing, NOT NEEDED FOR TEST USUALLY\n",
    "    public static void main(String[] args)\n",
    "    {\n",
    "        // Creating instances of Example class\n",
    "        Example e1 = new Example(\"Value1\", 10);\n",
    "        Example e2 = new Example(\"Value2\", 20);\n",
    "\n",
    "        // Calling print method for each instance\n",
    "        e1.print();\n",
    "        e2.print();\n",
    "    }\n",
    "}"
   ]
  },
  {
   "cell_type": "markdown",
   "metadata": {},
   "source": [
    "## Example Time"
   ]
  },
  {
   "cell_type": "markdown",
   "metadata": {},
   "source": [
    "The CB question usually provides you with setters and getters but no additional parameters or a constructor. Here is what the given class for SingleTable looks like when all the methods are written. \n",
    "\n",
    "- This question asks that you write a new class called CombinedTable which uses the methods of the SingleTable class to determine the \"desirability\" of the combined tables."
   ]
  },
  {
   "cell_type": "code",
   "execution_count": 2,
   "metadata": {
    "vscode": {
     "languageId": "java"
    }
   },
   "outputs": [],
   "source": [
    "public class SingleTable {\n",
    "    \n",
    "    int seats;\n",
    "    int height;\n",
    "    double viewQuality;\n",
    "\n",
    "    public SingleTable(int seats, int height, double viewQuality) {\n",
    "        this.seats = seats;\n",
    "        this.height = height;\n",
    "        this.viewQuality = viewQuality;\n",
    "    }\n",
    "\n",
    "    //returns number of seats at this table. value is always greater than or equal to 4\n",
    "    public int getNumSeats() {\n",
    "        return this.seats;\n",
    "    }\n",
    "\n",
    "    //returns the height of table in cm\n",
    "    public int getHeight() {\n",
    "        return this.height;\n",
    "    }\n",
    "\n",
    "    //returns the quality of the view from this table\n",
    "    public double getViewQuality() {\n",
    "        return this.viewQuality;\n",
    "    }\n",
    "\n",
    "    //sets the quality of the view from this table to [value]\n",
    "    public void setViewQuality(double newQuality) {\n",
    "        this.viewQuality = newQuality;\n",
    "    }\n",
    "\n",
    "    public static void main(String[] args) {\n",
    "        //single table values that were given in the question!\n",
    "        SingleTable t1 = new SingleTable(4, 74, 60.0);\n",
    "        SingleTable t2 = new SingleTable(8, 74, 70.0);\n",
    "        SingleTable t3 = new SingleTable(12, 76, 75.0);\n",
    "    }\n",
    "\n",
    "}"
   ]
  },
  {
   "cell_type": "markdown",
   "metadata": {},
   "source": [
    "## Tip\n",
    "The first thing you want to do is make the instructions simpler. RCB initially gives you a huge chunk of paragraph that will hurt your head. So after doing a skim, quickly write down what the basic objectives of this class are. Here is what I've gathered:\n",
    "- when combining two single tables, subtract two seats to get combined table seat count\n",
    "- if the height of combined table is level, desirability is the avg of the single tables\n",
    "- if the height of combined table isn't level, desirability is the avg of the single tables - 10"
   ]
  },
  {
   "cell_type": "markdown",
   "metadata": {},
   "source": [
    "Looking to the net chunk of info CB gives, they literally hand over what methods you need to make\n",
    "![frq2lesson](https://github.com/Codemaxxers/codemaxxerblog/blob/main/images/frq2lesson.png?raw=true)"
   ]
  },
  {
   "cell_type": "code",
   "execution_count": 3,
   "metadata": {
    "vscode": {
     "languageId": "java"
    }
   },
   "outputs": [],
   "source": [
    "public class CombinedTable {\n",
    "\n",
    "    private SingleTable table1;\n",
    "    private SingleTable table2;\n",
    "\n",
    "    //constructor\n",
    "    //uses t1 and t2 from SingleTable class\n",
    "    public CombinedTable(SingleTable t1, SingleTable t2) {\n",
    "        table1 = t1;\n",
    "        table2 = t2;\n",
    "    }\n",
    "\n",
    "    public boolean canSeat(int n) {\n",
    "\n",
    "        int cap = table1.getNumSeats() + table2.getNumSeats() - 2;\n",
    "\n",
    "        if (n <= cap) {\n",
    "            return true;\n",
    "        }\n",
    "        else {\n",
    "            return false;\n",
    "        }\n",
    "    }\n",
    "\n",
    "    public double getDesirability(int height, double quality){\n",
    "        double desirability;\n",
    "        if (table1.getHeight() == table2.getHeight()) {\n",
    "            desirability = (table1.getViewQuality() + table2.getViewQuality()) / 2;\n",
    "        }\n",
    "        else {\n",
    "            desirability = ((table1.getViewQuality() + table2.getViewQuality()) / 2) - 10;\n",
    "        } \n",
    "        return desirability; \n",
    "    }\n",
    "    \n",
    "}"
   ]
  },
  {
   "cell_type": "markdown",
   "metadata": {},
   "source": [
    "## Points Conclusion\n",
    "1. Class header (1 point)\n",
    "2. (Private) instance variables (1 point)\n",
    "3. Constructor (1 point)\n",
    "4. Methods headers (1 point per method)\n",
    "5. Using methods from SingleTable object (1 point per method)\n",
    "4. Methods works(1 point each)\n",
    "\n",
    "Will lose points if:\n",
    "- array/collection access confusion ([] or get)\n",
    "- extra code that has side-effect, such as printint to output, incorrect precondition check, etc.\n",
    "- local variables used but none declared\n",
    "- destruction of persistent data, such as changing value referenced by parameter\n",
    "- void method or constructor that returns value\n",
    "\n",
    "Will NOT lose points if: \n",
    "- private or public qualifier on local variable\n",
    "- missing public qualifier on class or constructor header\n",
    "\n",
    "## Commonly Missed\n",
    "- Not declaring any SingleTable instance variables"
   ]
  },
  {
   "cell_type": "markdown",
   "metadata": {},
   "source": [
    "## HACKS\n",
    "\n",
    "(a) Describe the different features needed to create a class and what their purpose is.\n",
    "\n",
    "(b) Code: \n",
    "Create a Java class BankAccount to represent a simple bank account. This class should have the following attributes:\n",
    "\n",
    "- accountHolder (String): The name of the account holder.\n",
    "balance (double): The current balance in the account.\n",
    "Implement the following mutator (setter) methods for the BankAccount class:\n",
    "\n",
    "- setAccountHolder(String name): Sets the name of the account holder.\n",
    "- deposit(double amount): Deposits a given amount into the account.\n",
    "- withdraw(double amount): Withdraws a given amount from the account, but only if the withdrawal amount is less than or equal to the current balance.\n",
    "\n",
    "Ensure that the balance is never negative."
   ]
  }
 ],
 "metadata": {
  "kernelspec": {
   "display_name": "Java",
   "language": "java",
   "name": "java"
  },
  "language_info": {
   "codemirror_mode": "java",
   "file_extension": ".jshell",
   "mimetype": "text/x-java-source",
   "name": "Java",
   "pygments_lexer": "java",
   "version": "20.0.2+9-78"
  }
 },
 "nbformat": 4,
 "nbformat_minor": 2
}
