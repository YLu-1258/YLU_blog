{
 "cells": [
  {
   "cell_type": "markdown",
   "metadata": {},
   "source": [
    "---\n",
    "- title: \"'CS61A: Lecture 3'\"\n",
    "- author: alex\n",
    "- badges: true\n",
    "- comments: true\n",
    "- categories: [CS61A]\n",
    "- date: 2024-09-04 12:00:00 -0800\n",
    "- tags: [CS61A]\n",
    "---"
   ]
  },
  {
   "cell_type": "markdown",
   "metadata": {},
   "source": [
    "# Control\n",
    "\n",
    "## Print and None\n",
    "- Pure functions just returns a value. None-pure functions have a side effect.\n",
    "- Print is a none-pure function that always returns None, but also displays a given value.\n",
    "- Practice: Implement a function h(x) that first prints, then returns, the value of f(x)\n"
   ]
  },
  {
   "cell_type": "code",
   "execution_count": 7,
   "metadata": {},
   "outputs": [],
   "source": [
    "def f(x):\n",
    "    return print(x+1)\n",
    "\n",
    "def h(x):\n",
    "    print(f(x))\n",
    "    return f(x)\n",
    "\n",
    "def h2(x):\n",
    "    y = f(x)\n",
    "    print(y)\n",
    "    return y"
   ]
  },
  {
   "cell_type": "code",
   "execution_count": 8,
   "metadata": {},
   "outputs": [
    {
     "name": "stdout",
     "output_type": "stream",
     "text": [
      "3\n",
      "None\n",
      "3\n"
     ]
    }
   ],
   "source": [
    "h(2)"
   ]
  },
  {
   "cell_type": "code",
   "execution_count": 9,
   "metadata": {},
   "outputs": [
    {
     "name": "stdout",
     "output_type": "stream",
     "text": [
      "3\n",
      "None\n"
     ]
    }
   ],
   "source": [
    "h2(2)"
   ]
  },
  {
   "cell_type": "code",
   "execution_count": 16,
   "metadata": {},
   "outputs": [
    {
     "name": "stdout",
     "output_type": "stream",
     "text": [
      "25\n"
     ]
    }
   ],
   "source": [
    "def f(x):\n",
    "    return square(x + square(y+1))\n",
    "\n",
    "def square(z):\n",
    "    y = z * z\n",
    "    return y\n",
    "\n",
    "x, y, z = 1,2,3\n",
    "    \n",
    "print(f(3))"
   ]
  },
  {
   "cell_type": "markdown",
   "metadata": {},
   "source": [
    "# Multiple Environments\n",
    "- Start from the earliest local frame, and trace back up in the environment until we reach the global frame.\n",
    "    - A function that is defined within another function can access local parameters of the parent function.\n",
    "\n",
    "# Control\n",
    "## Conditional Statements.\n",
    "- COnditional statements contain statements that may or may not be evaluated.\n",
    "\n",
    "# Iteration\n",
    "## While Statements:\n",
    "- Contains stateemnts that are repeated as long as the condition is true.\n",
    "    - Must eventually become a false for the statement to end (or return/break or some statement to stop iteration)\n",
    "    - Entire body is executed.\n",
    "\n",
    "# Prime Factorization\n",
    "- Every positive integer n has a set of prime factors: primes whose product is n"
   ]
  },
  {
   "cell_type": "code",
   "execution_count": null,
   "metadata": {},
   "outputs": [],
   "source": [
    "...\n",
    "8 = 2 * 2 * 2\n",
    "9 = 3 * 3\n",
    "10 = 2 * 5\n",
    "11 = 11\n",
    "12 = 2 * 2 * 3\n",
    "..."
   ]
  },
  {
   "cell_type": "markdown",
   "metadata": {},
   "source": [
    "- My code:"
   ]
  },
  {
   "cell_type": "code",
   "execution_count": 21,
   "metadata": {},
   "outputs": [
    {
     "data": {
      "text/plain": [
       "[2, 2, 2, 2, 23, 3527819]"
      ]
     },
     "execution_count": 21,
     "metadata": {},
     "output_type": "execute_result"
    }
   ],
   "source": [
    "def prime_factorize(n):\n",
    "    k = n\n",
    "    factors = []\n",
    "    curr = 2\n",
    "    while (k%curr==0):\n",
    "        factors.append(curr)\n",
    "        k//=curr\n",
    "    curr = 3\n",
    "    while (curr<=n):\n",
    "        while (k%curr==0):\n",
    "            factors.append(curr)\n",
    "            k//=curr\n",
    "        curr = curr+2\n",
    "    return factors\n",
    "\n",
    "prime_factorize(1298237392)\n",
    "\n",
    "\n"
   ]
  }
 ],
 "metadata": {
  "kernelspec": {
   "display_name": "Python 3",
   "language": "python",
   "name": "python3"
  },
  "language_info": {
   "codemirror_mode": {
    "name": "ipython",
    "version": 3
   },
   "file_extension": ".py",
   "mimetype": "text/x-python",
   "name": "python",
   "nbconvert_exporter": "python",
   "pygments_lexer": "ipython3",
   "version": "3.10.12"
  }
 },
 "nbformat": 4,
 "nbformat_minor": 2
}
