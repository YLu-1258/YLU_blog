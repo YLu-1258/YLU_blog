{
 "cells": [
  {
   "cell_type": "markdown",
   "metadata": {},
   "source": [
    "---\n",
    "- title: Java DS 1 Linked Lists\n",
    "- author: alex\n",
    "- badges: true\n",
    "- comments: true\n",
    "- categories: [Java, tutorials]\n",
    "- date: 2023-08-20 20:48:00 -0800\n",
    "- tags: [notebooks, java, linkedlist, datastructures]\n",
    "- week: 1\n",
    "- render_with_liquid: false\n",
    "---"
   ]
  },
  {
   "cell_type": "markdown",
   "metadata": {},
   "source": [
    "# Linked Lists\n",
    "Linked lists are a very powerful and versatile sequential data structure. While traditional lists store their information in contiguous blocks of memory. Linked lists are more flexible. Each element in a linked list contains a value, and a reference to the next item in the list. This implementation comes with a combination of advantages and setbacks.\n",
    "\n",
    "| Advantages | Setbacks |\n",
    "|-|-|\n",
    "| Faster insertion and deletion speed | Slower traversal speed |\n",
    "| Dynammic size (can grow and shrink freely) | More memory  to store the reference to next element |\n",
    "| Flexible storage in memory | Reverse traversing not possible in a **Singly Linked-List** |\n",
    "| Minimal wasted memory (Everything is preallocated) | No random access is possible |\n",
    "\n",
    "## Singly Linked-List\n",
    "![](/assets/img/DS/singly_linked_list.png \"Singly Linked-List\")\n",
    "As the name suggests, a singly linked-list implies a single connection from one node to the next. In order words, the list can only go in one direction. Here are some terminologies for this structure:  \n",
    "\n",
    "| Vocab | Definition |\n",
    "|-|-|\n",
    "| `Node` | A distinct structure in a linked-list that contains each element | \n",
    "| `Head` | First node in the linked-list, typically the point of access |\n",
    "| `Tail` | Last node in the linked-list, points to null |\n",
    "| `Data` | The value held by a node in a linked-list |\n",
    "| `Next pointer` | Points to next element in list |  \n",
    "\n",
    "Here is an implementation of the node structure in Java."
   ]
  },
  {
   "cell_type": "code",
   "execution_count": 2,
   "metadata": {
    "vscode": {
     "languageId": "java"
    }
   },
   "outputs": [
    {
     "data": {
      "text/plain": [
       "2"
      ]
     },
     "execution_count": 2,
     "metadata": {},
     "output_type": "execute_result"
    }
   ],
   "source": [
    "// Implementation of the Node structure\n",
    "static class Node {\n",
    "    int data;\n",
    "    Node next;\n",
    "    Node (int d) {\n",
    "        data = d;\n",
    "        next = null;\n",
    "    } \n",
    "}\n",
    "\n",
    "Node head = new Node(2);\n",
    "head.data"
   ]
  },
  {
   "cell_type": "markdown",
   "metadata": {},
   "source": [
    "Here is an implementation of a singly Linked-List in Java"
   ]
  },
  {
   "cell_type": "code",
   "execution_count": 3,
   "metadata": {
    "vscode": {
     "languageId": "java"
    }
   },
   "outputs": [
    {
     "name": "stdout",
     "output_type": "stream",
     "text": [
      "1->2->3->4->5\n",
      "1->2->4->5\n"
     ]
    }
   ],
   "source": [
    "class LinkedList {\n",
    "    Node head;\n",
    "    LinkedList(int data) {\n",
    "        head = new Node(data);\n",
    "    }\n",
    "\n",
    "    public void append(int data) {\n",
    "        Node curr = head;\n",
    "        while (curr.next != null) {\n",
    "            curr = curr.next;\n",
    "        }\n",
    "        curr.next = new Node(data);\n",
    "    }\n",
    "\n",
    "    public void insert(int idx, int data) {\n",
    "        int count = 0;\n",
    "        Node curr = head;\n",
    "        if (idx == 0){\n",
    "            Node temp = head;\n",
    "            head = new Node(data);\n",
    "            head.next = temp;\n",
    "            return;\n",
    "        }\n",
    "        while (count < idx-1) {\n",
    "            if (curr.next != null) {\n",
    "                curr = curr.next;\n",
    "                count++;\n",
    "            } else {\n",
    "                System.out.println(\"Index \" + idx + \" Out of bounds\");\n",
    "                return;\n",
    "            }\n",
    "        }\n",
    "        Node next = curr.next;\n",
    "        curr.next = new Node(data);\n",
    "        curr.next.next = next;\n",
    "    }\n",
    "\n",
    "    public Node retrieve(int idx) {\n",
    "        if (idx == 0) {\n",
    "            return head;\n",
    "        }\n",
    "        Node curr = head.next;\n",
    "        int count = 1;\n",
    "        while (count)\n",
    "    }\n",
    "    public void delete(int data) {\n",
    "        Node curr = head;\n",
    "        // If head is the value to delete\n",
    "        if (curr.data == data) {\n",
    "            head = curr.next;\n",
    "        }\n",
    "        // If head is not hte value to delete\n",
    "        while (curr.next != null) {\n",
    "            if (curr.next.data == data) {\n",
    "                curr.next = curr.next.next;\n",
    "                return;\n",
    "            }\n",
    "            curr = curr.next;\n",
    "        }\n",
    "        System.out.println(\"Data value \" + data + \" is not found in linked list\");\n",
    "    }\n",
    "\n",
    "    public void print_list() {\n",
    "        Node curr = head;\n",
    "        while (curr.next!=null){\n",
    "            System.out.print(curr.data + \"->\");\n",
    "            curr = curr.next;\n",
    "        }\n",
    "        System.out.print(curr.data + \"\\n\");\n",
    "    }\n",
    "}\n",
    "\n",
    "LinkedList ll1 = new LinkedList(1);\n",
    "ll1.head.data;\n",
    "ll1.append(2);\n",
    "ll1.append(3);\n",
    "ll1.append(4);\n",
    "ll1.insert(4,5);\n",
    "ll1.print_list();\n",
    "ll1.delete(3);\n",
    "ll1.print_list();"
   ]
  },
  {
   "cell_type": "markdown",
   "metadata": {},
   "source": [
    "## Doubly linked-list\n",
    "![](/assets/img/DS/doubly_linked_list.png \"Doubly Linked-List\")\n",
    "A big disadvantage of the singly linked-list is that traversal is only possible in one direction. A double linked-list seeks to solve that.  \n",
    "\n",
    "In a doubly linked-list, each node besides the head has a reference to the node infront of it, AND the previous node. With this setup, we can easily move forwards and backwards between each node in our linked list.  \n",
    "\n",
    "However, the trade off is that more memory is required for each node in order to store the backwards reference as well.\n",
    "\n",
    "Below is an implementation of the doubly linked list\n"
   ]
  },
  {
   "cell_type": "code",
   "execution_count": 7,
   "metadata": {
    "vscode": {
     "languageId": "java"
    }
   },
   "outputs": [
    {
     "name": "stdout",
     "output_type": "stream",
     "text": [
      "1<->2<->3<->4<->5\n",
      "1<->2<->3<->4\n"
     ]
    }
   ],
   "source": [
    "static class DNode {\n",
    "    int data;\n",
    "    DNode prev;\n",
    "    DNode next;\n",
    "    DNode(int d) {\n",
    "        data = d;\n",
    "        prev=null;\n",
    "        next=null;\n",
    "    }\n",
    "}\n",
    "class DLinkedList {\n",
    "    DNode head;\n",
    "    DLinkedList(int data) {\n",
    "        head = new DNode(data);\n",
    "    }\n",
    "\n",
    "    public void append(int data) {\n",
    "        DNode curr = head;\n",
    "        while (curr.next != null) {\n",
    "            curr = curr.next;\n",
    "        }\n",
    "        curr.next = new DNode(data);\n",
    "        curr.next.prev = curr;\n",
    "    }\n",
    "\n",
    "    public void insert(int idx, int data) {\n",
    "        int count = 0;\n",
    "        DNode curr = head;\n",
    "        if (idx == 0){\n",
    "            DNode temp = head;\n",
    "            head = new DNode(data);\n",
    "            head.next = temp;\n",
    "            head.next.prev = head;\n",
    "            return;\n",
    "        }\n",
    "        while (count < idx-1) {\n",
    "            if (curr.next != null) {\n",
    "                curr = curr.next;\n",
    "                count++;\n",
    "            } else {\n",
    "                System.out.println(\"Index \" + idx + \" Out of bounds\");\n",
    "                return;\n",
    "            }\n",
    "        }\n",
    "        DNode newnode = new DNode(data);\n",
    "        if (curr.next != null) {\n",
    "            DNode next = curr.next;\n",
    "            curr.next = newnode;\n",
    "            curr.next.prev = curr;\n",
    "            curr.next.next = next;\n",
    "            curr.next.next.prev = curr.next;\n",
    "        } else {\n",
    "            curr.next = newnode;\n",
    "            curr.next.prev = curr;\n",
    "        }\n",
    "    }\n",
    "\n",
    "    public void delete(int data) {\n",
    "        DNode curr = head;\n",
    "        // If head is the value to delete\n",
    "        if (curr.data == data) {\n",
    "            head = curr.next;\n",
    "        }\n",
    "        // If head is not hte value to delete\n",
    "        while (curr.next != null) {\n",
    "            if (curr.next.data == data) {\n",
    "                curr.next = curr.next.next;\n",
    "                return;\n",
    "            }\n",
    "            curr = curr.next;\n",
    "        }\n",
    "        System.out.println(\"Data value \" + data + \" is not found in linked list\");\n",
    "    }\n",
    "\n",
    "    public void push_back(int data) {\n",
    "        Dnode curr = head;\n",
    "        while (curr.next != null) {\n",
    "            curr = curr.next;\n",
    "        }\n",
    "        curr.next = new DNode(data);\n",
    "        curr.next.prev = curr;\n",
    "        return\n",
    "    }\n",
    "\n",
    "    public void print_list() {\n",
    "        DNode curr = head;\n",
    "        while (curr.next!=null){\n",
    "            System.out.print(curr.data + \"<->\");\n",
    "            curr = curr.next;\n",
    "        }\n",
    "        System.out.print(curr.data + \"\\n\");\n",
    "    }\n",
    "\n",
    "\n",
    "}\n",
    "\n",
    "DLinkedList dll1 = new DLinkedList(1);\n",
    "dll1.append(2);\n",
    "dll1.append(3);\n",
    "dll1.append(4);\n",
    "dll1.insert(4,5);\n",
    "dll1.print_list();  \n",
    "dll1.delete(5);\n",
    "dll1.print_list();  \n",
    "\n"
   ]
  }
 ],
 "metadata": {
  "kernelspec": {
   "display_name": "Java",
   "language": "java",
   "name": "java"
  },
  "language_info": {
   "codemirror_mode": "java",
   "file_extension": ".jshell",
   "mimetype": "text/x-java-source",
   "name": "Java",
   "pygments_lexer": "java",
   "version": "11.0.20+8-post-Ubuntu-1ubuntu120.04"
  },
  "orig_nbformat": 4
 },
 "nbformat": 4,
 "nbformat_minor": 2
}
