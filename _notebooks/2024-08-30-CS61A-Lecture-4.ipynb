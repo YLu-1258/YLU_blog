{
 "cells": [
  {
   "cell_type": "markdown",
   "metadata": {},
   "source": [
    "---\n",
    "- title: \"'CS61A: Lecture 4'\"\n",
    "- author: alex\n",
    "- badges: true\n",
    "- comments: true\n",
    "- categories: [CS61A]\n",
    "- date: 2024-09-04 12:00:00 -0800\n",
    "- tags: [CS61A]\n",
    "---"
   ]
  },
  {
   "cell_type": "markdown",
   "metadata": {},
   "source": [
    "# Designing Functions\n",
    "- A function's *domain* is the set of all inputs it might possibly take as arguments.\n",
    "    - A function's *range* is the set of output values it might possibly return\n",
    "- A pure function's *behavior* is the relationship it establishes between the input and output.\n",
    "- Good programmer practice: Implement a process only once and do not repeat it many times."
   ]
  },
  {
   "cell_type": "code",
   "execution_count": null,
   "metadata": {},
   "outputs": [],
   "source": [
    "# same_length.py\n",
    "def digits(a, b):\n",
    "    a_digits = 0\n",
    "    while a > 0:\n",
    "        a = a // 10\n",
    "        a_digits = a_digits + 1\n",
    "    return a_digits\n",
    "\n",
    "def same_length(a,b):\n",
    "    return digits(a) == digits(b)"
   ]
  },
  {
   "cell_type": "markdown",
   "metadata": {},
   "source": [
    "# Higher Order Functions\n",
    "- Functions can be passed as parameters to another function.\n",
    "- Summation Example"
   ]
  },
  {
   "cell_type": "code",
   "execution_count": 4,
   "metadata": {},
   "outputs": [
    {
     "data": {
      "text/plain": [
       "225"
      ]
     },
     "execution_count": 4,
     "metadata": {},
     "output_type": "execute_result"
    }
   ],
   "source": [
    "def cube(k):\n",
    "    return pow(k, 3)\n",
    "\n",
    "def summation(n, term):\n",
    "    total, k = 0, 1\n",
    "    while k <= n:\n",
    "        total, k = total + term(k), k+1\n",
    "    return total\n",
    "\n",
    "summation(5, cube)"
   ]
  },
  {
   "cell_type": "markdown",
   "metadata": {},
   "source": [
    "## Program Design\n",
    "- Modularity: Simple objects can be combined to create more complex operations\n",
    "- Abstraction: We can hide complex operations behind a name and trust that it works every time.\n",
    "- Separation of Concerns (??)\n",
    "\n",
    "## Functions are Return values\n",
    "- Locally Defined Functions\n",
    "    - Functions that are defined within other function bodies are bound to names in a local frame\n",
    "\n",
    "## Twenty-One Game\n",
    "- Example:"
   ]
  },
  {
   "cell_type": "code",
   "execution_count": 7,
   "metadata": {},
   "outputs": [
    {
     "data": {
      "text/plain": [
       "1"
      ]
     },
     "execution_count": 7,
     "metadata": {},
     "output_type": "execute_result"
    }
   ],
   "source": [
    "def play(strategy0, strategy1, goal=21):\n",
    "    n = 0\n",
    "    who = 0\n",
    "    while n < goal:\n",
    "        if who == 0:\n",
    "            n = n + strategy0()\n",
    "            who = 1\n",
    "        elif who == 1:\n",
    "            n = n + strategy1()\n",
    "            who = 0\n",
    "    return who\n",
    "\n",
    "def three_strategy():\n",
    "    return 3\n",
    "\n",
    "play(three_strategy, three_strategy)"
   ]
  }
 ],
 "metadata": {
  "kernelspec": {
   "display_name": "Python 3",
   "language": "python",
   "name": "python3"
  },
  "language_info": {
   "codemirror_mode": {
    "name": "ipython",
    "version": 3
   },
   "file_extension": ".py",
   "mimetype": "text/x-python",
   "name": "python",
   "nbconvert_exporter": "python",
   "pygments_lexer": "ipython3",
   "version": "3.10.12"
  }
 },
 "nbformat": 4,
 "nbformat_minor": 2
}
