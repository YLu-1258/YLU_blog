{
 "cells": [
  {
   "cell_type": "markdown",
   "metadata": {},
   "source": [
    "---\n",
    "- title: \"'CS61B: Lecture 19'\"\n",
    "- author: alex\n",
    "- badges: true\n",
    "- comments: true\n",
    "- categories: [CS61B]\n",
    "- date: 2025-03-10 1:00:00 -0800\n",
    "- math: true\n",
    "- tags: [CS61B, Hashing, JAVA]\n",
    "---"
   ]
  },
  {
   "cell_type": "markdown",
   "metadata": {},
   "source": [
    "# Hashing II\n",
    "- Two implementations for sets and maps\n",
    "    - RB Tree based approach:\n",
    "        - Requires items to be ocmparable and has logarithmic time operations.\n",
    "    - Hash table based approach: HashSet and HashMap.\n",
    "        - Constant time operations.\n",
    "- Hash Table:\n",
    "    - Data is converted into a hash code, the has code is reduced to a valid index.\n",
    "    - Data is stored in a buckey corresponding to that index.\n",
    "        - Each bucket is a \"separate chain\" of items.\n",
    "    - We resize when load factor N/M exceeds some limit.\n",
    "    - If items are spread out nicely, we get around $\\Theta(1)$ average runtime.\n",
    "- Values are seemingly placed into random bins in the hashing array.\n",
    "    - This is due to the fact that the hashing function decides where the indices are.\n",
    "    - The hashing function is by default based on the memory location of the object."
   ]
  },
  {
   "cell_type": "code",
   "execution_count": 2,
   "metadata": {},
   "outputs": [
    {
     "data": {
      "text/plain": [
       "5"
      ]
     },
     "execution_count": 2,
     "metadata": {},
     "output_type": "execute_result"
    }
   ],
   "source": [
    "Integer x = 5;\n",
    "x.hashCode();"
   ]
  },
  {
   "cell_type": "markdown",
   "metadata": {},
   "source": [
    "- The goal of a hash function is to try and spread out item evenly.\n",
    "    - Thus the memory address is effectively random, so items should be evenly distributed.\n",
    "- However, sometimes we do not want to use the default hash function.\n",
    "    - If we consider two objects to be equal based on their value and not by their reference, then it is possible that we cannot find a value in the hashmap as the memory address of our object does not match with the new identical object that we have.\n",
    "    - We need to override the hashCode to hash a more intrinsic property of the object, something that all equal objects share. Such as the color of a colored number.\n",
    "- If two objects are equal they should have the same hashCode so that the hashtable could always find it.\n",
    "- If quals is overriden, the hashCode should also be overriden in a consistent manner.\n",
    "    - If two objects are equals, they must have te same hashCode.\n",
    "    - If we don't\n",
    "        - Contains can't find objects.\n",
    "        - Add results in duplicates.\n",
    "\n",
    "# Immutable and Mutable Data Types\n",
    "- Immutable data types is a type where an instance cannot change in any way after instantiation.\n",
    "    - The Integer, String, and Date classes are immutable.\n",
    "    - the `final` keyword help the compiler ensure immutability.\n",
    "    - final is not sufficient nor necessary for a class to be immutable.\n",
    "- Advantages of immutability: Less to think about, avoids bugs and makes debugging easier.\n",
    "- Disadvantages of immutability: Must create a new object anytime anything changes, inefficient!\n",
    "\n",
    "## Mutable HashSet Keys.\n",
    "- What if we change a key in a hashset after it's been hashed?\n",
    "- The moment we change an object's composition, it would have a different hashcode and might point to a different bin. So we'd ave an issue.\n",
    "- Bottom line is to never mutate an object being used as a key, which could give us incorrect results and make the item get lost.\n",
    "    - We are allowed to change things so long as it does not change the equals() value.\n",
    "- In Java, `HashSet` looks effectively identical to `HashMap`, except the vlaues of `HashMap` are ignored in a HashSet."
   ]
  }
 ],
 "metadata": {
  "kernelspec": {
   "display_name": "Java",
   "language": "java",
   "name": "java"
  },
  "language_info": {
   "codemirror_mode": "java",
   "file_extension": ".jshell",
   "mimetype": "text/x-java-source",
   "name": "java",
   "pygments_lexer": "java",
   "version": "17.0.14+7-Ubuntu-122.04.1"
  }
 },
 "nbformat": 4,
 "nbformat_minor": 2
}
