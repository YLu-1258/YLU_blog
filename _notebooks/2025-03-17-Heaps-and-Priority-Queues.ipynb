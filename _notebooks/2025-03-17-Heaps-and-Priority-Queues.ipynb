{
 "cells": [
  {
   "cell_type": "markdown",
   "metadata": {},
   "source": [
    "---\n",
    "- title: \"Heaps and Priority Queues\"\n",
    "- author: alex\n",
    "- badges: true\n",
    "- comments: true\n",
    "- categories: [CS61B]\n",
    "- date: 2025-03-17 1:00:00 -0800\n",
    "- math: true\n",
    "- tags: [CS61B, Data Structures, Heaps, Priority Queues, JAVA]\n",
    "---"
   ]
  },
  {
   "cell_type": "markdown",
   "metadata": {},
   "source": [
    "# Prioritiy Queues\n",
    "- A **priority queue** is another type of an abstract data type.\n",
    "    - It serves as a collection of items. We may add items to this bag and remove items, but we may only interact with the smallest item of the bag."
   ]
  },
  {
   "cell_type": "code",
   "execution_count": 11,
   "metadata": {
    "vscode": {
     "languageId": "java"
    }
   },
   "outputs": [],
   "source": [
    "/** (Min) Priority Queue: Allowing tracking and removal of \n",
    "  * the smallest item in a priority queue. */\n",
    "  public interface MinPQ<Item> {\n",
    "    /** Adds the item to the priority queue. */\n",
    "    public void add(Item x);\n",
    "    /** Returns the smallest item in the priority queue. */\n",
    "    public Item getSmallest();\n",
    "    /** Removes the smallest item from the priority queue. */\n",
    "    public Item removeSmallest();\n",
    "    /** Returns the size of the priority queue. */\n",
    "    public int size();\n",
    "}"
   ]
  },
  {
   "cell_type": "markdown",
   "metadata": {},
   "source": [
    "- Imagine trying to actively keep an array containing the maximum or minimum values gathered over time. If we took a regular list structure, we would have to store the total $N$ items and then sort and find the $M$ largest or smallest elements\n",
    "    - This would take $log(N\\log N)$ time complexity and $N$ space complexity.\n",
    "    - If we used a priority queue intead, we would only be working with $M$ complexity.\n",
    "- Ex: "
   ]
  },
  {
   "cell_type": "code",
   "execution_count": null,
   "metadata": {
    "vscode": {
     "languageId": "java"
    }
   },
   "outputs": [],
   "source": [
    "public List<String> unharmoniousTexts(Sniffer sniffer, int M) {\n",
    "    ArrayList<String>allMessages = new ArrayList<String>();\n",
    "    for (Timer timer = new Timer(); timer.hours() < 24; ) {\n",
    "        allMessages.add(sniffer.getNextMessage());\n",
    "    }\n",
    "\n",
    "    Comparator<String> cmptr = new HarmoniousnessComparator();\n",
    "    Collections.sort(allMessages, cmptr, Collections.reverseOrder());\n",
    "\n",
    "    return allMessages.sublist(0, M);"
   ]
  },
  {
   "cell_type": "markdown",
   "metadata": {},
   "source": [
    "- The above code is inefficient, we may use a priority queue however:"
   ]
  },
  {
   "cell_type": "code",
   "execution_count": null,
   "metadata": {
    "vscode": {
     "languageId": "java"
    }
   },
   "outputs": [],
   "source": [
    "public MinPQ<String> unharmoniousTexts(Sniffer sniffer, int M) {\n",
    "    MinPQ<String> unharmonious = new HeapMinPQ<>();\n",
    "\n",
    "    for (Timer timer = new Timer(); timer.hours() < 24; ) {\n",
    "        unharmonious.add(sniffer.getNextMessage());\n",
    "        if (unharmonious.size() > M) {\n",
    "            unharmonious.removeSmallest();\n",
    "        }\n",
    "    }\n",
    "\n",
    "    return unharmonious;\n",
    "}"
   ]
  },
  {
   "cell_type": "markdown",
   "metadata": {},
   "source": [
    "- When we look at other data structure implementations we have, we note that a bushy BST gives us the best complexity amongst all our desired methods. It has $\\Theta (\\log N)$ complexity for `add`, `getSmallest`, and `removeSmallest`.\n",
    "\n",
    "# Heaps\n",
    "- We want to implement a PQ using a binary tree. This tree must be **complete** and obey the **min-heap** property.\n",
    "    - **Min-heap:** Every node is less than or equal to both of its children.\n",
    "    - **Complete:** Missing items only at the bottom level (if any), all nodes are as far left as possible.\n",
    "\n",
    "## Heap Implementation\n",
    "- `add`: We add to the end of the heap temporarily. We swim up the hierarchy to the proper place and we may swap nodes if the child happens to be lesser than the parent.\n",
    "    - Swimming means that we keep moving along the edges of the tree until the new key that we added is greater than its parents. Very simple! Just trace up the parents hierarchy.\n",
    "- `getSmallest`: Return the root of the heap. Min-heap guarantees that the root is the smallest value.\n",
    "- `removeSmallest`: Swap the last item in the heap into the root. Sink the hierarchy to the proper place.\n",
    "    - Sinking means that we swap nodes if the parent is greater than the child. We swap with the smallest child to preserve min-heap.\n",
    "\n",
    "# Implementations of Trees\n",
    "- There are various implementation of trees that we may consider.\n",
    "## Tree based Implementations\n",
    "- **Fixed-Width Nodes:** Our tree is represented by Nodes and each node contains a specific key and references to its children."
   ]
  },
  {
   "cell_type": "code",
   "execution_count": null,
   "metadata": {
    "vscode": {
     "languageId": "java"
    }
   },
   "outputs": [],
   "source": [
    "public class Tree1A<K> {\n",
    "    K k;\n",
    "    Tree1A left;\n",
    "    Tree1A middle;\n",
    "    Tree1A right;\n",
    "    ...\n",
    "  }"
   ]
  },
  {
   "cell_type": "markdown",
   "metadata": {},
   "source": [
    "- **Variable-width Nodes:** Our tree stores a value, and children are stored in variable length arrays."
   ]
  },
  {
   "cell_type": "code",
   "execution_count": null,
   "metadata": {
    "vscode": {
     "languageId": "java"
    }
   },
   "outputs": [],
   "source": [
    "public class Tree1B<Key> {\n",
    "    Key k;\n",
    "    Tree1B[] children;\n",
    "    ...\n",
    "}  "
   ]
  },
  {
   "cell_type": "markdown",
   "metadata": {},
   "source": [
    "- **Sibling Tree:** Noddes maintain reference to their siblings like a linked list."
   ]
  },
  {
   "cell_type": "code",
   "execution_count": null,
   "metadata": {
    "vscode": {
     "languageId": "java"
    }
   },
   "outputs": [],
   "source": [
    "public class Tree1C<Key> {\n",
    "    Key k;\n",
    "    Tree1C favoredChild;\n",
    "    Tree1C sibling;\n",
    "    ...\n",
    "  }"
   ]
  },
  {
   "cell_type": "markdown",
   "metadata": {},
   "source": [
    "## Array based implementations\n",
    "- **Key and Parents Array:** We keep track of all the keys by assigning each key an index in an array. We then keep track of the parents by storing another array of the same length, where each index contains the index of the parent key of that node.\n",
    "![Array Based Tree](/assets/img/CS61B/arrayTree.png)\n",
    "- However, we note that this implementation provides a lot of redundancy. The keys and the parents share a pattern in that two keys together share the same parent. We recall that a heap is a complete tree, meaning that it would never have a gap in itself. Thus, we could just compress our array based implementation into one array:\n",
    "![Compressed Array Based Tree](/assets/img/CS61B/compressedArrayTree.png)\n",
    "- Ultimately, this is how we may represent a heap as an array. Writing the swim and parent operations could proceed as such:"
   ]
  },
  {
   "cell_type": "code",
   "execution_count": null,
   "metadata": {
    "vscode": {
     "languageId": "java"
    }
   },
   "outputs": [
    {
     "data": {
      "text/plain": [
       "1"
      ]
     },
     "execution_count": 10,
     "metadata": {},
     "output_type": "execute_result"
    }
   ],
   "source": [
    "public void swim(int k) {\n",
    "    if (keys[parent(k)] > keys[k]) {\n",
    "        swap(k, parent(k));\n",
    "    }\n",
    "    swim(parent(k));\n",
    "}\n",
    "\n",
    "public int parent(int k) {\n",
    "    return Math.max((k-1)/2, 0);\n",
    "}\n",
    "\n",
    "parent(4);"
   ]
  },
  {
   "cell_type": "markdown",
   "metadata": {},
   "source": []
  },
  {
   "cell_type": "code",
   "execution_count": 25,
   "metadata": {
    "vscode": {
     "languageId": "java"
    }
   },
   "outputs": [
    {
     "data": {
      "text/plain": [
       "[a, c, b, e, f, g, d, null, null, null, null, null, null, null, null, null, null, null, null, null, null, null, null, null, null, null, null, null, null, null, null, null]"
      ]
     },
     "execution_count": 25,
     "metadata": {},
     "output_type": "execute_result"
    }
   ],
   "source": [
    "public class MinHeap<K extends Comparable<? super K>> implements MinPQ<K> {\n",
    "    private K[] keys;\n",
    "    private int size;\n",
    "\n",
    "    public MinHeap() {\n",
    "        this.keys = (K[]) new Comparable[32];\n",
    "        this.size = 0;\n",
    "    }\n",
    "    /** Adds the item to the priority queue. */\n",
    "    @Override\n",
    "    public void add(K x) {\n",
    "        if (size >= keys.length) {\n",
    "            resize(2 * keys.length);\n",
    "        }\n",
    "        this.keys[this.size] = x;\n",
    "        this.size += 1;\n",
    "        swim(this.size - 1);\n",
    "    }\n",
    "\n",
    "    @Override\n",
    "    public String toString() {\n",
    "        return Arrays.toString(this.keys);\n",
    "    }\n",
    "\n",
    "    /** Returns the smallest item in the priority queue. */\n",
    "    public K getSmallest() {\n",
    "        return this.keys[0];\n",
    "    };\n",
    "    /** Removes the smallest item from the priority queue. */\n",
    "    public K removeSmallest() {\n",
    "        K returnValue = this.getSmallest();\n",
    "        this.keys[0] = this.keys[this.size - 1];\n",
    "        this.size -= 1;\n",
    "        sink(0);\n",
    "        return returnValue;\n",
    "    }\n",
    "\n",
    "    /** Returns the size of the priority queue. */\n",
    "    public int size() {\n",
    "        return this.size;\n",
    "    };\n",
    "\n",
    "    private void swim(int k) {\n",
    "        if (k <= 0 || this.keys[this.parent(k)].compareTo(this.keys[k]) <= 0) {\n",
    "            return;\n",
    "        }\n",
    "        if (this.keys[this.parent(k)].compareTo(this.keys[k]) > 0) {\n",
    "            this.swap(k, this.parent(k));\n",
    "        }\n",
    "        this.swim(parent(k));\n",
    "    }\n",
    "\n",
    "    private void sink(int k) {\n",
    "        while (2 * k + 1 < this.size()) {\n",
    "            int smaller = getLeftChild(k);\n",
    "            int rightChild = getRightChild(k);\n",
    "\n",
    "            if (rightChild < this.size() && this.keys[rightChild].compareTo(this.keys[smaller]) < 0) {\n",
    "                smaller = rightChild;\n",
    "            }\n",
    "\n",
    "            if (this.keys[smaller].compareTo(this.keys[k]) >= 0) {\n",
    "                break;\n",
    "            }\n",
    "            swap(smaller, k);\n",
    "            k = smaller;\n",
    "        }\n",
    "    }\n",
    "    \n",
    "    private int parent(int k) {\n",
    "        return Math.max((k-1)/2, 0);\n",
    "    }\n",
    "    \n",
    "    private void swap(int i, int j) {\n",
    "        K temp = this.keys[i];\n",
    "        this.keys[i] = this.keys[j];\n",
    "        this.keys[j] = temp;\n",
    "    }\n",
    "\n",
    "    private int getLeftChild(int parent) {\n",
    "        return parent * 2 + 1;\n",
    "    }\n",
    "\n",
    "    private int getRightChild(int parent) {\n",
    "        return (parent + 1 ) * 2;\n",
    "    }\n",
    "\n",
    "    private void resize(int capacity) {\n",
    "        K[] temp = (K[]) new Comparable[capacity];\n",
    "        System.arraycopy(this.keys, 0, temp, 0, this.size);\n",
    "        keys = temp;\n",
    "    }\n",
    "}\n",
    "\n",
    "MinPQ<String> test = new MinHeap<>();\n",
    "test.add(\"b\");\n",
    "test.add(\"c\");\n",
    "test.add(\"d\");\n",
    "test.add(\"e\");\n",
    "test.add(\"f\");\n",
    "test.add(\"g\");\n",
    "test.add(\"a\");\n",
    "test.toString();"
   ]
  }
 ],
 "metadata": {
  "kernelspec": {
   "display_name": "Java",
   "language": "java",
   "name": "java"
  },
  "language_info": {
   "codemirror_mode": "java",
   "file_extension": ".jshell",
   "mimetype": "text/x-java-source",
   "name": "Java",
   "pygments_lexer": "java",
   "version": "17.0.14+7-Ubuntu-122.04.1"
  }
 },
 "nbformat": 4,
 "nbformat_minor": 2
}
