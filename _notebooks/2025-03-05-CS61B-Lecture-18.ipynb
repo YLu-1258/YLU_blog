{
 "cells": [
  {
   "cell_type": "markdown",
   "metadata": {},
   "source": [
    "---\n",
    "- title: \"'CS61B: Lecture 18'\"\n",
    "- author: alex\n",
    "- badges: true\n",
    "- comments: true\n",
    "- categories: [CS61B]\n",
    "- date: 2025-03-03 1:00:00 -0800\n",
    "- math: true\n",
    "- tags: [CS61B, Tree Rotation, JAVA]\n",
    "---"
   ]
  },
  {
   "cell_type": "markdown",
   "metadata": {},
   "source": [
    "# Tree Rotation\n",
    "- We may reotate trees left or right to keep trees balanced. In fact, in any BST, it is possible to move to a different configuration using \"rotation\".\n",
    "- **rotateLeft(G):** let x be the right child of G. Make G the new left child of x.\n",
    "    - X's left child now becomes G's right child.\n",
    "- **rotateRight(G):** let x be the left child of G. Make G the new right child of x.\n",
    "    - X's right child now becomes G's left child.\n",
    "    ![tree rotation](/assets/img/CS61B/treerotation.png)\n",
    "- These rotations can help us balance a tree.\n",
    "    - The rotation preseves the search tree property.\n",
    "    - We want to eventually reach a tree with the minimum average depth.\n",
    "- The 2-3 tree can be used to model the rotations to self balance a binary search tree.\n",
    "- There are many types of search trees:\n",
    "    - Binary search Trees: Balanced by rotation but no existing algorithm for doing so yet.\n",
    "    - 2-3 Trees: Balanced by construction: No rotation required.\n",
    "    - We want to build a BST that is structurally identical to a 2-3 Tree\n",
    "\n",
    "# Writing a BST that is identical to a 2-3 Tree\n",
    "- Such a BST is called a Red-Black Tree.\n",
    "    - We color some of the link red. In a 2-3 Tree, we seperate a two node into a larger node whose left child is the smaller node along with all the children that are smaller than the larger node.\n",
    "    - The nodes within a 3 node are connected with a left-leaning left edge from the greater node as the parent, and the lesser node as the left child.\n",
    "- A BST with left glue links that represents that represents a 2-3 tree is called a \"left Leaning Red Black Binary Search Tree\n",
    "![LLRB](/assets/img/CS61B/LLRB.png)\n",
    "- Searching in an LLRB for a key is exactly the same as a BST.\n",
    "\n",
    "# LLRB Construction\n",
    "- We don't want to build a 2-3 tree and convert it.\n",
    "- We want to implement an LLRB insert\n",
    "    - Insert as usual into a BST, but then use zero or more totations to maintain a 1-1 mapping with the 2-3 Tree\n",
    "    - Pretend like we are a 2-3 tree when we are doing rotations.\n",
    "- Should we use a red or black link when inserting?\n",
    "    - In 2-3 trees, new values are always added to a leaf node.\n",
    "    - **Insertion on the left:** We add a red link to connect the new node as the left child of a leaf node.\n",
    "    - **Insertion on the right:** We add the right child, and we realize that we have a 3 node in a 2-3 tree. Thus, we want to rotate the parent to the left so that we form a left-leaning, red edge.\n",
    "    - **Double Insertion on the left:** This means that we have a \n",
    "    - **Temporary 4 node violation**"
   ]
  },
  {
   "cell_type": "code",
   "execution_count": null,
   "metadata": {
    "vscode": {
     "languageId": "plaintext"
    }
   },
   "outputs": [],
   "source": []
  }
 ],
 "metadata": {
  "kernelspec": {
   "display_name": "Java",
   "language": "java",
   "name": "java"
  },
  "language_info": {
   "codemirror_mode": "java",
   "file_extension": ".jshell",
   "mimetype": "text/x-java-source",
   "name": "java",
   "pygments_lexer": "java",
   "version": "17.0.14+7-Ubuntu-122.04.1"
  }
 },
 "nbformat": 4,
 "nbformat_minor": 2
}
