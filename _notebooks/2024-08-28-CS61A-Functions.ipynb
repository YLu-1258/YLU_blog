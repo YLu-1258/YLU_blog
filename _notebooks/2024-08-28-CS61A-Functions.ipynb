{
 "cells": [
  {
   "cell_type": "markdown",
   "metadata": {},
   "source": [
    "---\n",
    "- title: Functions\n",
    "- author: alex\n",
    "- badges: true\n",
    "- comments: true\n",
    "- categories: [CS61A]\n",
    "- date: 2024-08-28 02:00:00 -0800\n",
    "- tags: [CS61A, functions]\n",
    "---"
   ]
  },
  {
   "cell_type": "markdown",
   "metadata": {},
   "source": [
    "# Expressions\n",
    "- Most things have a representation in Python. For example, Pi.\n",
    "    - However, to properly use Pi, we have to first import it with a statement like `from math import pi`\n",
    "- Additionally, Python also enables us the feature to assign values to a name through **assignment statements**\n",
    "    - Ex: radius = 10\n",
    "- Consider the Code:"
   ]
  },
  {
   "cell_type": "code",
   "execution_count": 4,
   "metadata": {},
   "outputs": [
    {
     "name": "stdout",
     "output_type": "stream",
     "text": [
      "Area: 314.1592653589793 Circumference: 62.83185307179586\n",
      "Area: 314.1592653589793 Circumference: 62.83185307179586\n"
     ]
    }
   ],
   "source": [
    "from math import pi\n",
    "radius = 10\n",
    "area, circ = pi * radius * radius, 2 * pi * radius\n",
    "print(\"Area: \" + str(area) + \" Circumference: \" + str(circ))\n",
    "radius = 20\n",
    "print(\"Area: \" + str(area) + \" Circumference: \" + str(circ))"
   ]
  },
  {
   "cell_type": "markdown",
   "metadata": {},
   "source": [
    "- Even though the value of radius was changed to 20, the python interpreter still only recalls the area of the circle when the radius was 10. The value of area is bounded to it at calculation\n",
    "- Names may also be assigned to functions:"
   ]
  },
  {
   "cell_type": "code",
   "execution_count": 5,
   "metadata": {},
   "outputs": [
    {
     "name": "stdout",
     "output_type": "stream",
     "text": [
      "<class 'builtin_function_or_method'>\n",
      "<class 'builtin_function_or_method'>\n",
      "3\n",
      "3\n"
     ]
    }
   ],
   "source": [
    "print(type(max))\n",
    "f = max\n",
    "print(type(f))\n",
    "# max = 7 If this line is called, max will no longer refer to the max function. It would be just a number   \n",
    "print(max(1,2,3))\n",
    "print(f(1,2,3))"
   ]
  },
  {
   "cell_type": "markdown",
   "metadata": {},
   "source": [
    "- Operators that are placed in between the operands such as + or - are known as **infix operators**\n",
    "    - Some infix operators have function names defined within the operator module\n",
    "- There are three ways of binding values to a name:\n",
    "    - Import the name\n",
    "    - Assign the name\n",
    "    - Define the name using `def`"
   ]
  },
  {
   "cell_type": "code",
   "execution_count": 6,
   "metadata": {},
   "outputs": [
    {
     "data": {
      "text/plain": [
       "121"
      ]
     },
     "execution_count": 6,
     "metadata": {},
     "output_type": "execute_result"
    }
   ],
   "source": [
    "def square(x):\n",
    "    return x * x\n",
    "\n",
    "square(11)"
   ]
  },
  {
   "cell_type": "markdown",
   "metadata": {},
   "source": [
    "- Knowing how functions work, we could go back and revise our code to ensure that radius and are are always in sync."
   ]
  },
  {
   "cell_type": "code",
   "execution_count": 8,
   "metadata": {},
   "outputs": [
    {
     "data": {
      "text/plain": [
       "314.1592653589793"
      ]
     },
     "execution_count": 8,
     "metadata": {},
     "output_type": "execute_result"
    }
   ],
   "source": [
    "def area():\n",
    "    return pi * radius * radius\n",
    "\n",
    "area()\n",
    "radius = 10\n",
    "area()"
   ]
  },
  {
   "cell_type": "markdown",
   "metadata": {},
   "source": [
    "- The output of a function gets re-evaluated everytime it is called or appears as a call expression.\n",
    "- Two main types of expressions: a primative expression, and a call expression"
   ]
  },
  {
   "cell_type": "markdown",
   "metadata": {},
   "source": [
    "# Discussion Question 1\n",
    "```python\n",
    ">>> f = min\n",
    ">>> f = max\n",
    ">>> g, h = min, max\n",
    ">>> max = g\n",
    ">>> max(f(2,g(h(1,5), 3)), 4)\n",
    "```\n",
    "The first 4 lines essentially mkae f and h max operations, while g and max itself is finally converted to a min operation. Thus, the final result of this code would be 3."
   ]
  }
 ],
 "metadata": {
  "kernelspec": {
   "display_name": "Python 3",
   "language": "python",
   "name": "python3"
  },
  "language_info": {
   "codemirror_mode": {
    "name": "ipython",
    "version": 3
   },
   "file_extension": ".py",
   "mimetype": "text/x-python",
   "name": "python",
   "nbconvert_exporter": "python",
   "pygments_lexer": "ipython3",
   "version": "3.10.12"
  }
 },
 "nbformat": 4,
 "nbformat_minor": 2
}
