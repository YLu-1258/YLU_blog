{
 "cells": [
  {
   "cell_type": "markdown",
   "metadata": {},
   "source": [
    "---\n",
    "- title: \"'CS61A: Lecture 25'\"\n",
    "- author: alex\n",
    "- badges: true\n",
    "- comments: true\n",
    "- categories: [CS61A]\n",
    "- date: 2024-10-25 1:00:00 -0800\n",
    "- math: true\n",
    "- tags: [CS61A, Scheme]\n",
    "---"
   ]
  },
  {
   "cell_type": "markdown",
   "metadata": {},
   "source": [
    "# Lecture - The Scheme Programming Language\n",
    "- 2 Reasons\n",
    "    - Concepts in Python transfers into another programing language\n",
    "    - Build an interpreter for Scheme\n",
    "        - A program that runs other programs\n",
    "- Scheme as a language\n",
    "    - There are only expressions in the language.\n",
    "    - ***Each expression is related to a value.***\n",
    "    - Expressions are evaluated in an environment (which gives symbols meaning) to produce a value.\n",
    "        - Local frame: \"the course instructor\" has a specific meaning for a particular course.\n",
    "        - Global frame: \"multiply\" is an operation that everyone knows about.\n",
    "        - Local before Dlobal: in a particular context, \"multiply\" can mean something different.\n",
    "- Scheme programs consist of expressions, which can be:\n",
    "    - Self-evaluating expressions: 2, 3.3, true\n",
    "    - Symbols: +, -, quotient, not\n",
    "    - Call expressions: (quotient 10 2), (f x)\n",
    "    - Special forms: (if a b c) (let ((x 2)) (= x 1))\n",
    "- These expressions are either primaitive or combinations.\n",
    "- True and false values in scheme: `#t` or `#f`\n",
    "\n",
    "## The minus and division operator (`-`)\n",
    "- different behaviors based on number of parameters\n",
    "    - **No parameters:** Errors\n",
    "    - **One parameter:** Minus would get the negative of the value, division would return 1 over the value.\n",
    "    - **Many parameters:** Minus would subtract multiple values in a row from the first value, same with division.\n",
    "- Integer division is `quotient`\n",
    "- Decimal division is `/`\n",
    "\n",
    "# Defining Functions/Prodecures\n",
    "- There are no return keywords in scheme. In scheme, the value of a call expression is the value of the last body.\n",
    "- Instead of multiple return statements, Scheme uses nested conditional expressions.\n",
    "    - `if` and `cond` evaluate to values themselves.\n",
    "- If and cond can also skip evaluating conditions. It will only evaluate a condition if we reach that point.\n",
    "- In scheme, only false is the false value, everything else is true.\n",
    "- The Nonetype in scheme is just `undefined`.\n",
    "- The value of a define expression is the name of the procedure we define\n",
    "- We may mimic if-elif-else behavior with nested ifs"
   ]
  },
  {
   "cell_type": "code",
   "execution_count": null,
   "metadata": {
    "vscode": {
     "languageId": "plaintext"
    }
   },
   "outputs": [],
   "source": [
    "(if (condition) (return value) (if (condition2) (return value true) (return value false)))"
   ]
  },
  {
   "cell_type": "markdown",
   "metadata": {},
   "source": [
    "# Special forms\n",
    "- Some Scheme combinations are not call expressions because they are special forms"
   ]
  },
  {
   "cell_type": "code",
   "execution_count": null,
   "metadata": {
    "vscode": {
     "languageId": "plaintext"
    }
   },
   "outputs": [],
   "source": [
    "scm> (define (f x) (print x) False)\n",
    "scm> (and (f 3) (f 4))\n",
    "3\n",
    "#4"
   ]
  },
  {
   "cell_type": "markdown",
   "metadata": {},
   "source": [
    "- Scheme has no for/while statements, so recursion is required to iterate.\n",
    "    - Ex: summiong first n values"
   ]
  },
  {
   "cell_type": "code",
   "execution_count": null,
   "metadata": {
    "vscode": {
     "languageId": "plaintext"
    }
   },
   "outputs": [],
   "source": [
    "(define (sum-first-n n)\n",
    "    (define (f k total)\n",
    "        (if (> k n)\n",
    "            total\n",
    "            (f (+ k 1) (+ total k))\n",
    "        )\n",
    "    )\n",
    "    (f 1 0)\n",
    ")"
   ]
  },
  {
   "cell_type": "markdown",
   "metadata": {},
   "source": [
    "- We may create while and for loops in scheme but that requires another special form, which requires a macro.\n",
    "\n",
    "# Lambda Expressions\n",
    "- Lambda expressions evaluate to anonymous procedures\n",
    "    - `(lambda (arguments) (return value))`\n",
    "\n",
    "# Cond & Begin\n",
    "- Cond behaves like an if-elif-else statement\n"
   ]
  },
  {
   "cell_type": "code",
   "execution_count": null,
   "metadata": {
    "vscode": {
     "languageId": "plaintext"
    }
   },
   "outputs": [],
   "source": [
    "(print\n",
    "    (cond\n",
    "        ((> x 10) 'big)\n",
    "        ((> x 5) 'medium)\n",
    "        (else 'small)\n",
    "    )\n",
    ")"
   ]
  },
  {
   "cell_type": "markdown",
   "metadata": {},
   "source": [
    "- begin allows us to combine multiple expressions into one expression"
   ]
  },
  {
   "cell_type": "markdown",
   "metadata": {},
   "source": [
    "# Examples\n",
    "- Write `a-plus-abs-b` that adds a+abs(b)"
   ]
  },
  {
   "cell_type": "code",
   "execution_count": null,
   "metadata": {
    "vscode": {
     "languageId": "plaintext"
    }
   },
   "outputs": [],
   "source": [
    "(define (a-plus-abs-b a b)\n",
    "    ((if (> 0 b) - +) a b)\n",
    ")"
   ]
  }
 ],
 "metadata": {
  "kernelspec": {
   "display_name": "Python 3",
   "language": "python",
   "name": "python3"
  },
  "language_info": {
   "codemirror_mode": {
    "name": "ipython",
    "version": 3
   },
   "file_extension": ".py",
   "mimetype": "text/x-python",
   "name": "python",
   "nbconvert_exporter": "python",
   "pygments_lexer": "ipython3",
   "version": "3.10.12"
  }
 },
 "nbformat": 4,
 "nbformat_minor": 2
}
