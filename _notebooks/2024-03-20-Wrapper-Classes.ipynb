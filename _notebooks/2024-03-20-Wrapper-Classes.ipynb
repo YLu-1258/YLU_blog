{
 "cells": [
  {
   "cell_type": "markdown",
   "metadata": {},
   "source": [
    "---\n",
    "layout: post\n",
    "title: Wrapper Classes\n",
    "description: Wrapper Classes Lesson\n",
    "courses: { csa: {week: 0} }\n",
    "type: plans\n",
    "---"
   ]
  },
  {
   "cell_type": "markdown",
   "metadata": {},
   "source": [
    "# Lesson on Java Wrapper Classes\n",
    "\n",
    "## Introduction\n",
    "- Java's primitive data types are efficient but not as flexible as objects.\n",
    "- Wrapper classes turn primitive data types into objects.\n",
    "- Part of `java.lang` package, automatically imported.\n",
    "\n",
    "\n",
    "## What Are Wrapper Classes?\n",
    "his is crucial in Java because it allows primitives to be used in contexts that require objects, like ArrayLists.\n",
    "- Each primitive data type in Java has a corresponding wrapper class. \n",
    "- Provide object versions of eight primitive types.\n",
    "- Enable primitives to be used in object-required scenarios, like collections.\n",
    "\n",
    "### Primitive Types and Their Wrappers\n",
    "- `byte` → `Byte`\n",
    "- `short` → `Short`\n",
    "- `int` → `?`\n",
    "- `long` → `Long`\n",
    "- `float` → `Float`\n",
    "- `double` → `?`\n",
    "- `char` → `Character`\n",
    "- `boolean` → `Boolean`\n",
    "\n",
    "Popcorn Hack: Fill out the above.\n",
    "\n",
    "# Why Use Wrapper Classes? \n",
    "- Collections Framework: The Collections Framework in Java works with objects, not primitive types. To store, for example, integers in an ArrayList, you need to use the Integer wrapper class.\n",
    "\n",
    "- Utilities: Wrapper classes provide useful methods. For instance, you can convert strings to integers or check the size of an integer or character.\n",
    "\n",
    "- Null Value Support: Primitive types cannot be null, but their wrapper classes can be. This is useful when you need a way to represent the absence of a value.\n",
    "\n",
    "## Creating Wrapper Objects\n",
    "1. **Constructor Method** (Older, less preferred method)\n",
    "   - `Integer myInt = new Integer(5);`\n",
    "   - `Double myDouble = new Double(4.5);`\n",
    "2. **valueOf() Method** (Preferred method)\n",
    "   - `Integer myInt = Integer.valueOf(5);`\n",
    "   - `Double myDouble = Double.valueOf(4.5);`\n",
    "\n",
    "## Autoboxing and Unboxing\n",
    "- **Autoboxing**: Automatic conversion from primitive to wrapper.\n",
    "  - `Integer myInt = 5;`\n",
    "- **Unboxing**: Automatic conversion from wrapper to primitive.\n",
    "  - `int myPrimitiveInt = myInt;`\n",
    "\n",
    "## Utility Methods\n",
    "- **Parsing Strings**: `int num = Integer.parseInt(\"123\");`\n",
    "- **Converting to Strings**: `String str = myInt.toString();`\n",
    "- **Comparing Values**: `int comparison = Integer.compare(5, 10);`\n",
    "\n",
    "## Example Code Snippets\n",
    "### Autoboxing and Unboxing\n",
    "```java\n",
    "Integer autoBoxedInt = 15; // Autoboxing\n",
    "int unboxedInt = autoBoxedInt; // Unboxing\n",
    "```\n",
    "\n",
    "### Using Utility Methods\n",
    "```java\n",
    "int parsedInt = Integer.parseInt(\"20\");\n",
    "String intString = Integer.toString(10);\n",
    "int comparisonResult = Integer.compare(5, 10);\n",
    "```\n",
    "\n",
    "### Practical Example"
   ]
  },
  {
   "cell_type": "code",
   "execution_count": 1,
   "metadata": {
    "vscode": {
     "languageId": "java"
    }
   },
   "outputs": [
    {
     "name": "stdout",
     "output_type": "stream",
     "text": [
      "Parsed Integer from String: 20\n",
      "Integer to String: 10\n"
     ]
    }
   ],
   "source": [
    "public class WrapperDemo {\n",
    "    public static void main(String[] args) {\n",
    "        // Creating Wrapper Objects\n",
    "        Integer myInt = Integer.valueOf(10);\n",
    "        Double myDouble = Double.valueOf(5.5);\n",
    "\n",
    "        // Demonstrating Autoboxing\n",
    "        Integer autoBoxedInt = 15;\n",
    "        \n",
    "        // Demonstrating Unboxing\n",
    "        int unboxedInt = autoBoxedInt;\n",
    "        \n",
    "        // Using Utility Methods\n",
    "        int parsedInt = Integer.parseInt(\"20\");\n",
    "        String intString = myInt.toString();\n",
    "        \n",
    "        // Displaying Results\n",
    "        System.out.println(\"Parsed Integer from String: \" + parsedInt);\n",
    "        System.out.println(\"Integer to String: \" + intString);\n",
    "    }\n",
    "}\n",
    "\n",
    "WrapperDemo.main(null);"
   ]
  },
  {
   "cell_type": "markdown",
   "metadata": {},
   "source": [
    "<h1>Example FRQ (2015 FRQ 2 ADAPTED)</h1>"
   ]
  },
  {
   "cell_type": "markdown",
   "metadata": {},
   "source": [
    "You are given a Java class called HiddenWord, which represents a hidden word puzzle game. Your task is to modify the HiddenWord class to include a method that returns the length of the hidden word as an instance of a wrapper class called WordLength. Provide comments throughout your code to ensure understanding of wrapper classes and their implementation in the HiddenWord class."
   ]
  },
  {
   "cell_type": "markdown",
   "metadata": {},
   "source": [
    "**SOLUTION**"
   ]
  },
  {
   "cell_type": "code",
   "execution_count": null,
   "metadata": {
    "vscode": {
     "languageId": "java"
    }
   },
   "outputs": [],
   "source": [
    "public class HiddenWord {\n",
    "    private String word;\n",
    "    private Integer length; // Using Integer wrapper class to store the length\n",
    "\n",
    "    // Constructor to initialize the hidden word and its length\n",
    "    public HiddenWord(String hWord) {\n",
    "        word = hWord;\n",
    "        length = hWord.length(); // Storing the length using the Integer wrapper class\n",
    "    }\n",
    "\n",
    "    // Method to retrieve the length of the word\n",
    "    public Integer getLength() {\n",
    "        return length;\n",
    "    }\n",
    "\n",
    "}\n"
   ]
  },
  {
   "cell_type": "markdown",
   "metadata": {},
   "source": [
    "<h1>Common Tips & Tricks for Classes FRQ</h1>"
   ]
  },
  {
   "cell_type": "markdown",
   "metadata": {},
   "source": [
    "1. Make sure to use all the names for the methods and classes that are given to you on the exam. This is a basic layup point, and not following instructions can cause you to lose easy points. Read the question as carefully as possible!"
   ]
  },
  {
   "cell_type": "markdown",
   "metadata": {},
   "source": [
    "2. The classes FRQ is always going to have the same structure - class, private instance variables, constructors, and accessing that instance variable. Then, there will be the algorithm that needs to be implemented, which you can likely figure out from the problem and code blobs it provides for you."
   ]
  },
  {
   "cell_type": "markdown",
   "metadata": {},
   "source": [
    "3. It is likely that Java wrapper classes are not going to be explicitly tested upon in the FRQs. However, you should remember the common wrapper classes - integer, double, boolean, character, etc. Furthermore, make sure that you don't unnecessarily use autoboxing/unboxing. You want your code to be as efficient and as object-oriented as possible, so make sure you are only autoboxing when you need to.\n"
   ]
  },
  {
   "cell_type": "markdown",
   "metadata": {},
   "source": [
    "<h1>HACKS</h1>"
   ]
  },
  {
   "cell_type": "markdown",
   "metadata": {},
   "source": [
    "(a) Provide a brief summary of what a wrapper class is and provide a small code block showing a basic example of a wrapper class."
   ]
  },
  {
   "cell_type": "markdown",
   "metadata": {},
   "source": [
    "(b) Create a Java wrapper class called Temperature to represent temperatures in Celsius. Your Temperature class should have the following features:\n",
    "\n",
    "Fields:\n",
    "\n",
    "A private double field to store the temperature value in Celsius.\n",
    "\n",
    "\n",
    "Constructor:\n",
    "\n",
    "A constructor that takes a double value representing the temperature in Celsius and initializes the field.\n",
    "\n",
    "\n",
    "Methods:\n",
    "\n",
    "getTemperature(): A method that returns the temperature value in Celsius.\n",
    "setTemperature(double value): A method that sets a new temperature value in Celsius.\n",
    "toFahrenheit(): A method that converts the temperature from Celsius to Fahrenheit and returns the result as a double value. "
   ]
  }
 ],
 "metadata": {
  "kernelspec": {
   "display_name": "Java",
   "language": "java",
   "name": "java"
  },
  "language_info": {
   "codemirror_mode": "java",
   "file_extension": ".jshell",
   "mimetype": "text/x-java-source",
   "name": "Java",
   "pygments_lexer": "java",
   "version": "17.0.8+7-Ubuntu-120.04.2"
  }
 },
 "nbformat": 4,
 "nbformat_minor": 2
}
