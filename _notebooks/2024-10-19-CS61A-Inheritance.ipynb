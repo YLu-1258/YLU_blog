{
 "cells": [
  {
   "cell_type": "markdown",
   "metadata": {},
   "source": [
    "---\n",
    "- title: \"'CS61A: Inheritance'\"\n",
    "- author: alex\n",
    "- badges: true\n",
    "- comments: true\n",
    "- categories: [CS61A]\n",
    "- date: 2024-10-19 6:00:00 -0800\n",
    "- math: true\n",
    "- tags: [CS61A, inheritance, OOP]\n",
    "---"
   ]
  },
  {
   "cell_type": "markdown",
   "metadata": {},
   "source": [
    "# Inheritance\n",
    "- A method for relating classes together.\n",
    "- A common use case is two similar classes that differ in their degree of specialization\n",
    "- The specialized class has same attributes as a general class, but it could also have special behavior\n",
    "- In python:\n",
    "```python\n",
    "class <name>(<base class>):\n",
    "    <suite>\n",
    "```\n",
    "- Basically, the sub class \"shares\" attributes with the base class.\n",
    "    - Of course, the sub class may overwrite certain attributes in the base class.\n",
    "    - In the definition of the sub class, we only write all the difference the sub class has from the base class.\n",
    "-Ex: Creating a CheckingAccount is that is a specialized type of Account."
   ]
  },
  {
   "cell_type": "code",
   "execution_count": 22,
   "metadata": {},
   "outputs": [],
   "source": [
    "from account import Account\n",
    "class CheckingAccount(Account):\n",
    "    \"\"\"A bank account that charges for withdrawals.\"\"\"\n",
    "    interest = 0.01\n",
    "    withdraw_fee = 1\n",
    "    def withdraw(self, amount):\n",
    "        return super().withdraw(amount + self.withdraw_fee)\n",
    "        # return Account.withdraw(self, amount + self.withdraw_fee)\n",
    "\n",
    "ch = CheckingAccount(\"Tom\")"
   ]
  },
  {
   "cell_type": "markdown",
   "metadata": {},
   "source": [
    "- Notice that for the implementation of withdraw, we could've returned `Account.withdraw(self, amount + self.withdraw_fee)` instead.\n",
    "    - The reason that we include `self` in the method statement is because we are calling a the function withdraw of the Account class, and not the bound method of an instance.\n",
    "    "
   ]
  },
  {
   "cell_type": "code",
   "execution_count": 17,
   "metadata": {},
   "outputs": [
    {
     "data": {
      "text/plain": [
       "0.01"
      ]
     },
     "execution_count": 17,
     "metadata": {},
     "output_type": "execute_result"
    }
   ],
   "source": [
    "ch.interest"
   ]
  },
  {
   "cell_type": "markdown",
   "metadata": {},
   "source": [
    "- Here, we see that the interest attribute for the CheckingAccount is different that the original interest of a regular account"
   ]
  },
  {
   "cell_type": "code",
   "execution_count": 23,
   "metadata": {},
   "outputs": [
    {
     "data": {
      "text/plain": [
       "20"
      ]
     },
     "execution_count": 23,
     "metadata": {},
     "output_type": "execute_result"
    }
   ],
   "source": [
    "ch.deposit(20)"
   ]
  },
  {
   "cell_type": "markdown",
   "metadata": {},
   "source": [
    "- Even though the deposit method was not specified in the subclass implementation, our subclass still knows to inherit this method from our base class."
   ]
  },
  {
   "cell_type": "code",
   "execution_count": 19,
   "metadata": {},
   "outputs": [
    {
     "data": {
      "text/plain": [
       "14"
      ]
     },
     "execution_count": 19,
     "metadata": {},
     "output_type": "execute_result"
    }
   ],
   "source": [
    "ch.withdraw(5)"
   ]
  },
  {
   "cell_type": "markdown",
   "metadata": {},
   "source": [
    "- Since we overwrite the behavior of the withdraw method in the subclass, we see that change reflected in this code\n",
    "- The reason why we invoke the Account.withdraw() method instead, is so that if future changes were made to the withdraw() method in Account, they would also be reflected in CheckingAccount."
   ]
  },
  {
   "cell_type": "markdown",
   "metadata": {},
   "source": [
    "## Looking Up Attribute Names on Classes\n",
    "- Thorugh inheritance, the base class attributes are not copied over into the subclass\n",
    "- Thus, the attribute lookup process is as follows:\n",
    "    - First look for the name within our instance\n",
    "    - Then look for attributes within the class, and return the value if found.\n",
    "    - Otherwise, look for the name in the base class, if there is one.\n",
    "- The second and third steps are recursive, as we may have many classes chained together in recursion. We will recursively look through all the inherited classes until the name is found or we hit the final base class.  \n",
    "\n",
    "## Tracing the lookup process"
   ]
  },
  {
   "cell_type": "code",
   "execution_count": 26,
   "metadata": {},
   "outputs": [
    {
     "name": "stdout",
     "output_type": "stream",
     "text": [
      "<__main__.CheckingAccount object at 0x7ff6feda7a90> 0.01 20 14\n"
     ]
    }
   ],
   "source": [
    "# Calls Account.__init__\n",
    "# We do not find the name __init__ in CheckingAccount, so we look for it in the base class Account\n",
    "ch = CheckingAccount('Tom')\n",
    "# Returns  CheckingAccount.interest\n",
    "# The name interest is found in CheckingAccount first, so that value is returned instead of Account.interest\n",
    "interest = ch.interest\n",
    "# Calls Account.deposit()\n",
    "# The name deposit is not found within the ch instance or CheckingAccount, but it is found within Account\n",
    "new_balance = ch.deposit(20)\n",
    "# Calls CheckingAccount.withdraw \n",
    "# The name withdraw is found within CheckingAccount class \n",
    "newer_balance = ch.withdraw(5)\n",
    "print(ch, interest, new_balance, newer_balance) "
   ]
  },
  {
   "cell_type": "markdown",
   "metadata": {},
   "source": [
    "# Object-Oriented Design\n",
    "## Designing for Inheritance\n",
    "- DRY: use existing implementations.\n",
    "- Attributes that have been override should still be accessible via class objects.\n",
    "    - In the subclass, we give attributes the same name as the base class to override them.\n",
    "    - We should still be able to access the OG methods in the base class.\n",
    "- Look up attributes on instances whenever possible\n",
    "    - This makes our implementation dynamic, as we can now ensure that the methods and attributes of each instance are based on that instance's attributes.\n",
    "    - This enables specialized instances.\n",
    "\n",
    "## Inheritance and Composition\n",
    "- **Composition:** The act of having another object as an attribute.\n",
    "- Object-orienting programming metaphor: Treat objects like real things in the world.\n",
    "- Inheritance serves to represent *is-a* relationships.\n",
    "    - Essentially, the subclass IS a type of a base class.\n",
    "- Composition serves to represent *has-a* relationships.\n",
    "    - Essentially, the object serves to wrap other objects of either the same or a different type within itself.\n",
    "- Example of Compostion: A bank."
   ]
  },
  {
   "cell_type": "code",
   "execution_count": 27,
   "metadata": {},
   "outputs": [],
   "source": [
    "class Bank:\n",
    "    \"\"\"A bank *has* accounts.\n",
    "    >>> bank = Bank()\n",
    "    >>> john = bank.open_account('John', 10)\n",
    "    >>> jack = bank.open_account('Jack', 10, CheckingAccount)\n",
    "    >>> john.interest\n",
    "    0.02\n",
    "    >>> jack.interest\n",
    "    0.01\n",
    "    >>> bank.pay_interest()\n",
    "    >>> john.balance\n",
    "    10.2\n",
    "    \"\"\"\n",
    "    def __init__(self):\n",
    "        self.accounts = []\n",
    "    \n",
    "    def open_account(self, holder, amount, kind=Account):\n",
    "        account = kind(holder)\n",
    "        account.deposit(amount)\n",
    "        self.accounts.append(account)\n",
    "        return account\n",
    "    \n",
    "    def pay_interest(self):\n",
    "        for account in self.accounts:\n",
    "            account.deposit(account.balance*account.interest)"
   ]
  },
  {
   "cell_type": "markdown",
   "metadata": {},
   "source": []
  },
  {
   "cell_type": "code",
   "execution_count": null,
   "metadata": {},
   "outputs": [],
   "source": [
    "class A:\n",
    "    z = -1\n",
    "    def f(self, x):\n",
    "        return B(x-1)\n",
    "    \n",
    "class B(A):\n",
    "    n = 4\n",
    "    def __init__(self, y):\n",
    "        if y:\n",
    "            self.z = self.f(y)\n",
    "        else:\n",
    "            self.z = C(y+1)\n",
    "\n",
    "class C(B):\n",
    "    def f(self, x):\n",
    "        return x\n",
    "    \n",
    "a = A()\n",
    "b = B(1)\n",
    "b.n = 5"
   ]
  },
  {
   "cell_type": "markdown",
   "metadata": {},
   "source": [
    "```python\n",
    ">>> C(2).n\n",
    "4\n",
    ">>> a.z == C.z\n",
    "a.z = -1\n",
    "C.z = -1\n",
    "True\n",
    ">>> a.z == b.z\n",
    "a.z = -1\n",
    "b.z = B(0)\n",
    "False\n",
    ">>> \"Which of the following returns an integer?\"\n",
    "b.z = B(0)\n",
    "b.z.z = B(0).z = C(1)\n",
    "b.z.z.z = C(1).z = 1 this one\n",
    "b.z.z.z.z = Error\n",
    "```"
   ]
  },
  {
   "cell_type": "markdown",
   "metadata": {},
   "source": [
    "# Multiple Inheritance\n",
    "- **Multiple Inheritance**: A subclass may have multiple base classes.\n",
    "- Ex: Savings Account"
   ]
  },
  {
   "cell_type": "code",
   "execution_count": null,
   "metadata": {},
   "outputs": [],
   "source": [
    "class SavingsAccount(Account):\n",
    "    deposit_fee = 2\n",
    "    def deposit(self, amount):\n",
    "        return Account.deposit(self, amount - self.deposit_fee)"
   ]
  },
  {
   "cell_type": "markdown",
   "metadata": {},
   "source": [
    "- But lets say we want to create a new account with a low interest rate of 1%, a $1 fee for withdrawals, and a $2 fee for deposits, but a free dollar when you open the account"
   ]
  },
  {
   "cell_type": "code",
   "execution_count": null,
   "metadata": {},
   "outputs": [],
   "source": [
    "class AsSeenOnTvAccount(CheckingAccount, SavingsAccount):\n",
    "    def __init__(self, account_holder):\n",
    "        self.holder = account_holder\n",
    "        self.balance = 1"
   ]
  },
  {
   "cell_type": "markdown",
   "metadata": {},
   "source": [
    "- For the name-ambiguity in multiple inheritance, the name is resolved in the following process:\n",
    "    - instance -> AsSeenOnTvAccount -> CheckingAccount -> SavingsAccount -> Account -> object\n",
    "    - This is because both CheckingAccount"
   ]
  }
 ],
 "metadata": {
  "kernelspec": {
   "display_name": "Python 3",
   "language": "python",
   "name": "python3"
  },
  "language_info": {
   "codemirror_mode": {
    "name": "ipython",
    "version": 3
   },
   "file_extension": ".py",
   "mimetype": "text/x-python",
   "name": "python",
   "nbconvert_exporter": "python",
   "pygments_lexer": "ipython3",
   "version": "3.10.12"
  }
 },
 "nbformat": 4,
 "nbformat_minor": 2
}
