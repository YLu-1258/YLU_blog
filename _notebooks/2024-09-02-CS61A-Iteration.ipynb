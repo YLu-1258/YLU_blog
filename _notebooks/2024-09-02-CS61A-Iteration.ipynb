{
 "cells": [
  {
   "cell_type": "markdown",
   "metadata": {},
   "source": [
    "---\n",
    "- title: \"'CS61A: Iteration'\"\n",
    "- author: alex\n",
    "- badges: true\n",
    "- comments: true\n",
    "- categories: [CS61A]\n",
    "- date: 2024-09-02 02:00:00 -0800\n",
    "- tags: [CS61A, Iteration]\n",
    "---"
   ]
  },
  {
   "cell_type": "markdown",
   "metadata": {},
   "source": [
    "# Iteration\n",
    "- The act of repeating things.\n",
    "- In programming, we use loops to perform iteration.\n",
    "\n",
    "## While Statements\n",
    "- Compound statement that contains a condition (header) and a suite of expressions.\n",
    "- **Execution Rule for While Statements:**\n",
    "    1) Evaluate the header's expression  \n",
    "    2) If it is a true value, then the whole suite is executed, then return to step 1.  "
   ]
  },
  {
   "cell_type": "code",
   "execution_count": 1,
   "metadata": {},
   "outputs": [
    {
     "name": "stdout",
     "output_type": "stream",
     "text": [
      "3 6\n"
     ]
    }
   ],
   "source": [
    "i, total = 0, 0\n",
    "while i < 3: # Boolean context\n",
    "    i = i + 1\n",
    "    total = total + i\n",
    "\n",
    "print(i, total)"
   ]
  },
  {
   "cell_type": "markdown",
   "metadata": {},
   "source": [
    "## The Fibonacci Sequence\n",
    "- 0, 1, 1, 2, 3, 5, 8, 13, 21, 34, 55, 89, 144, 233, 377, 610, 987, ...\n",
    "- Every number within the fibonacci sequence is associated with its index.\n",
    " - The zeroth and first fibonacci numbers are 0 and 1 respectively.\n",
    "- Tiles of length of fibonacci numbers will form the golden spiral.\n"
   ]
  },
  {
   "cell_type": "code",
   "execution_count": 3,
   "metadata": {},
   "outputs": [
    {
     "data": {
      "text/plain": [
       "1"
      ]
     },
     "execution_count": 3,
     "metadata": {},
     "output_type": "execute_result"
    }
   ],
   "source": [
    "def fib(n):\n",
    "    \"\"\"Compute the nth Fibonacci number, for N >= 1.\"\"\"\n",
    "    pred, curr = 0, 1   # 0th and 1st Fibonacci numbers\n",
    "    k = 1               # curr is the kth Fibonacci number\n",
    "    while k < n:\n",
    "        pred, curr = curr, pred+curr\n",
    "        k = k + 1\n",
    "    return curr\n",
    "\n",
    "fib(0)"
   ]
  },
  {
   "cell_type": "markdown",
   "metadata": {},
   "source": [
    "# Discussion Question,\n",
    "Given the following code, is this `fib` the same or different from the original `fib`?\n",
    "\n",
    "This fib is different from the original fib, but still correctly prints out the sequence. Instead, this algorithm is capable of returning the zeroth element too"
   ]
  },
  {
   "cell_type": "code",
   "execution_count": null,
   "metadata": {},
   "outputs": [],
   "source": [
    "def fib(n):\n",
    "    \"\"\"Compute the nth Fibonacci number, for N >= 1.\"\"\"\n",
    "    pred, curr = 1, 0   # 0th and 1st Fibonacci numbers\n",
    "    k = 0              # curr is the kth Fibonacci number\n",
    "    while k < n:\n",
    "        pred, curr = curr, pred+curr\n",
    "        k = k + 1\n",
    "    return curr\n",
    "\n",
    "fib(0)"
   ]
  }
 ],
 "metadata": {
  "kernelspec": {
   "display_name": "Python 3",
   "language": "python",
   "name": "python3"
  },
  "language_info": {
   "codemirror_mode": {
    "name": "ipython",
    "version": 3
   },
   "file_extension": ".py",
   "mimetype": "text/x-python",
   "name": "python",
   "nbconvert_exporter": "python",
   "pygments_lexer": "ipython3",
   "version": "3.10.12"
  }
 },
 "nbformat": 4,
 "nbformat_minor": 2
}
