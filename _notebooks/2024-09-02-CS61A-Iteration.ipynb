{
 "cells": [
  {
   "cell_type": "markdown",
   "metadata": {},
   "source": [
    "---\n",
    "- title: \"CS61A: Iteration\"\n",
    "- author: alex\n",
    "- badges: true\n",
    "- comments: true\n",
    "- categories: [CS61A]\n",
    "- date: 2024-08-31 02:00:00 -0800\n",
    "- tags: [CS61A, Conditional]\n",
    "---"
   ]
  },
  {
   "cell_type": "markdown",
   "metadata": {},
   "source": [
    "# Statements\n",
    "- **Statements** are executed by the interpreter to *perform an action*\n",
    "- A **Compound Statement** is a statement that can span over multiple lines.\n",
    "    - A **Clause** is a single header followed by a series of statements\n",
    "        - The statements within a clause is known as the **Suite**\n",
    "- An example of a compound statement is a function declaration.\n",
    "    - The suite of a function is known as the function body."
   ]
  },
  {
   "cell_type": "raw",
   "metadata": {
    "vscode": {
     "languageId": "raw"
    }
   },
   "source": [
    "<header>:           // The first header determines the type of a statement\n",
    "    <statement>\n",
    "    <statement>\n",
    "    ...\n",
    "<separating header>:    // Headers of a clause \"controls\" the suite that follows\n",
    "    <statement>\n",
    "    <statement>\n",
    "    ...\n",
    "..."
   ]
  },
  {
   "cell_type": "markdown",
   "metadata": {},
   "source": [
    "- When we execute a suite, we run the sequence of the statements within the suite in order.\n",
    "- **Execution Rule:**\n",
    "    - Execute the first statement\n",
    "    - Unless instructed otherwise, execute the remaining statements."
   ]
  },
  {
   "cell_type": "markdown",
   "metadata": {},
   "source": [
    "## Conditional Statement\n",
    "- **Execution rule for conditional statements:**\n",
    "    1) Evaluate the header's expression  \n",
    "    2) If the header's expression returns true, execute the suite and then skip the remaining clauses.  \n",
    "\n",
    "- Only one suite gets executed in a conditional statement.\n",
    "- **George Boole:** Logician. \n",
    "    - Boolean contexts are about expressions that either evaluate to true or false.\n",
    "        - Ex: `x < 0` or `x == 0`\n",
    "- False values in Python: `False`, `0`, `''`, `[]`, `None`\n",
    "- True values in Python: `True`, Anything else\n"
   ]
  },
  {
   "cell_type": "code",
   "execution_count": 1,
   "metadata": {},
   "outputs": [
    {
     "data": {
      "text/plain": [
       "2"
      ]
     },
     "execution_count": 1,
     "metadata": {},
     "output_type": "execute_result"
    }
   ],
   "source": [
    "def absolute_value(x):\n",
    "    \"\"\"Return the absolute value of x.\"\"\"\n",
    "    if (x<0):\n",
    "        return -x\n",
    "    elif x == 0:\n",
    "        return 0\n",
    "    else:\n",
    "        return x\n",
    "\n",
    "absolute_value(-2)"
   ]
  }
 ],
 "metadata": {
  "kernelspec": {
   "display_name": "Python 3",
   "language": "python",
   "name": "python3"
  },
  "language_info": {
   "codemirror_mode": {
    "name": "ipython",
    "version": 3
   },
   "file_extension": ".py",
   "mimetype": "text/x-python",
   "name": "python",
   "nbconvert_exporter": "python",
   "pygments_lexer": "ipython3",
   "version": "3.10.12"
  }
 },
 "nbformat": 4,
 "nbformat_minor": 2
}
