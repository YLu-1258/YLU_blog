{
 "cells": [
  {
   "cell_type": "markdown",
   "metadata": {},
   "source": [
    "---\n",
    "- title: \"'CS61A: Containers'\"\n",
    "- author: alex\n",
    "- badges: true\n",
    "- comments: true\n",
    "- categories: [CS61A]\n",
    "- date: 2024-09-24 6:00:00 -0800\n",
    "- math: true\n",
    "- tags: [CS61A, containers]\n",
    "---"
   ]
  },
  {
   "cell_type": "markdown",
   "metadata": {},
   "source": [
    "# Box-and-Pointer Notation\n",
    "- Means of expressing lists within environmental diagrams\n",
    "\n",
    "# The Closure Property of Data types.\n",
    "- Sequential data is complicated to represent.\n",
    "- A method for combining data values satisfies the *closure property* if:\n",
    "    - The result of combination can itself be combined using the same method.\n",
    "    - Think about closure under vector addition from EECS16A, same idea of closure, just applied differently.\n",
    "- Closure is powerful as we can create hierarchical structures with it.\n",
    "    - Every hierarchical structure is made of parts which themselves are also hierarchical structure.\n",
    "    - Lists may contain other lists as arguments, we need to keep track of that.\n",
    "\n",
    "# Box-and-Pointer Notation in Environment Diagrams\n",
    "- In environmental diagrams, lists are represented as a row of index-labeled adjacent boxes, one per element.\n",
    "    - Each box contains either a primitive or a pointer to a compound value.\n",
    "    - A compound value can be another list, a function, or anything that has multiple parts."
   ]
  },
  {
   "cell_type": "code",
   "execution_count": 1,
   "metadata": {},
   "outputs": [],
   "source": [
    "pair = [1, 2]\n",
    "nested_list = [[1,2], [], [[3, False, None], [4, lambda: 5]]]"
   ]
  },
  {
   "cell_type": "markdown",
   "metadata": {},
   "source": [
    "![List Environmental Diagram](/assets/img/CS61A/Sequences/ListEnvDiagram.png)"
   ]
  },
  {
   "cell_type": "markdown",
   "metadata": {},
   "source": [
    "# Slicing\n",
    "- A list operation that allows us to slice out a portion of a list based on their indicies."
   ]
  },
  {
   "cell_type": "code",
   "execution_count": 6,
   "metadata": {},
   "outputs": [
    {
     "name": "stdout",
     "output_type": "stream",
     "text": [
      "[5, 7]\n",
      "[3, 5, 7]\n",
      "[5, 7, 9, 11]\n",
      "[3, 5, 7, 9, 11]\n"
     ]
    }
   ],
   "source": [
    "odds = [3, 5, 7, 9, 11]\n",
    "print(odds[1:3]) # I want the elements of odds with indicies in range(1,3)\n",
    "print(odds[:3]) # Excluding the starting or end value implies that the start value is 0 and the end value is the last element.\n",
    "print(odds[1:])\n",
    "print(odds[:]) # Returns a copy of the list"
   ]
  },
  {
   "cell_type": "markdown",
   "metadata": {},
   "source": [
    "# Slicing Creates new Values\n",
    "- When we make a slice of a list, a new list is produced that is separate from the original list. This means that any modifications made to the slice are not affected in the original  \n",
    "![List Slices](/assets/img/CS61A/Sequences/ListSlices.png)  "
   ]
  },
  {
   "cell_type": "markdown",
   "metadata": {},
   "source": [
    "# Processing Container Vlaues\n",
    "- We may have to iterate over all of the values contained in the list or dictionary we are concerned with. There are built-in functions to help with this.\n",
    "\n",
    "## Sequence Aggregation\n",
    "- Built-in functions that take a sequence and returns a single value that is the agregate of all values in that sequence.  \n",
    "- `sum(iterable[, start]) -> value`\n",
    "    - Returns the sume of an iterable of numbers, plus the value of start (default = 0).  If iterable is empty, return start. "
   ]
  },
  {
   "cell_type": "code",
   "execution_count": 9,
   "metadata": {},
   "outputs": [
    {
     "name": "stdout",
     "output_type": "stream",
     "text": [
      "9\n",
      "14\n",
      "[2, 3, 4]\n"
     ]
    }
   ],
   "source": [
    "print(sum([2, 3, 4]))\n",
    "print(sum([2, 3, 4], 5))\n",
    "print(sum([[2, 3], [4]], [])) # We can also add iteratbles together"
   ]
  },
  {
   "cell_type": "markdown",
   "metadata": {},
   "source": [
    "- In `print(sum([[2, 3], 4[4]], []))` a default value of `[]` is provided instead of 0 in order to have no errors while adding the lists up.\n",
    "- `max(iterable[, key=func]) -> value`\n",
    "    - returns the maximum of the iterable, returns the largest argument with more than 1 arguments.\n",
    "    - A function is applied to every value we are considering, and the maximum is based on the return values of calling those functions."
   ]
  },
  {
   "cell_type": "code",
   "execution_count": 29,
   "metadata": {},
   "outputs": [
    {
     "name": "stdout",
     "output_type": "stream",
     "text": [
      "4\n",
      "4\n",
      "3\n"
     ]
    }
   ],
   "source": [
    "print(max(range(5)))\n",
    "print(max(0, 1, 2, 3, 4))\n",
    "print(max(range(10), key=lambda x: 7-(x-4)*(x-2))) # A key is specified that applies the function to every valye of the input."
   ]
  },
  {
   "cell_type": "markdown",
   "metadata": {},
   "source": [
    "- `all(iterable) -> bool`\n",
    "    - Returns True if bool(x) is True for all values x in the iterable. If the iterable is empty, also return True.\n",
    "- Also `min` and `any`."
   ]
  },
  {
   "cell_type": "code",
   "execution_count": 18,
   "metadata": {},
   "outputs": [
    {
     "data": {
      "text/plain": [
       "True"
      ]
     },
     "execution_count": 18,
     "metadata": {},
     "output_type": "execute_result"
    }
   ],
   "source": [
    "all([x < 5 for x in range(5)]) # Every nuber in range(5) is less than 5"
   ]
  },
  {
   "cell_type": "markdown",
   "metadata": {},
   "source": [
    "# Strings\n",
    "- Strings are an abstraction that represents textual data.\n",
    "    - They represent information and language that humans may read.\n",
    "- Strings may also represent a given function or line of python code, which may be executed."
   ]
  },
  {
   "cell_type": "code",
   "execution_count": 21,
   "metadata": {},
   "outputs": [
    {
     "data": {
      "text/plain": [
       "7"
      ]
     },
     "execution_count": 21,
     "metadata": {},
     "output_type": "execute_result"
    }
   ],
   "source": [
    "from operator import add\n",
    "exec('curry = lambda f: lambda x: lambda y: f(x, y)')\n",
    "curry(add)(3)(4)"
   ]
  },
  {
   "cell_type": "markdown",
   "metadata": {},
   "source": [
    "- There are three main ways of expressing string literals:\n",
    "    - Single quotes `'` (Can use double quotes in string without termination)\n",
    "    - Double quotes `\"` (Can use single quotes in string without termination)\n",
    "    - Triple quotes `\"\"\"`\n",
    "        - May span multiple lines, used for doc strings\n",
    "- Other characters may be used, not just English.\n",
    "- When a multi-line string is executed, line-feeds (\\n) are used are used to represent every time a new line is created.\n",
    "    - The backslash serves to escape the following character. The backslash and the character are just one sequence that represents something.\n",
    "    - The length and access operations for a string are identical to that of an array's\n",
    "        - `len(city)` and `city[3]`\n",
    "- The `in` and `not in` operators work differently for strings compared to lists\n",
    "    - In strings, these operators check for the occurence of a substring within the string.\n",
    "    - This allows for us to check consecutive letters."
   ]
  },
  {
   "cell_type": "code",
   "execution_count": 24,
   "metadata": {},
   "outputs": [
    {
     "name": "stdout",
     "output_type": "stream",
     "text": [
      "8\n",
      "k\n"
     ]
    }
   ],
   "source": [
    "city = 'Berkeley'\n",
    "print(len(city))\n",
    "city[3]"
   ]
  },
  {
   "cell_type": "markdown",
   "metadata": {},
   "source": [
    "# Dictionaries\n",
    "- Builtin Python data type.\n",
    "    - Contains pairs of keys and values. We use a key to look up a value.\n",
    "    - Written in curly braces and colons:\n",
    "        - `{<key>: <value>}`\n",
    "- Unlike lists, we do not look up values in dictionaries using numerical indicies, but rather with the key value.\n",
    "    - Key-value mapping only goes one way. Only keys are mapped to values. We cannot access the key of a value."
   ]
  },
  {
   "cell_type": "code",
   "execution_count": 5,
   "metadata": {},
   "outputs": [
    {
     "name": "stdout",
     "output_type": "stream",
     "text": [
      "numerals: {'I': 1, 'V': 5, 'X': 10}\n",
      "numeral for I: 1\n",
      "numeral for V: 5\n",
      "numeral for X: 10\n"
     ]
    }
   ],
   "source": [
    "numerals = {'I': 1, 'V': 5, 'X': 10}\n",
    "print(\"numerals:\", numerals)\n",
    "print(\"numeral for I:\", numerals[\"I\"])\n",
    "print(\"numeral for V:\", numerals[\"V\"])\n",
    "print(\"numeral for X:\", numerals[\"X\"])"
   ]
  },
  {
   "cell_type": "markdown",
   "metadata": {},
   "source": [
    "- Dictionaries are also sequences.\n",
    "    - Sequences of keys, may be displayed as a list of keys"
   ]
  },
  {
   "cell_type": "code",
   "execution_count": 7,
   "metadata": {},
   "outputs": [
    {
     "data": {
      "text/plain": [
       "['I', 'V', 'X']"
      ]
     },
     "execution_count": 7,
     "metadata": {},
     "output_type": "execute_result"
    }
   ],
   "source": [
    "keys = list(numerals)\n",
    "keys"
   ]
  },
  {
   "cell_type": "markdown",
   "metadata": {},
   "source": [
    "- We may also get a sequence containing all the values within the dictionary that we want.\n",
    "    - Use `<dictionary>.values()`\n",
    "    - This returns a `dict_values` object, which is unlike a list, so not all list operations apply to this new object\n",
    "        - We may perform some operations on this, such as sum or iterating over the values.\n",
    "        - However, other operations, such as index subscription, is not possible with this object.\n",
    "    - This `dict_values` object may be converted to a list by using the `list()` constructor."
   ]
  },
  {
   "cell_type": "code",
   "execution_count": 13,
   "metadata": {},
   "outputs": [
    {
     "name": "stdout",
     "output_type": "stream",
     "text": [
      "dict_values([1, 5, 10])\n",
      "1\n",
      "5\n",
      "10\n"
     ]
    }
   ],
   "source": [
    "values = numerals.values()\n",
    "print(values)\n",
    "for value in list(values):\n",
    "    print(value)"
   ]
  },
  {
   "cell_type": "markdown",
   "metadata": {},
   "source": [
    "- The items within a dictionary could be *arbitrarily complicated*, and could also be of different types.\n",
    "    - The length of a dictionary refers to the number of keys that are present within the dictionary."
   ]
  },
  {
   "cell_type": "code",
   "execution_count": 15,
   "metadata": {},
   "outputs": [
    {
     "data": {
      "text/plain": [
       "3"
      ]
     },
     "execution_count": 15,
     "metadata": {},
     "output_type": "execute_result"
    }
   ],
   "source": [
    "d = {1: ['first', 'second'], 3: 'third'}\n",
    "len(values)"
   ]
  },
  {
   "cell_type": "markdown",
   "metadata": {},
   "source": [
    "- A key within a dictionary can only be assigned to one value. If multiple are specified, the most recent assignment is the one that is kept:"
   ]
  },
  {
   "cell_type": "code",
   "execution_count": 16,
   "metadata": {},
   "outputs": [
    {
     "data": {
      "text/plain": [
       "{1: 'second'}"
      ]
     },
     "execution_count": 16,
     "metadata": {},
     "output_type": "execute_result"
    }
   ],
   "source": [
    "{1: \"first\", 1: \"second\"}"
   ]
  },
  {
   "cell_type": "markdown",
   "metadata": {},
   "source": [
    "- The key of a dictionary cannot be a list or a dictionary itself. This is because these two types are *unhashable*. Additionally, they cannot be any mutable types\n",
    "    - Anything can be a value."
   ]
  },
  {
   "cell_type": "code",
   "execution_count": 17,
   "metadata": {},
   "outputs": [
    {
     "ename": "TypeError",
     "evalue": "unhashable type: 'list'",
     "output_type": "error",
     "traceback": [
      "\u001b[0;31m---------------------------------------------------------------------------\u001b[0m",
      "\u001b[0;31mTypeError\u001b[0m                                 Traceback (most recent call last)",
      "Cell \u001b[0;32mIn[17], line 1\u001b[0m\n\u001b[0;32m----> 1\u001b[0m {[\u001b[38;5;241m1\u001b[39m]: \u001b[38;5;124m'\u001b[39m\u001b[38;5;124mfirst\u001b[39m\u001b[38;5;124m'\u001b[39m}\n",
      "\u001b[0;31mTypeError\u001b[0m: unhashable type: 'list'"
     ]
    }
   ],
   "source": [
    "{[1]: 'first'}"
   ]
  },
  {
   "cell_type": "markdown",
   "metadata": {},
   "source": [
    "## Overview of contraints\n",
    "- A key of a dictionary cannot be a list or a dictionary (or any *mutable type*)\n",
    "    - Caused by Python's implementation of dictionaries\n",
    "- Two keys cannot be equal; There can be at most one value for a given key\n",
    "    - Caused by the principle of the abstraction of dictionaries\n",
    "\n",
    "## Dictoinary Comprehensions\n",
    "- Compact way for creating a dictionary similar to list comprehension:\n",
    "    - `{<key expr>: <value expr> for <name> in <iter exp> if <filter exp>}`\n",
    "- Evaluation Process:\n",
    "    - Add a new frame with the current frame as the parent\n",
    "    - Create a new empty `result dictionary` that is the value of the expression\n",
    "    - For each element in the iterable value of `<iter exp>`:\n",
    "        - Bind `<name>` to that element in the new frame that we created\n",
    "        - If `<filter exp>` evaluates to a true value, then we add to the result dictionary an entry that pairs the value of `<key expr>` to the value of `<value expr>`"
   ]
  },
  {
   "cell_type": "code",
   "execution_count": 18,
   "metadata": {},
   "outputs": [
    {
     "data": {
      "text/plain": [
       "{9: 3, 16: 4, 25: 5}"
      ]
     },
     "execution_count": 18,
     "metadata": {},
     "output_type": "execute_result"
    }
   ],
   "source": [
    "{x*x : x for x in [1,2,3,4,5] if x > 2}"
   ]
  },
  {
   "cell_type": "markdown",
   "metadata": {},
   "source": [
    "### Example: Indexing\n",
    "- Implement `index`, which takes a sequence of `keys`, a sequence of `values`, and a two-argument `match` function. It returns a dictionary from `keys` to lists in which the list for a key k contains all `values` v for which `match`(k, v) is a true value."
   ]
  },
  {
   "cell_type": "code",
   "execution_count": 19,
   "metadata": {},
   "outputs": [
    {
     "data": {
      "text/plain": [
       "{7: [35, 42, 49], 9: [36, 45], 11: [33, 44]}"
      ]
     },
     "execution_count": 19,
     "metadata": {},
     "output_type": "execute_result"
    }
   ],
   "source": [
    "def index(keys, values, match):\n",
    "    \"\"\"Return a dictionary form keys k to a list of values v for which match(k, v) is a true value.\"\"\"\n",
    "    return {key : [value for value in values if match(key, value)] for key in keys}\n",
    "\n",
    "index([7, 9, 11], range(30, 50), lambda k, v: v % k == 0)"
   ]
  }
 ],
 "metadata": {
  "kernelspec": {
   "display_name": "Python 3",
   "language": "python",
   "name": "python3"
  },
  "language_info": {
   "codemirror_mode": {
    "name": "ipython",
    "version": 3
   },
   "file_extension": ".py",
   "mimetype": "text/x-python",
   "name": "python",
   "nbconvert_exporter": "python",
   "pygments_lexer": "ipython3",
   "version": "3.10.12"
  }
 },
 "nbformat": 4,
 "nbformat_minor": 2
}
