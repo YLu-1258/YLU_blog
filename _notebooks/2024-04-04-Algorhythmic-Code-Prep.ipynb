{
 "cells": [
  {
   "cell_type": "markdown",
   "metadata": {},
   "source": [
    "---\n",
    "- title: Algorhythmic Code Prep\n",
    "- description: The coding assignment for the algorhythmic coding assignment.\n",
    "- toc: true\n",
    "- layout: post\n",
    "- type: hacks\n",
    "- comments: true\n",
    "---"
   ]
  },
  {
   "cell_type": "markdown",
   "metadata": {},
   "source": [
    "## Learn All Sorts\n",
    "I had previously implemented all of these sorts in a project with David and Ethan, so it was pretty easy to recreate this in plain old Java again."
   ]
  },
  {
   "cell_type": "code",
   "execution_count": 9,
   "metadata": {
    "vscode": {
     "languageId": "java"
    }
   },
   "outputs": [
    {
     "name": "stdout",
     "output_type": "stream",
     "text": [
      "List before sorting:\n",
      "[64, 25, 12, 22, 11]\n",
      "List after sorting:\n",
      "[11, 12, 22, 25, 64]\n"
     ]
    }
   ],
   "source": [
    "import java.util.ArrayList;\n",
    "\n",
    "public class BubbleSort {\n",
    "    public static void bubbleSort(ArrayList<Integer> list) {\n",
    "        int n = list.size();\n",
    "        for (int i = 0; i < n - 1; i++) {\n",
    "            for (int j = 0; j < n - i - 1; j++) {\n",
    "                if (list.get(j) > list.get(j + 1)) {\n",
    "                    int temp = list.get(j);\n",
    "                    list.set(j, list.get(j + 1));\n",
    "                    list.set(j + 1, temp);\n",
    "                }\n",
    "            }\n",
    "        }\n",
    "    }\n",
    "\n",
    "    public static void main(String[] args) {\n",
    "        ArrayList<Integer> list = new ArrayList<>();\n",
    "        list.add(64);\n",
    "        list.add(25);\n",
    "        list.add(12);\n",
    "        list.add(22);\n",
    "        list.add(11);\n",
    "\n",
    "        System.out.println(\"List before sorting:\");\n",
    "        System.out.println(list);\n",
    "\n",
    "        bubbleSort(list);\n",
    "\n",
    "        System.out.println(\"List after sorting:\");\n",
    "        System.out.println(list);\n",
    "    }\n",
    "}\n",
    "\n",
    "BubbleSort.main(null);"
   ]
  },
  {
   "cell_type": "code",
   "execution_count": 4,
   "metadata": {
    "vscode": {
     "languageId": "java"
    }
   },
   "outputs": [
    {
     "name": "stdout",
     "output_type": "stream",
     "text": [
      "List before sorting:\n",
      "[64, 25, 12, 22, 11]\n",
      "List after sorting:\n",
      "[11, 12, 22, 25, 64]\n"
     ]
    }
   ],
   "source": [
    "import java.util.ArrayList;\n",
    "\n",
    "public class SelectionSort {\n",
    "    public static void selectionSort(ArrayList<Integer> list) {\n",
    "        int n = list.size();\n",
    "        for (int i = 0; i < n - 1; i++) {\n",
    "            int minIndex = i;\n",
    "            for (int j = i + 1; j < n; j++) {\n",
    "                if (list.get(j) < list.get(minIndex)) {\n",
    "                    minIndex = j;\n",
    "                }\n",
    "            }\n",
    "            int temp = list.get(minIndex);\n",
    "            list.set(minIndex, list.get(i));\n",
    "            list.set(i, temp);\n",
    "        }\n",
    "    }\n",
    "\n",
    "    public static void main(String[] args) {\n",
    "        ArrayList<Integer> list = new ArrayList<>();\n",
    "        list.add(64);\n",
    "        list.add(25);\n",
    "        list.add(12);\n",
    "        list.add(22);\n",
    "        list.add(11);\n",
    "\n",
    "        System.out.println(\"List before sorting:\");\n",
    "        System.out.println(list);\n",
    "\n",
    "        selectionSort(list);\n",
    "\n",
    "        System.out.println(\"List after sorting:\");\n",
    "        System.out.println(list);\n",
    "    }\n",
    "}\n",
    "\n",
    "SelectionSort.main(null);\n"
   ]
  },
  {
   "cell_type": "code",
   "execution_count": 6,
   "metadata": {
    "vscode": {
     "languageId": "java"
    }
   },
   "outputs": [
    {
     "name": "stdout",
     "output_type": "stream",
     "text": [
      "List before sorting:\n",
      "[64, 25, 12, 22, 11]\n",
      "List after sorting:\n",
      "[11, 12, 22, 25, 64]\n"
     ]
    }
   ],
   "source": [
    "import java.util.ArrayList;\n",
    "\n",
    "public class InsertionSort {\n",
    "    public static void insertionSort(ArrayList<Integer> list) {\n",
    "        for (int i = 1; i < list.size(); i++) {\n",
    "            int key = list.get(i);\n",
    "            int j = i - 1;\n",
    "\n",
    "            while (j >= 0 && list.get(j) > key) {\n",
    "                list.set(j + 1, list.get(j));\n",
    "                j--;\n",
    "            }\n",
    "            list.set(j + 1, key);\n",
    "        }\n",
    "    }\n",
    "\n",
    "    public static void main(String[] args) {\n",
    "        ArrayList<Integer> list = new ArrayList<>();\n",
    "        list.add(64);\n",
    "        list.add(25);\n",
    "        list.add(12);\n",
    "        list.add(22);\n",
    "        list.add(11);\n",
    "\n",
    "        System.out.println(\"List before sorting:\");\n",
    "        System.out.println(list);\n",
    "\n",
    "        insertionSort(list);\n",
    "\n",
    "        System.out.println(\"List after sorting:\");\n",
    "        System.out.println(list);\n",
    "    }\n",
    "}\n",
    "\n",
    "InsertionSort.main(null);"
   ]
  },
  {
   "cell_type": "code",
   "execution_count": 7,
   "metadata": {
    "vscode": {
     "languageId": "java"
    }
   },
   "outputs": [
    {
     "name": "stdout",
     "output_type": "stream",
     "text": [
      "List before sorting:\n",
      "[64, 25, 12, 22, 11]\n",
      "List after sorting:\n",
      "[11, 12, 22, 25, 64]\n"
     ]
    }
   ],
   "source": [
    "import java.util.ArrayList;\n",
    "\n",
    "public class MergeSort {\n",
    "    public static void mergeSort(ArrayList<Integer> list) {\n",
    "        if (list.size() > 1) {\n",
    "            int mid = list.size() / 2;\n",
    "            ArrayList<Integer> left = new ArrayList<>(list.subList(0, mid));\n",
    "            ArrayList<Integer> right = new ArrayList<>(list.subList(mid, list.size()));\n",
    "\n",
    "            mergeSort(left);\n",
    "            mergeSort(right);\n",
    "\n",
    "            merge(list, left, right);\n",
    "        }\n",
    "    }\n",
    "\n",
    "    private static void merge(ArrayList<Integer> list, ArrayList<Integer> left, ArrayList<Integer> right) {\n",
    "        int i = 0, j = 0, k = 0;\n",
    "        while (i < left.size() && j < right.size()) {\n",
    "            if (left.get(i) < right.get(j)) {\n",
    "                list.set(k++, left.get(i++));\n",
    "            } else {\n",
    "                list.set(k++, right.get(j++));\n",
    "            }\n",
    "        }\n",
    "        while (i < left.size()) {\n",
    "            list.set(k++, left.get(i++));\n",
    "        }\n",
    "        while (j < right.size()) {\n",
    "            list.set(k++, right.get(j++));\n",
    "        }\n",
    "    }\n",
    "\n",
    "    public static void main(String[] args) {\n",
    "        ArrayList<Integer> list = new ArrayList<>();\n",
    "        list.add(64);\n",
    "        list.add(25);\n",
    "        list.add(12);\n",
    "        list.add(22);\n",
    "        list.add(11);\n",
    "\n",
    "        System.out.println(\"List before sorting:\");\n",
    "        System.out.println(list);\n",
    "\n",
    "        mergeSort(list);\n",
    "\n",
    "        System.out.println(\"List after sorting:\");\n",
    "        System.out.println(list);\n",
    "    }\n",
    "}\n",
    "\n",
    "MergeSort.main(null);"
   ]
  },
  {
   "cell_type": "code",
   "execution_count": 8,
   "metadata": {
    "vscode": {
     "languageId": "java"
    }
   },
   "outputs": [
    {
     "name": "stdout",
     "output_type": "stream",
     "text": [
      "List before sorting:\n",
      "[64, 25, 12, 22, 11]\n",
      "List after sorting:\n",
      "[11, 12, 22, 25, 64]\n"
     ]
    }
   ],
   "source": [
    "import java.util.ArrayList;\n",
    "\n",
    "public class QuickSort {\n",
    "    public static void quickSort(ArrayList<Integer> list, int low, int high) {\n",
    "        if (low < high) {\n",
    "            int pi = partition(list, low, high);\n",
    "            quickSort(list, low, pi - 1);\n",
    "            quickSort(list, pi + 1, high);\n",
    "        }\n",
    "    }\n",
    "\n",
    "    private static int partition(ArrayList<Integer> list, int low, int high) {\n",
    "        int pivot = list.get(high);\n",
    "        int i = low - 1;\n",
    "        for (int j = low; j < high; j++) {\n",
    "            if (list.get(j) < pivot) {\n",
    "                i++;\n",
    "                int temp = list.get(i);\n",
    "                list.set(i, list.get(j));\n",
    "                list.set(j, temp);\n",
    "            }\n",
    "        }\n",
    "        int temp = list.get(i + 1);\n",
    "        list.set(i + 1, list.get(high));\n",
    "        list.set(high, temp);\n",
    "\n",
    "        return i + 1;\n",
    "    }\n",
    "\n",
    "    public static void main(String[] args) {\n",
    "        ArrayList<Integer> list = new ArrayList<>();\n",
    "        list.add(64);\n",
    "        list.add(25);\n",
    "        list.add(12);\n",
    "        list.add(22);\n",
    "        list.add(11);\n",
    "\n",
    "        System.out.println(\"List before sorting:\");\n",
    "        System.out.println(list);\n",
    "\n",
    "        quickSort(list, 0, list.size() - 1);\n",
    "\n",
    "        System.out.println(\"List after sorting:\");\n",
    "        System.out.println(list);\n",
    "    }\n",
    "}\n",
    "\n",
    "QuickSort.main(null);"
   ]
  },
  {
   "cell_type": "markdown",
   "metadata": {},
   "source": [
    "## Implementation using Linked List"
   ]
  }
 ],
 "metadata": {
  "kernelspec": {
   "display_name": "java",
   "language": "java",
   "name": "java"
  },
  "language_info": {
   "codemirror_mode": "java",
   "file_extension": ".jshell",
   "mimetype": "text/x-java-source",
   "name": "Java",
   "pygments_lexer": "java",
   "version": "17.0.10+7-Ubuntu-120.04.1"
  }
 },
 "nbformat": 4,
 "nbformat_minor": 2
}
