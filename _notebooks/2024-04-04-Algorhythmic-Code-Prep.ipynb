{
 "cells": [
  {
   "cell_type": "markdown",
   "metadata": {},
   "source": [
    "---\n",
    "- title: Algorhythmic Code Prep\n",
    "- description: The coding assignment for the algorhythmic coding assignment.\n",
    "- toc: true\n",
    "- layout: post\n",
    "- type: hacks\n",
    "- comments: true\n",
    "---"
   ]
  },
  {
   "cell_type": "markdown",
   "metadata": {},
   "source": [
    "## Learn All Sorts\n",
    "I had previously implemented all of these sorts in a project with David and Ethan, so it was pretty easy to recreate this in plain old Java again."
   ]
  },
  {
   "cell_type": "markdown",
   "metadata": {},
   "source": [
    "### Comparable object\n",
    "First we create a comparable object for our flowers."
   ]
  },
  {
   "cell_type": "code",
   "execution_count": 11,
   "metadata": {
    "vscode": {
     "languageId": "java"
    }
   },
   "outputs": [],
   "source": [
    "public class Flower implements Comparable<Flower> {\n",
    "    private int numberPetals;\n",
    "    private String name;\n",
    "    private String color;\n",
    "\n",
    "    public Flower(int p, String n, String c) {\n",
    "        this.numberPetals = p;\n",
    "        this.name = n;\n",
    "        this.color = c;\n",
    "    }\n",
    "\n",
    "    // Getters\n",
    "    public int getNumberPetals() {\n",
    "        return numberPetals;\n",
    "    }\n",
    "\n",
    "    public String getName() {\n",
    "        return name;\n",
    "    }\n",
    "\n",
    "    public String getColor() {\n",
    "        return color;\n",
    "    }\n",
    "\n",
    "    // Setters\n",
    "    public void setNumberPetals(int numberPetals) {\n",
    "        this.numberPetals = numberPetals;\n",
    "    }\n",
    "\n",
    "    public void setName(String name) {\n",
    "        this.name = name;\n",
    "    }\n",
    "\n",
    "    public void setColor(String color) {\n",
    "        this.color = color;\n",
    "    }\n",
    "\n",
    "    @Override\n",
    "    public String toString() {\n",
    "        return this.name;\n",
    "    }\n",
    "\n",
    "    @Override\n",
    "    public int compareTo(Flower otherFlower) {\n",
    "        return this.toString().compareTo(otherFlower.toString());\n",
    "    }\n",
    "}\n",
    "\n",
    "public class GenerateNecklace {\n",
    "    public static ArrayList<Comparable> generate() {\n",
    "        // Create an ArrayList to store Flower objects\n",
    "        ArrayList<Comparable> flowerNecklace = new ArrayList<>();\n",
    "\n",
    "        // Add Flower objects to the ArrayList\n",
    "        flowerNecklace.add(new Flower(5, \"Rose\", \"Red\"));\n",
    "        flowerNecklace.add(new Flower(6, \"Lily\", \"White\"));\n",
    "        flowerNecklace.add(new Flower(4, \"Tulip\", \"Yellow\"));\n",
    "        flowerNecklace.add(new Flower(8, \"Daisy\", \"Pink\"));\n",
    "        flowerNecklace.add(new Flower(3, \"Sunflower\", \"Yellow\"));\n",
    "        flowerNecklace.add(new Flower(5, \"Carnation\", \"Pink\"));\n",
    "        flowerNecklace.add(new Flower(7, \"Orchid\", \"Purple\"));\n",
    "        flowerNecklace.add(new Flower(4, \"Daffodil\", \"Yellow\"));\n",
    "        flowerNecklace.add(new Flower(6, \"Peony\", \"Pink\"));\n",
    "        flowerNecklace.add(new Flower(5, \"Hibiscus\", \"Red\"));\n",
    "        return flowerNecklace;\n",
    "    }\n",
    "}\n",
    "\n",
    "ArrayList<Comparable> FlowerNecklace = GenerateNecklace.generate(); "
   ]
  },
  {
   "cell_type": "code",
   "execution_count": 13,
   "metadata": {
    "vscode": {
     "languageId": "java"
    }
   },
   "outputs": [
    {
     "name": "stdout",
     "output_type": "stream",
     "text": [
      "Flower Necklace before sort: [Rose, Lily, Tulip, Daisy, Sunflower, Carnation, Orchid, Daffodil, Peony, Hibiscus]\n",
      "Flower Necklace before sort: [Carnation, Daffodil, Daisy, Hibiscus, Lily, Orchid, Peony, Rose, Sunflower, Tulip]\n"
     ]
    }
   ],
   "source": [
    "public class BubbleSort {\n",
    "    public static void bubbleSort(ArrayList<Comparable> list) {\n",
    "        int n = list.size();\n",
    "        for (int i = 0; i < n - 1; i++) {\n",
    "            for (int j = 0; j < n - i - 1; j++) {\n",
    "                if (list.get(j).compareTo(list.get(j + 1)) > 0) {\n",
    "                    // Swap list[j] with list[j+1]\n",
    "                    Comparable temp = list.get(j);\n",
    "                    list.set(j, list.get(j + 1));\n",
    "                    list.set(j + 1, temp);\n",
    "                }\n",
    "            }\n",
    "        }\n",
    "    }\n",
    "}\n",
    "ArrayList<Comparable> FlowerNecklace = GenerateNecklace.generate(); \n",
    "System.out.println(\"Flower Necklace before sort: \" + FlowerNecklace);\n",
    "BubbleSort.bubbleSort(FlowerNecklace);\n",
    "System.out.println(\"Flower Necklace before sort: \" + FlowerNecklace);"
   ]
  },
  {
   "cell_type": "code",
   "execution_count": 16,
   "metadata": {
    "vscode": {
     "languageId": "java"
    }
   },
   "outputs": [
    {
     "name": "stdout",
     "output_type": "stream",
     "text": [
      "Flower Necklace before sort: [Rose, Lily, Tulip, Daisy, Sunflower, Carnation, Orchid, Daffodil, Peony, Hibiscus]\n",
      "Flower Necklace before sort: [Carnation, Daffodil, Daisy, Hibiscus, Lily, Orchid, Peony, Rose, Sunflower, Tulip]\n"
     ]
    }
   ],
   "source": [
    "public class InsertionSort {\n",
    "    public static void insertionSort(ArrayList<Comparable> list) {\n",
    "        for (int i = 1; i < list.size(); i++) {\n",
    "            Comparable key = list.get(i);\n",
    "            int j = i - 1;\n",
    "    \n",
    "            while (j >= 0 && list.get(j).compareTo(key) > 0) {\n",
    "                list.set(j + 1, list.get(j));\n",
    "                j--;\n",
    "            }\n",
    "            list.set(j + 1, key);\n",
    "        }\n",
    "    }\n",
    "}\n",
    "\n",
    "ArrayList<Comparable> FlowerNecklace = GenerateNecklace.generate(); \n",
    "System.out.println(\"Flower Necklace before sort: \" + FlowerNecklace);\n",
    "InsertionSort.insertionSort(FlowerNecklace);\n",
    "System.out.println(\"Flower Necklace before sort: \" + FlowerNecklace);"
   ]
  },
  {
   "cell_type": "code",
   "execution_count": 17,
   "metadata": {
    "vscode": {
     "languageId": "java"
    }
   },
   "outputs": [
    {
     "name": "stdout",
     "output_type": "stream",
     "text": [
      "Flower Necklace before sort: [Rose, Lily, Tulip, Daisy, Sunflower, Carnation, Orchid, Daffodil, Peony, Hibiscus]\n"
     ]
    },
    {
     "name": "stdout",
     "output_type": "stream",
     "text": [
      "Flower Necklace before sort: [Carnation, Daffodil, Daisy, Hibiscus, Lily, Orchid, Peony, Rose, Sunflower, Tulip]\n"
     ]
    }
   ],
   "source": [
    "public class SelectionSort {\n",
    "    public static void selectionSort(ArrayList<Comparable> list) {\n",
    "        int n = list.size();\n",
    "        for (int i = 0; i < n - 1; i++) {\n",
    "            int minIndex = i;\n",
    "            for (int j = i + 1; j < n; j++) {\n",
    "                if (list.get(j).compareTo(list.get(minIndex)) < 0) {\n",
    "                    minIndex = j;\n",
    "                }\n",
    "            }\n",
    "            // Swap the found minimum element with the first element\n",
    "            Comparable temp = list.get(minIndex);\n",
    "            list.set(minIndex, list.get(i));\n",
    "            list.set(i, temp);\n",
    "        }\n",
    "    }\n",
    "}\n",
    "\n",
    "ArrayList<Comparable> FlowerNecklace = GenerateNecklace.generate(); \n",
    "System.out.println(\"Flower Necklace before sort: \" + FlowerNecklace);\n",
    "SelectionSort.selectionSort(FlowerNecklace);\n",
    "System.out.println(\"Flower Necklace before sort: \" + FlowerNecklace);"
   ]
  },
  {
   "cell_type": "code",
   "execution_count": 22,
   "metadata": {
    "vscode": {
     "languageId": "java"
    }
   },
   "outputs": [
    {
     "name": "stdout",
     "output_type": "stream",
     "text": [
      "Flower Necklace before sort: [Rose, Lily, Tulip, Daisy, Sunflower, Carnation, Orchid, Daffodil, Peony, Hibiscus]\n",
      "Flower Necklace before sort: [Carnation, Daffodil, Daisy, Hibiscus, Lily, Orchid, Peony, Rose, Sunflower, Tulip]\n"
     ]
    }
   ],
   "source": [
    "public class QuickSort{\n",
    "    public static void quickSort(ArrayList<Comparable> list, int low, int high) {\n",
    "        if (low < high) {\n",
    "            int pi = partition(list, low, high);\n",
    "            quickSort(list, low, pi - 1);\n",
    "            quickSort(list, pi + 1, high);\n",
    "        }\n",
    "    }\n",
    "    \n",
    "    private static int partition(ArrayList<Comparable> list, int low, int high) {\n",
    "        Comparable pivot = list.get(high);\n",
    "        int i = low - 1;\n",
    "        for (int j = low; j < high; j++) {\n",
    "            if (list.get(j).compareTo(pivot) < 0) {\n",
    "                i++;\n",
    "                Comparable temp = list.get(i);\n",
    "                list.set(i, list.get(j));\n",
    "                list.set(j, temp);\n",
    "            }\n",
    "        }\n",
    "        Comparable temp = list.get(i + 1);\n",
    "        list.set(i + 1, list.get(high));\n",
    "        list.set(high, temp);\n",
    "        return i + 1;\n",
    "    }\n",
    "}\n",
    "\n",
    "ArrayList<Comparable> FlowerNecklace = GenerateNecklace.generate(); \n",
    "System.out.println(\"Flower Necklace before sort: \" + FlowerNecklace);\n",
    "QuickSort.quickSort(FlowerNecklace, 0, FlowerNecklace.size()-1);\n",
    "System.out.println(\"Flower Necklace before sort: \" + FlowerNecklace);"
   ]
  },
  {
   "cell_type": "code",
   "execution_count": 23,
   "metadata": {
    "vscode": {
     "languageId": "java"
    }
   },
   "outputs": [
    {
     "name": "stdout",
     "output_type": "stream",
     "text": [
      "Flower Necklace before sort: [Rose, Lily, Tulip, Daisy, Sunflower, Carnation, Orchid, Daffodil, Peony, Hibiscus]\n",
      "Flower Necklace before sort: [Carnation, Daffodil, Daisy, Hibiscus, Lily, Orchid, Peony, Rose, Sunflower, Tulip]\n"
     ]
    }
   ],
   "source": [
    "public class MergeSort {\n",
    "    public static void mergeSort(ArrayList<Comparable> list) {\n",
    "        if (list.size() > 1) {\n",
    "            int mid = list.size() / 2;\n",
    "            ArrayList<Comparable> left = new ArrayList<>(list.subList(0, mid));\n",
    "            ArrayList<Comparable> right = new ArrayList<>(list.subList(mid, list.size()));\n",
    "    \n",
    "            mergeSort(left);\n",
    "            mergeSort(right);\n",
    "    \n",
    "            merge(list, left, right);\n",
    "        }\n",
    "    }\n",
    "    \n",
    "    private static void merge(ArrayList<Comparable> list, ArrayList<Comparable> left, ArrayList<Comparable> right) {\n",
    "        int i = 0, j = 0, k = 0;\n",
    "        while (i < left.size() && j < right.size()) {\n",
    "            if (left.get(i).compareTo(right.get(j)) <= 0) {\n",
    "                list.set(k++, left.get(i++));\n",
    "            } else {\n",
    "                list.set(k++, right.get(j++));\n",
    "            }\n",
    "        }\n",
    "        while (i < left.size()) {\n",
    "            list.set(k++, left.get(i++));\n",
    "        }\n",
    "        while (j < right.size()) {\n",
    "            list.set(k++, right.get(j++));\n",
    "        }\n",
    "    }    \n",
    "}\n",
    "\n",
    "ArrayList<Comparable> FlowerNecklace = GenerateNecklace.generate(); \n",
    "System.out.println(\"Flower Necklace before sort: \" + FlowerNecklace);\n",
    "MergeSort.mergeSort(FlowerNecklace);\n",
    "System.out.println(\"Flower Necklace before sort: \" + FlowerNecklace);"
   ]
  },
  {
   "cell_type": "markdown",
   "metadata": {},
   "source": [
    "## Implementation using Linked List\n",
    "Linked list implementation is provided below and I also implemented merge sort for it."
   ]
  },
  {
   "cell_type": "code",
   "execution_count": 33,
   "metadata": {
    "vscode": {
     "languageId": "java"
    }
   },
   "outputs": [
    {
     "data": {
      "text/plain": [
       "(Name: Rose, Petals: 5, Color: Red) -> (Name: Lily, Petals: 6, Color: White) -> (Name: Tulip, Petals: 4, Color: Yellow) -> (Name: Daisy, Petals: 8, Color: Pink) -> (Name: Sunflower, Petals: 3, Color: Yellow) -> (Name: Carnation, Petals: 5, Color: Pink) -> (Name: Orchid, Petals: 7, Color: Purple) -> (Name: Daffodil, Petals: 4, Color: Yellow) -> (Name: Peony, Petals: 6, Color: Pink) -> (Name: Hibiscus, Petals: 5, Color: Red) -> null"
      ]
     },
     "execution_count": 33,
     "metadata": {},
     "output_type": "execute_result"
    }
   ],
   "source": [
    "class FlowerNode {\n",
    "    Flower flower;\n",
    "    FlowerNode next;\n",
    "\n",
    "    public FlowerNode(Flower flower) {\n",
    "        this.flower = flower;\n",
    "        this.next = null;\n",
    "    }\n",
    "}\n",
    "\n",
    "public class FlowerNecklace {\n",
    "    private FlowerNode head;\n",
    "    private int size;\n",
    "\n",
    "    public FlowerNecklace() {\n",
    "        head = null;\n",
    "        size = 0;\n",
    "    }\n",
    "\n",
    "    public void add(Flower flower) {\n",
    "        FlowerNode newNode = new FlowerNode(flower);\n",
    "        if (head == null) {\n",
    "            head = newNode;\n",
    "        } else {\n",
    "            FlowerNode current = head;\n",
    "            while (current.next != null) {\n",
    "                current = current.next;\n",
    "            }\n",
    "            current.next = newNode;\n",
    "        }\n",
    "        size++;\n",
    "    }\n",
    "\n",
    "    @Override\n",
    "    public String toString() {\n",
    "        FlowerNode current = head;\n",
    "        String res = \"\";\n",
    "        while (current != null) {\n",
    "            res += \"(Name: \" + current.flower.getName() + \", Petals: \" + current.flower.getNumberPetals() + \", Color: \" + current.flower.getColor() + \") -> \";\n",
    "            current = current.next;\n",
    "        }\n",
    "        res+=\"null\";\n",
    "        return res;\n",
    "    }\n",
    "\n",
    "    public int size() {\n",
    "        return size;\n",
    "    }\n",
    "\n",
    "    public FlowerNode getHead() {\n",
    "        return head;\n",
    "    }\n",
    "\n",
    "    public void setHead(FlowerNode head) {\n",
    "        this.head = head;\n",
    "    }\n",
    "\n",
    "}\n",
    "\n",
    "public class GenerateLinkedNecklace {\n",
    "    public static FlowerNecklace generate() {\n",
    "\n",
    "        FlowerNecklace flowerNecklace = new FlowerNecklace();\n",
    "        flowerNecklace.add(new Flower(5, \"Rose\", \"Red\"));\n",
    "        flowerNecklace.add(new Flower(6, \"Lily\", \"White\"));\n",
    "        flowerNecklace.add(new Flower(4, \"Tulip\", \"Yellow\"));\n",
    "        flowerNecklace.add(new Flower(8, \"Daisy\", \"Pink\"));\n",
    "        flowerNecklace.add(new Flower(3, \"Sunflower\", \"Yellow\"));\n",
    "        flowerNecklace.add(new Flower(5, \"Carnation\", \"Pink\"));\n",
    "        flowerNecklace.add(new Flower(7, \"Orchid\", \"Purple\"));\n",
    "        flowerNecklace.add(new Flower(4, \"Daffodil\", \"Yellow\"));\n",
    "        flowerNecklace.add(new Flower(6, \"Peony\", \"Pink\"));\n",
    "        flowerNecklace.add(new Flower(5, \"Hibiscus\", \"Red\"));\n",
    "        return flowerNecklace;\n",
    "    }\n",
    "}\n",
    "\n",
    "GenerateLinkedNecklace.generate()"
   ]
  },
  {
   "cell_type": "code",
   "execution_count": 34,
   "metadata": {
    "vscode": {
     "languageId": "java"
    }
   },
   "outputs": [
    {
     "name": "stdout",
     "output_type": "stream",
     "text": [
      "Flower Necklace before sort: (Name: Rose, Petals: 5, Color: Red) -> (Name: Lily, Petals: 6, Color: White) -> (Name: Tulip, Petals: 4, Color: Yellow) -> (Name: Daisy, Petals: 8, Color: Pink) -> (Name: Sunflower, Petals: 3, Color: Yellow) -> (Name: Carnation, Petals: 5, Color: Pink) -> (Name: Orchid, Petals: 7, Color: Purple) -> (Name: Daffodil, Petals: 4, Color: Yellow) -> (Name: Peony, Petals: 6, Color: Pink) -> (Name: Hibiscus, Petals: 5, Color: Red) -> null\n"
     ]
    },
    {
     "name": "stdout",
     "output_type": "stream",
     "text": [
      "Flower Necklace before sort: (Name: Carnation, Petals: 5, Color: Pink) -> (Name: Daffodil, Petals: 4, Color: Yellow) -> (Name: Daisy, Petals: 8, Color: Pink) -> (Name: Hibiscus, Petals: 5, Color: Red) -> (Name: Lily, Petals: 6, Color: White) -> (Name: Orchid, Petals: 7, Color: Purple) -> (Name: Peony, Petals: 6, Color: Pink) -> (Name: Rose, Petals: 5, Color: Red) -> (Name: Sunflower, Petals: 3, Color: Yellow) -> (Name: Tulip, Petals: 4, Color: Yellow) -> null\n"
     ]
    }
   ],
   "source": [
    "public class MergeSortFlowerNecklace {\n",
    "    // Method to perform merge sort on the given linked list\n",
    "    public static FlowerNode mergeSort(FlowerNode head) {\n",
    "        // Base case: if the list is empty or has only one element, it is already sorted\n",
    "        if (head == null || head.next == null) {\n",
    "            return head;\n",
    "        }\n",
    "\n",
    "        // Find the middle of the list\n",
    "        FlowerNode middle = getMiddle(head);\n",
    "        FlowerNode nextOfMiddle = middle.next;\n",
    "        middle.next = null;\n",
    "\n",
    "        // Recursively sort the left and right halves of the list\n",
    "        FlowerNode left = mergeSort(head);\n",
    "        FlowerNode right = mergeSort(nextOfMiddle);\n",
    "\n",
    "        // Merge the sorted halves\n",
    "        return merge(left, right);\n",
    "    }\n",
    "\n",
    "    // Method to merge two sorted linked lists\n",
    "    private static FlowerNode merge(FlowerNode left, FlowerNode right) {\n",
    "        FlowerNode dummy = new FlowerNode(null);\n",
    "        FlowerNode tail = dummy;\n",
    "\n",
    "        // Compare the values of the nodes and merge them in ascending order\n",
    "        while (left != null && right != null) {\n",
    "            if (left.flower.compareTo(right.flower) <= 0) {\n",
    "                tail.next = left;\n",
    "                left = left.next;\n",
    "            } else {\n",
    "                tail.next = right;\n",
    "                right = right.next;\n",
    "            }\n",
    "            tail = tail.next;\n",
    "        }\n",
    "\n",
    "        // Append any remaining elements from the left or right lists\n",
    "        if (left != null) {\n",
    "            tail.next = left;\n",
    "        } else {\n",
    "            tail.next = right;\n",
    "        }\n",
    "\n",
    "        // Return the head of the merged list\n",
    "        return dummy.next;\n",
    "    }\n",
    "\n",
    "    // Method to find the middle node of the linked list\n",
    "    private static FlowerNode getMiddle(FlowerNode head) {\n",
    "        if (head == null) {\n",
    "            return head;\n",
    "        }\n",
    "        FlowerNode slow = head;\n",
    "        FlowerNode fast = head;\n",
    "        while (fast.next != null && fast.next.next != null) {\n",
    "            slow = slow.next;\n",
    "            fast = fast.next.next;\n",
    "        }\n",
    "        return slow;\n",
    "    }\n",
    "}\n",
    "\n",
    "FlowerNecklace flowerNecklace = GenerateLinkedNecklace.generate();\n",
    "System.out.println(\"Flower Necklace before sort: \" + flowerNecklace);\n",
    "flowerNecklace.setHead(MergeSortFlowerNecklace.mergeSort(flowerNecklace.getHead()));\n",
    "System.out.println(\"Flower Necklace before sort: \" + flowerNecklace);"
   ]
  },
  {
   "cell_type": "code",
   "execution_count": null,
   "metadata": {
    "vscode": {
     "languageId": "java"
    }
   },
   "outputs": [],
   "source": []
  },
  {
   "cell_type": "code",
   "execution_count": null,
   "metadata": {
    "vscode": {
     "languageId": "java"
    }
   },
   "outputs": [],
   "source": []
  }
 ],
 "metadata": {
  "kernelspec": {
   "display_name": "java",
   "language": "java",
   "name": "java"
  },
  "language_info": {
   "codemirror_mode": "java",
   "file_extension": ".jshell",
   "mimetype": "text/x-java-source",
   "name": "Java",
   "pygments_lexer": "java",
   "version": "17.0.10+7-Ubuntu-120.04.1"
  }
 },
 "nbformat": 4,
 "nbformat_minor": 2
}
