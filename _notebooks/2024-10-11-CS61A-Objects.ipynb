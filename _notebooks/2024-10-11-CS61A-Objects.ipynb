{
 "cells": [
  {
   "cell_type": "markdown",
   "metadata": {},
   "source": [
    "---\n",
    "- title: \"'CS61A: Objects'\"\n",
    "- author: alex\n",
    "- badges: true\n",
    "- comments: true\n",
    "- categories: [CS61A]\n",
    "- date: 2024-10-11 6:00:00 -0800\n",
    "- math: true\n",
    "- tags: [CS61A, objects]\n",
    "---"
   ]
  },
  {
   "cell_type": "markdown",
   "metadata": {},
   "source": [
    "# Object-Oriented Programming\n",
    "- OOP provides a method for organizing large programs\n",
    "    - large programs can be organized into small, modular components that can be developed at ones.\n",
    "    - Extends data abstraction, but also combines information and behavior.\n",
    "    - Objects represent their real-life counterparts (or they can be an abstract idea!)\n",
    "- This allows our code to not just be a long list of instructions, but rather the combined interactions of many small objects and components.\n",
    "    - Each object has its own local state, which may change over time.\n",
    "    - Mutation happens at a local state, not at a global level.\n",
    "        - Mutations only occur to a certain object, and each object should know how to manage its local state.\n",
    "    - Interactions with an object occur through the **methods**.\n",
    "    - Objects are all instances of a common **class**.\n",
    "        - The class provides a blueprint for constructing the objects.\n",
    "    - Different classes relate to each other\n",
    "- Specialized language and vocab:\n",
    "    - **Class**: Defines how objects of a type behave.\n",
    "    - **Object**: An instance of a class, with it's type the class.\n",
    "    - **Method**: A function called on an object using dot expression (`<object>.<method>()`)\n",
    "        - Functions are typically defined within the global frame, but a method is **specific to a particular object**.\n",
    "- Ex: Python lists are an example of a class"
   ]
  },
  {
   "cell_type": "code",
   "execution_count": 1,
   "metadata": {},
   "outputs": [
    {
     "data": {
      "text/plain": [
       "list"
      ]
     },
     "execution_count": 1,
     "metadata": {},
     "output_type": "execute_result"
    }
   ],
   "source": [
    "list"
   ]
  },
  {
   "cell_type": "markdown",
   "metadata": {},
   "source": [
    "- In fact, just calling list by itself is just referencing the **constructor** of the class, creating a new instance of a list."
   ]
  },
  {
   "cell_type": "code",
   "execution_count": 5,
   "metadata": {},
   "outputs": [
    {
     "name": "stdout",
     "output_type": "stream",
     "text": [
      "type(s): <class 'list'> \n",
      "and s: [0, 1, 2]\n"
     ]
    }
   ],
   "source": [
    "s = list(range(3))\n",
    "print(\"type(s):\", type(s),\"\\nand s:\", s)"
   ]
  },
  {
   "cell_type": "markdown",
   "metadata": {},
   "source": [
    "- All list operations, from methods (append, extend, sort, insert, pop, remove), to arithmetic operations, to item lookup and assignment, are implemented/defined within the list class."
   ]
  },
  {
   "cell_type": "markdown",
   "metadata": {},
   "source": [
    "# Classes\n",
    "- Class describes the behavior of its instances\n",
    "    - Ex: All bank accounts have a balance and an account holder; the Account class should add those attributes to each newly created instance.\n",
    "- The class is a blueprint for creating objects/instances of that class.\n",
    "    - Every class has attributes and methods.\n",
    "    - Attributes are like variables, they store information.\n",
    "    - Methods are like functions, they perform operations to the Object.\n",
    "    - We access attributes and methods using the dot notation.\n",
    "- Different objects share common behavior and attributes as they are instances of the same class.\n",
    "    - Every bank account has a balance and acount holder. Additionally, every account can also deposit and withdraw money.\n",
    "    - Everything within an object is defined locally to that object. We may not access it without specifying the object."
   ]
  },
  {
   "cell_type": "code",
   "execution_count": 6,
   "metadata": {},
   "outputs": [
    {
     "name": "stdout",
     "output_type": "stream",
     "text": [
      "30000\n",
      "30000\n"
     ]
    }
   ],
   "source": [
    "class Account:\n",
    "    company = \"CS61A Bank\" # This is a class variable\n",
    "    def __init__(self, account_holder):\n",
    "        self.balance = 0 # This is an instance variable\n",
    "        self.holder = account_holder\n",
    "    \n",
    "    def deposit(self, ammount): # This is an instance method\n",
    "        self.balance = self.balance + ammount\n",
    "        return self.balance\n",
    "    \n",
    "    def withdraw(self, amount):\n",
    "        if amount > self.balance:\n",
    "            return \"Insufficient funds\"\n",
    "        self.balance = self.balance - amount\n",
    "        return self.balance\n",
    "    \n",
    "    def foo(x): # This is a class method\n",
    "        return Account.company\n",
    "    \n",
    "    def transfer(self, into, amount):\n",
    "        result = self.withdraw(amount)\n",
    "        if type(result) == str:\n",
    "            return result\n",
    "        else:\n",
    "            into.deposit(amount)\n",
    "            return \"Transfer Successful\"\n",
    "\n",
    "a = Account(\"Alex\")\n",
    "a.deposit(50000)\n",
    "\n",
    "b = Account(\"Bobby\")\n",
    "b.deposit(10000)\n",
    "\n",
    "a.transfer(b, 20000)\n",
    "print(a.balance) # 30000\n",
    "print(b.balance) # 30000"
   ]
  },
  {
   "cell_type": "markdown",
   "metadata": {},
   "source": [
    "- The `__init__()` method is a special method name that functions as a **constructor** for the class\n",
    "    - It defines the behavior of the class whenever a new object instance is created (what values to store, calculations to make, algorithms to run, etc.)\n",
    "- The keyword `self` is used to refer to the instance of the class itself. \n",
    "\n",
    "# Creating Instances\n",
    "- Object Construction \n",
    "    - A new instances of the class is created, it is a blank slate. This blank slate has no attributes.\n",
    "    - The `__init__` method of the class is called with the new object as its first argument (named `self`), along with any additional arguments provided in the call expression\n",
    "        - Think of the `self` argument as being the name of the object that we are calling\n",
    "\n",
    "# Instance Attributes\n",
    "- An object's attributes are accessed and mofieid using dot expressions:\n",
    "```python\n",
    ">>> a = Account('Alan')\n",
    ">>> a.balance\n",
    "0\n",
    ">>> a.balance = 12\n",
    ">>> a.balance\n",
    "12\n",
    "```\n",
    "- An attribute may be asigned any value, even if that attribute did not exist before.\n"
   ]
  },
  {
   "cell_type": "code",
   "execution_count": 7,
   "metadata": {},
   "outputs": [
    {
     "data": {
      "text/plain": [
       "20"
      ]
     },
     "execution_count": 7,
     "metadata": {},
     "output_type": "execute_result"
    }
   ],
   "source": [
    "a = Account('Alan')\n",
    "a.balance = 20\n",
    "b = Account(\"Bobby\")\n",
    "b.balance = 20\n",
    "a.backup = b # This is an attribute that is bound to another object! This attribute also did not exist in the class definition\n",
    "a.backup.balance"
   ]
  },
  {
   "cell_type": "markdown",
   "metadata": {},
   "source": [
    "## Object Identity\n",
    "- Important as object attributes may change.\n",
    "    - Identity may help us with identifying if two objects with the same attributes are indeed the same object, or if they are different.\n",
    "- Every object instance of a class has a unique identity\n",
    "- We may test if two expressoins evaluate to the same Object by using the Identity operators `is` and `is not`"
   ]
  },
  {
   "cell_type": "code",
   "execution_count": 12,
   "metadata": {},
   "outputs": [
    {
     "name": "stdout",
     "output_type": "stream",
     "text": [
      "Is a the same as a? True\n",
      "Is a the same as b? False\n"
     ]
    }
   ],
   "source": [
    "a = Account('John')\n",
    "b = Account('Jack')\n",
    "print(\"Is a the same as a?\", a is a)\n",
    "print(\"Is a the same as b?\", a is b)"
   ]
  },
  {
   "cell_type": "markdown",
   "metadata": {},
   "source": [
    "- However, when we bind an object to a new name with assignment, we do not create a new object. There is simply just an additional name that references the same object."
   ]
  },
  {
   "cell_type": "code",
   "execution_count": 13,
   "metadata": {},
   "outputs": [
    {
     "data": {
      "text/plain": [
       "True"
      ]
     },
     "execution_count": 13,
     "metadata": {},
     "output_type": "execute_result"
    }
   ],
   "source": [
    "c = a\n",
    "c is a"
   ]
  },
  {
   "cell_type": "markdown",
   "metadata": {},
   "source": [
    "# Methods\n",
    "- To invoke methods, we use the dot expression.\n",
    "    - All invoked methods have access to the object because of the `self` parameter.\n",
    "    - Because of this, the method is capable of accessing and manipulating the attributes of the object.\n",
    "- The dot notation automatically supplies the first argument to the method.\n",
    "- We create unique methods for each class because different types might have different behaviors for each action\n",
    "    - Ex: The deposit actions of a bank differs than that of the deposit actions of a hedge fund."
   ]
  }
 ],
 "metadata": {
  "kernelspec": {
   "display_name": "Python 3",
   "language": "python",
   "name": "python3"
  },
  "language_info": {
   "codemirror_mode": {
    "name": "ipython",
    "version": 3
   },
   "file_extension": ".py",
   "mimetype": "text/x-python",
   "name": "python",
   "nbconvert_exporter": "python",
   "pygments_lexer": "ipython3",
   "version": "3.10.12"
  }
 },
 "nbformat": 4,
 "nbformat_minor": 2
}
