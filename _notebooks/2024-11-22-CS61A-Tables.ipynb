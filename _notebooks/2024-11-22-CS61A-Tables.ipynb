{
 "cells": [
  {
   "cell_type": "markdown",
   "metadata": {},
   "source": [
    "---\n",
    "- title: \"'CS61A: Tables'\"\n",
    "- author: alex\n",
    "- badges: true\n",
    "- comments: true\n",
    "- categories: [CS61A]\n",
    "- date: 2024-11-22 1:00:00 -0800\n",
    "- math: true\n",
    "- tags: [CS61A, SQL]\n",
    "---"
   ]
  },
  {
   "cell_type": "code",
   "execution_count": 1,
   "metadata": {
    "vscode": {
     "languageId": "sql"
    }
   },
   "outputs": [],
   "source": [
    "%load_ext sql\n",
    "%config SqlMagic.style = '_DEPRECATED_DEFAULT'\n",
    "%sql sqlite:///cs61a.db"
   ]
  },
  {
   "cell_type": "markdown",
   "metadata": {},
   "source": [
    "# Joining Tables\n",
    "- Queries may span over multiple tables, so we have to **join** multiple tables into one.\n",
    "    - We must modify the **FROM** clause within a select statement to join multiple tables.\n",
    "- Two tables **A** & **B** are joined by a comma (or `JOIN`) to form all  combiations of `a row from A` and `a row from B`."
   ]
  },
  {
   "cell_type": "code",
   "execution_count": 11,
   "metadata": {
    "vscode": {
     "languageId": "sql"
    }
   },
   "outputs": [
    {
     "name": "stdout",
     "output_type": "stream",
     "text": [
      " * sqlite:///cs61a.db\n",
      "Done.\n"
     ]
    },
    {
     "data": {
      "text/plain": [
       "[]"
      ]
     },
     "execution_count": 11,
     "metadata": {},
     "output_type": "execute_result"
    }
   ],
   "source": [
    "%%sql\n",
    "CREATE TABLE dogs AS\n",
    "    SELECT \"ace\" AS name, \"long\" AS fur UNION\n",
    "    SELECT \"bella\", \"short\" UNION\n",
    "    SELECT \"charlie\", \"long\" UNION\n",
    "    SELECT \"daisy\", \"long\" UNION \n",
    "    SELECT \"ellie\", \"short\" UNION\n",
    "    SELECT \"finn\", \"curly\" UNION\n",
    "    SELECT \"ginger\", \"short\" UNION\n",
    "    SELECT \"hank\", \"curly\";"
   ]
  },
  {
   "cell_type": "markdown",
   "metadata": {},
   "source": [
    "- Using the parents and the dogs table, we may now manipulate data pertaining to the family structure of dogs, and their fur types at the same time.\n",
    "- Ex: Select the names of the parents of curly-furred dogs."
   ]
  },
  {
   "cell_type": "code",
   "execution_count": null,
   "metadata": {
    "vscode": {
     "languageId": "sql"
    }
   },
   "outputs": [
    {
     "name": "stdout",
     "output_type": "stream",
     "text": [
      " * sqlite:///cs61a.db\n",
      "Done.\n"
     ]
    },
    {
     "data": {
      "text/html": [
       "<table>\n",
       "    <thead>\n",
       "        <tr>\n",
       "            <th>parent</th>\n",
       "        </tr>\n",
       "    </thead>\n",
       "    <tbody>\n",
       "        <tr>\n",
       "            <td>ellie</td>\n",
       "        </tr>\n",
       "        <tr>\n",
       "            <td>daisy</td>\n",
       "        </tr>\n",
       "    </tbody>\n",
       "</table>"
      ],
      "text/plain": [
       "[('ellie',), ('daisy',)]"
      ]
     },
     "execution_count": 13,
     "metadata": {},
     "output_type": "execute_result"
    }
   ],
   "source": [
    "%%sql\n",
    "SELECT parent FROM parents, dogs WHERE child = name AND fur = \"curly\";"
   ]
  },
  {
   "cell_type": "markdown",
   "metadata": {},
   "source": [
    "- When we joined the parents and dogs table, we made a new table where each row of parents is joined with every row of dogs, forming a (length of parents) * (length of dogs) long table.\n",
    "    - To solve problems that require joining tables together, we must find ways to relate the rows of the two tables together and find the relevant entires that match.\n",
    "    - Match a row from table A with table B.\n",
    "\n",
    "## Implicit & Explicit Join Syntax\n",
    "- **Implicit Syntax**: Place all conditions for joining the two tables in the `WHERE` clause.\n",
    "    - `JOIN` will just create rows of all possible combinations of table A and table B's rows\n",
    "- **Explict Syntax**: Use the syntax `FROM ____ JOIN ____ ON ____` and pu matching conditions after `ON`\n",
    "    - Ex:"
   ]
  },
  {
   "cell_type": "code",
   "execution_count": 14,
   "metadata": {
    "vscode": {
     "languageId": "sql"
    }
   },
   "outputs": [
    {
     "name": "stdout",
     "output_type": "stream",
     "text": [
      " * sqlite:///cs61a.db\n",
      "Done.\n"
     ]
    },
    {
     "data": {
      "text/html": [
       "<table>\n",
       "    <thead>\n",
       "        <tr>\n",
       "            <th>parent</th>\n",
       "        </tr>\n",
       "    </thead>\n",
       "    <tbody>\n",
       "        <tr>\n",
       "            <td>ellie</td>\n",
       "        </tr>\n",
       "        <tr>\n",
       "            <td>daisy</td>\n",
       "        </tr>\n",
       "    </tbody>\n",
       "</table>"
      ],
      "text/plain": [
       "[('ellie',), ('daisy',)]"
      ]
     },
     "execution_count": 14,
     "metadata": {},
     "output_type": "execute_result"
    }
   ],
   "source": [
    "%%sql\n",
    "SELECT parent FROM parents JOIN dogs ON child = name WHERE fur = \"curly\";"
   ]
  },
  {
   "cell_type": "markdown",
   "metadata": {},
   "source": [
    "# Aliases and Dot Expressions\n",
    "- We use **Dot Expressions** to distinguish between two columns that have the same name, and we use **Aliases** to distinguish between two tables that have the same name.\n",
    "    - Both of these cases occur when a table is joined with itself.\n",
    "- EX: Select all pairs of siblings"
   ]
  },
  {
   "cell_type": "code",
   "execution_count": null,
   "metadata": {
    "vscode": {
     "languageId": "sql"
    }
   },
   "outputs": [
    {
     "name": "stdout",
     "output_type": "stream",
     "text": [
      " * sqlite:///cs61a.db\n",
      "Done.\n"
     ]
    },
    {
     "data": {
      "text/html": [
       "<table>\n",
       "    <thead>\n",
       "        <tr>\n",
       "            <th>first</th>\n",
       "            <th>second</th>\n",
       "        </tr>\n",
       "    </thead>\n",
       "    <tbody>\n",
       "        <tr>\n",
       "            <td>bella</td>\n",
       "            <td>charlie</td>\n",
       "        </tr>\n",
       "        <tr>\n",
       "            <td>ace</td>\n",
       "            <td>daisy</td>\n",
       "        </tr>\n",
       "        <tr>\n",
       "            <td>ace</td>\n",
       "            <td>ginger</td>\n",
       "        </tr>\n",
       "        <tr>\n",
       "            <td>daisy</td>\n",
       "            <td>ginger</td>\n",
       "        </tr>\n",
       "    </tbody>\n",
       "</table>"
      ],
      "text/plain": [
       "[('bella', 'charlie'),\n",
       " ('ace', 'daisy'),\n",
       " ('ace', 'ginger'),\n",
       " ('daisy', 'ginger')]"
      ]
     },
     "execution_count": 21,
     "metadata": {},
     "output_type": "execute_result"
    }
   ],
   "source": [
    "%%sql\n",
    "SELECT a.child AS first, b.child AS second -- dot expression is used to select the names of two dogs\n",
    "    FROM parents AS a, parents AS b     -- Aliasing is used to distinguish between the two tables\n",
    "    WHERE a.parent = b.parent AND a.child < b.child     -- Check that the two dogs have the same parent and ensure that they are not the same dog + ensure no duplicates"
   ]
  },
  {
   "cell_type": "markdown",
   "metadata": {},
   "source": [
    "- Ex: Select all grandparent, grandchild pairs"
   ]
  },
  {
   "cell_type": "code",
   "execution_count": 24,
   "metadata": {
    "vscode": {
     "languageId": "sql"
    }
   },
   "outputs": [
    {
     "name": "stdout",
     "output_type": "stream",
     "text": [
      " * sqlite:///cs61a.db\n",
      "Done.\n"
     ]
    },
    {
     "data": {
      "text/html": [
       "<table>\n",
       "    <thead>\n",
       "        <tr>\n",
       "            <th>gp</th>\n",
       "            <th>gc</th>\n",
       "        </tr>\n",
       "    </thead>\n",
       "    <tbody>\n",
       "        <tr>\n",
       "            <td>ellie</td>\n",
       "            <td>ace</td>\n",
       "        </tr>\n",
       "        <tr>\n",
       "            <td>ellie</td>\n",
       "            <td>daisy</td>\n",
       "        </tr>\n",
       "        <tr>\n",
       "            <td>ellie</td>\n",
       "            <td>ginger</td>\n",
       "        </tr>\n",
       "        <tr>\n",
       "            <td>finn</td>\n",
       "            <td>bella</td>\n",
       "        </tr>\n",
       "        <tr>\n",
       "            <td>finn</td>\n",
       "            <td>charlie</td>\n",
       "        </tr>\n",
       "        <tr>\n",
       "            <td>finn</td>\n",
       "            <td>hank</td>\n",
       "        </tr>\n",
       "    </tbody>\n",
       "</table>"
      ],
      "text/plain": [
       "[('ellie', 'ace'),\n",
       " ('ellie', 'daisy'),\n",
       " ('ellie', 'ginger'),\n",
       " ('finn', 'bella'),\n",
       " ('finn', 'charlie'),\n",
       " ('finn', 'hank')]"
      ]
     },
     "execution_count": 24,
     "metadata": {},
     "output_type": "execute_result"
    }
   ],
   "source": [
    "%%sql\n",
    "SELECT a.parent AS gp, b.child AS gc\n",
    "    FROM parents AS a, parents AS b\n",
    "    WHERE a.child == b.parent"
   ]
  },
  {
   "cell_type": "markdown",
   "metadata": {},
   "source": [
    "## Joining Multiple Tables\n",
    "- Multiple tables can be joined to yield all combinations of rows from table.\n",
    "- Ex: Select all grandparents with the same fur as their grandchildren"
   ]
  },
  {
   "cell_type": "code",
   "execution_count": 31,
   "metadata": {
    "vscode": {
     "languageId": "sql"
    }
   },
   "outputs": [
    {
     "name": "stdout",
     "output_type": "stream",
     "text": [
      " * sqlite:///cs61a.db\n",
      "Done.\n",
      "Done.\n"
     ]
    },
    {
     "data": {
      "text/html": [
       "<table>\n",
       "    <thead>\n",
       "        <tr>\n",
       "            <th>name</th>\n",
       "            <th>name_1</th>\n",
       "        </tr>\n",
       "    </thead>\n",
       "    <tbody>\n",
       "        <tr>\n",
       "            <td>ellie</td>\n",
       "            <td>ginger</td>\n",
       "        </tr>\n",
       "        <tr>\n",
       "            <td>finn</td>\n",
       "            <td>hank</td>\n",
       "        </tr>\n",
       "    </tbody>\n",
       "</table>"
      ],
      "text/plain": [
       "[('ellie', 'ginger'), ('finn', 'hank')]"
      ]
     },
     "execution_count": 31,
     "metadata": {},
     "output_type": "execute_result"
    }
   ],
   "source": [
    "%%sql\n",
    "CREATE TABLE grandparents AS\n",
    "    SELECT a.parent AS granddog, b.child AS grandpup\n",
    "        FROM parents AS a, parents AS b\n",
    "        WHERE a.child = b.parent;\n",
    "\n",
    "SELECT a.name, b.name\n",
    "    FROM grandparents AS gp, dogs AS a, dogs AS b\n",
    "    WHERE gp.granddog = a.name AND gp.grandpup = b.name AND a.fur = b.fur;"
   ]
  },
  {
   "cell_type": "markdown",
   "metadata": {},
   "source": [
    "- To figure out which tables must be joined together, we must understand what information we must gather first.\n",
    "    - What is the grandpup's fur? (dogs)\n",
    "    - What is the granddog's fur? (dogs)\n",
    "    - Are two dogs grandpups and grandogs? (grandparents)\n",
    "\n",
    "# Numerical Expressions\n",
    "- Expressions can contain function calls and arithmetic operators\n",
    "- Through expressions, we may:\n",
    "    - **Combine values**: +, -, *, /, %, and, or\n",
    "    - **Transform values**: abs, round, not\n",
    "    - **Compare values**: <, <=, >, >=, <>, !=, =\n",
    "        - both <> and != means not equal.\n",
    "- Ex: Cities Table"
   ]
  },
  {
   "cell_type": "code",
   "execution_count": 33,
   "metadata": {
    "vscode": {
     "languageId": "sql"
    }
   },
   "outputs": [
    {
     "name": "stdout",
     "output_type": "stream",
     "text": [
      " * sqlite:///cs61a.db\n",
      "Done.\n"
     ]
    },
    {
     "data": {
      "text/plain": [
       "[]"
      ]
     },
     "execution_count": 33,
     "metadata": {},
     "output_type": "execute_result"
    }
   ],
   "source": [
    "%%sql\n",
    "CREATE TABLE cities AS\n",
    "    SELECT 38 AS latitude, 122 AS longitude, \"Berkeley\" AS name UNION\n",
    "    SELECT 42, 71, \"Cambridge\" UNION\n",
    "    SELECT 45, 93, \"Minneapolis\" UNION\n",
    "    SELECT 33, 117, \"San Diego\" UNION\n",
    "    SELECT 26, 80, \"Miami\" UNION\n",
    "    SELECT 90, 0, \"North Pole\";"
   ]
  },
  {
   "cell_type": "markdown",
   "metadata": {},
   "source": [
    "- Ex: Create a new table cold that contains all cities with a latitude at or above 43"
   ]
  },
  {
   "cell_type": "code",
   "execution_count": 38,
   "metadata": {
    "vscode": {
     "languageId": "sql"
    }
   },
   "outputs": [
    {
     "name": "stdout",
     "output_type": "stream",
     "text": [
      " * sqlite:///cs61a.db\n",
      "Done.\n",
      "Done.\n"
     ]
    },
    {
     "data": {
      "text/html": [
       "<table>\n",
       "    <thead>\n",
       "        <tr>\n",
       "            <th>name</th>\n",
       "        </tr>\n",
       "    </thead>\n",
       "    <tbody>\n",
       "        <tr>\n",
       "            <td>Minneapolis</td>\n",
       "        </tr>\n",
       "        <tr>\n",
       "            <td>North Pole</td>\n",
       "        </tr>\n",
       "    </tbody>\n",
       "</table>"
      ],
      "text/plain": [
       "[('Minneapolis',), ('North Pole',)]"
      ]
     },
     "execution_count": 38,
     "metadata": {},
     "output_type": "execute_result"
    }
   ],
   "source": [
    "%%sql\n",
    "\n",
    "CREATE TABLE cold AS\n",
    "    SELECT name FROM cities WHERE latitude >= 43;\n",
    "\n",
    "SELECT name FROM cold;"
   ]
  },
  {
   "cell_type": "markdown",
   "metadata": {},
   "source": [
    "- Ex: Create a new table distances that contains the north-south difference of cities"
   ]
  },
  {
   "cell_type": "code",
   "execution_count": 48,
   "metadata": {
    "vscode": {
     "languageId": "sql"
    }
   },
   "outputs": [
    {
     "name": "stdout",
     "output_type": "stream",
     "text": [
      " * sqlite:///cs61a.db\n",
      "Done.\n",
      "Done.\n"
     ]
    },
    {
     "data": {
      "text/html": [
       "<table>\n",
       "    <thead>\n",
       "        <tr>\n",
       "            <th>city_1</th>\n",
       "            <th>city_2</th>\n",
       "            <th>distance</th>\n",
       "        </tr>\n",
       "    </thead>\n",
       "    <tbody>\n",
       "        <tr>\n",
       "            <td>North Pole</td>\n",
       "            <td>Miami</td>\n",
       "            <td>3840</td>\n",
       "        </tr>\n",
       "        <tr>\n",
       "            <td>North Pole</td>\n",
       "            <td>Berkeley</td>\n",
       "            <td>3120</td>\n",
       "        </tr>\n",
       "        <tr>\n",
       "            <td>North Pole</td>\n",
       "            <td>Cambridge</td>\n",
       "            <td>2880</td>\n",
       "        </tr>\n",
       "        <tr>\n",
       "            <td>North Pole</td>\n",
       "            <td>Minneapolis</td>\n",
       "            <td>2700</td>\n",
       "        </tr>\n",
       "        <tr>\n",
       "            <td>Minneapolis</td>\n",
       "            <td>Miami</td>\n",
       "            <td>1140</td>\n",
       "        </tr>\n",
       "        <tr>\n",
       "            <td>San Diego</td>\n",
       "            <td>Miami</td>\n",
       "            <td>420</td>\n",
       "        </tr>\n",
       "        <tr>\n",
       "            <td>Minneapolis</td>\n",
       "            <td>Berkeley</td>\n",
       "            <td>420</td>\n",
       "        </tr>\n",
       "        <tr>\n",
       "            <td>Cambridge</td>\n",
       "            <td>Berkeley</td>\n",
       "            <td>240</td>\n",
       "        </tr>\n",
       "        <tr>\n",
       "            <td>Minneapolis</td>\n",
       "            <td>Cambridge</td>\n",
       "            <td>180</td>\n",
       "        </tr>\n",
       "        <tr>\n",
       "            <td>San Diego</td>\n",
       "            <td>Berkeley</td>\n",
       "            <td>-300</td>\n",
       "        </tr>\n",
       "        <tr>\n",
       "            <td>San Diego</td>\n",
       "            <td>Cambridge</td>\n",
       "            <td>-540</td>\n",
       "        </tr>\n",
       "        <tr>\n",
       "            <td>Miami</td>\n",
       "            <td>Berkeley</td>\n",
       "            <td>-720</td>\n",
       "        </tr>\n",
       "        <tr>\n",
       "            <td>San Diego</td>\n",
       "            <td>Minneapolis</td>\n",
       "            <td>-720</td>\n",
       "        </tr>\n",
       "        <tr>\n",
       "            <td>Miami</td>\n",
       "            <td>Cambridge</td>\n",
       "            <td>-960</td>\n",
       "        </tr>\n",
       "        <tr>\n",
       "            <td>San Diego</td>\n",
       "            <td>North Pole</td>\n",
       "            <td>-3420</td>\n",
       "        </tr>\n",
       "    </tbody>\n",
       "</table>"
      ],
      "text/plain": [
       "[('North Pole', 'Miami', 3840),\n",
       " ('North Pole', 'Berkeley', 3120),\n",
       " ('North Pole', 'Cambridge', 2880),\n",
       " ('North Pole', 'Minneapolis', 2700),\n",
       " ('Minneapolis', 'Miami', 1140),\n",
       " ('San Diego', 'Miami', 420),\n",
       " ('Minneapolis', 'Berkeley', 420),\n",
       " ('Cambridge', 'Berkeley', 240),\n",
       " ('Minneapolis', 'Cambridge', 180),\n",
       " ('San Diego', 'Berkeley', -300),\n",
       " ('San Diego', 'Cambridge', -540),\n",
       " ('Miami', 'Berkeley', -720),\n",
       " ('San Diego', 'Minneapolis', -720),\n",
       " ('Miami', 'Cambridge', -960),\n",
       " ('San Diego', 'North Pole', -3420)]"
      ]
     },
     "execution_count": 48,
     "metadata": {},
     "output_type": "execute_result"
    }
   ],
   "source": [
    "%%sql\n",
    "CREATE TABLE distances AS\n",
    "    SELECT a.name AS city_1, b.name AS city_2, 60*(a.latitude-b.latitude) AS distance\n",
    "    FROM cities AS a, cities AS b\n",
    "    WHERE a.name > b.name\n",
    "    ORDER BY distance DESC;\n",
    "\n",
    "SELECT * FROM distances;"
   ]
  },
  {
   "cell_type": "markdown",
   "metadata": {},
   "source": [
    "# String Expressions\n",
    "- String values may be combined to form longer strings\n",
    "    - This is done through the concatenation symbol `||`"
   ]
  },
  {
   "cell_type": "code",
   "execution_count": 51,
   "metadata": {
    "vscode": {
     "languageId": "sql"
    }
   },
   "outputs": [
    {
     "name": "stdout",
     "output_type": "stream",
     "text": [
      " * sqlite:///cs61a.db\n",
      "Done.\n"
     ]
    },
    {
     "data": {
      "text/html": [
       "<table>\n",
       "    <thead>\n",
       "        <tr>\n",
       "            <th>&quot;hello, &quot; || &quot;world&quot;</th>\n",
       "        </tr>\n",
       "    </thead>\n",
       "    <tbody>\n",
       "        <tr>\n",
       "            <td>hello, world</td>\n",
       "        </tr>\n",
       "    </tbody>\n",
       "</table>"
      ],
      "text/plain": [
       "[('hello, world',)]"
      ]
     },
     "execution_count": 51,
     "metadata": {},
     "output_type": "execute_result"
    }
   ],
   "source": [
    "%sql SELECT \"hello, \" || \"world\";"
   ]
  },
  {
   "cell_type": "markdown",
   "metadata": {},
   "source": [
    "- String manipulation is also built into SQL\n",
    "    - `SUBSTR(column, start, length)`: For each value in the column, start from at the `start` index (one-based), and capture the next `length` letters, including the `start` letter.\n",
    "    - `INSTR(column, string)`: Returns the index at which a string first appears in another value."
   ]
  },
  {
   "cell_type": "code",
   "execution_count": 57,
   "metadata": {
    "vscode": {
     "languageId": "sql"
    }
   },
   "outputs": [
    {
     "name": "stdout",
     "output_type": "stream",
     "text": [
      " * sqlite:///cs61a.db\n",
      "Done.\n"
     ]
    },
    {
     "data": {
      "text/plain": [
       "[]"
      ]
     },
     "execution_count": 57,
     "metadata": {},
     "output_type": "execute_result"
    }
   ],
   "source": [
    "%sql DROP TABLE phrase;"
   ]
  },
  {
   "cell_type": "code",
   "execution_count": 68,
   "metadata": {
    "vscode": {
     "languageId": "sql"
    }
   },
   "outputs": [
    {
     "name": "stdout",
     "output_type": "stream",
     "text": [
      " * sqlite:///cs61a.db\n",
      "Done.\n"
     ]
    },
    {
     "data": {
      "text/plain": [
       "[]"
      ]
     },
     "execution_count": 68,
     "metadata": {},
     "output_type": "execute_result"
    }
   ],
   "source": [
    "%sql DROP TABLE phrase"
   ]
  },
  {
   "cell_type": "code",
   "execution_count": 72,
   "metadata": {
    "vscode": {
     "languageId": "sql"
    }
   },
   "outputs": [
    {
     "name": "stdout",
     "output_type": "stream",
     "text": [
      " * sqlite:///cs61a.db\n",
      "Done.\n",
      "Done.\n",
      "Done.\n"
     ]
    },
    {
     "data": {
      "text/html": [
       "<table>\n",
       "    <thead>\n",
       "        <tr>\n",
       "            <th>modified</th>\n",
       "        </tr>\n",
       "    </thead>\n",
       "    <tbody>\n",
       "        <tr>\n",
       "            <td>low</td>\n",
       "        </tr>\n",
       "    </tbody>\n",
       "</table>"
      ],
      "text/plain": [
       "[('low',)]"
      ]
     },
     "execution_count": 72,
     "metadata": {},
     "output_type": "execute_result"
    }
   ],
   "source": [
    "%%sql\n",
    "CREATE TABLE phrase AS SELECT \"hello, world\" AS s;\n",
    "    SELECT \"Bye, world\" UNION\n",
    "    SELECT \"Hello, CS61A world\";\n",
    "\n",
    "SELECT SUBSTR(s, 4, 2) || SUBSTR(s, INSTR(s, \" \")+1, 1) AS modified FROM phrase;"
   ]
  },
  {
   "cell_type": "markdown",
   "metadata": {},
   "source": [
    "- Strings may also be used to represent structured values.\n",
    "    - This is not a good idea\n",
    "- Ex: A linked list representation"
   ]
  },
  {
   "cell_type": "code",
   "execution_count": 59,
   "metadata": {
    "vscode": {
     "languageId": "sql"
    }
   },
   "outputs": [
    {
     "name": "stdout",
     "output_type": "stream",
     "text": [
      " * sqlite:///cs61a.db\n",
      "Done.\n",
      "Done.\n"
     ]
    },
    {
     "data": {
      "text/html": [
       "<table>\n",
       "    <thead>\n",
       "        <tr>\n",
       "            <th>cadr</th>\n",
       "        </tr>\n",
       "    </thead>\n",
       "    <tbody>\n",
       "        <tr>\n",
       "            <td>two</td>\n",
       "        </tr>\n",
       "    </tbody>\n",
       "</table>"
      ],
      "text/plain": [
       "[('two',)]"
      ]
     },
     "execution_count": 59,
     "metadata": {},
     "output_type": "execute_result"
    }
   ],
   "source": [
    "%%sql\n",
    "CREATE TABLE lists AS SELECT \"one\" AS car, \"two,three,four\" AS cdr;\n",
    "SELECT SUBSTR(cdr, 1, instr(cdr, \",\")-1) AS cadr FROM lists;"
   ]
  },
  {
   "cell_type": "markdown",
   "metadata": {},
   "source": [
    "- Ex: Nouns table"
   ]
  },
  {
   "cell_type": "code",
   "execution_count": 65,
   "metadata": {
    "vscode": {
     "languageId": "sql"
    }
   },
   "outputs": [
    {
     "name": "stdout",
     "output_type": "stream",
     "text": [
      " * sqlite:///cs61a.db\n",
      "Done.\n",
      "Done.\n"
     ]
    },
    {
     "data": {
      "text/html": [
       "<table>\n",
       "    <thead>\n",
       "        <tr>\n",
       "            <th>sentence</th>\n",
       "        </tr>\n",
       "    </thead>\n",
       "    <tbody>\n",
       "        <tr>\n",
       "            <td>bird chased cat</td>\n",
       "        </tr>\n",
       "        <tr>\n",
       "            <td>bird chased dog</td>\n",
       "        </tr>\n",
       "        <tr>\n",
       "            <td>cat chased bird</td>\n",
       "        </tr>\n",
       "        <tr>\n",
       "            <td>cat chased dog</td>\n",
       "        </tr>\n",
       "        <tr>\n",
       "            <td>dog chased bird</td>\n",
       "        </tr>\n",
       "        <tr>\n",
       "            <td>dog chased cat</td>\n",
       "        </tr>\n",
       "    </tbody>\n",
       "</table>"
      ],
      "text/plain": [
       "[('bird chased cat',),\n",
       " ('bird chased dog',),\n",
       " ('cat chased bird',),\n",
       " ('cat chased dog',),\n",
       " ('dog chased bird',),\n",
       " ('dog chased cat',)]"
      ]
     },
     "execution_count": 65,
     "metadata": {},
     "output_type": "execute_result"
    }
   ],
   "source": [
    "%%sql \n",
    "\n",
    "CREATE TABLE nouns AS\n",
    "    SELECT \"dog\" AS phrase UNION\n",
    "    SELECT \"cat\" UNION\n",
    "    SELECT \"bird\";\n",
    "\n",
    "SELECT subject.phrase || \" chased \" || object.phrase AS sentence FROM nouns AS subject, nouns AS object WHERE object.phrase != subject.phrase;"
   ]
  }
 ],
 "metadata": {
  "kernelspec": {
   "display_name": "Python 3",
   "language": "python",
   "name": "python3"
  },
  "language_info": {
   "codemirror_mode": {
    "name": "ipython",
    "version": 3
   },
   "file_extension": ".py",
   "mimetype": "text/x-python",
   "name": "python",
   "nbconvert_exporter": "python",
   "pygments_lexer": "ipython3",
   "version": "3.10.12"
  }
 },
 "nbformat": 4,
 "nbformat_minor": 2
}
