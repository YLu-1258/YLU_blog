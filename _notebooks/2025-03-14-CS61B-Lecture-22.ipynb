{
 "cells": [
  {
   "cell_type": "markdown",
   "metadata": {},
   "source": [
    "---\n",
    "- title: \"'CS61B: Lecture 22'\"\n",
    "- author: alex\n",
    "- badges: true\n",
    "- comments: true\n",
    "- categories: [CS61B]\n",
    "- date: 2025-03-14 1:00:00 -0800\n",
    "- math: true\n",
    "- tags: [CS61B, Tree Traversals, Graphs, JAVA]\n",
    "---"
   ]
  },
  {
   "cell_type": "markdown",
   "metadata": {},
   "source": [
    "#  Graphs and Traversals\n",
    "- Tree Traversals is a means of iterating over the items within a tree.\n",
    "- There are different orders that we may visit the nodes in.\n",
    "- Main orderings\n",
    "    - Level Order: Visit top-to-bottom, left-to-right, think about BFS.\n",
    "    - Depth First Traversals\n",
    "        - 3 Types: Preorder, Inorder, Postorder.\n",
    "        - We traverse the deep nodes before the shallow nodes.\n",
    "\n",
    "## Preorder DF tree traversals"
   ]
  },
  {
   "cell_type": "code",
   "execution_count": null,
   "metadata": {
    "vscode": {
     "languageId": "plaintext"
    }
   },
   "outputs": [],
   "source": [
    "preOrder (BSTNode x) {\n",
    "    if (x = null) return ;\n",
    "    print(x.key);\n",
    "    preOrder(x.left);\n",
    "    preOrder(x.right)\n",
    "}"
   ]
  },
  {
   "cell_type": "markdown",
   "metadata": {},
   "source": [
    "- Get the current parent node, then get the preOrder traversal of the left subtree, followed by the preOrder Traversal of the right subtree.\n",
    "    - Visually, we go down the left most branch first, and slowly climb back up to go to the right.\n",
    "\n",
    "## Inorder DF tree Traversal"
   ]
  },
  {
   "cell_type": "code",
   "execution_count": null,
   "metadata": {
    "vscode": {
     "languageId": "plaintext"
    }
   },
   "outputs": [],
   "source": [
    "inOrder (BSTNode x) {\n",
    "    if (x = null) return ;\n",
    "    inOrder(x.left);\n",
    "    print(x.key);\n",
    "    inOrder(x.right)\n",
    "}"
   ]
  },
  {
   "cell_type": "markdown",
   "metadata": {},
   "source": [
    "- Intuitively, this gets us the keys of the tree in their smallest to greater order.\n",
    "\n",
    "## Postorder DF tree Traversal"
   ]
  },
  {
   "cell_type": "code",
   "execution_count": null,
   "metadata": {
    "vscode": {
     "languageId": "plaintext"
    }
   },
   "outputs": [],
   "source": [
    "postOrder (BSTNode x) {\n",
    "    if (x = null) return ;\n",
    "    postOrder(x.left);\n",
    "    postOrder(x.right);\n",
    "    print(x.key);\n",
    "}"
   ]
  },
  {
   "cell_type": "markdown",
   "metadata": {},
   "source": [
    "- Intuitively, this accesses from the bottom to the top, left to right.\n",
    "    - This is useful for building up from the leaves to the root of a tree.\n",
    "    - We may efficiently calculate filesystem sizes like this.\n",
    "# Graphs\n",
    "- A Graph contains a set of nodes and edges but may contain cycles.\n",
    "- Simple graphs are graphs where no edges connect a vertex to itself, and no two edges connect the same vertices.\n",
    "\n",
    "## s-t connectivity problem.\n",
    "- Given a source vertex s and a target vertex t, is there a path between s and t?\n",
    "- We want to create a connected(s, t)`\n",
    "- Every time we call `connected(s, t)`\n",
    "    - We mark s\n",
    "    - Does s == t? retirn true\n",
    "    - Otherwise, if `connected(v, t)` for any unmarked neighbor v of s, return true.\n",
    "    - Return false;\n",
    "\n",
    "## DepthFirstPaths Demo\n",
    "- Apply DFS starting from some source vertex.\n",
    "- We use an array `marked` and `edgeTo`\n",
    "    - marked represents if we visited that node yet.\n",
    "    - edgeTo represents the node that we used to travel to the current node using DFS.\n",
    "- In general, DFS is not unique.\n",
    "\n",
    "## DFS orders\n",
    "- DFS Preoder: Action is before DFS calls to neighbors. Order of the recursive calls.\n",
    "- DFS Postorder: Action is after DFS calls to neighbors. Order of the dfs returns."
   ]
  }
 ],
 "metadata": {
  "kernelspec": {
   "display_name": "Java",
   "language": "java",
   "name": "java"
  },
  "language_info": {
   "codemirror_mode": "java",
   "file_extension": ".jshell",
   "mimetype": "text/x-java-source",
   "name": "java",
   "pygments_lexer": "java",
   "version": "17.0.14+7-Ubuntu-122.04.1"
  }
 },
 "nbformat": 4,
 "nbformat_minor": 2
}
