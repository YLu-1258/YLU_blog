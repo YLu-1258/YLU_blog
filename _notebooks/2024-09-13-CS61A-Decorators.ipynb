{
 "cells": [
  {
   "cell_type": "markdown",
   "metadata": {},
   "source": [
    "---\n",
    "- title: \"'CS61A: Lecture 6'\"\n",
    "- author: alex\n",
    "- badges: true\n",
    "- comments: true\n",
    "- categories: [CS61A]\n",
    "- date: 2024-09-11 12:00:00 -0800\n",
    "- tags: [CS61A]\n",
    "---"
   ]
  },
  {
   "cell_type": "markdown",
   "metadata": {},
   "source": [
    "# Decorators\n",
    "- We can wrap functions with another function such that whenever we call the function itself, it is being used as an argument for the decorator function."
   ]
  },
  {
   "cell_type": "code",
   "execution_count": 9,
   "metadata": {},
   "outputs": [
    {
     "name": "stdout",
     "output_type": "stream",
     "text": [
      "Calling <function sum_squares_up_to at 0x7f954cf2b0a0> on argument 12\n",
      "Calling <function square at 0x7f954cf2b2e0> on argument 1\n",
      "Calling <function square at 0x7f954cf2b2e0> on argument 2\n",
      "Calling <function square at 0x7f954cf2b2e0> on argument 3\n",
      "Calling <function square at 0x7f954cf2b2e0> on argument 4\n",
      "Calling <function square at 0x7f954cf2b2e0> on argument 5\n",
      "Calling <function square at 0x7f954cf2b2e0> on argument 6\n",
      "Calling <function square at 0x7f954cf2b2e0> on argument 7\n",
      "Calling <function square at 0x7f954cf2b2e0> on argument 8\n",
      "Calling <function square at 0x7f954cf2b2e0> on argument 9\n",
      "Calling <function square at 0x7f954cf2b2e0> on argument 10\n",
      "Calling <function square at 0x7f954cf2b2e0> on argument 11\n",
      "Calling <function square at 0x7f954cf2b2e0> on argument 12\n"
     ]
    },
    {
     "data": {
      "text/plain": [
       "650"
      ]
     },
     "execution_count": 9,
     "metadata": {},
     "output_type": "execute_result"
    }
   ],
   "source": [
    "def trace(fn):\n",
    "    \"\"\"Return a version of fn that first prints before it is called\n",
    "    \n",
    "    fn - a function of 1 argument\n",
    "    \"\"\"\n",
    "    def traced(x):\n",
    "        print('Calling', fn, 'on argument', x)\n",
    "        return fn(x)\n",
    "    return traced\n",
    "\n",
    "# This is the same as calling square = trace1(square)\n",
    "@trace\n",
    "def square(x):\n",
    "    return x * x\n",
    "\n",
    "@trace\n",
    "def sum_squares_up_to(n):\n",
    "    k = 1\n",
    "    total = 0\n",
    "    while k <= n:\n",
    "        total, k = total + square(k), k + 1\n",
    "    return total\n",
    "\n",
    "sum_squares_up_to(12)"
   ]
  }
 ],
 "metadata": {
  "kernelspec": {
   "display_name": "Python 3",
   "language": "python",
   "name": "python3"
  },
  "language_info": {
   "codemirror_mode": {
    "name": "ipython",
    "version": 3
   },
   "file_extension": ".py",
   "mimetype": "text/x-python",
   "name": "python",
   "nbconvert_exporter": "python",
   "pygments_lexer": "ipython3",
   "version": "3.10.12"
  }
 },
 "nbformat": 4,
 "nbformat_minor": 2
}
