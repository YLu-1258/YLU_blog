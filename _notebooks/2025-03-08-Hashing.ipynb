{
 "cells": [
  {
   "cell_type": "markdown",
   "metadata": {},
   "source": [
    "---\n",
    "- title: \"Hashing\"\n",
    "- author: alex\n",
    "- badges: true\n",
    "- comments: true\n",
    "- categories: [CS61B]\n",
    "- date: 2025-03-08 1:00:00 -0800\n",
    "- math: true\n",
    "- tags: [CS61B, Data Structures, Hashing, JAVA]\n",
    "---"
   ]
  },
  {
   "cell_type": "markdown",
   "metadata": {},
   "source": [
    "# Hashing\n",
    "- The motivation behind hashing is that insertion, removal, and contain checks all occur in $O(1)$ time in the best case.\n",
    "- This offers efficiency bonuses greater than that of the tree-based map as the tree structure requires us to have elements that can be compared to each other.\n",
    "- The principle of the idea behind Hashing is that it allows us to create data-based indices for an array structure.\n",
    "\n",
    "## `DataIndexedIntegerSet`\n",
    "- `DataIndexedIntegerSet` is a structure that stores and searches for ints in constant time.\n",
    "- Design:\n",
    "    - Create a boolean type `ArrayList` that has size 2 billion.\n",
    "    - The `add(int x)` method sets the `x` position in the arraylist to true in $\\Theta(1)$ time.\n",
    "    - The `contains(int x)` checks if the value in the `x` position in the array list is true in $\\Theta(1)$ time as well."
   ]
  },
  {
   "cell_type": "code",
   "execution_count": null,
   "metadata": {},
   "outputs": [],
   "source": [
    "public class DataIndexedIntegerSet {\n",
    "    private boolean[] array;\n",
    "\n",
    "    public DataIndexedIntegerSet() {\n",
    "        array = new boolean[2000000000];\n",
    "    }\n",
    "\n",
    "    public add(int x) {\n",
    "        array[x] = true;\n",
    "    }\n",
    "\n",
    "    public contains(int x) {\n",
    "        return array[x];\n",
    "    }\n",
    "}"
   ]
  },
  {
   "cell_type": "markdown",
   "metadata": {},
   "source": [
    "- However there are major flaws with this preliminary implementation.\n",
    "    - The structure only works for integer types.\n",
    "    - The struture is very wasteful, as if each boolean takes up 1 byte, then the entire array would consume 2 GB of memory.\n",
    "\n",
    "## `DataIndexedWordSet`\n",
    "- We may attempt to adapt our data structure such that it works for strings.\n",
    "- We can build on our integer based map by representing each word as a unique string.\n",
    "- We want to be able to generate a number for any string.\n",
    "    - One idea is to use the first letter of the string, but this may result in a **collision** if two strings have the same starting letter. In that case, the two strings would have the same hashcode.\n",
    "    - To avoid collisions, we may represent strings in base 26, where each letter is assigned a number from 1 to 26. This way, we may represent any character in base 26 and have a unique integer representation for any string.\n",
    "    - Ex:\n",
    "    $$``cat\"=3\\cdot26^2+26^1+20\\cdot26^0$$\n",
    "\n",
    "## `DataIndexedStringSet`\n",
    "- We may generalize this to any string by relying on character formattings such as ASCII or Unicode.\n",
    "- This may work for a small number of characters, but the moment we work with complex scripts such as Chinese, we require massively large arrays to keep track of each individual character, of which there are over 40,000 to choose from."
   ]
  },
  {
   "cell_type": "code",
   "execution_count": null,
   "metadata": {},
   "outputs": [],
   "source": [
    "public static int asciiToInt(String s) {\n",
    "    int intRep = 0;\n",
    "    for (int i = 0; i < s.length(); i += 1) {           \n",
    "        intRep = intRep * 126;\n",
    "        intRep = intRep + s.charAt(i);\n",
    "    }\n",
    "    return intRep;\n",
    "}"
   ]
  },
  {
   "cell_type": "markdown",
   "metadata": {},
   "source": [
    "# HashCode\n",
    "- We want to create a hashing function to generate values for different keys.\n",
    "    - We can then convert the hashcode into an index for the array\n",
    "- The values that we generate for many different characters could be massively large.\n",
    "    - We want to wrap this number around to a smaller range, say, 0-9.\n",
    "    - We use a modulo (%). Which gives us the remainder in fractional division.\n",
    "- Our index calculation code would look like this:"
   ]
  },
  {
   "cell_type": "code",
   "execution_count": null,
   "metadata": {},
   "outputs": [],
   "source": [
    "Math.floorMod(key.hashCode(), array.length)"
   ]
  },
  {
   "cell_type": "markdown",
   "metadata": {},
   "source": [
    "## Valid Hashcode\n",
    "- There are 2 properties for a valid hashcode:\n",
    "    - ***Deterministic**: The `hashCode()` function of two equal object must be equal to each other.\n",
    "    - ***Consistent:*** The `hashCode()` function returns the same integer every time for the same instance of an object.\n",
    "        - `hashCode()` must be independent of time-varying attributes, RNG, and any other source of inconsistency.\n",
    "- The hashcode does not have to be unique for two objects.\n",
    "\n",
    "## Good Hashcodes\n",
    "- A good hashcode as 3 properties.\n",
    "    - The `hashCode()` function must be valid.\n",
    "    - The `hashCode()` function values hsould be spread as uniformly as possible over the set of all integers\n",
    "    - The `hashCode()` function should be quick to compute with O(1) constant time operation.\n",
    "\n",
    "# Handling COllisions:\n",
    "- Collisions occur in hashing when multiple leements have the same index.\n",
    "- Two common methods to deal with collision:\n",
    "    - **Linear Probing:** Store the colliding key somewhere else in the array, maybe with the next open array space. This is implemented in distributed hash tables.\n",
    "    - **External Chaining:** We may store all keys with the same hash value in a collection of their own. This is commonly done with a `LinkedList` implementation. When we make a collection of entires sharing a single index, that collection is called a **bucket**.\n",
    "\n",
    "# Resizing and Hash Table Performance\n",
    "- As we add more and more elements, the hash table should expand it's underlying array to free up more possible indicies to maintain efficiency and lessen collisions.\n",
    "- The load factor is a ratio that describes how full a hash table is.\n",
    "$$\n",
    "\\text{load factor} = \\frac{\\text{size()}}{\\text{array.length}}\n",
    "$$\n",
    "- Once the hashtable exceeds the maximum load factor, then the hash table should resize.\n",
    "    - Typically done geometrically by a factor of 2.\n",
    "    - Resizing does not appear if we add a key-value pair that already exists in the hashmap.\n",
    "- Since the index is calculated under the modulous of the array length, after resizing has been done, all items would need to be relocated."
   ]
  }
 ],
 "metadata": {
  "kernelspec": {
   "display_name": "Java",
   "language": "java",
   "name": "java"
  },
  "language_info": {
   "name": "java"
  }
 },
 "nbformat": 4,
 "nbformat_minor": 2
}
