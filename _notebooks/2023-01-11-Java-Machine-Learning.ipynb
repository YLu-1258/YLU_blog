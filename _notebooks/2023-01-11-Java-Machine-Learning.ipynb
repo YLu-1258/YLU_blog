{
 "cells": [
  {
   "cell_type": "markdown",
   "metadata": {},
   "source": [
    "---\n",
    "- title: Machine Learning with Java\n",
    "- author: alex\n",
    "- badges: true\n",
    "- comments: true\n",
    "- categories: [AI, projects]\n",
    "- date: 2023-10-22 06:05:00 -0800\n",
    "- tags: [AI, LSTM, projects]\n",
    "- week: 11\n",
    "- render_with_liquid: false\n",
    "- type: hacks\n",
    "---"
   ]
  },
  {
   "cell_type": "code",
   "execution_count": null,
   "metadata": {},
   "outputs": [],
   "source": []
  }
 ],
 "metadata": {
  "language_info": {
   "name": "python"
  }
 },
 "nbformat": 4,
 "nbformat_minor": 2
}
