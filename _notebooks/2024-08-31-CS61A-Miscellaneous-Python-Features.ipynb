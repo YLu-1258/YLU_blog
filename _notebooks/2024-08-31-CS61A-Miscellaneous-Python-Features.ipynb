{
 "cells": [
  {
   "cell_type": "markdown",
   "metadata": {},
   "source": [
    "---\n",
    "- title: \"CS61A: Miscellaneous Python Features\"\n",
    "- author: alex\n",
    "- badges: true\n",
    "- comments: true\n",
    "- categories: [CS61A]\n",
    "- date: 2024-08-31 02:00:00 -0800\n",
    "- tags: [CS61A, Python]\n",
    "---"
   ]
  },
  {
   "cell_type": "markdown",
   "metadata": {},
   "source": [
    "# Overview\n",
    "* Operators\n",
    "* Multiple Return Values\n",
    "* Docstrings\n",
    "* Doctests\n",
    "* Default Arguments"
   ]
  },
  {
   "cell_type": "markdown",
   "metadata": {},
   "source": [
    "# Operators\n",
    "- Shorthand notation for calling builtin functions."
   ]
  },
  {
   "cell_type": "code",
   "execution_count": 2,
   "metadata": {},
   "outputs": [
    {
     "data": {
      "text/plain": [
       "True"
      ]
     },
     "execution_count": 2,
     "metadata": {},
     "output_type": "execute_result"
    }
   ],
   "source": [
    "from operator import add, mul\n",
    "\n",
    "(2+3*4+5) == add(add(2,mul(3,4)),5) # These are equivalent"
   ]
  },
  {
   "cell_type": "markdown",
   "metadata": {},
   "source": [
    "## Division (/ and //)\n",
    "- Two types of division: **True Division** and **Integer Division**\n",
    "    - **True Division (`/`,`truediv()`)**: Mathematically accurate, returns answer in a float.\n",
    "    - **Integer Division (`//`,`floordiv()`)**: Returns the number of time the divisor multiplies into the dividend. In other words, it returns the answer in an integer, truncated.\n",
    "\n"
   ]
  },
  {
   "cell_type": "code",
   "execution_count": 4,
   "metadata": {},
   "outputs": [
    {
     "name": "stdout",
     "output_type": "stream",
     "text": [
      "True\n",
      "True\n"
     ]
    }
   ],
   "source": [
    "from operator import truediv, floordiv\n",
    "print(2013 / 10 == truediv(2013,10))\n",
    "print(2013 // 10 == floordiv(2013,10))"
   ]
  },
  {
   "cell_type": "markdown",
   "metadata": {},
   "source": [
    "## Modulus (%)\n",
    "- Returns an integer remainder, the remainder of the division operation."
   ]
  },
  {
   "cell_type": "code",
   "execution_count": 5,
   "metadata": {},
   "outputs": [
    {
     "data": {
      "text/plain": [
       "True"
      ]
     },
     "execution_count": 5,
     "metadata": {},
     "output_type": "execute_result"
    }
   ],
   "source": [
    "from operator import mod\n",
    "2013 % 10 == mod(2013,10)"
   ]
  },
  {
   "cell_type": "markdown",
   "metadata": {},
   "source": [
    "# Multiple Return Values\n",
    "- A function can return multiple values. Split the remainder into two values with a comma."
   ]
  },
  {
   "cell_type": "code",
   "execution_count": 6,
   "metadata": {},
   "outputs": [
    {
     "name": "stdout",
     "output_type": "stream",
     "text": [
      "202 4\n"
     ]
    }
   ],
   "source": [
    "def divide_exact(n,d):\n",
    "    return n // d, n % d\n",
    "\n",
    "quotient, remainder = divide_exact(2024,10)\n",
    "print(quotient, remainder)"
   ]
  },
  {
   "cell_type": "markdown",
   "metadata": {},
   "source": [
    "- If we execute a python file with the `-i` flag, we are able to enter interactive mode, which gives us a python interpreter shell containing all the code that was defined in the source file."
   ]
  },
  {
   "cell_type": "markdown",
   "metadata": {},
   "source": [
    "# Docstrings\n",
    "- 61A convention: formal parameters are capitalized in the docstrings\n",
    "\n",
    "## Doctest\n",
    "- Doctests are a string demonstrating how the function would behave when ran.\n",
    "    - It emulates the interpreter environment.\n",
    "- We can simulate the doc tests with the `python3 -m doctest -v <filename>` command.\n",
    "    - If successful, nothing happens\n",
    "    - If not, error\n",
    "    - We can also add the `-v` flag after the doctest option to see more verbose information.\n",
    "- The `-m doctest` essentially runs the python file with the doctest module.\n",
    "\n",
    "## Default Values\n",
    "- We can use the assignment operator `=` to assign a default value to a function.\n",
    "    - If we call the function without defining that value, it will use the default value instead. We keep them towards the end as any arguments are automatically applied to the front arguments."
   ]
  },
  {
   "cell_type": "code",
   "execution_count": null,
   "metadata": {},
   "outputs": [],
   "source": [
    "def divide_exact(n=2024,d=10):\n",
    "    \"\"\"Returns the quotient and remainder of dividing N by D.\n",
    "    >>> q, r = divide_exact(2024, 10)\n",
    "    >>> q\n",
    "    202\n",
    "    >>> r\n",
    "    3\n",
    "    \"\"\" \n",
    "    return n // d, n % d"
   ]
  }
 ],
 "metadata": {
  "kernelspec": {
   "display_name": "Python 3",
   "language": "python",
   "name": "python3"
  },
  "language_info": {
   "codemirror_mode": {
    "name": "ipython",
    "version": 3
   },
   "file_extension": ".py",
   "mimetype": "text/x-python",
   "name": "python",
   "nbconvert_exporter": "python",
   "pygments_lexer": "ipython3",
   "version": "3.10.12"
  }
 },
 "nbformat": 4,
 "nbformat_minor": 2
}
