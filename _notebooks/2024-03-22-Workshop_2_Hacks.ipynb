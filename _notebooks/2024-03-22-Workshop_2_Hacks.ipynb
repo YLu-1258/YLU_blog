{
 "cells": [
  {
   "cell_type": "markdown",
   "metadata": {},
   "source": [
    "---\n",
    "- title: Workshop 2 Hacks\n",
    "- description: Classes Workshop Hacks\n",
    "- toc: true\n",
    "- layout: post\n",
    "- type: hacks\n",
    "- comments: true\n",
    "---"
   ]
  },
  {
   "cell_type": "markdown",
   "metadata": {},
   "source": [
    "# Free Response Questions\n",
    "\n",
    "## Question 1 - Pojos and Access Control:\n",
    "Situation: The school librarian wants to create a program that stores all of the books within the library in a database and is used to manage their inventory of books available to the students. You decided to put your amazing code skills to work and help out the librarian!  \n",
    "\n",
    "a. Describe the key differences between the private and public access controllers and how it affects a POJO  \n",
    "* Methods and objects declraed with the private access controller are only accessable from within the particular class that it was specified in. Public members of a class are accessible even outside of the parent class.   \n",
    "\n",
    "b. Identify a scenario when you would use the private vs. public access controllers that isn't the one given in the scenario above  \n",
    "* Say I was creating a user authenticaion app. I have two attributes, a user biography, and a password hash. The password hash would mostly have a private access modifier as I would not want external code to be abl to access sensitive information. The user biography would likely be accessed by most applications on the frontend interface, so I might opt to keep it public. However, realistically, I would probably keep everything private and use setters and getters when necessary. The getters and setters then, would most likely be public so that outside classes can perform necessary actions.  \n",
    "\n",
    "c. Create a Book class that represents the following attributes about a book: title, author, date published, person holding the book and make sure that the objects are using a POJO, the proper getters and setters and are secure from any other modifications that the program makes later to the objects  \n"
   ]
  },
  {
   "cell_type": "code",
   "execution_count": 5,
   "metadata": {
    "vscode": {
     "languageId": "java"
    }
   },
   "outputs": [
    {
     "name": "stdout",
     "output_type": "stream",
     "text": [
      "Pride and Prejudice\n",
      "Jane Austen\n",
      "0\n",
      "1920450\n",
      "============================= \n",
      " UPDATING USER \n",
      "=============================\n"
     ]
    },
    {
     "name": "stdout",
     "output_type": "stream",
     "text": [
      "Pride and Prejudice\n",
      "Jane Austen\n",
      "0\n",
      "1920451\n"
     ]
    }
   ],
   "source": [
    "class Book {\n",
    "    private String title;\n",
    "    private String author;\n",
    "    private int publishDateinUnixTime;\n",
    "    private int uuidCurrentlyCheckingOutBook; // store as int so that there are no duplicate users with the same name having conflicts\n",
    "\n",
    "    public Book (String t, String a, int p) { // Creation of a new book\n",
    "        this.title = t;\n",
    "        this.author = a;\n",
    "        this.publishDateinUnixTime = p;\n",
    "    }\n",
    "\n",
    "    public Book (String t, String a, int p, int u) {  // Alternate constructor for if the book is added and is also checked out\n",
    "        this.title = t;\n",
    "        this.author = a;\n",
    "        this.publishDateinUnixTime = p;\n",
    "        this.uuidCurrentlyCheckingOutBook = u;\n",
    "    }\n",
    "\n",
    "    public void setTitle(String t) {\n",
    "        this.title = t;\n",
    "    }\n",
    "\n",
    "    public void setAuthor(String a) {\n",
    "        this.author = a;\n",
    "    }\n",
    "\n",
    "    public void setTitle(int d) {\n",
    "        this.publishDateinUnixTime = d;\n",
    "    }\n",
    "\n",
    "    public void setUserCheckedOut(int u) {\n",
    "        this.uuidCurrentlyCheckingOutBook = u;\n",
    "    }\n",
    "\n",
    "    public String getTitle() {\n",
    "        return this.title;\n",
    "    }\n",
    "\n",
    "    public String getAuthor() {\n",
    "        return this.author;\n",
    "    }\n",
    "\n",
    "    public int getPublishingDate() {\n",
    "        return this.publishDateinUnixTime;\n",
    "    }\n",
    "\n",
    "    public int getUserCheckedOut() {\n",
    "        return this.uuidCurrentlyCheckingOutBook;\n",
    "    }\n",
    "}\n",
    "\n",
    "Book testBook = new Book(\"Pride and Prejudice\", \"Jane Austen\", 0, 1920450);\n",
    "System.out.println(testBook.getTitle());\n",
    "System.out.println(testBook.getAuthor());\n",
    "System.out.println(testBook.getPublishingDate());\n",
    "System.out.println(testBook.getUserCheckedOut());\n",
    "System.out.println(\"============================= \\n UPDATING USER \\n=============================\");\n",
    "testBook.setUserCheckedOut(1920451);\n",
    "System.out.println(testBook.getTitle());\n",
    "System.out.println(testBook.getAuthor());\n",
    "System.out.println(testBook.getPublishingDate());\n",
    "System.out.println(testBook.getUserCheckedOut());"
   ]
  },
  {
   "cell_type": "markdown",
   "metadata": {},
   "source": [
    "## Question 2 - Writing Classes:\n",
    "\n",
    "(a) Describe the different features needed to create a class and what their purpose is.  \n",
    "* The features needed to create a class are **attributes**, **constructors**, and **methods**. Attributes are variables associated with a class that define the parameters that controls its actions. We can think of them as inputs to a function that allow the overall machine to work properly. The Constructor serves as a function that is ran at the moment of the instantiation of an object built from the class. Within the constructor, we can do a lot of preprocessing including setting attributes, performing operations on parameters, and also creating any additional parameters to be used. THe constructor, thus acts as a factory for our machine. The final part of the classes are the methods, which are essentially the functionalities of the class. These methods perform certain calculations and operations on the attributes that enables them to function properly.  \n",
    "\n",
    "(b) Code:\n",
    "\n",
    "Create a Java class BankAccount to represent a simple bank account. This class should have the following attributes:\n",
    "- accountHolder (String): The name of the account holder.\n",
    "balance (double): The current balance in the account.\n",
    "Implement the following mutator (setter) methods for the BankAccount class:\n",
    "- setAccountHolder(String name): Sets the name of the account holder.\n",
    "- deposit(double amount): Deposits a given amount into the account.\n",
    "- withdraw(double amount): Withdraws a given amount from the account, but only if the withdrawal amount is less than or equal to the current balance.\n",
    "Ensure that the balance is never negative."
   ]
  },
  {
   "cell_type": "code",
   "execution_count": 8,
   "metadata": {
    "vscode": {
     "languageId": "java"
    }
   },
   "outputs": [
    {
     "name": "stdout",
     "output_type": "stream",
     "text": [
      "Account Holder: Alexander Lu\n",
      "Balance: $100000.0\n",
      "$20000.14 Has been deposited.\n",
      "Account Holder: Alexander Lu\n",
      "Balance: $120000.14\n",
      "Account Holder: Alexander Yixuan Lu\n",
      "Balance: $120000.14\n",
      "Balance insufficient, transfer declined.\n",
      "Account Holder: Alexander Yixuan Lu\n",
      "Balance: $120000.14\n"
     ]
    }
   ],
   "source": [
    "class BankAccount {\n",
    "    private String accountHolder;\n",
    "    private double balance;\n",
    "\n",
    "    public BankAccount (String a, double b) {\n",
    "        this.accountHolder = a;\n",
    "        this.balance = b;\n",
    "    }\n",
    "\n",
    "    @Override\n",
    "    public String toString() {\n",
    "        return \"Account Holder: \" + this.accountHolder + \"\\nBalance: $\" + this.balance;\n",
    "    }\n",
    "\n",
    "    public void SetAccountHolder(String a) {\n",
    "        this.accountHolder = a;\n",
    "    }\n",
    "\n",
    "    public void deposit (double amount) {\n",
    "        this.balance+=amount;\n",
    "        System.out.println(\"$\" + amount + \" Has been deposited.\"); // make sure that the user actually has money to withdraw\n",
    "    }\n",
    "\n",
    "    public void withdraw (double amount) {\n",
    "        if (this.balance >= amount) {\n",
    "            this.balance-=amount;\n",
    "        } else { \n",
    "            System.out.println(\"Balance insufficient, transfer declined.\"); // make sure that the user actually has money to withdraw\n",
    "        }\n",
    "    }\n",
    "}\n",
    "\n",
    "BankAccount myBank = new BankAccount(\"Alexander Lu\", 100000);\n",
    "System.out.println(myBank.toString());\n",
    "myBank.deposit(20000.14);\n",
    "System.out.println(myBank.toString());\n",
    "myBank.SetAccountHolder(\"Alexander Yixuan Lu\");\n",
    "System.out.println(myBank.toString());\n",
    "myBank.withdraw(200000.0);\n",
    "System.out.println(myBank.toString());"
   ]
  },
  {
   "cell_type": "markdown",
   "metadata": {},
   "source": [
    "## Question 3 - Instantiation of a Class\n",
    "\n",
    "(a) Explain how a constructor works, including when it runs and what generally is done within a constructor.\n",
    "* The Constructor serves as a function that is ran at the moment of the instantiation of an object built from the class. Within the constructor, we can do a lot of preprocessing including setting attributes, performing operations on parameters, and also creating any additional parameters to be used. The constructor, thus acts as a factory for our machine.\n",
    "\n",
    "(b) Create an example of an overloaded constructor within a class. You must use at least three variables. Include the correct initialization of variables and correct headers for the constructor. Then, run the constructor at least twice with different variables and demonstrate that these two objects called different constructors. "
   ]
  },
  {
   "cell_type": "code",
   "execution_count": 15,
   "metadata": {
    "vscode": {
     "languageId": "java"
    }
   },
   "outputs": [
    {
     "name": "stdout",
     "output_type": "stream",
     "text": [
      "UUID Request\n",
      "=========================\n",
      "UUID: 1920450 Password: 1234!\n",
      "\n",
      "Username Request\n",
      "=========================\n",
      "Username: Eris29 Password: 1234!\n"
     ]
    }
   ],
   "source": [
    "class UserAuthenticationRequest{\n",
    "    private int uuid;\n",
    "    private String username;\n",
    "    private String password;\n",
    "\n",
    "    public UserAuthenticationRequest (int uuid, String password) {\n",
    "        this.uuid = uuid;\n",
    "        this.password = password;\n",
    "    }\n",
    "\n",
    "    public UserAuthenticationRequest (String username, String password) {\n",
    "        this.username = username;\n",
    "        this.password = password;\n",
    "    }\n",
    "\n",
    "    @Override \n",
    "    public String toString() {\n",
    "        if (uuid != 0) {\n",
    "            return \"UUID: \" + this.uuid + \" Password: \" + this.password;\n",
    "        } else if (username != null && !username.isEmpty()) {\n",
    "            return \"Username: \" + this.username + \" Password: \" + this.password;\n",
    "        } else {\n",
    "            return \"Invalid Request\";\n",
    "        }\n",
    "    }\n",
    "}\n",
    "\n",
    "UserAuthenticationRequest requestUUID = new UserAuthenticationRequest(1920450, \"1234!\");\n",
    "UserAuthenticationRequest requestUsername = new UserAuthenticationRequest(\"Eris29\", \"1234!\");\n",
    "System.out.println(\"UUID Request\\n=========================\");\n",
    "System.out.println(requestUUID);\n",
    "System.out.println();\n",
    "System.out.println(\"Username Request\\n=========================\");\n",
    "System.out.println(requestUsername);"
   ]
  },
  {
   "cell_type": "markdown",
   "metadata": {},
   "source": [
    "## Question 4 - Wrapper Classes:\n",
    "\n",
    "(a) Provide a brief summary of what a wrapper class is and provide a small code block showing a basic example of a wrapper class.  \n",
    "* A Wrapper class is essentially Java's way of using primative datatypes such as int, boolean, and char as actual objects instead of data in the code; hence the name wrapper. This also enables us to use primative types in more object oriented scenarios, such as the wrapper class for a collection type object like an ArrayList.\n",
    "```java\n",
    "Integer value = 25;\n",
    "ArrayList<Integer> array = new ArrayList<Integer>(); // Collection of Wrapper Integer objects\n",
    "array.add(value);                                    // If we used primative int, then java would autobox\n",
    "```\n",
    "\n",
    "(b) Create a Java wrapper class called Temperature to represent temperatures in Celsius. Your Temperature class should have the following features:\n",
    "\n",
    "Fields:\n",
    "\n",
    "A private double field to store the temperature value in Celsius.\n",
    "\n",
    "\n",
    "Constructor:\n",
    "\n",
    "A constructor that takes a double value representing the temperature in Celsius and initializes the field.\n",
    "\n",
    "\n",
    "Methods:\n",
    "\n",
    "getTemperature(): A method that returns the temperature value in Celsius.\n",
    "setTemperature(double value): A method that sets a new temperature value in Celsius.\n",
    "toFahrenheit(): A method that converts the temperature from Celsius to Fahrenheit and returns the result as a double value. "
   ]
  },
  {
   "cell_type": "code",
   "execution_count": 17,
   "metadata": {
    "vscode": {
     "languageId": "java"
    }
   },
   "outputs": [
    {
     "name": "stdout",
     "output_type": "stream",
     "text": [
      "Current Temperature: 25.0 Celsius\n",
      "Updated Temperature: 30.0 Celsius\n",
      "Temperature in Fahrenheit: 86.0 Fahrenheit\n",
      "After adding 5 degrees Celsius: 35.0 Celsius\n"
     ]
    },
    {
     "name": "stdout",
     "output_type": "stream",
     "text": [
      "After subtracting 10 degrees Celsius: 25.0 Celsius\n",
      "Is the temperature boiling? false\n",
      "Is the temperature freezing? false\n"
     ]
    }
   ],
   "source": [
    "public class Temperature {\n",
    "    private double celsius;\n",
    "\n",
    "    public Temperature(double celsius) {\n",
    "        this.celsius = celsius;\n",
    "    }\n",
    "\n",
    "    public double getTemperature() {\n",
    "        return celsius;\n",
    "    }\n",
    "\n",
    "    public void setTemperature(double celsius) {\n",
    "        this.celsius = celsius;\n",
    "    }\n",
    "\n",
    "    public double toFahrenheit() {\n",
    "        return (celsius * 9 / 5) + 32;\n",
    "    }\n",
    "\n",
    "    public void addToTemperature(double amount) {\n",
    "        celsius += amount;\n",
    "    }\n",
    "\n",
    "    public void subtractFromTemperature(double amount) {\n",
    "        celsius -= amount;\n",
    "    }\n",
    "\n",
    "    public boolean isBoiling() {\n",
    "        return celsius >= 100;\n",
    "    }\n",
    "\n",
    "    public boolean isFreezing() {\n",
    "        return celsius <= 0;\n",
    "    }\n",
    "}\n",
    "Temperature temp = new Temperature(25.0);\n",
    "System.out.println(\"Current Temperature: \" + temp.getTemperature() + \" Celsius\");\n",
    "temp.setTemperature(30.0);\n",
    "System.out.println(\"Updated Temperature: \" + temp.getTemperature() + \" Celsius\");\n",
    "System.out.println(\"Temperature in Fahrenheit: \" + temp.toFahrenheit() + \" Fahrenheit\");\n",
    "temp.addToTemperature(5.0);\n",
    "System.out.println(\"After adding 5 degrees Celsius: \" + temp.getTemperature() + \" Celsius\");\n",
    "temp.subtractFromTemperature(10.0);\n",
    "System.out.println(\"After subtracting 10 degrees Celsius: \" + temp.getTemperature() + \" Celsius\");\n",
    "System.out.println(\"Is the temperature boiling? \" + temp.isBoiling());\n",
    "System.out.println(\"Is the temperature freezing? \" + temp.isFreezing());"
   ]
  },
  {
   "cell_type": "markdown",
   "metadata": {},
   "source": [
    "## Question 5 - Inheritence:\n",
    "\n",
    "Situation: You are developing a program to manage a zoo, where various types of animals are kept in different enclosures. To streamline your code, you decide to use inheritance to model the relationships between different types of animals and their behaviors.\n",
    "\n",
    "(a) Explain the concept of inheritance in Java. Provide an example scenario where inheritance is useful.\n",
    "* In Java, inheritance is the principle of creating subclasses that extends behaviors, methods, and attributes from a parent class. This particular feature is useful in many cases were we have to create objects that are similar to each other. An example is if you had a shipping comapny. We can create a parent class called `Transport`, which contains critical information like the Identitifaction of the vehicle, the deadline to deliver by, and the name of the driver. Subsequently, we can create different child classes to be used, like `Truck`, `Ship`, or `Plane`, each with their own additional unique attributes like fuel level, max speed in nautical miles, and altitude in meters, etc. This would reduce code redundancy because it ensures that the most important attributes are inherited across all objects.\n",
    "\n",
    "(b) Code:\n",
    "\n",
    "You need to implement a Java class hierarchy to represent different types of animals in the zoo. Create a superclass Animal with basic attributes and methods common to all animals, and at least three subclasses representing specific types of animals with additional attributes and methods. Include comments to explain your code, specifically how inheritance is used.\n"
   ]
  },
  {
   "cell_type": "code",
   "execution_count": null,
   "metadata": {
    "vscode": {
     "languageId": "java"
    }
   },
   "outputs": [],
   "source": []
  }
 ],
 "metadata": {
  "kernelspec": {
   "display_name": "java",
   "language": "java",
   "name": "java"
  },
  "language_info": {
   "codemirror_mode": "java",
   "file_extension": ".jshell",
   "mimetype": "text/x-java-source",
   "name": "Java",
   "pygments_lexer": "java",
   "version": "17.0.10+7-Ubuntu-120.04.1"
  }
 },
 "nbformat": 4,
 "nbformat_minor": 2
}
