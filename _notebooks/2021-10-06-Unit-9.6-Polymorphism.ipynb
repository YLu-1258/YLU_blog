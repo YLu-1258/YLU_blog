{
 "cells": [
  {
   "cell_type": "markdown",
   "metadata": {},
   "source": [
    "---\n",
    "- title: APCSA lesson 9.6 Polymorphism \n",
    "- author: alex\n",
    "- badges: true\n",
    "- comments: true\n",
    "- categories: [AP Prep, tutorials]\n",
    "- date: 2023-10-05 00:00:00 -0800\n",
    "- tags: [notebooks, objects, oop, polymorphism]\n",
    "- week: 4\n",
    "- render_with_liquid: false\n",
    "- type: hacks\n",
    "---"
   ]
  },
  {
   "cell_type": "markdown",
   "metadata": {},
   "source": [
    "## Learning Objectives\n",
    "<mark>MOD-3.D</mark>: Call methods in an inheritance relationship.  \n",
    "<mark>MOD-3.D.1</mark>: Utilize the Object class through inheritance.  \n",
    "<mark>MOD-3.D.2</mark>: At compile time, methods in or inherited by the declared type determine the correctness of a non-static method call.  \n",
    "<mark>MOD-3.D.3</mark>: At run-time, the method in the actual object type is executed for a non-static method call.  "
   ]
  },
  {
   "cell_type": "markdown",
   "metadata": {},
   "source": [
    "## What is Polymorphism?\n",
    "**Polymorphism** is a greek word meaning many-formed (poly=many, morph=form). In the context of programming, Polymorphic behavior is defined as being able to reference objects of different types at different points during compilation.  \n",
    "\n",
    "One example of Java polymorphism, is our ability to store references to objects instantiated from any class AND its *subclasses* in a variable. Another example is for methods, where we override the behavior of a method in a subclass such that it differs from the parent class. We successfully perform polymorphism when we override non-static methods and execute them from the correct, corresponding class at runtime.  \n",
    "\n",
    "Here is a simple example of polymorphism:"
   ]
  },
  {
   "cell_type": "code",
   "execution_count": null,
   "metadata": {},
   "outputs": [],
   "source": [
    "// This is our Parent class\n",
    "class Shape {\n",
    "    public void draw() {\n",
    "        System.out.println(\"Drawing a shape\");\n",
    "    }\n",
    "}\n",
    "\n",
    "// Subclass 1\n",
    "class Circle extends Shape {\n",
    "    @Override\n",
    "    public void draw() {\n",
    "        System.out.println(\"Drawing a circle\");\n",
    "    }\n",
    "}\n",
    "\n",
    "// Subclass 2\n",
    "class Rectangle extends Shape {\n",
    "    @Override\n",
    "    public void draw() {\n",
    "        System.out.println(\"Drawing a rectangle\");\n",
    "    }\n",
    "}\n",
    "\n",
    "public class Main {\n",
    "    public static void main(String[] args) {\n",
    "        \n",
    "        // Here we have reference variables circle and rectangle defined with static type \"Shape\"\n",
    "        Shape circle = new Circle();            // Circle has dynamic type \"Circle\"\n",
    "        Shape rectangle = new Rectangle();      // Rectangle has dynamic type \"Rectangle\"\n",
    "        \n",
    "        // Calling the draw() method\n",
    "        circle.draw();    // Output: Drawing a circle\n",
    "        rectangle.draw(); // Output: Drawing a rectangle\n",
    "    }\n",
    "}\n"
   ]
  },
  {
   "cell_type": "markdown",
   "metadata": {},
   "source": [
    "Even though the circle and rectangle have identical data-types, the compiler knows to call the correct method at run-time. We have successfully performed polymorphism"
   ]
  },
  {
   "cell_type": "markdown",
   "metadata": {},
   "source": [
    "### Popcorn hack\n",
    "1. Create any example of polymorphism, perferably with a class from your project, with corresponding methods and attributes as well."
   ]
  },
  {
   "cell_type": "markdown",
   "metadata": {},
   "source": [
    "## Static and Dynamic types\n",
    "Typically in Java, a reference variable storing an object instantiated from a child class can only store other objects of that class. If we try to store an object of another class, we'd get an error i.e.  \n",
    "\n",
    "```java\n",
    "Integer myNumber = new Integer(6);      // Instantiates an Integer object\n",
    "System.out.println(myNumber);           // Would print Integer type 6 normally\n",
    "myNumber = new Double(6.1);             // Compile error occurs, incompatible types\n",
    "System.out.println(myNumber);           // This line is not reached\n",
    "```  \n",
    "\n",
    "But what if we want want a reference variable to store objects of other classes? We get an error"
   ]
  },
  {
   "cell_type": "code",
   "execution_count": 4,
   "metadata": {},
   "outputs": [
    {
     "name": "stdout",
     "output_type": "stream",
     "text": [
      "6\n"
     ]
    },
    {
     "ename": "CompilationException",
     "evalue": "",
     "output_type": "error",
     "traceback": [
      "\u001b[1m\u001b[30m|   \u001b[1m\u001b[30mmyNumber = \u001b[0m\u001b[1m\u001b[30m\u001b[41mnew Double(6.1)\u001b[0m\u001b[1m\u001b[30m;\u001b[0m",
      "\u001b[1m\u001b[31mincompatible types: java.lang.Double cannot be converted to java.lang.Integer\u001b[0m",
      ""
     ]
    }
   ],
   "source": [
    "Integer myNumber = new Integer(6);\n",
    "System.out.println(myNumber);\n",
    "myNumber = new Double(6.1);\n",
    "System.out.println(myNumber);"
   ]
  },
  {
   "cell_type": "markdown",
   "metadata": {},
   "source": [
    "In this case, there is a conflict between our **static** and **dynamic** types.\n",
    " - **Static type**: The variable's declared type of the variable at compilation, specified by the programmer.\n",
    " - **Dynamic type**: The type of the object actually assigned to the static type. This is often the type of the Constuctor of the object that is ran when the compiler attempts to instantiate a new object.  \n",
    "\n",
    "Because the static type of \"Double\" doesn't match up with the dynamic type \"Integer\", we see the error that we get above."
   ]
  },
  {
   "cell_type": "markdown",
   "metadata": {},
   "source": [
    "### Popcorn hacks\n",
    "1. Given these lines of code, identify the static and dynamic variables in each scenario\n",
    "```java\n",
    "Animal myPet = new Dog();\n",
    "```\n",
    "```java\n",
    "Object1 thing = new Object2();\n",
    "```\n",
    "```java\n",
    "Vehicle myRide = new Helicopter(); \n",
    "```"
   ]
  },
  {
   "cell_type": "markdown",
   "metadata": {},
   "source": [
    "However, in our above example, the `Integer` and `Double` classes are actually subclasses of the `Number` class. Although they act as separate classes, they override and add methods to the parent class `Number`. If we instantiate our number variable as type Number, then it's possible to store values of type 'Integer' or 'Double' at any point during compilation"
   ]
  },
  {
   "cell_type": "code",
   "execution_count": 5,
   "metadata": {},
   "outputs": [
    {
     "name": "stdout",
     "output_type": "stream",
     "text": [
      "6\n"
     ]
    },
    {
     "name": "stdout",
     "output_type": "stream",
     "text": [
      "6.1\n"
     ]
    }
   ],
   "source": [
    "Number myNumber = new Integer(6);\n",
    "System.out.println(myNumber);\n",
    "myNumber = new Double(6.1);\n",
    "System.out.println(myNumber);"
   ]
  },
  {
   "cell_type": "markdown",
   "metadata": {},
   "source": [
    "## Compile-time vs Runtime methods\n",
    "Sometimes, when we perform polymorphism, we have to be careful to distinguish between our **compile time** and **run-time** methods. When we instantiate a dynamic variable that is of *a different type* from our static variable, our program at run time will attempt to search for the methods and attributes in the superclass, NOT the child class that we created. Although the compiled program will still output the correct outputs of the method in the child class, it will not be able to find a method that exists in the child class but not in the parent class.  \n",
    "\n",
    "To resolve this issue, we need use **Down-casting**.\n",
    " - **Downcasting**: Essentially telling the compiler to refer to a variable's subclass (the programmer specifies this), instead of the static type. We are telling the compiler to search our dynamic type for the methods and attributes that we want to access.\n",
    "\n",
    "Below is an example of compile versus run-time methods and downcasting that I used in our group's project."
   ]
  },
  {
   "cell_type": "code",
   "execution_count": 22,
   "metadata": {},
   "outputs": [
    {
     "name": "stdout",
     "output_type": "stream",
     "text": [
      "GraphNode[value=1,edges={2=7, 3=2, 4=10}]\n",
      "GraphNode[value=1,edges={2=7, 3=2, 4=10, 5=6}]\n"
     ]
    }
   ],
   "source": [
    "import java.util.HashMap;\n",
    "// This is our parent class for all child classes that make up a graph\n",
    "public class GraphObject {\n",
    "    private int value;\n",
    "\n",
    "    // constructor\n",
    "    public GraphObject(int value) {\n",
    "        this.value = value;\n",
    "    }\n",
    "\n",
    "    // getter method\n",
    "    public int getValue() {\n",
    "        return this.value;\n",
    "    }\n",
    "\n",
    "    // setter method\n",
    "    public void setValue(int value) {\n",
    "        this.value = value;\n",
    "    }\n",
    "\n",
    "    // Method overloading to print object to terminal\n",
    "    @Override\n",
    "    public String toString() {\n",
    "        return Integer.toString(this.value);\n",
    "    }\n",
    "}\n",
    "\n",
    "// This is our child class. Represents a vertex or a node in a graph\n",
    "public class GraphNode extends GraphObject {\n",
    "    private HashMap<Integer,Integer> edges;     // Hashmap of destination vertices and weights of paths <Target:Weight>\n",
    "\n",
    "    // Constructor of child class\n",
    "    public GraphNode(int value, HashMap<Integer,Integer> edges){\n",
    "        super(value);                           // super keyword to run constructor of parent class, which sets the value of the node\n",
    "        this.edges = edges;                     // adds any needed edges\n",
    "    }\n",
    "\n",
    "    public HashMap<Integer,Integer> getEdges() {\n",
    "        return this.edges;\n",
    "    }\n",
    "\n",
    "    public void addEdge(int targetId, int weight) {\n",
    "        this.edges.put(targetId, weight);\n",
    "    }\n",
    "\n",
    "    public void removeEdge(int targetId) {\n",
    "        this.edges.remove(targetId);\n",
    "    }\n",
    "    \n",
    "    // Overloading the toString method of the parent class, using super to get the output of the parent class\n",
    "    @Override\n",
    "    public String toString() {\n",
    "        return \"GraphNode[value=\" + super.toString() + \",edges=\" + this.edges + \"]\";\n",
    "    }\n",
    "} \n",
    "HashMap<Integer, Integer> node1Connections = new HashMap<Integer, Integer>();\n",
    "node1Connections.put(2, 7);\n",
    "node1Connections.put(3, 2);\n",
    "node1Connections.put(4, 10);\n",
    "GraphObject node1 = new GraphNode(1, node1Connections);\n",
    "System.out.println(node1.toString());\n",
    "((GraphNode)node1).addEdge(5,6);        // Here, we downcast node1, which is a GraphObject, to what it references, which is GraphNode\n",
    "// node1.addEdge(5,6);                  // This wouldn't work as the compiler attempts to find addEdge() in GraphObject, which it can't, throwing an error  \n",
    "System.out.println(node1.toString());"
   ]
  },
  {
   "cell_type": "markdown",
   "metadata": {},
   "source": [
    "# Popcorn Hacks\n",
    "1. Define each of the following terms in your own words\n",
    " - Downcasting\n",
    " - Static Type\n",
    " - Dynamic Type\n",
    " - Polymorphism\n",
    " - Compile-time method\n",
    " - Run-time method\n",
    "\n",
    "2. Write a program that uses at least 4 of the terms you defined above, can be anything of any complexity level\n"
   ]
  },
  {
   "cell_type": "code",
   "execution_count": null,
   "metadata": {},
   "outputs": [],
   "source": [
    "// Do popcorn hack here"
   ]
  }
 ],
 "metadata": {
  "kernelspec": {
   "display_name": "java",
   "language": "java",
   "name": "java"
  },
  "language_info": {
   "codemirror_mode": "java",
   "file_extension": ".jshell",
   "mimetype": "text/x-java-source",
   "name": "java",
   "pygments_lexer": "java",
   "version": "11.0.20.1+1-post-Ubuntu-0ubuntu120.04"
  }
 },
 "nbformat": 4,
 "nbformat_minor": 2
}
