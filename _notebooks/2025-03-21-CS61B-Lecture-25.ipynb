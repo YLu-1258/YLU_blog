{
 "cells": [
  {
   "cell_type": "markdown",
   "metadata": {},
   "source": [
    "---\n",
    "- title: \"'CS61B: Lecture 25'\"\n",
    "- author: alex\n",
    "- badges: true\n",
    "- comments: true\n",
    "- categories: [CS61B]\n",
    "- date: 2025-03-21 1:00:00 -0800\n",
    "- math: true\n",
    "- tags: [CS61B, Minimum Spanning Trees, JAVA]\n",
    "---"
   ]
  },
  {
   "cell_type": "markdown",
   "metadata": {},
   "source": [
    "# Minimum Spanning Trees\n",
    "- Warm up: Given an undirected graph, how do we determine if it contains any cycles?\n",
    "    - We use DFS from any source vertex and keep going until we see a marked node. Since we already visited that node, there must be a cycle.\n",
    "  - We can also use a Weighted-QuickFind Union. Add all edges, if two edges are already connected, then there must be a cycle.\n",
    "- Given an **undirected** graph, a ***spanning tree*** T is a subgraph of G, where T:\n",
    "  - Is connected.\n",
    "  - Is acyclic.\n",
    "  - Includes all of the vertices.\n",
    "    - Basically just a tree that includes all vertices.\n",
    "- A minimum spanning tree is a spanning tree of minimum total weight\n",
    "  - Ex: network of power lines that connect a bunch of buildings.\n",
    "- Minimum spanning trees could be used for handwriting recognition and also image processing.\n",
    "\n",
    "## The Cut Property\n",
    "- A **cut** is an assignment of a graph's nodes to two non-empty sets.\n",
    "  - Roughly there are $2^|V|$ cuts.\n",
    "- A **crossing edge** is an edge which connects a node from one set to a node from the other set.\n",
    "- The ***Cut Property:*** Given any cut, minimum weight crossing edge is in the MST.\n",
    "  - A crossing edge is an edge that connects both cuts.\n",
    "\n",
    "### Proof of the Cut Property\n",
    "- Let X be the MST. SUppose that the minimum crossing edge e is not in X.\n",
    "  - Adding e to X creates a cycle.\n",
    "  - Some other edge f in X must also be a crossing edge and be part of the cycle.\n",
    "    - This is because all cycles are connected by the tree. At least one crossing edge must exist in our MST. \n",
    "  - Removing f and adding e is a lower weight spanning tree.\n",
    "  - This gives us a contradiction.\n",
    "\n",
    "# Generic MST Finding Algoritum\n",
    "- We take advantage of the Cut Property.\n",
    "  - Start with no edges in the MST.\n",
    "    - Find a cut that has no crossing edges in the MST.\n",
    "    - Add the smallest crossing edge to the MST.\n",
    "    - Repeat until V-1 edges.\n",
    "\n",
    "## Prims Algorithm\n",
    "- Start from some arbitrary start node\n",
    "  - Repeatedly add the shortest edge that has one node inside the MST under construction.\n",
    "    - The MST that we are forming versus the rest of the graph forms two separate cuts. We always add the edge with the smallest weight connecting the two cuts.\n",
    "    - Basically just Djikstra's algorithm but PQ is based on edge length and not the total distance from the root node.\n",
    "- For Prims, we insert all vertices into the fringe **PQ**, and store all vertices in order of the distance from the tree.\n",
    "  - All vertices begin as infinitely far away. Source node has distance of zero. The fringe distances are updated based on the vertice's closest distance to some node in our MST under construction.\n",
    "  - Every time we pop off an edge from our fringe, we update the fringe distances (distance from vertex to tree) of all the vertices remaining. We update the distance of all vertices on the fringe adjacent to the edge we just relaxed.\n",
    "- Prims and Dijkstra's algorithms are exactly the same, except Dijkstra consideres the \"distance from the source\", and Prim's considers the \"distance from the tree.\"\n",
    "  - Relaxation in Dijkstra's considers an edge better based on distance to source.\n",
    "  - Relaxation in Prims's considers an edge better based on distance to tree."
   ]
  },
  {
   "cell_type": "code",
   "execution_count": null,
   "metadata": {
    "vscode": {
     "languageId": "python"
    }
   },
   "outputs": [],
   "source": [
    "public class PrimMST {\n",
    "\tpublic PrimMST(EdgeWeightedGraph G) {\n",
    "\t\tedgeTo = new Edge[G.V()];\n",
    "\t\tdistTo = new double[G.V()];\n",
    "\t\tmarked = new boolean[G.V()];\n",
    "\t\tfringe = new SpecialPQ<Double>(G.V());\n",
    "\t\n",
    "\t\tdistTo[s] = 0.0;\n",
    "\t\tsetDistancesToInfinityExceptS(s);\n",
    "\t\tinsertAllVertices(fringe);\n",
    "\t\n",
    "\t\t/* Get vertices in order of distance from tree. */\n",
    "\t\twhile (!fringe.isEmpty()) {\n",
    "\t\t\tint v = fringe.delMin();\n",
    "\t\t\tscan(G, v);\n",
    "\t\t} \n",
    "\t}\n",
    "\n",
    "  \tprivate void scan(EdgeWeightedGraph G, int v) {\n",
    "\t\tmarked[v] = true;\n",
    "\t\tfor (Edge e : G.adj(v)) {\n",
    "\t\t\tint w = e.other(v);\n",
    "\t\t\tif (marked[w]) { continue; } \n",
    "\t\t\tif (e.weight() < distTo[w]) {\n",
    "\t\t\tdistTo[w] = e.weight();\n",
    "\t\t\tedgeTo[w] = e;\n",
    "\t\t\tpq.decreasePriority(w, distTo[w]);\n",
    "\t\t\t}\n",
    "\t\t}\n",
    "\t}\n",
    "}"
   ]
  },
  {
   "cell_type": "markdown",
   "metadata": {},
   "source": [
    "# Kruskal's Algorithm\n",
    "- Consider the edges in order of increasing weight, and add to MST unless a cycle is created.\n",
    "  - Repeat until V-1 edges. By that point, our graph is connected.\n",
    "- To Check if there is a cycle, we must run DFS.\n",
    "  - However, a weightedQuickUnion is also a valid way of checking for cycles.\n",
    "  - Every time we consider an edge that we want to add, we check if they are already connected in the WQU.\n",
    "    - If they are connected, then we skip over the edge.\n",
    "    - If they are not connected, then we add the connection to WQU and add the edge to our MST."
   ]
  }
 ],
 "metadata": {
  "kernelspec": {
   "display_name": "Java",
   "language": "java",
   "name": "java"
  },
  "language_info": {
   "codemirror_mode": "java",
   "file_extension": ".jshell",
   "mimetype": "text/x-java-source",
   "name": "java",
   "pygments_lexer": "java",
   "version": "17.0.14+7-Ubuntu-122.04.1"
  }
 },
 "nbformat": 4,
 "nbformat_minor": 2
}
