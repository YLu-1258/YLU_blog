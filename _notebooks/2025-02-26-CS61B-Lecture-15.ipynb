{
 "cells": [
  {
   "cell_type": "markdown",
   "metadata": {},
   "source": [
    "---\n",
    "- title: \"'CS61B: Lecture 15'\"\n",
    "- author: alex\n",
    "- badges: true\n",
    "- comments: true\n",
    "- categories: [CS61B]\n",
    "- date: 2025-02-26 1:00:00 -0800\n",
    "- math: true\n",
    "- tags: [CS61B, Disjoint Set, JAVA]\n",
    "---"
   ]
  },
  {
   "cell_type": "markdown",
   "metadata": {},
   "source": [
    "# Disjoint Sets\n",
    "- The disjoint set data structure is used to solve the \"Dynamic Connectivity\" problem\n",
    "- The problem that we are working with is that we have various items. With a disjoint set, we can do the following:\n",
    "    - `connect(x, y)`: Connects item x and y\n",
    "    - `isConnected(x,y)`: Returns true if x and y are connected). Connections can be transitive, they do not need to share a direct connection, but they have have a path from one item to another.\n",
    "- Disjoint Sets are used for kruskals algorithm and also percolation problems\n",
    "\n",
    "## Disjoint Sets on Integers\n",
    "- We force all items to be integers\n",
    "- We declare the number of items in advance, everything is initially disconnected.\n",
    "- Disjoint Sets Interface:"
   ]
  },
  {
   "cell_type": "code",
   "execution_count": null,
   "metadata": {},
   "outputs": [],
   "source": [
    "public interface DisjointSets {\n",
    "    /* Connects two items P and Q */\n",
    "    void connect(int p, int q);\n",
    "\n",
    "    /* Checks to see if two items are connected */\n",
    "    boolean isConnected(int p, int q);\n",
    "}"
   ]
  },
  {
   "cell_type": "markdown",
   "metadata": {},
   "source": [
    "## The Naive Approach\n",
    "- Connecting two things: Record every connection in some data structure.\n",
    "- Checking connectedness: Do iteration over the lines to see if one item can be reached from the other.\n",
    "\n",
    "## The Better Approach\n",
    "- We focus on connected components.\n",
    "- We just record the sets that each item belongs to\n",
    "    - We just care if items are connected, not how they are connected.\n",
    "\n",
    "## Idea 1\n",
    "- We use a `List<Set<Integer>>`\n",
    "- Intuitive but terrible because this is complicated and slow. We would have to iterate through all the sets to find anything.\n",
    "\n",
    "\n",
    "## Idea 2\n",
    "- We store a list of integers where the ith entry gives a set number (\"id\") of item i.\n",
    "    - `connect(p, q)`: Change entires that equal `id[p]` to `id[q]`\n",
    "- This is still too slow, as connecting two items takes O(N) time.\n",
    "\n",
    "## Idea :3\n",
    "- We need to be able to change our set representation so that combining two sets into their union only requires changing one value.\n",
    "- We assign each item a parent rather than an id. This creates a tree structure where we may follow connections until we reach a root. All elements in the same set will share the same root.\n",
    "- Thus, we just need to make sure that items in the same set share the same root.\n",
    "- Steps, ex: connect(5,2):\n",
    "    - we set root(5)'s value equal to root(2).\n",
    "- To check if two items are connected, we simply check if the root of one item is equal to the root of another item.\n",
    "- The issue with this is that we havea worst case tree height of N for N items.\n",
    "    - We can make this more efficient by choosing how to connect two items.\n",
    "    - In fact, we put the item with the smaller height under the root of the item with the bigger height.\n",
    "    - However, tracking with height is tedious, instead we track with the number of elements in a tree, the \"weight\" of the tree.\n",
    "- Connecting based on height versus weight have different asymptotic efficiency.\n",
    "- To store the weight of the tree, we simply initialize another array that keeps track of the size of the tree that the item belongs to.\n",
    "\n",
    "## Weighted Quick Union Performance.\n",
    "- The only way that we may create a tree of height 2 is if we connect a tree of height 1 with another tree of height 1. Each tree of height 1 has at least 2 items. Thus, the smallest tree of height 2 has 4 items. The smallest tree of height 3 will have 8 items, and so on.\n",
    "- The height of our tree scales with the log of the input size N.\n",
    "- Using height minimizes the worst case depth of a node using weight minimizes the average depth of a nodex`"
   ]
  }
 ],
 "metadata": {
  "kernelspec": {
   "display_name": "Java",
   "language": "java",
   "name": "java"
  },
  "language_info": {
   "codemirror_mode": "java",
   "file_extension": ".jshell",
   "mimetype": "text/x-java-source",
   "name": "java",
   "pygments_lexer": "java",
   "version": "17.0.14+7-Ubuntu-122.04.1"
  }
 },
 "nbformat": 4,
 "nbformat_minor": 2
}
