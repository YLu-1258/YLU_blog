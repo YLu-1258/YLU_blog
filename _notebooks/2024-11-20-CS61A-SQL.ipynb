{
 "cells": [
  {
   "cell_type": "markdown",
   "metadata": {},
   "source": [
    "---\n",
    "- title: \"'CS61A: SQL'\"\n",
    "- author: alex\n",
    "- badges: true\n",
    "- comments: true\n",
    "- categories: [CS61A]\n",
    "- date: 2024-11-20 1:00:00 -0800\n",
    "- math: true\n",
    "- tags: [CS61A, SQL]\n",
    "---"
   ]
  },
  {
   "cell_type": "code",
   "execution_count": 22,
   "metadata": {
    "vscode": {
     "languageId": "sql"
    }
   },
   "outputs": [
    {
     "name": "stdout",
     "output_type": "stream",
     "text": [
      "The sql extension is already loaded. To reload it, use:\n",
      "  %reload_ext sql\n"
     ]
    }
   ],
   "source": [
    "%load_ext sql\n",
    "%config SqlMagic.style = '_DEPRECATED_DEFAULT'\n",
    "%sql sqlite:///cs61a.db"
   ]
  },
  {
   "cell_type": "markdown",
   "metadata": {},
   "source": [
    "# Databases\n",
    "- Database Management Systems (DMS) record and retrieve data.\n",
    "- DMS organize data in tables which are collections of records that are rows that have a value for each column in the table.\n",
    "    - Very much like a spreadsheet.\n",
    "    - Each column has an assigned value.\n",
    "- SQL is a *declarative programming language*\n",
    "\n",
    "## Declarative Programming\n",
    "- In **declarative languages** such as SQL & Prolog:\n",
    "    - A \"program\" is a description of the desired result\n",
    "    - The interpreter figures out how to generate the result.\n",
    "    - The programmer just has to describe what kind of data that they want to retrieve, and the interpreter creates the process to gather that data.\n",
    "- In **Imperative languages** such as Python & Scheme:\n",
    "    - A \"program\" is a description of computational processes\n",
    "    - The interpreter carries out the execution and evaluation of rules.\n",
    "    - The programmer must specify the process of how to get to the result.\n",
    "- Expressions in SQL are named queries, and queries often take an existing table and build a new table from the table.\n",
    "\n",
    "# Structured Query Language (SQL)\n",
    "- Typically use Sqlite3 for programs designed for one machine.\n",
    "- A `SELECT` statement always includes a comma-separated list of column descriptions.\n",
    "    - A column description is an expression that is optionally followed by `AS` and a column name\n",
    "    - `AS` provides a new name for the column\n",
    "    - Always end SQL with semi-columns.\n",
    "- Selecting a literal (string or number), would generate a one-row table\n",
    "- The union of two select statements is a table that contains the rows of both of their results\n",
    "\n",
    "## Naming Tables\n",
    "- The result of a `SELECT` statement is displayed to the user, but not stored.\n",
    "- We may give the result of a `SELECT` statement a permanent name with `CREATE TABLE`\n",
    "- Ex: Constructing a table to keep track of the parent-child relationships between dogs:"
   ]
  },
  {
   "cell_type": "code",
   "execution_count": 35,
   "metadata": {
    "vscode": {
     "languageId": "sql"
    }
   },
   "outputs": [
    {
     "name": "stdout",
     "output_type": "stream",
     "text": [
      " * sqlite:///cs61a.db\n",
      "Done.\n"
     ]
    },
    {
     "data": {
      "text/plain": [
       "[]"
      ]
     },
     "execution_count": 35,
     "metadata": {},
     "output_type": "execute_result"
    }
   ],
   "source": [
    "%%sql \n",
    "CREATE TABLE parents AS\n",
    "SELECT \"daisy\" AS parent, \"hank\" AS child UNION\n",
    "SELECT \"ace\", \"bella\" UNION\n",
    "SELECT \"ace\", \"charlie\" UNION\n",
    "SELECT \"finn\", \"ace\" UNION\n",
    "SELECT \"finn\", \"daisy\" UNION\n",
    "SELECT \"finn\", \"ginger\" UNION\n",
    "SELECT \"ellie\", \"finn\";"
   ]
  },
  {
   "cell_type": "code",
   "execution_count": 36,
   "metadata": {
    "vscode": {
     "languageId": "sql"
    }
   },
   "outputs": [
    {
     "name": "stdout",
     "output_type": "stream",
     "text": [
      " * sqlite:///cs61a.db\n",
      "Done.\n"
     ]
    },
    {
     "data": {
      "text/html": [
       "<table>\n",
       "    <thead>\n",
       "        <tr>\n",
       "            <th>parent</th>\n",
       "            <th>child</th>\n",
       "        </tr>\n",
       "    </thead>\n",
       "    <tbody>\n",
       "        <tr>\n",
       "            <td>ace</td>\n",
       "            <td>bella</td>\n",
       "        </tr>\n",
       "        <tr>\n",
       "            <td>ace</td>\n",
       "            <td>charlie</td>\n",
       "        </tr>\n",
       "        <tr>\n",
       "            <td>daisy</td>\n",
       "            <td>hank</td>\n",
       "        </tr>\n",
       "        <tr>\n",
       "            <td>ellie</td>\n",
       "            <td>finn</td>\n",
       "        </tr>\n",
       "        <tr>\n",
       "            <td>finn</td>\n",
       "            <td>ace</td>\n",
       "        </tr>\n",
       "        <tr>\n",
       "            <td>finn</td>\n",
       "            <td>daisy</td>\n",
       "        </tr>\n",
       "        <tr>\n",
       "            <td>finn</td>\n",
       "            <td>ginger</td>\n",
       "        </tr>\n",
       "    </tbody>\n",
       "</table>"
      ],
      "text/plain": [
       "[('ace', 'bella'),\n",
       " ('ace', 'charlie'),\n",
       " ('daisy', 'hank'),\n",
       " ('ellie', 'finn'),\n",
       " ('finn', 'ace'),\n",
       " ('finn', 'daisy'),\n",
       " ('finn', 'ginger')]"
      ]
     },
     "execution_count": 36,
     "metadata": {},
     "output_type": "execute_result"
    }
   ],
   "source": [
    "%%sql\n",
    "SELECT * FROM parents;"
   ]
  },
  {
   "cell_type": "markdown",
   "metadata": {},
   "source": [
    "- Normally, tables aren't created to scratch with unions. There are existing tables.\n",
    "\n",
    "# Projecting Tables\n",
    "- To build one table from another table, we project an existing table.\n",
    "- A `SELECT` statement can specify an input table using a `FROM` clause.\n",
    "- A subset of the rows of the input table can be selected using a `WHERE` clause\n",
    "- An ordering over the remaining rows can be declared using an `ORDER BY` clause\n",
    "- Column descriptions determine how each input row is projected to a result row"
   ]
  },
  {
   "cell_type": "code",
   "execution_count": null,
   "metadata": {
    "vscode": {
     "languageId": "sql"
    }
   },
   "outputs": [],
   "source": [
    "SELECT [column expressions] FROM [table] WHERE [condition] ORDER BY [order];"
   ]
  },
  {
   "cell_type": "markdown",
   "metadata": {},
   "source": [
    "- Ex: Get all children of the dog ace\n",
    "    - Both child and parent are columns of parents."
   ]
  },
  {
   "cell_type": "code",
   "execution_count": 33,
   "metadata": {
    "vscode": {
     "languageId": "sql"
    }
   },
   "outputs": [
    {
     "name": "stdout",
     "output_type": "stream",
     "text": [
      " * sqlite:///cs61a.db\n",
      "Done.\n"
     ]
    },
    {
     "data": {
      "text/html": [
       "<table>\n",
       "    <thead>\n",
       "        <tr>\n",
       "            <th>child</th>\n",
       "        </tr>\n",
       "    </thead>\n",
       "    <tbody>\n",
       "        <tr>\n",
       "            <td>bella</td>\n",
       "        </tr>\n",
       "        <tr>\n",
       "            <td>charlie</td>\n",
       "        </tr>\n",
       "    </tbody>\n",
       "</table>"
      ],
      "text/plain": [
       "[('bella',), ('charlie',)]"
      ]
     },
     "execution_count": 33,
     "metadata": {},
     "output_type": "execute_result"
    }
   ],
   "source": [
    "%%sql\n",
    "SELECT child FROM parents WHERE parent = \"ace\";"
   ]
  },
  {
   "cell_type": "markdown",
   "metadata": {},
   "source": [
    "- A select statement considers all rows of a table.\n",
    "\n",
    "## Arithmetic\n",
    "- A select statement may contain arithmetic\n",
    "    - Column names evaluate to row values in select statements, and arithmetic expressions may combine row values and constants.\n",
    "- Ex: ski lifts at a ski resort"
   ]
  },
  {
   "cell_type": "code",
   "execution_count": 37,
   "metadata": {
    "vscode": {
     "languageId": "sql"
    }
   },
   "outputs": [
    {
     "name": "stdout",
     "output_type": "stream",
     "text": [
      " * sqlite:///cs61a.db\n",
      "Done.\n"
     ]
    },
    {
     "data": {
      "text/plain": [
       "[]"
      ]
     },
     "execution_count": 37,
     "metadata": {},
     "output_type": "execute_result"
    }
   ],
   "source": [
    "%%sql\n",
    "CREATE TABLE lift AS\n",
    "    SELECT 101 AS chair, 2 AS single, 2 AS couple UNION\n",
    "    SELECT 102, 0, 3 UNION\n",
    "    SELECT 103, 4 ,1;"
   ]
  },
  {
   "cell_type": "markdown",
   "metadata": {},
   "source": [
    "- Ex: To get the total number of people on each chair:\n",
    "    - Values are calculated within rows, values from different rows are not mixed."
   ]
  },
  {
   "cell_type": "code",
   "execution_count": 40,
   "metadata": {
    "vscode": {
     "languageId": "sql"
    }
   },
   "outputs": [
    {
     "name": "stdout",
     "output_type": "stream",
     "text": [
      " * sqlite:///cs61a.db\n",
      "Done.\n"
     ]
    },
    {
     "data": {
      "text/html": [
       "<table>\n",
       "    <thead>\n",
       "        <tr>\n",
       "            <th>chair</th>\n",
       "            <th>seats</th>\n",
       "        </tr>\n",
       "    </thead>\n",
       "    <tbody>\n",
       "        <tr>\n",
       "            <td>101</td>\n",
       "            <td>6</td>\n",
       "        </tr>\n",
       "        <tr>\n",
       "            <td>102</td>\n",
       "            <td>6</td>\n",
       "        </tr>\n",
       "        <tr>\n",
       "            <td>103</td>\n",
       "            <td>6</td>\n",
       "        </tr>\n",
       "    </tbody>\n",
       "</table>"
      ],
      "text/plain": [
       "[(101, 6), (102, 6), (103, 6)]"
      ]
     },
     "execution_count": 40,
     "metadata": {},
     "output_type": "execute_result"
    }
   ],
   "source": [
    "%%sql\n",
    "SELECT chair, single + 2 * couple AS seats FROM lift;"
   ]
  },
  {
   "cell_type": "markdown",
   "metadata": {},
   "source": [
    "- Discussion Question: Given the table **ints** that descibes how to sum powers of 2 to form various integers:"
   ]
  },
  {
   "cell_type": "code",
   "execution_count": 41,
   "metadata": {
    "vscode": {
     "languageId": "sql"
    }
   },
   "outputs": [
    {
     "name": "stdout",
     "output_type": "stream",
     "text": [
      " * sqlite:///cs61a.db\n",
      "Done.\n"
     ]
    },
    {
     "data": {
      "text/plain": [
       "[]"
      ]
     },
     "execution_count": 41,
     "metadata": {},
     "output_type": "execute_result"
    }
   ],
   "source": [
    "%%sql\n",
    "CREATE TABLE ints as \n",
    "    SELECT \"zero\" AS word, 0 AS one, 0 AS two, 0 AS four, 0 AS eight UNION\n",
    "    SELECT \"one\", 1, 0, 0, 0 UNION\n",
    "    SELECT \"two\", 0, 2, 0, 0 UNION\n",
    "    SELECT \"three\", 1, 2, 0, 0 UNION\n",
    "    SELECT \"four\", 0, 0, 4, 0 UNION\n",
    "    SELECT \"five\", 1, 0, 4, 0 UNION\n",
    "    SELECT \"six\", 0, 2, 4, 0 UNION\n",
    "    SELECT \"seven\", 1, 2, 4, 0 UNION\n",
    "    SELECT \"eight\", 0, 0, 0, 8 UNION\n",
    "    SELECT \"nine\", 1, 0, 0, 8;"
   ]
  },
  {
   "cell_type": "markdown",
   "metadata": {},
   "source": [
    "- Part A: Wrtie a select statement for a two-column table of the word and value for each integer."
   ]
  },
  {
   "cell_type": "code",
   "execution_count": 43,
   "metadata": {
    "vscode": {
     "languageId": "sql"
    }
   },
   "outputs": [
    {
     "name": "stdout",
     "output_type": "stream",
     "text": [
      " * sqlite:///cs61a.db\n",
      "Done.\n"
     ]
    },
    {
     "data": {
      "text/html": [
       "<table>\n",
       "    <thead>\n",
       "        <tr>\n",
       "            <th>word</th>\n",
       "            <th>value</th>\n",
       "        </tr>\n",
       "    </thead>\n",
       "    <tbody>\n",
       "        <tr>\n",
       "            <td>zero</td>\n",
       "            <td>0</td>\n",
       "        </tr>\n",
       "        <tr>\n",
       "            <td>one</td>\n",
       "            <td>1</td>\n",
       "        </tr>\n",
       "        <tr>\n",
       "            <td>two</td>\n",
       "            <td>2</td>\n",
       "        </tr>\n",
       "        <tr>\n",
       "            <td>three</td>\n",
       "            <td>3</td>\n",
       "        </tr>\n",
       "        <tr>\n",
       "            <td>four</td>\n",
       "            <td>4</td>\n",
       "        </tr>\n",
       "        <tr>\n",
       "            <td>five</td>\n",
       "            <td>5</td>\n",
       "        </tr>\n",
       "        <tr>\n",
       "            <td>six</td>\n",
       "            <td>6</td>\n",
       "        </tr>\n",
       "        <tr>\n",
       "            <td>seven</td>\n",
       "            <td>7</td>\n",
       "        </tr>\n",
       "        <tr>\n",
       "            <td>eight</td>\n",
       "            <td>8</td>\n",
       "        </tr>\n",
       "        <tr>\n",
       "            <td>nine</td>\n",
       "            <td>9</td>\n",
       "        </tr>\n",
       "    </tbody>\n",
       "</table>"
      ],
      "text/plain": [
       "[('zero', 0),\n",
       " ('one', 1),\n",
       " ('two', 2),\n",
       " ('three', 3),\n",
       " ('four', 4),\n",
       " ('five', 5),\n",
       " ('six', 6),\n",
       " ('seven', 7),\n",
       " ('eight', 8),\n",
       " ('nine', 9)]"
      ]
     },
     "execution_count": 43,
     "metadata": {},
     "output_type": "execute_result"
    }
   ],
   "source": [
    "%%sql\n",
    "\n",
    "SELECT word, one + two + four + eight AS value FROM ints ORDER BY value;"
   ]
  },
  {
   "cell_type": "markdown",
   "metadata": {},
   "source": [
    "- Part B: Write a select statement for the **word** names of the powers of two"
   ]
  },
  {
   "cell_type": "code",
   "execution_count": 46,
   "metadata": {
    "vscode": {
     "languageId": "sql"
    }
   },
   "outputs": [
    {
     "name": "stdout",
     "output_type": "stream",
     "text": [
      " * sqlite:///cs61a.db\n",
      "Done.\n"
     ]
    },
    {
     "data": {
      "text/html": [
       "<table>\n",
       "    <thead>\n",
       "        <tr>\n",
       "            <th>word</th>\n",
       "        </tr>\n",
       "    </thead>\n",
       "    <tbody>\n",
       "        <tr>\n",
       "            <td>one</td>\n",
       "        </tr>\n",
       "        <tr>\n",
       "            <td>two</td>\n",
       "        </tr>\n",
       "        <tr>\n",
       "            <td>four</td>\n",
       "        </tr>\n",
       "        <tr>\n",
       "            <td>eight</td>\n",
       "        </tr>\n",
       "    </tbody>\n",
       "</table>"
      ],
      "text/plain": [
       "[('one',), ('two',), ('four',), ('eight',)]"
      ]
     },
     "execution_count": 46,
     "metadata": {},
     "output_type": "execute_result"
    }
   ],
   "source": [
    "%%sql\n",
    "SELECT word FROM ints WHERE one + two/2 + four/4 + eight/8 = 1 ORDER BY one+two+four+eight;"
   ]
  }
 ],
 "metadata": {
  "kernelspec": {
   "display_name": "Python 3",
   "language": "python",
   "name": "python3"
  },
  "language_info": {
   "codemirror_mode": {
    "name": "ipython",
    "version": 3
   },
   "file_extension": ".py",
   "mimetype": "text/x-python",
   "name": "python",
   "nbconvert_exporter": "python",
   "pygments_lexer": "ipython3",
   "version": "3.10.12"
  }
 },
 "nbformat": 4,
 "nbformat_minor": 2
}
