{
  "cells": [
    {
      "attachments": {},
      "cell_type": "markdown",
      "metadata": {
        "id": "Tk71r3Yc4wtF"
      },
      "source": [
        "---\n",
        "- toc: true\n",
        "- comments: true\n",
        "- title: U5 | Classes\n",
        "- description: while Loops, for Loops, Developing Algorithms Using Strings, Nested Iteration, Informal code analysis >>> AP Exam Weighting 17.5-22.5%\n",
        "- type: hacks\n",
        "- week: 8\n",
        "- authors: alex\n",
        "---"
      ]
    },
    {
      "attachments": {},
      "cell_type": "markdown",
      "metadata": {
        "id": "UpUiUpuU4wtG"
      },
      "source": [
        "# U5 | Classes"
      ]
    },
    {
      "attachments": {},
      "cell_type": "markdown",
      "metadata": {
        "id": "7DOsHCD_4wtH"
      },
      "source": [
        "---"
      ]
    },
    {
      "attachments": {},
      "cell_type": "markdown",
      "metadata": {
        "id": "oq-cSrX04wtH"
      },
      "source": [
        "<h2> 5.1 Anatomy of a Class & 5.2 Constructors </h2>\n",
        "\n",
        "![](https://i.imgur.com/Hw4X7kt.jpg)"
      ]
    },
    {
      "attachments": {},
      "cell_type": "markdown",
      "metadata": {
        "id": "uYNRiCJQ4wtH"
      },
      "source": [
        "<b>Methods vs Constructors </b>\n",
        "\n",
        "- Methods: functions defined within a class that preforms specific actions for objects of that class\n",
        "\n",
        "- Constructors: special methods in a class that are responsible for initializing the object's state when an instance of the class is created\n"
      ]
    },
    {
      "cell_type": "code",
      "execution_count": 2,
      "metadata": {
        "id": "M1DPKTfr4wtH",
        "vscode": {
          "languageId": "java"
        }
      },
      "outputs": [],
      "source": [
        "// EXAMPLE CLASS\n",
        "public class Snack {\n",
        "    // Instance Variables\n",
        "    private String name;\n",
        "    private int calories;\n",
        "\n",
        "    // Default Constructor\n",
        "    public Snack() {\n",
        "        name = \"\";\n",
        "        calories = 0;\n",
        "    }\n",
        "\n",
        "    // Overloaded Constructor\n",
        "    public Snack (String n, int c) {\n",
        "        name = n;\n",
        "        calories = c;\n",
        "    }\n",
        "\n",
        "    // Accessor method 1\n",
        "    public String getName() {\n",
        "        return name;\n",
        "    }\n",
        "\n",
        "    // Access method 2\n",
        "    public int getCalories() {\n",
        "        return calories;\n",
        "    }\n",
        "\n",
        "    // Mutator method 1\n",
        "    public void setName(String n) {\n",
        "        name = n;\n",
        "    }\n",
        "\n",
        "    // Mutator method 2\n",
        "    public void setCalories(int c) {\n",
        "        calories = c;\n",
        "    }\n",
        "\n",
        "    private boolean canEat() {\n",
        "        return (calories < 150);\n",
        "    }\n",
        "}"
      ]
    },
    {
      "attachments": {},
      "cell_type": "markdown",
      "metadata": {
        "id": "LhztCe-14wtI"
      },
      "source": [
        "<b>private vs public </b>\n",
        "\n",
        "- public: allows access from classes outside the declaring class (classes, constructors)\n",
        "\n",
        "- private: restricts access to the declaring class (instance variables)\n",
        "\n",
        "methods can be either public or private\n"
      ]
    },
    {
      "attachments": {},
      "cell_type": "markdown",
      "metadata": {
        "id": "QtVAUjhq4wtJ"
      },
      "source": [
        "<mark>Popcorn Hack</mark>: Which of the following lines will cause an error?"
      ]
    },
    {
      "cell_type": "markdown",
      "metadata": {},
      "source": [
        "- The line `choiceTwo.calories = 150;` will cause an error as it attempts to directly edit/overwrite a private attribute of an object."
      ]
    },
    {
      "cell_type": "code",
      "execution_count": null,
      "metadata": {
        "id": "LV1vMkbI4wtJ",
        "vscode": {
          "languageId": "java"
        }
      },
      "outputs": [],
      "source": [
        "public class SnackDriver {\n",
        "    public static void main(String[] args) {\n",
        "        Snack choiceOne = new Snack(\"cookies\", 100);\n",
        "        Snack choiceTwo = new Snack();\n",
        "        System.out.println(choiceOne.getName());\n",
        "        System.out.println(choiceOne.getCalories());\n",
        "        choiceTwo.setName(\"chips\");\n",
        "        choiceTwo.calories = 150;                   // This will cause an error\n",
        "    }\n",
        "}"
      ]
    },
    {
      "attachments": {},
      "cell_type": "markdown",
      "metadata": {
        "id": "AVlDJf_I4wtJ"
      },
      "source": [
        "<b>Key term: Encapsulation</b>\n",
        "- A fundmanetal concept of OOP\n",
        "- Wraps the data (variable) and code that acts on the data (methods) in one unit (class)\n",
        "- In AP CSA we do this by:\n",
        "    - Writing a class\n",
        "    - <mark>Declaring the instance variables as private</mark> --> enforce constraints and ensure integrity of data\n",
        "    - Providing accessor (get) methods and modifier (set) methods to view and modify variables outside of the class"
      ]
    },
    {
      "cell_type": "code",
      "execution_count": 4,
      "metadata": {
        "id": "PQzM9T4s4wtJ",
        "vscode": {
          "languageId": "java"
        }
      },
      "outputs": [],
      "source": [
        "public class Sport {\n",
        "    private String name;\n",
        "    private int numAthletes;\n",
        "\n",
        "    public Sport () {\n",
        "        name = \"\";\n",
        "        numAthletes = 0;\n",
        "    }\n",
        "\n",
        "    // Parameters in contructors are local variables\n",
        "    public Sport (String n, int numAth) {\n",
        "        name = n;\n",
        "        numAthletes = numAth;\n",
        "    }\n",
        "\n",
        "    // What if not all instance variables are set through parameters?\n",
        "    public Sport (String n) {\n",
        "        name = n;\n",
        "        numAthletes = 0;\n",
        "    }\n",
        "}\n",
        "\n",
        "Sport tbd = new Sport();\n",
        "Sport wp = new Sport(\"Water Polo\", 14);\n",
        "Sport wp = new Sport(\"Volleyball\");"
      ]
    },
    {
      "attachments": {},
      "cell_type": "markdown",
      "metadata": {
        "id": "2phE-moL4wtJ"
      },
      "source": [
        "- if no constructor provided, Java provides default constructor: int (0), double (0.0), strings and other objects (null)"
      ]
    },
    {
      "attachments": {},
      "cell_type": "markdown",
      "metadata": {
        "id": "It74utrS4wtJ"
      },
      "source": [
        "<h3>Hacks </h3>\n",
        "\n",
        "Create a Book class where each book has a title, genre, author, and number of pages. Include a default and overloaded constructor."
      ]
    },
    {
      "cell_type": "code",
      "execution_count": 3,
      "metadata": {
        "id": "cz2TC9YF4wtJ",
        "vscode": {
          "languageId": "java"
        }
      },
      "outputs": [],
      "source": [
        "// finish this\n",
        "public class Book {\n",
        "    private String title;\n",
        "    private String genre;\n",
        "    private String author;\n",
        "    private int numOfPages;\n",
        "\n",
        "    public Book () {\n",
        "        this.title = \"N/A\";\n",
        "        this.genre = \"N/A\";\n",
        "        this.author = \"N/A\";\n",
        "        this.numOfPages = 0;\n",
        "    }\n",
        "\n",
        "    public Book (String title, String genre, String author, int numOfPages) {\n",
        "        this.title = title;\n",
        "        this.genre = genre;\n",
        "        this.author = author;\n",
        "        this.numOfPages = numOfPages;\n",
        "    }\n",
        "}"
      ]
    },
    {
      "attachments": {},
      "cell_type": "markdown",
      "metadata": {
        "id": "XV4NkJ0J4wtK"
      },
      "source": [
        "<h2> 5.3 Documentation with Comments</h2>\n",
        "\n",
        "REMEMBER: comments are ignored by the compiler and anything written in them won't execute \n",
        "\n",
        "- they're used for **people** to make code more readable.. allows them to understand what's happening without having to go further into the code \n",
        "- improves communication between TEAMS \n",
        "- allows code to be maintained over years\n",
        "- prevents execution when testing alternative code\n",
        "\n",
        "**You are NOT required to write comments of AP Exam FRQs, but it is always a good habit**\n",
        "\n",
        "### The types of comments: \n",
        "\n",
        "1) Single line: //\n",
        "2) Multiline: /*  */\n",
        "3) Java Doc: /** \n",
        "        *\n",
        "        *\n",
        "        */"
      ]
    },
    {
      "cell_type": "code",
      "execution_count": 6,
      "metadata": {
        "vscode": {
          "languageId": "java"
        }
      },
      "outputs": [],
      "source": [
        "/* \n",
        "    Programmer: \n",
        "    Date: \n",
        "    Purpose \n",
        " */\n",
        "\n",
        " public class Main {\n",
        "    public static void main(String[] args) {\n",
        "        // variables\n",
        "        double length = 2.5;\n",
        "        double width = 4;\n",
        "\n",
        "        //.. and so on\n",
        "    }\n",
        "}\n",
        "\n",
        "\n",
        "/** \n",
        " * javadoc comments:\n",
        " * jkafhjdajhf\n",
        " * \n",
        " * @author\n",
        " * @version \n",
        " */"
      ]
    },
    {
      "attachments": {},
      "cell_type": "markdown",
      "metadata": {},
      "source": [
        "**Javadoc** is a tool that pulls any comments written in this format to make a documentation of the class in the form of a webpage\n",
        "\n",
        "Javadoc also has tags (as shown above)\n",
        "\n",
        "### Preconditions: conditions that must be met before the execution of a code in order for it to run correctly \n",
        "\n",
        "* Will be written in comments for a method for most APCSA questions\n",
        "* it is assumed that these preconditions are true, we do **not** need to check!\n",
        "\n",
        "\n",
        "### Postconditions: conditions that must be met after the conditions has been executed (outcome, state of variables, ect)\n",
        "\n",
        "* Will be written in comments for a method for most APCSA questions\n",
        "* we **do** have to check to make sure these have been met\n",
        "* good way to get a summary of what you need to be doing "
      ]
    },
    {
      "cell_type": "code",
      "execution_count": null,
      "metadata": {
        "vscode": {
          "languageId": "java"
        }
      },
      "outputs": [],
      "source": [
        "// EXAMPLE FROM AP CLASSROOM:\n",
        "\n",
        "public class SecretWord {\n",
        "    private String word;\n",
        "\n",
        "    public SecretWord(String w) {\n",
        "        word = w;\n",
        "    }\n",
        "\n",
        "    /** \n",
        "     * Precondition: parameter num is less than the length of word\n",
        "     * Postcondition: Returns the string of the characters of word from the index hum to the end of the word followed by the characters of word from index 0 to num, not including index num. The state of word has not changed\n",
        "     */\n",
        "\n",
        "    public String newWord(int num)\n",
        "    {\n",
        "        //implementation not shown\n",
        "    }\n",
        "}"
      ]
    },
    {
      "attachments": {},
      "cell_type": "markdown",
      "metadata": {
        "id": "m5rcCeCM4wtK"
      },
      "source": [
        "<h2> 5.4 Accessor Method </h2>\n",
        "\n",
        "OUR GOAL: to define behaviors of an object through non-void methods NOT using parameters written in a class\n",
        "\n",
        "REMEMBER: an accessor method allows other objects to access static variables\n",
        "\n",
        "### What is the purpose of an accessor method?\n",
        "\n",
        "It allows us to safely access variables without other people being able to. Also called get methods or getters. \n",
        "\n",
        "They're necessary whenever another class needs to access a variable outside of that class."
      ]
    },
    {
      "cell_type": "code",
      "execution_count": null,
      "metadata": {
        "vscode": {
          "languageId": "java"
        }
      },
      "outputs": [],
      "source": [
        "// Example class \n",
        "\n",
        "public class Movie {\n",
        "    // private instance variables\n",
        "    private String name;\n",
        "    private int runtime;\n",
        "\n",
        "    // default constructor \n",
        "    public Movie() {\n",
        "        name = \"\";\n",
        "        runtime = 0;\n",
        "    }\n",
        "\n",
        "    // overloaded constructor:\n",
        "    public Movie(String n, int c) {\n",
        "        name = n;\n",
        "        runtime = c;\n",
        "    }\n",
        "\n",
        "    // added ACCESSOR METHOD for each variable\n",
        "\n",
        "    public String getName() { // header \n",
        "        return name; // returning a COPY of the private instance variables\n",
        "    }\n",
        "\n",
        "    public int getRuntime() {\n",
        "        return runtime\n",
        "    }\n",
        "}"
      ]
    },
    {
      "attachments": {},
      "cell_type": "markdown",
      "metadata": {},
      "source": [
        "An accessor method must be:\n",
        "* ```public``` in order to be accessible \n",
        "* the return type must match the instance variable type \n",
        "* usually name of method is getNameOfVariable\n",
        "* should be NO PARAMETERS\n",
        "\n",
        "### POPCORN HACKS: write an accessor method for each of the instance variables:"
      ]
    },
    {
      "cell_type": "code",
      "execution_count": 4,
      "metadata": {
        "vscode": {
          "languageId": "java"
        }
      },
      "outputs": [],
      "source": [
        "public class Course {\n",
        "    private String name;\n",
        "    private String gradeLevel;\n",
        "    private int period;\n",
        "\n",
        "    // popcorn hack\n",
        "    public String getName () {\n",
        "        return name;\n",
        "    }\n",
        "\n",
        "    public String getGradeLevel () {\n",
        "        return gradeLevel;\n",
        "    }\n",
        "\n",
        "    public int getPeriod () {\n",
        "        return period;\n",
        "    }\n",
        "}"
      ]
    },
    {
      "attachments": {},
      "cell_type": "markdown",
      "metadata": {},
      "source": [
        "### Let's look at another example:"
      ]
    },
    {
      "cell_type": "code",
      "execution_count": null,
      "metadata": {
        "vscode": {
          "languageId": "java"
        }
      },
      "outputs": [],
      "source": [
        "public class Sport {\n",
        "\n",
        "    private String name;\n",
        "    private int numAthletes;\n",
        "\n",
        "    public Sport(String n, int num) {\n",
        "        name = n;\n",
        "        numAthletes = sum;\n",
        "    }\n",
        "\n",
        "    public String getName() {\n",
        "        return name;\n",
        "    }\n",
        "\n",
        "    public int getNumAthletes () {\n",
        "        return numAthletes;\n",
        "    }\n",
        "}\n"
      ]
    },
    {
      "attachments": {},
      "cell_type": "markdown",
      "metadata": {},
      "source": [
        "Can we print out information about an instance of this object?"
      ]
    },
    {
      "cell_type": "code",
      "execution_count": 8,
      "metadata": {
        "vscode": {
          "languageId": "java"
        }
      },
      "outputs": [
        {
          "name": "stdout",
          "output_type": "stream",
          "text": [
            "REPL.$JShell$14B$Sport@570eaf9d\n"
          ]
        }
      ],
      "source": [
        "public class Sport {\n",
        "    private String name;\n",
        "    private int numAthletes;\n",
        "\n",
        "    public Sport(String n, int num) {\n",
        "        name = n;\n",
        "        numAthletes = num;\n",
        "    }\n",
        "\n",
        "    public String getName() {\n",
        "        return name;\n",
        "    }\n",
        "\n",
        "    public int getNumAthletes() {\n",
        "        return numAthletes;\n",
        "    }\n",
        "\n",
        "    public static void main(String[] args) {\n",
        "\n",
        "        Sport volleyball = new Sport(\"volleyball\", 12);\n",
        "\n",
        "        System.out.println(volleyball);\n",
        "    }\n",
        "}\n",
        "\n",
        "Sport.main(null);"
      ]
    },
    {
      "attachments": {},
      "cell_type": "markdown",
      "metadata": {},
      "source": [
        "What output did we get?\n",
        "\n",
        "The code outputs the ```Object``` class in the form of classname@HashCode in hexadecimal \n",
        "<br>\n",
        "<br>\n",
        "<br>\n",
        "Let's try using the ```toString``` method:\n",
        "\n",
        "* returns a string when System.out.println(object) is called\n",
        "* no parameters"
      ]
    },
    {
      "cell_type": "code",
      "execution_count": 9,
      "metadata": {
        "vscode": {
          "languageId": "java"
        }
      },
      "outputs": [
        {
          "name": "stdout",
          "output_type": "stream",
          "text": [
            "Sport: volleyball\n",
            "Number of Athletes: 12\n"
          ]
        }
      ],
      "source": [
        "public class Sport {\n",
        "    private String name;\n",
        "    private int numAthletes;\n",
        "\n",
        "    public Sport(String n, int num) {\n",
        "        name = n;\n",
        "        numAthletes = num;\n",
        "    }\n",
        "\n",
        "    public String getName() {\n",
        "        return name;\n",
        "    }\n",
        "\n",
        "    public int getNumAthletes() {\n",
        "        return numAthletes;\n",
        "    }\n",
        "\n",
        "    public String toString() { // toString method.. HEADER MUST BE WRITTEN IN THIS WAY\n",
        "        return \"Sport: \" + name +\"\\nNumber of Athletes: \" + numAthletes;\n",
        "    }\n",
        "\n",
        "    public static void main(String[] args) {\n",
        "\n",
        "        Sport volleyball = new Sport(\"volleyball\", 12);\n",
        "\n",
        "        System.out.println(volleyball);\n",
        "    }\n",
        "}\n",
        "\n",
        "Sport.main(null);"
      ]
    },
    {
      "attachments": {},
      "cell_type": "markdown",
      "metadata": {
        "id": "5vTK32dC4wtK"
      },
      "source": [
        "<h2> 5.5. Mutators / Setters</h2>"
      ]
    },
    {
      "attachments": {},
      "cell_type": "markdown",
      "metadata": {
        "id": "DvVQA8DOTMCx"
      },
      "source": [
        "Purpose: Mutators are used to change the values of the fields (attributes) of an object.\n",
        "\n",
        "Access Control: Mutators are typically defined as public methods to allow external code to modify the object's state.\n",
        "\n",
        "Naming Convention: The method names for mutators usually start with \"set\" followed by the name of the field they modify.\n",
        "\n",
        "Parameterized: Mutators take one or more parameters that represent the new values for the fields.\n",
        "\n",
        "Return Type: Mutators are usually of type void, as they don't return a value, but they modify the object's state.\n",
        "\n",
        "Encapsulation: Mutators are an essential part of encapsulation, which helps to protect the object's state by controlling access through methods.\n",
        "\n",
        "Validation: Mutators often include validation logic to ensure that the new values being set are within acceptable bounds or meet specific criteria.\n",
        "\n",
        "Example Usage: Mutator for setting the age of a Person object might look like: public void setAge(int newAge) {...}.\n",
        "\n",
        "Chaining: Mutators can be chained together in a single line for more fluent and concise code, e.g., person.setName(\"John\").setAge(30);.\n",
        "\n",
        "Immutable Objects: In some cases, mutators are not used, and instead, a new object with modified values is created. This approach is common in creating immutable objects in Java."
      ]
    },
    {
      "attachments": {},
      "cell_type": "markdown",
      "metadata": {
        "id": "QmqfVAPnWYDp"
      },
      "source": [
        "### Example"
      ]
    },
    {
      "cell_type": "code",
      "execution_count": 10,
      "metadata": {
        "id": "0IkL08CNTDMK",
        "vscode": {
          "languageId": "java"
        }
      },
      "outputs": [],
      "source": [
        "public class UserAccount {\n",
        "    private String username;\n",
        "    private String password;\n",
        "    private boolean isLoggedIn;\n",
        "\n",
        "    public UserAccount(String username, String password) {\n",
        "        this.username = username;\n",
        "        this.password = password;\n",
        "        this.isLoggedIn = false;\n",
        "    }\n",
        "\n",
        "    // Mutator for setting the username\n",
        "    public void setUsername(String newUsername) {\n",
        "        this.username = newUsername;\n",
        "    }\n",
        "\n",
        "    // Mutator for setting the password\n",
        "    public void setPassword(String newPassword) {\n",
        "        this.password = newPassword;\n",
        "    }\n",
        "\n",
        "    // Mutator for logging in\n",
        "    public void login(String enteredUsername, String enteredPassword) {\n",
        "        if (enteredUsername.equals(username) && enteredPassword.equals(password)) {\n",
        "            isLoggedIn = true;\n",
        "            System.out.println(\"Login successful. Welcome, \" + username + \"!\");\n",
        "        } else {\n",
        "            System.out.println(\"Login failed. Please check your username and password.\");\n",
        "        }\n",
        "    }\n",
        "\n",
        "    // Mutator for logging out\n",
        "    public void logout() {\n",
        "        isLoggedIn = false;\n",
        "        System.out.println(\"Logged out successfully.\");\n",
        "    }\n",
        "\n",
        "    // Accessor for checking if the user is logged in\n",
        "    public boolean isLoggedIn() {\n",
        "        return isLoggedIn;\n",
        "    }\n",
        "\n",
        "    public static void main(String[] args) {\n",
        "        // Create a UserAccount\n",
        "        UserAccount userAccount = new UserAccount(\"alice\", \"password123\");\n",
        "\n",
        "        // Attempt to log in\n",
        "        userAccount.login(\"alice\", \"password123\");\n",
        "\n",
        "        // Check if the user is logged in\n",
        "        if (userAccount.isLoggedIn()) {\n",
        "            // Access the Scrum board or other features here\n",
        "            System.out.println(\"Accessing Scrum boards...\");\n",
        "        } else {\n",
        "            System.out.println(\"Access denied. Please log in.\");\n",
        "        }\n",
        "\n",
        "        // Log out\n",
        "        userAccount.logout();\n",
        "    }\n",
        "}"
      ]
    },
    {
      "attachments": {},
      "cell_type": "markdown",
      "metadata": {
        "id": "MLD3uy1RYuTZ"
      },
      "source": [
        "### Hacks\n",
        "\n",
        "Create a Java class BankAccount to represent a simple bank account. This class should have the following attributes:\n",
        "\n",
        "- accountHolder (String): The name of the account holder.\n",
        "balance (double): The current balance in the account.\n",
        "Implement the following mutator (setter) methods for the BankAccount class:\n",
        "\n",
        "- setAccountHolder(String name): Sets the name of the account holder.\n",
        "- deposit(double amount): Deposits a given amount into the account.\n",
        "- withdraw(double amount): Withdraws a given amount from the account, but only if the withdrawal amount is less than or equal to the current balance.\n",
        "\n",
        "Ensure that the balance is never negative."
      ]
    },
    {
      "cell_type": "code",
      "execution_count": 7,
      "metadata": {
        "id": "qZ8LkNJJY9KL",
        "vscode": {
          "languageId": "java"
        }
      },
      "outputs": [
        {
          "name": "stdout",
          "output_type": "stream",
          "text": [
            "Account holder: Jane Doe\n",
            "Current balance: 1300.0\n"
          ]
        }
      ],
      "source": [
        "public class BankAccount {\n",
        "    private String accountHolder;\n",
        "    private double balance;\n",
        "\n",
        "    // Constructor\n",
        "    public BankAccount(String accountHolder, double balance) {\n",
        "        // Initialize the account holder and balance attributes\n",
        "        this.accountHolder = accountHolder;\n",
        "        this.balance = balance;\n",
        "    }\n",
        "\n",
        "    // Implement the setAccountHolder method\n",
        "    public void setAccountHolder(String name) {\n",
        "        this.accountHolder = name;\n",
        "    }\n",
        "\n",
        "    // Implement the deposit method\n",
        "    public void deposit(double amount) {\n",
        "        this.balance = this.balance + amount;\n",
        "    }\n",
        "\n",
        "    // Implement the withdraw method\n",
        "    public void withdraw(double amount) {\n",
        "        if (amount > balance) {\n",
        "            balance = 0.0;\n",
        "        } else {\n",
        "            balance = balance - amount;\n",
        "        }\n",
        "    }\n",
        "\n",
        "    public static void main(String[] args) {\n",
        "        // Test the BankAccount class with sample operations\n",
        "        // Create an instance of BankAccount\n",
        "        BankAccount account = new BankAccount(\"John Doe\", 1000.0);\n",
        "\n",
        "        // Test the mutator methods\n",
        "        account.setAccountHolder(\"Jane Doe\");\n",
        "        account.deposit(500.0);\n",
        "        account.withdraw(200.0);\n",
        "\n",
        "        // Print the updated account details\n",
        "        System.out.println(\"Account holder: \" + account.accountHolder);\n",
        "        System.out.println(\"Current balance: \" + account.balance);\n",
        "    }\n",
        "}\n",
        "\n",
        "BankAccount.main(null);\n"
      ]
    },
    {
      "attachments": {},
      "cell_type": "markdown",
      "metadata": {
        "id": "Peyyl8Ox4wtK"
      },
      "source": [
        "<h2> 5.6 Writing Methods </h2>"
      ]
    },
    {
      "attachments": {},
      "cell_type": "markdown",
      "metadata": {
        "id": "tbazNTesVlnd"
      },
      "source": [
        "- Method Declaration: Define methods using the method keyword, specifying return type, method name, and parameters.\n",
        "- Method Parameters: Methods can take input parameters.\n",
        "- Return Statement: Use the return statement to return a value from a method.\n",
        "- Method Overloading: You can have multiple methods with the same name but different parameter lists.\n",
        "- Static Methods: Static methods are associated with the class rather than instances.\n",
        "- Instance Methods: Instance methods are associated with an object of the class.\n",
        "- Access Modifiers: Use access modifiers like public, private, or protected to control visibility.\n",
        "- Method Invocation: Call methods using the dot notation on objects or classes (for static methods).\n",
        "- Recursive Methods: Methods can call themselves, creating recursive functions.\n",
        "- Varargs (Variable-Length Argument Lists): Use varargs to pass a variable number of arguments to a method."
      ]
    },
    {
      "attachments": {},
      "cell_type": "markdown",
      "metadata": {
        "id": "QtZTO0ARWTIP"
      },
      "source": [
        "### Example"
      ]
    },
    {
      "cell_type": "code",
      "execution_count": null,
      "metadata": {
        "id": "KiOmNj-WWPx2",
        "vscode": {
          "languageId": "java"
        }
      },
      "outputs": [],
      "source": [
        "public class Calculator {\n",
        "    public int add(int operand1, int operand2) {\n",
        "        return operand1 + operand2;\n",
        "    }\n",
        "\n",
        "    public int subtract(int operand1, int operand2) {\n",
        "        return operand1 - operand2;\n",
        "    }\n",
        "\n",
        "    public int multiply(int operand1, int operand2) {\n",
        "        return operand1 * operand2;\n",
        "    }\n",
        "\n",
        "    public int divide(int dividend, int divisor) {\n",
        "        if (divisor != 0) {\n",
        "            return dividend / divisor;\n",
        "        } else {\n",
        "            throw new ArithmeticException(\"Division by zero is not allowed.\");\n",
        "        }\n",
        "    }\n",
        "\n",
        "    public static void main(String[] args) {\n",
        "        Calculator calculator = new Calculator();\n",
        "        int resultAdd = calculator.add(5, 3);\n",
        "        int resultSubtract = calculator.subtract(10, 7);\n",
        "        int resultMultiply = calculator.multiply(4, 6);\n",
        "        int resultDivide = calculator.divide(8, 2);\n",
        "\n",
        "        System.out.println(\"Addition: \" + resultAdd);\n",
        "        System.out.println(\"Subtraction: \" + resultSubtract);\n",
        "        System.out.println(\"Multiplication: \" + resultMultiply);\n",
        "        System.out.println(\"Division: \" + resultDivide);\n",
        "    }\n",
        "}\n"
      ]
    },
    {
      "attachments": {},
      "cell_type": "markdown",
      "metadata": {
        "id": "X8TrviaRZABg"
      },
      "source": [
        "### Hacks\n",
        "\n",
        "Create a Java class MathUtility with a set of utility methods for mathematical operations. Implement the following methods:\n",
        "\n",
        "- calculateAverage(double[] numbers): Calculate the average of an array of numbers.\n",
        "- isPrime(int number): Check if a given integer is prime.\n",
        "- findFactors(int number): Find and return an array of factors for a given integer.\n",
        "Include proper error handling for edge cases and invalid input."
      ]
    },
    {
      "cell_type": "code",
      "execution_count": 16,
      "metadata": {
        "id": "eviU1V0YZMtP",
        "vscode": {
          "languageId": "java"
        }
      },
      "outputs": [
        {
          "name": "stdout",
          "output_type": "stream",
          "text": [
            "Average of the numbers: 3.5\n",
            "49 is prime: true\n",
            "Factors of 12: 2 2 3 "
          ]
        }
      ],
      "source": [
        "import java.util.ArrayList;\n",
        "public class MathUtility {\n",
        "    // Implement the calculateAverage method\n",
        "    public double calculateAverage(double[] numbers) {\n",
        "        double total = 0;\n",
        "        for (int i = 0; i < numbers.length; i++) {\n",
        "            total = total + numbers[i];\n",
        "        }\n",
        "        return total/numbers.length;\n",
        "    }\n",
        "\n",
        "    // Implement the isPrime method\n",
        "    public boolean isPrime(int number) {\n",
        "        if (number % 2 == 0 || number % 3 == 0) {\n",
        "            return false;\n",
        "        }\n",
        "        for (int i = 5; i * i <= number; i+=6) {\n",
        "            if (number%i==0 || number%(1+2)==0) {\n",
        "                return false;\n",
        "            }\n",
        "        }\n",
        "        return true;\n",
        "    }\n",
        "\n",
        "    // Implement the findFactors method\n",
        "    public ArrayList<Integer> findFactors(int number) {\n",
        "        // Add code to find and return the factors of the given number\n",
        "        ArrayList<Integer> factors = new ArrayList<Integer>();\n",
        "        int upper_limit = number/2+1;\n",
        "        while (number % 2 == 0) {\n",
        "            factors.add(2);\n",
        "            number = number/2;\n",
        "        }\n",
        "        for (int i = 3; i <= upper_limit; i = i+2) {\n",
        "            while (number % i == 0) {\n",
        "                factors.add(i);\n",
        "                number = number/i;\n",
        "            }\n",
        "        }\n",
        "        return factors;\n",
        "    }\n",
        "\n",
        "    public static void main(String[] args) {\n",
        "        // Test the MathUtility class with sample mathematical operations\n",
        "        MathUtility mathUtility = new MathUtility();\n",
        "\n",
        "        // Test the utility methods\n",
        "        double[] numbers = {1, 2, 3, 4, 5, 6};\n",
        "        double average = mathUtility.calculateAverage(numbers);\n",
        "        System.out.println(\"Average of the numbers: \" + average);\n",
        "\n",
        "        int numberToCheck = 49;\n",
        "        boolean isPrime = mathUtility.isPrime(numberToCheck);\n",
        "        System.out.println(numberToCheck + \" is prime: \" + isPrime);\n",
        "\n",
        "        int numberToFactor = 12;\n",
        "        ArrayList<Integer> factors = mathUtility.findFactors(numberToFactor);\n",
        "        System.out.print(\"Factors of \" + numberToFactor + \": \");\n",
        "        for (int factor : factors) {\n",
        "            System.out.print(factor + \" \");\n",
        "        }\n",
        "    }\n",
        "}\n",
        "\n",
        "MathUtility.main(null);"
      ]
    },
    {
      "attachments": {},
      "cell_type": "markdown",
      "metadata": {
        "id": "4uU_SzyK4wtK"
      },
      "source": [
        "<h2> 5.7 Static Variables and Methods</h2>\n",
        "\n",
        "### Static Methods\n",
        "- Define behaviors of a class (belong to class, NOT object)\n",
        "- Keyword **static** in header before method name\n",
        "- Can only: access/change static variables\n",
        "- Can't: access/change instance variables or the class' instance variables, no **this** reference\n",
        "\n",
        "#### Practice\n",
        "##### Should we use a static or non-static method?"
      ]
    },
    {
      "cell_type": "code",
      "execution_count": null,
      "metadata": {
        "vscode": {
          "languageId": "java"
        }
      },
      "outputs": [],
      "source": [
        "public class Assignment{\n",
        "    // next classwork/homework ID is NEXT number of classwork/homework that will be created\n",
        "    private static int nextClassworkID = 1;\n",
        "    private static int nextHomeworkID = 1;\n",
        "    private String name;\n",
        "    private int pointValue;\n",
        "\n",
        "    // constructors and methods not shown\n",
        "}"
      ]
    },
    {
      "attachments": {},
      "cell_type": "markdown",
      "metadata": {},
      "source": [
        "Question: What is the static data and what is the instance data?\n",
        "\n",
        "Answer: `nextClassworkID` and `nextHomeworkID` is the static data, `name` and `pointValue` is for instances"
      ]
    },
    {
      "attachments": {},
      "cell_type": "markdown",
      "metadata": {},
      "source": [
        "Question: A method getGrade is given an int score earned on the assignment and returns the percentage (as a decimal) earned by that score. Would this be implemented as a static or non-static method?\n",
        "- Think: What data does it need access to? If needs access to instance data, needs to be non-static. If only need access to static data, it can be static.\n",
        "\n",
        "Answer: non-static, since the method would need to access pointValue which is an instance variable.\n",
        "\n",
        "#### Popcorn Hacks: write getGrade method"
      ]
    },
    {
      "cell_type": "code",
      "execution_count": 18,
      "metadata": {
        "vscode": {
          "languageId": "java"
        }
      },
      "outputs": [],
      "source": [
        "public class Assignment{\n",
        "    // next classwork/homework ID is NEXT number of classwork/homework that will be created\n",
        "    private static int nextClassworkID = 1;\n",
        "    private static int nextHomeworkID = 1;\n",
        "    private String name;\n",
        "    private int pointValue;\n",
        "\n",
        "    public double getGrade(int score){\n",
        "        return round((score/pointValue)*100, 2);\n",
        "    }\n",
        "}"
      ]
    },
    {
      "attachments": {},
      "cell_type": "markdown",
      "metadata": {},
      "source": [
        "Question: Would a method that reports the total number of assignments be static or non-static?\n",
        " \n",
        "Answer: static, since the method would only need to access static data\n",
        "\n",
        "#### Popcorn Hacks: write this method totalAssign"
      ]
    },
    {
      "cell_type": "code",
      "execution_count": 19,
      "metadata": {
        "vscode": {
          "languageId": "java"
        }
      },
      "outputs": [],
      "source": [
        "public class Assignment{\n",
        "    // next classwork/homework ID is NEXT number of classwork/homework that will be created\n",
        "    private static int nextClassworkID = 1;\n",
        "    private static int nextHomeworkID = 1;\n",
        "    private String name;\n",
        "    private int pointValue;\n",
        "\n",
        "    public static int totalAssign() {\n",
        "        return nextClassworkID + nextHomeworkID -2;\n",
        "    }\n",
        "}"
      ]
    },
    {
      "attachments": {},
      "cell_type": "markdown",
      "metadata": {},
      "source": [
        "#### Multiple Choice Question"
      ]
    },
    {
      "cell_type": "code",
      "execution_count": 15,
      "metadata": {
        "vscode": {
          "languageId": "java"
        }
      },
      "outputs": [],
      "source": [
        "public class Example{\n",
        "    private static int goal = 125;\n",
        "    private int current;\n",
        "\n",
        "    public Example (int c) {\n",
        "        // code segment 1\n",
        "    }\n",
        "    public static void resetGoal (int g) {\n",
        "        // code segment 2\n",
        "    }\n",
        "    // other methods not shown\n",
        "}"
      ]
    },
    {
      "attachments": {},
      "cell_type": "markdown",
      "metadata": {},
      "source": [
        "Which of the following statements is true?\n",
        "1. Code segment 1 can use the variable goal but cannot use the variable current.\n",
        "2. Code segment 1 cannot use the variable goal but can use the variable current.\n",
        "3. **Code segment 2 can use the variable goal but cannot use the variable current.**\n",
        "4. Code segment 2 cannot use the variable goal but can use the variable current.\n",
        "5. Both code segments have access to both variables\n",
        "\n",
        "Question: Which ones can code segment 1 (constructor) use? "
      ]
    },
    {
      "attachments": {},
      "cell_type": "markdown",
      "metadata": {
        "id": "Uli-U5We4wtK"
      },
      "source": [
        "### Static Variables\n",
        "\n",
        "- Define static variables that belong to the class, all object of the class sharing that single static variable (associated with class, NOT objects of class)\n",
        "- Either **public** or **private**\n",
        "- **static** keyword before variable type\n",
        "- used with class name and dot operator\n",
        "\n",
        "#### Multiple Choice Question"
      ]
    },
    {
      "cell_type": "code",
      "execution_count": null,
      "metadata": {
        "vscode": {
          "languageId": "java"
        }
      },
      "outputs": [],
      "source": [
        "public class Example{\n",
        "    private static int goal = 125;\n",
        "    private int current;\n",
        "\n",
        "    public Example (int c) {\n",
        "        // code segment 1\n",
        "    }\n",
        "    public static void resetGoal (int g) {\n",
        "        // code segment 2\n",
        "    }\n",
        "    // other methods not shown\n",
        "}"
      ]
    },
    {
      "attachments": {},
      "cell_type": "markdown",
      "metadata": {},
      "source": [
        "Which of the following statements is true?\n",
        "1. Objects e1 and e2 each have a variable goal and variable current.\n",
        "2. Objects e1 and e2 share the variable goal and share the variable current.\n",
        "3. **Objects e1 and e2 share the variable goal and each have a variable current.**\n",
        "4. Objects e1 and e2 each have a variable goal and share the variable goal and share the variable current.\n",
        "5. The code does not complie because static variables must be public."
      ]
    },
    {
      "attachments": {},
      "cell_type": "markdown",
      "metadata": {},
      "source": [
        "<h2> 5.8 Scope and Access</h2>\n",
        "\n",
        "- Local variables: variables declared in body of constructors and methods, only use within constructor or method, can't be declaed public or private\n",
        "- If local variable named same as instance variable, within that method the local variable will be referred to "
      ]
    },
    {
      "cell_type": "code",
      "execution_count": null,
      "metadata": {
        "vscode": {
          "languageId": "java"
        }
      },
      "outputs": [],
      "source": [
        "public class Bowler{\n",
        "    private int totalPins;\n",
        "    private int games;\n",
        "    \n",
        "    public Bowler(int pins){\n",
        "        totalPins = pins;\n",
        "        games = 3;\n",
        "    }\n",
        "\n",
        "    public void update (int game1, int game2, int game3) {\n",
        "        // local variable here is newPins\n",
        "        int newPins = game1 + game2 + game3;\n",
        "        totalPins += newPins;\n",
        "        games += 3;\n",
        "    }\n",
        "}"
      ]
    },
    {
      "attachments": {},
      "cell_type": "markdown",
      "metadata": {},
      "source": [
        "#### Multiple Choice Question"
      ]
    },
    {
      "cell_type": "code",
      "execution_count": null,
      "metadata": {
        "vscode": {
          "languageId": "java"
        }
      },
      "outputs": [],
      "source": [
        "public class Example{\n",
        "    private int current;\n",
        "    \n",
        "    public Example(int c){\n",
        "        double factor = Math.random();\n",
        "        current = (int)(c * factor);\n",
        "    }\n",
        "\n",
        "    public void rest (int num) {\n",
        "        private double factor = Math.random();\n",
        "        current += (int)(num * factor)\n",
        "    }\n",
        "    \n",
        "    // other methods not shown\n",
        "}"
      ]
    },
    {
      "attachments": {},
      "cell_type": "markdown",
      "metadata": {},
      "source": [
        "Which of the following is the reason this code does not compile?\n",
        "1. The reset method cannot declare a variable named factor since a vriable named factor is declared in the constructor.\n",
        "2. **The reset method cannot declare factor as private since factor is a local variable not an instance variable.**\n",
        "3. The constructor cannot declare a variable named factor since a variable named factor is declared in the reset method. \n",
        "4. The constructor cannot access the isntance variable current since current is private.\n",
        "5. There is no syntax error in this code and it would compile.\n"
      ]
    },
    {
      "attachments": {},
      "cell_type": "markdown",
      "metadata": {
        "id": "Xuj9qtZb4wtK"
      },
      "source": [
        "## 5.9 this Keyword\n",
        "\n",
        "**this keyword** \n",
        "<details>a keyword that essentially refers to the object that is calling the method or the object that the constructor is trying to make</detail>"
      ]
    },
    {
      "attachments": {},
      "cell_type": "markdown",
      "metadata": {},
      "source": [
        "### Can be used 3 Ways:\n",
        "\n",
        "1. **refer to instance variable**  > This will solve the problem of having duplicate variable names. To distinguish the instance and local variables, we use this.variableName for the instance variable and simply variableName for the local variable.\n",
        "\n",
        "2. **parameter** > Sometimes, we can also use the object as a parameter in its own method call to use itself in the method by using objectName.methodName(this).\n",
        "\n",
        "3. **constructor or method call** > Sometimes, we can also use the object as a parameter in its own method call to use itself in the method by using objectName.methodName(this).\n",
        "\n",
        "Using **this()** in a constructor >> Calls the no-arg constructor or the constructor without any parameters of the current class, can also call other constructor that hav parameters by passing correct numb and type of args between parenthesis\n",
        "\n",
        "^^ using **this()** can help you reuse code from one constructor in another\n",
        "\n",
        "**this** in Java >> is limited to current object = only be used to access instance variables and invoke non-static methods"
      ]
    },
    {
      "cell_type": "code",
      "execution_count": null,
      "metadata": {
        "vscode": {
          "languageId": "java"
        }
      },
      "outputs": [],
      "source": [
        "public class Dog {\n",
        "    private String breed;\n",
        "\n",
        "    public String getBreed(){\n",
        "        return breed;\n",
        "    }\n",
        "\n",
        "    public boolean isSameBreed(Dog otherDog){\n",
        "        return         \n",
        "        // breed.equals(otherDog.getBreed());\n",
        "        // this.breed.equals(otherDog.breed);\n",
        "        // **this** makes the code more readable/clear but is not required\n",
        "    }\n",
        "}"
      ]
    },
    {
      "cell_type": "code",
      "execution_count": null,
      "metadata": {
        "vscode": {
          "languageId": "java"
        }
      },
      "outputs": [],
      "source": [
        "public class DogCompetition {\n",
        "\n",
        "    public boolean doBreedMatch (Dog dog1, Dog dog2){\n",
        "        return this.getBreed().equals(dog2.getBreed());\n",
        "        // **this** refers to object which was used to call doBreedsMatch and is a DogCompetition object, not dog object (CANNOT CALL getBreed())\n",
        "        // this.dog1\n",
        "        // dog1 is not data member (parameter) so incorrect\n",
        "        // doBreedMatch doesn't use any data from DogCompetition class no way to use this\n",
        "    }\n",
        "}"
      ]
    },
    {
      "attachments": {},
      "cell_type": "markdown",
      "metadata": {},
      "source": [
        "### Local vs Instance\n",
        "\n",
        "Make the code a little clearer by using the **this** keyword\n",
        "\n",
        "b,a,w,and s aren't meaningful parameters change them into breed, age, weight, and score \n",
        "\n",
        "distinguish the local and instance variables using the **this** keyword"
      ]
    },
    {
      "cell_type": "code",
      "execution_count": null,
      "metadata": {
        "vscode": {
          "languageId": "java"
        }
      },
      "outputs": [],
      "source": [
        "public class Dog {\n",
        "    private String breed;\n",
        "    private int age;\n",
        "    private double weight;\n",
        "    private double score;\n",
        "\n",
        "    public Dog(string breed, int age, double weight, double score){\n",
        "        // 1. make this code a little clearer by using the **this** keyword\n",
        "        // 2. change the parameters into something more meaningful\n",
        "        // 3. distinguish local vs instance variables using **this** keyword\n",
        "        this.breed = breed;\n",
        "        this.age = age;\n",
        "        this.weight = weight;\n",
        "        this.score = score;\n",
        "    }\n",
        "}"
      ]
    },
    {
      "attachments": {},
      "cell_type": "markdown",
      "metadata": {},
      "source": [
        "### HACKS\n",
        "\n",
        "1. what does using **this()** in a constructor mean in your own words\n",
        "- Using **this()** refers to the class/object itself."
      ]
    },
    {
      "attachments": {},
      "cell_type": "markdown",
      "metadata": {
        "id": "Bp-8clf74wtK"
      },
      "source": [
        "## 5.10 Ethical and Social Implications of Computing Systems\n",
        "\n",
        "### Impacts\n",
        "\n",
        "Programming affects the world in many ways, such as socially, economically, and culturally. For instance, not everyone has the same access to technology and computer programs, which creates social inequalities. Some people can use technology, while others can't. **Digital Divide**\n",
        "\n",
        "The global economy relies heavily on technology and computer programs, especially in areas like stock trading and economic predictions. Programming and technology have also made the world more connected, allowing different cultures to mix and making it easier for people to communicate globally. However, this has also created a gap between generations, with younger people having more exposure to digital technology than older generations.\n",
        "\n",
        "**These impacts on society, the economy, and culture can be both good and bad.**\n",
        "\n",
        "### System Reliability\n",
        "\n",
        "When programmers create software, they need to consider how reliable the system is. Different devices can perform the same task at varying speeds and in different ways. Each system may have security issues that hackers can exploit.\n",
        "\n",
        "To make systems more reliable, programmers need to fix any bugs as soon as they find them. These fixes are then released to users as updates or patches to ensure that computers can be used safely and correctly.\n",
        "\n",
        "### Intellectual Property\n",
        "\n",
        "Usually, when people create programs on the internet, they own them. However, open source programs blur this line. In open source programs, anyone can make improvements to the code if the program owner allows it.\n",
        "\n",
        "Licensing and access also play a role in letting others adapt and build on existing code to create their own programs. There are different types of licenses, like Creative Commons and MIT License, each serving different purposes.\n",
        "\n",
        "Here is an [article](https://docs.github.com/en/communities/setting-up-your-project-for-healthy-contributions/adding-a-license-to-a-repository) on how to add a license on your Repository\n",
        "\n",
        "### HACKS\n",
        "\n",
        "As a team decide what license you want and add it to your repository (add a screenshot of it in your team ticket)"
      ]
    }
  ],
  "metadata": {
    "colab": {
      "provenance": []
    },
    "kernelspec": {
      "display_name": "java",
      "language": "java",
      "name": "java"
    },
    "language_info": {
      "codemirror_mode": "java",
      "file_extension": ".jshell",
      "mimetype": "text/x-java-source",
      "name": "Java",
      "pygments_lexer": "java",
      "version": "11.0.20.1+1-post-Ubuntu-0ubuntu120.04"
    }
  },
  "nbformat": 4,
  "nbformat_minor": 0
}
