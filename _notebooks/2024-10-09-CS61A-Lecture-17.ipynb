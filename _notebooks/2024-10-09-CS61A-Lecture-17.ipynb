{
 "cells": [
  {
   "cell_type": "markdown",
   "metadata": {},
   "source": [
    "---\n",
    "- title: \"'CS61A: Lecture 17'\"\n",
    "- author: alex\n",
    "- badges: true\n",
    "- comments: true\n",
    "- categories: [CS61A]\n",
    "- date: 2024-10-09 6:00:00 -0800\n",
    "- math: true\n",
    "- tags: [CS61A, objects]\n",
    "---"
   ]
  },
  {
   "cell_type": "markdown",
   "metadata": {},
   "source": [
    "# Objects\n",
    "## Review - Mutability\n",
    "- What would be the final values of the names defined within this code segment?"
   ]
  },
  {
   "cell_type": "code",
   "execution_count": 9,
   "metadata": {},
   "outputs": [
    {
     "data": {
      "text/plain": [
       "[2022, 10]"
      ]
     },
     "execution_count": 9,
     "metadata": {},
     "output_type": "execute_result"
    }
   ],
   "source": [
    "def func1(lst1):\n",
    "    lst1 = lst1[0:-1]\n",
    "    return lambda lst: lst + lst1\n",
    "\n",
    "def func2(lst1):\n",
    "    lst1[0] = lst1.pop()\n",
    "\n",
    "lst1 = [1, 19, 2022]\n",
    "lst2 = [5, 10, 2022]\n",
    "\n",
    "res1 = func1(lst1)\n",
    "res2 = res1(lst2)\n",
    "res3 = func2(lst2)\n",
    "\n",
    "# lst1 = [1, 19, 2022]\n",
    "# lst2 = [2022, 10]\n",
    "# res1 = lambda\n",
    "# res2 =  [5, 10, 2022, 1, 19]\n",
    "# res3 = None"
   ]
  },
  {
   "cell_type": "markdown",
   "metadata": {},
   "source": [
    "- Arithmetic operators do not mutate the list, but rather returns a new list. If we wanted to mutate the original list to add new elements, use extend.\n",
    "\n",
    "# Class Statements\n",
    "- A class describes the behavior of its instances\n",
    "    - Ex: All bank accounts have a balance and an account holder; the Account class should add those attributes to each newly created instance.\n",
    "- The class is a blueprint for creating objects/instances of that class.\n",
    "    - Every class has attributes and methods.\n",
    "    - Attributes are like variables, they store information.\n",
    "    - Methods are like functions, they perform operations to the Object.\n",
    "    - We access attributes and metjods using the dot notation.\n",
    "\n",
    "## The Account Class\n",
    "- The keyword \"self\" refers to the instance of the class itself.\n",
    "- The `__init__` method is a special method name for the function that constructs an Account instance.\n",
    "- The Class can be thought of as a new type of an object.\n",
    "    - Everything in python belongs to a class\n",
    "- Methods that include the self arguemnt are instance methods, without self, they are NOT instance methods and do not affect the contents of each instance.\n",
    "- Other than instance attributes, we may also have class variables that can be accessed freely.\n",
    "    - With self: instance\n",
    "    - Without self: class"
   ]
  },
  {
   "cell_type": "code",
   "execution_count": 27,
   "metadata": {},
   "outputs": [
    {
     "name": "stdout",
     "output_type": "stream",
     "text": [
      "30000\n",
      "30000\n"
     ]
    }
   ],
   "source": [
    "class Account:\n",
    "    company = \"CS61A Bank\" # This is a class variable\n",
    "    def __init__(self, account_holder):\n",
    "        self.balance = 0 # This is an instance variable\n",
    "        self.holder = account_holder\n",
    "    \n",
    "    def deposit(self, ammount): # This is an instance method\n",
    "        self.balance = self.balance + ammount\n",
    "        return self.balance\n",
    "    \n",
    "    def withdraw(self, amount):\n",
    "        if amount > self.balance:\n",
    "            return \"Insufficient funds\"\n",
    "        self.balance = self.balance - amount\n",
    "        return self.balance\n",
    "    \n",
    "    def foo(x): # This is a class method\n",
    "        return Account.company\n",
    "    \n",
    "    def transfer(self, into, amount):\n",
    "        result = self.withdraw(amount)\n",
    "        if type(result) == str:\n",
    "            return result\n",
    "        else:\n",
    "            into.deposit(amount)\n",
    "            return \"Transfer Successful\"\n",
    "\n",
    "a = Account(\"Alex\")\n",
    "a.deposit(50000)\n",
    "\n",
    "b = Account(\"Bobby\")\n",
    "b.deposit(10000)\n",
    "\n",
    "a.transfer(b, 20000)\n",
    "print(a.balance) # 30000\n",
    "print(b.balance) # 30000"
   ]
  }
 ],
 "metadata": {
  "kernelspec": {
   "display_name": "Python 3",
   "language": "python",
   "name": "python3"
  },
  "language_info": {
   "codemirror_mode": {
    "name": "ipython",
    "version": 3
   },
   "file_extension": ".py",
   "mimetype": "text/x-python",
   "name": "python",
   "nbconvert_exporter": "python",
   "pygments_lexer": "ipython3",
   "version": "3.10.12"
  }
 },
 "nbformat": 4,
 "nbformat_minor": 2
}
