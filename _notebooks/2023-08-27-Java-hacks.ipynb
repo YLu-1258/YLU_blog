{
 "cells": [
  {
   "cell_type": "markdown",
   "metadata": {},
   "source": [
    "---\n",
    "- title: Week 1 Java hacks\n",
    "- description: What are the aspects of a class? What does the static keyword do in java?\n",
    "- author: alex\n",
    "- badges: true\n",
    "- comments: true\n",
    "- week: 1\n",
    "- categories: [Java, hacks]\n",
    "- date: 2023-08-27 08:48:00 -0800\n",
    "- tags: [notebooks, java, hacks, OOP]\n",
    "- render_with_liquid: false\n",
    "- type: hacks\n",
    "---"
   ]
  },
  {
   "cell_type": "markdown",
   "metadata": {},
   "source": [
    "# Java Class\n",
    "Below are the different aspects of a Java class\n",
    "![Java Class Anatomy](/assets/img/hacks/anatomy_of_a_class.png)\n",
    "\n",
    "## Java Hello Hacks\n",
    "Build your own Jupyter Notebook meeting these College Board and CTE competencies.  It is critical to understand Static versus Instance Now, this is College Board requirement!!!\n",
    "- Explain Anatomy of a Class in comments of program (Diagram key parts of the class).\n",
    "- Comment in code where there is a definition of a Class and an instance of a Class (ie object)\n",
    "- Comment in code where there are constructors and highlight the signature difference in the signature\n",
    "- Call an object method with parameter (ie setters).\n",
    "\n",
    "\n",
    "Additional requirements (Pick something)\n",
    "1. Go through code progression of understanding Class usage and generating an Instance of a Class (Object).  \n",
    "    a. Build a purposeful dynamic Class, using an Object, generate multiple instances:  \n",
    "            - Person: Name and Age  \n",
    "            - Dessert: Type and Cost  \n",
    "            - Location: City, State, Zip  \n",
    "    b. Create a static void main tester method to generate objects of the class.  \n",
    "    c. In tester method, show how setters/mutators can be used to make the data in the Object dynamically change"
   ]
  },
  {
   "cell_type": "markdown",
   "metadata": {},
   "source": [
    "### Java Object class\n",
    "Here, in this class, I attempt to create a blueprint of all three object, ten create subclasses inheriting from the main class, while using static methods."
   ]
  },
  {
   "cell_type": "code",
   "execution_count": 19,
   "metadata": {},
   "outputs": [
    {
     "name": "stdout",
     "output_type": "stream",
     "text": [
      "I am just an object\n",
      "I am just another obect!\n"
     ]
    }
   ],
   "source": [
    "public class Object{ // This is the class declaration\n",
    "    private String name; // Here is a private attribute \"name\". Other classes and methods cannot access this attribute \n",
    "    Object () { // Here is a constructor taking 0 parameters\n",
    "        this.set_name(\"I am just an object\"); // We use the setters to set the private attribute\n",
    "    }\n",
    "    Object (String N) { // Here is a constructor taking 1 parameter\n",
    "        this.set_name(N); // We use the setters to set the private attribute\n",
    "    }\n",
    "\n",
    "    public void set_name(String N) {\n",
    "        this.name = N;\n",
    "    }\n",
    "    public String get_name(){\n",
    "        return this.name;\n",
    "    }\n",
    "\n",
    "    public static void main(String[] args) {\n",
    "        // Here, both obj1 and obj2 are instances of the class Object\n",
    "        Object obj1 = new Object(); \n",
    "        Object obj2 = new Object(\"I am just another obect!\");\n",
    "        System.out.println(obj1.get_name());\n",
    "        System.out.println(obj2.get_name());\n",
    "    }\n",
    "}\n",
    "\n",
    "Object.main(null);"
   ]
  },
  {
   "cell_type": "markdown",
   "metadata": {},
   "source": [
    "Here in the class, we could've used used the `protected` keyword to denote the name, This allows us to access the same variable in any subclasses that we have, if need be. In this case, we did not need to use the keyword since we had setters and getters. But if we have a subclass of a subclass, we would have to use these protected attributes."
   ]
  },
  {
   "cell_type": "markdown",
   "metadata": {},
   "source": [
    "### Person Class\n",
    "Now, for the example of the person class, we extend from Object and create our other attributes"
   ]
  },
  {
   "cell_type": "code",
   "execution_count": 23,
   "metadata": {},
   "outputs": [
    {
     "name": "stdout",
     "output_type": "stream",
     "text": [
      "Alexander: 16\n",
      "I am just an object: 16\n",
      "Ethan: 0\n",
      "David: 17\n"
     ]
    }
   ],
   "source": [
    "public class Person extends Object {\n",
    "    private int age;\n",
    "    Person () {\n",
    "        this.set_age(16);\n",
    "        this.set_name(\"Alexander\");\n",
    "    }\n",
    "    Person (int A) {\n",
    "        this.set_age(A);\n",
    "    }\n",
    "    Person (String N) {\n",
    "        this.set_name(N);\n",
    "    }\n",
    "    Person (String N, int A) {\n",
    "        this.set_age(A);\n",
    "        this.set_name(N);\n",
    "    }\n",
    "    public void set_age(int A) {\n",
    "        this.age = A;\n",
    "    }\n",
    "    public int get_age(){\n",
    "        return this.age;\n",
    "    }\n",
    "    public static void main(String[] args){\n",
    "        Person p1 = new Person();\n",
    "        Person p2 = new Person(16);\n",
    "        Person p3 = new Person(\"Ethan\");\n",
    "        Person p4 = new Person(\"David\", 17);\n",
    "        System.out.println(p1.get_name() + \": \" + p1.get_age());\n",
    "        System.out.println(p2.get_name() + \": \" + p2.get_age());\n",
    "        System.out.println(p3.get_name() + \": \" + p3.get_age());\n",
    "        System.out.println(p4.get_name() + \": \" + p4.get_age());\n",
    "    }\n",
    "}\n",
    "Person.main(null);"
   ]
  },
  {
   "cell_type": "markdown",
   "metadata": {},
   "source": [
    "Note that from above, when we didn't explicitly specify the values for an attribute, it ran the default constructors in the parent class `Object` instead.\n",
    "\n",
    "### The other classes\n",
    "For the other desert and location classes, we can just repeat what we did for the Person class."
   ]
  },
  {
   "cell_type": "code",
   "execution_count": 24,
   "metadata": {},
   "outputs": [
    {
     "name": "stdout",
     "output_type": "stream",
     "text": [
      "Chocolate Cake: $15.99\n",
      "I am just an object: $19.99\n",
      "Cheesecake: $0.0\n",
      "Donut: $2.99\n"
     ]
    }
   ],
   "source": [
    "public class Dessert extends Object {\n",
    "    private double cost;\n",
    "    Dessert () {\n",
    "        this.set_cost(15.99);\n",
    "        this.set_name(\"Chocolate Cake\");\n",
    "    }\n",
    "    Dessert (double C) {\n",
    "        this.set_cost(C);\n",
    "    }\n",
    "    Dessert (String N) {\n",
    "        this.set_name(N);\n",
    "    }\n",
    "    Dessert (String N, double C) {\n",
    "        this.set_cost(C);\n",
    "        this.set_name(N);\n",
    "    }\n",
    "    public void set_cost(double C) {\n",
    "        this.cost = C;\n",
    "    }\n",
    "    public double get_cost(){\n",
    "        return this.cost;\n",
    "    }\n",
    "    public static void main(String[] args){\n",
    "        Dessert d1 = new Dessert();\n",
    "        Dessert d2 = new Dessert(19.99);\n",
    "        Dessert d3 = new Dessert(\"Cheesecake\");\n",
    "        Dessert d4 = new Dessert(\"Donut\", 2.99);\n",
    "        System.out.println(d1.get_name() + \": $\" + d1.get_cost());\n",
    "        System.out.println(d2.get_name() + \": $\" + d2.get_cost());\n",
    "        System.out.println(d3.get_name() + \": $\" + d3.get_cost());\n",
    "        System.out.println(d4.get_name() + \": $\" + d4.get_cost());\n",
    "    }\n",
    "}\n",
    "Dessert.main(null);"
   ]
  },
  {
   "cell_type": "markdown",
   "metadata": {},
   "source": [
    "And now for the `Locations` class"
   ]
  },
  {
   "cell_type": "code",
   "execution_count": 35,
   "metadata": {},
   "outputs": [
    {
     "name": "stdout",
     "output_type": "stream",
     "text": [
      "92127, San Diego, CA\n",
      "15227, Pittsburgh, PA\n",
      "Modified location 2: 78652, Austin, TX\n"
     ]
    }
   ],
   "source": [
    "public class Location extends Object {\n",
    "    private int zip;\n",
    "    private String state;\n",
    "    Location () {\n",
    "        this.set_name(\"San Diego\");\n",
    "        this.set_zip(92127);\n",
    "        this.set_state(\"CA\");\n",
    "    }\n",
    "    Location (String N, int Z, String S) {\n",
    "        this.set_name(N);\n",
    "        this.set_zip(Z);\n",
    "        this.set_state(S);\n",
    "    }\n",
    "    public void set_zip(int Z) {\n",
    "        this.zip = Z;\n",
    "    }\n",
    "    public void set_state(String S) {\n",
    "        this.state = S;\n",
    "    }\n",
    "    public int get_zip(){\n",
    "        return this.zip;\n",
    "    }\n",
    "    public String get_state(){\n",
    "        return this.state;\n",
    "    }\n",
    "    public static void main(String[] args){\n",
    "        Location loc1 = new Location();\n",
    "        Location loc2 = new Location(\"Pittsburgh\", 15227, \"PA\");\n",
    "        System.out.println(loc1.get_zip() + \", \" + loc1.get_name() + \", \" + loc1.get_state());\n",
    "        System.out.println(loc2.get_zip() + \", \" + loc2.get_name() + \", \" + loc2.get_state());\n",
    "        loc2.set_name(\"Austin\");\n",
    "        loc2.set_zip(78652);\n",
    "        loc2.set_state(\"TX\");\n",
    "        System.out.println(\"Modified location 2: \" + loc2.get_zip() + \", \" + loc2.get_name() + \", \" + loc2.get_state());\n",
    "    }\n",
    "}\n",
    "Location.main(null);"
   ]
  },
  {
   "cell_type": "markdown",
   "metadata": {},
   "source": [
    "## Java Console Games\n",
    "In this notebook, I will be trying to optimize and organize the code for the java console games. Upon seeing this problem, I got an idea to seperate the individual game functions all into their individual classes. This way, I could then define static methods within them to start playing games. These static methods would be shared by all members of the class, and I wouldn't need to initialize a new object just to use them.   "
   ]
  },
  {
   "cell_type": "markdown",
   "metadata": {},
   "source": [
    "However, first we need to import some libraries that we need."
   ]
  },
  {
   "cell_type": "code",
   "execution_count": 3,
   "metadata": {},
   "outputs": [],
   "source": [
    "import java.util.Scanner; //library for user input\n",
    "import java.lang.Math; //library for random numbers"
   ]
  },
  {
   "cell_type": "markdown",
   "metadata": {},
   "source": [
    "Now, let's work on a menu for our game, let's try using a recursive method."
   ]
  },
  {
   "cell_type": "code",
   "execution_count": 8,
   "metadata": {},
   "outputs": [
    {
     "name": "stdout",
     "output_type": "stream",
     "text": [
      "\u001b[45m\u001b[97m___________________________\n",
      "|~~~~~~~~~~~~~~~~~~~~~~~~~|\n",
      "|          Menu!          |\n",
      "|~~~~~~~~~~~~~~~~~~~~~~~~~|\n",
      "| \u001b[91m0 - Exit\u001b[97m                |\n",
      "| \u001b[92m1 - Rock Paper Scissors\u001b[97m |\n",
      "| \u001b[93m2 - Higher or Lower\u001b[97m     |\n",
      "| \u001b[96m3 - Tic Tac Toe\u001b[97m         |\n",
      "|_________________________|\u001b[0m\n",
      "\n",
      "Choose an option.\n",
      "\n",
      "Current Wins: 2\n",
      "2: Playing higher or lower\n",
      "In Higher-or-lower, the game will give you a random number (1-10) to guess within 3 tries\n",
      "Please Guess a number (1-10)\n",
      "Too low!\n",
      "Please Guess a number (1-10)\n",
      "Too low!\n",
      "Please Guess a number (1-10)\n",
      "You got it! Nice job!\n"
     ]
    }
   ],
   "source": [
    "public class Game {\n",
    "    private static int wins = 0;\n",
    "    private static Scanner sc = new Scanner(System.in);\n",
    "    private static boolean quit = false;\n",
    "\n",
    "    public static void game_loop() {\n",
    "        menu_string();\n",
    "        System.out.println(\"Current Wins: \" + wins);\n",
    "        try {\n",
    "            int choice = sc.nextInt();\n",
    "            System.out.print(\"\" + choice + \": \");\n",
    "            game_selection(choice);\n",
    "            if (quit) {\n",
    "                return ;\n",
    "            }\n",
    "        } catch (Exception e) {\n",
    "            sc.nextLine();\n",
    "            System.out.println(e + \": Not a number, try again.\");\n",
    "        }\n",
    "        game_loop();\n",
    "    }\n",
    "    public static void game_selection(int choice) {\n",
    "        switch (choice) {\n",
    "            case 0:\n",
    "                System.out.println(\"Goodbye, hope you had fun\");\n",
    "                quit = true;\n",
    "                break;\n",
    "            case 1:\n",
    "                System.out.println(\"Playing rock paper scissors\");\n",
    "                break;\n",
    "            case 2:\n",
    "                System.out.println(\"Playing higher or lower\");\n",
    "                boolean result = HORL.main(null);\n",
    "                if (result) {\n",
    "                    wins = wins + 1;\n",
    "                }\n",
    "                break;\n",
    "            case 3:\n",
    "                System.out.println(\"Playing tic tac toe\");\n",
    "                break;\n",
    "            default:\n",
    "                System.out.println(\"Invalid choice, try again\");\n",
    "                break;\n",
    "                \n",
    "        }\n",
    "\n",
    "    }\n",
    "\n",
    "    public static void menu_string(){\n",
    "        String menuText = \"\"\n",
    "                + \"\\033[45m\\033[97m___________________________\\n\"  \n",
    "                + \"|~~~~~~~~~~~~~~~~~~~~~~~~~|\\n\"\n",
    "                + \"|          Menu!          |\\n\"\n",
    "                + \"|~~~~~~~~~~~~~~~~~~~~~~~~~|\\n\"\n",
    "                + \"| \\033[91m0 - Exit\\033[97m                |\\n\"    \n",
    "                + \"| \\033[92m1 - Rock Paper Scissors\\033[97m |\\n\"\n",
    "                + \"| \\033[93m2 - Higher or Lower\\033[97m     |\\n\"\n",
    "                + \"| \\033[96m3 - Tic Tac Toe\\033[97m         |\\n\"\n",
    "                + \"|_________________________|\\u001B[0m\\n\"\n",
    "                + \"\\n\"\n",
    "                + \"Choose an option.\\n\"\n",
    "                ;\n",
    "        System.out.println(menuText);\n",
    "    }\n",
    "}\n",
    "\n",
    "Game.game_loop();"
   ]
  },
  {
   "cell_type": "markdown",
   "metadata": {},
   "source": [
    "## "
   ]
  },
  {
   "cell_type": "markdown",
   "metadata": {},
   "source": [
    "Now that we have gotten our menu to work recursively, we could work on optmizing our game."
   ]
  },
  {
   "cell_type": "code",
   "execution_count": 1,
   "metadata": {},
   "outputs": [],
   "source": [
    "public class GameObject {\n",
    "    protected static Scanner sc = new Scanner(System.in);\n",
    "    protected static boolean game_win = false;\n",
    "    protected static Random random = new Random();\n",
    "}"
   ]
  },
  {
   "cell_type": "markdown",
   "metadata": {},
   "source": [
    "Here is the code for my implementation of the \"Higher or Lower game\". As you can see, the implementation creates a seperate class for the game which inherits certain attributes from `GameObject`. "
   ]
  },
  {
   "cell_type": "code",
   "execution_count": 7,
   "metadata": {},
   "outputs": [],
   "source": [
    "public class HORL extends GameObject {\n",
    "    public static boolean main(String args[]) {\n",
    "        System.out.println(\"In Higher-or-lower, the game will give you a random number (1-10) to guess within 3 tries\");\n",
    "        int answer = random.nextInt(10)+1;\n",
    "        for (int i = 0; i < 3; i++) {\n",
    "            System.out.println(\"Please Guess a number (1-10)\");\n",
    "            int guess = sc.nextInt();\n",
    "            assert (guess <= 10 && guess >= 0) : \"GUESS IN INVALID RANGE\";\n",
    "            if (guess == answer) {\n",
    "                System.out.println(\"You got it! Nice job!\");\n",
    "                game_win = true;\n",
    "                return game_win;\n",
    "            } else if (guess > answer) {\n",
    "                System.out.println(\"Too high!\");\n",
    "            } else {\n",
    "                System.out.println(\"Too low!\");\n",
    "            }\n",
    "        }\n",
    "        game_win = false;\n",
    "        return game_win;\n",
    "    }\n",
    "}"
   ]
  }
 ],
 "metadata": {
  "kernelspec": {
   "display_name": "java",
   "language": "java",
   "name": "java"
  },
  "language_info": {
   "codemirror_mode": "java",
   "file_extension": ".jshell",
   "mimetype": "text/x-java-source",
   "name": "java",
   "pygments_lexer": "java",
   "version": "11.0.20+8-post-Ubuntu-1ubuntu120.04"
  },
  "orig_nbformat": 4
 },
 "nbformat": 4,
 "nbformat_minor": 2
}
