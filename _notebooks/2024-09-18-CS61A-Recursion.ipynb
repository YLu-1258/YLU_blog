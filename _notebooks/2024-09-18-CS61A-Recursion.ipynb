{
 "cells": [
  {
   "cell_type": "markdown",
   "metadata": {},
   "source": [
    "---\n",
    "- title: \"'CS61A: Recursion'\"\n",
    "- author: alex\n",
    "- badges: true\n",
    "- comments: true\n",
    "- categories: [CS61A]\n",
    "- date: 2024-09-18 6:00:00 -0800\n",
    "- math: true\n",
    "- tags: [CS61A, functions, recursion, environment diagrams]\n",
    "---"
   ]
  },
  {
   "cell_type": "markdown",
   "metadata": {},
   "source": [
    "# Self-Reference\n",
    "- In environments, functions may refer to their own name within the body (how environments are designed to be)"
   ]
  },
  {
   "cell_type": "code",
   "execution_count": 9,
   "metadata": {},
   "outputs": [
    {
     "name": "stdout",
     "output_type": "stream",
     "text": [
      "1\n",
      "2\n",
      "3\n"
     ]
    },
    {
     "data": {
      "text/plain": [
       "<function __main__.print_all(x)>"
      ]
     },
     "execution_count": 9,
     "metadata": {},
     "output_type": "execute_result"
    }
   ],
   "source": [
    "def print_all(x):\n",
    "    print(x)\n",
    "    return print_all # Doesn't call itself\n",
    "\n",
    "print_all(1)(2)(3)"
   ]
  },
  {
   "cell_type": "markdown",
   "metadata": {},
   "source": [
    "- Whenever a function calls itself within its body, it creates a new frame of that function.\n",
    "    - If print_all did call itself with an argument instead of returning itself, then we would run forever, (or hit maximum recursion depth)"
   ]
  },
  {
   "cell_type": "code",
   "execution_count": 10,
   "metadata": {},
   "outputs": [
    {
     "name": "stdout",
     "output_type": "stream",
     "text": [
      "1\n",
      "3\n",
      "8\n",
      "15\n"
     ]
    },
    {
     "data": {
      "text/plain": [
       "<function __main__.print_sums.<locals>.next_sum(y)>"
      ]
     },
     "execution_count": 10,
     "metadata": {},
     "output_type": "execute_result"
    }
   ],
   "source": [
    "def print_sums(x):\n",
    "    print(x)\n",
    "    def next_sum(y):\n",
    "        return print_sums(x+y)\n",
    "    return next_sum\n",
    "\n",
    "print_sums(1)(2)(5)(7)"
   ]
  },
  {
   "cell_type": "markdown",
   "metadata": {},
   "source": [
    "- Interestingly, in the above example, recursive calls may also be defined within nested functions. `next_sum` is the function doing the recursion.\n",
    "    - What I think: This technique is useful for doing mult-line operations on a function's previous argument before the recursive call is executed.\n",
    "    - Also, using a nested statement allows us to memorize the previous arguments in recursion. The function that is returned has a reference to the previous frame in which it is defined.\n",
    "- The first call in `print_sums(1)(2)(3)`, that is, `print_sums(1)` is a call to `print_sums` itself. The other two calls, that is, `(2)(3)` are called on the function that `print_sums` returns, which isn't necessarily itself, but rather a nested function `next_sum` that does preprocessing before calling `print_sums` itself."
   ]
  },
  {
   "cell_type": "markdown",
   "metadata": {},
   "source": [
    "# Recursive Functions\n",
    "- **Definition**: A function is recursive if the body of the function calls itself, whether it be directly or indirectly (through an nested function)\n",
    "- **Implication**: Executing the body of a recursive may require applying that function again. Depending on the input arguments."
   ]
  },
  {
   "cell_type": "markdown",
   "metadata": {},
   "source": [
    "## Digit Sums\n",
    "- Sums of the digit 2013 is 2+0+1+3 = 6.\n",
    "- For any given number `a`, if `a` is divisible by 9, then `digit_sum(a)` is also divisible by 9.\n",
    "    - Usecase: Typo detection. The 16th digit, the checksum number, is not part of the account number, but instead computed from the other digits. If the checksum digit does not match the computation (Luhn algorithm) of the other digits, then the card number is invalid. \n",
    "\n",
    "## Sum Digits Without a While Statement"
   ]
  },
  {
   "cell_type": "code",
   "execution_count": 11,
   "metadata": {},
   "outputs": [
    {
     "data": {
      "text/plain": [
       "8"
      ]
     },
     "execution_count": 11,
     "metadata": {},
     "output_type": "execute_result"
    }
   ],
   "source": [
    "def split(n):\n",
    "    \"\"\"Split positive n into all but its last digit and its last digit.\"\"\"\n",
    "    return n // 10, n % 10\n",
    "\n",
    "def sum_digits(n):\n",
    "    \"\"\"Return the sum of the digits of positive integer n.\"\"\"\n",
    "    if n < 10:\n",
    "        return n\n",
    "    else:\n",
    "        all_but_last, last = split(n)\n",
    "        return sum_digits(all_but_last) + last\n",
    "    \n",
    "sum_digits(2024)"
   ]
  },
  {
   "cell_type": "markdown",
   "metadata": {},
   "source": [
    "### Anatomy of a Resursive Function\n",
    "- **def statement header** still binds the function to its intrinsic name\n",
    "- Conditional statements exist within the function to check for **base cases**, or where the function should stop recursing to prevent infinite recursion.\n",
    "    - Base cases are trivial/simple cases to solve.\n",
    "- Base cases are evluated <mark>without recursive calls</mark> and can be computed directly.\n",
    "- If the input is complex (not a base case), then it is a recursive case that is evaluated with <mark>recursive calls</mark>."
   ]
  },
  {
   "cell_type": "markdown",
   "metadata": {},
   "source": [
    "# Recursion in Environment Diagrams\n",
    "- Implement the factorial function:"
   ]
  },
  {
   "cell_type": "code",
   "execution_count": 12,
   "metadata": {},
   "outputs": [
    {
     "data": {
      "text/plain": [
       "6"
      ]
     },
     "execution_count": 12,
     "metadata": {},
     "output_type": "execute_result"
    }
   ],
   "source": [
    "def fact(n):\n",
    "    if n == 0:\n",
    "        return 1\n",
    "    else:\n",
    "        return n * fact(n-1)\n",
    "\n",
    "fact(3)"
   ]
  },
  {
   "cell_type": "markdown",
   "metadata": {},
   "source": [
    "- Environmental Diagram:  \n",
    "![image.png](/assets/img/CS61A/Recursion_Environmental/FactEnvDiagram.png)\n",
    "- With every recursive call, we open up a new frame.\n",
    "- When the return statement is called, we take the value back with us to the line in the frame of our program where the function was executed.\n",
    "- The return value is then used in the computation of the return value of the function above the returned function in the recursion tree.\n",
    "- Properties of recursion in environmental diagramsL\n",
    "    - The same function is called multiple times\n",
    "    - Different frames keep track of the different arguments with each call.\n",
    "    - What n evaluates to depends on the current environment.\n",
    "    - Every call of fact solves a simpler computational problem than the last call: which in this case is a smaller value of n.\n",
    "        - **THIS IS AT THE CORE OF DIVIDE AND CONQUER ALGORITHMS!!!**"
   ]
  },
  {
   "cell_type": "markdown",
   "metadata": {},
   "source": [
    "## Iteration vs Recursion\n",
    "- Iteration is a special case of recursion"
   ]
  },
  {
   "cell_type": "code",
   "execution_count": 13,
   "metadata": {},
   "outputs": [
    {
     "data": {
      "text/plain": [
       "True"
      ]
     },
     "execution_count": 13,
     "metadata": {},
     "output_type": "execute_result"
    }
   ],
   "source": [
    "def fact_iter(n):\n",
    "    total, k = 1, 1\n",
    "    while k <= n:\n",
    "        total, k = total*k, k+1\n",
    "    return total\n",
    "\n",
    "def fact(n):\n",
    "    if n == 0:\n",
    "        return 1\n",
    "    else:\n",
    "        return n * fact(n-1)\n",
    "    \n",
    "fact_iter(4) == fact(4)"
   ]
  },
  {
   "cell_type": "markdown",
   "metadata": {},
   "source": [
    "- The code with recursion makes much more intuitive and logical sense. It has a shorter implementation that clearly marks out what each step of recursion does.\n",
    "- Mathematically:\n",
    "    - Iteration: $$ n! = \\prod_{k=1}^{n}k $$\n",
    "    - Recursion: $$ n! = \\left\\{ \\begin{array}{cl}\n",
    "1 & : \\ \\text{if } n = 0 \\\\\n",
    "n \\cdot (n-1)! & : \\ \\text{otherwise}\n",
    "\\end{array} \\right. $$\n",
    "    - Both definition produces the same result, jsut the iteration includs extra machinery to keep track of the total.\n",
    "        - The complexity is much lower in recursion, as the number of names are much less as our current values are kept tracked by the frames and environmental diagram  \n",
    "\n",
    "# Verifying Recursive Functions\n",
    "- The Recursive Leap of Faith\n",
    "    - We must trust if our recursion works properly, and there are steps to help with that:\n",
    "        1) Verify the base case.\n",
    "        2) Treat the function as a functional abstraction. Do not care about implementation, just what it is supposed to do.\n",
    "        3) Assume that `recursive_function(next_case)` is correct (function is correctly defined for simpler case in recursive calls)\n",
    "        4) Confirm that `recursive_function(n)` is correct based on our assumption that `recursive_function(next_case)` is correct\n",
    "    - The method above is very similar to inductive proofs!\n",
    "\n",
    "# Mutual Recursion\n",
    "- Two different functions call each other\n",
    "\n",
    "## The Luhn Algorithm\n",
    "- Used to verify the checksum of credit cart numbers\n",
    "    1. From the right most digit, which is the check digit, moving left, double the value of every second digit; if product of this doubling operation is greater than 9 (e.g., 7 * 2 = 14), then sum the digits of the products (e.g., 10: 1 + 0 = 1, 14: 1 + 4 = 5).  \n",
    "    2. Take the sum of all the digits\n",
    "        - Ex: [1, 3, 8, 7, 4, 3] -> [2,3,16,7,8,3] -> [2,3,7,7,8,3] -> sum([2,3,7,7,8,3]) = 30 \n",
    "    3. The Luhn sum of a valid credit card number is a multiple of 10.\n"
   ]
  },
  {
   "cell_type": "code",
   "execution_count": 14,
   "metadata": {},
   "outputs": [
    {
     "data": {
      "text/plain": [
       "70"
      ]
     },
     "execution_count": 14,
     "metadata": {},
     "output_type": "execute_result"
    }
   ],
   "source": [
    "def luhn_sum(n):\n",
    "    if n < 10:\n",
    "        return n\n",
    "    else:\n",
    "        all_but_last, last = split(n)\n",
    "        return luhn_sum_double(all_but_last) + last\n",
    "\n",
    "def luhn_sum_double(n):\n",
    "    all_but_last, last = split(n)\n",
    "    luhn_digit = sum_digits(2 * last)\n",
    "    if n < 10:\n",
    "        return luhn_digit\n",
    "    else:\n",
    "        return luhn_sum(all_but_last) + luhn_digit \n",
    "    \n",
    "luhn_sum(4833160288226712)"
   ]
  },
  {
   "cell_type": "markdown",
   "metadata": {},
   "source": [
    "- The implementation of `luhn_sum` and `luhn_sum_double` above is an example of mutual recursion where two functions are calling each other.\n",
    "    - In this case, base cases already exist in both functions."
   ]
  },
  {
   "cell_type": "markdown",
   "metadata": {},
   "source": [
    "# Converting Recursion to Iteration... and Back Again\n",
    "- Iteration is a special case of recursion\n",
    "    - Figure out what state must be maintained by the iterative function at each stage of iteration.\n",
    "- The reverse could also work for converting iteration to recursion\n",
    "    - The state of each iteration can be passed as arguments\n",
    "    - The state in `sum_digits_iter` is `n`, which represents the remaining digits in our calculation. \n",
    "    "
   ]
  },
  {
   "cell_type": "code",
   "execution_count": 16,
   "metadata": {},
   "outputs": [
    {
     "data": {
      "text/plain": [
       "True"
      ]
     },
     "execution_count": 16,
     "metadata": {},
     "output_type": "execute_result"
    }
   ],
   "source": [
    "def sum_digits(n):\n",
    "    \"\"\"Return the sum of the digits of positive integer n.\"\"\"\n",
    "    if n < 10:\n",
    "        return n\n",
    "    else:\n",
    "        all_but_last, last = split(n)\n",
    "        return sum_digits(all_but_last) + last # all_but_last is the digits remaining, while last is a partial sum\n",
    "    \n",
    "def sum_digits_iter(n):\n",
    "    digit_sum = 0\n",
    "    while n > 0: # n itself is the digits remaining\n",
    "        n, last = split(n)\n",
    "        digit_sum += last # last is the partial sum we are adding\n",
    "    return digit_sum\n",
    "\n",
    "def sum_digits_rec(n, digit_sum): # The state contains both the n and the digit_sum\n",
    "    if n == 0:\n",
    "        return digit_sum\n",
    "    n, last = split(n) \n",
    "    return sum_digits_rec(n, digit_sum+last)\n",
    "\n",
    "sum_digits(1337) == sum_digits_iter(1337) == sum_digits_rec(1337, 0)"
   ]
  }
 ],
 "metadata": {
  "kernelspec": {
   "display_name": "Python 3",
   "language": "python",
   "name": "python3"
  },
  "language_info": {
   "codemirror_mode": {
    "name": "ipython",
    "version": 3
   },
   "file_extension": ".py",
   "mimetype": "text/x-python",
   "name": "python",
   "nbconvert_exporter": "python",
   "pygments_lexer": "ipython3",
   "version": "3.10.12"
  }
 },
 "nbformat": 4,
 "nbformat_minor": 2
}
