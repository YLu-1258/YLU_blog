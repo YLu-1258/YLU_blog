{
 "cells": [
  {
   "cell_type": "markdown",
   "metadata": {},
   "source": [
    "---\n",
    "- title: Workshop 1 FRQs\n",
    "- author: alex\n",
    "- badges: true\n",
    "- comments: true\n",
    "- categories: [APCSA, FRQs]\n",
    "- date: 2023-10-22 06:05:00 -0800\n",
    "- tags: [APCSA, FRQs]\n",
    "- render_with_liquid: false\n",
    "- type: hacks\n",
    "---"
   ]
  },
  {
   "cell_type": "markdown",
   "metadata": {},
   "source": [
    "## Question 1: Primitive Types vs Reference Types (Unit 1)\n",
    "Situation: You are developing a banking application where you need to represent customer information. You have decided to use both primitive types and reference types for this purpose.\n",
    "\n",
    "(a) Define primitive types and reference types in Java. Provide examples of each.  \n",
    "* **Primative Types:** The most basic types in Java, and are typically directly stored in the memory with no other processing. Examples of this are `int`, `double`, `char`, and `float`.  \n",
    "* **Reference Types:** The next level of data types in Java. They do not directly store the value that they are associated with, but rather reference the location in the memory or heap of where the data is stored. Examples of this is `String`, `Array`, and other objects created in Java.\n",
    "\n",
    "(b) Explain the differences between primitive types and reference types in terms of memory allocation and usage in Java programs.  \n",
    "\n",
    "* Primative types tend to allocate less memory than reference types because they store the actual value in question, rather than \n",
    "\n",
    "(c) Code:\n",
    "\n",
    "You have a method calculateInterest that takes a primitive double type representing the principal amount and a reference type Customer representing the customer information. Write the method signature and the method implementation. Include comments to explain your code."
   ]
  },
  {
   "cell_type": "code",
   "execution_count": null,
   "metadata": {},
   "outputs": [],
   "source": []
  }
 ],
 "metadata": {
  "kernelspec": {
   "display_name": "java",
   "language": "java",
   "name": "java"
  },
  "language_info": {
   "name": "java"
  }
 },
 "nbformat": 4,
 "nbformat_minor": 2
}
