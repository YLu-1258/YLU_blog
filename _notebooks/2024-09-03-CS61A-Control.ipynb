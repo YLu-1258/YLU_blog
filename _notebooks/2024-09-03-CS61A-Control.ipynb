{
 "cells": [
  {
   "cell_type": "markdown",
   "metadata": {},
   "source": [
    "---\n",
    "- title: \"'CS61A: Control'\"\n",
    "- author: alex\n",
    "- badges: true\n",
    "- comments: true\n",
    "- categories: [CS61A]\n",
    "- date: 2024-09-02 02:00:00 -0800\n",
    "- tags: [CS61A, Control]\n",
    "---"
   ]
  },
  {
   "cell_type": "markdown",
   "metadata": {},
   "source": [
    "# Control\n",
    "- Control statements such as if and while control which portions of code are executed, when they are executed, and how many times.\n",
    "\n",
    "## If Statements and Call Expressions\n",
    "- Every clause is considered\n",
    "1) Evaluate the header's expression  \n",
    "2) If header is evaluated to be true, execute the suite and skip remaining clauses.   \n",
    "- The following function would emulate an if statement, but it has a different evaluation rule.\n",
    "1) Evaluate the operator and then the operand subexpressions  \n",
    "2) Apply the operator function to the operand arguments."
   ]
  },
  {
   "cell_type": "code",
   "execution_count": null,
   "metadata": {},
   "outputs": [],
   "source": [
    "def if_(c, t, f):\n",
    "    if c:\n",
    "        return t\n",
    "    else:\n",
    "        return f"
   ]
  },
  {
   "cell_type": "markdown",
   "metadata": {},
   "source": [
    "- The problem with the above code is that whenever `if_(c, t, f)` is called, all the expressions in the parameters are evaluated before the function is applied onto the parameters, which may result in unexpected behaviorm as the two code statements are ran regardless of what the if statement returns.\n",
    "    - THIS IS WHY WE NEED CONTROL: They decide which parts of code are ran/not ran."
   ]
  },
  {
   "cell_type": "markdown",
   "metadata": {},
   "source": [
    "# Control Expressions\n",
    "- Allows the skipping of sub expressions.\n",
    "\n",
    "## Shortcircuiting in Logical Operators\n",
    "- Shortcircuiting is when the expression returns a value before every expression within it is evaluated.\n",
    "- AND (`<u> and <v>`):\n",
    "    - Evaluate `u`. If `u` is found to be false, then the expression evaluates to be `u` (or false).\n",
    "    - If `u` is True, evaluate to the value of `v` (either false or true).\n",
    "- OR (`<u> or <v>`):\n",
    "    - Evaluate `u`. If `u` is found to be true, then the expression evaluates to be `u` (or true).\n",
    "    - If `u` is False, evaluate to the value of `v` (either false or true).\n",
    "- Be careful, not every expression in a logical expression is always evaluated."
   ]
  }
 ],
 "metadata": {
  "language_info": {
   "name": "python"
  }
 },
 "nbformat": 4,
 "nbformat_minor": 2
}
