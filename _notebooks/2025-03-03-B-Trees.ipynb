{
 "cells": [
  {
   "cell_type": "markdown",
   "metadata": {},
   "source": [
    "---\n",
    "- title: \"B-Trees\"\n",
    "- author: alex\n",
    "- badges: true\n",
    "- comments: true\n",
    "- categories: [CS61B]\n",
    "- date: 2025-03-03 1:00:00 -0800\n",
    "- math: true\n",
    "- tags: [CS61B, Data Structures, B-Trees, JAVA]\n",
    "---"
   ]
  },
  {
   "cell_type": "markdown",
   "metadata": {},
   "source": [
    "# B-Trees\n",
    "- BSTs can either be bushy or spindly.\n",
    "  - A spindly BST tree is slow to access elements. Similar to a linked list. $O(N)$ time for accessing elements.\n",
    "  - A bushy BST is fast to access elements, $O(\\log N)$ time to access elements.\n",
    "- This motivates us to construct a \"Balancing-Tree\", a tree that always attempts to maintain a bushy structure.\n",
    "> Note about Big-Theta versus Big-O. Big Theta is typically more informative than Big O as it restricts us to one family of functions. Something that is O(N) could also be O(N^2). The upper bound can keep going up without consequence.\n",
    "{: .prompt-info }\n",
    "\n",
    "## B-Tree Operations\n",
    "- BST performance is reliant on Height and Depth\n",
    "  - **Height:** The depth of the deepest leaf and is that tree-wide property.\n",
    "  - **Depth:** The distance from the root of a node and is node-specific.\n",
    "  - **Average Depth:** The mean of the depth of every node.\n",
    "- The core-concept behind a B-Tree is the ability to overstuff the leaf nodes.\n",
    "  - If we can avoid it, we do not add a new node but rather stick the new value into an existing leaf node at some determined location.\n",
    "![Overstuffed Node](https://cs61b-2.gitbook.io/~gitbook/image?url=https%3A%2F%2F2316889115-files.gitbook.io%2F%7E%2Ffiles%2Fv0%2Fb%2Fgitbook-x-prod.appspot.com%2Fo%2Fspaces%252FCLYj7ccqvV6l4Pt9R0w5%252Fuploads%252FettoJbVEr2tWqbpmWL5q%252Fimage.png%3Falt%3Dmedia%26token%3D159dd972-1b10-4436-bc27-f3b4ac505d40&width=768&dpr=2&quality=100&sign=5673c8fa&sv=2)\n",
    "- The problem with overstuffing is that with sufficiently enough items in a node, searchign sequentially within a node requires linear search.\n",
    "\n",
    "### Moving items up.\n",
    "- Once a node becomes saturated with enough values, we may move up a value to the parent node.\n",
    "  - For simplicity, we always move the middle element.\n",
    "  - However, this may cause an issue where there exists values smaller than the moved value to the right of the moved element:\n",
    "![Splitting Overstuffed Node](https://cs61b-2.gitbook.io/~gitbook/image?url=https%3A%2F%2F2316889115-files.gitbook.io%2F%7E%2Ffiles%2Fv0%2Fb%2Fgitbook-x-prod.appspot.com%2Fo%2Fspaces%252FCLYj7ccqvV6l4Pt9R0w5%252Fuploads%252FYxIpM5WqTqOTjXJza7cQ%252Fimage.png%3Falt%3Dmedia%26token%3Da38bf577-a65b-41f9-a095-aab39460d238&width=768&dpr=2&quality=100&sign=b2566fc7&sv=2)\n",
    "    - In this case, the value of 16 is greater than 17, but it is still to the right of 17. This breaks the BST property.\n",
    "- To address this, we create many children for each parent overstuffed parent node.\n",
    "![Intervals of Node](https://cs61b-2.gitbook.io/~gitbook/image?url=https%3A%2F%2F2316889115-files.gitbook.io%2F%7E%2Ffiles%2Fv0%2Fb%2Fgitbook-x-prod.appspot.com%2Fo%2Fspaces%252FCLYj7ccqvV6l4Pt9R0w5%252Fuploads%252Fbmsg7q6fJKkDRQOmMxLK%252Fimage.png%3Falt%3Dmedia%26token%3D1c015945-4e3f-436b-8eef-0e5e1308ceae&width=768&dpr=2&quality=100&sign=de129d56&sv=2) \n",
    "- In the above example, we have nodes representing intervals for $(-\\infty, 15), [15,17], (17, +\\infty)$\n",
    "- We can set some constant $L$ as the limit on our node size.\n",
    "  - This would make our search time increase only by a constant factor, so we preserve our asymptotic behavior.\n",
    "- When we add a node, we may cause a chain reaction where parent nodes successively split.\n",
    "![Chain Reaction Splitting](https://cs61b-2.gitbook.io/~gitbook/image?url=https%3A%2F%2F2316889115-files.gitbook.io%2F%7E%2Ffiles%2Fv0%2Fb%2Fgitbook-x-prod.appspot.com%2Fo%2Fspaces%252FCLYj7ccqvV6l4Pt9R0w5%252Fuploads%252F7FCDjQTVpQpUAPUHOZpF%252Fimage.png%3Falt%3Dmedia%26token%3D7ad9d434-9bb0-4830-a3d7-4ebb914b6811&width=768&dpr=2&quality=100&sign=91a72618&sv=2)\n",
    "- A B-Tree can have different names based on the number of children it may have in a node.\n",
    "  - We work with 2-3 trees, which contains a limit of 2 items per node, where each node can have 2 or three children.\n",
    "\n",
    "## B-Tree Usage\n",
    "- B-Trees are used for two main contexts\n",
    "  - We use a small L for self-balancing search trees.\n",
    "  - We use a large L in the thousands for databses and filesystems.\n",
    "- The construction of a B-Tree grants it two invariants:\n",
    "  - All leaves are the same distance from the root.\n",
    "  - A non-leaf node with k items must have exactly k+1 children.\n",
    "- This guaratees us a B-Tree with $\\log N$ height\n",
    "# B-Tree Runtime Analysis\n",
    "- let $L$ be the maximum items per node and $N$ be the number of items. The maximum height should be $\\log_{L+1} N$ in the best case when all nodes have $L$ items and $\\log_{2}N$ worst case when each node has 1 item.\n",
    "  - Overall height is on the order of $\\Theta (\\log N)$\n",
    "![Worst-case B-Tree height](https://cs61b-2.gitbook.io/~gitbook/image?url=https%3A%2F%2F2316889115-files.gitbook.io%2F%7E%2Ffiles%2Fv0%2Fb%2Fgitbook-x-prod.appspot.com%2Fo%2Fspaces%252FCLYj7ccqvV6l4Pt9R0w5%252Fuploads%252F91Ssy8VWI5VfprxVcNfN%252Fimage.png%3Falt%3Dmedia%26token%3D03341862-d55b-47ea-a81a-e336b61db3d9&width=768&dpr=2&quality=100&sign=a6a783f8&sv=2)\n",
    "![Best-case B-Tree height](https://cs61b-2.gitbook.io/~gitbook/image?url=https%3A%2F%2F2316889115-files.gitbook.io%2F%7E%2Ffiles%2Fv0%2Fb%2Fgitbook-x-prod.appspot.com%2Fo%2Fspaces%252FCLYj7ccqvV6l4Pt9R0w5%252Fuploads%252FIz1soxD54sJkbIdVc1UM%252Fimage.png%3Falt%3Dmedia%26token%3D679b97ea-fa1d-47ee-9de6-cf576e309223&width=768&dpr=2&quality=100&sign=174637f2&sv=2)\n",
    "## Runtime for `contains`\n",
    "- Worst case forces us to look at up to $L$ items per node, but since height is logarithmic, the runtime of `contains` is bounded by $O(L \\log N)$. This tells use that the runtime of `contains` is $O(\\log N)$ \n",
    "## Runtime for `add`\n",
    "- The logic for `add` is similar to `contains` except `add` might break up certain nodes. The act of breaking up nodes results in doing $\\log N$  additional split operations. THus means that the runtime of `add` is still $O(\\log N)$"
   ]
  }
 ],
 "metadata": {
  "kernelspec": {
   "display_name": "Java",
   "language": "java",
   "name": "java"
  },
  "language_info": {
   "codemirror_mode": "java",
   "file_extension": ".jshell",
   "mimetype": "text/x-java-source",
   "name": "Java",
   "pygments_lexer": "java",
   "version": "17.0.14+7-Ubuntu-122.04.1"
  }
 },
 "nbformat": 4,
 "nbformat_minor": 2
}
