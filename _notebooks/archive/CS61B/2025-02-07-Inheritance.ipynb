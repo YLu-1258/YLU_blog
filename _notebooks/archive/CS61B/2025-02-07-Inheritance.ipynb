{
 "cells": [
  {
   "cell_type": "markdown",
   "metadata": {},
   "source": [
    "---\n",
    "- title: \"Inheritance\"\n",
    "- author: alex\n",
    "- badges: true\n",
    "- comments: true\n",
    "- categories: [CS61B]\n",
    "- date: 2024-02-07 1:00:00 -0800\n",
    "- math: true\n",
    "- tags: [CS61B, Data Structures, Inheritance, JAVA]\n",
    "---"
   ]
  },
  {
   "cell_type": "markdown",
   "metadata": {},
   "source": [
    "# A motivation for inheritance\n",
    "- When programming similar classes may have similar attributes and implementations, such as `SLList`, `DLList`, `AList`. \n",
    "    - When we try to implement a function to take in the input of an `SLList`, `DLList`, or `AList`,we must have 3 versions of the function that each take in a different version of a list. This is called Method overloading.\n",
    "- While method overloading works, it is highly repetitive.\n",
    "\n",
    "## Inheritance interface\n",
    "- Due to their high similarities, SLLists, DLLists, and ALists are all hyponyms of a more general list class.\n",
    "- In order to represent this relationship, we create a type, `List61B` that embodies the the hypernym of all the other classes we implemented.\n",
    "- The `List61B` type is called an **interface** in Java. It specifies what a list should be able to do, but it does not specify the implementation for the list."
   ]
  },
  {
   "cell_type": "code",
   "execution_count": null,
   "metadata": {},
   "outputs": [],
   "source": [
    "// This cannot be instantiated directly\n",
    "public interface List61B<Item> {\n",
    "    public void addFirst(Item x);\n",
    "    public void addLast(Item y);\n",
    "    public Item getFirst();\n",
    "    public Item getLast();\n",
    "    public Item removeLast();\n",
    "    public Item get(int i);\n",
    "    public void insert(Item x, int position);\n",
    "    public int size();\n",
    "    default public void print() {\n",
    "        for (int i = 0; i < size(); i+=1) {\n",
    "            System.out.println(get(i) + \" \");\n",
    "        }\n",
    "    }\n",
    "}"
   ]
  },
  {
   "cell_type": "markdown",
   "metadata": {},
   "source": [
    "- The interface is something abstract, so it has no constructor as we would never instantiate a List61B object.\n",
    "- We would them use List61B to impement our other data structures with the following code:"
   ]
  },
  {
   "cell_type": "code",
   "execution_count": null,
   "metadata": {},
   "outputs": [],
   "source": [
    "public class AList<Item> implements List61B<Item>{...}"
   ]
  },
  {
   "cell_type": "markdown",
   "metadata": {},
   "source": [
    "# Overriding\n",
    "- When implementing the required functions defined in a superclass within a subclass, we have to override the method in the subclass with a `@Override` annotation.\n",
    "    - The `@Override`annotation doesn't actually change anything with our code, it just tells te compiler that the method is intended to be overriden, so if any errors occur, the compiler will let us know what happened.\n",
    "    - Ex: We made a typo with the overriden method name.\n",
    "- If we override a method that does not exist in a superclass, we will be errored.\n",
    "- A subclass can have extra methods. Our super class is just a barebones definition of what we should have.\n",
    "    - Subclasses must override all methods."
   ]
  },
  {
   "cell_type": "code",
   "execution_count": null,
   "metadata": {},
   "outputs": [],
   "source": [
    "@Override\n",
    "public void addFirst(Item x) {\n",
    "    insert(x, 0);\n",
    "}"
   ]
  },
  {
   "cell_type": "markdown",
   "metadata": {},
   "source": [
    "- Here is our attempt at implementing the `AList` from `List61B`."
   ]
  },
  {
   "cell_type": "code",
   "execution_count": 12,
   "metadata": {},
   "outputs": [],
   "source": [
    "public class AList<T> implements List61B<T> {\n",
    "    private T[] array;\n",
    "    private int size;\n",
    "    private static final int RFACTOR = 2;\n",
    "    private static final double DOWNSIZE_THRESHOLD = 0.25;\n",
    "\n",
    "    public AList() {\n",
    "        this.array = (T []) new Object[1000];\n",
    "        this.size = 0;\n",
    "    }\n",
    "\n",
    "    private void resize(int new_size) {\n",
    "        T[] temp;\n",
    "        temp = (T []) new Object[new_size];\n",
    "        System.arraycopy(this.array, 0, temp, 0, this.size);\n",
    "        this.array = temp;\n",
    "    }\n",
    "\n",
    "    private void check_and_resize() {\n",
    "        if (this.size == this.array.length) {\n",
    "            resize(this.size * this.RFACTOR);\n",
    "        }\n",
    "    }\n",
    "\n",
    "    @Override\n",
    "    public void addFirst(T element) {\n",
    "        insert(element, 0);\n",
    "    }\n",
    "\n",
    "    @Override\n",
    "    public void addLast(T element) {\n",
    "        if (this.size == this.array.length) {\n",
    "            resize(this.size * this.RFACTOR);\n",
    "        }\n",
    "        this.array[this.size] = element;\n",
    "        this.size++;\n",
    "    }\n",
    "\n",
    "    @Override\n",
    "    public T removeLast() {\n",
    "        T itemToReturn = this.array[this.size];\n",
    "        this.array[this.size] = null;\n",
    "        size--;\n",
    "        if ((double) this.size/this.array.length < this.DOWNSIZE_THRESHOLD) {\n",
    "            resize(this.size/2);\n",
    "        }\n",
    "        return itemToReturn;\n",
    "    }\n",
    "\n",
    "    @Override\n",
    "    public void insert(T element, int index) {\n",
    "        check_and_resize();\n",
    "        for (int i = size; i>index; i--) {\n",
    "            this.array[i] = this.array[i-1];\n",
    "        }\n",
    "        this.array[index] = element;\n",
    "        this.size++;\n",
    "    }\n",
    "\n",
    "    @Override\n",
    "    public T get(int i) {\n",
    "        if (i >= this.size) {\n",
    "            throw new IndexOutOfBoundsException(\"Index \" + i + \" is out of bounds for AList with size \" + this.size);\n",
    "        }\n",
    "        return array[i];\n",
    "    }\n",
    "\n",
    "    @Override\n",
    "    public T getLast() {\n",
    "        return array[size-1];\n",
    "    }\n",
    "\n",
    "    @Override\n",
    "    public T getFirst() {\n",
    "        if (this.size == 0) {\n",
    "            throw new IllegalStateException(\"List is empty!\");\n",
    "        }\n",
    "        return array[0];\n",
    "    }\n",
    "\n",
    "    @Override\n",
    "    public int size() {\n",
    "        return size;\n",
    "    }\n",
    "}\n",
    "\n",
    "AList<Integer> test = new AList<Integer>();\n",
    "for (int i = 0; i < 10000; i++) {\n",
    "    test.addLast(i);\n",
    "}"
   ]
  },
  {
   "cell_type": "markdown",
   "metadata": {},
   "source": [
    "# Iterface Inheritance\n",
    "- The interface include sall method signatures, but the subclass provides those implementations.\n",
    "- Inheritance is multigenerational, A sub class will inherit characteristics from all the classes above it.\n",
    "- We may also specify default implementations in an interface using the `default keyword` \n",
    "    - We may only use the methods that we have defined within our interface. We may not create new attributes to help us, as this would violate the purpose of an interface (what if a certain list doesn't have an certain attribute)."
   ]
  },
  {
   "cell_type": "code",
   "execution_count": null,
   "metadata": {},
   "outputs": [],
   "source": [
    "default pubic void print() {\n",
    "    for (int i = 0; i < size(); i+=1) {\n",
    "        System.out.println(get(i) + \" \");\n",
    "    }\n",
    "}"
   ]
  },
  {
   "cell_type": "markdown",
   "metadata": {},
   "source": [
    "- However the default implementation may be inefficient for lists of a certain type. Thus, we may override the default implementation as well."
   ]
  },
  {
   "cell_type": "code",
   "execution_count": null,
   "metadata": {},
   "outputs": [],
   "source": [
    "// Overriden print method for Linked List\n",
    "// Added efficiency\n",
    "@Override\n",
    "public void print() {\n",
    "    for (Node p = sentinel.next; p != null; p = p.next) {\n",
    "        System.out.print(p.item + \" \");\n",
    "    }\n",
    "}"
   ]
  },
  {
   "cell_type": "markdown",
   "metadata": {},
   "source": [
    "- Java is able to distinguish which `print()` to call due to **dynamic method selection**"
   ]
  },
  {
   "cell_type": "code",
   "execution_count": null,
   "metadata": {},
   "outputs": [],
   "source": [
    "List61B<String> lst = new SLList<String>();"
   ]
  },
  {
   "cell_type": "markdown",
   "metadata": {},
   "source": [
    "- In the above snippet, the `lst` variable has a type of `List61B`, but the object it references has a type of `SLList`.\n",
    "    - `List61B` is the static type of the variable. `SLList` is the dynamic type of the object.\n",
    "    - This code makes sense because if our `SLList` implements the `List61B` interface, it has an \"is-a\" relationship with `List61B`. `SLList` is a `List61B`.\n",
    "    - Since `SLList` is a dynamic type, the type that `lst` can refer to may change so long as the new type \"is-a\" `List61B`.\n",
    "        - We may change `lst` to refer to an `AList`.\n",
    "- Whenever Java runs a `overriden` method, it searches for the coresponding method signature in the objects dynamic type.\n",
    "- **This dynamic typing fails to work for overloaded methods.**\n",
    "    - Ex:"
   ]
  },
  {
   "cell_type": "code",
   "execution_count": null,
   "metadata": {},
   "outputs": [],
   "source": [
    "public static void peek(List61B<String> list) {\n",
    "    System.out.println(list.getLast());\n",
    "}\n",
    "public static void peek(SLList<String> list) {\n",
    "    System.out.println(list.getFirst());\n",
    "}\n",
    "\n",
    "SLList<String> SP = new SLList<String>();\n",
    "List61B<String> LP = SP;\n",
    "SP.addLast(\"elk\");\n",
    "SP.addLast(\"are\");\n",
    "SP.addLast(\"cool\");\n",
    "peek(SP);\n",
    "peek(LP);"
   ]
  },
  {
   "cell_type": "markdown",
   "metadata": {},
   "source": [
    "- In the above code segment, the `peek` method has two overloaded versions, one for `List61B` and the other for `SLList`.\n",
    "    - When we call `peek`, it only checks for the static type of the parameter we insert.\n",
    "    - `peek` for SP would get the first element, while `peek` for LP would get the last element.\n",
    "\n",
    "## Implementation vs Interface Inheritance\n",
    "- Interface inheritance specifies what methods sub classes would be able to perform. Implementation inheritance specifies how the methods within subclasses may perform.\n",
    "- Implementation inheritance may introduce additional complexity, and also allow conflicting implementations in multiple inheritance.\n",
    "\n",
    "# Extends, Casting, High Order Functions\n",
    "- Subclasses implement an interface, but they *extend* from a class.\n",
    "    - The subclass may not access private members of a super class.\n",
    "- When we extend from a class, the sub class inherits all methods and attributes from SLList, except for constructors."
   ]
  },
  {
   "cell_type": "code",
   "execution_count": null,
   "metadata": {},
   "outputs": [],
   "source": [
    "public class RotatingSLList<T> extends SLList<T>{\n",
    "    public void rotateRight() {\n",
    "        T oldBack = removeLast();\n",
    "        addFirst(oldBack);\n",
    "    }\n",
    "}"
   ]
  },
  {
   "cell_type": "markdown",
   "metadata": {},
   "source": [
    "## Constructor behavior\n",
    "- Constructors are not directly inherited, but the constructor of the **superclass** is automatically called whenever our subclasses' constructor runs.\n",
    "- The constructor may be explicitly called using `super()`. This also means that different constructors may be called if we pass in arguments into `super()`.\n",
    "- Parent members and methods amy be called using the dot notation with `super`."
   ]
  },
  {
   "cell_type": "code",
   "execution_count": null,
   "metadata": {},
   "outputs": [],
   "source": [
    "public class VengefulSLList<Item> extends SLList<Item> {\n",
    "\tprivate SLList<Item> deletedItems;\n",
    "\tpublic VengefulSLList() {\n",
    "       deletedItems = new SLList<Item>();\n",
    "\t}\n",
    "  \n",
    "\t@Override\n",
    "\tpublic Item removeLast() {\n",
    "    \t\tItem oldBack = super.removeLast(); //calls Superclass’s version of removeLast()\n",
    "    \t\tdeletedItems.addLast(oldBack);\n",
    "    \t\treturn oldBack;\n",
    "\t}\n",
    " \n",
    "\tpublic void printLostItems() {\n",
    "    \t\tdeletedItems.print();\n",
    "\t}\n",
    "}\n",
    "\n",
    "public static void main(String[] args) {\n",
    "    \tVengefulSLList<Integer> vs1 = new VengefulSLList<Integer>();\n",
    "    \tvs1.addLast(1);\n",
    "    \tvs1.addLast(5);\n",
    "    \tvs1.addLast(10);\n",
    "    \tvs1.addLast(13);      /* [1, 5, 10, 13] */\n",
    "    \tvs1.removeLast();     /* 13 gets deleted. */\n",
    "    \tvs1.removeLast();     /* 10 gets deleted. */\n",
    "    \tSystem.out.print(\"The fallen are: \");\n",
    "    \tvs1.printLostItems(); /* Should print 10 and 13. */\n",
    "}"
   ]
  },
  {
   "cell_type": "markdown",
   "metadata": {},
   "source": [
    "## The Object Class\n",
    "- Every type in Java is a descendant of the `Object` class.\n",
    "- This means that every type in java derives the following methods from `Object`:\n",
    "    - `toString()`: Provides string representation of an object.\n",
    "    - `hashCode()`: A unique number generated by converting the internal address of the object into an integer. This method is native as Java does not have access to memory addresses. If two objects are equal, then they have the same hashcode.\n",
    "    - `equals(Object obj)`: Compares another object with the current object. Overriden to add custom conditions.\n",
    "    - `finalize()`: Called right before an object is garbage collected. Called when the garbage collector determines that there are no more references to the object.\n",
    "    - `getClass()`: Returns the class object of a given object.\n",
    "    - `clone()`: Creates and returns a new object that is a clone of the current object.\n",
    "    - `wait()`, `notify()`, `notifyAll()`: There are concurrency methods that are called when using multithreading in Java.\n",
    "\n",
    "## Managing Complexty:\n",
    "- Hierarchical abstraction:\n",
    "    - Create layers of abstraction with clear abstraction barriers\n",
    "- Design for hange\n",
    "    - Organize programs around objects and let objects decide how things should run.\n",
    "    - Hide information that is not needed by other objects.\n",
    "- **Modules** are a set of methods that work together to perform some task or set of related tasks.\n",
    "    - A module is **encapsulated** if its implementation is completely hidden. It can only be manipulated through programmed interfaces. Direct access is prevented.\n",
    "\n",
    "# Casting\n",
    "- **static (compile-time) type**: The type assigned at variable declaration, this never changes. This type is checked at compile time.\n",
    "- **dynamic (runtime) type**: The type assigned at variable instantiation, this is the type of the object pointed at. This type is checked at runtime.\n",
    "\n",
    "## Compile Time Type Checking and Expressions\n",
    "- Expressions have compile time types. Expressions using the `new` keyword has the specified compile time type."
   ]
  },
  {
   "cell_type": "code",
   "execution_count": null,
   "metadata": {},
   "outputs": [],
   "source": [
    "SLList<Integer> sl = new VengefulSLList<Integer>();"
   ]
  },
  {
   "cell_type": "markdown",
   "metadata": {},
   "source": [
    "- This is allowed because the compile-time type of the RHS expression is `VengefulSLList`, and `VengefulSLList` is a `SLList`, so assignment is allowed."
   ]
  },
  {
   "cell_type": "code",
   "execution_count": null,
   "metadata": {},
   "outputs": [],
   "source": [
    "VengefulSLList<Integer> vsl = new SLList<Integer>();"
   ]
  },
  {
   "cell_type": "markdown",
   "metadata": {},
   "source": [
    "- This is not allowed because the compile-time type of the RHS expression is `SLList`, and `SLList` is not necessarily a `VengefulList`, so assignment is disallowed.\n",
    "- Any method calls would have a compile-time type"
   ]
  },
  {
   "cell_type": "code",
   "execution_count": null,
   "metadata": {},
   "outputs": [],
   "source": [
    "public static Dog maxDog(Dog d1, Dog d2) { … }\n",
    "\n",
    "Poodle frank  = new Poodle(\"Frank\", 5);\n",
    "Poodle frankJr = new Poodle(\"Frank Jr.\", 15);\n",
    "\n",
    "Dog largerDog = maxDog(frank, frankJr);\n",
    "Poodle largerPoodle = maxDog(frank, frankJr);"
   ]
  },
  {
   "cell_type": "markdown",
   "metadata": {},
   "source": [
    "- The above code would not compile, as the java compiler expects `maxDog` to return a `Dog` type, but a `Dog` type is not necessarily a `Poodle` type.\n",
    "\n",
    "## Casting\n",
    "- Casting is the act of specifying a compile-time type for an expression.\n",
    "    - Put the desired type in parenthesis before a given expression, which tells java to treat the object as a different type.\n",
    "    - This does not change anything, as the object's inherant type at runtime is still the same.\n",
    "- In the example below, if we did not cast the type of `x[0]` and `x[1]`, the compiler would scream at us and tell us that an object does not support infix addition."
   ]
  },
  {
   "cell_type": "code",
   "execution_count": 28,
   "metadata": {},
   "outputs": [
    {
     "ename": "CompilationException",
     "evalue": "",
     "output_type": "error",
     "traceback": [
      "\u001b[1m\u001b[30m|   \u001b[1m\u001b[30mSystem.out.println(\u001b[0m\u001b[1m\u001b[30m\u001b[41mx[0] + x[1]\u001b[0m\u001b[1m\u001b[30m);\u001b[0m",
      "\u001b[1m\u001b[31mbad operand types for binary operator '+'\u001b[0m",
      "\u001b[1m\u001b[31m  first type:  java.lang.Object\u001b[0m",
      "\u001b[1m\u001b[31m  second type: java.lang.Object\u001b[0m",
      ""
     ]
    }
   ],
   "source": [
    "Object[] x = {\"Hello \", \"world!\"};\n",
    "\n",
    "System.out.println(x[0] + x[1]);"
   ]
  },
  {
   "cell_type": "code",
   "execution_count": 27,
   "metadata": {},
   "outputs": [
    {
     "name": "stdout",
     "output_type": "stream",
     "text": [
      "Hello world!\n"
     ]
    }
   ],
   "source": [
    "Object[] x = {\"Hello \", \"world!\"};\n",
    "\n",
    "System.out.println((String) x[0] + (String) x[1]);"
   ]
  },
  {
   "cell_type": "markdown",
   "metadata": {},
   "source": [
    "# Higher Order Functions in Java\n",
    "- A higher order function is a function that treats another a function as data.\n",
    "    - Such as taking a function as an input.\n",
    "- In Java, we cannot have a memory boxes contain pointers to a function. Thus, we must use an interface instead."
   ]
  },
  {
   "cell_type": "code",
   "execution_count": 31,
   "metadata": {},
   "outputs": [
    {
     "data": {
      "text/plain": [
       "500"
      ]
     },
     "execution_count": 31,
     "metadata": {},
     "output_type": "execute_result"
    }
   ],
   "source": [
    "public interface IntUnaryOperation {\n",
    "    public int apply(int x);\n",
    "}\n",
    "\n",
    "public class TenX implements IntUnaryOperation {\n",
    "    public int apply(int x) {\n",
    "        return 10 * x;\n",
    "    }\n",
    "}\n",
    "\n",
    "public class HoFDemo {\n",
    "    public static int doTwice(IntUnaryOperation f, int x) {\n",
    "        return f.apply(f.apply(x));\n",
    "    }\n",
    "}\n",
    "\n",
    "HoFDemo.doTwice(new TenX(), 5);"
   ]
  },
  {
   "cell_type": "markdown",
   "metadata": {},
   "source": [
    "# Dynamic Method Selection\n",
    "- Rules for dynamic method selectoin\n",
    "    - Compilers allow memory boxes to hold any subtypes of itself.\n",
    "    - Compilers allow calls based on static type\n",
    "        - If a method is availible in the static type of the object, the compiler would allow the call to that object.\n",
    "    - **Overridden non-static methods are selected at run time based on dynamic type    **"
   ]
  }
 ],
 "metadata": {
  "kernelspec": {
   "display_name": "Java",
   "language": "java",
   "name": "java"
  },
  "language_info": {
   "codemirror_mode": "java",
   "file_extension": ".jshell",
   "mimetype": "text/x-java-source",
   "name": "java",
   "pygments_lexer": "java",
   "version": "17.0.14+7-Ubuntu-122.04.1"
  }
 },
 "nbformat": 4,
 "nbformat_minor": 2
}
