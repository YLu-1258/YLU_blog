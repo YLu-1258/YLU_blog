{
 "cells": [
  {
   "cell_type": "markdown",
   "metadata": {},
   "source": [
    "---\n",
    "- title: \"'CS61B: Lecture 3'\"\n",
    "- author: alex\n",
    "- badges: true\n",
    "- comments: true\n",
    "- categories: [CS61B]\n",
    "- date: 2024-01-27 1:00:00 -0800\n",
    "- math: true\n",
    "- tags: [CS61B, JAVA]\n",
    "---"
   ]
  },
  {
   "cell_type": "markdown",
   "metadata": {},
   "source": [
    "# Lecture\n",
    "- To build a list that can grow infinitely large, we must use recursion.\n",
    "\n",
    "## Bits\n",
    "- Computers stores information in memory as sequence of ones and zeros.\n",
    "- When variables are declared in Java, the computer sets aside exactly enough bits to hold an object/thing of that type.\n",
    "    - Declaring an int sets a box of 32 bits.\n",
    "    - Declaring a double sets aside a box of 64 bits.\n",
    "- **Golden Rule of Equals (GRoE):** In Java, the equals sign copies the bits from one variable to another variable.\n",
    "- Everything in Java that is not a primitive is called a reference type.\n",
    "- When an object of a reference type is instantiated:\n",
    "    - Java initializes memory for each instance variable of the class.\n",
    "    - Java then stores the address to the object as an integer to the variable. The `new` keyword finds a place in memory to allocate the object to, and then returns the address of the new object.\n",
    "\n",
    "## Parameter Passing\n",
    "- Passing parameters to a function also follows the golden rule of equals.\n",
    "    - Bits are copied over into new variables defined in the function signature.\n",
    "    - Java is a purely pass by value language.\n",
    "\n",
    "## Comparison\n",
    "- The `==` operator compares the bits in the two memory boxes.\n",
    "- To compare the content of two arrays, use `Arrays.equals`"
   ]
  }
 ],
 "metadata": {
  "kernelspec": {
   "display_name": "Java",
   "language": "java",
   "name": "java"
  },
  "language_info": {
   "codemirror_mode": "java",
   "file_extension": ".jshell",
   "mimetype": "text/x-java-source",
   "name": "java",
   "pygments_lexer": "java",
   "version": "17.0.13+11-Ubuntu-2ubuntu122.04"
  }
 },
 "nbformat": 4,
 "nbformat_minor": 2
}
