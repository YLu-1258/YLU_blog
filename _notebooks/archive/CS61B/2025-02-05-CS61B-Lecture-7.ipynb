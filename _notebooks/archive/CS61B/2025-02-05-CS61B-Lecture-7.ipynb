{
 "cells": [
  {
   "cell_type": "markdown",
   "metadata": {},
   "source": [
    "---\n",
    "- title: \"'CS61B: Lecture 7'\"\n",
    "- author: alex\n",
    "- badges: true\n",
    "- comments: true\n",
    "- categories: [CS61B]\n",
    "- date: 2024-02-05 1:00:00 -0800\n",
    "- math: true\n",
    "- tags: [CS61B, ArrayList, JAVA]\n",
    "---"
   ]
  },
  {
   "cell_type": "markdown",
   "metadata": {},
   "source": [
    "# Doubly Linked Lists\n",
    "- Data access is slow in DLList, it is proportional to the size of the array.\n",
    "- An ArrayList is fast as array access is not depending on the size of the AList.\n",
    "\n",
    "# ArrayLists\n",
    "- **Allegory of the cave:** The user has their own perception of what the code should behave like. But they don't really need to know the details of how the software works. As long as the user's perception still stands, whatever happens under the hood doesn't matter."
   ]
  }
 ],
 "metadata": {
  "kernelspec": {
   "display_name": "Java",
   "language": "java",
   "name": "java"
  },
  "language_info": {
   "codemirror_mode": "java",
   "file_extension": ".jshell",
   "mimetype": "text/x-java-source",
   "name": "Java",
   "pygments_lexer": "java",
   "version": "17.0.13+11-Ubuntu-2ubuntu122.04"
  }
 },
 "nbformat": 4,
 "nbformat_minor": 2
}
