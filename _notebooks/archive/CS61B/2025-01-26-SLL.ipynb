{
 "cells": [
  {
   "cell_type": "markdown",
   "metadata": {},
   "source": [
    "---\n",
    "- title: \"Singly Linked-Lists\"\n",
    "- author: alex\n",
    "- badges: true\n",
    "- comments: true\n",
    "- categories: [CS61B]\n",
    "- date: 2024-01-26 1:00:00 -0800\n",
    "- math: true\n",
    "- tags: [CS61B, JAVA, Data Structures, SLL]\n",
    "---"
   ]
  },
  {
   "cell_type": "markdown",
   "metadata": {},
   "source": [
    "# Rewriting IntList\n",
    "- We may rewrite the IntList data structure to make it easier to use.\n",
    "- For starters, we may add abstraction by creating an `IntNode` for each element in the list."
   ]
  },
  {
   "cell_type": "code",
   "execution_count": null,
   "metadata": {},
   "outputs": [],
   "source": [
    "public class IntNode {\n",
    "    public int item;\n",
    "    public IntNode next;\n",
    "\n",
    "    public IntNode(int i, IntNode n) {\n",
    "        item = i;\n",
    "        next = n;\n",
    "    }\n",
    "}"
   ]
  },
  {
   "cell_type": "markdown",
   "metadata": {},
   "source": [
    "- With the primary list logic created, we may simply create a \"wrapper class\" to contain other helper methods to better interact with the list.\n",
    "    - Moreover, this wrapping allows us to encapsulate certain parameters to prevent undesired behavior. We may set `first` as a `private` instance varialbe so that the enduser cannot freely manipulate it to produce undesired behaviors such as a cyclical linked list.\n",
    "- We may also nest our `IntNode` class within our `SLList` class for better organization. In this case, our IntNode class does not need to access members of a specific instance of SLList, so it may be created as a static class too as it is common to all instances of SLList."
   ]
  },
  {
   "cell_type": "code",
   "execution_count": null,
   "metadata": {},
   "outputs": [
    {
     "data": {
      "text/plain": [
       "3"
      ]
     },
     "execution_count": 4,
     "metadata": {},
     "output_type": "execute_result"
    }
   ],
   "source": [
    "public class SLList {\n",
    "    public static class IntNode {\n",
    "        public int item;\n",
    "        public IntNode next;\n",
    "    \n",
    "        public IntNode(int i, IntNode n) {\n",
    "            item = i;\n",
    "            next = n;\n",
    "        }\n",
    "    }\n",
    "\n",
    "    private IntNode first;\n",
    "\n",
    "    public SLList(int x) {\n",
    "        first = new IntNode(x, null);\n",
    "    }\n",
    "\n",
    "    public void addFirst(int x) {\n",
    "        first = new IntNode(x, first);\n",
    "    }\n",
    "\n",
    "    public int getFirst() {\n",
    "        return first.item;\n",
    "    }\n",
    "\n",
    "    public void addLast(int x) {\n",
    "        IntNode dummy = first;\n",
    "        while (dummy.next != null) {\n",
    "            dummy = dummy.next;\n",
    "        }\n",
    "        dummy.next = new IntNode(x, null);\n",
    "    }\n",
    "\n",
    "    private static int size(IntNode p) {\n",
    "        if (p.next == null) {\n",
    "            return 1;\n",
    "        }\n",
    "        return 1 + size(p.next);\n",
    "    }\n",
    "\n",
    "    public int size() {\n",
    "        return size(first);\n",
    "    }\n",
    "}\n",
    "\n",
    "SLList L = new SLList(1);\n",
    "L.addFirst(2);\n",
    "L.addLast(3);\n",
    "L.size();"
   ]
  },
  {
   "cell_type": "markdown",
   "metadata": {},
   "source": [
    "- For the size method, we have a private static method and a public method with the same name.\n",
    "    - This is allowed because the method signature of the two methods are the exact same.\n",
    "    - One size takes no arguments, and the other one takes one argument.\n",
    "    - Methods that have the same name but different signatures are called overloaded.\n",
    "- The size method has an O(n) complexity though. We may speed up the algorithm by caching a size at the cost of using more memory."
   ]
  },
  {
   "cell_type": "code",
   "execution_count": 6,
   "metadata": {},
   "outputs": [
    {
     "data": {
      "text/plain": [
       "1"
      ]
     },
     "execution_count": 6,
     "metadata": {},
     "output_type": "execute_result"
    }
   ],
   "source": [
    "public class SLList {\n",
    "    public static class IntNode {\n",
    "        public int item;\n",
    "        public IntNode next;\n",
    "    \n",
    "        public IntNode(int i, IntNode n) {\n",
    "            item = i;\n",
    "            next = n;\n",
    "        }\n",
    "    }\n",
    "\n",
    "    private IntNode first;\n",
    "    private int size;\n",
    "\n",
    "    public SLList(int x) {\n",
    "        first = new IntNode(x, null);\n",
    "        size = 1;\n",
    "    }\n",
    "\n",
    "    public void addFirst(int x) {\n",
    "        first = new IntNode(x, first);\n",
    "        size+=1;\n",
    "    }\n",
    "\n",
    "    public int getFirst() {\n",
    "        return first.item;\n",
    "    }\n",
    "\n",
    "    public int get(int i) {\n",
    "        IntNode dummy = first; \n",
    "        while (i > 0 && dummy.next != null) {\n",
    "            dummy = dummy.next;\n",
    "            i--;\n",
    "        }\n",
    "        return dummy.item;\n",
    "    }\n",
    "\n",
    "    public void addLast(int x) {\n",
    "        IntNode dummy = first;\n",
    "        while (dummy.next != null) {\n",
    "            dummy = dummy.next;\n",
    "        }\n",
    "        dummy.next = new IntNode(x, null);\n",
    "        size+=1;\n",
    "    }\n",
    "\n",
    "    public int size() {\n",
    "        return size;\n",
    "    }\n",
    "}\n",
    "\n",
    "SLList L = new SLList(1);\n",
    "L.addFirst(2);\n",
    "L.addLast(3);\n",
    "L.get(1);"
   ]
  },
  {
   "cell_type": "markdown",
   "metadata": {},
   "source": [
    "## The Empty List.\n",
    "- We may also add a constructor that creates an empty list to our `SLList` class."
   ]
  },
  {
   "cell_type": "code",
   "execution_count": null,
   "metadata": {},
   "outputs": [],
   "source": [
    "public SLList() {\n",
    "    first = null;\n",
    "    size = 0;\n",
    "}"
   ]
  },
  {
   "cell_type": "markdown",
   "metadata": {},
   "source": [
    "- However, with this empty list, if we tried to add to the end of the list, we'd see that we'd get a NullPointerException as our dummy node would be null, and would not have the next attribute.\n",
    "    - To fix this, we could create a special case for an empty list:"
   ]
  },
  {
   "cell_type": "code",
   "execution_count": null,
   "metadata": {},
   "outputs": [],
   "source": [
    "public void addLast(int x) {\n",
    "    IntNode dummy = first;\n",
    "    if (dummy == null) {\n",
    "        first = new IntNode(x, null);\n",
    "        return;\n",
    "    }\n",
    "    while (dummy.next != null) {\n",
    "        dummy = dummy.next;\n",
    "    }\n",
    "    dummy.next = new IntNode(x, null);\n",
    "    size+=1;\n",
    "}"
   ]
  },
  {
   "cell_type": "markdown",
   "metadata": {},
   "source": [
    "- However, having too many special cases could end up making our code overly complex.\n",
    "- Instead, let's use a sentinel node for an empty list. This sentinel node just holds a placeholder value, which allows our list to still have a dummy node to add future nodes to, even when there are no actual nodes.\n",
    "    - We would have to account for this sentinel node in all methods too, but to the end user, it will feel like the sentinel node was never there. "
   ]
  },
  {
   "cell_type": "code",
   "execution_count": 12,
   "metadata": {},
   "outputs": [
    {
     "data": {
      "text/plain": [
       "3"
      ]
     },
     "execution_count": 12,
     "metadata": {},
     "output_type": "execute_result"
    }
   ],
   "source": [
    "public class SLList {\n",
    "    public static class IntNode {\n",
    "        public int item;\n",
    "        public IntNode next;\n",
    "    \n",
    "        public IntNode(int i, IntNode n) {\n",
    "            item = i;\n",
    "            next = n;\n",
    "        }\n",
    "    }\n",
    "\n",
    "    private IntNode sentinel;\n",
    "    private int size;\n",
    "\n",
    "    public SLList(int x) {\n",
    "        sentinel = new IntNode(1337, null);\n",
    "        sentinel.next = new IntNode(x, null);\n",
    "        size = 1;\n",
    "    }\n",
    "\n",
    "    public SLList() {\n",
    "        sentinel = new IntNode(1337, null);\n",
    "        size = 0;\n",
    "    }\n",
    "\n",
    "    public void addFirst(int x) {\n",
    "        sentinel.next = new IntNode(x, sentinel.next);\n",
    "        size+=1;\n",
    "    }\n",
    "\n",
    "    public int getFirst() {\n",
    "        return sentinel.next.item;\n",
    "    }\n",
    "\n",
    "    public int get(int i) {\n",
    "        IntNode dummy = sentinel; \n",
    "        while (i > -1 && dummy.next != null) {\n",
    "            dummy = dummy.next;\n",
    "            i--;\n",
    "        }\n",
    "        return dummy.item;\n",
    "    }\n",
    "\n",
    "    public void addLast(int x) {\n",
    "        IntNode dummy = sentinel;\n",
    "        while (dummy.next != null) {\n",
    "            dummy = dummy.next;\n",
    "        }\n",
    "        dummy.next = new IntNode(x, null);\n",
    "        size+=1;\n",
    "    }\n",
    "\n",
    "    public int size() {\n",
    "        return size;\n",
    "    }\n",
    "}\n",
    "\n",
    "SLList L = new SLList(1);\n",
    "L.addFirst(2);\n",
    "L.addLast(3);\n",
    "L.get(2);"
   ]
  }
 ],
 "metadata": {
  "kernelspec": {
   "display_name": "Java",
   "language": "java",
   "name": "java"
  },
  "language_info": {
   "codemirror_mode": "java",
   "file_extension": ".jshell",
   "mimetype": "text/x-java-source",
   "name": "java",
   "pygments_lexer": "java",
   "version": "17.0.13+11-Ubuntu-2ubuntu122.04"
  }
 },
 "nbformat": 4,
 "nbformat_minor": 2
}
