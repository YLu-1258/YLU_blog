{
 "cells": [
  {
   "cell_type": "markdown",
   "metadata": {},
   "source": [
    "---\n",
    "- title: \"'CS61B: Lecture 9'\"\n",
    "- author: alex\n",
    "- badges: true\n",
    "- comments: true\n",
    "- categories: [CS61B]\n",
    "- date: 2024-02-10 1:00:00 -0800\n",
    "- math: true\n",
    "- tags: [CS61B, Inheritance, JAVA]\n",
    "---"
   ]
  },
  {
   "cell_type": "markdown",
   "metadata": {},
   "source": [
    "# Subtype Polymorphism Vs Function Passing\n",
    "- function passing is common in python, but Java code relies more on polymorphism.\n",
    "- **Polymorphism**: The ability in programming to present the same programming interface for different underlying forms.\n",
    "    - Operator overloading is a form of polymorphism which allows operators to have different implementations for different types, while providing the same interface to the user.\n",
    "- **Function Passing**: A function is passed as an argument into function.\n",
    "\n",
    "## Comparables\n",
    "- In Java, to compare two objects, we have to specify that object is something that can be compared.\n",
    "    - How do we specify that a class has a certain capability? Use an interface.\n",
    "- To compare a Dog object, we declare to Java that `Dog` is-a `Comparable`\n",
    "    - Any subclass that implements `Comparable` must have the `compareTo(T o)` method."
   ]
  },
  {
   "cell_type": "code",
   "execution_count": 10,
   "metadata": {},
   "outputs": [
    {
     "data": {
      "text/plain": [
       "Clifford"
      ]
     },
     "execution_count": 10,
     "metadata": {},
     "output_type": "execute_result"
    }
   ],
   "source": [
    "public class Dog implements Comparable<Dog> {\n",
    "    public String name;\n",
    "    public int size;\n",
    "\n",
    "    public Dog(String n, int s) {\n",
    "        name = n;\n",
    "        size = s;\n",
    "    }\n",
    "\n",
    "    @Override\n",
    "    public int compareTo(Dog other) {\n",
    "        return size - other.size;\n",
    "    }\n",
    "}\n",
    "\n",
    "List<Dog> dogs = new ArrayList<Dog>();\n",
    "dogs.add(new Dog(\"Grigometh\", 200));\n",
    "dogs.add(new Dog(\"Pelusa\", 5));\n",
    "dogs.add(new Dog(\"Clifford\", 5000));\n",
    "Collections.max(dogs).name;"
   ]
  },
  {
   "cell_type": "markdown",
   "metadata": {},
   "source": [
    "- Now, our Dog is something that may be compared to other dogs.\n",
    "- This comparable example is called a **subtype polymorphism**.\n",
    "    - A supertype (Comparable) sepcifies the capability.\n",
    "    - A subtype implements the new way of how the capability works.\n",
    "- \"Natural Order\" is used to refer to the ordering implied by a `Comparable`'s `CompareTo` method.\n",
    "- What if we wanted to find the dog with the greatest alphabeticaly name?\n",
    "\n",
    "## Comparator\n",
    "- Java provides a `Comparator` interface for objects that are degiend for comparing objects.\n",
    "    - We make a nested class:"
   ]
  },
  {
   "cell_type": "code",
   "execution_count": 14,
   "metadata": {},
   "outputs": [
    {
     "data": {
      "text/plain": [
       "Pelusa"
      ]
     },
     "execution_count": 14,
     "metadata": {},
     "output_type": "execute_result"
    }
   ],
   "source": [
    "public class Dog implements Comparable<Dog> {\n",
    "    public String name;\n",
    "    public int size;\n",
    "\n",
    "    public Dog(String n, int s) {\n",
    "        name = n;\n",
    "        size = s;\n",
    "    }\n",
    "\n",
    "    @Override\n",
    "    public int compareTo(Dog other) {\n",
    "        return size - other.size;\n",
    "    }\n",
    "\n",
    "    public static class NameComparator implements Comparator<Dog> {\n",
    "        @Override\n",
    "        public int compare(Dog a, Dog b) {\n",
    "            return a.name.compareTo(b.name);\n",
    "        }\n",
    "    }\n",
    "}\n",
    "\n",
    "List<Dog> dogs = new ArrayList<Dog>();\n",
    "dogs.add(new Dog(\"Grigometh\", 200));\n",
    "dogs.add(new Dog(\"Pelusa\", 5));\n",
    "dogs.add(new Dog(\"Clifford\", 5000));\n",
    "Collections.max(dogs, new Dog.NameComparator()).name;"
   ]
  },
  {
   "cell_type": "markdown",
   "metadata": {},
   "source": [
    "- The second argument that we passed into `Collections.max()` is an object of the type `Comparator<Dog>`.\n",
    "    - In Python we pass dunctions directly\n",
    "    - In Java, we package our compariso function inside of a Comparator object. We rely on on subtype polymorphism.\n",
    "    - This allows us to open other ways to compare dogs.\n",
    "- The following code may be more syntactically beautiful:"
   ]
  },
  {
   "cell_type": "code",
   "execution_count": 18,
   "metadata": {},
   "outputs": [
    {
     "data": {
      "text/plain": [
       "Pelusa"
      ]
     },
     "execution_count": 18,
     "metadata": {},
     "output_type": "execute_result"
    }
   ],
   "source": [
    "public class Dog implements Comparable<Dog> {\n",
    "    public String name;\n",
    "    public int size;\n",
    "    public static Comparator<Dog> NAME_COMPARATOR = new NameComparator();\n",
    "\n",
    "    public Dog(String n, int s) {\n",
    "        name = n;\n",
    "        size = s;\n",
    "    }\n",
    "\n",
    "    @Override\n",
    "    public int compareTo(Dog other) {\n",
    "        return size - other.size;\n",
    "    }\n",
    "\n",
    "    public static class NameComparator implements Comparator<Dog> {\n",
    "        @Override\n",
    "        public int compare(Dog a, Dog b) {\n",
    "            return a.name.compareTo(b.name);\n",
    "        }\n",
    "    }\n",
    "}\n",
    "\n",
    "List<Dog> dogs = new ArrayList<Dog>();\n",
    "dogs.add(new Dog(\"Grigometh\", 200));\n",
    "dogs.add(new Dog(\"Pelusa\", 5));\n",
    "dogs.add(new Dog(\"Clifford\", 5000));\n",
    "Collections.max(dogs, Dog.NAME_COMPARATOR).name;"
   ]
  },
  {
   "cell_type": "markdown",
   "metadata": {},
   "source": [
    "## Comparables vs Comparators\n",
    "- The `Comparable` interface specifies that a \"natural order\" exists.\n",
    "    - Instances of the class can compare themselves to other objects. Only one such order is possible.\n",
    "- The `Comparator` interface is used to compare extrinsically (by other classes)\n",
    "    - We may have many such classes each specifying one such order.\n",
    "\n",
    "## Writing a Generic Function\n",
    "- We can create a Generic Class and then instantiate an object every time to use the methods with generics.\n",
    "- However, we may also create a static generic method by specifying that the function works for objects with a type `T`, it returns a `T`, and is called `pickRandom`."
   ]
  },
  {
   "cell_type": "code",
   "execution_count": null,
   "metadata": {},
   "outputs": [],
   "source": [
    "public class RandomPicker {\n",
    "    public static <T> T pickRandom(T[] x) {\n",
    "        Random random = new Random();\n",
    "        int randomIndex = random.nextInt(x.length);\n",
    "        return x[randomIndex];\n",
    "    }\n",
    "}"
   ]
  },
  {
   "cell_type": "markdown",
   "metadata": {},
   "source": [
    "- However, this type of implementation does not work for primitives. Primitives must have their own implementations.\n",
    "- Now we may write a max function.\n",
    "    - We must specify that we want not just any `T`, but a `Comparable<T>`"
   ]
  },
  {
   "cell_type": "code",
   "execution_count": null,
   "metadata": {},
   "outputs": [],
   "source": [
    "public class Maximizer {\n",
    "    public static <T extends Comparable<T>> T max(T[] items) {\n",
    "        T maxItem = items[0]\n",
    "    }\n",
    "}"
   ]
  }
 ],
 "metadata": {
  "kernelspec": {
   "display_name": "Java",
   "language": "java",
   "name": "java"
  },
  "language_info": {
   "codemirror_mode": "java",
   "file_extension": ".jshell",
   "mimetype": "text/x-java-source",
   "name": "java",
   "pygments_lexer": "java",
   "version": "17.0.14+7-Ubuntu-122.04.1"
  }
 },
 "nbformat": 4,
 "nbformat_minor": 2
}
