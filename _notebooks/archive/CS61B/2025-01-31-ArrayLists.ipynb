{
 "cells": [
  {
   "cell_type": "markdown",
   "metadata": {},
   "source": [
    "---\n",
    "- title: \"ArrayLists\"\n",
    "- author: alex\n",
    "- badges: true\n",
    "- comments: true\n",
    "- categories: [CS61B]\n",
    "- date: 2024-02-05 1:00:00 -0800\n",
    "- math: true\n",
    "- tags: [CS61B, Data Structures, Arrays, ArrayLists, JAVA]\n",
    "---"
   ]
  },
  {
   "cell_type": "markdown",
   "metadata": {},
   "source": [
    "# Linked List Performance\n",
    "- While the Linked List is performant in operations such as insertion, addition, and removal of nodes, it is much more inefficient at retrieving data.\n",
    "    - inthis is because we only have pointers to the front and the back of a list for a DLList, which means in the worst case situation, if our index of interest was in the very middle, we would have to traverse `size/2` number of nodes before we arrive at what we are interested in.\n",
    "- On the other hand, we know that arrays are much more performant at accessing data membeters, as array attributes are accessible by numerical means. This provides constant time for element access in an array.\n",
    "\n",
    "# Array Based List\n",
    "- I first try to implement a naive `AList` that supports the `addLast`, `getLast`, `get`, and `size` operations for array sizes up to 100."
   ]
  },
  {
   "cell_type": "code",
   "execution_count": 24,
   "metadata": {},
   "outputs": [
    {
     "data": {
      "text/plain": [
       "2"
      ]
     },
     "execution_count": 24,
     "metadata": {},
     "output_type": "execute_result"
    }
   ],
   "source": [
    "public class AList {\n",
    "    private int[] array;\n",
    "    private int size;\n",
    "\n",
    "    public AList() {\n",
    "        array = new int[100];\n",
    "        size = 0;\n",
    "    }\n",
    "\n",
    "    public void addLast(int element) {\n",
    "        array[size] = element;\n",
    "        size++;\n",
    "    }\n",
    "\n",
    "    public void removeLast(int element) {\n",
    "        array[size] = 0;\n",
    "        size--;\n",
    "    }\n",
    "\n",
    "    public int get(int i) {\n",
    "        if (i >= size) {\n",
    "            return 0;\n",
    "        }\n",
    "        return array[i];\n",
    "    }\n",
    "\n",
    "    public int getLast() {\n",
    "        return array[size-1];\n",
    "    }\n",
    "\n",
    "    public int size() {\n",
    "        return size;\n",
    "    }\n",
    "}\n",
    "\n",
    "AList test = new AList();\n",
    "test.addLast(1);\n",
    "test.addLast(2);\n",
    "test.getLast();"
   ]
  },
  {
   "cell_type": "markdown",
   "metadata": {},
   "source": [
    "- However, a major draw back to this implementation is that the size of our ArrayList is fixed. If we have 100 items in our list, and try to add one more, our array would not be able to contain that element.\n",
    "- The way to address this issue is that we should just create a new array to accomodate for more data, while copying over our old data into the new array. We \"resize\" the array.\n",
    "    - We may modify our implementation in this manner:"
   ]
  },
  {
   "cell_type": "code",
   "execution_count": null,
   "metadata": {},
   "outputs": [],
   "source": [
    "public void addLast(int element) {\n",
    "    if (size == array.length) {\n",
    "        int[] temp = new int[size+1];\n",
    "        System.arraycopy(array, 0, temp, 0, size);\n",
    "        array = temp;\n",
    "    }\n",
    "    array[size] = element;\n",
    "    size++;\n",
    "}"
   ]
  },
  {
   "cell_type": "markdown",
   "metadata": {},
   "source": [
    "## Analyzing the Naive Resizing Array\n",
    "- Right now, our `AList` only increases size by 1 every time we need to go over the limit.\n",
    "    - With every resizing, we effectively have to create and fill the current size amount of memory boxes to fully migrate our data.\n",
    "    - Inserting items over the limit into our `AList` is a task of quadradic complexity as the amount of new memory boxes we need to create increases.\n",
    "- Thus, adding new memory boxes one by one is much too slow. Instead, if we opt for a geometric resizing method.\n",
    "    - We now would increase the amount of memory boxes that we have through a multiplicative factor, rather than an additive method.\n",
    "- The following represents an additive versus a geometric factor of allocating memory:"
   ]
  },
  {
   "cell_type": "code",
   "execution_count": null,
   "metadata": {},
   "outputs": [],
   "source": [
    "public void resize(int new_size) {\n",
    "    int[] temp = new int[new_size];\n",
    "    System.arraycopy(array, 0, temp, 0, size);\n",
    "    array = temp;\n",
    "}"
   ]
  },
  {
   "cell_type": "code",
   "execution_count": null,
   "metadata": {},
   "outputs": [],
   "source": [
    "public void addLastGeometric(int element) {\n",
    "    if (size == array.length) {\n",
    "        resize(size + RFACTOR);\n",
    "    }\n",
    "    array[size] = element;\n",
    "    size++;\n",
    "}"
   ]
  },
  {
   "cell_type": "code",
   "execution_count": null,
   "metadata": {},
   "outputs": [],
   "source": [
    "public void addLastGeometric(int element) {\n",
    "    if (size == array.length) {\n",
    "        resize(size * RFACTOR);\n",
    "    }\n",
    "    array[size] = element;\n",
    "    size++;\n",
    "}"
   ]
  },
  {
   "cell_type": "markdown",
   "metadata": {},
   "source": [
    "## Memory Performance\n",
    "- There is a new issue with our current implementation. If we extend our array size by a massive amount, and then remove many elements, this leaves many memory boxes unused but also taken up by the data structure.\n",
    "- We may then specify a certain usage ratio that represents how much of the Array is being occupied with data.\n",
    "    - `Usage Ratio = size / array.length`\n",
    "    - The array should be downsized once usage ratio is below a certain threshold. Typically, size is halaved when R decreases below than 0.25.\n",
    "- Since we reduce the size of our ArrayList with removeLast, we can add a check in removeLast to implement this feature"
   ]
  },
  {
   "cell_type": "code",
   "execution_count": null,
   "metadata": {},
   "outputs": [],
   "source": [
    "public void removeLast(int element) {\n",
    "    array[size] = 0\n",
    "    size--;\n",
    "    if ((double) size/array.length < DOWNSIZE_THRESHOLD) {\n",
    "        resize(size/2);\n",
    "    }\n",
    "}"
   ]
  },
  {
   "cell_type": "markdown",
   "metadata": {},
   "source": [
    "## Generic ALists\n",
    "- The method to implement a generic AList differs than our DLList because the Java array does not accept generics. We must use the following syntax:"
   ]
  },
  {
   "cell_type": "code",
   "execution_count": null,
   "metadata": {},
   "outputs": [],
   "source": [
    "T[] array = (T []) new Object[8]"
   ]
  },
  {
   "cell_type": "markdown",
   "metadata": {},
   "source": [
    "- We would also have to null out any items that we delete, so Java won't erase them so long as we have a reference to our list still.\n",
    "- Our final implementation looks like this:"
   ]
  },
  {
   "cell_type": "code",
   "execution_count": 1,
   "metadata": {},
   "outputs": [
    {
     "data": {
      "text/plain": [
       "9999"
      ]
     },
     "execution_count": 1,
     "metadata": {},
     "output_type": "execute_result"
    }
   ],
   "source": [
    "public class AList<T> {\n",
    "    private T[] array;\n",
    "    private int size;\n",
    "    private static final int RFACTOR = 2;\n",
    "    private static final double DOWNSIZE_THRESHOLD = 0.25;\n",
    "\n",
    "    public AList() {\n",
    "        this.array = (T []) new Object[1000];\n",
    "        this.size = 0;\n",
    "    }\n",
    "\n",
    "    private void resize(int new_size) {\n",
    "        T[] temp = (T []) new Object[new_size];\n",
    "        System.arraycopy(this.array, 0, temp, 0, this.size);\n",
    "        this.array = temp;\n",
    "    }\n",
    "\n",
    "    public void addLast(T element) {\n",
    "        if (this.size == this.array.length) {\n",
    "            resize(this.size * this.RFACTOR);\n",
    "        }\n",
    "        this.array[this.size] = element;\n",
    "        this.size++;\n",
    "    }\n",
    "\n",
    "    public T removeLast() {\n",
    "        T itemToReturn = this.array[this.size];\n",
    "        this.array[this.size] = null;\n",
    "        size--;\n",
    "        if ((double) this.size/this.array.length < this.DOWNSIZE_THRESHOLD) {\n",
    "            resize(this.size/2);\n",
    "        }\n",
    "        return itemToReturn;\n",
    "    }\n",
    "\n",
    "    public T get(int i) {\n",
    "        if (i >= this.size) {\n",
    "            throw new IndexOutOfBoundsException(\"Index \" + i + \" is out of bounds for AList with size \" + this.size);\n",
    "        }\n",
    "        return array[i];\n",
    "    }\n",
    "\n",
    "    public T getLast() {\n",
    "        return get(size-1);\n",
    "    }\n",
    "\n",
    "    public T getFirst() {\n",
    "        return get(0);\n",
    "    }\n",
    "\n",
    "    public int size() {\n",
    "        return size;\n",
    "    }\n",
    "}\n",
    "\n",
    "AList<Integer> test = new AList<Integer>();\n",
    "for (int i = 0; i < 10000; i++) {\n",
    "    test.addLast(i);\n",
    "}\n",
    "test.get(9999);"
   ]
  },
  {
   "cell_type": "code",
   "execution_count": null,
   "metadata": {},
   "outputs": [],
   "source": []
  }
 ],
 "metadata": {
  "kernelspec": {
   "display_name": "Java",
   "language": "java",
   "name": "java"
  },
  "language_info": {
   "codemirror_mode": "java",
   "file_extension": ".jshell",
   "mimetype": "text/x-java-source",
   "name": "java",
   "pygments_lexer": "java",
   "version": "17.0.14+7-Ubuntu-122.04.1"
  }
 },
 "nbformat": 4,
 "nbformat_minor": 2
}
