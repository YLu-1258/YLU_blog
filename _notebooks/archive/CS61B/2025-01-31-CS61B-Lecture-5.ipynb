{
 "cells": [
  {
   "cell_type": "markdown",
   "metadata": {},
   "source": [
    "---\n",
    "- title: \"'CS61B: Lecture 5'\"\n",
    "- author: alex\n",
    "- badges: true\n",
    "- comments: true\n",
    "- categories: [CS61B]\n",
    "- date: 2024-01-31 1:00:00 -0800\n",
    "- math: true\n",
    "- tags: [CS61B, Data Structures, Linked-List]\n",
    "---"
   ]
  },
  {
   "cell_type": "markdown",
   "metadata": {},
   "source": [
    "# Lecture\n",
    "- We notice that adding to the back of an `SLList` is much slower than adding to the front.\n",
    "    - We must traverse through the entire list.\n",
    "- We must change our data structure so that adding to the end of the list is also fast.\n",
    "    - One idea is to \"cache\" the last node, so that we point at the last item in the list.\n",
    "    - But a better idea is to use a sentinel for the end too. Our last reference could point to either a real node or a sentinel node.\n",
    "- For the sentinel node, we could add sentinels to both ends of the list, or we can have the sentinel loop back to itself.\n",
    "\n",
    "# Make Our class Generic.\n",
    "- Specify the generic type only once at the very top of the file.\n",
    "- In java files, specify the desired type during declaration, and use the empty diamond operator <> during instantiation.\n",
    "- When instantiating your data structure, we use the reference type rather than the primitive type.\n"
   ]
  },
  {
   "cell_type": "code",
   "execution_count": 16,
   "metadata": {
    "vscode": {
     "languageId": "java"
    }
   },
   "outputs": [
    {
     "name": "stdout",
     "output_type": "stream",
     "text": [
      "I\n",
      "love\n",
      "Michelle\n"
     ]
    }
   ],
   "source": [
    "public class SLList<T> {\n",
    "    private class Node {\n",
    "        public T item;\n",
    "        public Node next;\n",
    "    \n",
    "        public Node(T i, Node n) {\n",
    "            item = i;\n",
    "            next = n;\n",
    "        }\n",
    "    }\n",
    "\n",
    "    private Node sentinel;\n",
    "    private int size;\n",
    "\n",
    "    public SLList(T x) {\n",
    "        sentinel = new Node(null, null);\n",
    "        sentinel.next = new Node(x, null);\n",
    "        size = 1;\n",
    "    }\n",
    "\n",
    "    public SLList() {\n",
    "        sentinel = new Node(null, null);\n",
    "        size = 0;\n",
    "    }\n",
    "\n",
    "    public void addFirst(T x) {\n",
    "        sentinel.next = new Node(x, sentinel.next);\n",
    "        size+=1;\n",
    "    }\n",
    "\n",
    "    public T getFirst() {\n",
    "        return sentinel.next.item;\n",
    "    }\n",
    "\n",
    "    public T get(int i) {\n",
    "        Node dummy = sentinel; \n",
    "        while (i > -1 && dummy.next != null) {\n",
    "            dummy = dummy.next;\n",
    "            i--;\n",
    "        }\n",
    "        return dummy.item;\n",
    "    }\n",
    "\n",
    "    public void addLast(T x) {\n",
    "        Node dummy = sentinel;\n",
    "        while (dummy.next != null) {\n",
    "            dummy = dummy.next;\n",
    "        }\n",
    "        dummy.next = new Node(x, null);\n",
    "        size+=1;\n",
    "    }\n",
    "\n",
    "    public int size() {\n",
    "        return size;\n",
    "    }\n",
    "}\n",
    "\n",
    "SLList<String> L = new SLList<>(\"love\");\n",
    "L.addFirst(\"I\");\n",
    "L.addLast(\"Michelle\");\n",
    "for (int i = 0; i < 3; i++) {\n",
    "    System.out.println(L.get(i));\n",
    "}"
   ]
  },
  {
   "cell_type": "markdown",
   "metadata": {},
   "source": [
    "# Arrays\n",
    "- To store information, we need memory boxes, which are created when declaring variables or instantiating objects.\n",
    "- Refernce types are allocated 64 bits, while primitives like int (32 bits) vary.\n",
    "    - When we instantiate an objct, memory voxes are allocated for every attribute stored by that object.\n",
    "- Arrays are a special kind of object that have a numbered sequence of memory boxes.\n",
    "    - To get an ith item of an array `A[i]`, use `A[i]`\n",
    "    - They do not have named memory boxes like classes.\n",
    "    - Arrays have a fixed size.\n",
    "- Arrays have a sequence of N meory boxes where N=length, such that all boxes must hold the same type and thus have the same number of bits.\n",
    "    - The boxes are numbered based on 0-index.\n",
    "- Only one reference is created when an array is created, if we reassign all variables containing that reference then we never get the array back.\n",
    "- Arrays also do not have methods like classes.\n",
    "    - \"It is just a sequence of boxes\"\n",
    "\n",
    "## Creating arrays\n",
    "- Arrays are almost always instantiated with new.\n",
    "- Three main valid notations:"
   ]
  },
  {
   "cell_type": "code",
   "execution_count": null,
   "metadata": {
    "vscode": {
     "languageId": "java"
    }
   },
   "outputs": [
    {
     "name": "stdout",
     "output_type": "stream",
     "text": [
      "[9, 10, 11, 12, 13]\n"
     ]
    }
   ],
   "source": [
    "int[] x = new int[3]; // Every box gets default value of 0\n",
    "int[] y = new int[]{1,2,3,4,5}; // Implies length is 5\n",
    "int[] z = {9, 10, 11, 12, 13};\n",
    "System.out.println(Arrays.toString(z));"
   ]
  },
  {
   "cell_type": "markdown",
   "metadata": {},
   "source": [
    "- Two ways to copy arrays;\n",
    "    - Iterate over items using a loop.\n",
    "    - Using arraycopy, which takes 5 parameters:\n",
    "        - Source array,\n",
    "        - Source start\n",
    "        - Destination array\n",
    "        - Destination start\n",
    "        - How many to copy.\n",
    "\n",
    "## Java 2D arrays\n",
    "- There are no 2D arrays in Java, only arrays of array references.\n",
    "- Arrays and Classes are both used to organize memory boxes.\n",
    "    - Array boxes are accessed using [] notation.\n",
    "    - Class boxes are accessed using dot notation.\n",
    "    - Array boces must be of the same type.\n",
    "    - Class boxes may be of different types.\n",
    "    - Both have a fixed number of boxes."
   ]
  }
 ],
 "metadata": {
  "kernelspec": {
   "display_name": "Java",
   "language": "java",
   "name": "java"
  },
  "language_info": {
   "codemirror_mode": "java",
   "file_extension": ".jshell",
   "mimetype": "text/x-java-source",
   "name": "Java",
   "pygments_lexer": "java",
   "version": "17.0.13+11-Ubuntu-2ubuntu122.04"
  }
 },
 "nbformat": 4,
 "nbformat_minor": 2
}
