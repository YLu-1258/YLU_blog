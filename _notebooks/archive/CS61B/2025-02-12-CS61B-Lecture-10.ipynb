{
 "cells": [
  {
   "cell_type": "markdown",
   "metadata": {},
   "source": [
    "---\n",
    "- title: \"'CS61B: Lecture 10'\"\n",
    "- author: alex\n",
    "- badges: true\n",
    "- comments: true\n",
    "- categories: [CS61B]\n",
    "- date: 2024-02-12 1:00:00 -0800\n",
    "- math: true\n",
    "- tags: [CS61B, Inheritance, JAVA]\n",
    "---"
   ]
  },
  {
   "cell_type": "markdown",
   "metadata": {},
   "source": [
    "# Iterators, Object Methods\n",
    "- We want to implement a `Set` called `ArraySet`\n",
    "    - Sets can only have one copy of each item.\n",
    "- We start with an `ArraySet` with the following methods:\n",
    "    - `add(value)`\n",
    "    - `contains(value)`\n",
    "    - `get(value)`\n",
    "- When we want to check equality between items, we use `.equals()` rather than `==`\n",
    "    - `==` only checks if the bits are the same.\n",
    "\n",
    "## Enanced forloop\n",
    "- This is a shorthand notation but not exactly method overloading.\n",
    "- We must implement this using iterators.\n",
    "- We may only use the enhanced forloop using the iterator object."
   ]
  },
  {
   "cell_type": "code",
   "execution_count": 2,
   "metadata": {},
   "outputs": [
    {
     "name": "stdout",
     "output_type": "stream",
     "text": [
      "5\n",
      "23\n",
      "42\n"
     ]
    }
   ],
   "source": [
    "Set<Integer> javaset = new HashSet<Integer>();\n",
    "javaset.add(5);\n",
    "javaset.add(23);\n",
    "javaset.add(42);\n",
    "for (int i : javaset) {\n",
    "    System.out.println(i);\n",
    "}"
   ]
  },
  {
   "cell_type": "markdown",
   "metadata": {},
   "source": [
    "- The enhanced forloop first calls the `.iterator()` method of the object.\n",
    "    - We then get an object of type `Iterator`.\n",
    "    - The `Iterator` interface has it's own interface that allows us to check if there is a next value `hasNext()` or get the next value `next()`\n",
    "- The enhanced for loop is really doing the following code:"
   ]
  },
  {
   "cell_type": "code",
   "execution_count": 3,
   "metadata": {},
   "outputs": [
    {
     "name": "stdout",
     "output_type": "stream",
     "text": [
      "5\n",
      "23\n",
      "42\n"
     ]
    }
   ],
   "source": [
    "Set<Integer> javaset = new HashSet<Integer>();\n",
    "javaset.add(5);\n",
    "javaset.add(23);\n",
    "javaset.add(42);\n",
    "\n",
    "Iterator<Integer> seer = javaset.iterator();\n",
    "while (seer.hasNext()) {\n",
    "    System.out.println(seer.next());\n",
    "}"
   ]
  },
  {
   "cell_type": "markdown",
   "metadata": {},
   "source": [
    "# Iterators\n",
    "- To support ugly iteration, we need to add an `iterator()`  method to `ArraySet` that returns an `Iterator<T>`\n",
    "- The `Iterator<T>` that we return must have a `.hasNext()` and a `next()` method."
   ]
  },
  {
   "cell_type": "code",
   "execution_count": null,
   "metadata": {},
   "outputs": [],
   "source": [
    "// an arraySetItereator is the seer\n",
    "private class ArraySetIterator implements Iterator<T> {\n",
    "    private int pos;\n",
    "\n",
    "    public ArraySetIterator () {\n",
    "        pos = 0;\n",
    "    }\n",
    "\n",
    "    @Override\n",
    "    public boolean hasNext() {\n",
    "        if (pos < size) {\n",
    "            return true;\n",
    "        }\n",
    "        return false;\n",
    "    }\n",
    "\n",
    "    @Override\n",
    "    public T next() {\n",
    "        T itemToReturn = items[pos];\n",
    "        pos++;\n",
    "        return itemToReturn;\n",
    "    }\n",
    "}\n",
    "\n",
    "public Iterator<T> iterator() {\n",
    "    return new ArraySetIterator();\n",
    "}"
   ]
  },
  {
   "cell_type": "markdown",
   "metadata": {},
   "source": [
    "- To allow for the enhanced for-each loop, we must ensure our ArraySet is also an iterable object."
   ]
  },
  {
   "cell_type": "code",
   "execution_count": null,
   "metadata": {},
   "outputs": [],
   "source": [
    "public class ArraySet<T> implements Iterable<T> {\n",
    "    ...\n",
    "}"
   ]
  },
  {
   "cell_type": "markdown",
   "metadata": {},
   "source": [
    "# Object class\n",
    "- All classes and objects in Java are hyponyms of `Object`.\n",
    "- One of the methods of an `Object` is `toString`, which will return a string representation of our object."
   ]
  },
  {
   "cell_type": "code",
   "execution_count": null,
   "metadata": {},
   "outputs": [],
   "source": [
    "@Override\n",
    "public String toString() {\n",
    "    StringBuilder stringToReturn = \"{\";\n",
    "    for (T x : this) {\n",
    "        stringToReturn.append(x);\n",
    "        stringToReturn.append(\",\");\n",
    "    }\n",
    "    stringToReturn.append(\"}\");\n",
    "    return stringToReturn.toString();\n",
    "}"
   ]
  },
  {
   "cell_type": "markdown",
   "metadata": {},
   "source": [
    "# `==` vs `.equals()`\n",
    "- `==` compares the bits. So `==` means \"referencing the same object.\"\n",
    "- `.equals()` comapres the values, but we typically have to rewrite the `.equals()` method for our class.\n",
    "    - `.equals()` by default behaves the same as `==`. It checks the addresses.\n",
    "- However, `.equals()` must accept some Object o, so most time we need to check if `o` is the object that we want to compare to."
   ]
  },
  {
   "cell_type": "code",
   "execution_count": null,
   "metadata": {},
   "outputs": [],
   "source": [
    "@Override\n",
    "public boolean equals(Object o) {\n",
    "    if (this == o) {return true;}\n",
    "    if (o instanceof ArraySet someSet) {\n",
    "        if (this.size != someSet.size) {\n",
    "            return false;\n",
    "        }\n",
    "        for (T x : this) {\n",
    "            if (!someSet.contains(x)) {\n",
    "                return false;\n",
    "            }\n",
    "        }\n",
    "        return true;\n",
    "    }\n",
    "    return false;\n",
    "}"
   ]
  }
 ],
 "metadata": {
  "kernelspec": {
   "display_name": "Java",
   "language": "java",
   "name": "java"
  },
  "language_info": {
   "codemirror_mode": "java",
   "file_extension": ".jshell",
   "mimetype": "text/x-java-source",
   "name": "java",
   "pygments_lexer": "java",
   "version": "17.0.14+7-Ubuntu-122.04.1"
  }
 },
 "nbformat": 4,
 "nbformat_minor": 2
}
