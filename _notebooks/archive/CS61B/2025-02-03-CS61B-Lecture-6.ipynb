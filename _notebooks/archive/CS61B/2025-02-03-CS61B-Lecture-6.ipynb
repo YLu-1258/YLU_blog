{
 "cells": [
  {
   "cell_type": "markdown",
   "metadata": {},
   "source": [
    "---\n",
    "- title: \"'CS61B: Lecture 6'\"\n",
    "- author: alex\n",
    "- badges: true\n",
    "- comments: true\n",
    "- categories: [CS61B]\n",
    "- date: 2024-02-03 1:00:00 -0800\n",
    "- math: true\n",
    "- tags: [CS61B, Testing]\n",
    "---"
   ]
  },
  {
   "cell_type": "markdown",
   "metadata": {},
   "source": [
    "# Testing\n",
    "- If we write a function to test the output of a unit of our code to a pre-determined output, that is called a unit test.\n",
    "- Ex: Sorting function for an array of strings."
   ]
  },
  {
   "cell_type": "code",
   "execution_count": null,
   "metadata": {
    "vscode": {
     "languageId": "java"
    }
   },
   "outputs": [],
   "source": []
  },
  {
   "cell_type": "code",
   "execution_count": 46,
   "metadata": {
    "vscode": {
     "languageId": "java"
    }
   },
   "outputs": [
    {
     "data": {
      "text/plain": [
       "[bob, c++ is ..., cat, luka]"
      ]
     },
     "execution_count": 46,
     "metadata": {},
     "output_type": "execute_result"
    }
   ],
   "source": [
    "public class Sort {\n",
    "    public static int findSmallest(String[] x, int s) {\n",
    "        int smallest = s;\n",
    "        for (int i = s; i < x.length; i+=1) {\n",
    "            if (x[i].compareTo(x[smallest]) < 0) {\n",
    "                smallest = i;\n",
    "            }\n",
    "        }\n",
    "        return smallest;\n",
    "    }\n",
    "\n",
    "    public static void swap(String[] x, int a, int b) {\n",
    "        String temp = x[a];\n",
    "        x[a] = x[b];\n",
    "        x[b] = temp;\n",
    "    }\n",
    "\n",
    "    public static void sort(String[] x) {\n",
    "        sort(x, 0);\n",
    "    }\n",
    "\n",
    "    /*\n",
    "     * Helper methods could be used to use recursion\n",
    "     * in a method that does not support recorsion\n",
    "     */\n",
    "    private static void sort(String[] x, int s) {\n",
    "        if (s == x.length) {\n",
    "            return ;\n",
    "        }\n",
    "        int smallest = findSmallest(x, s);\n",
    "        swap(x, s, smallest);\n",
    "        sort(x, s+1);\n",
    "    }\n",
    "}\n",
    "\n",
    "String[] test = {\"cat\", \"bob\", \"luka\", \"c++ is ...\"};\n",
    "Sort.sort(test);\n",
    "Arrays.toString(test);"
   ]
  },
  {
   "cell_type": "markdown",
   "metadata": {},
   "source": [
    "- A unit test for example would look like the following:"
   ]
  },
  {
   "cell_type": "code",
   "execution_count": 50,
   "metadata": {
    "vscode": {
     "languageId": "java"
    }
   },
   "outputs": [],
   "source": [
    "%classpath add jar ../../cs61b/library-sp25/*.jar"
   ]
  },
  {
   "cell_type": "code",
   "execution_count": 54,
   "metadata": {
    "vscode": {
     "languageId": "java"
    }
   },
   "outputs": [],
   "source": [
    "public class TestSort {\n",
    "    @Test\n",
    "    public static void testSort() {\n",
    "        String[] input = {\"cat\", \"bob\", \"luka\", \"c++ is ...\"};\n",
    "        String[] expected = {\"bob\", \"cat\", \"C++ is ...\", \"luka\"};\n",
    "        Sort.sort(input);\n",
    "\n",
    "        assertThat(input).isEqualTo(expected);\n",
    "    }\n",
    "\n",
    "    @Test\n",
    "    public static void testFindSmallest() {\n",
    "        String[] input = {\"cat\", \"bob\", \"luka\", \"c++ is ...\"};\n",
    "        int expected = 1;\n",
    "        int actual = Sort.findSmallest(input, 0);\n",
    "        \n",
    "        assertThat(input).isEqualTo(expected);\n",
    "    }\n",
    "\n",
    "    @Test\n",
    "    public static void testSwap() {\n",
    "        String[] input = {\"cat\", \"bob\", \"luka\", \"c++ is ...\"};\n",
    "        String[] expected = {\"bob\", \"cat\", \"luka\", \"c++ is ...\"};\n",
    "        Sort.swap(input, 0, 1);\n",
    "        \n",
    "        assertThat(input).isEqualTo(expected);\n",
    "    }\n",
    "}"
   ]
  }
 ],
 "metadata": {
  "kernelspec": {
   "display_name": "Java",
   "language": "java",
   "name": "java"
  },
  "language_info": {
   "codemirror_mode": "java",
   "file_extension": ".jshell",
   "mimetype": "text/x-java-source",
   "name": "Java",
   "pygments_lexer": "java",
   "version": "17.0.13+11-Ubuntu-2ubuntu122.04"
  }
 },
 "nbformat": 4,
 "nbformat_minor": 2
}
