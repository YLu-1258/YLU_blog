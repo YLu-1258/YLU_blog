{
 "cells": [
  {
   "cell_type": "markdown",
   "metadata": {},
   "source": [
    "---\n",
    "- title: \"Arrays\"\n",
    "- author: alex\n",
    "- badges: true\n",
    "- comments: true\n",
    "- categories: [CS61B]\n",
    "- date: 2024-01-31 1:00:00 -0800\n",
    "- math: true\n",
    "- tags: [CS61B, Data Structures, Arrays, JAVA]\n",
    "---"
   ]
  },
  {
   "cell_type": "markdown",
   "metadata": {},
   "source": [
    "# Arrays\n",
    "- Like classes, arrays are also sequences of memory boxes. However\n",
    "    - Classes have named memory boxes (mapped variable names to memory).\n",
    "    - Class boxes can store different types.\n",
    "    - Arrays have numbered memory boxes (accessible by index). Arrays do not have methods\n",
    "    - Array boxes must store the same variable type.\n",
    "- Any array has a fixed length\n",
    "\n",
    "## Array Creation\n",
    "- There are three ways to create an array:"
   ]
  },
  {
   "cell_type": "code",
   "execution_count": 5,
   "metadata": {},
   "outputs": [],
   "source": [
    "x = new int[3];\n",
    "int[] y = new int[]{1, 2, 3, 4, 5};\n",
    "int[] z = {9, 10, 11, 12, 13}"
   ]
  },
  {
   "cell_type": "markdown",
   "metadata": {},
   "source": [
    "- First notation creates an array of length 3 and each memory box is filled with default value 0.\n",
    "- Second notation creates an array with the size needed to store the specified values.\n",
    "- Third notation declares and creates z, but omits the use of `new`.\n",
    "\n",
    "## Array Access and Modification\n",
    "- We can access array elements using index notation like in python.\n",
    "    - However, Java does not support negative indexing.\n",
    "- Java also has as a method `System.arraycopy` that copies one section of one array over to a same-length section in another array. Five parameters ar etaken\n",
    "    - The source array\n",
    "    - Starting index in the source array\n",
    "    - The destination array\n",
    "    - Starting index in the destination array\n",
    "    - How many items to copy."
   ]
  },
  {
   "cell_type": "code",
   "execution_count": 9,
   "metadata": {},
   "outputs": [
    {
     "data": {
      "text/plain": [
       "[0, 0, 0, 3, 4]"
      ]
     },
     "execution_count": 9,
     "metadata": {},
     "output_type": "execute_result"
    }
   ],
   "source": [
    "int[] x = {1,2,3,4,5};\n",
    "int[] y = new int[5];\n",
    "System.arraycopy(x, 2, y, 3, 2);\n",
    "Arrays.toString(y);"
   ]
  },
  {
   "cell_type": "markdown",
   "metadata": {},
   "source": [
    "- We may also use a loop to copy over array elements. However, if we run out of index out of bounds errors, Java only catches them at runtime, and not compilation.\n",
    "\n",
    "## 2D Java Arrays\n",
    "- 2D arrays in Java are just arrays of arrays.\n",
    "- However, each element in the parent array doesn't store the memory boxes of the array, rather, it stores an array reference to the memory location of the child arrays."
   ]
  }
 ],
 "metadata": {
  "kernelspec": {
   "display_name": "Java",
   "language": "java",
   "name": "java"
  },
  "language_info": {
   "codemirror_mode": "java",
   "file_extension": ".jshell",
   "mimetype": "text/x-java-source",
   "name": "java",
   "pygments_lexer": "java",
   "version": "17.0.13+11-Ubuntu-2ubuntu122.04"
  }
 },
 "nbformat": 4,
 "nbformat_minor": 2
}
