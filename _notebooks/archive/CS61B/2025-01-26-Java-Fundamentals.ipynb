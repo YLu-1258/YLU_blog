{
 "cells": [
  {
   "cell_type": "markdown",
   "metadata": {},
   "source": [
    "---\n",
    "- title: \"Java Fundamentals\"\n",
    "- author: alex\n",
    "- badges: true\n",
    "- comments: true\n",
    "- categories: [CS61B]\n",
    "- date: 2024-01-26 1:00:00 -0800\n",
    "- math: true\n",
    "- tags: [CS61B, JAVA]\n",
    "---"
   ]
  },
  {
   "cell_type": "markdown",
   "metadata": {},
   "source": [
    "# Static Vs. Non-Static Methods\n",
    "- An object is an instance of any class.\n",
    "- Each class may have instance variables that are unique to each instance object, or static variables that are common to the entire class.\n",
    "    - It is good convention to refer to static elements with the Class rather than an instance.\n",
    "- Instances may use both static and non-static attributes, while static methods may only access static attributes.\n",
    "- Within an instance, instance attributes are referred to using the `this` keyword.\n",
    "- A constructor is a method that is ran when instantiating an intsance."
   ]
  },
  {
   "cell_type": "code",
   "execution_count": 24,
   "metadata": {},
   "outputs": [
    {
     "name": "stdout",
     "output_type": "stream",
     "text": [
      "Aroooooo!\n",
      "Dog(maya, 25)\n"
     ]
    }
   ],
   "source": [
    "public class Dog {\n",
    "    private String sound;\n",
    "    private String name;\n",
    "    private int weight;\n",
    "    \n",
    "    public Dog(String name, int weight) {\n",
    "        this.weight = weight;\n",
    "        this.name = name;\n",
    "        if (weight > 20) {\n",
    "            this.sound = \"Aroooooo!\";\n",
    "        } else if (weight > 10) {\n",
    "            this.sound = \"woof!\";\n",
    "        } else {\n",
    "            this.sound = \"yip yip yip!\";\n",
    "        }\n",
    "    }\n",
    "\n",
    "    public void makeNoise() {\n",
    "        System.out.println(this.sound);\n",
    "    }\n",
    "\n",
    "    public static Dog maxDog(Dog d1, Dog d2) {\n",
    "        if (d1.weight > d2.weight) {\n",
    "            return d1;\n",
    "        }\n",
    "        return d2;\n",
    "    }\n",
    "\n",
    "    @Override\n",
    "    public String toString() {\n",
    "        return \"Dog(\" + this.name + \", \" + this.weight + \")\";\n",
    "    } \n",
    "}\n",
    "\n",
    "Dog maya = new Dog(\"maya\", 25);\n",
    "Dog jim = new Dog(\"jim\", 9);\n",
    "maya.makeNoise();\n",
    "System.out.println(Dog.maxDog(maya, jim));"
   ]
  },
  {
   "cell_type": "markdown",
   "metadata": {},
   "source": [
    "# References, Recursion, and Lists\n",
    "- Java has both **arrays** and **lists**.\n",
    "    - **Arrays:** A fixed-size collection of objects.\n",
    "    - **Lists:** A dynamic-size collection of objects.\n",
    "- All data within Java is stored as a sequence of bits.\n",
    "    - Each data type takes up a different number of bits.\n",
    "    - Java has 8 primitive types: **byte**, **short**, **int**, **long**, **float**, **double**, **boolean**, **char**.\n",
    "- Whenever a variable of a type is declared, Java allocates a contiguous block of memory with enough bits to hold that variable.\n",
    "    - Java does not expose the memory location of variables and objects. This means less control, but also a less range of errors that can be made (such as segmentation faults).\n",
    "\n",
    "## The Golden Rule of Equals (GRoE)\n",
    "- Whenever we pass by value, such as assigning a value to some variable, we copy the bits of that value to the new variable.\n",
    "- Other than the eight primitive types, every other type in Java is a **reference** type.\n",
    "- Process of object instantiation:\n",
    "    - Java allocates memory for each instance variable of the class.\n",
    "    - The constructor fills custom values for each instance variable.\n",
    "    - Whenever a variable of a reference type is created, Java allocates 64 bytes to store not the object, but the address of the object in memory.\n",
    "- When `null` is stored to a reference variable, we see all zeros.\n",
    "- Ex: This is what the instance variable actually stores, an integer representation of the address of the object."
   ]
  },
  {
   "cell_type": "code",
   "execution_count": 25,
   "metadata": {},
   "outputs": [
    {
     "name": "stdout",
     "output_type": "stream",
     "text": [
      "1397079044\n"
     ]
    }
   ],
   "source": [
    "System.out.println(maya.hashCode());"
   ]
  },
  {
   "cell_type": "markdown",
   "metadata": {},
   "source": [
    "## Parameter Passing\n",
    "- When parameters are passed to a function, the bits of the parameters are copied over. This is called **pass by value**. Java always passes by value."
   ]
  },
  {
   "cell_type": "code",
   "execution_count": 28,
   "metadata": {},
   "outputs": [
    {
     "name": "stdout",
     "output_type": "stream",
     "text": [
      "weight: 3400, tusk size: 10.50\n",
      "9\n"
     ]
    }
   ],
   "source": [
    "public static class Walrus {\n",
    "    public int weight;\n",
    "    public double tuskSize;\n",
    "    \n",
    "    public Walrus(int w, double ts) {\n",
    "       weight = w;\n",
    "       tuskSize = ts;\n",
    "    }\n",
    "\n",
    "    public String toString() {\n",
    "       return String.format(\"weight: %d, tusk size: %.2f\", weight, tuskSize);\n",
    "    }\n",
    "}\n",
    "\n",
    "public class PassByValueFigure {\n",
    "    public static void main(String[] args) {\n",
    "           Walrus walrus = new Walrus(3500, 10.5);\n",
    "           int x = 9;\n",
    "\n",
    "           doStuff(walrus, x);\n",
    "           System.out.println(walrus);\n",
    "           System.out.println(x);\n",
    "    }\n",
    "\n",
    "    public static void doStuff(Walrus W, int x) {\n",
    "           W.weight = W.weight - 100;\n",
    "           x = x - 5;\n",
    "    }\n",
    "}\n",
    "\n",
    "PassByValueFigure.main(null);"
   ]
  },
  {
   "cell_type": "markdown",
   "metadata": {},
   "source": [
    "- In this case, the value of x wasn't changed as doStuff manipulated a separate variable in its frame. The original bytes remained the same.\n",
    "- However, the \"W\" in doStuff contains the same address as the \"walrus\" in the main method. Thus, they both refer to the same object, so any changes made to W is also applied to walrus.\n",
    "\n",
    "## Instantion of Arrays\n",
    "- Variables storing arrays are also reference variables.\n",
    "- Ex:\n",
    "    - The `new` keyword creates 5 memory segments with 32 bits each for each integer and returns a 32bit address that is stored in x that points to the array."
   ]
  },
  {
   "cell_type": "code",
   "execution_count": 35,
   "metadata": {},
   "outputs": [
    {
     "name": "stdout",
     "output_type": "stream",
     "text": [
      "1974906852\n"
     ]
    },
    {
     "name": "stdout",
     "output_type": "stream",
     "text": [
      "[1, 2, 3, 4, 5]\n"
     ]
    }
   ],
   "source": [
    "int[] x = new int[]{1,2,3,4,5};\n",
    "System.out.println(x.hashCode());\n",
    "System.out.println(Arrays.toString(x));"
   ]
  },
  {
   "cell_type": "markdown",
   "metadata": {},
   "source": [
    "- If the reference to an object is lost or overriden, Java simply destroys the object.\n",
    "\n",
    "## IntList\n",
    "- A very simple list can be created after the linked-list structure:"
   ]
  },
  {
   "cell_type": "code",
   "execution_count": 5,
   "metadata": {},
   "outputs": [
    {
     "data": {
      "text/plain": [
       "[1, 3, 2, 1]"
      ]
     },
     "execution_count": 5,
     "metadata": {},
     "output_type": "execute_result"
    }
   ],
   "source": [
    "public class IntList {\n",
    "    public int first;\n",
    "    public IntList rest;\n",
    "\n",
    "    public IntList(int first, IntList rest) {\n",
    "        this.first = first;\n",
    "        this.rest = rest;\n",
    "    }\n",
    "\n",
    "    @Override\n",
    "    public String toString() {\n",
    "        return \"[\" + this.toStringHelper() + \"]\";\n",
    "    }\n",
    "    public String toStringHelper() {\n",
    "        if (rest != null) {\n",
    "            return this.first + \", \" + this.rest.toStringHelper();\n",
    "        } else {\n",
    "            return String.valueOf(this.first);\n",
    "        }\n",
    "    }\n",
    "\n",
    "    public int size() {\n",
    "        if (this.rest != null) {\n",
    "            return 1 + this.rest.size();\n",
    "        } else {\n",
    "            return 1;\n",
    "        }\n",
    "    }\n",
    "\n",
    "    public int iterativeSize() {\n",
    "        int size = 1;\n",
    "        IntList dummy = this;\n",
    "        while (dummy.rest != null) {\n",
    "            dummy = dummy.rest;\n",
    "            size++;\n",
    "        }\n",
    "        return size;\n",
    "    }\n",
    "\n",
    "    public int get(int i) {\n",
    "        if (i == 0) {\n",
    "            return this.first;\n",
    "        } else if (this.rest != null) {\n",
    "            return this.rest.get(--i);\n",
    "        } else {\n",
    "            return -1;\n",
    "        }\n",
    "    }\n",
    "\n",
    "    public void addFirst(int i) {\n",
    "        rest = new IntList(first, rest);\n",
    "        first = i;\n",
    "    }\n",
    "}\n",
    "\n",
    "IntList L = new IntList(1, null);\n",
    "L = new IntList(2, L);\n",
    "L = new IntList(3, L);\n",
    "L.addFirst(1);\n",
    "L;"
   ]
  }
 ],
 "metadata": {
  "kernelspec": {
   "display_name": "Java",
   "language": "java",
   "name": "java"
  },
  "language_info": {
   "codemirror_mode": "java",
   "file_extension": ".jshell",
   "mimetype": "text/x-java-source",
   "name": "java",
   "pygments_lexer": "java",
   "version": "17.0.13+11-Ubuntu-2ubuntu122.04"
  }
 },
 "nbformat": 4,
 "nbformat_minor": 2
}
