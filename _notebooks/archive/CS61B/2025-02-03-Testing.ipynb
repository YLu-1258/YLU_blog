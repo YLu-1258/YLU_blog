{
 "cells": [
  {
   "cell_type": "markdown",
   "metadata": {},
   "source": [
    "---\n",
    "- title: \"Testing\"\n",
    "- author: alex\n",
    "- badges: true\n",
    "- comments: true\n",
    "- categories: [CS61B]\n",
    "- date: 2024-02-03 1:00:00 -0800\n",
    "- math: true\n",
    "- tags: [CS61B, Testing, JAVA]\n",
    "---"
   ]
  },
  {
   "cell_type": "markdown",
   "metadata": {},
   "source": [
    "# Testing\n",
    "# Ad Hoc Testing\n",
    "- Very simple testing could work by having a function that tests if the output of our function is equivalent to the expected result we provide outselves.\n",
    "- However, this testing could be tedious to create if we want to create many different test cases.\n",
    "    - Use JUnit Testing."
   ]
  },
  {
   "cell_type": "code",
   "execution_count": null,
   "metadata": {
    "vscode": {
     "languageId": "java"
    }
   },
   "outputs": [],
   "source": [
    "public class TestSort {\n",
    "    /** Tests the sort method of the Sort class. */\n",
    "    public static void testSort() {\n",
    "        String[] input = {\"i\", \"have\", \"an\", \"egg\"};\n",
    "        String[] expected = {\"an\", \"egg\", \"have\", \"i\"};\n",
    "        Sort.sort(input);\n",
    "        for (int i = 0; i < input.length; i += 1) {\n",
    "            if (!input[i].equals(expected[i])) {\n",
    "                System.out.println(\"Mismatch in position \" + i + \", expected: \" + expected + \", but got: \" + input[i] + \".\");\n",
    "                break;\n",
    "            }\n",
    "        }\n",
    "    }\n",
    "\n",
    "    public static void main(String[] args) {\n",
    "        testSort();\n",
    "    }\n",
    "}"
   ]
  },
  {
   "cell_type": "markdown",
   "metadata": {},
   "source": [
    "## JUnit Testing\n",
    "- Google truth library offers methods to simplify writing tests."
   ]
  },
  {
   "cell_type": "code",
   "execution_count": 9,
   "metadata": {
    "vscode": {
     "languageId": "java"
    }
   },
   "outputs": [],
   "source": [
    "%maven com.google.truth:truth:1.1.3"
   ]
  },
  {
   "cell_type": "code",
   "execution_count": 11,
   "metadata": {
    "vscode": {
     "languageId": "java"
    }
   },
   "outputs": [
    {
     "ename": "CompilationException",
     "evalue": "",
     "output_type": "error",
     "traceback": [
      "\u001b[1m\u001b[30m|   \u001b[1m\u001b[30m       \u001b[0m\u001b[1m\u001b[30m\u001b[41mSort\u001b[0m\u001b[1m\u001b[30m.sort(input);\u001b[0m",
      "\u001b[1m\u001b[31mcannot find symbol\u001b[0m",
      "\u001b[1m\u001b[31m  symbol:   variable Sort\u001b[0m",
      "",
      "\u001b[1m\u001b[30m|   \u001b[1m\u001b[30m       \u001b[0m\u001b[1m\u001b[30m\u001b[41massertThat\u001b[0m\u001b[1m\u001b[30m(input).isEqualTo(expected);\u001b[0m",
      "\u001b[1m\u001b[31mcannot access com.google.common.base.Optional\u001b[0m",
      "\u001b[1m\u001b[31m  class file for com.google.common.base.Optional not found\u001b[0m",
      ""
     ]
    }
   ],
   "source": [
    "import static com.google.common.truth.Truth.assertThat;\n",
    "public class TestSort {\n",
    "   /** Tests the sort method of the Sort class. */\n",
    "   public static void testSort() {\n",
    "       String[] input = {\"cows\", \"dwell\", \"above\", \"clouds\"};\n",
    "       String[] expected = {\"above\", \"clouds\", \"cows\", \"dwell\"};\n",
    "       Sort.sort(input);\n",
    "\n",
    "       assertThat(input).isEqualTo(expected);\n",
    "   }\n",
    "\n",
    "   public static void main(String[] args) {\n",
    "       testSort();\n",
    "   }\n",
    "}\n"
   ]
  },
  {
   "cell_type": "code",
   "execution_count": null,
   "metadata": {
    "vscode": {
     "languageId": "java"
    }
   },
   "outputs": [],
   "source": []
  },
  {
   "cell_type": "markdown",
   "metadata": {},
   "source": [
    "- As an example, we will write a SelectionSort algorithm to sort an array of strings."
   ]
  },
  {
   "cell_type": "code",
   "execution_count": 5,
   "metadata": {
    "vscode": {
     "languageId": "java"
    }
   },
   "outputs": [],
   "source": [
    "public class Sort {\n",
    "    private void swap(String[] x, int i, int j) {\n",
    "        String temp = x[i];\n",
    "        x[i] = x[j];\n",
    "        x[j] = temp;\n",
    "    }\n",
    "\n",
    "    public static String findSmallest(String[] x) {\n",
    "        String smallest = x[0];\n",
    "        for (int i = 0; i < x.length; i++) {\n",
    "            if (x[i].compareTo(smallest) < 0) {\n",
    "                smallest = x[i];\n",
    "            }\n",
    "        }\n",
    "        return smallest;\n",
    "    }\n",
    "\n",
    "    public static void sort(String[] x) {\n",
    "        for (int i = 0; i < x.length; i++) {\n",
    "            int minimum = i;\n",
    "            for (int j = i; j < x.length; j++) {\n",
    "                if (x[j].compareTo(x[minimum]) < 0) {\n",
    "                    minimum = j;\n",
    "                }\n",
    "            }\n",
    "            swap(x, i, j);\n",
    "        }\n",
    "    }\n",
    "}"
   ]
  },
  {
   "cell_type": "markdown",
   "metadata": {},
   "source": [
    "- We may then use JUnit to create a test to validate how our Sort function behaves."
   ]
  },
  {
   "cell_type": "code",
   "execution_count": 6,
   "metadata": {
    "vscode": {
     "languageId": "java"
    }
   },
   "outputs": [
    {
     "ename": "CompilationException",
     "evalue": "",
     "output_type": "error",
     "traceback": [
      "\u001b[1m\u001b[30m|   \u001b[1m\u001b[30mpublic class TestSort {\u001b[0m",
      "\u001b[1m\u001b[30m|   \u001b[1m\u001b[30m    @Test\u001b[0m",
      "\u001b[1m\u001b[30m|   \u001b[1m\u001b[30m    public void testFindSmallest() {\u001b[0m",
      "\u001b[1m\u001b[30m|   \u001b[1m\u001b[30m        String[] input = {\"rawr\", \"a\", \"zaza\", \"newway\"};\u001b[0m",
      "\u001b[1m\u001b[30m|   \u001b[1m\u001b[30m        String expected = \"zaza\";\u001b[0m",
      "\u001b[1m\u001b[30m|   \u001b[1m\u001b[30m        String actual = Sort.findSmallest(input);\u001b[0m",
      "\u001b[1m\u001b[30m|   \u001b[1m\u001b[30m        assertThat(actual).isEqualTo(expected);\u001b[0m",
      "\u001b[1m\u001b[30m|   \u001b[1m\u001b[30m    }\u001b[0m",
      "\u001b[1m\u001b[30m|   \u001b[1m\u001b[30m }\u001b[0m",
      "\u001b[1m\u001b[31mUnresolved dependencies:\u001b[0m",
      "\u001b[1m\u001b[31m   - class Test\u001b[0m",
      "\u001b[1m\u001b[31m   - method assertThat(java.lang.String)\u001b[0m"
     ]
    }
   ],
   "source": [
    "public class TestSort {\n",
    "    @Test\n",
    "    public void testFindSmallest() {\n",
    "        String[] input = {\"rawr\", \"a\", \"zaza\", \"newway\"};\n",
    "        String expected = \"zaza\";\n",
    "        String actual = Sort.findSmallest(input);\n",
    "        assertThat(actual).isEqualTo(expected);\n",
    "    }\n",
    " }"
   ]
  }
 ],
 "metadata": {
  "kernelspec": {
   "display_name": "Java",
   "language": "java",
   "name": "java"
  },
  "language_info": {
   "codemirror_mode": "java",
   "file_extension": ".jshell",
   "mimetype": "text/x-java-source",
   "name": "Java",
   "pygments_lexer": "java",
   "version": "17.0.13+11-Ubuntu-2ubuntu122.04"
  }
 },
 "nbformat": 4,
 "nbformat_minor": 2
}
