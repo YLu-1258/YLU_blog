{
 "cells": [
  {
   "cell_type": "markdown",
   "metadata": {},
   "source": [
    "---\n",
    "- title: \"'CS61B: Lecture 2'\"\n",
    "- author: alex\n",
    "- badges: true\n",
    "- comments: true\n",
    "- categories: [CS61B]\n",
    "- date: 2024-01-24 1:00:00 -0800\n",
    "- math: true\n",
    "- tags: [CS61B, JAVA]\n",
    "---"
   ]
  },
  {
   "cell_type": "markdown",
   "metadata": {},
   "source": [
    "# Dogs\n",
    "- Below is an example of a Dog class, and a launcher class that invokes methods from the Dog class.\n",
    "- However, not all dogs are created equal, dogs may have different behaviors."
   ]
  },
  {
   "cell_type": "code",
   "execution_count": 1,
   "metadata": {},
   "outputs": [
    {
     "name": "stdout",
     "output_type": "stream",
     "text": [
      "bark\n"
     ]
    }
   ],
   "source": [
    "public class Dog {\n",
    "    public static void makeNoise() {\n",
    "        System.out.println(\"bark\");\n",
    "    }\n",
    "}\n",
    "\n",
    "public class DogLauncher {\n",
    "    public static void main(String[] args) {\n",
    "        Dog.makeNoise();\n",
    "    }\n",
    "}\n",
    "\n",
    "DogLauncher.main(null);"
   ]
  },
  {
   "cell_type": "markdown",
   "metadata": {},
   "source": [
    "# Object Instantiation\n",
    "- Classes can contain not just functions, but also different data.\n",
    "    - For example, we may update the Dog class to contain additional data.\n",
    "- Using a class, we may instantiate a method.\n",
    "- There are **static (instance)** and **non-static (class)** attributes and methods.\n",
    "    - If an instance needs to access a method, that method must be non static.\n",
    "- New instance variables cannot be added to a class or object. It must obey the blueprints.\n",
    "- If a created object is not assigned, in Java it is garbage collected, meaning it is destroyed.\n"
   ]
  },
  {
   "cell_type": "code",
   "execution_count": 9,
   "metadata": {},
   "outputs": [
    {
     "name": "stdout",
     "output_type": "stream",
     "text": [
      "aroooooo!\n"
     ]
    }
   ],
   "source": [
    "public class Dog {\n",
    "    public int weightInPounds; // This is an instance variable. It is not static\n",
    "\n",
    "    // This is a constructor that is ran when the object is created.\n",
    "    public Dog(int s) {\n",
    "        weightInPounds = s;\n",
    "    }\n",
    "\n",
    "    // This is an instance method\n",
    "    public void makeNoise() {\n",
    "        if (weightInPounds > 20) {\n",
    "            System.out.println(\"aroooooo!\");\n",
    "        } else if (weightInPounds > 10) {\n",
    "            System.out.println(\"bark\");\n",
    "        } else {\n",
    "            System.out.println(\"yipyipyip\");\n",
    "        }\n",
    "        \n",
    "    }\n",
    "}\n",
    "\n",
    "public class DogLauncher {\n",
    "    public static void main(String[] args) {\n",
    "        Dog maya = new Dog(25); // Declaration, Instantiation, and Assignment\n",
    "        maya.makeNoise();\n",
    "    }\n",
    "}\n",
    "\n",
    "DogLauncher.main(null);"
   ]
  },
  {
   "cell_type": "markdown",
   "metadata": {},
   "source": [
    "## Array of Objects\n",
    "- To create an array, we use the new keyword.\n",
    "    - To add objects to the array, we use new for each object that we want to add into the array."
   ]
  },
  {
   "cell_type": "code",
   "execution_count": 13,
   "metadata": {},
   "outputs": [
    {
     "name": "stdout",
     "output_type": "stream",
     "text": [
      "[LREPL.$JShell$12I$Dog;@64052435\n"
     ]
    }
   ],
   "source": [
    "Dog[] dogArray = new Dog[5];\n",
    "dogArray[0] = new Dog(20);\n",
    "System.out.println(dogArray.toString());"
   ]
  },
  {
   "cell_type": "markdown",
   "metadata": {},
   "source": [
    "# Static vs Non-static\n",
    "- The key differences between static and non-static (instance) methods:\n",
    "    - Static methods are invoked using the class name: (i.e. Dog.makeNoise();)\n",
    "    - Instance methods are invoked using an instnace name (i.e. maya,makeNoise();)\n",
    "    - Static methods cannot access any instance variables as it doesn't know which instance to access.\n",
    "    - Non-static memebrs cannot be invoked using class name.\n",
    "- We have static methods because some classes are never instantiated like Math."
   ]
  },
  {
   "cell_type": "code",
   "execution_count": 14,
   "metadata": {},
   "outputs": [
    {
     "data": {
      "text/plain": [
       "6"
      ]
     },
     "execution_count": 14,
     "metadata": {},
     "output_type": "execute_result"
    }
   ],
   "source": [
    "Math.round(5.6);"
   ]
  },
  {
   "cell_type": "markdown",
   "metadata": {},
   "source": [
    "- We now add a static method to our dog class."
   ]
  },
  {
   "cell_type": "code",
   "execution_count": 18,
   "metadata": {},
   "outputs": [
    {
     "name": "stdout",
     "output_type": "stream",
     "text": [
      "aroooooo!\n"
     ]
    }
   ],
   "source": [
    "public class Dog {\n",
    "    public int weightInPounds; // This is an instance variable. It is not static\n",
    "\n",
    "    // This is a constructor that is ran when the object is created.\n",
    "    public Dog(int s) {\n",
    "        weightInPounds = s;\n",
    "    }\n",
    "\n",
    "    // This is an instance method\n",
    "    public void makeNoise() {\n",
    "        if (weightInPounds > 20) {\n",
    "            System.out.println(\"aroooooo!\");\n",
    "        } else if (weightInPounds > 10) {\n",
    "            System.out.println(\"bark\");\n",
    "        } else {\n",
    "            System.out.println(\"yipyipyip\");\n",
    "        }\n",
    "        \n",
    "    }\n",
    "\n",
    "    public static Dog maxDog(Dog d1, Dog d2) {\n",
    "        if (d1.weightInPounds > d2.weightInPounds) {\n",
    "            return d1;\n",
    "        }\n",
    "        return d2;\n",
    "    }\n",
    "}\n",
    "\n",
    "public class DogLauncher {\n",
    "    public static void main(String[] args) {\n",
    "        Dog maya = new Dog(25); // Declaration, Instantiation, and Assignment\n",
    "        Dog hugeGreg = new Dog(1500);\n",
    "        Dog largerDog = Dog.maxDog(maya, hugeGreg);\n",
    "        largerDog.makeNoise();\n",
    "    }\n",
    "}\n",
    "\n",
    "DogLauncher.main(null);"
   ]
  },
  {
   "cell_type": "markdown",
   "metadata": {},
   "source": [
    "## Static Variables are Dangerous\n",
    "- Do not have a static variable that changes.\n",
    "\n",
    "## Static vs Final\n",
    "- `static`: It is universal.\n",
    "- `final`: it doesn't change."
   ]
  },
  {
   "cell_type": "code",
   "execution_count": null,
   "metadata": {},
   "outputs": [],
   "source": [
    "public class Dog {\n",
    "    public int weightInPounds; // This is an instance variable. It is not static\n",
    "    public static String binomen = \"Canis familiaris\"; // This is a static variable. It is shared across all dogs.\n",
    "\n",
    "    // This is a constructor that is ran when the object is created.\n",
    "    public Dog(int s) {\n",
    "        weightInPounds = s;\n",
    "    }\n",
    "\n",
    "    // This is an instance method\n",
    "    public void makeNoise() {\n",
    "        if (weightInPounds > 20) {\n",
    "            System.out.println(\"aroooooo!\");\n",
    "        } else if (weightInPounds > 10) {\n",
    "            System.out.println(\"bark\");\n",
    "        } else {\n",
    "            System.out.println(\"yipyipyip\");\n",
    "        }\n",
    "        \n",
    "    }\n",
    "\n",
    "    public static Dog maxDog(Dog d1, Dog d2) {\n",
    "        if (d1.weightInPounds > d2.weightInPounds) {\n",
    "            return d1;\n",
    "        }\n",
    "        return d2;\n",
    "    }\n",
    "}\n",
    "\n",
    "public class DogLauncher {\n",
    "    public static void main(String[] args) {\n",
    "        Dog maya = new Dog(25); // Declaration, Instantiation, and Assignment\n",
    "        Dog hugeGreg = new Dog(1500);\n",
    "        Dog largerDog = Dog.maxDog(maya, hugeGreg);\n",
    "        largerDog.makeNoise();\n",
    "    }\n",
    "}\n",
    "\n",
    "DogLauncher.main(null);"
   ]
  },
  {
   "cell_type": "markdown",
   "metadata": {},
   "source": [
    "# List\n",
    "- A list is an ordered sequence of objects represented by comma-separated values in-between brackets.\n",
    "    - Ex: [3,6,9,12,15]\n",
    "- Lists support many operations that are detailed by the programming language itself.\n",
    "    - Adding (appending) to a list.\n",
    "    - Inserting to a list.\n",
    "    - Removing from a list.\n",
    "    - Retrieving from a list.\n",
    "    - etc.\n",
    "- Using a list in Java:\n",
    "    - The `List` class is abstract, so it may not be instantiated. We must use an Array-based list or someting else."
   ]
  },
  {
   "cell_type": "code",
   "execution_count": 22,
   "metadata": {},
   "outputs": [
    {
     "name": "stdout",
     "output_type": "stream",
     "text": [
      "[a, b, c]\n"
     ]
    }
   ],
   "source": [
    "import java.util.List;\n",
    "import java.util.ArrayList;\n",
    "\n",
    "public class ListDemo {\n",
    "\n",
    "    public static void main(String[] args) {\n",
    "        List L = new ArrayList();\n",
    "        L.add(\"a\");\n",
    "        L.add(\"b\");\n",
    "        L.add(\"c\");\n",
    "        System.out.println(L);\n",
    "    }\n",
    "}\n",
    "\n",
    "ListDemo.main(null);"
   ]
  },
  {
   "cell_type": "markdown",
   "metadata": {},
   "source": [
    "- We may also use a linked list"
   ]
  },
  {
   "cell_type": "code",
   "execution_count": 24,
   "metadata": {},
   "outputs": [
    {
     "name": "stdout",
     "output_type": "stream",
     "text": [
      "a\n"
     ]
    }
   ],
   "source": [
    "import java.util.List;\n",
    "import java.util.LinkedList;\n",
    "\n",
    "public class ListDemo {\n",
    "\n",
    "    public static void main(String[] args) {\n",
    "        List L = new LinkedList();\n",
    "        L.add(\"a\");\n",
    "        L.add(\"b\");\n",
    "        L.add(\"c\");\n",
    "        System.out.println(L.get(0));\n",
    "    }\n",
    "}\n",
    "\n",
    "ListDemo.main(null);"
   ]
  },
  {
   "cell_type": "markdown",
   "metadata": {},
   "source": [
    "- Java has a lot of lists, and a programmer must decide what list they want to use.\n",
    "\n",
    "## Abstract Data Types vs Concrete Data Types\n",
    "- In Java, a List is an abstract class, meaning that all lists share the properties of List.\n",
    "- We have many different concrete Data Types because different lists have different properties that make them better at certain things.\n",
    "    - Ex: A stack based list has \"push\" and \"pop\" operations.\n",
    "\n",
    "## Specified Data Types for Collections.\n",
    "- We may specify what type our list stores using the angled-bracket syntax."
   ]
  },
  {
   "cell_type": "code",
   "execution_count": 25,
   "metadata": {},
   "outputs": [
    {
     "ename": "CompilationException",
     "evalue": "",
     "output_type": "error",
     "traceback": [
      "\u001b[1m\u001b[30m|   \u001b[1m\u001b[30m        \u001b[0m\u001b[1m\u001b[30m\u001b[41mL.add(\"a\")\u001b[0m\u001b[1m\u001b[30m;\u001b[0m",
      "\u001b[1m\u001b[31munchecked call to add(E) as a member of the raw type java.util.List\u001b[0m",
      "",
      "\u001b[1m\u001b[30m|   \u001b[1m\u001b[30m        \u001b[0m\u001b[1m\u001b[30m\u001b[41mL.add(\"b\")\u001b[0m\u001b[1m\u001b[30m;\u001b[0m",
      "\u001b[1m\u001b[31munchecked call to add(E) as a member of the raw type java.util.List\u001b[0m",
      "",
      "\u001b[1m\u001b[30m|   \u001b[1m\u001b[30m        \u001b[0m\u001b[1m\u001b[30m\u001b[41mL.add(\"c\")\u001b[0m\u001b[1m\u001b[30m;\u001b[0m",
      "\u001b[1m\u001b[31munchecked call to add(E) as a member of the raw type java.util.List\u001b[0m",
      "",
      "\u001b[1m\u001b[30m|   \u001b[1m\u001b[30m        String a = \u001b[0m\u001b[1m\u001b[30m\u001b[41mL.get(0)\u001b[0m\u001b[1m\u001b[30m; // This fails\u001b[0m",
      "\u001b[1m\u001b[31mincompatible types: java.lang.Object cannot be converted to java.lang.String\u001b[0m",
      ""
     ]
    }
   ],
   "source": [
    "import java.util.List;\n",
    "import java.util.LinkedList;\n",
    "\n",
    "public class ListDemo {\n",
    "\n",
    "    public static void main(String[] args) {\n",
    "        List L = new LinkedList();\n",
    "        L.add(\"a\");\n",
    "        L.add(\"b\");\n",
    "        L.add(\"c\");\n",
    "        String a = L.get(0); // This fails\n",
    "    }\n",
    "}\n",
    "\n",
    "ListDemo.main(null);"
   ]
  },
  {
   "cell_type": "code",
   "execution_count": 29,
   "metadata": {},
   "outputs": [],
   "source": [
    "import java.util.List;\n",
    "import java.util.LinkedList;\n",
    "\n",
    "public class ListDemo {\n",
    "\n",
    "    public static void main(String[] args) {\n",
    "        List<String> L = new LinkedList();\n",
    "        L.add(\"a\");\n",
    "        L.add(\"b\");\n",
    "        L.add(\"c\");\n",
    "        String a = L.get(0); // This works\n",
    "    }\n",
    "}\n",
    "\n",
    "ListDemo.main(null);"
   ]
  },
  {
   "cell_type": "markdown",
   "metadata": {},
   "source": [
    "- Thus, this syntax constrains list to only have one certain type instead of many.\n",
    "\n",
    "# Arrays\n",
    "- Java has a special collection called an srray that is a restricted version of the list.\n",
    "    - The size must be declared at the time the array is created.\n",
    "    - Size cannot change\n",
    "    - All items muste of the same type.\n",
    "    - No methods.\n",
    "- No python equivalent.\n",
    "- Arrays are typically more performany than lists.\n",
    "\n",
    "# Maps\n",
    "- A map is a collection of key-value pairs. Each key is guaranteed to be unique.\n",
    "- Ex: Java"
   ]
  },
  {
   "cell_type": "code",
   "execution_count": 35,
   "metadata": {},
   "outputs": [],
   "source": [
    "import java.util.Map;\n",
    "import java.util.TreeMap;\n",
    "\n",
    "public class MapDemo {\n",
    "    public static void main(String[] args) {\n",
    "        Map<String, String> L = new TreeMap<>();\n",
    "        L.put(\"dog\", \"woof\");\n",
    "        L.put(\"cat\", \"meow\");\n",
    "        String sound = L.get(\"cat\");\n",
    "    }\n",
    "}\n",
    "\n",
    "MapDemo.main(null);"
   ]
  }
 ],
 "metadata": {
  "kernelspec": {
   "display_name": "Java",
   "language": "java",
   "name": "java"
  },
  "language_info": {
   "codemirror_mode": "java",
   "file_extension": ".jshell",
   "mimetype": "text/x-java-source",
   "name": "java",
   "pygments_lexer": "java",
   "version": "17.0.13+11-Ubuntu-2ubuntu122.04"
  }
 },
 "nbformat": 4,
 "nbformat_minor": 2
}
