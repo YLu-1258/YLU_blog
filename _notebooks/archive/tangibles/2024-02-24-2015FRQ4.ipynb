{
 "cells": [
  {
   "cell_type": "markdown",
   "metadata": {},
   "source": [
    "---\n",
    "- title: 2015 APCSA FRQ 4\n",
    "- description: The first FRQ for the 2015 APCSA Practice Exam places an emphasis on **Interfaces**\n",
    "- author: alex\n",
    "- badges: true\n",
    "- comments: true\n",
    "- categories: [CSA]\n",
    "- date: 2024-02-23 06:05:00 -0800\n",
    "- tags: [APPREP]\n",
    "- week: 19\n",
    "- render_with_liquid: false\n",
    "- type: tangibles\n",
    "---"
   ]
  },
  {
   "cell_type": "markdown",
   "metadata": {},
   "source": [
    "## The Problem\n",
    "> (a) A number group represents a group of integers defined in some way. It could be empty, or it could contain one or more integers.  \n",
    "\n",
    "Write an interface named NumberGroup that represents a group of integers. The interface should have a single contains method that determines if a given integer is in the group. For example, if group1 is of type NumberGroup, and it contains only the two numbers -5 and 3, then group1.contains(-5) would return true, and group1.contains(2) would return false.  \n",
    "\n",
    "Write the complete NumberGroup interface. It must have exactly one method.  \n",
    "\n",
    "> (b) A range represents a number group that contains all (and only) the integers between a minimum value and a maximum value, inclusive.  \n",
    "\n",
    "Write the Range class, which is a NumberGroup. The Range class represents the group of int values that range from a given minimum value up through a given maximum value, inclusive. For example,the declaration  \n",
    "\n",
    "```java\n",
    "NumberGroup range1 = new Range(-3, 2);\n",
    "```\n",
    "\n",
    "represents the group of integer values -3, -2, -1, 0, 1, 2.  \n",
    "\n",
    "Write the complete Range class. Include all necessary instance variables and methods as well as a constructor that takes two int parameters. The first parameter represents the minimum value, and the second parameter represents the maximum value of the range. You may assume that the minimum is less than or equal to the maximum.  \n"
   ]
  },
  {
   "cell_type": "markdown",
   "metadata": {},
   "source": [
    "## Part A\n",
    "To complete this question, I simply created an interface numberGroup, which contains the necessary method required by the question."
   ]
  },
  {
   "cell_type": "code",
   "execution_count": 5,
   "metadata": {},
   "outputs": [],
   "source": [
    "public interface NumberGroup {\n",
    "    public boolean contains(int number);\n",
    "}"
   ]
  },
  {
   "cell_type": "markdown",
   "metadata": {},
   "source": [
    "## Part B\n",
    "To solve this question, I created a public class `Range` that implements `NumberGroup`. I created two attributes denoting the minimum and maximum, as well as a constructor that instantiates those values. I then overridden the `contains` method to check if the value was in a range with a ternary operator."
   ]
  },
  {
   "cell_type": "code",
   "execution_count": 17,
   "metadata": {},
   "outputs": [
    {
     "name": "stdout",
     "output_type": "stream",
     "text": [
      "test.contains(1): true\n",
      "test.contains(10): false\n"
     ]
    }
   ],
   "source": [
    "public class Range implements NumberGroup {\n",
    "    private int min;\n",
    "    private int max;\n",
    "    \n",
    "    public Range(int min, int max){\n",
    "        this.min = min;\n",
    "        this.max = max;\n",
    "    }\n",
    "\n",
    "    @Override\n",
    "    public boolean contains(int number) {\n",
    "        return (number >= min && number <= max) ? true : false;\n",
    "    }\n",
    "}\n",
    "\n",
    "Range test = new Range(-3,5);\n",
    "System.out.println(\"test.contains(1): \" + test.contains(1));\n",
    "System.out.println(\"test.contains(10): \" + test.contains(10));"
   ]
  },
  {
   "cell_type": "markdown",
   "metadata": {},
   "source": [
    "## Part C\n",
    "To solve this question, I created a public class `MultipleGroups` that implements `NumberGroup`. I created one attribute `groupList` denoting the collection of NumberGroup, as well as a constructor that instantiates that collection. I then overridden the `contains` method to incorporate a for loop to check if the value was contained by any element of the collection."
   ]
  },
  {
   "cell_type": "code",
   "execution_count": 18,
   "metadata": {},
   "outputs": [
    {
     "name": "stdout",
     "output_type": "stream",
     "text": [
      "multiple1.contains(2): true\n",
      "multiple1.contains(9): false\n",
      "multiple1.contains(6): true\n"
     ]
    }
   ],
   "source": [
    "public class MultipleGroups implements NumberGroup {\n",
    "    private List<NumberGroup> groupList;\n",
    "\n",
    "    public MultipleGroups(List<NumberGroup> groupList) {\n",
    "        this.groupList = groupList;\n",
    "    }\n",
    "\n",
    "    @Override\n",
    "    public boolean contains(int number) {\n",
    "        for (int i = 0; i < this.groupList.size(); i++) {\n",
    "            if (this.groupList.get(i).contains(number)) {\n",
    "                return true;\n",
    "            }\n",
    "        }\n",
    "        return false;\n",
    "    }\n",
    "}\n",
    "\n",
    "ArrayList<NumberGroup> groupsList = new ArrayList<NumberGroup>();\n",
    "Range range1 = new Range(5,8);\n",
    "Range range2 = new Range(10,12);\n",
    "Range range3 = new Range(1,6);\n",
    "groupsList.add(range1); groupsList.add(range2); groupsList.add(range3);\n",
    "MultipleGroups multiple1 = new MultipleGroups(groupsList);\n",
    "System.out.println(\"multiple1.contains(2): \" + multiple1.contains(2));\n",
    "System.out.println(\"multiple1.contains(9): \" + multiple1.contains(9));\n",
    "System.out.println(\"multiple1.contains(6): \" + multiple1.contains(6));\n"
   ]
  }
 ],
 "metadata": {
  "kernelspec": {
   "display_name": "java",
   "language": "java",
   "name": "java"
  },
  "language_info": {
   "codemirror_mode": "java",
   "file_extension": ".jshell",
   "mimetype": "text/x-java-source",
   "name": "java",
   "pygments_lexer": "java",
   "version": "17.0.9+9-Ubuntu-120.04"
  }
 },
 "nbformat": 4,
 "nbformat_minor": 2
}
