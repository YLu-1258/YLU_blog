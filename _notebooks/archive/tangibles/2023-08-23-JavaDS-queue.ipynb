{
 "cells": [
  {
   "cell_type": "markdown",
   "metadata": {},
   "source": [
    "---\n",
    "- title: Java DS 2 Queue\n",
    "- description: What is a queue data-structure and how does can it be implemented in Java?\n",
    "- author: alex\n",
    "- badges: true\n",
    "- comments: true\n",
    "- week: 1\n",
    "- categories: [Java, tutorials]\n",
    "- date: 2023-08-20 20:48:00 -0800\n",
    "- tags: [notebooks, java, queue, datastructures]\n",
    "- render_with_liquid: false\n",
    "- type: tangibles\n",
    "---"
   ]
  },
  {
   "cell_type": "markdown",
   "metadata": {},
   "source": [
    "# Queue\n",
    "Imagine a fair. When entering the fair grounds, you would typically wait in a line until you gain entry. The rule of the line is simple. Whoever arrives first, is also the first to get out of a line\n",
    "![](/assets/img/DS/line_of_people.jpg \"A line of people\")\n",
    "A queue data structure works in a similar manner. It is a collection of similar objects, supporting three main capabilities, pushing into the queue, popping from the queue, and peeking into a queue. We call structures like the queue a **FIFO (First-in-First-Out)** data structure.  \n",
    "\n",
    "| Term | Definition |\n",
    "|-|-|\n",
    "| `Push/Enqueue` | To add a new item onto the queue. |\n",
    "| `Pop/Dequeue` | To return and remove the first item on the queue |\n",
    "| `Peek` | To see the first item on the queue without removing it. |\n",
    "\n",
    "## Implementing a Queue\n",
    "There are several ways about implementing a queue from scratch. In this blog, I will be demonstrating the linked-list implementation.  \n",
    "\n",
    "A queue implemented through a linked-list is also called a **linked queue**. Within a linked queue, there are two \"pointers\", the `front` and `rear`. The front pointer is responsible for keeping track of the __first element in the queue__, while the rear pointer points to the __last element in the queue__. When the queue is empty, both the front and rear pointers point to `null`. This serves to add efficiency to the queue because we can add to the rear without traversing through the rest of the queue.  \n",
    "\n",
    "Each individual element in this queue could also be represented as a `Node` object, containing a data value, and a pointer to the next object in the queue. This would use the same implementation as our `Node` object for the linked list."
   ]
  },
  {
   "cell_type": "markdown",
   "metadata": {},
   "source": [
    "### Node Definition"
   ]
  },
  {
   "cell_type": "code",
   "execution_count": 13,
   "metadata": {},
   "outputs": [
    {
     "name": "stdout",
     "output_type": "stream",
     "text": [
      "1 null\n"
     ]
    }
   ],
   "source": [
    "static class Node {\n",
    "    int data;\n",
    "    Node next;\n",
    "    Node (int data) {\n",
    "        this.data = data;\n",
    "        this.next = null;\n",
    "    }\n",
    "}\n",
    "\n",
    "Node test_n = new Node(1);\n",
    "System.out.println(test_n.data + \" \" + test_n.next);"
   ]
  },
  {
   "cell_type": "markdown",
   "metadata": {},
   "source": [
    "### Queue Definition"
   ]
  },
  {
   "cell_type": "code",
   "execution_count": 29,
   "metadata": {},
   "outputs": [
    {
     "name": "stdout",
     "output_type": "stream",
     "text": [
      "1\n",
      "2\n",
      "3\n"
     ]
    }
   ],
   "source": [
    "public class Queue {\n",
    "    private Node front;\n",
    "    private Node rear;\n",
    "    \n",
    "    Queue () {\n",
    "        this.front = this.rear = null;\n",
    "    }\n",
    "\n",
    "    public boolean is_empty() {\n",
    "        return (this.front == null && this.rear == null);\n",
    "    }\n",
    "\n",
    "    public void enqueue(int data) {\n",
    "        Node new_node = new Node(data);\n",
    "        if (is_empty()) {\n",
    "            this.front = new_node;\n",
    "            this.rear = new_node;\n",
    "            return ;\n",
    "        }\n",
    "        this.rear.next = new_node;\n",
    "        this.rear = new_node;\n",
    "    }\n",
    "\n",
    "    public void dequeue () {\n",
    "        if (this.front == null) {\n",
    "            throw new IllegalStateException(\"Queue is empty\");\n",
    "        }\n",
    "        this.front = this.front.next;\n",
    "        if (this.front == null) {\n",
    "            this.rear = null;\n",
    "        }\n",
    "    }\n",
    "\n",
    "    public int peek () {\n",
    "        if (this.front == null) {\n",
    "            throw new IllegalStateException(\"Queue is empty\");\n",
    "        }\n",
    "        return this.front.data;\n",
    "    }\n",
    "}\n",
    "\n",
    "Queue q = new Queue();\n",
    "q.enqueue(1);\n",
    "q.enqueue(2);\n",
    "q.enqueue(3);\n",
    "System.out.println(q.peek());\n",
    "q.dequeue();\n",
    "System.out.println(q.peek());\n",
    "q.dequeue();\n",
    "System.out.println(q.peek());\n"
   ]
  }
 ],
 "metadata": {
  "kernelspec": {
   "display_name": "java",
   "language": "java",
   "name": "java"
  },
  "language_info": {
   "codemirror_mode": "java",
   "file_extension": ".jshell",
   "mimetype": "text/x-java-source",
   "name": "java",
   "pygments_lexer": "java",
   "version": "11.0.20+8-post-Ubuntu-1ubuntu120.04"
  },
  "orig_nbformat": 4
 },
 "nbformat": 4,
 "nbformat_minor": 2
}
