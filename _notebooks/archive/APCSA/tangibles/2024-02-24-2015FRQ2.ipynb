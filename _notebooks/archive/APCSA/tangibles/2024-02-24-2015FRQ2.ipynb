{
 "cells": [
  {
   "cell_type": "markdown",
   "metadata": {},
   "source": [
    "---\n",
    "- title: 2015 APCSA FRQ 2\n",
    "- description: The second FRQ for the 2015 APCSA Practice Exam places an emphasis on **Classes**\n",
    "- author: alex\n",
    "- badges: true\n",
    "- comments: true\n",
    "- categories: [CSA]\n",
    "- date: 2024-02-23 06:05:00 -0800\n",
    "- tags: [APPREP]\n",
    "- week: 19\n",
    "- render_with_liquid: false\n",
    "- type: tangibles\n",
    "---"
   ]
  },
  {
   "cell_type": "markdown",
   "metadata": {},
   "source": [
    "## The Problem\n",
    "Consider a guessing game in which a player tries to guess a hidden word. The hidden word contains only capital letters and has a length known to the player. A guess contains only capital letters and has the same length as the hidden word.  \n",
    "\n",
    "After a guess is made, the player is given a hint that is based on a comparison between the hidden word and the guess. Each position in the hint contains a character that corresponds to the letter in the same position in the guess. The following rules determine the characters that appear in the hint.  \n",
    "\n",
    "![alt text](/assets/img/2015_FRQ/FRQ2a.png)  \n",
    "\n",
    "The HiddenWord class will be used to represent the hidden word in the game. The hidden word is passed to the constructor. The class contains a method, getHint, that takes a guess and produces a hint.  \n",
    "\n",
    "For example, suppose the variable puzzle is declared as follows.  \n",
    "\n",
    "```java\n",
    "HiddenWord puzzle = new HiddenWord(\"HARPS\");  \n",
    "```\n",
    "\n",
    "The following table shows several guesses and the hints that would be produced.  \n",
    "\n",
    "![alt text](/assets/img/2015_FRQ/FRQ2b.png)\n",
    "\n",
    "> Write the complete HiddenWord class, including any necessary instance variables, its constructor, and the method, getHint, described above. You may assume that the length of the guess is the same as the length of the hidden word."
   ]
  },
  {
   "cell_type": "markdown",
   "metadata": {},
   "source": [
    "## Solution\n",
    "To complete this question, I simply create a class `HiddenWord` with a private attribute `solution` to store the solution string, a constructor to initialize the value of the `solution` attribute, a private method `isContainChar` to test if the solution contains a certain character, and the `getHint()` method required by the problem. I used a for-loop in `getHint()` to compare each letter of the input and solution string sequentially. I first checked for a match, and then if a match wasn't found, I checked to see if the character was somewhere else in the string (this order is important!). If neither check passed, I would add a \"*\" denoting that the character is not present within the string. All this eventually gives me my final solution string."
   ]
  },
  {
   "cell_type": "code",
   "execution_count": 3,
   "metadata": {
    "vscode": {
     "languageId": "java"
    }
   },
   "outputs": [
    {
     "name": "stdout",
     "output_type": "stream",
     "text": [
      "Hint for string \"AAAAA\": +A+++\n",
      "Hint for string \"HELLO\": H****\n",
      "Hint for string \"HEART\": H*++*\n",
      "Hint for string \"HARMS\": HAR*S\n",
      "Hint for string \"HARPS\": HARPS\n"
     ]
    }
   ],
   "source": [
    "class HiddenWord {\n",
    "    private String solution;\n",
    "    \n",
    "    HiddenWord(String word) {\n",
    "        this.solution = word;\n",
    "    }\n",
    "\n",
    "    private boolean isContainChar(char character) {\n",
    "        for (int i = 0; i<this.solution.length(); i++) {\n",
    "            if (character == this.solution.charAt(i)) {\n",
    "                return true;\n",
    "            }\n",
    "        }\n",
    "        return false;\n",
    "    }\n",
    "\n",
    "    public String getHint(String input) {\n",
    "        String output = \"\";\n",
    "        for (int i = 0; i < input.length(); i++) {\n",
    "            if (input.charAt(i)==this.solution.charAt(i)) {\n",
    "                output = output + input.charAt(i);\n",
    "            } else if (isContainChar(input.charAt(i))) {\n",
    "                output = output + \"+\";\n",
    "            } else {\n",
    "                output = output + \"*\";\n",
    "            }\n",
    "        }\n",
    "        return output;\n",
    "    }\n",
    "}\n",
    "\n",
    "HiddenWord puzzle = new HiddenWord(\"HARPS\");\n",
    "String[] testCases = {\"AAAAA\", \"HELLO\", \"HEART\", \"HARMS\", \"HARPS\"};\n",
    "for (int i = 0; i < testCases.length; i++) {\n",
    "    System.out.println(\"Hint for string \\\"\" + testCases[i] + \"\\\": \" + puzzle.getHint(testCases[i]));\n",
    "}\n"
   ]
  }
 ],
 "metadata": {
  "kernelspec": {
   "display_name": "java",
   "language": "java",
   "name": "java"
  },
  "language_info": {
   "codemirror_mode": "java",
   "file_extension": ".jshell",
   "mimetype": "text/x-java-source",
   "name": "Java",
   "pygments_lexer": "java",
   "version": "17.0.9+9-Ubuntu-120.04"
  }
 },
 "nbformat": 4,
 "nbformat_minor": 2
}
