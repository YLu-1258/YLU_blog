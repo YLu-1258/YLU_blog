{
 "cells": [
  {
   "attachments": {},
   "cell_type": "markdown",
   "metadata": {},
   "source": [
    "---\n",
    "- title: Linux Shell and Bash\n",
    "- author: mortensen\n",
    "- description: A Tech Talk on Linux and the Bash shell.\n",
    "- toc: true\n",
    "- comments: true\n",
    "- categories: [5.A, C4.1]\n",
    "- courses: { csse: {week: 1}, csp: {week: 1, categories: [6.B]}, csa: {week: 1} }\n",
    "- week: 0\n",
    "- type: plans\n",
    "---"
   ]
  },
  {
   "attachments": {},
   "cell_type": "markdown",
   "metadata": {},
   "source": [
    "## Bash Tutorial\n",
    "> A brief overview of Bash, on your way to becoming a Linux expert.  <mark>When a computer boots up, a kernel (MacOS, Windows, Linux) is started</mark>.  This kernel provides a shell, or <mark>terminal</mark>, that allows user to interact with a most basic set of commands.  Typically, the casual user will not interact with the shell/terminal as a Desktop User Interface is started by the computer boot up process.  To activate a shell directly, users will run a \"terminal\" through the Desktop. <mark>VS Code provides ability to activate \"terminal\"</mark> while in the IDE."
   ]
  },
  {
   "attachments": {},
   "cell_type": "markdown",
   "metadata": {},
   "source": [
    "## Variable Prerequisites\n",
    "> Setup bash shell dependency variables for this page.  Variables are one of the first aspects of programming.  <mark>Variables have \"name\" and a \"value\"</mark>.\n",
    "\n",
    "- Hack Note: Change variables to match your student project."
   ]
  },
  {
   "cell_type": "markdown",
   "metadata": {},
   "source": [
    "### Define variable\n",
    "The following code cell <mark>defines 3 variables and assigns each a value</mark>.  There are some extra command, called a HERE document, that write these variables to a file.  This is so we can use these variables over and over below."
   ]
  },
  {
   "cell_type": "code",
   "execution_count": 5,
   "metadata": {
    "vscode": {
     "languageId": "shellscript"
    }
   },
   "outputs": [],
   "source": [
    "%%script bash\n",
    "\n",
    "# Dependency Variables, set to match your project directories\n",
    "\n",
    "cat <<EOF > /tmp/variables.sh\n",
    "export project_dir=$HOME/APCSA  # change vscode to different name to test git clone\n",
    "export project=\\$project_dir/YLU_blog  # change teacher to name of project from git clone\n",
    "export project_repo=\"https://github.com/YLu-1258/YLU_blog.git\"  # change to project of choice\n",
    "EOF"
   ]
  },
  {
   "cell_type": "markdown",
   "metadata": {},
   "source": [
    "### Output the value of a variable\n",
    "The following code cell <mark>outputs the value of the variables</mark>, using the echo command.  For visual understanding in the output, each echo command provide a title before the $variable "
   ]
  },
  {
   "cell_type": "code",
   "execution_count": 6,
   "metadata": {
    "vscode": {
     "languageId": "shellscript"
    }
   },
   "outputs": [
    {
     "name": "stdout",
     "output_type": "stream",
     "text": [
      "Project dir: /home/eris29/APCSA\n",
      "Project: /home/eris29/APCSA/YLU_blog\n",
      "Repo: https://github.com/YLu-1258/YLU_blog.git\n"
     ]
    }
   ],
   "source": [
    "%%script bash\n",
    "\n",
    "# Extract saved variables\n",
    "source /tmp/variables.sh\n",
    "\n",
    "# Output shown title and value variables\n",
    "echo \"Project dir: $project_dir\"\n",
    "echo \"Project: $project\"\n",
    "echo \"Repo: $project_repo\""
   ]
  },
  {
   "cell_type": "markdown",
   "metadata": {},
   "source": [
    "## Project Setup and Analysis with Bash Scripts\n",
    "The bash scripts that follow automate what was done in the setup procedures.  The purpose of this is to show that many of the commands we performed can be added to a script, then performed automatically."
   ]
  },
  {
   "attachments": {},
   "cell_type": "markdown",
   "metadata": {},
   "source": [
    "### Pull Code\n",
    "> Pull code from GitHub to your machine. This is a <mark>bash script</mark>, a sequence of commands, that will create a project directory and add the \"project\" from GitHub to the vscode directory.  There is conditional logic to make sure that clone only happen if it does not (!) exist.   Here are some key elements in this code...\n",
    "\n",
    "- cd command (change directory), remember this from terminal session\n",
    "- if statements (conditional statement, called selection statement by College Board), code inside only happens if condition is met"
   ]
  },
  {
   "cell_type": "code",
   "execution_count": 7,
   "metadata": {
    "vscode": {
     "languageId": "shellscript"
    }
   },
   "outputs": [
    {
     "name": "stdout",
     "output_type": "stream",
     "text": [
      "Using conditional statement to create a project directory and project\n",
      "Directory /home/eris29/APCSA exists.\n",
      "Directory /home/eris29/APCSA/YLU_blog exists.\n"
     ]
    }
   ],
   "source": [
    "%%script bash\n",
    "\n",
    "# Extract saved variables\n",
    "source /tmp/variables.sh\n",
    "\n",
    "echo \"Using conditional statement to create a project directory and project\"\n",
    "\n",
    "cd ~    # start in home directory\n",
    "\n",
    "# Conditional block to make a project directory\n",
    "if [ ! -d $project_dir ]\n",
    "then \n",
    "    echo \"Directory $project_dir does not exists... makinng directory $project_dir\"\n",
    "    mkdir -p $project_dir\n",
    "fi\n",
    "echo \"Directory $project_dir exists.\" \n",
    "\n",
    "# Conditional block to git clone a project from project_repo\n",
    "if [ ! -d $project ]\n",
    "then\n",
    "    echo \"Directory $project does not exists... cloning $project_repo\"\n",
    "    cd $project_dir\n",
    "    git clone $project_repo\n",
    "    cd ~\n",
    "fi\n",
    "echo \"Directory $project exists.\" "
   ]
  },
  {
   "attachments": {},
   "cell_type": "markdown",
   "metadata": {},
   "source": [
    "### Look at files Github project\n",
    "> All computers contain files and directories.  The clone brought more files from cloud to your machine.  Review the bash shell script, observe the commands that show and interact with files and directories.  These were used during setup.\n",
    "\n",
    "- \"ls\" lists computer files in Unix and Unix-like operating systems\n",
    "- \"cd\" offers way to navigate and change working directory\n",
    "- \"pwd\" print working directory\n",
    "- \"echo\" used to display line of text/string that are passed as an argument"
   ]
  },
  {
   "cell_type": "code",
   "execution_count": 8,
   "metadata": {
    "vscode": {
     "languageId": "shellscript"
    }
   },
   "outputs": [
    {
     "name": "stdout",
     "output_type": "stream",
     "text": [
      "Navigate to project, then navigate to area wwhere files were cloned\n",
      "/home/eris29/APCSA/YLU_blog\n",
      "\n",
      "list top level or root of files with project pulled from github\n",
      "CHANGELOG.md\n",
      "Gemfile\n",
      "Gemfile.lock\n",
      "LICENSE\n",
      "README.md\n",
      "_config.yml\n",
      "_data\n",
      "_includes\n",
      "_javascript\n",
      "_layouts\n",
      "_notebooks\n",
      "_plugins\n",
      "_posts\n",
      "_sass\n",
      "_site\n",
      "_tabs\n",
      "assets\n",
      "docs\n",
      "index.html\n",
      "jekyll-theme-chirpy.gemspec\n",
      "package.json\n",
      "rollup.config.js\n",
      "scripts\n",
      "server.sh\n",
      "test.py\n",
      "tools\n"
     ]
    }
   ],
   "source": [
    "%%script bash\n",
    "\n",
    "# Extract saved variables\n",
    "source /tmp/variables.sh\n",
    "\n",
    "echo \"Navigate to project, then navigate to area wwhere files were cloned\"\n",
    "cd $project\n",
    "pwd\n",
    "\n",
    "echo \"\"\n",
    "echo \"list top level or root of files with project pulled from github\"\n",
    "ls\n"
   ]
  },
  {
   "attachments": {},
   "cell_type": "markdown",
   "metadata": {},
   "source": [
    "### Look at file list with hidden and long attributes\n",
    "> Most linux commands have options to enhance behavior.  The enhanced listing below shows permission bits, owner of file, size and date.\n",
    "\n",
    "[ls reference](https://www.rapidtables.com/code/linux/ls.html)"
   ]
  },
  {
   "cell_type": "code",
   "execution_count": 9,
   "metadata": {
    "vscode": {
     "languageId": "shellscript"
    }
   },
   "outputs": [
    {
     "name": "stdout",
     "output_type": "stream",
     "text": [
      "Navigate to project, then navigate to area wwhere files were cloned\n",
      "/home/eris29/APCSA/YLU_blog\n",
      "\n",
      "list all files in long format\n",
      "total 160\n",
      "drwxr-xr-x 19 eris29 eris29  4096 Aug 22 07:41 .\n",
      "drwxr-xr-x  4 eris29 eris29  4096 Aug 22 07:27 ..\n",
      "drwxr-xr-x  8 eris29 eris29  4096 Aug 22 07:27 .git\n",
      "drwxr-xr-x  3 eris29 eris29  4096 Aug 22 07:27 .github\n",
      "-rw-r--r--  1 eris29 eris29   230 Aug 22 07:27 .gitignore\n",
      "drwxr-xr-x  3 eris29 eris29  4096 Aug 22 07:27 .jekyll-cache\n",
      "-rw-r--r--  1 eris29 eris29    12 Aug 22 07:27 .python-version\n",
      "-rw-r--r--  1 eris29 eris29 26856 Aug 22 07:27 CHANGELOG.md\n",
      "-rw-r--r--  1 eris29 eris29   767 Aug 22 07:27 Gemfile\n",
      "-rw-r--r--  1 eris29 eris29  2857 Aug 22 07:27 Gemfile.lock\n",
      "-rw-r--r--  1 eris29 eris29  1078 Aug 22 07:27 LICENSE\n",
      "-rw-r--r--  1 eris29 eris29  3768 Aug 22 07:27 README.md\n",
      "-rw-r--r--  1 eris29 eris29  5585 Aug 22 07:27 _config.yml\n",
      "drwxr-xr-x  4 eris29 eris29  4096 Aug 22 07:27 _data\n",
      "drwxr-xr-x  4 eris29 eris29  4096 Aug 22 07:27 _includes\n",
      "drwxr-xr-x  3 eris29 eris29  4096 Aug 22 07:27 _javascript\n",
      "drwxr-xr-x  2 eris29 eris29  4096 Aug 22 07:27 _layouts\n",
      "drwxr-xr-x  2 eris29 eris29  4096 Aug 22 07:27 _notebooks\n",
      "drwxr-xr-x  2 eris29 eris29  4096 Aug 22 07:27 _plugins\n",
      "drwxr-xr-x  2 eris29 eris29  4096 Aug 22 07:27 _posts\n",
      "drwxr-xr-x  5 eris29 eris29  4096 Aug 22 07:27 _sass\n",
      "drwxr-xr-x 11 eris29 eris29  4096 Aug 22 07:43 _site\n",
      "drwxr-xr-x  2 eris29 eris29  4096 Aug 22 07:27 _tabs\n",
      "drwxr-xr-x  5 eris29 eris29  4096 Aug 22 07:27 assets\n",
      "drwxr-xr-x  2 eris29 eris29  4096 Aug 22 07:27 docs\n",
      "-rw-r--r--  1 eris29 eris29    34 Aug 22 07:27 index.html\n",
      "-rw-r--r--  1 eris29 eris29  1500 Aug 22 07:27 jekyll-theme-chirpy.gemspec\n",
      "-rw-r--r--  1 eris29 eris29  1174 Aug 22 07:27 package.json\n",
      "-rw-r--r--  1 eris29 eris29  1036 Aug 22 07:27 rollup.config.js\n",
      "drwxr-xr-x  3 eris29 eris29  4096 Aug 22 07:27 scripts\n",
      "-rwxr-xr-x  1 eris29 eris29  1854 Aug 22 07:27 server.sh\n",
      "-rw-r--r--  1 eris29 eris29    20 Aug 22 07:27 test.py\n",
      "drwxr-xr-x  2 eris29 eris29  4096 Aug 22 07:27 tools\n"
     ]
    }
   ],
   "source": [
    "%%script bash\n",
    "\n",
    "# Extract saved variables\n",
    "source /tmp/variables.sh\n",
    "\n",
    "echo \"Navigate to project, then navigate to area wwhere files were cloned\"\n",
    "cd $project\n",
    "pwd\n",
    "\n",
    "echo \"\"\n",
    "echo \"list all files in long format\"\n",
    "ls -al   # all files -a (hidden) in -l long listing"
   ]
  },
  {
   "cell_type": "code",
   "execution_count": 10,
   "metadata": {
    "vscode": {
     "languageId": "shellscript"
    }
   },
   "outputs": [
    {
     "name": "stdout",
     "output_type": "stream",
     "text": [
      "Look for posts\n",
      "/home/eris29/APCSA/YLU_blog/_posts\n",
      "total 52\n",
      "-rw-r--r-- 1 eris29 eris29  5491 Aug 22 07:27 2019-08-08-text-and-typography.md\n",
      "-rw-r--r-- 1 eris29 eris29 11347 Aug 22 07:27 2019-08-08-write-a-new-post.md\n",
      "-rw-r--r-- 1 eris29 eris29  6676 Aug 22 07:27 2019-08-09-getting-started.md\n",
      "-rw-r--r-- 1 eris29 eris29  1930 Aug 22 07:27 2019-08-11-customize-the-favicon.md\n",
      "-rw-r--r-- 1 eris29 eris29 11175 Aug 22 07:43 2023-08-16-linux_shell.md\n",
      "-rw-r--r-- 1 eris29 eris29  7175 Aug 22 07:43 2023-08-20-JavaDS-linked-list.md\n"
     ]
    }
   ],
   "source": [
    "%%script bash\n",
    "\n",
    "# Extract saved variables\n",
    "source /tmp/variables.sh\n",
    "\n",
    "echo \"Look for posts\"\n",
    "export posts=$project/_posts  # _posts inside project\n",
    "cd $posts  # this should exist per fastpages\n",
    "pwd  # present working directory\n",
    "ls -l  # list posts"
   ]
  },
  {
   "cell_type": "code",
   "execution_count": 11,
   "metadata": {
    "vscode": {
     "languageId": "shellscript"
    }
   },
   "outputs": [
    {
     "name": "stdout",
     "output_type": "stream",
     "text": [
      "Look for notebooks\n",
      "/home/eris29/APCSA/YLU_blog/_notebooks\n",
      "total 36\n",
      "-rw-r--r-- 1 eris29 eris29 20737 Aug 22 07:58 2023-08-16-linux_shell.ipynb\n",
      "-rw-r--r-- 1 eris29 eris29 10888 Aug 22 07:42 2023-08-20-JavaDS-linked-list.ipynb\n"
     ]
    }
   ],
   "source": [
    "%%script bash\n",
    "\n",
    "# Extract saved variables\n",
    "source /tmp/variables.sh\n",
    "\n",
    "echo \"Look for notebooks\"\n",
    "export notebooks=$project/_notebooks  # _notebooks is inside project\n",
    "cd $notebooks   # this should exist per fastpages\n",
    "pwd  # present working directory\n",
    "ls -l  # list notebooks"
   ]
  },
  {
   "cell_type": "code",
   "execution_count": 12,
   "metadata": {
    "vscode": {
     "languageId": "shellscript"
    }
   },
   "outputs": [
    {
     "name": "stdout",
     "output_type": "stream",
     "text": [
      "Look for images in notebooks, print working directory, list files\n",
      "/home/eris29/APCSA/YLU_blog/_notebooks\n",
      "total 36\n",
      "-rw-r--r-- 1 eris29 eris29 21104 Aug 22 07:59 2023-08-16-linux_shell.ipynb\n",
      "-rw-r--r-- 1 eris29 eris29 10888 Aug 22 07:42 2023-08-20-JavaDS-linked-list.ipynb\n"
     ]
    },
    {
     "name": "stderr",
     "output_type": "stream",
     "text": [
      "bash: line 6: cd: /images: No such file or directory\n"
     ]
    }
   ],
   "source": [
    "%%script bash\n",
    "\n",
    "# Extract saved variables\n",
    "source /tmp/variables.sh\n",
    "\n",
    "echo \"Look for images in notebooks, print working directory, list files\"\n",
    "cd $notebooks/images  # this should exist per fastpages\n",
    "pwd\n",
    "ls -l"
   ]
  },
  {
   "attachments": {},
   "cell_type": "markdown",
   "metadata": {},
   "source": [
    "### Look inside a Markdown File\n",
    "> \"cat\" reads data from the file and gives its content as output"
   ]
  },
  {
   "cell_type": "code",
   "execution_count": 13,
   "metadata": {
    "vscode": {
     "languageId": "shellscript"
    }
   },
   "outputs": [
    {
     "name": "stdout",
     "output_type": "stream",
     "text": [
      "Navigate to project, then navigate to area wwhere files were cloned\n",
      "show the contents of README.md\n",
      "\n",
      "<div align=\"center\">\n",
      "\n",
      "  # Chirpy Jekyll Theme\n",
      "\n",
      "  A minimal, responsive and feature-rich Jekyll theme for technical writing.\n",
      "\n",
      "  [![Gem Version](https://img.shields.io/gem/v/jekyll-theme-chirpy?color=brightgreen)][gem]&nbsp;\n",
      "  [![CI](https://github.com/cotes2020/jekyll-theme-chirpy/actions/workflows/ci.yml/badge.svg?branch=master&event=push)][ci]&nbsp;\n",
      "  [![Codacy Badge](https://app.codacy.com/project/badge/Grade/4e556876a3c54d5e8f2d2857c4f43894)][codacy]&nbsp;\n",
      "  [![GitHub license](https://img.shields.io/github/license/cotes2020/jekyll-theme-chirpy.svg)][license]&nbsp;\n",
      "  [![996.icu](https://img.shields.io/badge/link-996.icu-%23FF4D5B.svg)](https://996.icu)\n",
      "\n",
      "  [**Live Demo →**][demo]\n",
      "\n",
      "  [![Devices Mockup](https://chirpy-img.netlify.app/commons/devices-mockup.png)][demo]\n",
      "\n",
      "</div>\n",
      "\n",
      "## Features\n",
      "\n",
      "<details>\n",
      "  <summary>\n",
      "    <i>Click to view features</i>\n",
      "  </summary>\n",
      "  <p>\n",
      "\n",
      "  - Dark / Light Theme Mode\n",
      "  - Localized UI language\n",
      "  - Pinned Posts on Home Page\n",
      "  - Hierarchical Categories\n",
      "  - Trending Tags\n",
      "  - Table of Contents\n",
      "  - Last Modified Date\n",
      "  - Syntax Highlighting\n",
      "  - Mathematical Expressions\n",
      "  - Mermaid Diagrams & Flowcharts\n",
      "  - Dark / Light Mode Images\n",
      "  - Embed Videos\n",
      "  - Disqus / Utterances / Giscus Comments\n",
      "  - Built-in Search\n",
      "  - Atom Feeds\n",
      "  - Google Analytics\n",
      "  - SEO & Performance Optimization\n",
      "\n",
      "  </p>\n",
      "</details>\n",
      "\n",
      "## Documentation\n",
      "\n",
      "To explore usage, development, and upgrade guide of the project, please refer to the [**Wiki**][wiki].\n",
      "\n",
      "## Contributing\n",
      "\n",
      "Contributions (Issues/PRs/Discussions) are what make the open source community such an amazing place to learn, inspire, and create. Any contributions you make are greatly appreciated. For details, see the \"[Contributing Guidelines][contribute-guide]\".\n",
      "\n",
      "## Credits\n",
      "\n",
      "This theme is mainly built with [Jekyll][jekyllrb] ecosystem,\n",
      "[Bootstrap][bootstrap], [Font Awesome][icons] and some other [wonderful tools][lib].\n",
      "The avatar and favicon design come from [Clipart Max][image].\n",
      "\n",
      "Many thanks to the [contributors][contributors] who participated in the development\n",
      "and to the folks who reported bugs or shared ideas.\n",
      "\n",
      "Last but not least, thanks to [JetBrains][jetbrains] for providing the _Open Source License_.\n",
      "\n",
      "## Sponsoring\n",
      "\n",
      "If you'd like to sponsor this project, the following options are available.\n",
      "\n",
      "[![Ko-fi](https://img.shields.io/badge/Support_Me_on_Ko--fi-ff5e5b?logo=ko-fi&logoColor=white)][ko-fi]&nbsp;\n",
      "[![Wechat Pay](https://img.shields.io/badge/Tip_Me_on_WeChat-brightgreen?logo=wechat&logoColor=white)][donation]&nbsp;\n",
      "[![Alipay](https://img.shields.io/badge/Tip_Me_on_Alipay-blue?logo=alipay&logoColor=white)][donation]\n",
      "\n",
      "## License\n",
      "\n",
      "This work is published under [MIT License][license].\n",
      "\n",
      "[gem]: https://rubygems.org/gems/jekyll-theme-chirpy\n",
      "[ci]: https://github.com/cotes2020/jekyll-theme-chirpy/actions/workflows/ci.yml?query=event%3Apush+branch%3Amaster\n",
      "[codacy]: https://app.codacy.com/gh/cotes2020/jekyll-theme-chirpy/dashboard?utm_source=gh&utm_medium=referral&utm_content=&utm_campaign=Badge_grade\n",
      "[license]: https://github.com/cotes2020/jekyll-theme-chirpy/blob/master/LICENSE\n",
      "[jekyllrb]: https://jekyllrb.com/\n",
      "[bootstrap]: https://getbootstrap.com/\n",
      "[icons]: https://fontawesome.com/\n",
      "[image]: https://www.clipartmax.com/middle/m2i8b1m2K9Z5m2K9_ant-clipart-childrens-ant-cute/\n",
      "[demo]: https://cotes2020.github.io/chirpy-demo/\n",
      "[wiki]: https://github.com/cotes2020/jekyll-theme-chirpy/wiki\n",
      "[contribute-guide]: https://github.com/cotes2020/jekyll-theme-chirpy/blob/master/docs/CONTRIBUTING.md\n",
      "[contributors]: https://github.com/cotes2020/jekyll-theme-chirpy/graphs/contributors\n",
      "[lib]: https://github.com/cotes2020/chirpy-static-assets\n",
      "[jetbrains]: https://www.jetbrains.com/?from=jekyll-theme-chirpy\n",
      "[ko-fi]: https://ko-fi.com/coteschung/\n",
      "[donation]: https://sponsor.cotes.page/\n",
      "\n",
      "end of README.md\n"
     ]
    }
   ],
   "source": [
    "%%script bash\n",
    "\n",
    "# Extract saved variables\n",
    "source /tmp/variables.sh\n",
    "\n",
    "echo \"Navigate to project, then navigate to area wwhere files were cloned\"\n",
    "\n",
    "cd $project\n",
    "echo \"show the contents of README.md\"\n",
    "echo \"\"\n",
    "\n",
    "cat README.md  # show contents of file, in this case markdown\n",
    "echo \"\"\n",
    "echo \"end of README.md\"\n"
   ]
  },
  {
   "attachments": {},
   "cell_type": "markdown",
   "metadata": {},
   "source": [
    "## Env, Git and GitHub\n",
    "> Env(ironment) is used to capture things like path to Code or Home directory.  Git and GitHub is NOT Only used to exchange code between individuals, it is often used to exchange code through servers, in our case deployment for Website.   All tools we use have a behind the scenes relationships with the system they run on (MacOS, Windows, Linus) or a relationship with servers which they are connected to (ie GitHub).  There is an \"env\" command in bash.  There are environment files and setting files (.git/config) for Git.  They both use a key/value concept.\n",
    "\n",
    "- \"env\" show setting for your shell\n",
    "- \"git clone\" sets up a director of files\n",
    "- \"cd $project\" allows user to move inside that directory of files\n",
    "- \".git\" is a hidden directory that is used by git to establish relationship between machine and the git server on GitHub.  "
   ]
  },
  {
   "cell_type": "code",
   "execution_count": 14,
   "metadata": {
    "vscode": {
     "languageId": "shellscript"
    }
   },
   "outputs": [
    {
     "name": "stdout",
     "output_type": "stream",
     "text": [
      "Show the shell environment variables, key on left of equal value on right\n",
      "\n",
      "SHELL=/bin/bash\n",
      "PYTHONUNBUFFERED=1\n",
      "WSL2_GUI_APPS_ENABLED=1\n",
      "rvm_prefix=/home/eris29\n",
      "WSL_DISTRO_NAME=Ubuntu-20.04\n",
      "rvm_stored_umask=0022\n",
      "ELECTRON_RUN_AS_NODE=1\n",
      "MY_RUBY_HOME=/home/eris29/.rvm/rubies/ruby-3.0.0\n",
      "RBENV_SHELL=bash\n",
      "VSCODE_AMD_ENTRYPOINT=vs/workbench/api/node/extensionHostProcess\n",
      "RUBY_VERSION=ruby-3.0.0\n",
      "NAME=Code\n",
      "PWD=/home/eris29/APCSA/YLU_blog/_notebooks\n",
      "LOGNAME=eris29\n",
      "rvm_version=1.29.12 (latest)\n",
      "rvm_user_install_flag=1\n",
      "PYDEVD_IPYTHON_COMPATIBLE_DEBUGGING=1\n",
      "MOTD_SHOWN=update-motd\n",
      "HOME=/home/eris29\n",
      "LANG=C.UTF-8\n",
      "WSL_INTEROP=/run/WSL/468301_interop\n",
      "LS_COLORS=rs=0:di=01;34:ln=01;36:mh=00:pi=40;33:so=01;35:do=01;35:bd=40;33;01:cd=40;33;01:or=40;31;01:mi=00:su=37;41:sg=30;43:ca=30;41:tw=30;42:ow=34;42:st=37;44:ex=01;32:*.tar=01;31:*.tgz=01;31:*.arc=01;31:*.arj=01;31:*.taz=01;31:*.lha=01;31:*.lz4=01;31:*.lzh=01;31:*.lzma=01;31:*.tlz=01;31:*.txz=01;31:*.tzo=01;31:*.t7z=01;31:*.zip=01;31:*.z=01;31:*.dz=01;31:*.gz=01;31:*.lrz=01;31:*.lz=01;31:*.lzo=01;31:*.xz=01;31:*.zst=01;31:*.tzst=01;31:*.bz2=01;31:*.bz=01;31:*.tbz=01;31:*.tbz2=01;31:*.tz=01;31:*.deb=01;31:*.rpm=01;31:*.jar=01;31:*.war=01;31:*.ear=01;31:*.sar=01;31:*.rar=01;31:*.alz=01;31:*.ace=01;31:*.zoo=01;31:*.cpio=01;31:*.7z=01;31:*.rz=01;31:*.cab=01;31:*.wim=01;31:*.swm=01;31:*.dwm=01;31:*.esd=01;31:*.jpg=01;35:*.jpeg=01;35:*.mjpg=01;35:*.mjpeg=01;35:*.gif=01;35:*.bmp=01;35:*.pbm=01;35:*.pgm=01;35:*.ppm=01;35:*.tga=01;35:*.xbm=01;35:*.xpm=01;35:*.tif=01;35:*.tiff=01;35:*.png=01;35:*.svg=01;35:*.svgz=01;35:*.mng=01;35:*.pcx=01;35:*.mov=01;35:*.mpg=01;35:*.mpeg=01;35:*.m2v=01;35:*.mkv=01;35:*.webm=01;35:*.ogm=01;35:*.mp4=01;35:*.m4v=01;35:*.mp4v=01;35:*.vob=01;35:*.qt=01;35:*.nuv=01;35:*.wmv=01;35:*.asf=01;35:*.rm=01;35:*.rmvb=01;35:*.flc=01;35:*.avi=01;35:*.fli=01;35:*.flv=01;35:*.gl=01;35:*.dl=01;35:*.xcf=01;35:*.xwd=01;35:*.yuv=01;35:*.cgm=01;35:*.emf=01;35:*.ogv=01;35:*.ogx=01;35:*.aac=00;36:*.au=00;36:*.flac=00;36:*.m4a=00;36:*.mid=00;36:*.midi=00;36:*.mka=00;36:*.mp3=00;36:*.mpc=00;36:*.ogg=00;36:*.ra=00;36:*.wav=00;36:*.oga=00;36:*.opus=00;36:*.spx=00;36:*.xspf=00;36:\n",
      "WAYLAND_DISPLAY=wayland-0\n",
      "CLICOLOR=1\n",
      "VSCODE_L10N_BUNDLE_LOCATION=\n",
      "rvm_bin_path=/home/eris29/.rvm/bin\n",
      "GEM_PATH=/home/eris29/.rvm/gems/ruby-3.0.0:/home/eris29/.rvm/gems/ruby-3.0.0@global\n",
      "GEM_HOME=/home/eris29/.rvm/gems/ruby-3.0.0\n",
      "LESSCLOSE=/usr/bin/lesspipe %s %s\n",
      "VSCODE_HANDLES_SIGPIPE=true\n",
      "TERM=xterm-color\n",
      "LESSOPEN=| /usr/bin/lesspipe %s\n",
      "USER=eris29\n",
      "GIT_PAGER=cat\n",
      "PYTHONIOENCODING=utf-8\n",
      "rvm_loaded_flag=1\n",
      "DISPLAY=:0\n",
      "SHLVL=2\n",
      "PAGER=cat\n",
      "VSCODE_CWD=/mnt/c/Users/maodo/AppData/Local/Programs/Microsoft VS Code\n",
      "MPLBACKEND=module://ipykernel.pylab.backend_inline\n",
      "XDG_RUNTIME_DIR=/run/user/1000/\n",
      "WSLENV=ELECTRON_RUN_AS_NODE/w:\n",
      "\n",
      "VSCODE_WSL_EXT_LOCATION=/mnt/c/Users/maodo/.vscode/extensions/ms-vscode-remote.remote-wsl-0.81.0\n",
      "XDG_DATA_DIRS=/usr/local/share:/usr/share:/var/lib/snapd/desktop\n",
      "PATH=/bin:/home/eris29/.local/bin:/home/eris29/.vscode-server/bin/6c3e3dba23e8fadc360aed75ce363ba185c49794/bin/remote-cli:/home/eris29/.rvm/gems/ruby-3.0.0/bin:/home/eris29/.rvm/gems/ruby-3.0.0@global/bin:/home/eris29/.rvm/rubies/ruby-3.0.0/bin:/home/eris29/.local/bin:/home/eris29/.rbenv/shims:/home/eris29/.rbenv/bin:/usr/local/sbin:/usr/local/bin:/usr/sbin:/usr/bin:/sbin:/bin:/usr/games:/usr/local/games:/usr/lib/wsl/lib:/mnt/c/Program Files/WindowsApps/MicrosoftCorporationII.WindowsSubsystemForLinux_1.2.5.0_x64__8wekyb3d8bbwe:/mnt/c/Program Files (x86)/VMware/VMware Player/bin/:/mnt/c/Windows/system32:/mnt/c/Windows:/mnt/c/Windows/System32/Wbem:/mnt/c/Windows/System32/WindowsPowerShell/v1.0/:/mnt/c/Windows/System32/OpenSSH/:/mnt/c/Users/maodo/AppData/Local/Microsoft/WindowsApps:/mnt/c/Users/maodo/AppData/Local/Programs/Microsoft VS Code/bin:/snap/bin:/home/eris29/.rvm/bin:/home/eris29/.rvm/bin:/home/eris29/.vscode-server/bin/6c3e3dba23e8fadc360aed75ce363ba185c49794/bin/remote-cli:/home/eris29/.rvm/gems/ruby-3.0.0/bin:/home/eris29/.rvm/gems/ruby-3.0.0@global/bin:/home/eris29/.rvm/rubies/ruby-3.0.0/bin:/home/eris29/.local/bin:/home/eris29/.rbenv/shims:/home/eris29/.rbenv/bin:/usr/local/sbin:/usr/local/bin:/usr/sbin:/usr/bin:/sbin:/bin:/usr/games:/usr/local/games:/usr/lib/wsl/lib:/mnt/c/Program Files/WindowsApps/MicrosoftCorporationII.WindowsSubsystemForLinux_1.2.5.0_x64__8wekyb3d8bbwe:/mnt/c/Program Files (x86)/VMware/VMware Player/bin/:/mnt/c/Windows/system32:/mnt/c/Windows:/mnt/c/Windows/System32/Wbem:/mnt/c/Windows/System32/WindowsPowerShell/v1.0/:/mnt/c/Windows/System32/OpenSSH/:/mnt/c/Users/maodo/AppData/Local/Microsoft/WindowsApps:/mnt/c/Users/maodo/AppData/Local/Programs/Microsoft VS Code/bin:/snap/bin:/home/eris29/.rvm/bin:/home/eris29/.rvm/bin\n",
      "DBUS_SESSION_BUS_ADDRESS=unix:path=/run/user/1000/bus\n",
      "VSCODE_NLS_CONFIG={\"locale\":\"en\",\"osLocale\":\"en\",\"availableLanguages\":{}}\n",
      "HOSTTYPE=x86_64\n",
      "IRBRC=/home/eris29/.rvm/rubies/ruby-3.0.0/.irbrc\n",
      "PULSE_SERVER=unix:/mnt/wslg/PulseServer\n",
      "VSCODE_HANDLES_UNCAUGHT_ERRORS=true\n",
      "rvm_path=/home/eris29/.rvm\n",
      "VSCODE_IPC_HOOK_CLI=/run/user/1000/vscode-ipc-867fe60f-6873-4b31-a8f6-3213fa0f18a3.sock\n",
      "_=/bin/env\n"
     ]
    }
   ],
   "source": [
    "%%script bash\n",
    "\n",
    "# This command has no dependencies\n",
    "\n",
    "echo \"Show the shell environment variables, key on left of equal value on right\"\n",
    "echo \"\"\n",
    "\n",
    "env"
   ]
  },
  {
   "cell_type": "code",
   "execution_count": 15,
   "metadata": {
    "vscode": {
     "languageId": "shellscript"
    }
   },
   "outputs": [
    {
     "name": "stdout",
     "output_type": "stream",
     "text": [
      "\n",
      "show the secrets of .git\n",
      "total 72\n",
      "-rw-r--r--   1 eris29 eris29    16 Aug 22 07:27 COMMIT_EDITMSG\n",
      "-rw-r--r--   1 eris29 eris29    96 Aug 22 07:57 FETCH_HEAD\n",
      "-rw-r--r--   1 eris29 eris29    21 Aug 22 07:27 HEAD\n",
      "-rw-r--r--   1 eris29 eris29    41 Aug 22 07:27 ORIG_HEAD\n",
      "drwxr-xr-x   2 eris29 eris29  4096 Aug 22 07:27 branches\n",
      "-rw-r--r--   1 eris29 eris29   290 Aug 22 07:27 config\n",
      "-rw-r--r--   1 eris29 eris29    73 Aug 22 07:27 description\n",
      "drwxr-xr-x   2 eris29 eris29  4096 Aug 22 07:27 hooks\n",
      "-rw-r--r--   1 eris29 eris29 16778 Aug 22 07:27 index\n",
      "drwxr-xr-x   2 eris29 eris29  4096 Aug 22 07:27 info\n",
      "drwxr-xr-x   3 eris29 eris29  4096 Aug 22 07:27 logs\n",
      "drwxr-xr-x 120 eris29 eris29  4096 Aug 22 07:27 objects\n",
      "-rw-r--r--   1 eris29 eris29   112 Aug 22 07:27 packed-refs\n",
      "drwxr-xr-x   5 eris29 eris29  4096 Aug 22 07:27 refs\n",
      "\n",
      "look at config file\n",
      "[core]\n",
      "\trepositoryformatversion = 0\n",
      "\tfilemode = true\n",
      "\tbare = false\n",
      "\tlogallrefupdates = true\n",
      "[remote \"origin\"]\n",
      "\turl = https://github.com/YLu-1258/YLU_blog.git\n",
      "\tfetch = +refs/heads/*:refs/remotes/origin/*\n",
      "[branch \"main\"]\n",
      "\tremote = origin\n",
      "\tmerge = refs/heads/main\n",
      "[credential]\n",
      "\thelper = store\n"
     ]
    }
   ],
   "source": [
    "%%script bash\n",
    "\n",
    "# Extract saved variables\n",
    "source /tmp/variables.sh\n",
    "\n",
    "cd $project\n",
    "\n",
    "echo \"\"\n",
    "echo \"show the secrets of .git\"\n",
    "cd .git\n",
    "ls -l\n",
    "\n",
    "echo \"\"\n",
    "echo \"look at config file\"\n",
    "cat config"
   ]
  },
  {
   "attachments": {},
   "cell_type": "markdown",
   "metadata": {},
   "source": [
    "## Advanced Student Request - Make a file in Bash\n",
    "> This example was requested by a student (Jun Lim, CSA). The request was to make jupyer file using bash, I adapted the request to markdown.  This type of thought will have great extrapolation to coding and possibilities of using List, Arrays, or APIs to build user interfaces.  JavaScript is a language where building HTML is very common.\n",
    "\n",
    "> To get more interesting output from terminal, this will require using something like mdless (https://github.com/ttscoff/mdless).  This enables see markdown in rendered format.\n",
    "- On Desktop [Install PKG from MacPorts](https://www.macports.org/install.php)\n",
    "- In Terminal on MacOS\n",
    "    - [Install ncurses](https://ports.macports.org/port/ncurses/)\n",
    "    - ```gem install mdless```\n",
    "    \n",
    "> Output of the example is much nicer in \"jupyter\""
   ]
  },
  {
   "cell_type": "code",
   "execution_count": null,
   "metadata": {
    "vscode": {
     "languageId": "shellscript"
    }
   },
   "outputs": [],
   "source": [
    "%%script bash\n",
    "\n",
    "# This example has error in VSCode, it run best on Jupyter\n",
    "cd /tmp\n",
    "\n",
    "file=\"sample.md\"\n",
    "if [ -f \"$file\" ]; then\n",
    "    rm $file\n",
    "fi\n",
    "\n",
    "tee -a $file >/dev/null <<EOF\n",
    "# Show Generated Markdown\n",
    "This introductory paragraph and this line and the title above are generated using tee with the standard input (<<) redirection operator.\n",
    "- This bulleted element is still part of the tee body.\n",
    "EOF\n",
    "\n",
    "echo \"- This bulleted element and lines below are generated using echo with standard output (>>) redirection operator.\" >> $file\n",
    "echo \"- The list definition, as is, is using space to seperate lines.  Thus the use of commas and hyphens in output.\" >> $file\n",
    "actions=(\"ls,list-directory\" \"cd,change-directory\" \"pwd,present-working-directory\" \"if-then-fi,test-condition\" \"env,bash-environment-variables\" \"cat,view-file-contents\" \"tee,write-to-output\" \"echo,display-content-of-string\" \"echo_text_>\\$file,write-content-to-file\" \"echo_text_>>\\$file,append-content-to-file\")\n",
    "for action in ${actions[@]}; do  # for loop is very similar to other language, though [@], semi-colon, do are new\n",
    "  action=${action//-/ }  # convert dash to space\n",
    "  action=${action//,/: } # convert comma to colon\n",
    "  action=${action//_text_/ \\\"sample text\\\" } # convert _text_ to sample text, note escape character \\ to avoid \"\" having meaning\n",
    "  echo \"    - ${action//-/ }\" >> $file  # echo is redirected to file with >>\n",
    "done\n",
    "\n",
    "echo \"\"\n",
    "echo \"File listing and status\"\n",
    "ls -l $file # list file\n",
    "wc $file   # show words\n",
    "mdless $file  # this requires installation, but renders markown from terminal\n",
    "\n",
    "rm $file  # clean up termporary file"
   ]
  },
  {
   "attachments": {},
   "cell_type": "markdown",
   "metadata": {},
   "source": [
    "## Hack Preparation.\n",
    "> Review Tool Setup Procedures and think about some thing you could verify through a Shell notebook.\n",
    "- Come up with your own student view of this procedure to show your tools are installed.  It is best that you keep the few things you understand, add things later as you start to understand them.\n",
    "- Name and create blog notes on some Linux commands you will use frequently.\n",
    "- Is there anything we use to verify tools we installed? Review versions?\n",
    "- How would you update a repository?  Use the git command line? \n"
   ]
  },
  {
   "cell_type": "code",
   "execution_count": 41,
   "metadata": {
    "vscode": {
     "languageId": "shellscript"
    }
   },
   "outputs": [
    {
     "name": "stdout",
     "output_type": "stream",
     "text": [
      "=============================================\n",
      "Verifying Tool versions\n",
      "=============================================\n",
      "Python version: Python 3.8.10\n",
      "Jupyter Notebook version: 6.0.3\n",
      "Ruby version: 2.7.0p0\n",
      "===============================================\n",
      "Verifying Jupyter Kernels\n",
      "===============================================\n",
      "Java kernel installed at /usr/share/jupyter/kernels/java\n",
      "Python kernel installed at /usr/share/jupyter/kernels/python3\n"
     ]
    }
   ],
   "source": [
    "%%script bash\n",
    "\n",
    "## Verify tool versions\n",
    "echo \"=============================================\"\n",
    "echo \"Verifying Tool versions\"\n",
    "echo \"=============================================\"\n",
    "python_version=$(python --version)\n",
    "jupyter_version=$(jupyter --version | grep \"notebook\" | cut -d' ' -f3)\n",
    "ruby_version=$(ruby -v | cut -d' ' -f2)\n",
    "echo \"Python version: $python_version\"\n",
    "echo \"Jupyter Notebook version: $jupyter_version\"\n",
    "echo \"Ruby version: $ruby_version\"\n",
    "\n",
    "## Verify Jupyter Kernel installation\n",
    "echo \"===============================================\"\n",
    "echo \"Verifying Jupyter Kernels\"\n",
    "echo \"===============================================\"\n",
    "if [[ $(jupyter kernelspec list | grep java) ]]; then\n",
    "    java_kernel=$(jupyter kernelspec list | grep java | cut -d' ' -f14)\n",
    "    echo \"Java kernel installed at $java_kernel\"\n",
    "else \n",
    "    read -p \"Java kernel not found, install? (Yy/Nn)\" yn\n",
    "    if (( yn == 'Y' || yn == 'y' )); then\n",
    "        wget https://github.com/SpencerPark/IJava/releases/download/v1.3.0/ijava-1.3.0.zip -O ijava.zip\n",
    "        unzip ./ijava.zip\n",
    "        python3 ./install.py --sys-prefix\n",
    "    fi\n",
    "fi\n",
    "if [[ $(jupyter kernelspec list | grep python) ]]; then\n",
    "    python_kernel=$(jupyter kernelspec list | grep python | cut -d' ' -f11)\n",
    "    echo \"Python kernel installed at $python_kernel\"\n",
    "else \n",
    "    echo \"Python kernel not installed, maybe dl through vscode and run sudo apt-get install python3 -y?\"\n",
    "fi"
   ]
  }
 ],
 "metadata": {
  "kernelspec": {
   "display_name": "Python 3.10.6 64-bit",
   "language": "python",
   "name": "python3"
  },
  "language_info": {
   "codemirror_mode": {
    "name": "ipython",
    "version": 3
   },
   "file_extension": ".py",
   "mimetype": "text/x-python",
   "name": "python",
   "nbconvert_exporter": "python",
   "pygments_lexer": "ipython3",
   "version": "3.8.10"
  },
  "vscode": {
   "interpreter": {
    "hash": "aee8b7b246df8f9039afb4144a1f6fd8d2ca17a180786b69acc140d282b71a49"
   }
  }
 },
 "nbformat": 4,
 "nbformat_minor": 2
}
