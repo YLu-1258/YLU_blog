{
 "cells": [
  {
   "cell_type": "markdown",
   "metadata": {},
   "source": [
    "---\n",
    "- layout: post\n",
    "- title: Java Hello\n",
    "- description: A progressive journey through Java basics starting with the classic \"Hello, World!\" example.\n",
    "- courses: { csa: {week: 1, categories: [3.A]} }\n",
    "- categories: [C4.0]\n",
    "- comments: true\n",
    "- week: 1\n",
    "- date: 2023-08-23 09:08:00 -0800\n",
    "- type: plans\n",
    "---"
   ]
  },
  {
   "cell_type": "markdown",
   "metadata": {},
   "source": [
    "## Hello, World!\n",
    "This article shows the basic language structures and constructs of Java (aka anatomy).  In async order, it is critical to understand these examples and learn vocab for OOP and Creating Objects: \n",
    "- [Object Oriented Programming](https://youtu.be/Wok4Xw_5cyY) \n",
    "- [Creating Objects](https://youtu.be/C5Ks_u87Ltg)\n",
    "- [Calling Methods](https://youtu.be/CPE_lYGCw3A)"
   ]
  },
  {
   "cell_type": "markdown",
   "metadata": {},
   "source": [
    "### Static example\n",
    "The class HelloStatic contains the classic \"Hello, World!\" message that is often used as an introduction to a programming language.  The \"public static void main(String[] args)\", or main method, is the default runtime method in Java and has a very specific and ordered definition (signature). \n",
    "\n",
    "The key terms in HelloStatic introduction:\n",
    "- \"class\" is a blueprint for code, it is the code definition and must be called to run\n",
    "- \"method\" or \"static method\" in this case, is the code to be run/executed, similar to a procedure\n",
    "- \"method definition\" or \"signature\" are the keywords \"public static void\" in front of the name \"main\" and the parameters \"String[] args\" after the name.\n",
    "- \"method call\" is the means in which we run the defined code\n",
    "\n",
    "In Java, everything is an object. Static means there is only one instance. We can create instances of an object when the class is not static. Static methods are shared amongst all instances.\n"
   ]
  },
  {
   "cell_type": "code",
   "execution_count": 2,
   "metadata": {
    "vscode": {
     "languageId": "java"
    }
   },
   "outputs": [
    {
     "name": "stdout",
     "output_type": "stream",
     "text": [
      "Hello World!\n",
      "Hello World!\n"
     ]
    }
   ],
   "source": [
    "// Define Static Method within a Class\n",
    "public class HelloStatic {\n",
    "    // Java standard runtime entry point\n",
    "    public static void main(String[] args) {    \n",
    "        System.out.println(\"Hello World!\");\n",
    "    }\n",
    "}\n",
    "// A method call allows us to execute code that is wrapped in Class\n",
    "HelloStatic.main(null);   // Class prefix allows reference of Static Method"
   ]
  },
  {
   "cell_type": "markdown",
   "metadata": {},
   "source": [
    "### Dynamic Example\n",
    "This example starts to use Java in its natural manner, using an object within the main method. This example is a very basic illustration of Object Oriente Programming (OOP). The main method is now used as a driver/tester, by making an instance of the class.  Thus, it creates an Object using the HelloObject() constructor.  Also, this Class contains a getter method called getHello() which returns the value with the \"String hello\".\n",
    "\n",
    "The key terms in HelloStatic introduction:\n",
    "- \"Object Oriented Programming\" focuses software design around data, or objects.\n",
    "- \"object\" contains both methods and data\n",
    "- \"instance of a class\" is the process of making an object, unique or instances of variables are created within the object\n",
    "- \"constructor\" special method in class, code that is used to initialize the data within the object\n",
    "- \"getter\" is a method that is used to extract or reference data from within the object. "
   ]
  },
  {
   "cell_type": "code",
   "execution_count": 3,
   "metadata": {
    "vscode": {
     "languageId": "java"
    }
   },
   "outputs": [
    {
     "name": "stdout",
     "output_type": "stream",
     "text": [
      "Hello, World!\n"
     ]
    }
   ],
   "source": [
    "// Define Class with Constructor returning Object\n",
    "public class HelloObject {\n",
    "    private String hello;   // instance attribute or variable\n",
    "    public HelloObject() {  // constructor\n",
    "        hello = \"Hello, World!\";\n",
    "    }\n",
    "    public String getHello() {  // getter, returns value from inside the object\n",
    "        return this.hello;  // return String from object\n",
    "    }\n",
    "    public static void main(String[] args) {    \n",
    "        HelloObject ho = new HelloObject(); // Instance of Class (ho) is an Object via \"new HelloObject()\"\n",
    "        System.out.println(ho.getHello()); // Object allows reference to public methods and data\n",
    "    }\n",
    "}\n",
    "// IJava activation\n",
    "HelloObject.main(null);"
   ]
  },
  {
   "cell_type": "markdown",
   "metadata": {},
   "source": [
    "### Dynamic Example with two constructors\n",
    "This last example adds to the basics of the Java anatomy.  The Class now contains two constructors and a setter to go with the getter.  Also, observe the driver/tester now contains two objects that are initialized differently, 0 and 1 argument constructor.  Look at the usage of the \"this\" prefix.  The \"this\" keyword helps in clarification between instance and local variable.\n",
    "\n",
    "The key terms in HelloDynamic introduction:\n",
    "- \"0 argument constructor\" constructor method with no parameter ()\n",
    "- \"1 argument constructor\" construct method with a parameter (String hello)\n",
    "- \"this keyword\" allows you to clear reference something that is part of the object, data or method\n",
    "- \"local variable\" is a variable that is passed to the method in this example, see the 1 argument constructor as it has a local variable \"String hello\"\n",
    "- \"dynamic\" versus \"static\" is something that has option to change, static never changes.  A class (blueprint) and objects (instance of blueprint) are generally intended to be dynamic.  Constructors and Setters are used to dynamically change the content of an object.\n",
    "- \"Java OOP, Java Classes/Objects, Java Class Attributes, Java Class Methods, Java Constructors\" are explained if more complete detail in W3 Schools: https://www.w3schools.com/java/java_oop.asp"
   ]
  },
  {
   "cell_type": "code",
   "execution_count": 6,
   "metadata": {
    "vscode": {
     "languageId": "java"
    }
   },
   "outputs": [
    {
     "name": "stdout",
     "output_type": "stream",
     "text": [
      "Hello, World!\n",
      "Hello, Nighthawk Coding Society!\n"
     ]
    }
   ],
   "source": [
    "\n",
    "\n",
    "// Define Class\n",
    "public class HelloDynamic { // name the first letter of class as capitalized, note camel case\n",
    "    // instance variable have access modifier (private is most common), data type, and name\n",
    "    private String hello;\n",
    "    // constructor signature 1, public and zero arguments, constructors do not have return type\n",
    "    public HelloDynamic() {  // 0 argument constructor\n",
    "        this.setHello(\"Hello, World!\");  // using setter with static string\n",
    "    }\n",
    "    // constructor signature, public and one argument\n",
    "    public HelloDynamic(String hello) { // 1 argument constructor\n",
    "        this.setHello(hello);   // using setter with local variable passed into constructor\n",
    "    }\n",
    "    // setter/mutator, setter have void return type and a parameter\n",
    "    public void setHello(String hello) { // setter\n",
    "        this.hello = hello;     // instance variable on the left, local variable on the right\n",
    "    }\n",
    "    // getter/accessor, getter used to return private instance variable (encapsulated), return type is String\n",
    "    public String getHello() {  // getter\n",
    "        return this.hello;\n",
    "    }\n",
    "    // public static void main(String[] args) is signature for main/drivers/tester method\n",
    "    // a driver/tester method is singular or called a class method, it is never part of an object\n",
    "    public static void main(String[] args) {  \n",
    "        HelloDynamic hd1 = new HelloDynamic(); // no argument constructor\n",
    "        HelloDynamic hd2 = new HelloDynamic(\"Hello, Nighthawk Coding Society!\"); // one argument constructor\n",
    "        System.out.println(hd1.getHello()); // accessing getter\n",
    "        System.out.println(hd2.getHello()); \n",
    "    }\n",
    "}\n",
    "// IJava activation\n",
    "HelloDynamic.main(null);"
   ]
  },
  {
   "cell_type": "markdown",
   "metadata": {},
   "source": [
    "## Hacks\n",
    "Build your own Jupyter Notebook meeting these College Board and CTE competencies.  It is critical to understand Static versus Instance Now, this is College Board requirement!!!\n",
    "- Explain Anatomy of a Class in comments of program (Diagram key parts of the class).\n",
    "- Comment in code where there is a definition of a Class and an instance of a Class (ie object)\n",
    "- Comment in code where there are constructors and highlight the signature difference in the signature\n",
    "- Call an object method with parameter (ie setters).\n",
    "\n",
    "\n",
    "Additional requirements (Pick something)\n",
    "1. Go through code progression of understanding Class usage and generating an Instance of a Class (Object).  \n",
    "    a. Build a purposeful dynamic Class, using an Object, generate multiple instances:  \n",
    "        - Person: Name and Age  \n",
    "        - Dessert: Type and Cost  \n",
    "        - Location: City, State, Zip  \n",
    "    b. Create a static void main tester method to generate objects of the class.\n",
    "    c. In tester method, show how setters/mutators can be used to make the data in the Object dynamically change\n",
    "3. Go through progression of understanding a Static Class.  Build a purposeful static Class, no Objects.\n",
    "    - Calculate common operations on a Date field, age since date, older of two dates, number of seconds since date\n",
    "    - Calculate stats functions on an array of values: mean, median, mode."
   ]
  }
 ],
 "metadata": {
  "kernelspec": {
   "display_name": "java",
   "language": "java",
   "name": "java"
  },
  "language_info": {
   "codemirror_mode": "java",
   "file_extension": ".jshell",
   "mimetype": "text/x-java-source",
   "name": "Java",
   "pygments_lexer": "java",
   "version": "11.0.20+8-post-Ubuntu-1ubuntu120.04"
  }
 },
 "nbformat": 4,
 "nbformat_minor": 2
}
