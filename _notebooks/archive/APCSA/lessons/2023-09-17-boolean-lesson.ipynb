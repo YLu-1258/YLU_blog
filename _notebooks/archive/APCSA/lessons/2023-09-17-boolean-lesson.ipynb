{
 "cells": [
  {
   "cell_type": "markdown",
   "metadata": {},
   "source": [
    "---\n",
    "- layout: post\n",
    "- title: U3 Boolean and If statements \n",
    "- author: alex\n",
    "- description: Lesson on booleans and if statements!\n",
    "- comments: true\n",
    "- week: 6\n",
    "- type: lessons\n",
    "---"
   ]
  },
  {
   "cell_type": "markdown",
   "metadata": {},
   "source": [
    "# APCSA Unit 3: College Board Learning Objectives and Standards\n",
    "\n",
    "## Learning Objectives\n",
    "\n",
    "The objective of today's lesson is to...\n",
    "\n",
    "- Evaluate Boolean expressions that use relational operators in program code\n",
    "\n",
    "## Essential Knowledge\n",
    "\n",
    "College Board wants you to know that...\n",
    "\n",
    "- Primitive values and reference values can be compared using relational operators (i.e., == and !=)\n",
    "- Arithmetic expression values can be compared using relational operators (such as <, >, <=, >=)\n",
    "- An expression involving relational operators evaluates to a Boolean value"
   ]
  },
  {
   "cell_type": "markdown",
   "metadata": {},
   "source": [
    "## Warm Up\n",
    "\n",
    "Answer the following questions as a group or individually. Write down your answers in your hacks notebook.\n",
    "\n",
    "- What is a boolean?\n",
    "  - It is a conditional that either represents true or false\n",
    "- What values can a boolean represent? How many?\n",
    "  - They can represent 2 values, true or false\n",
    "- What is an example of when we'd use a boolean?\n",
    "  - When we want to check for a condition"
   ]
  },
  {
   "cell_type": "markdown",
   "metadata": {},
   "source": [
    "## Recap on Booleans\n",
    "\n",
    "A boolean is a type of variable that can evaluate to true or false. In Java, there are various comparison operators that can be used in order to compare two values. **What are some**?\n",
    "\n",
    "The format is `val1 <oper> val2`, and will return a boolean given the state of the system. Like all booleans, this can only return two values `true` or `false` "
   ]
  },
  {
   "cell_type": "code",
   "execution_count": 2,
   "metadata": {
    "vscode": {
     "languageId": "java"
    }
   },
   "outputs": [
    {
     "name": "stdout",
     "output_type": "stream",
     "text": [
      "You are not an adult!\n",
      "false\n"
     ]
    }
   ],
   "source": [
    "public class Example {\n",
    "\n",
    "    private static boolean isAdult = false;\n",
    "    private static int myAge = 16;\n",
    "\n",
    "    public static void main(String [] args){\n",
    "\n",
    "        if(myAge >= 18){\n",
    "            System.out.println(\"You are an adult!\");\n",
    "            isAdult = true;\n",
    "        } else {\n",
    "            System.out.println(\"You are not an adult!\");\n",
    "        }  \n",
    "\n",
    "        System.out.println(isAdult);\n",
    "    }\n",
    "}\n",
    "\n",
    "Example.main(null);"
   ]
  },
  {
   "cell_type": "markdown",
   "metadata": {},
   "source": [
    "## Comparison Operators\n",
    "\n",
    "Whenever you want to make a boolean statement (such as setting a boolean to be true or false), you want to use the `\"=\"` or `\"!=\"` sign and not the `\"==\"` sign.\n",
    "\n",
    "On the other hand, if you are ever trying to compare String objects, use the String methods such as `.equals` or `.compareTo`, NOT the Boolean expressions mentioned above. "
   ]
  },
  {
   "cell_type": "markdown",
   "metadata": {},
   "source": [
    "### Setup Class\n",
    "\n",
    "**Note the utilization of the `compareTo` in a custom class in order to compare two classes**"
   ]
  },
  {
   "cell_type": "code",
   "execution_count": 18,
   "metadata": {
    "vscode": {
     "languageId": "java"
    }
   },
   "outputs": [],
   "source": [
    "public class ComparisonExample implements Comparable<ComparisonExample> {\n",
    "    private int comp;\n",
    "    private int comp2;\n",
    "\n",
    "    public ComparisonExample(int _comp, int _comp2) {\n",
    "        this.comp = _comp;\n",
    "        this.comp2 = _comp2;\n",
    "    }\n",
    "\n",
    "    @Override\n",
    "    public int compareTo(ComparisonExample s) {\n",
    "        return Integer.compare(this.comp, s.comp);\n",
    "    }\n",
    "\n",
    "    public static int compare(ComparisonExample a, ComparisonExample b)\n",
    "    {\n",
    "        if(Integer.compare(a.comp, b.comp)==0){\n",
    "            return Integer.compare(a.comp2, b.comp2);\n",
    "        }\n",
    "        else {\n",
    "            return Integer.compare(a.comp, b.comp);\n",
    "        }\n",
    "    }\n",
    "}"
   ]
  },
  {
   "cell_type": "markdown",
   "metadata": {},
   "source": [
    "### Comparing using compareTo"
   ]
  },
  {
   "cell_type": "markdown",
   "metadata": {},
   "source": [
    "Describe this code and the code above using comments. Talk about how we define the `compareTo` in the class definition and how that compares each instance of a class using a certain comparison variables. <br>\n",
    "<br>\n",
    "**In your notes** Compare and contrast `Comparator<>` and `compareTo`"
   ]
  },
  {
   "cell_type": "code",
   "execution_count": 32,
   "metadata": {
    "vscode": {
     "languageId": "java"
    }
   },
   "outputs": [
    {
     "name": "stdout",
     "output_type": "stream",
     "text": [
      "0\n",
      "-1\n",
      "This is less than!\n"
     ]
    }
   ],
   "source": [
    "ComparisonExample c = new ComparisonExample(2, 2);\n",
    "ComparisonExample v = new ComparisonExample(2, 3);\n",
    "System.out.println(c.compareTo(v)); // Allows comparison of these two instances of a class\n",
    "System.out.println(ComparisonExample.compare(c, v)); // Also allows for the instances\n",
    "\n",
    "if(ComparisonExample.compare(c, v) < 0){ // Using the comparison \n",
    "    System.out.println(\"This is less than!\");\n",
    "}\n",
    "else { System.out.println(\"it is not\"); }"
   ]
  },
  {
   "cell_type": "markdown",
   "metadata": {},
   "source": [
    "### Comparing using .equals\n",
    "\n",
    "You can use the .equals method to compare the contents of two strings. To test if the two strings are the same or not, you can use Sysout (System.out.println) so that the console will provide a value that is either true or false. "
   ]
  },
  {
   "cell_type": "code",
   "execution_count": 12,
   "metadata": {
    "vscode": {
     "languageId": "java"
    }
   },
   "outputs": [
    {
     "name": "stdout",
     "output_type": "stream",
     "text": [
      "true\n",
      "false\n"
     ]
    }
   ],
   "source": [
    "System.out.println(\"hello\".equals(\"hello\")); // will return true, since the strings are the same\n",
    "System.out.println(\"Hello\".equals(\"hello\")); // will return false, as the one thing that separates these two strings is that the h is capitalized in the first string"
   ]
  },
  {
   "cell_type": "markdown",
   "metadata": {},
   "source": [
    "### Comparing two arrays"
   ]
  },
  {
   "cell_type": "markdown",
   "metadata": {},
   "source": [
    "The code below compares the contents of two arrays to see if they are equal. It uses the `equals` method. However, as we see below, this is rather shallow as opposed to deep comparison."
   ]
  },
  {
   "cell_type": "code",
   "execution_count": 13,
   "metadata": {
    "vscode": {
     "languageId": "java"
    }
   },
   "outputs": [
    {
     "name": "stdout",
     "output_type": "stream",
     "text": [
      "Same\n"
     ]
    }
   ],
   "source": [
    "  int arr1[] = { 1, 2, 3 };\n",
    "  int arr2[] = { 1, 2, 3 };\n",
    "\n",
    "  if (Arrays.equals(arr1, arr2)){\n",
    "\n",
    "      System.out.println(\"Same\");\n",
    "  }\n",
    "  else {\n",
    "\n",
    "\n",
    "      System.out.println(\"Not same\");\n",
    "  }\n"
   ]
  },
  {
   "cell_type": "markdown",
   "metadata": {},
   "source": [
    "## Deep Equality\n",
    "\n",
    "All of the methods you just saw are examples of **regular equality.** Whereas regular equality methods such as the .equals method compares the content of the objects themselves to check if they are equal (i.e. point to the same object), deep equality methods such as the .deepequals method compares the content of nested objects or arrays to determine equality. "
   ]
  },
  {
   "cell_type": "code",
   "execution_count": 34,
   "metadata": {
    "vscode": {
     "languageId": "java"
    }
   },
   "outputs": [
    {
     "name": "stdout",
     "output_type": "stream",
     "text": [
      "Regular/shallow equality result: false\n",
      "Deep equality result: true\n"
     ]
    }
   ],
   "source": [
    "import java.util.Arrays;\n",
    "\n",
    "public class DeepEquality {\n",
    "\n",
    "    public static void main(String[] args) {\n",
    "        \n",
    "        String[][] fruit1 = {\n",
    "            {\"apple\", \"banana\"},\n",
    "            {\"orange\", \"grape\"}\n",
    "        };\n",
    "\n",
    "        String[][] fruit2 = {\n",
    "            {\"apple\", \"banana\"},\n",
    "            {\"orange\", \"grape\"}\n",
    "        };\n",
    "\n",
    "        // Regular comparison (compares array references, not contents)\n",
    "        System.out.println(\"Regular/shallow equality result: \" + (fruit1.equals(fruit2))); // will output false since the arrays do not reference the same object\n",
    "\n",
    "        // Deep comparison (compares array contents, not just references)\n",
    "        System.out.println(\"Deep equality result: \" + (Arrays.deepEquals(fruit1, fruit2))); // will output true since the arrays have the same content\n",
    "    }\n",
    "}\n",
    "\n",
    "DeepEquality.main(null);"
   ]
  },
  {
   "cell_type": "markdown",
   "metadata": {},
   "source": [
    "## Challenge!\n",
    "\n",
    "Identify the issue(s) in the code below (hint: try running it yourself). Then, make the necessary corrections to ensure that the program runs as intended."
   ]
  },
  {
   "cell_type": "code",
   "execution_count": 2,
   "metadata": {
    "vscode": {
     "languageId": "java"
    }
   },
   "outputs": [
    {
     "name": "stdout",
     "output_type": "stream",
     "text": [
      "Guess my name!\n",
      "Your guess: John\n",
      "true\n"
     ]
    }
   ],
   "source": [
    "public class Challenge {\n",
    "\n",
    "    private static boolean isName = false;\n",
    "    private static String name = new String(\"John\");\n",
    "\n",
    "\n",
    "    public static void main(String [] args){\n",
    "\n",
    "        Scanner sc = new Scanner(System.in);\n",
    "\n",
    "        System.out.println(\"Guess my name!\");\n",
    "\n",
    "        String guess = sc.nextLine();\n",
    "        System.out.println(\"Your guess: \"+guess);\n",
    "\n",
    "    \n",
    "        if(guess.equals(name)){ \n",
    "            isName = true;\n",
    "        } else {\n",
    "            System.out.println(\"Wrong! L Cope\");\n",
    "        }\n",
    "\n",
    "        System.out.println(isName);\n",
    "\n",
    "    }\n",
    "}\n",
    "\n",
    "Challenge.main(null);"
   ]
  },
  {
   "cell_type": "markdown",
   "metadata": {},
   "source": [
    "# Your Homework\n",
    "\n",
    "Now that you know what boolean expressions are and how to write them, as well as several comparison methods, your task is to write a class that uses either the compareTo or comparator and compare. Then create two instances of these classes and demonstrate using if statements. \n",
    "\n",
    "\n",
    "\n",
    "\n",
    "BONUS: Create a program that checks if a year is a leap year or not.\n",
    "\n",
    "Here is how the method should work: \n",
    "\n",
    "(1) Prompt the user to input any year that they would like <br>\n",
    "(2) Determine if the year is a leap year or not <br>\n",
    "(3) Print the necessary dialogue (ex. [year] is/is not a leap year) AND return the value of any boolean(s) used\n",
    "\n",
    "\n"
   ]
  },
  {
   "cell_type": "code",
   "execution_count": 10,
   "metadata": {
    "vscode": {
     "languageId": "java"
    }
   },
   "outputs": [
    {
     "name": "stdout",
     "output_type": "stream",
     "text": [
      "Animal1 and Animal2 are equal.\n"
     ]
    }
   ],
   "source": [
    "public class Animal implements Comparable<Animal> {\n",
    "    private String name;\n",
    "    private double weight;\n",
    "\n",
    "    public Animal(String n, double w) {\n",
    "        this.name = n;\n",
    "        this.weight = w;\n",
    "    }\n",
    "\n",
    "    public String getName() {\n",
    "        return this.name;\n",
    "    }\n",
    "\n",
    "    public double getWeight() {\n",
    "        return this.weight;\n",
    "    }\n",
    "\n",
    "    @Override\n",
    "    public int compareTo(Animal animal2) {\n",
    "        int nameComparison = this.getName().compareTo(animal2.getName());\n",
    "        if (nameComparison != 0) {\n",
    "            return nameComparison;\n",
    "        }\n",
    "        if (this.getWeight() < animal2.getWeight()) {\n",
    "            return -1;\n",
    "        } else if (this.getWeight() > animal2.getWeight()) {\n",
    "            return 1;\n",
    "        } else {\n",
    "            return 0;\n",
    "        }\n",
    "    }\n",
    "\n",
    "    public static void main(String[] args) {\n",
    "        Animal animal1 = new Animal(\"Dog\", 17.5);\n",
    "        Animal animal2 = new Animal(\"Dog\", 17.5);\n",
    "\n",
    "        int comparisonResult = animal1.compareTo(animal2);\n",
    "\n",
    "        if (comparisonResult == 0) {\n",
    "            System.out.println(\"Animal1 and Animal2 are equal.\");\n",
    "        } else if (comparisonResult < 0) {\n",
    "            System.out.println(\"Animal1 is weighs less than Animal2.\");\n",
    "        } else {\n",
    "            System.out.println(\"Animal1 is weighs more than Animal2.\");\n",
    "        }\n",
    "    }\n",
    "}\n",
    "\n",
    "Animal.main(null);\n"
   ]
  },
  {
   "cell_type": "code",
   "execution_count": 1,
   "metadata": {
    "vscode": {
     "languageId": "java"
    }
   },
   "outputs": [
    {
     "name": "stdout",
     "output_type": "stream",
     "text": [
      "Enter a year: 2020 is a leap year.\n"
     ]
    }
   ],
   "source": [
    "// Bonus program\n",
    "\n",
    "import java.util.Scanner;\n",
    "\n",
    "public class LeapYearChecker {\n",
    "\n",
    "    public static void main(String[] args) {\n",
    "        Scanner scanner = new Scanner(System.in);\n",
    "        System.out.print(\"Enter a year: \");\n",
    "        int year = scanner.nextInt();\n",
    "\n",
    "        boolean isLeapYear = checkLeapYear(year);\n",
    "\n",
    "        if (isLeapYear) {\n",
    "            System.out.println(year + \" is a leap year.\");\n",
    "        } else {\n",
    "            System.out.println(year + \" is not a leap year.\");\n",
    "        }\n",
    "\n",
    "        scanner.close();\n",
    "    }\n",
    "\n",
    "    public static boolean checkLeapYear(int year) {\n",
    "        return (year % 4 == 0 && year % 100 != 0) || (year % 400 == 0);\n",
    "    }\n",
    "}\n",
    "\n",
    "LeapYearChecker.main(null);"
   ]
  },
  {
   "cell_type": "code",
   "execution_count": null,
   "metadata": {
    "vscode": {
     "languageId": "java"
    }
   },
   "outputs": [],
   "source": []
  }
 ],
 "metadata": {
  "kernelspec": {
   "display_name": "java",
   "language": "java",
   "name": "java"
  },
  "language_info": {
   "codemirror_mode": "java",
   "file_extension": ".jshell",
   "mimetype": "text/x-java-source",
   "name": "Java",
   "pygments_lexer": "java",
   "version": "11.0.20.1+1-post-Ubuntu-0ubuntu120.04"
  },
  "orig_nbformat": 4
 },
 "nbformat": 4,
 "nbformat_minor": 2
}
