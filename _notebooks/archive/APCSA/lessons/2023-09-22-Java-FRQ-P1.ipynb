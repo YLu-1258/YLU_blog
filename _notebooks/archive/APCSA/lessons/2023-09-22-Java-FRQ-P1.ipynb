{
 "cells": [
  {
   "cell_type": "markdown",
   "metadata": {},
   "source": [
    "---\n",
    "- title: Java FRQ Period 1\n",
    "- author: alex\n",
    "- badges: true\n",
    "- comments: true\n",
    "- categories: [algorithm, FRQ]\n",
    "- date: 2023-09-13 09:00:00 -0800\n",
    "- tags: [notebooks, FRQ, AP PREP]\n",
    "- week: 4\n",
    "- render_with_liquid: false\n",
    "- type: hacks\n",
    "---"
   ]
  },
  {
   "cell_type": "markdown",
   "metadata": {},
   "source": [
    "# Initialize Numerical Keypad"
   ]
  },
  {
   "cell_type": "code",
   "execution_count": 53,
   "metadata": {},
   "outputs": [
    {
     "name": "stdout",
     "output_type": "stream",
     "text": [
      "1 2 3 \n",
      "4 5 6 \n",
      "7 8 9 \n",
      "  0   \n"
     ]
    }
   ],
   "source": [
    "class NumericalKeypad {\n",
    "    private static int[][] keypad = {{1,2,3}, {4,5,6}, {7,8,9}, {-1, 0, -1}};\n",
    "    \n",
    "    public static void main(String args[]) {\n",
    "        for (int i = 0; i < 4; i++) {\n",
    "            for (int j = 0; j < 3; j++) {\n",
    "                if (keypad[i][j] >= 0) {\n",
    "                    System.out.print(keypad[i][j] + \" \");\n",
    "                } else {\n",
    "                    System.out.print(\"  \");\n",
    "                }\n",
    "            }\n",
    "            System.out.println();\n",
    "        }\n",
    "    }\n",
    "}\n",
    "\n",
    "NumericalKeypad.main(null);"
   ]
  },
  {
   "cell_type": "markdown",
   "metadata": {},
   "source": [
    "# ArrayReversal"
   ]
  },
  {
   "cell_type": "code",
   "execution_count": 52,
   "metadata": {},
   "outputs": [
    {
     "name": "stdout",
     "output_type": "stream",
     "text": [
      "10 9 8 7 6 5 4 3 2 1 1 2 3 4 5 6 7 8 9 10 "
     ]
    }
   ],
   "source": [
    "class ArrayReversal {\n",
    "    private static final int[] nums = {1,2,3,4,5,6,7,8,9,10};\n",
    "\n",
    "    public static void main(String args[]) {\n",
    "        for (int i = 0; i < 10; i++) {\n",
    "            System.out.print(nums[9-i] + \" \");\n",
    "        }\n",
    "        for (int i = 0; i < 10; i++) {\n",
    "            System.out.print(nums[i] + \" \");\n",
    "        }\n",
    "    }\n",
    "}\n",
    "\n",
    "\n",
    "ArrayReversal.main(null);"
   ]
  },
  {
   "cell_type": "markdown",
   "metadata": {},
   "source": [
    "# Initialize Random List"
   ]
  },
  {
   "cell_type": "code",
   "execution_count": 51,
   "metadata": {},
   "outputs": [
    {
     "name": "stdout",
     "output_type": "stream",
     "text": [
      "17 9 17 17 19 18 13 18 20 11 13 20 5 8 15 9 19 15 8 19 6 7 15 7 6 8 7 13 15 9 "
     ]
    }
   ],
   "source": [
    "import java.util.ArrayList;\n",
    "\n",
    "class InitializeRandomList {\n",
    "    private static int N;\n",
    "    private static int min;\n",
    "    private static int max;\n",
    "    private static ArrayList<Integer> nums;\n",
    "\n",
    "    InitializeRandomList(int M, int minimum, int maximum) {\n",
    "        N = M;\n",
    "        min = minimum;\n",
    "        max = maximum;\n",
    "        nums = new ArrayList<Integer>();\n",
    "    }\n",
    "\n",
    "    public static void main(String args[]) {\n",
    "        for (int i = 0; i < N ; i++) {\n",
    "            nums.add((int) (Math.random() * (max-min+1)) + min);\n",
    "        }\n",
    "        for (int i = 0; i < N ; i++) { \n",
    "            System.out.print(nums.get(i) + \" \");\n",
    "        }\n",
    "    }\n",
    "}\n",
    "\n",
    "InitializeRandomList.main(null);"
   ]
  },
  {
   "cell_type": "code",
   "execution_count": null,
   "metadata": {},
   "outputs": [],
   "source": []
  }
 ],
 "metadata": {
  "kernelspec": {
   "display_name": "java",
   "language": "java",
   "name": "java"
  },
  "language_info": {
   "name": "java"
  },
  "orig_nbformat": 4
 },
 "nbformat": 4,
 "nbformat_minor": 2
}
