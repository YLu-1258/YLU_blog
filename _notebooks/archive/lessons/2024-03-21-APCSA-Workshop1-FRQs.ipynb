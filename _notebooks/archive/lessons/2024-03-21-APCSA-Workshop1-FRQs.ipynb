{
 "cells": [
  {
   "cell_type": "markdown",
   "metadata": {},
   "source": [
    "---\n",
    "- title: Workshop 1 FRQs\n",
    "- author: alex\n",
    "- badges: true\n",
    "- comments: true\n",
    "- categories: [APCSA, FRQs]\n",
    "- date: 2023-10-22 06:05:00 -0800\n",
    "- tags: [APCSA, FRQs]\n",
    "- render_with_liquid: false\n",
    "- type: hacks\n",
    "---"
   ]
  },
  {
   "cell_type": "markdown",
   "metadata": {},
   "source": [
    "## Question 1: Primitive Types vs Reference Types (Unit 1)\n",
    "Situation: You are developing a banking application where you need to represent customer information. You have decided to use both primitive types and reference types for this purpose.\n",
    "\n",
    "(a) Define primitive types and reference types in Java. Provide examples of each.  \n",
    "* **Primative Types:** The most basic types in Java, and are typically directly stored in the memory with no other processing. Examples of this are `int`, `double`, `char`, and `float`.  \n",
    "* **Reference Types:** The next level of data types in Java. They do not directly store the value that they are associated with, but rather reference the location in the memory or heap of where the data is stored. Examples of this is `String`, `Array`, and other objects created in Java.\n",
    "\n",
    "(b) Explain the differences between primitive types and reference types in terms of memory allocation and usage in Java programs.  \n",
    "\n",
    "* Primative types tend to allocate less memory than reference types because they store the actual value in question, rather than a reference to the value. Thus, the size of the type is directly linked to the type of data itself, with int being 4 bytes, a boolean being 1 bit, and so on. For reference types though, the address of the value is stored instead, so it is typically always a 32 bit large variable. Because of this, primative types tend to be more memory efficient than reference types in Java programs, but reference types allows us greater flexibility to create more complex data structures.\n",
    "\n",
    "(c) Code:\n",
    "\n",
    "You have a method calculateInterest that takes a primitive double type representing the principal amount and a reference type Customer representing the customer information. Write the method signature and the method implementation. Include comments to explain your code."
   ]
  },
  {
   "cell_type": "code",
   "execution_count": 8,
   "metadata": {
    "vscode": {
     "languageId": "java"
    }
   },
   "outputs": [
    {
     "name": "stdout",
     "output_type": "stream",
     "text": [
      "Name: Alexander Total: 100000.0 Id: 127\n",
      "Name: Alexander Total: 101250.0 Id: 127\n"
     ]
    }
   ],
   "source": [
    "class Customer {\n",
    "    private String name;        // Attributes of class Customer\n",
    "    private double total;\n",
    "    private int id;\n",
    "\n",
    "    public Customer(String n, double t, int i) {\n",
    "        this.name = n;\n",
    "        this.total = t;\n",
    "        this.id = i;\n",
    "    }\n",
    "\n",
    "    public void setName(String n) { // Setters for updating values\n",
    "        this.name = n;\n",
    "    }\n",
    "\n",
    "    public void setTotal(double t) {\n",
    "        this.total = t;\n",
    "    }\n",
    "\n",
    "    public void setId(int i) {\n",
    "        this.id = i;\n",
    "    }\n",
    "\n",
    "    public String getName() {       // getters for retriving values\n",
    "        return this.name;\n",
    "    }\n",
    "\n",
    "    public double getTotal() {\n",
    "        return this.total;\n",
    "    }\n",
    "\n",
    "    public int getId() {\n",
    "        return this.id;\n",
    "    }\n",
    "}\n",
    "\n",
    "class CustomerUtils {\n",
    "    public static void calculateInterest(double principle, Customer c) {    // static method to calculate the interest and set it to a particular customer, we use static to call it without instantiating an object. Nothing is returned so return type is void.\n",
    "        double interestRate = 0.05;\n",
    "        double interest = interestRate * principle;                         // Helper variable to help achieve that\n",
    "        c.setTotal(c.getTotal() + interest);                                // the interest value is a primative while the Customer variable is a reference type\n",
    "    }\n",
    "}\n",
    "\n",
    "Customer c1 = new Customer(\"Alexander\", 100000.0, 127);\n",
    "System.out.println(\"Name: \" + c1.getName() + \" Total: \" + c1.getTotal() + \" Id: \" + c1.getId());\n",
    "CustomerUtils.calculateInterest(25000.0, c1);\n",
    "System.out.println(\"Name: \" + c1.getName() + \" Total: \" + c1.getTotal() + \" Id: \" + c1.getId());    // The total has been increased with the interest from the principle."
   ]
  },
  {
   "cell_type": "markdown",
   "metadata": {},
   "source": [
    "# Question 3: Array (Unit 6)"
   ]
  },
  {
   "cell_type": "markdown",
   "metadata": {},
   "source": [
    "Situation: You are developing a student management system where you need to store and analyze the grades of students in a class.\n",
    "\n",
    "(a) Define an array in Java. Explain its significance and usefulness in programming.\n",
    "An array in Java is a data structure that stores data consecutively in one big contiguous block of memory. The array is also one of the most fundamental forms of a collection object in Java, being able to store values of the same datatype and also being statically assigned a size upon being instantiated. This is useful and significant to programming because then we can store similar data next to each other, and be able to perform operations while making relationships between them (Ex: A set of student's grades can be expressed as an array, and then we can perform statistical analysis on it).\n",
    "\n",
    "(b) Code:\n",
    "\n",
    "You need to implement a method calculateAverageGrade that takes an array grades of integers representing student grades and returns the average of all the elements in the array. Write the method signature and the method implementation. Include comments to explain your code."
   ]
  },
  {
   "cell_type": "code",
   "execution_count": 7,
   "metadata": {
    "vscode": {
     "languageId": "java"
    }
   },
   "outputs": [
    {
     "name": "stdout",
     "output_type": "stream",
     "text": [
      "2.6\n"
     ]
    }
   ],
   "source": [
    "\n",
    "\n",
    "public class Grades {\n",
    "    public static double calculateAverageGrade(int[] grades) {\n",
    "        int sum = 0;                            // integer to store total of array, is initialized with value 0\n",
    "        for (int i = 0; i<grades.length; i++) { // loop over each index in array to access values and add them to sum\n",
    "            sum+=grades[i];\n",
    "        }\n",
    "        return (double) sum/grades.length;      // divide by array length to get final answer\n",
    "    }\n",
    "}\n",
    "\n",
    "int[] a = {1,2,3,4,4,4,1,2,2,3};\n",
    "System.out.println(\"Grades: \" + Grades.calculateAverageGrade(a));"
   ]
  },
  {
   "cell_type": "markdown",
   "metadata": {},
   "source": [
    "# Question 4\n",
    "Situation: You are developing a scientific calculator application where users need to perform various mathematical operations.\n",
    "\n",
    "(a) Discuss the purpose and utility of the Math class in Java programming. Provide examples of at least three methods provided by the Math class and explain their usage.\n",
    "* In traditional Java, arithmetic operations are limited to the four basic arithmetic operations, exponentiation, and bitwise operations. The Math class provides additional fundtions and operations that would typically have to be implemented by hand in Java. Typically, it is better to use this class because the actual implementation of the methods would likely be faster than any implementation we can write in plain old Java. \n",
    "    * `Math.max(x,y)`: Finds the max value between two numerical types\n",
    "    * `Math.sqrt(x)`: Finds the square root of a certain numerical number.\n",
    "    * `Math.random()`: Returns a random number from 0 to 1. (Includes 0 but not 1).\n",
    "\n",
    "(b) Code:\n",
    "\n",
    "You need to implement a method calculateSquareRoot that takes a double number as input and returns its square root using the Math class. Write the method signature and the method implementation. Include comments to explain your code."
   ]
  },
  {
   "cell_type": "code",
   "execution_count": 1,
   "metadata": {
    "vscode": {
     "languageId": "java"
    }
   },
   "outputs": [
    {
     "name": "stdout",
     "output_type": "stream",
     "text": [
      "Square root of 4.4 is: 2.0976176963403033\n",
      "Cube root of 4.4 is: 1.6386425412012917\n"
     ]
    }
   ],
   "source": [
    "import java.lang.Math;\n",
    "\n",
    "public class Calculator {\n",
    "    // Method to calculate square root of a number\n",
    "    public static double calculateSquareRoot(double input) {\n",
    "        return Math.sqrt(input);    \n",
    "    }\n",
    "\n",
    "    // Method to calculate cube root of a number\n",
    "    public static double calculateCubeRoot(double input) {\n",
    "        return Math.cbrt(input);\n",
    "    }\n",
    "}\n",
    "\n",
    "System.out.println(\"Square root of 4.4 is: \" + Calculator.calculateSquareRoot(4.4));\n",
    "System.out.println(\"Cube root of 4.4 is: \" + Calculator.calculateCubeRoot(4.4));"
   ]
  }
 ],
 "metadata": {
  "kernelspec": {
   "display_name": "java",
   "language": "java",
   "name": "java"
  },
  "language_info": {
   "codemirror_mode": "java",
   "file_extension": ".jshell",
   "mimetype": "text/x-java-source",
   "name": "Java",
   "pygments_lexer": "java",
   "version": "17.0.10+7-Ubuntu-120.04.1"
  }
 },
 "nbformat": 4,
 "nbformat_minor": 2
}
