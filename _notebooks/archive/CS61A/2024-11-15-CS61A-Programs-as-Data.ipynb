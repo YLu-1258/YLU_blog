{
 "cells": [
  {
   "cell_type": "markdown",
   "metadata": {},
   "source": [
    "---\n",
    "- title: \"'CS61A: Programs as Data'\"\n",
    "- author: alex\n",
    "- badges: true\n",
    "- comments: true\n",
    "- categories: [CS61A]\n",
    "- date: 2024-11-15 1:00:00 -0800\n",
    "- math: true\n",
    "- tags: [CS61A, Scheme]\n",
    "---"
   ]
  },
  {
   "cell_type": "markdown",
   "metadata": {},
   "source": [
    "# Programs as Data\n",
    "- Scheme programs consist of expressions that can either be **primitive* or **combinations**.\n",
    "- The built-in Scheme list data structure (a linked list) is used to represent combinations.\n",
    "    - Thus, by using Scheme to construct lists, we may construct programs.\n",
    "- Ex: Create and evaluate a scheme program using scheme."
   ]
  },
  {
   "cell_type": "code",
   "execution_count": null,
   "metadata": {
    "vscode": {
     "languageId": "plaintext"
    }
   },
   "outputs": [],
   "source": [
    "scm> (list 'quotient 10 2)\n",
    "(quotient 10 2)\n",
    "scm> (eval (list 'quotient 10 2))\n",
    "5"
   ]
  },
  {
   "cell_type": "markdown",
   "metadata": {},
   "source": [
    "- If we want to create such an expression, we must quote any procedures such that they are represented as a symbol, and not the procedure itself.\n",
    "    - Eval would then evaluate the symbol.\n",
    "- Ex: Write a scheme procedure to print out an expression that gives us the answer to a factorial."
   ]
  },
  {
   "cell_type": "code",
   "execution_count": null,
   "metadata": {
    "vscode": {
     "languageId": "plaintext"
    }
   },
   "outputs": [],
   "source": [
    "scm> (define (fact-expr n)\n",
    "    (if (<= n 1) \n",
    "        1\n",
    "        (list '* n (fact-expr (- n 1)))\n",
    "    )\n",
    ")\n",
    "fact-expr\n",
    "scm> (fact-expr 5)\n",
    "(* 5 (* 4 (* 3 (* 2 1))))\n",
    "scm> (eval (fact-expr 5))\n",
    "120"
   ]
  },
  {
   "cell_type": "markdown",
   "metadata": {},
   "source": [
    "- Ex: Write a sceme procedure to print out an expression that gives us the nth fibonacci number"
   ]
  },
  {
   "cell_type": "code",
   "execution_count": null,
   "metadata": {
    "vscode": {
     "languageId": "plaintext"
    }
   },
   "outputs": [],
   "source": [
    "scm> (define (fib-expr n)\n",
    "    (cond \n",
    "        ((= n 0) 0)\n",
    "        ((<= n 1) 1)\n",
    "        (else `(+ ,(fib-expr (- n 1)) ,(fib-expr (- n 2))))\n",
    "    )\n",
    ")\n",
    "fib-expr\n",
    "scm> (fib-expr 6)\n",
    "(+ (+ (+ (+ (+ 1 0) 1) (+ 1 0)) (+ (+ 1 0) 1)) (+ (+ (+ 1 0) 1) (+ 1 0)))\n",
    "scm> (eval (fib-expr 6))\n",
    "8"
   ]
  },
  {
   "cell_type": "markdown",
   "metadata": {},
   "source": [
    "# Quasiquotation\n",
    "- Quasiquotation allows us to unquote part of an expression\n",
    "    - Denoted in scheme using a backtick (`)\n",
    "    - Use a comma (,) to unquote/escape"
   ]
  },
  {
   "cell_type": "code",
   "execution_count": null,
   "metadata": {
    "vscode": {
     "languageId": "plaintext"
    }
   },
   "outputs": [],
   "source": [
    "scm> (define b 4)\n",
    "b\n",
    "scm> '(a ,(+ b 1))\n",
    "(a (unquote (+ b 1)))\n",
    "scm `(a ,(+ b 1))\n",
    "(a 5)"
   ]
  },
  {
   "cell_type": "markdown",
   "metadata": {},
   "source": [
    "- This technique is useful for generating scheme expressions\n",
    "- Ex: constructing an adding procedure:"
   ]
  },
  {
   "cell_type": "code",
   "execution_count": null,
   "metadata": {
    "vscode": {
     "languageId": "plaintext"
    }
   },
   "outputs": [],
   "source": [
    "scm> (define (make-add-procedure n) `(lambda (d) ,(+ d ,n)))\n",
    "make-add-procedure\n",
    "scm> (makeadd-procedure 2)\n",
    "(lambda (d) (+ d 2))"
   ]
  },
  {
   "cell_type": "markdown",
   "metadata": {},
   "source": [
    "- Ex: While statements\n",
    "- What is the sum of the squares of even numbers less than 10, starting with 2?"
   ]
  },
  {
   "cell_type": "code",
   "execution_count": null,
   "metadata": {
    "vscode": {
     "languageId": "plaintext"
    }
   },
   "outputs": [],
   "source": [
    "scm> (begin (define (f x total)\n",
    "    (if (< x 10)\n",
    "        (f (+ x 2) (+ total (* x x)))\n",
    "        total\n",
    "    )\n",
    ")\n",
    "(f 2 0))\n",
    "\n",
    "120"
   ]
  },
  {
   "cell_type": "markdown",
   "metadata": {},
   "source": [
    "- What is the sum of the numbers whose squares are less than 50, starting with 1?"
   ]
  },
  {
   "cell_type": "code",
   "execution_count": null,
   "metadata": {
    "vscode": {
     "languageId": "plaintext"
    }
   },
   "outputs": [],
   "source": [
    "scm> (begin (define (f x total)\n",
    "    (if (< (* x x) 50)\n",
    "        (f (+ x 1) (+ total x))\n",
    "        total\n",
    "    )\n",
    ")\n",
    "(f 1 0))\n",
    "\n",
    "28"
   ]
  },
  {
   "cell_type": "markdown",
   "metadata": {},
   "source": [
    "- Now, we may write a write procedure to just generate this code for us."
   ]
  },
  {
   "cell_type": "code",
   "execution_count": null,
   "metadata": {
    "vscode": {
     "languageId": "plaintext"
    }
   },
   "outputs": [],
   "source": [
    "(define (sum-while initial-x condition add-to-total update-x)\n",
    "   `(begin \n",
    "        (define (f x total)\n",
    "            (if ,condition\n",
    "                (f ,update-x (+ total ,add-to-total))\n",
    "                total\n",
    "            ))\n",
    "        (f ,initial-x 0)\n",
    "    )\n",
    ") "
   ]
  },
  {
   "cell_type": "code",
   "execution_count": null,
   "metadata": {
    "vscode": {
     "languageId": "plaintext"
    }
   },
   "outputs": [],
   "source": [
    "scm> (sum-while 1 '(< (* x x) 50) 'x '(+ x 1))\n",
    "(begin (define (f x total) (if (< (* x x) 50) (f (+ x 1) (+ total x)) total)) (f 1 0))\n",
    "scm> (eval (sum-while 1 '(< (* x x) 50) 'x '(+ x 1)))\n",
    "28"
   ]
  }
 ],
 "metadata": {
  "kernelspec": {
   "display_name": "Python 3",
   "language": "python",
   "name": "python3"
  },
  "language_info": {
   "codemirror_mode": {
    "name": "ipython",
    "version": 3
   },
   "file_extension": ".py",
   "mimetype": "text/x-python",
   "name": "python",
   "nbconvert_exporter": "python",
   "pygments_lexer": "ipython3",
   "version": "3.10.12"
  }
 },
 "nbformat": 4,
 "nbformat_minor": 2
}
