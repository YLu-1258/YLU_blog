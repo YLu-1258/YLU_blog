{
 "cells": [
  {
   "cell_type": "markdown",
   "metadata": {},
   "source": [
    "---\n",
    "- title: \"'CS61A: Lecture 18'\"\n",
    "- author: alex\n",
    "- badges: true\n",
    "- comments: true\n",
    "- categories: [CS61A]\n",
    "- date: 2024-10-11 6:00:00 -0800\n",
    "- math: true\n",
    "- tags: [CS61A, attributes, objects]\n",
    "---"
   ]
  },
  {
   "cell_type": "markdown",
   "metadata": {},
   "source": [
    "# Attributes\n",
    "## Method Calls\n",
    "- Methods are invoked using dot notation\n",
    "    - `<expression>.<name>`\n",
    "- The expression may be any valid python expression\n",
    "- The name must be a simple name."
   ]
  },
  {
   "cell_type": "code",
   "execution_count": 7,
   "metadata": {},
   "outputs": [
    {
     "data": {
      "text/plain": [
       "<bound method Account.deposit of <account.Account object at 0x7f7868097310>>"
      ]
     },
     "execution_count": 7,
     "metadata": {},
     "output_type": "execute_result"
    }
   ],
   "source": [
    "from account import Account\n",
    "\n",
    "tom_account = Account(\"Tom\")\n",
    "a = tom_account\n",
    "tom_account.deposit"
   ]
  },
  {
   "cell_type": "markdown",
   "metadata": {},
   "source": [
    "- A bound method is just a method associated with an instance. A regular method is a method associated with a class."
   ]
  },
  {
   "cell_type": "code",
   "execution_count": 12,
   "metadata": {},
   "outputs": [
    {
     "name": "stdout",
     "output_type": "stream",
     "text": [
      "tom_account.balance =  100\n",
      "type of foo =  <bound method Account.deposit of <account.Account object at 0x7f7868097310>>\n"
     ]
    }
   ],
   "source": [
    "foo = tom_account.deposit\n",
    "foo(100)\n",
    "print(\"tom_account.balance = \", tom_account.balance)\n",
    "print(\"type of foo = \", foo)"
   ]
  },
  {
   "cell_type": "markdown",
   "metadata": {},
   "source": [
    "- We may also check identity using `is`"
   ]
  },
  {
   "cell_type": "code",
   "execution_count": 8,
   "metadata": {},
   "outputs": [
    {
     "data": {
      "text/plain": [
       "True"
      ]
     },
     "execution_count": 8,
     "metadata": {},
     "output_type": "execute_result"
    }
   ],
   "source": [
    "a is tom_account"
   ]
  },
  {
   "cell_type": "code",
   "execution_count": 9,
   "metadata": {},
   "outputs": [
    {
     "data": {
      "text/plain": [
       "False"
      ]
     },
     "execution_count": 9,
     "metadata": {},
     "output_type": "execute_result"
    }
   ],
   "source": [
    "jedi_account = Account(\"Jedi\")\n",
    "a is jedi_account"
   ]
  },
  {
   "cell_type": "code",
   "execution_count": 10,
   "metadata": {},
   "outputs": [
    {
     "data": {
      "text/plain": [
       "False"
      ]
     },
     "execution_count": 10,
     "metadata": {},
     "output_type": "execute_result"
    }
   ],
   "source": [
    "jedi2_account = Account(\"Jedi\")\n",
    "jedi_account is jedi2_account"
   ]
  },
  {
   "cell_type": "markdown",
   "metadata": {},
   "source": [
    "- Jedi and Jedi2 are different accounts.\n",
    "    - This means that even if objects share the same attributes, they may still be different.\n",
    "- Ex: List comprehension"
   ]
  },
  {
   "cell_type": "code",
   "execution_count": 13,
   "metadata": {},
   "outputs": [
    {
     "data": {
      "text/plain": [
       "[100, 101, 103, 106, 110, 115, 121, 128, 136, 145]"
      ]
     },
     "execution_count": 13,
     "metadata": {},
     "output_type": "execute_result"
    }
   ],
   "source": [
    "[foo(x) for x in range(10)]"
   ]
  },
  {
   "cell_type": "markdown",
   "metadata": {},
   "source": [
    "# Attribute look up\n",
    "- Both instances and classes have attributes that can be looked up by dot expressions.\n",
    "- Attributes can also be shared by all instances of a class (class attributes)\n",
    "- Evaluating dot expressions:\n",
    "    - `<expression>.<name>`\n",
    "    - Evaluate the expression to the left of the dot, which yields the object of te dot expression\n",
    "    - name is matched against the instance attributes of that objectl if an attribute with that name exists, its value is returned\n",
    "    - If not, name is looked up in the class, which yields a class attribute value\n",
    "    - That value is returned unless it is a function, in which a bound method is returned instead."
   ]
  },
  {
   "cell_type": "code",
   "execution_count": 14,
   "metadata": {},
   "outputs": [
    {
     "name": "stdout",
     "output_type": "stream",
     "text": [
      "tom_account.balance =  145\n",
      "After map execution tom_account.balance =  145\n",
      "next: 150\n",
      "After next execution tom_account.balance =  150\n"
     ]
    }
   ],
   "source": [
    "print(\"tom_account.balance = \", tom_account.balance)\n",
    "m = map(foo, range(5,10))\n",
    "print(\"After map execution tom_account.balance = \", tom_account.balance)\n",
    "print(\"next:\", next(m))\n",
    "print(\"After next execution tom_account.balance = \", tom_account.balance)"
   ]
  },
  {
   "cell_type": "markdown",
   "metadata": {},
   "source": [
    "## Aggregation functions"
   ]
  },
  {
   "cell_type": "code",
   "execution_count": 18,
   "metadata": {},
   "outputs": [
    {
     "name": "stdout",
     "output_type": "stream",
     "text": [
      "3\n",
      "3\n"
     ]
    }
   ],
   "source": [
    "d = {1:5, 2:10, 3:15, 4:10, 5:5}\n",
    "print(max(d.keys(), key=(lambda k: d[k]))) # Get the key of the largest value in the dictionary\n",
    "print(max(d, key=d.get)) # Get the key of the largest value in the dictionary, using a bound method as the key function"
   ]
  },
  {
   "cell_type": "markdown",
   "metadata": {},
   "source": [
    "- The builtin function `dir` gets all the methods of a object.\n",
    "- Discussion Question: Where's Waldo\n",
    "    - For each class, write an expression with no quotes or + that evaluates to 'Waldo' "
   ]
  },
  {
   "cell_type": "code",
   "execution_count": 27,
   "metadata": {},
   "outputs": [
    {
     "name": "stdout",
     "output_type": "stream",
     "text": [
      "Waldo\n",
      "Waldo\n"
     ]
    }
   ],
   "source": [
    "class Town:\n",
    "    def __init__(self, w, aldo):\n",
    "        if aldo == 7:\n",
    "            self.street = {self.f(w): 'Waldo'}\n",
    "    def f(self, x):\n",
    "        return x + 1\n",
    "    \n",
    "class Beach:\n",
    "    def __init__(self):\n",
    "        sand = ['Wal', 'do']\n",
    "        self.dig = sand.pop\n",
    "    \n",
    "    def walk(self, x):\n",
    "        self.wave = lambda y: self.dig(x) + self.dig(y)\n",
    "        return self\n",
    "\n",
    "print(Town(5, 7).street[6])\n",
    "print(Beach().walk(0).wave(0))\n"
   ]
  },
  {
   "cell_type": "markdown",
   "metadata": {},
   "source": [
    "```\n",
    "class <name>:\n",
    "    <suite>\n",
    "```\n",
    "- A class statement creates a new class and binds that class to `<name>` in the first frame of the current environment\n",
    "- Assignment and def statements in `<suite>` create attributes of the class (not names in frames)\n",
    "- Class attributes are shared across all instances of a class because they are attributes of the class, not the instance.\n",
    "    - The `interest` and `company` attributes within `Account` are class attributes!\n",
    "    - If a class attribute is changed, it is changed for all instances of the class.\n"
   ]
  },
  {
   "cell_type": "code",
   "execution_count": 29,
   "metadata": {},
   "outputs": [
    {
     "name": "stdout",
     "output_type": "stream",
     "text": [
      "Foos: 3 3 3\n",
      "Foos: 5 5 5\n",
      "Foos: 1 5 5\n"
     ]
    }
   ],
   "source": [
    "class B:\n",
    "    foo = 3\n",
    "\n",
    "a = B()\n",
    "b = B()\n",
    "print(\"Foos:\", a.foo, b.foo, B.foo)\n",
    "B.foo = 5\n",
    "print(\"Foos:\", a.foo, b.foo, B.foo)\n",
    "a.foo = 1 # This creates an instance attribute. It does not change the class attribute.\n",
    "print(\"Foos:\", a.foo, b.foo, B.foo)"
   ]
  },
  {
   "cell_type": "markdown",
   "metadata": {},
   "source": [
    "- We always search for a name within the instance attributes, only if the name is not found, do we search the class attributes.\n",
    "    - Thus, instance attributes can always access instance attributes and class attributes.\n",
    "    - But classes themselves may only access class attributes.\n",
    "\n",
    "## Methods and funcitons (Review lecture slide)\n",
    "- Python dis"
   ]
  }
 ],
 "metadata": {
  "kernelspec": {
   "display_name": "Python 3",
   "language": "python",
   "name": "python3"
  },
  "language_info": {
   "codemirror_mode": {
    "name": "ipython",
    "version": 3
   },
   "file_extension": ".py",
   "mimetype": "text/x-python",
   "name": "python",
   "nbconvert_exporter": "python",
   "pygments_lexer": "ipython3",
   "version": "3.10.12"
  }
 },
 "nbformat": 4,
 "nbformat_minor": 2
}
