{
 "cells": [
  {
   "cell_type": "markdown",
   "metadata": {},
   "source": [
    "---\n",
    "- title: \"'CS61A: Attributes'\"\n",
    "- author: alex\n",
    "- badges: true\n",
    "- comments: true\n",
    "- categories: [CS61A]\n",
    "- date: 2024-10-18 6:00:00 -0800\n",
    "- math: true\n",
    "- tags: [CS61A, attributes]\n",
    "---"
   ]
  },
  {
   "cell_type": "markdown",
   "metadata": {},
   "source": [
    "# Attributes\n",
    "\n",
    "## Method Calls\n",
    "- Method calls differ from function calls because they are invoked with dot notation.\n",
    "    - `<expression>.<name>`\n",
    "    - The `<expression>` can be any valid Python expression that evaluates to the object in question\n",
    "    - The `<name>` must be a simple name\n",
    "    - The dot expression evaluates to the value of the attribute mapped to name in the object that is the value of the expression.\n",
    "- A dot expression may either be a regular attribute or a method.\n",
    "    - Invoking a method is still just a call expression, with the dot expression as the operator.\n",
    "- A bound method is a method in which the \"`self` argument is already filled in.\"\n",
    "    - The method itself is bound to a particular object.\n",
    "    - Thus, calling a bound method only affects the particular instance that the method is bound to. \n",
    "\n",
    "## Attribute Lookup\n",
    "- Every time a dot expression is evaluated, the attribute must be looked up for the object.\n",
    "- Looking for an attribute requires look up for different places.\n",
    "    - This is because <mark> both instances and their classes can have attributes that may be looked up by dot expressions </mark>\n",
    "- Look up process\n",
    "    - Evaluate the `<expression>` to the left of the dot, which yields the object of the dot expression\n",
    "    - `<name>` is matched against the instance attributes of that object; if an attribute with that name exists, its value is returned.\n",
    "    - If not, `name` is looked up in the class, which yields a class attribute value\n",
    "    - The value is returned unless it is a function, in which a bound method is returned instead.\n",
    "        - The object is filled in as the self parameter.\n",
    "- We may also access a class attribute by calling `<class>.<name>`\n",
    "- There is also a built-in function called `get_attr`, which may look up an attribute using a string. The built-in function `has_attr` will check whether or not an instance has access to a particular attribute.\n",
    "    - These built in functions look up names in the same way as a dot expression\n",
    "- Looking up an attribute name within an object may return\n",
    "    - One of its instance attributes\n",
    "    - One of the attributes of the class"
   ]
  },
  {
   "cell_type": "code",
   "execution_count": 3,
   "metadata": {},
   "outputs": [
    {
     "name": "stdout",
     "output_type": "stream",
     "text": [
      "30000\n",
      "30000\n",
      "getattr(tom_account, 'balance') 10\n",
      "hasattr(tom_account, 'deposit') True\n"
     ]
    }
   ],
   "source": [
    "from account import Account\n",
    "\n",
    "tom_account = Account(\"Tom\")\n",
    "tom_account.deposit(10)\n",
    "print(\"getattr(tom_account, 'balance')\", getattr(tom_account, 'balance'))\n",
    "print(\"hasattr(tom_account, 'deposit')\", hasattr(tom_account, 'deposit'))"
   ]
  },
  {
   "cell_type": "markdown",
   "metadata": {},
   "source": [
    "## Class Attributes\n",
    "```python\n",
    "class <name>:\n",
    "    <suite>\n",
    "```\n",
    "- When a class statement is executed, a new class is created and bound to the `<name>` in the first frame of the current environment \n",
    "- Within class creation, the assignment and def statements within the suite of a class creates the attributes of the class.\n",
    "    - But these attributse are not names in frames."
   ]
  },
  {
   "cell_type": "code",
   "execution_count": 4,
   "metadata": {},
   "outputs": [
    {
     "name": "stdout",
     "output_type": "stream",
     "text": [
      "big and red\n",
      "No thanks\n"
     ]
    }
   ],
   "source": [
    "class Clown:\n",
    "    nose = 'big and red'\n",
    "    def dance():\n",
    "        return 'No thanks'\n",
    "    \n",
    "print(Clown.nose)\n",
    "print(Clown.dance())"
   ]
  },
  {
   "cell_type": "markdown",
   "metadata": {},
   "source": [
    "- The reason for creating class attributes are becuase they are \"shared\" across all instances of a class.\n",
    "- Ex: The `Account` class has an instance attribute called `interest`, because the value of `interest` is shared across all instances of `Account`. "
   ]
  },
  {
   "cell_type": "code",
   "execution_count": 5,
   "metadata": {},
   "outputs": [
    {
     "name": "stdout",
     "output_type": "stream",
     "text": [
      "Tom interest: 0.02\n",
      "Jim interest: 0.02\n",
      "Account class interest: 0.02\n"
     ]
    }
   ],
   "source": [
    "tom_account = Account('Tim')\n",
    "jim_account = Account('Jim')\n",
    "print(\"Tom interest:\", tom_account.interest)\n",
    "print(\"Jim interest:\", jim_account.interest)\n",
    "print(\"Account class interest:\", Account.interest)"
   ]
  },
  {
   "cell_type": "markdown",
   "metadata": {},
   "source": [
    "- The interest attribute is not part of the instance; but rather part of the class.\n",
    "\n",
    "## Bound Methods\n",
    "- Functions that are class attributes where the self-argument has been filled in with an instance of a class.\n",
    "\n",
    "### Terminology: Attributes, Functions, and Methods\n",
    "- All objets have attributes that are name-value pairs.\n",
    "- A class is a type (or category) of objects.\n",
    "- Classes are also objects with attributes\n",
    "- Instance attribute: attribute of an instance\n",
    "- Class attribute: attribute of the class of an instance\n",
    "- A class attribute that is a function is a method.\n",
    "- According to the Python object system, function are also objects, along with bound methods.\n",
    "    - Dot expressions evaluate to bound methods for class attributes that are functions.\n",
    "\n",
    "## Methods and Functions\n",
    "- Bound methods couple together a function and the object of the method.\n",
    "    - Object + Function = Bound Method\n",
    "- The method of a class is a function, while the method of an instance is a bound method."
   ]
  },
  {
   "cell_type": "code",
   "execution_count": 6,
   "metadata": {},
   "outputs": [
    {
     "name": "stdout",
     "output_type": "stream",
     "text": [
      "<class 'function'>\n",
      "<class 'method'>\n"
     ]
    }
   ],
   "source": [
    "print(type(Account.deposit))\n",
    "print(type(tom_account.deposit))"
   ]
  },
  {
   "cell_type": "markdown",
   "metadata": {},
   "source": [
    "- This distinction is important because it provides us with two ways of calling the function, either in the function form, or method form."
   ]
  },
  {
   "cell_type": "code",
   "execution_count": 7,
   "metadata": {},
   "outputs": [
    {
     "data": {
      "text/plain": [
       "20"
      ]
     },
     "execution_count": 7,
     "metadata": {},
     "output_type": "execute_result"
    }
   ],
   "source": [
    "Account.deposit(tom_account, 10) # Deposits 10 into tom_account\n",
    "tom_account.deposit(10) # Deposits 10 into tom_account"
   ]
  },
  {
   "cell_type": "markdown",
   "metadata": {},
   "source": [
    "- Both methods do the same thing, except we explicity bind the `tom_account` instance to the self parameter through the class method, whereas the dot expression indirectly binds `tom_account` to self."
   ]
  },
  {
   "cell_type": "markdown",
   "metadata": {},
   "source": [
    "## Attribute Assignment\n",
    "- Assignment statements with a dot expression on their left-hand side affect attributes for the object of that dot expression\n",
    "    - If the object is an instance, then assignment sets an instance attribute\n",
    "    - If the object is a class, then assignment sets a class attribute \n",
    "- Interestingly, with this behavior, we may \"override\" certain class attributes within an instance with a new instance attribute with the same name\n",
    "    - Ex: Setting a special interest value for an instance."
   ]
  },
  {
   "cell_type": "code",
   "execution_count": 11,
   "metadata": {},
   "outputs": [
    {
     "name": "stdout",
     "output_type": "stream",
     "text": [
      "New interest rate for tom_account: 0.08\n",
      "Class attribute for interest rate: 0.04\n",
      "Interest rate for bob_account: 0.04\n"
     ]
    }
   ],
   "source": [
    "tom_account = Account(\"Tom\")\n",
    "bob_account = Account(\"Bob\")\n",
    "tom_account.interest = 0.08 # Creating a new instance attribute as tom_account is an instance\n",
    "Account.interest = 0.04 # Updating an existing class attribute\n",
    "Account.a = 1\n",
    "print(\"New interest rate for tom_account:\", tom_account.interest)\n",
    "print(\"Class attribute for interest rate:\", Account.interest)\n",
    "print(\"Interest rate for bob_account:\", bob_account.interest)"
   ]
  },
  {
   "cell_type": "markdown",
   "metadata": {},
   "source": [
    "- The class attributes for instances are not locked-in upon object construction.\n",
    "    - Whenever the class attributes change for a class, the class attributes will update for each instance\n",
    "    - This is because each instance retrieves the values of the class attributes directly from the class."
   ]
  }
 ],
 "metadata": {
  "kernelspec": {
   "display_name": "Python 3",
   "language": "python",
   "name": "python3"
  },
  "language_info": {
   "codemirror_mode": {
    "name": "ipython",
    "version": 3
   },
   "file_extension": ".py",
   "mimetype": "text/x-python",
   "name": "python",
   "nbconvert_exporter": "python",
   "pygments_lexer": "ipython3",
   "version": "3.10.12"
  }
 },
 "nbformat": 4,
 "nbformat_minor": 2
}
