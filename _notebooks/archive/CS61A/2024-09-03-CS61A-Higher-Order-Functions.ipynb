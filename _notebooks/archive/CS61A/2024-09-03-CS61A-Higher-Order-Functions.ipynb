{
 "cells": [
  {
   "cell_type": "markdown",
   "metadata": {},
   "source": [
    "---\n",
    "- title: \"'CS61A: Higher-Order Functions'\"\n",
    "- author: alex\n",
    "- badges: true\n",
    "- comments: true\n",
    "- categories: [CS61A]\n",
    "- date: 2024-09-04 02:00:00 -0800\n",
    "- tags: [CS61A, Control]\n",
    "---"
   ]
  },
  {
   "cell_type": "markdown",
   "metadata": {},
   "source": [
    "# Higher-Order Functions\n",
    "- Allow to design functions with very general methods of computation\n",
    "- A function that takes another function as an argument\n",
    "\n",
    "## Generalizing Patterns with Arguments\n",
    "- For certain problems, we may find a common structure among the solution and share the implementation across the differing problems.\n",
    "    - For instance: the value of r^2 is shared by many area formulas (square, circle, polygons, etc)\n"
   ]
  },
  {
   "cell_type": "code",
   "execution_count": null,
   "metadata": {},
   "outputs": [],
   "source": [
    "from math import pi, sqrt\n",
    "\n",
    "def area_square(r):\n",
    "    return r*r\n",
    "\n",
    "def area_circle(r):\n",
    "    return r * r * pi\n",
    "\n",
    "def area_hexagon(r):\n",
    "    return r * r * 3 * sqrt(3) / 2\n",
    "\n",
    "print(area_hexagon(-10)) # Shapes cannot have negative"
   ]
  },
  {
   "cell_type": "markdown",
   "metadata": {},
   "source": [
    "## Assertion \n",
    "- The `assert` keyword allows us to make assertion statements in python to enforce a certain condition for our code.\n",
    "    - If the condition is met, nothing happens.\n",
    "    - If not, an error occurs"
   ]
  },
  {
   "cell_type": "code",
   "execution_count": 3,
   "metadata": {},
   "outputs": [
    {
     "ename": "AssertionError",
     "evalue": "String cannot be compared to integers",
     "output_type": "error",
     "traceback": [
      "\u001b[0;31m---------------------------------------------------------------------------\u001b[0m",
      "\u001b[0;31mAssertionError\u001b[0m                            Traceback (most recent call last)",
      "Cell \u001b[0;32mIn[3], line 1\u001b[0m\n\u001b[0;32m----> 1\u001b[0m \u001b[38;5;28;01massert\u001b[39;00m \u001b[38;5;124m\"\u001b[39m\u001b[38;5;124m1\u001b[39m\u001b[38;5;124m\"\u001b[39m \u001b[38;5;241m==\u001b[39m \u001b[38;5;241m1\u001b[39m, \u001b[38;5;124m\"\u001b[39m\u001b[38;5;124mString cannot be compared to integers\u001b[39m\u001b[38;5;124m\"\u001b[39m\n",
      "\u001b[0;31mAssertionError\u001b[0m: String cannot be compared to integers"
     ]
    }
   ],
   "source": [
    "assert \"1\" == 1, \"String cannot be compared to integers\""
   ]
  },
  {
   "cell_type": "markdown",
   "metadata": {},
   "source": [
    "- Knowing this, we can fix our code from before to account for negative inputs."
   ]
  },
  {
   "cell_type": "code",
   "execution_count": 4,
   "metadata": {},
   "outputs": [
    {
     "ename": "AssertionError",
     "evalue": "A length must be positive",
     "output_type": "error",
     "traceback": [
      "\u001b[0;31m---------------------------------------------------------------------------\u001b[0m",
      "\u001b[0;31mAssertionError\u001b[0m                            Traceback (most recent call last)",
      "Cell \u001b[0;32mIn[4], line 15\u001b[0m\n\u001b[1;32m     12\u001b[0m     \u001b[38;5;28;01massert\u001b[39;00m r \u001b[38;5;241m>\u001b[39m \u001b[38;5;241m0\u001b[39m, \u001b[38;5;124m'\u001b[39m\u001b[38;5;124mA length must be positive\u001b[39m\u001b[38;5;124m'\u001b[39m\n\u001b[1;32m     13\u001b[0m     \u001b[38;5;28;01mreturn\u001b[39;00m r \u001b[38;5;241m*\u001b[39m r \u001b[38;5;241m*\u001b[39m \u001b[38;5;241m3\u001b[39m \u001b[38;5;241m*\u001b[39m sqrt(\u001b[38;5;241m3\u001b[39m) \u001b[38;5;241m/\u001b[39m \u001b[38;5;241m2\u001b[39m\n\u001b[0;32m---> 15\u001b[0m \u001b[38;5;28mprint\u001b[39m(\u001b[43marea_hexagon\u001b[49m\u001b[43m(\u001b[49m\u001b[38;5;241;43m-\u001b[39;49m\u001b[38;5;241;43m10\u001b[39;49m\u001b[43m)\u001b[49m) \u001b[38;5;66;03m# Shapes cannot have negative\u001b[39;00m\n",
      "Cell \u001b[0;32mIn[4], line 12\u001b[0m, in \u001b[0;36marea_hexagon\u001b[0;34m(r)\u001b[0m\n\u001b[1;32m     11\u001b[0m \u001b[38;5;28;01mdef\u001b[39;00m \u001b[38;5;21marea_hexagon\u001b[39m(r):\n\u001b[0;32m---> 12\u001b[0m     \u001b[38;5;28;01massert\u001b[39;00m r \u001b[38;5;241m>\u001b[39m \u001b[38;5;241m0\u001b[39m, \u001b[38;5;124m'\u001b[39m\u001b[38;5;124mA length must be positive\u001b[39m\u001b[38;5;124m'\u001b[39m\n\u001b[1;32m     13\u001b[0m     \u001b[38;5;28;01mreturn\u001b[39;00m r \u001b[38;5;241m*\u001b[39m r \u001b[38;5;241m*\u001b[39m \u001b[38;5;241m3\u001b[39m \u001b[38;5;241m*\u001b[39m sqrt(\u001b[38;5;241m3\u001b[39m) \u001b[38;5;241m/\u001b[39m \u001b[38;5;241m2\u001b[39m\n",
      "\u001b[0;31mAssertionError\u001b[0m: A length must be positive"
     ]
    }
   ],
   "source": [
    "from math import pi, sqrt\n",
    "\n",
    "def area_square(r):\n",
    "    assert r > 0, 'A length must be positive'\n",
    "    return r*r\n",
    "\n",
    "def area_circle(r):\n",
    "    assert r > 0, 'A length must be positive'\n",
    "    return r * r * pi\n",
    "\n",
    "def area_hexagon(r):\n",
    "    assert r > 0, 'A length must be positive'\n",
    "    return r * r * 3 * sqrt(3) / 2\n",
    "\n",
    "print(area_hexagon(-10)) # Shapes cannot have negative"
   ]
  },
  {
   "cell_type": "markdown",
   "metadata": {},
   "source": [
    "- However, this code is repetitive. Instead, we can generalize the procedure for all three operations."
   ]
  },
  {
   "cell_type": "code",
   "execution_count": 7,
   "metadata": {},
   "outputs": [
    {
     "name": "stdout",
     "output_type": "stream",
     "text": [
      "259.8076211353316\n"
     ]
    },
    {
     "ename": "AssertionError",
     "evalue": "A length must be positive",
     "output_type": "error",
     "traceback": [
      "\u001b[0;31m---------------------------------------------------------------------------\u001b[0m",
      "\u001b[0;31mAssertionError\u001b[0m                            Traceback (most recent call last)",
      "Cell \u001b[0;32mIn[7], line 15\u001b[0m\n\u001b[1;32m     12\u001b[0m     \u001b[38;5;28;01mreturn\u001b[39;00m area(r, \u001b[38;5;241m3\u001b[39m \u001b[38;5;241m*\u001b[39m sqrt(\u001b[38;5;241m3\u001b[39m) \u001b[38;5;241m/\u001b[39m \u001b[38;5;241m2\u001b[39m)\n\u001b[1;32m     14\u001b[0m \u001b[38;5;28mprint\u001b[39m(area_hexagon(\u001b[38;5;241m10\u001b[39m))\n\u001b[0;32m---> 15\u001b[0m \u001b[38;5;28mprint\u001b[39m(\u001b[43marea_hexagon\u001b[49m\u001b[43m(\u001b[49m\u001b[38;5;241;43m-\u001b[39;49m\u001b[38;5;241;43m10\u001b[39;49m\u001b[43m)\u001b[49m)\n",
      "Cell \u001b[0;32mIn[7], line 12\u001b[0m, in \u001b[0;36marea_hexagon\u001b[0;34m(r)\u001b[0m\n\u001b[1;32m     11\u001b[0m \u001b[38;5;28;01mdef\u001b[39;00m \u001b[38;5;21marea_hexagon\u001b[39m(r):\n\u001b[0;32m---> 12\u001b[0m     \u001b[38;5;28;01mreturn\u001b[39;00m \u001b[43marea\u001b[49m\u001b[43m(\u001b[49m\u001b[43mr\u001b[49m\u001b[43m,\u001b[49m\u001b[43m \u001b[49m\u001b[38;5;241;43m3\u001b[39;49m\u001b[43m \u001b[49m\u001b[38;5;241;43m*\u001b[39;49m\u001b[43m \u001b[49m\u001b[43msqrt\u001b[49m\u001b[43m(\u001b[49m\u001b[38;5;241;43m3\u001b[39;49m\u001b[43m)\u001b[49m\u001b[43m \u001b[49m\u001b[38;5;241;43m/\u001b[39;49m\u001b[43m \u001b[49m\u001b[38;5;241;43m2\u001b[39;49m\u001b[43m)\u001b[49m\n",
      "Cell \u001b[0;32mIn[7], line 2\u001b[0m, in \u001b[0;36marea\u001b[0;34m(r, shape_constant)\u001b[0m\n\u001b[1;32m      1\u001b[0m \u001b[38;5;28;01mdef\u001b[39;00m \u001b[38;5;21marea\u001b[39m(r, shape_constant):\n\u001b[0;32m----> 2\u001b[0m     \u001b[38;5;28;01massert\u001b[39;00m r \u001b[38;5;241m>\u001b[39m \u001b[38;5;241m0\u001b[39m, \u001b[38;5;124m'\u001b[39m\u001b[38;5;124mA length must be positive\u001b[39m\u001b[38;5;124m'\u001b[39m\n\u001b[1;32m      3\u001b[0m     \u001b[38;5;28;01mreturn\u001b[39;00m r \u001b[38;5;241m*\u001b[39m r \u001b[38;5;241m*\u001b[39m shape_constant\n",
      "\u001b[0;31mAssertionError\u001b[0m: A length must be positive"
     ]
    }
   ],
   "source": [
    "def area(r, shape_constant):\n",
    "    assert r > 0, 'A length must be positive'\n",
    "    return r * r * shape_constant\n",
    "\n",
    "def area_square(r):\n",
    "    return area(r, 1)\n",
    "\n",
    "def area_circle(r):\n",
    "    return area(r, pi)\n",
    "\n",
    "def area_hexagon(r):\n",
    "    return area(r, 3 * sqrt(3) / 2)\n",
    "\n",
    "print(area_hexagon(10))\n",
    "print(area_hexagon(-10))"
   ]
  },
  {
   "cell_type": "markdown",
   "metadata": {},
   "source": [
    "# Generalizing Over Computational Processes\n",
    "- Generalization applies over logical and computational processes (actions)\n",
    "    - Common structures are typically more complex than numbers\n",
    "    - Ex: Adding consecutive numbers with a certain expression"
   ]
  },
  {
   "cell_type": "code",
   "execution_count": 9,
   "metadata": {},
   "outputs": [
    {
     "data": {
      "text/plain": [
       "225"
      ]
     },
     "execution_count": 9,
     "metadata": {},
     "output_type": "execute_result"
    }
   ],
   "source": [
    "def sum_naturals(n):\n",
    "    \"\"\"Sum the first N natural numbers\n",
    "    >>> sum_naturals(5)\n",
    "    15\n",
    "    \"\"\"\n",
    "    total, k = 0, 1\n",
    "    while (k <= n):\n",
    "        total, k = total + k, k + 1\n",
    "    return total\n",
    "\n",
    "def sum_cubes(n):\n",
    "    \"\"\"Sum the first N cubes of natural numbers\n",
    "    >>> sum_cubes(5)\n",
    "    225\n",
    "    \"\"\"\n",
    "    total, k = 0, 1\n",
    "    while (k <= n):\n",
    "        total, k = total + k ** 3, k + 1\n",
    "    return total\n",
    "\n",
    "sum_cubes(5)"
   ]
  },
  {
   "cell_type": "markdown",
   "metadata": {},
   "source": [
    "- The code above is generally the same with a small difference.\n",
    "    - We can rewrite this with a higher-order function, by generalizing the process of adding consecutive terms."
   ]
  },
  {
   "cell_type": "code",
   "execution_count": 12,
   "metadata": {},
   "outputs": [
    {
     "data": {
      "text/plain": [
       "225"
      ]
     },
     "execution_count": 12,
     "metadata": {},
     "output_type": "execute_result"
    }
   ],
   "source": [
    "def identity(k):\n",
    "    return k\n",
    "\n",
    "def cube(k):\n",
    "    return pow(k, 3)\n",
    "\n",
    "def summation(n, term):\n",
    "    \"\"\"Sum the first N terms of a sequence.\n",
    "    >>> summation(5, cube)\n",
    "    225\n",
    "    \"\"\"\n",
    "    total, k = 0, 1\n",
    "    while (k <= n):\n",
    "        total, k = total + term(k), k + 1\n",
    "    return total\n",
    "\n",
    "summation(5, cube)"
   ]
  },
  {
   "cell_type": "markdown",
   "metadata": {},
   "source": [
    "# Functions as Return Values\n",
    "- Sort of like recursion where we return the output of another function recursively"
   ]
  },
  {
   "cell_type": "code",
   "execution_count": 13,
   "metadata": {},
   "outputs": [
    {
     "data": {
      "text/plain": [
       "7"
      ]
     },
     "execution_count": 13,
     "metadata": {},
     "output_type": "execute_result"
    }
   ],
   "source": [
    "def make_adder(n):\n",
    "    \"\"\"Return a function that takes one argument K and return K + N\n",
    "    >>> add_three = make_adder(3)\n",
    "    >>> add_three(4)\n",
    "    >>> 7\n",
    "    \"\"\"\n",
    "    def adder(k):    # This function is defined within the frame of make_adder, and thus has access to names defined and bound in make_adder\n",
    "        return k + n # Body of adder\n",
    "    return adder # Body of make_adder\n",
    "     \n",
    "result = make_adder(3)(4)\n",
    "result"
   ]
  },
  {
   "cell_type": "markdown",
   "metadata": {},
   "source": [
    "## Locally Defined Functions\n",
    "- Functions defined within other function bodies are bound to names in a *local* frame (of the function that they are defined in)\n",
    "- Consider:"
   ]
  },
  {
   "cell_type": "code",
   "execution_count": null,
   "metadata": {},
   "outputs": [],
   "source": [
    "make_adder(3)(4)"
   ]
  },
  {
   "cell_type": "markdown",
   "metadata": {},
   "source": [
    "- We can split this into two parts: the operator and the operand\n",
    "    - operator: `make_adder(3)`\n",
    "    - operand: `4`\n",
    "    - The operator `make_adder(3)` is like any other operator; it evaluates to a function.\n",
    "    - The operand is an expression that can evaluate to anything, in this case, 3."
   ]
  },
  {
   "cell_type": "markdown",
   "metadata": {},
   "source": [
    "## The Purpose of Higher-Order Functions\n",
    "- **Functions are first-class:** Functions can be manipulated as values in Python. They can be passed as argumenst or be returned as return values.\n",
    "- **Higher-Order Function:** A function that takes a function as an argument or returns a function as a return value.\n",
    "    - Express more general methods of computation\n",
    "    - Remove repetition from programs\n",
    "    - Separate concerns among functions. (Each functions have one job)\n",
    "        - Our functions become much more general -> applicable\n",
    "    - The functions they take as arguments or return as values may be more specific, from one function to the next"
   ]
  }
 ],
 "metadata": {
  "kernelspec": {
   "display_name": "Python 3",
   "language": "python",
   "name": "python3"
  },
  "language_info": {
   "codemirror_mode": {
    "name": "ipython",
    "version": 3
   },
   "file_extension": ".py",
   "mimetype": "text/x-python",
   "name": "python",
   "nbconvert_exporter": "python",
   "pygments_lexer": "ipython3",
   "version": "3.10.12"
  }
 },
 "nbformat": 4,
 "nbformat_minor": 2
}
