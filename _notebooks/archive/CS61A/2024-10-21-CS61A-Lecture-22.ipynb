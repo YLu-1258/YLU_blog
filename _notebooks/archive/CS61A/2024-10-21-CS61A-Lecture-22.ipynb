{
 "cells": [
  {
   "cell_type": "markdown",
   "metadata": {},
   "source": [
    "---\n",
    "- title: \"'CS61A: Lecture 22'\"\n",
    "- author: alex\n",
    "- badges: true\n",
    "- comments: true\n",
    "- categories: [CS61A]\n",
    "- date: 2024-10-21 6:00:00 -0800\n",
    "- math: true\n",
    "- tags: [CS61A, efficiency]\n",
    "---"
   ]
  },
  {
   "cell_type": "markdown",
   "metadata": {},
   "source": [
    "# Lecture\n",
    "## Tree Class\n",
    "- A Tree has a label and a list of branches; each branch is also a Tree"
   ]
  },
  {
   "cell_type": "code",
   "execution_count": 2,
   "metadata": {},
   "outputs": [],
   "source": [
    "class Tree:\n",
    "    def __init__(self, label, branches=[]):\n",
    "        self.label = label\n",
    "        for branch in branches:\n",
    "            assert isinstance(branch, Tree)\n",
    "        self.branches = list(branches)"
   ]
  },
  {
   "cell_type": "markdown",
   "metadata": {},
   "source": [
    "- This style of object-based abstraction is highly similar to the functional abstraction we have defined prior. However, the definition is much shorter and the implementation is nearly identical.\n",
    "- Ex: Generate a fibonacci Tree"
   ]
  },
  {
   "cell_type": "code",
   "execution_count": 4,
   "metadata": {},
   "outputs": [
    {
     "data": {
      "text/plain": [
       "<__main__.Tree at 0x7f2c7030e860>"
      ]
     },
     "execution_count": 4,
     "metadata": {},
     "output_type": "execute_result"
    }
   ],
   "source": [
    "def fib_tree(n):\n",
    "    if n < 2:\n",
    "        return Tree(n)\n",
    "    else:\n",
    "        left = fib_tree(n-2)\n",
    "        right = fib_tree(n-1)\n",
    "        fib_n = left.label + right.label\n",
    "        return Tree(fib_n, [left, right])"
   ]
  },
  {
   "cell_type": "code",
   "execution_count": 5,
   "metadata": {},
   "outputs": [],
   "source": [
    "from treeclass import Tree"
   ]
  },
  {
   "cell_type": "markdown",
   "metadata": {},
   "source": [
    "- Ex: Count Twins\n",
    "    - Implement twins, which takes a Tree t. It returns the number of pairs of sibling nodes whose labels are equal."
   ]
  },
  {
   "cell_type": "code",
   "execution_count": 8,
   "metadata": {},
   "outputs": [
    {
     "data": {
      "text/plain": [
       "9"
      ]
     },
     "execution_count": 8,
     "metadata": {},
     "output_type": "execute_result"
    }
   ],
   "source": [
    "def twins(t):\n",
    "    \"\"\"Count the pairs of sibling nodes with equal labels.\n",
    "\n",
    "    >>> t1 = Tree(3, [Tree(4, [Tree(5), Tree(6)]), Tree(4, [Tree(5), Tree(5)])])\n",
    "    >>> twins(t1) # 4 and 5\n",
    "    2\n",
    "    >>> twins(Tree(1, [Tree(1, [Tree(2)]), Tree(2, [Tree(2)])]))\n",
    "    0\n",
    "    >>> twins(Tree(8,[t1,t1,t1]))\n",
    "    9\n",
    "    \"\"\"\n",
    "    count = 0\n",
    "    n = len(t.branches)\n",
    "    for i in range(n-1):\n",
    "        for j in range(i+1, n):\n",
    "            if t.branches[i].label == t.branches[j].label:\n",
    "                count += 1\n",
    "    return count + sum([twins(b) for b in t.branches])\n",
    "\n",
    "t1 = Tree(3, [Tree(4, [Tree(5), Tree(6)]), Tree(4, [Tree(5), Tree(5)])])\n",
    "twins(Tree(8,[t1,t1,t1]))"
   ]
  },
  {
   "cell_type": "markdown",
   "metadata": {},
   "source": [
    "- Spring 2023 Midterm 2 Question 4(b)\n",
    "You have already implemented **exclude(t, x)**, which takes a Tree instance t and a value x. It returns a Tree containing the root node of t as well as each non-root node of t with a label not equal to x. The parent of a node in the result is its nearest ancestor node that is not excluded. The input t is not modified.\n",
    "\n",
    "Implement **remove**, which takes a Tree instance t and a value x. It removes all non-root nodes from t that have a label equal to x, then returns t. The parent of a node in t is its nearest ancestor that is not removed. **You may call exclude**."
   ]
  },
  {
   "cell_type": "code",
   "execution_count": null,
   "metadata": {},
   "outputs": [],
   "source": [
    "def exclude(t, x):\n",
    "    return Tree(t.label, sum([[exclude(b, x)] for b in t.branches if b.label != x else [exclude(b1, x) for b1 in b.branches]], []))\n",
    "\n",
    "def remove(t, x):\n",
    "    t.branches = exclude(t, x).branches\n",
    "    return t\n",
    "\n",
    "u = Tree(1, [Tree(2, [Tree(2), Tree(3)]), Tree(4)])\n",
    "remove(u)"
   ]
  },
  {
   "cell_type": "markdown",
   "metadata": {},
   "source": [
    "# Efficiency\n",
    "- It is really inefficient to implement the calculation of the fibonacci sequence using tree recursion.\n",
    "    - This is because each call to fib recursively creates many duplicate calls that dramatically speeds up our execution time"
   ]
  },
  {
   "cell_type": "code",
   "execution_count": 18,
   "metadata": {},
   "outputs": [
    {
     "data": {
      "text/plain": [
       "15"
      ]
     },
     "execution_count": 18,
     "metadata": {},
     "output_type": "execute_result"
    }
   ],
   "source": [
    "class CallCounter:\n",
    "    def __init__(self):\n",
    "        self.n = 0\n",
    "\n",
    "    def count(self, f):\n",
    "        def counted(n):\n",
    "            self.n+=1\n",
    "            return f(n)\n",
    "        return counted\n",
    "\n",
    "fib_counter = CallCounter()\n",
    "@fib_counter.count\n",
    "def fib(n):\n",
    "    if n < 2:\n",
    "        return n\n",
    "    return fib(n-1) + fib(n-2)\n",
    "\n",
    "fib(5)\n",
    "fib_counter.n\n"
   ]
  },
  {
   "cell_type": "markdown",
   "metadata": {},
   "source": [
    "## Memoization\n",
    "- A simple technique to speed up this process is to remember the results that have been computed before. This is called **memoization**"
   ]
  },
  {
   "cell_type": "code",
   "execution_count": 25,
   "metadata": {},
   "outputs": [
    {
     "data": {
      "text/plain": [
       "13"
      ]
     },
     "execution_count": 25,
     "metadata": {},
     "output_type": "execute_result"
    }
   ],
   "source": [
    "def fib(n):\n",
    "    if n < 2:\n",
    "        return n\n",
    "    return fib(n-1) + fib(n-2)\n",
    "\n",
    "def memo(f):\n",
    "    cache = {}\n",
    "    def memoized(n):\n",
    "        if n not in cache:\n",
    "            cache[n] = f(n)\n",
    "        return cache[n]\n",
    "    return memoized\n",
    "\n",
    "fib_counter = CallCounter()\n",
    "fib = memo(fib)\n",
    "fib = fib_counter.count(fib)\n",
    "fib(7)\n",
    "fib_counter.n"
   ]
  },
  {
   "cell_type": "markdown",
   "metadata": {},
   "source": [
    "- The memo function serves to cache the previous inputs that we've had to reuse them when necessary.\n",
    "    - If our inputs happens to be an unhashable type such as a List, then we would either need to represent it as something that is hashable, or come up with another way of memoizing our results. (Hint hint DFS on a 2D array of array indices)"
   ]
  },
  {
   "cell_type": "markdown",
   "metadata": {},
   "source": [
    "## Orders of Growth\n",
    "- We measure efficiency of computer programs in **Orders of Growth**.\n",
    "    - However, this measure is not specific to each program as execution time may vary by different machines.\n",
    "    - We instead generalize different algorithms in accordance to *how much their resource consumption scales as input size grows*\n",
    "- Orders of Growth for an input-size n:\n",
    "    - Exponential growth:\n",
    "        - Ex: Recursive `fib`\n",
    "        - Incrementing n multiplies *time* by a constant.\n",
    "        - Typically Tree recursive algorithms have this characteristic, unless we memoize.\n",
    "    - Quadratic growth.\n",
    "        - Incrementing n increases time by n times a constant.\n",
    "        - The amount of time added at each increment gets bigger and bigger, but not as much as exponential.\n",
    "    - Linear growth.\n",
    "        - Incrementing n increases time by a constant.\n",
    "        - This is typically what memoization helps us achieve.\n",
    "    - Logarithmic growth.\n",
    "        - Really, really useful is n is large.\n",
    "        - Doubling n only increments time by a constant.\n",
    "    - Constant growth.\n",
    "        - Increasing n doesn't affect time.\n",
    "- Ex: What is the order of growth of the time to run prefix(s) in terms of the length of s?"
   ]
  },
  {
   "cell_type": "code",
   "execution_count": null,
   "metadata": {},
   "outputs": [],
   "source": [
    "def prefix(s):\n",
    "    t = 0\n",
    "    result = []\n",
    "    for x in s:\n",
    "        t = t + x\n",
    "        result.append(t)\n",
    "    return result"
   ]
  },
  {
   "cell_type": "markdown",
   "metadata": {},
   "source": [
    "- We would have a linear time, as we add a constant to our time with every increment to our input size."
   ]
  }
 ],
 "metadata": {
  "kernelspec": {
   "display_name": "Python 3",
   "language": "python",
   "name": "python3"
  },
  "language_info": {
   "codemirror_mode": {
    "name": "ipython",
    "version": 3
   },
   "file_extension": ".py",
   "mimetype": "text/x-python",
   "name": "python",
   "nbconvert_exporter": "python",
   "pygments_lexer": "ipython3",
   "version": "3.10.12"
  }
 },
 "nbformat": 4,
 "nbformat_minor": 2
}
