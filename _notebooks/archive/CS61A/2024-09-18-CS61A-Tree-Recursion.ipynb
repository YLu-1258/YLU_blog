{
 "cells": [
  {
   "cell_type": "markdown",
   "metadata": {},
   "source": [
    "---\n",
    "- title: \"'CS61A: Tree Recursion'\"\n",
    "- author: alex\n",
    "- badges: true\n",
    "- comments: true\n",
    "- categories: [CS61A]\n",
    "- date: 2024-09-20 6:00:00 -0800\n",
    "- math: true\n",
    "- tags: [CS61A, functions, recursion, environment diagrams, tree recursion]\n",
    "---"
   ]
  },
  {
   "cell_type": "markdown",
   "metadata": {},
   "source": [
    "# Order of Recursive Calls\n",
    "- When ever a function call is made, it must return before we can do something.\n",
    "    - What ever is after the recursive call is executed after the recursion ends\n",
    "- The Casecade Function:"
   ]
  },
  {
   "cell_type": "code",
   "execution_count": 2,
   "metadata": {},
   "outputs": [
    {
     "name": "stdout",
     "output_type": "stream",
     "text": [
      "1234\n",
      "123\n",
      "12\n",
      "1\n",
      "12\n",
      "123\n",
      "1234\n"
     ]
    }
   ],
   "source": [
    "def cascade(n):\n",
    "    if n < 10:\n",
    "        print(n)\n",
    "    else:\n",
    "        print(n)\n",
    "        cascade(n//10)\n",
    "        print(n)\n",
    "\n",
    "cascade(1234)\n",
    "    "
   ]
  },
  {
   "cell_type": "markdown",
   "metadata": {},
   "source": [
    "- In recursive function calls, the first return value will be the base case, then followed up by all the pre-exisiting recursive calls, back to the first call.\n",
    "- We must trace our recursive calls back up to the original call.\n",
    "    - Until the return value appears for a recursive call, that call is incomplete.\n",
    "    - Each cascade frame is a different call to cascade in and of itself.\n",
    "    - statements can appear before and after the recrusive call.\n",
    "- A shorter version of cascade:"
   ]
  },
  {
   "cell_type": "code",
   "execution_count": 3,
   "metadata": {},
   "outputs": [
    {
     "name": "stdout",
     "output_type": "stream",
     "text": [
      "12345\n",
      "1234\n",
      "123\n",
      "12\n",
      "1\n",
      "12\n",
      "123\n",
      "1234\n",
      "12345\n"
     ]
    }
   ],
   "source": [
    "def cascade(n):\n",
    "    print(n)\n",
    "    if n > 10:\n",
    "        cascade(n//10)\n",
    "        print(n)\n",
    "\n",
    "cascade(12345)"
   ]
  },
  {
   "cell_type": "markdown",
   "metadata": {},
   "source": [
    "- Typically, the shorter implementation is better to understand.\n",
    "    - Always put the base cases first in recursive functions first"
   ]
  },
  {
   "cell_type": "markdown",
   "metadata": {},
   "source": [
    "# Example: Inverse Cascade\n",
    "- My Intution: We first make recursive calls until the base case, where we then print out each subsequent value"
   ]
  },
  {
   "cell_type": "code",
   "execution_count": 34,
   "metadata": {},
   "outputs": [
    {
     "name": "stdout",
     "output_type": "stream",
     "text": [
      "1\n",
      "12\n",
      "123\n",
      "1234\n",
      "123\n",
      "12\n",
      "1\n"
     ]
    }
   ],
   "source": [
    "def inverse_cascade(n):\n",
    "    grow(n)\n",
    "    print(n)\n",
    "    shrink(n)\n",
    "\n",
    "def f_then_g(f, g, n):\n",
    "    if n:\n",
    "        f(n)\n",
    "        g(n)\n",
    "\n",
    "grow = lambda n: f_then_g(grow, print, n//10)   \n",
    "shrink = lambda n: f_then_g(print, shrink, n//10)\n",
    "\n",
    "inverse_cascade(1234)"
   ]
  },
  {
   "cell_type": "markdown",
   "metadata": {},
   "source": [
    "- Implementations of grow and shrink\n",
    "    - For grow: We recursively call itself until n becomes one digit, from where we print and unravel the sequence\n",
    "    - For shrink: We recursively call itself at each step with a print statement, then continue onto the next recursive call."
   ]
  },
  {
   "cell_type": "markdown",
   "metadata": {},
   "source": [
    "# Tree Recursion\n",
    "- Recursive functions can make more than one recursive call to itself. (Think of mergeSort)\n",
    "    - When this happens, function produces tree-shaped processes.\n",
    "    - Classic example was the fibonacci numbers.\n",
    "        - n:      0, 1, 2, 3, 4, 5, 6, 7, 8, ..., 35\n",
    "        - fib(n): 0, 1, 1, 2, 3, 5, 8, 13, 21, ..., 9,227,465\n",
    "- The Sequence can be calculated with Tree Recursion"
   ]
  },
  {
   "cell_type": "code",
   "execution_count": null,
   "metadata": {},
   "outputs": [],
   "source": [
    "def fib(n):\n",
    "    if n == 0:\n",
    "        return 0\n",
    "    if n == 1:\n",
    "        return 1\n",
    "    else:\n",
    "        return fib(n-2) + fib(n-1) # Because fib itself is called twice recursively, this creates a tree process"
   ]
  },
  {
   "cell_type": "markdown",
   "metadata": {},
   "source": [
    "- The runtime of this function can be described by this following tree process:\n",
    "    - ![image.png](/assets/img/CS61A/Recursion_Environmental/FibTreeRecurse.png)"
   ]
  },
  {
   "cell_type": "code",
   "execution_count": null,
   "metadata": {},
   "outputs": [],
   "source": [
    "fib()"
   ]
  },
  {
   "cell_type": "markdown",
   "metadata": {},
   "source": [
    "## Repitition in Tree-Recursive Computation\n",
    "- There is a lot of repitition in tree-recursive computation. In Fib, we repeated calculations everytime we went up to a higher number.\n",
    "    - Fib is called on the same argument multiple times.\n",
    "- This process can be sped up dramatically in a few weeks by remembering the results of each function call, and reusing that."
   ]
  },
  {
   "cell_type": "markdown",
   "metadata": {},
   "source": [
    "# Example Counting Partitions\n",
    "- Hard process to write without tree recursions.\n",
    "> The number of partitions of a positive inter n, using parts up to size m, is the number of ways in which n can be expressed as the sum of positive integer parts up to m in increasing order."
   ]
  },
  {
   "cell_type": "code",
   "execution_count": 2,
   "metadata": {},
   "outputs": [
    {
     "name": "stdout",
     "output_type": "stream",
     "text": [
      "9\n",
      "\n"
     ]
    },
    {
     "data": {
      "text/plain": [
       "9"
      ]
     },
     "execution_count": 2,
     "metadata": {},
     "output_type": "execute_result"
    }
   ],
   "source": [
    "from ucb import trace\n",
    "\n",
    "# @trace\n",
    "def counting_partitions(n, m):\n",
    "    if m == 0:\n",
    "        return 0\n",
    "    if m > n:\n",
    "        return 0 + counting_partitions(n, m-1)\n",
    "    if m == n:\n",
    "        return 1 + counting_partitions(n, m-1)\n",
    "    return counting_partitions(n-m, m) + counting_partitions(n, m-1)\n",
    "\n",
    "# @trace\n",
    "def counting_partitions_2(n, m):\n",
    "    if n < 0: # We reach the end of a unsuccessful equation, n-m < 0 in function call\n",
    "        return 0\n",
    "    if n == 0:  # counts every successful equation\n",
    "        return 1\n",
    "    return counting_partitions(n-m, m) + counting_partitions(n, m-1) # Add the possible solutions to n-m with m, and then m-1\n",
    "\n",
    "def counting_partitions_iter(n, m):\n",
    "    dp = [[0] * (m + 1) for k in range(n + 1)]\n",
    "    \n",
    "    dp[0][0] = 1\n",
    "    \n",
    "    for i in range(1, n + 1):\n",
    "        for j in range(1, m + 1):\n",
    "            if j > i:\n",
    "                dp[i][j] = dp[i][j-1]\n",
    "            elif i == j:\n",
    "                dp[i][j] = dp[i][j-1] + 1\n",
    "            else:\n",
    "                dp[i][j] = dp[i-j][j] + dp[i][j-1]       \n",
    "    return dp[n][m]\n",
    "\n",
    "# [1,0,0,0,0,0,0]\n",
    "\n",
    "print(counting_partitions_2(6,4))\n",
    "print()\n",
    "counting_partitions_iter(6,4)\n",
    "    "
   ]
  },
  {
   "cell_type": "markdown",
   "metadata": {},
   "source": [
    "- Start with recursive decomposition: find simpler instances of the problem."
   ]
  }
 ],
 "metadata": {
  "kernelspec": {
   "display_name": "Python 3",
   "language": "python",
   "name": "python3"
  },
  "language_info": {
   "codemirror_mode": {
    "name": "ipython",
    "version": 3
   },
   "file_extension": ".py",
   "mimetype": "text/x-python",
   "name": "python",
   "nbconvert_exporter": "python",
   "pygments_lexer": "ipython3",
   "version": "3.10.12"
  }
 },
 "nbformat": 4,
 "nbformat_minor": 2
}
