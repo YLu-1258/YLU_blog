{
 "cells": [
  {
   "cell_type": "markdown",
   "metadata": {},
   "source": [
    "---\n",
    "- title: \"'CS61A: Lecture 26'\"\n",
    "- author: alex\n",
    "- badges: true\n",
    "- comments: true\n",
    "- categories: [CS61A]\n",
    "- date: 2024-11-06 1:00:00 -0800\n",
    "- math: true\n",
    "- tags: [CS61A, Scheme]\n",
    "---"
   ]
  },
  {
   "cell_type": "markdown",
   "metadata": {},
   "source": [
    "# Scheme Lists\n",
    "- Scheme lists are written in parentheses with elements separated by spaces\n",
    "- Procedures\n",
    "    - cons: Procedure that creates a new list.\n",
    "    - car: Procedure that prints out the first element of the list\n",
    "    - cdr: Procedure that prints out the rest of the list\n",
    "    - nil: The empty list\n",
    "    - list: Creates a new list\n",
    "- The reason that we use cons is that we may add an element onto an existing list to the front of it.\n",
    "- Ex: copying a list:"
   ]
  },
  {
   "cell_type": "code",
   "execution_count": null,
   "metadata": {
    "vscode": {
     "languageId": "plaintext"
    }
   },
   "outputs": [],
   "source": [
    "(define (same-list s)\n",
    "    (if (null? s) s (cons (car s) (same-list (cdr s))))\n",
    ")"
   ]
  },
  {
   "cell_type": "markdown",
   "metadata": {},
   "source": [
    "- Ex: Replace an element at index i"
   ]
  },
  {
   "cell_type": "code",
   "execution_count": null,
   "metadata": {
    "vscode": {
     "languageId": "plaintext"
    }
   },
   "outputs": [],
   "source": [
    "(define (replace s i x)\n",
    "    (if (= i 0) (cons x (cdr s)) (cons (car s) (replace (cdrs) (- i 1) s)))\n",
    ")"
   ]
  },
  {
   "cell_type": "markdown",
   "metadata": {},
   "source": [
    "- Ex: Combine two or more lists"
   ]
  },
  {
   "cell_type": "code",
   "execution_count": null,
   "metadata": {
    "vscode": {
     "languageId": "plaintext"
    }
   },
   "outputs": [],
   "source": [
    "scm> (append (list 1 2 3) (list 4 5 6) (list 7 8 9))\n",
    "(1 2 3 4 5 6 7 8 9)"
   ]
  },
  {
   "cell_type": "markdown",
   "metadata": {},
   "source": [
    "- Practice:"
   ]
  },
  {
   "cell_type": "code",
   "execution_count": null,
   "metadata": {
    "vscode": {
     "languageId": "plaintext"
    }
   },
   "outputs": [],
   "source": [
    "(define s (cons 1 (cons 2 nil))) -> (1 2)\n",
    "(list 3 s) -> (3 (1 2)) correct\n",
    "(cons 3 s) -> (3 1 2) correct\n",
    "(append 3 s) -> Error correct\n",
    "(list s s) -> ((1 2) (1 2)) correct\n",
    "(cons s s) -> ((1 2) 1 2) correct\n",
    "(append s s) -> (1 2 1 2) correct"
   ]
  },
  {
   "cell_type": "markdown",
   "metadata": {},
   "source": [
    "- Ex: Recursive COnstruction:\n",
    "    - Return a list of two lists; the first n elements of s and the rest\n",
    "        - (split (list 3 4 5 6 7 8) 3)\n",
    "        - ((3 4 5) (6 7 8))"
   ]
  },
  {
   "cell_type": "code",
   "execution_count": null,
   "metadata": {
    "vscode": {
     "languageId": "plaintext"
    }
   },
   "outputs": [],
   "source": [
    "(define (split s n)\n",
    "    (define (prefix s n)\n",
    "        (if (zero? n) nil (cons (car s) (prefix (cdr s) (- n 1))))\n",
    "    )\n",
    "    (define (suffix s n)\n",
    "        (if (zero? n) s (suffix (cdr s) (- n 1)))\n",
    "    )\n",
    "    (list (prefix s n) (suffix s n))\n",
    ")"
   ]
  },
  {
   "cell_type": "markdown",
   "metadata": {},
   "source": [
    "# Symbolic Programming\n",
    "- Symbols normally refer to values; how do we refer to symbols?"
   ]
  },
  {
   "cell_type": "code",
   "execution_count": null,
   "metadata": {
    "vscode": {
     "languageId": "plaintext"
    }
   },
   "outputs": [],
   "source": [
    "scm> (define a 1)\n",
    "scm> (define b 2)\n",
    "scm> (list a b)\n",
    "(1 2)"
   ]
  },
  {
   "cell_type": "markdown",
   "metadata": {},
   "source": [
    "- Quotation is used to refer to symbols directly in Lisp."
   ]
  },
  {
   "cell_type": "code",
   "execution_count": null,
   "metadata": {
    "vscode": {
     "languageId": "plaintext"
    }
   },
   "outputs": [],
   "source": [
    "scm> (list 'a 'b)\n",
    "(a b)\n",
    "scm> (define 'a b)\n",
    "(a 2)"
   ]
  },
  {
   "cell_type": "markdown",
   "metadata": {},
   "source": [
    "- Quotation can also be applied to combination to form lists."
   ]
  },
  {
   "cell_type": "code",
   "execution_count": null,
   "metadata": {
    "vscode": {
     "languageId": "plaintext"
    }
   },
   "outputs": [],
   "source": [
    "scm> `(a b c)\n",
    "scm> (car `(a b c))\n",
    "a"
   ]
  },
  {
   "cell_type": "markdown",
   "metadata": {},
   "source": [
    "- we may also recover the value of a symbol from a quotation by simply `eval` the symbol."
   ]
  },
  {
   "cell_type": "markdown",
   "metadata": {},
   "source": [
    "scm> (define a (+ 3 3))\n",
    "scm> (define t `(a b c))\n",
    "scm> (eval (car t))\n",
    "6"
   ]
  }
 ],
 "metadata": {
  "kernelspec": {
   "display_name": "Python 3",
   "language": "python",
   "name": "python3"
  },
  "language_info": {
   "codemirror_mode": {
    "name": "ipython",
    "version": 3
   },
   "file_extension": ".py",
   "mimetype": "text/x-python",
   "name": "python",
   "nbconvert_exporter": "python",
   "pygments_lexer": "ipython3",
   "version": "3.10.12"
  }
 },
 "nbformat": 4,
 "nbformat_minor": 2
}
