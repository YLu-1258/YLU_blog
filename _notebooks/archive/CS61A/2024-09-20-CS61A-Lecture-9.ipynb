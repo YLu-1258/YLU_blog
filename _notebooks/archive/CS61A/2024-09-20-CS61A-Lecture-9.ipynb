{
 "cells": [
  {
   "cell_type": "markdown",
   "metadata": {},
   "source": [
    "---\n",
    "- title: \"'CS61A: Lecture 9'\"\n",
    "- author: alex\n",
    "- badges: true\n",
    "- comments: true\n",
    "- categories: [CS61A]\n",
    "- date: 2024-09-18 12:00:00 -0800\n",
    "- tags: [CS61A]\n",
    "---"
   ]
  },
  {
   "cell_type": "markdown",
   "metadata": {},
   "source": [
    "# Tree Recursion\n",
    "## Recursion Review\n",
    "- How to Know That a Recursive Implementation is Correct:\n",
    "    - **Tracing:** Diagram the whole computational process (only feasilbe for small examples/cases)\n",
    "    - **Induction:** Check f(0), then check that f(n) is correct as long as f(n-1) .. f(0) are.\n",
    "    - **Abstraction:** Assume f is correct (on smaller examples), then use it to implement f.\n",
    "- We can also trace out program to see what functions are called and what their respective return value is."
   ]
  },
  {
   "cell_type": "code",
   "execution_count": 2,
   "metadata": {},
   "outputs": [
    {
     "name": "stdout",
     "output_type": "stream",
     "text": [
      "fact(3):\n",
      "    fact(2):\n",
      "        fact(1):\n",
      "            fact(0):\n",
      "            fact(0) -> 1\n",
      "        fact(1) -> 1\n",
      "    fact(2) -> 2\n",
      "fact(3) -> 6\n"
     ]
    },
    {
     "data": {
      "text/plain": [
       "6"
      ]
     },
     "execution_count": 2,
     "metadata": {},
     "output_type": "execute_result"
    }
   ],
   "source": [
    "from ucb import trace\n",
    "\n",
    "@trace\n",
    "def fact(n):\n",
    "    if n == 0:\n",
    "        return 1\n",
    "    else:\n",
    "        return n * fact(n-1)\n",
    "\n",
    "fact(3)"
   ]
  },
  {
   "cell_type": "markdown",
   "metadata": {},
   "source": [
    "- Recursion is reducing down a multi-step problem down to two steps: Our current step, and then followed by trusting that the rest of the process works."
   ]
  },
  {
   "cell_type": "code",
   "execution_count": 6,
   "metadata": {},
   "outputs": [
    {
     "data": {
      "text/plain": [
       "True"
      ]
     },
     "execution_count": 6,
     "metadata": {},
     "output_type": "execute_result"
    }
   ],
   "source": [
    "def streak(n):\n",
    "    \"\"\"Return True if all the digits in positive integer n are the same.\n",
    "    \n",
    "    >>> streak(22222)\n",
    "    True\n",
    "    >>> streak(4)\n",
    "    True\n",
    "    >>> streak(2222322)\n",
    "    False\n",
    "    \"\"\"\n",
    "    return (n>=0 and n <=9) or (n>9 and (n%10 == n//10%10) and streak(n//10))\n",
    "\n",
    "streak(2)"
   ]
  },
  {
   "cell_type": "markdown",
   "metadata": {},
   "source": [
    "## Mutual Recursion\n",
    "- Two functions f and g are mutually recursive if g calls g and g calls f.\n"
   ]
  },
  {
   "cell_type": "code",
   "execution_count": 16,
   "metadata": {},
   "outputs": [
    {
     "name": "stdout",
     "output_type": "stream",
     "text": [
      "3\n",
      "37\n",
      "173\n",
      "641\n"
     ]
    },
    {
     "data": {
      "text/plain": [
       "4"
      ]
     },
     "execution_count": 16,
     "metadata": {},
     "output_type": "execute_result"
    }
   ],
   "source": [
    "def unique_prime_factors(n):\n",
    "    \"\"\"Return the number of unique prime factors of n.\n",
    "    >>> unique_prime+factors(51)\n",
    "    2\n",
    "    >>> unique_prime_factors(27)\n",
    "    1\n",
    "    >>> unique_prime_factors(120)\n",
    "    2\n",
    "    \"\"\"\n",
    "    k = smallest_factor(n)\n",
    "    print(k)\n",
    "    def no_k(n):\n",
    "        \"\"\"Return the number of unique prime factors of n other than k\"\"\"\n",
    "        if n == 1:\n",
    "            return 0\n",
    "        elif n % k != 0:\n",
    "            \n",
    "            return unique_prime_factors(n) # Recalculate k and solve. Every time we hit a different prime, call this and add 1\n",
    "        else:\n",
    "            return no_k(n//k) # See if k even divides again\n",
    "    return 1+no_k(n)\n",
    "\n",
    "def smallest_factor(n):\n",
    "    factor = 2\n",
    "    while n % factor != 0:\n",
    "        factor+=1\n",
    "    return factor\n",
    "\n",
    "unique_prime_factors(12309123)"
   ]
  },
  {
   "cell_type": "markdown",
   "metadata": {},
   "source": [
    "## Tree Recursion\n",
    "### Counting Partitions\n",
    ">>> The number of partitions of a positive integer n, using parts up to size m, is the number of ways in which n can be expressed as the sum of positive integer parts up to m.\n",
    "\n"
   ]
  },
  {
   "cell_type": "code",
   "execution_count": 20,
   "metadata": {},
   "outputs": [
    {
     "data": {
      "text/plain": [
       "9"
      ]
     },
     "execution_count": 20,
     "metadata": {},
     "output_type": "execute_result"
    }
   ],
   "source": [
    "def count_partitions(n, m):\n",
    "    if (n == 0): # Happens when n == m, count partitions is called when n = 0, which should return a total of 1 ways of getting the number\n",
    "        return 1\n",
    "    elif n < 0: # if m is bigger than n, it is impossible to count to n with m\n",
    "        return 0\n",
    "    elif m == 0: # How many ways to get to n with 0 numbers??? 0!!!!\n",
    "        return 0\n",
    "    else:\n",
    "        with_m = count_partitions(n-m, m)\n",
    "        without_m = count_partitions(n, m-1)\n",
    "        return with_m + without_m\n",
    "    \n",
    "count_partitions(6,4)"
   ]
  },
  {
   "cell_type": "markdown",
   "metadata": {},
   "source": [
    "# Spring 2023 Midterm 2 Question 5\n",
    "- Definition. When parking vehicles in a row, a motercycle takes up 1 parking spot and a car takes up 2 adjacent parking spots. A string of length n can represent n adjacent parking spots using % for a motocycle, <> for a car, and . for an enpty spot.\n",
    "\n",
    ">>> Implement count_park, which returns the number of ways that vehicles can be parked in n adjacent parking spots for positive integer n. Some or all spots can be empty."
   ]
  },
  {
   "cell_type": "code",
   "execution_count": 33,
   "metadata": {},
   "outputs": [
    {
     "data": {
      "text/plain": [
       "29"
      ]
     },
     "execution_count": 33,
     "metadata": {},
     "output_type": "execute_result"
    }
   ],
   "source": [
    "def count_park(n):\n",
    "    \"\"\"Count the ways to park cars and motocycles in n adjacent spots.\n",
    "    >>> count_park(1)\n",
    "    2\n",
    "    >>> count_park(2)\n",
    "    \"\"\"\n",
    "    if n < 0:\n",
    "        return 0\n",
    "    elif n == 0:\n",
    "        return 1\n",
    "    else:\n",
    "        return 2*count_park(n-1) + 1*count_park(n-2)\n",
    "    \n",
    "count_park(4)"
   ]
  }
 ],
 "metadata": {
  "kernelspec": {
   "display_name": "Python 3",
   "language": "python",
   "name": "python3"
  },
  "language_info": {
   "codemirror_mode": {
    "name": "ipython",
    "version": 3
   },
   "file_extension": ".py",
   "mimetype": "text/x-python",
   "name": "python",
   "nbconvert_exporter": "python",
   "pygments_lexer": "ipython3",
   "version": "3.10.12"
  }
 },
 "nbformat": 4,
 "nbformat_minor": 2
}
