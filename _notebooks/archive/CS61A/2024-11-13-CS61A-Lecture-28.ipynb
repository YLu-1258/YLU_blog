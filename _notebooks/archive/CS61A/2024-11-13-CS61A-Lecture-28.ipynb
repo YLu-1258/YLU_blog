{
 "cells": [
  {
   "cell_type": "markdown",
   "metadata": {},
   "source": [
    "---\n",
    "- title: \"'CS61A: Lecture 28'\"\n",
    "- author: alex\n",
    "- badges: true\n",
    "- comments: true\n",
    "- categories: [CS61A]\n",
    "- date: 2024-11-13 1:00:00 -0800\n",
    "- math: true\n",
    "- tags: [CS61A, Scheme]\n",
    "---"
   ]
  },
  {
   "cell_type": "markdown",
   "metadata": {},
   "source": [
    "# Interpreters\n",
    "- The scheme interpreter represents expressions as Pairs.\n",
    "    - For the operands, we must evaluate each of the values individually. This is because we may have compound expressions, where operands themselves may be expressions,\n",
    "- Within an interpreter, we have an `eval` and an `apply`\n",
    "    - `eval`: evaluates values and expressions\n",
    "    - `apply`: Applies operands to an operator\n",
    "- Both eval and apply may call each other. Eval requires a working environment, Apply needs to create an environment.\n",
    "\n",
    "## Eval\n",
    "- Base cases:\n",
    "    - Primitive values (numbers)\n",
    "    - Look up values in the environment bound to symbols\n",
    "- Recursive calls:\n",
    "    - Eval(operator, operands) of call expressions\n",
    "    - Apply(procedure, arguments)\n",
    "    - Eval(sub-expressions) of special forms\n",
    "\n",
    "## Apply\n",
    "- Base cases: \n",
    "    - Built-in primitive procedures\n",
    "- Recursive calls:\n",
    "    - Eval(body) of user-defined procedures\n",
    "\n",
    "## Steps of an interpreter\n",
    "- **Tokenization/Parsing**: Converts text ito Python representation of Scheme expressions:\n",
    "    - Numbers are represented as numbers\n",
    "    - Symbols are represented as strings\n",
    "    - Lists are represented as instances of the Pair class\n",
    "- **Evaluation**: Converts scheme expressions to values while executing side effects.\n",
    "- Ex: Return the symbol of a define expression\n"
   ]
  },
  {
   "cell_type": "code",
   "execution_count": null,
   "metadata": {},
   "outputs": [],
   "source": [
    "def symbol(exp):\n",
    "    assert exp.first == 'define' and exp.rest is not nil and exp.rest.rest is not nil\n",
    "    signature = exp.rest.first\n",
    "    if scheme_symboolp(signature):\n",
    "        return signature\n",
    "    else:\n",
    "        return signature.first"
   ]
  },
  {
   "cell_type": "markdown",
   "metadata": {},
   "source": [
    "# Scehem Evaluation\n",
    "- The `scheme+eval` function chooses behavior based on expression form:\n",
    "    - Symbols are looked up in the current environment\n",
    "    - Self-evaluating expressions are returned as values\n",
    "    - All other legal expressions are represented as Scheme lists, called combinations\n",
    "\n",
    "# Lambda Expressions\n",
    "- Lambda expressions evaluate to user-defined procedures\n",
    "    - `(lambda (formal parameters) (<body>))`\n",
    "- It is represented in Python through a `LambdaProcedure` class."
   ]
  },
  {
   "cell_type": "code",
   "execution_count": null,
   "metadata": {},
   "outputs": [],
   "source": [
    "class LambdaProcedure:\n",
    "    def __init__(self, formals, body, env):\n",
    "        self.formals = formals # A scheme list of symbols\n",
    "        self.body = body # A scheme list of expressions\n",
    "        self.env = env # A frame instance"
   ]
  },
  {
   "cell_type": "markdown",
   "metadata": {},
   "source": [
    "# Frames and Environments\n",
    "- A frame represents an environment by having a parent frame\n",
    "- Frames are Python intsnace with methods `lookup` and `define`"
   ]
  },
  {
   "cell_type": "code",
   "execution_count": null,
   "metadata": {},
   "outputs": [],
   "source": [
    "g = Frame(None)\n",
    "f = Frame(g)\n",
    "g.define('y', 3)\n",
    "g.define('z', 5)\n",
    "f.define('x', 2)\n",
    "f.define('z', 4)\n",
    "g.lookup('y') # 3\n",
    "f.lookup('x') # 2\n",
    "f.lookup('z') # 4"
   ]
  }
 ],
 "metadata": {
  "kernelspec": {
   "display_name": "Python 3",
   "language": "python",
   "name": "python3"
  },
  "language_info": {
   "codemirror_mode": {
    "name": "ipython",
    "version": 3
   },
   "file_extension": ".py",
   "mimetype": "text/x-python",
   "name": "python",
   "nbconvert_exporter": "python",
   "pygments_lexer": "ipython3",
   "version": "3.10.12"
  }
 },
 "nbformat": 4,
 "nbformat_minor": 2
}
