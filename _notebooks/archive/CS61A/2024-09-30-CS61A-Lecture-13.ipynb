{
 "cells": [
  {
   "cell_type": "markdown",
   "metadata": {},
   "source": [
    "---\n",
    "- title: \"'CS61A: Lecture 13'\"\n",
    "- author: alex\n",
    "- badges: true\n",
    "- comments: true\n",
    "- categories: [CS61A]\n",
    "- date: 2024-09-27 12:00:00 -0800\n",
    "- tags: [CS61A]\n",
    "---"
   ]
  },
  {
   "cell_type": "markdown",
   "metadata": {},
   "source": [
    "# Data Abstraction\n",
    "- Not inherently implemented within the python interpreter. A set of behaviors defined by the programmer.\n",
    "    - We may refer to the data and the parts without any worry about how they are implemented.\n",
    "- We do this because the code becomes easier to revist and revise. We many edit features at each level of abstraction without any contradictions or mistakes to other prtions of the program.\n",
    "- Ex: Line\n",
    "\n"
   ]
  },
  {
   "cell_type": "code",
   "execution_count": 3,
   "metadata": {},
   "outputs": [
    {
     "name": "stdout",
     "output_type": "stream",
     "text": [
      "slope: 3\n",
      "line value at 2: 2\n",
      "are parallel? True\n",
      "are increasing? True\n"
     ]
    }
   ],
   "source": [
    "def line(slope, intercept):\n",
    "    return lambda x: slope * x + intercept\n",
    "\n",
    "def slope(f):\n",
    "    return f(1)-f(0)\n",
    "\n",
    "def y_intercept(f):\n",
    "    return f(0)\n",
    "\n",
    "#### Abstraction barrier\n",
    "#### We do not directly refer to the line type, or how it is implemented.\n",
    "def parallel(f, g):\n",
    "    return slope(f) == slope(g)\n",
    "\n",
    "def increasing(f):\n",
    "    return slope(f) > 0\n",
    "\n",
    "f = line(3,5)\n",
    "g = line(3, 10)\n",
    "print(\"slope:\", slope(f))\n",
    "print(\"line value at 2:\", 2)\n",
    "print(\"are parallel?\", parallel(f, g))\n",
    "print(\"are increasing?\", increasing(f))"
   ]
  },
  {
   "cell_type": "markdown",
   "metadata": {},
   "source": [
    "# Trees\n",
    "## Tree Abstraction\n",
    "- A tree is a hierarchical abstraction to contain data.\n",
    "    - A general data structure. can contain numbers, letters, etc.\n",
    "    - The tree can be categorized into branches and roots. \n",
    "        - Every branch has a root.\n",
    "        - Every branch is a tree.\n",
    "        - A tree with no branches is called a leaf\n",
    "        - A tree starts at the root\n",
    "    - A tree can also be described relatively\n",
    "        - Every location in a tree is called a node\n",
    "        - Each node as a lable that can be any value\n",
    "        - One node can be the parent/child of another\n",
    "        - The top node is the root node\n",
    "    - A path is a collection of nodes that enable us to travel from one root node to another child node.\n",
    "\n",
    "## Using the Tree Abstraction\n",
    "- For a tree t, you can only:\n",
    "    - Get the label for the root of the tree: `label(t)`\n",
    "    - Get the list of branches for the tree: `branches(t)`\n",
    "    - Get the branch at an index i, which is a tree: `branches(t)[i]`\n",
    "    - Determine whether the tree is a leaf: `is_leaf(t)`\n",
    "    - Treat t as a value: `return t`, `f(t)`, `[t]`, `s=t`"
   ]
  },
  {
   "cell_type": "code",
   "execution_count": 11,
   "metadata": {},
   "outputs": [
    {
     "name": "stdout",
     "output_type": "stream",
     "text": [
      "7\n",
      "5\n"
     ]
    }
   ],
   "source": [
    "from tree import *\n",
    "tree(3, [tree(1), tree(2, [tree(1), tree(1)])])\n",
    "u = tree(3, [tree(4, [tree(5)]), tree(7)])\n",
    "print(label(branches(u)[1]))\n",
    "print(label(branches(branches(u)[0]))[0])"
   ]
  },
  {
   "cell_type": "markdown",
   "metadata": {},
   "source": [
    "# Tree Processing Uses Recursion\n",
    "- We always use recursion to interpret or traverse a tree."
   ]
  },
  {
   "cell_type": "code",
   "execution_count": null,
   "metadata": {},
   "outputs": [],
   "source": [
    "def count_leaves(t):\n",
    "    \"\"\"Count the leaves of a tree.\"\"\"\n",
    "    if is_leaf(t):\n",
    "        return 1\n",
    "    else:\n",
    "        branch_counts = [count_leaves(b) for b in branches(t)]\n",
    "        return sum(branch_counts)"
   ]
  },
  {
   "cell_type": "markdown",
   "metadata": {},
   "source": [
    "## Writing Recursive Functions\n",
    "- What recursive calls will you make?\n",
    "- What type of values do they return?\n",
    "- What do the possible return values mean?\n",
    "- How can you use those return values to complete your implementation?"
   ]
  },
  {
   "cell_type": "code",
   "execution_count": 22,
   "metadata": {},
   "outputs": [
    {
     "data": {
      "text/plain": [
       "7"
      ]
     },
     "execution_count": 22,
     "metadata": {},
     "output_type": "execute_result"
    }
   ],
   "source": [
    "def largest_label(t):\n",
    "    \"\"\"Return the largest label in tree t.\"\"\"\n",
    "    if is_leaf(t):\n",
    "        return label(t)\n",
    "    else:\n",
    "        return max([largest_label(b) for b in branches(t)] + [label(t)])\n",
    "    \n",
    "t1 = tree(3, [tree(4, [tree(5)]), tree(7), tree(1)])\n",
    "largest_label(t1)"
   ]
  },
  {
   "cell_type": "code",
   "execution_count": 25,
   "metadata": {},
   "outputs": [
    {
     "name": "stdout",
     "output_type": "stream",
     "text": [
      "4\n",
      "5\n",
      "7\n"
     ]
    }
   ],
   "source": [
    "def above_root(t):\n",
    "    \"\"\"print all the lavels of t that are larger tan the root label.\"\"\"\n",
    "    def process(u):\n",
    "        if label(u) > label(t):\n",
    "            print(label(u))\n",
    "        for b in branches(u):\n",
    "            process(b)\n",
    "    process(t)\n",
    "\n",
    "above_root(t1)"
   ]
  }
 ],
 "metadata": {
  "kernelspec": {
   "display_name": "Python 3",
   "language": "python",
   "name": "python3"
  },
  "language_info": {
   "codemirror_mode": {
    "name": "ipython",
    "version": 3
   },
   "file_extension": ".py",
   "mimetype": "text/x-python",
   "name": "python",
   "nbconvert_exporter": "python",
   "pygments_lexer": "ipython3",
   "version": "3.10.12"
  }
 },
 "nbformat": 4,
 "nbformat_minor": 2
}
