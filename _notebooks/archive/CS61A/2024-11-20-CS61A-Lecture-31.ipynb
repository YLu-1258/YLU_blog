{
 "cells": [
  {
   "cell_type": "markdown",
   "metadata": {},
   "source": [
    "---\n",
    "- title: \"'CS61A: Lecture 31'\"\n",
    "- author: alex\n",
    "- badges: true\n",
    "- comments: true\n",
    "- categories: [CS61A]\n",
    "- date: 2024-11-20 1:00:00 -0800\n",
    "- math: true\n",
    "- tags: [CS61A, SQL]\n",
    "---"
   ]
  },
  {
   "cell_type": "markdown",
   "metadata": {},
   "source": [
    "# Databases\n",
    "- Database management systems (DBMS) contains tables with records, which are rows that have a value for each column.\n",
    "    - Every table has columns and rows\n",
    "    - A column has a name and a type\n",
    "    - A row has a value for each column\n",
    "- The Structured Query Language (SQL) is perhaps the most widely used programming language used to manage databases.\n",
    "    - It is a domain-specific language.\n",
    "    - It is also a declarative programming language.\n",
    "\n",
    "## Declarative Programming\n",
    "- In **Declarative programming**: \n",
    "    - A program is a description of the desired result\n",
    "    - The interpreter will fiture out how to generate the result.\n",
    "- This contrasts to **Imperative Programming** where we have to specify the full instructions about how to get there.\n",
    "- Because of this, Imerpative programming is a lot more versatile, whereas the declarative language is more domain specific.\n",
    "\n",
    "# Structured Query Language (SQL)\n",
    "## Naming Tables\n",
    "- A **select** statement creates a new table and displays it.\n",
    "    - We \"create\" a new version of the table and that table is what we display.\n",
    "- A **create table** statement names the result of a **select** statement. This actually creates a new table and assigns a name to it.\n",
    "\n",
    "## Select Statements Project Tables\n",
    "- A **select** statement can specify an input table using a **from** clause\n",
    "- A subset of the rows of the input table can be selected using a **where** clause\n",
    "- An ordering over the remaining rows can be declared using an **order by** clause\n",
    "- Syntax: `SELECT <column names> FROM <table name> WHERE <condition> ORDER BY <order>;`\n",
    "    - Column names are seperated by commas\n",
    "- Syntax: `SELECT <expression> AS <name>, <expression> aAS <name>,...`\n",
    "- We may also create a table with select statements\n",
    "    - `CREATE TABLE <track_names> AS SELECT <column names> FROM <table name> WHERE <condition> ORDER BY <order>;`\n",
    "\n",
    "## DROP\n",
    "- We may drop (remove) a table.\n",
    "\n",
    "## Commands\n",
    "- built-in commands vs SQL statements\n"
   ]
  }
 ],
 "metadata": {
  "language_info": {
   "name": "python"
  }
 },
 "nbformat": 4,
 "nbformat_minor": 2
}
