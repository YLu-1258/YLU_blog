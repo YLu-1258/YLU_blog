{
 "cells": [
  {
   "cell_type": "markdown",
   "metadata": {},
   "source": [
    "---\n",
    "- title: \"'CS61A: Composition'\"\n",
    "- author: alex\n",
    "- badges: true\n",
    "- comments: true\n",
    "- categories: [CS61A]\n",
    "- date: 2024-10-21 1:00:00 -0800\n",
    "- math: true\n",
    "- tags: [CS61A, Linked Lists, OOP, Composition]\n",
    "---"
   ]
  },
  {
   "cell_type": "markdown",
   "metadata": {},
   "source": [
    "# Linked Lists\n",
    "- A type of recursive data structure that stores a sequence of values.\n",
    "- A linked list is either\n",
    "    - empty\n",
    "    - a first value and the rest of the linked list\n",
    "- Thus, any non-empty linked list contains the value at the current node, and a smaller linked-list that represents the rest of the list.  \n",
    "![Linked List Structure](/assets/img/CS61A/Composition/linkedlist.png)\n",
    "- The concept of composition is used to create the structure of a linked list.\n",
    "    - **Composition**: The act of assigning an object to an attribute of another object. \n",
    "- For 61A, we construct linked lists in the following manner:\n",
    "    - `Link(3, Link(4, Link(5, Link.empty)))`\n",
    "    - To evaluate this expression, we must first evaluate the linked list for the last node 5, then node 4, and then the node 3.\n",
    "- Implementation:"
   ]
  },
  {
   "cell_type": "code",
   "execution_count": 1,
   "metadata": {},
   "outputs": [],
   "source": [
    "class Link:\n",
    "    # Empty tuple as it has a length of 0\n",
    "    empty = ()\n",
    "    def __init__(self, first, rest=empty):\n",
    "        # We must ensure that rest is either a Link instance, or Link.empty\n",
    "        assert rest is Link.empty or isinstance(rest, Link)\n",
    "        self.first = first\n",
    "        self.rest = rest\n",
    "\n",
    "    def __repr__(self):\n",
    "        if self.rest:\n",
    "            rest_repr = ', ' + repr(self.rest)\n",
    "        else:\n",
    "            rest_repr = ''\n",
    "        return 'Link(' + repr(self.first) + rest_repr + ')'\n",
    "    \n",
    "    def __str__(self):\n",
    "        string = '('\n",
    "        while self.rest is not Link.empty:\n",
    "            string = string + str(self.first) + \"->\"\n",
    "            self = self.rest\n",
    "        return string + str(self.first) + \")\""
   ]
  },
  {
   "cell_type": "markdown",
   "metadata": {},
   "source": [
    "- In the implementation above, we used the `isinstance` function to test if an object is an instance of a class or of the subclass of a class.\n",
    "    - In other words, we can also have rest be an instance of a subclass of Link.\n",
    "    - This enables us more flexibility in our implementation.\n",
    "- Ex:"
   ]
  },
  {
   "cell_type": "code",
   "execution_count": 2,
   "metadata": {},
   "outputs": [
    {
     "name": "stdout",
     "output_type": "stream",
     "text": [
      "s.first: 3\n",
      "s.rest: (4->5)\n",
      "s.rest.first: 4\n",
      "s.rest.rest.first: 5\n",
      "Updated the second value of s to 7\n",
      "s: (3->7->5)\n"
     ]
    }
   ],
   "source": [
    "s = Link(3, Link(4, Link(5)))\n",
    "print(\"s.first:\", s.first)\n",
    "print(\"s.rest:\", s.rest)\n",
    "print(\"s.rest.first:\", s.rest.first)\n",
    "print(\"s.rest.rest.first:\", s.rest.rest.first)\n",
    "s.rest.first = 7\n",
    "print(\"Updated the second value of s to 7\")\n",
    "print(\"s:\", s)"
   ]
  },
  {
   "cell_type": "markdown",
   "metadata": {},
   "source": [
    "- It is very efficient to create new linked lists from old linked lists, as all we need to do is change or add new references."
   ]
  },
  {
   "cell_type": "code",
   "execution_count": 3,
   "metadata": {},
   "outputs": [
    {
     "name": "stdout",
     "output_type": "stream",
     "text": [
      "(3->7->6->5)\n"
     ]
    }
   ],
   "source": [
    "# We want to create a new Linked list that has the values of 3,7,6,5\n",
    "t = s\n",
    "new_node = Link(6, t.rest.rest)\n",
    "t.rest.rest = new_node\n",
    "print(t)"
   ]
  },
  {
   "cell_type": "markdown",
   "metadata": {},
   "source": [
    "# Linked List Processing\n",
    "- Recursion is commonly used in linked list processing\n",
    "\n",
    "## Example: Range, Map and Filter for Linked Lists\n",
    "- We want to create `map_link`, `filter_link`, and `range_link` such that:"
   ]
  },
  {
   "cell_type": "code",
   "execution_count": null,
   "metadata": {},
   "outputs": [],
   "source": [
    "square, odd = lambda x: x**2, lambda x: x%2==1\n",
    "map_link(square, filter_link(odd, range_link(1,6))) -> Link(1, Link(9, Link(25)))"
   ]
  },
  {
   "cell_type": "code",
   "execution_count": 10,
   "metadata": {},
   "outputs": [
    {
     "data": {
      "text/plain": [
       "Link(1, Link(9, Link(25)))"
      ]
     },
     "execution_count": 10,
     "metadata": {},
     "output_type": "execute_result"
    }
   ],
   "source": [
    "square, odd = lambda x: x * x, lambda x: x%2==1\n",
    "def range_link(start, end):\n",
    "    \"\"\"Return a Link containing consecutive intergers from start to end.\n",
    "    \n",
    "    >>> range_link(3, 6)\n",
    "    Link(3, Link(4, Link(5)))\n",
    "    \"\"\"\n",
    "    if start >= end:\n",
    "        return Link.empty\n",
    "    return Link(start, range_link(start+1, end))\n",
    "\n",
    "def filter_link(func, ll):\n",
    "    \"\"\"Return a Link that contains only the elements x of Link ll for which f(x) is a true value.\n",
    "    \n",
    "    >>> filter_link(odd, range_link(3, 6))\n",
    "    Link(3, Link(5))\n",
    "    \"\"\"\n",
    "    if ll == Link.empty:\n",
    "        return ll\n",
    "    elif func(ll.first):\n",
    "        return Link(ll.first, filter_link(func, ll.rest))\n",
    "    return Link(ll.rest.first, filter_link(func, ll.rest.rest))\n",
    "\n",
    "def map_link(func, ll):\n",
    "    \"\"\"Return a Link that contains f(x) for each x in Link ll.\n",
    "    \n",
    "    >>> map_link(square, range_link(3, 6))\n",
    "    Link(9, Link(16, Link(25)))\n",
    "    \"\"\"\n",
    "    if ll == Link.empty:\n",
    "        return ll\n",
    "    return Link(func(ll.first), map_link(func, ll.rest))\n",
    "\n",
    "map_link(square, filter_link(odd, range_link(1, 6)))\n"
   ]
  },
  {
   "cell_type": "markdown",
   "metadata": {},
   "source": [
    "- For the most part, my implementation is consistent with DeNero's. However, we did differ on the filter_link implementation"
   ]
  },
  {
   "cell_type": "code",
   "execution_count": 11,
   "metadata": {},
   "outputs": [
    {
     "data": {
      "text/plain": [
       "Link(1, Link(9, Link(25)))"
      ]
     },
     "execution_count": 11,
     "metadata": {},
     "output_type": "execute_result"
    }
   ],
   "source": [
    "def denero_filter_link(func, ll):\n",
    "    if ll is Link.empty:\n",
    "        return ll\n",
    "    filtered_rest = denero_filter_link(func, ll.rest)\n",
    "    if func(ll.first):\n",
    "        return Link(ll.first, filtered_rest)\n",
    "    return filtered_rest\n",
    "\n",
    "map_link(square, denero_filter_link(odd, range_link(1, 6)))"
   ]
  },
  {
   "cell_type": "markdown",
   "metadata": {},
   "source": [
    "# Linked List Mutation\n",
    "- Because a linked list is an user-defined class, all of its attributes may be changed or mutated.\n",
    "- We may change the first and rest attributes of a Link\n",
    "    - The rest of a linked list may contain the linked list as a sub-list\n",
    "    - What we would have then is a cyclical linked-list\n",
    "- Ex:"
   ]
  },
  {
   "cell_type": "code",
   "execution_count": 12,
   "metadata": {},
   "outputs": [
    {
     "data": {
      "text/plain": [
       "2"
      ]
     },
     "execution_count": 12,
     "metadata": {},
     "output_type": "execute_result"
    }
   ],
   "source": [
    "s = Link(1, Link(2, Link(3)))\n",
    "s.first = 5\n",
    "t = s.rest\n",
    "t.rest = s\n",
    "s.rest.rest.rest.rest.rest.rest.rest.first # returns 2"
   ]
  },
  {
   "cell_type": "markdown",
   "metadata": {},
   "source": [
    "- Here is the flow of the program:\n",
    "    - s is defined as 1->2->3\n",
    "    - s is modified to 5->2->3\n",
    "    - t is created as a reference to s.rest\n",
    "    - t.rest is set to s itself, so s.rest.rest = s\n",
    "    - thus, s = 5->2->5->2->5->2->5->2...\n",
    "\n",
    "# Linked List Mutation\n",
    "- Ex: Add an element into the appropriate position in an ordered linked-list with no repeats"
   ]
  },
  {
   "cell_type": "code",
   "execution_count": 31,
   "metadata": {},
   "outputs": [
    {
     "data": {
      "text/plain": [
       "Link(0, Link(1, Link(2, Link(3, Link(4, Link(5))))))"
      ]
     },
     "execution_count": 31,
     "metadata": {},
     "output_type": "execute_result"
    }
   ],
   "source": [
    "def add(ll, v):\n",
    "    \"\"\"Add v to an ordered list ll with no repeats, returning modified ll.\"\"\"\n",
    "    if ll is Link.empty:\n",
    "        return Link(v)\n",
    "    elif ll.first == v:\n",
    "        return Link(ll.first, ll.rest)\n",
    "    elif ll.first > v:\n",
    "        return Link(v, ll)\n",
    "    else:\n",
    "        return Link(ll.first, add(ll.rest, v))\n",
    "\n",
    "s = Link(1, Link(3, Link(4)))\n",
    "s = add(s, 0)\n",
    "s = add(s, 2)\n",
    "s = add(s, 3)\n",
    "s = add(s, 5)\n",
    "s"
   ]
  },
  {
   "cell_type": "markdown",
   "metadata": {},
   "source": [
    "- My implementation was a little bit different from DeNero's implementation:"
   ]
  },
  {
   "cell_type": "code",
   "execution_count": 38,
   "metadata": {},
   "outputs": [
    {
     "data": {
      "text/plain": [
       "Link(0, Link(1, Link(2, Link(3, Link(4, Link(5))))))"
      ]
     },
     "execution_count": 38,
     "metadata": {},
     "output_type": "execute_result"
    }
   ],
   "source": [
    "def denero_add(ll, v):\n",
    "    assert s is not Link.empty\n",
    "    if ll.first > v:\n",
    "        ll.first, ll.rest = v, Link(ll.first, ll.rest)\n",
    "    elif ll.first < v and ll.rest is Link.empty:\n",
    "        ll.rest = Link(v)\n",
    "    elif ll.first < v:\n",
    "        denero_add(ll.rest, v)\n",
    "    return ll\n",
    "\n",
    "s = Link(1, Link(3, Link(4)))\n",
    "s = denero_add(s, 0)\n",
    "s = denero_add(s, 2)\n",
    "s = denero_add(s, 3)\n",
    "s = denero_add(s, 5)\n",
    "s"
   ]
  },
  {
   "cell_type": "markdown",
   "metadata": {},
   "source": [
    "# Tree Class\n",
    "- The tree class is anothe recursive computational data structure.\n",
    "- We may either think about trees recursively (subtress) or relatively (parents and childs)\n",
    "- A path is a sequence of nodes where each element is either the parent or child of a previous nodes. \n",
    "- A Tree has a label and a list of branches where each branch is also a Tree\n",
    "- Thus, we may also define a tree using composition and OOP."
   ]
  },
  {
   "cell_type": "code",
   "execution_count": 65,
   "metadata": {},
   "outputs": [],
   "source": [
    "class Tree:\n",
    "    def __init__(self, label, branches = []):\n",
    "        self.label = label\n",
    "        for branch in branches:\n",
    "            assert isinstance(branch, Tree)\n",
    "        self.branches = list(branches)\n",
    "    \n",
    "    def __repr__(self):\n",
    "        if self.branches:\n",
    "            branch_str = ', ' + repr(self.branches)\n",
    "        else:\n",
    "            branch_str = ''\n",
    "        return 'Tree({0}{1})'.format(repr(self.label), branch_str)\n",
    "    \n",
    "    def __str__(self):\n",
    "        return '\\n'.join(self.indented())\n",
    "    \n",
    "    def indented(self):\n",
    "        lines = []\n",
    "        for b in self.branches:\n",
    "            for line in b.indented():\n",
    "                lines.append('  ' + line)\n",
    "        return [str(self.label)] + lines\n",
    "    \n",
    "    def is_leaf(self):\n",
    "        return not self.branches"
   ]
  },
  {
   "cell_type": "code",
   "execution_count": 49,
   "metadata": {},
   "outputs": [
    {
     "data": {
      "text/plain": [
       "Tree(1)"
      ]
     },
     "execution_count": 49,
     "metadata": {},
     "output_type": "execute_result"
    }
   ],
   "source": [
    "Tree(1)"
   ]
  },
  {
   "cell_type": "code",
   "execution_count": 66,
   "metadata": {},
   "outputs": [
    {
     "data": {
      "text/plain": [
       "Tree(1, [Tree(3), Tree(4)])"
      ]
     },
     "execution_count": 66,
     "metadata": {},
     "output_type": "execute_result"
    }
   ],
   "source": [
    "t = Tree(1, [Tree(3), Tree(4)])\n",
    "t"
   ]
  },
  {
   "cell_type": "code",
   "execution_count": 67,
   "metadata": {},
   "outputs": [
    {
     "name": "stdout",
     "output_type": "stream",
     "text": [
      "1\n",
      "  3\n",
      "  4\n"
     ]
    }
   ],
   "source": [
    "print(t)"
   ]
  },
  {
   "cell_type": "markdown",
   "metadata": {},
   "source": [
    "- Now, we try to create a function to generate a `fib_tree`"
   ]
  },
  {
   "cell_type": "code",
   "execution_count": 73,
   "metadata": {},
   "outputs": [
    {
     "name": "stdout",
     "output_type": "stream",
     "text": [
      "8\n",
      "  3\n",
      "    1\n",
      "      0\n",
      "      1\n",
      "    2\n",
      "      1\n",
      "      1\n",
      "        0\n",
      "        1\n",
      "  5\n",
      "    2\n",
      "      1\n",
      "      1\n",
      "        0\n",
      "        1\n",
      "    3\n",
      "      1\n",
      "        0\n",
      "        1\n",
      "      2\n",
      "        1\n",
      "        1\n",
      "          0\n",
      "          1\n"
     ]
    }
   ],
   "source": [
    "def fib_tree(n):\n",
    "    \"\"\"A fib tree\"\"\"\n",
    "    if n < 2:\n",
    "        return Tree(n)\n",
    "    left = fib_tree(n-2)\n",
    "    right = fib_tree(n-1)\n",
    "    return Tree(left.label + right.label, [left, right])\n",
    "\n",
    "print(fib_tree(6))"
   ]
  },
  {
   "cell_type": "markdown",
   "metadata": {},
   "source": [
    "- We now try to write a functoin that computes a list of leaf labels in a Tree T"
   ]
  },
  {
   "cell_type": "code",
   "execution_count": 78,
   "metadata": {},
   "outputs": [
    {
     "data": {
      "text/plain": [
       "[0, 1, 1, 0, 1, 1, 0, 1, 0, 1, 1, 0, 1]"
      ]
     },
     "execution_count": 78,
     "metadata": {},
     "output_type": "execute_result"
    }
   ],
   "source": [
    "def leaves(t):\n",
    "    \"\"\"Return a list of leaf labels in Tree T.\"\"\"\n",
    "    if t.is_leaf():\n",
    "        return [t.label]\n",
    "    return sum([leaves(b) for b in t.branches], [])\n",
    "\n",
    "leaves(fib_tree(6))"
   ]
  },
  {
   "cell_type": "code",
   "execution_count": 87,
   "metadata": {},
   "outputs": [
    {
     "data": {
      "text/plain": [
       "True"
      ]
     },
     "execution_count": 87,
     "metadata": {},
     "output_type": "execute_result"
    }
   ],
   "source": [
    "def denero_leaves(t):\n",
    "    if t.is_leaf():\n",
    "        return [t.label]\n",
    "    else:\n",
    "        all_leaves = []\n",
    "        for b in t.branches:\n",
    "            all_leaves.extend(leaves(b))\n",
    "        return all_leaves\n",
    "    \n",
    "denero_leaves(fib_tree(6)) == leaves(fib_tree(6))"
   ]
  },
  {
   "cell_type": "markdown",
   "metadata": {},
   "source": [
    "- Finally, we write a function to calculate the height of a tree"
   ]
  },
  {
   "cell_type": "code",
   "execution_count": 81,
   "metadata": {},
   "outputs": [
    {
     "data": {
      "text/plain": [
       "5"
      ]
     },
     "execution_count": 81,
     "metadata": {},
     "output_type": "execute_result"
    }
   ],
   "source": [
    "def height(t):\n",
    "    \"\"\"Return the number of transitions in the longest path in T.\"\"\"\n",
    "    if t.is_leaf():\n",
    "        return 0\n",
    "    return 1+max([height(b) for b in t.branches])\n",
    "\n",
    "height(fib_tree(6))"
   ]
  },
  {
   "cell_type": "markdown",
   "metadata": {},
   "source": [
    "# Tree Mutation\n",
    "- Tree pruning is when we remove certain subtrees from a tree.\n",
    "    - Prune the branches before recursively pruning the branches of branches\n",
    "- Ex: Prune all sub-trees whose label is n"
   ]
  },
  {
   "cell_type": "code",
   "execution_count": 88,
   "metadata": {},
   "outputs": [
    {
     "name": "stdout",
     "output_type": "stream",
     "text": [
      "3\n",
      "  2\n"
     ]
    }
   ],
   "source": [
    "def prune(t, n):\n",
    "    \"\"\"Prne all sub-trees whose label is n.\"\"\"\n",
    "    t.branches = [b for b in t.branches if b.label != n]\n",
    "    for b in t.branches:\n",
    "        prune(b, n)\n",
    "\n",
    "t = fib_tree(4)\n",
    "prune(t, 1)\n",
    "print(t)"
   ]
  }
 ],
 "metadata": {
  "kernelspec": {
   "display_name": "Python 3",
   "language": "python",
   "name": "python3"
  },
  "language_info": {
   "codemirror_mode": {
    "name": "ipython",
    "version": 3
   },
   "file_extension": ".py",
   "mimetype": "text/x-python",
   "name": "python",
   "nbconvert_exporter": "python",
   "pygments_lexer": "ipython3",
   "version": "3.10.12"
  }
 },
 "nbformat": 4,
 "nbformat_minor": 2
}
