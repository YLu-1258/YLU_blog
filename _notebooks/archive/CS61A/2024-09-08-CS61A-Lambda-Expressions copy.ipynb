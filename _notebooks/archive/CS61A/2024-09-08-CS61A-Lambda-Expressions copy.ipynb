{
 "cells": [
  {
   "cell_type": "markdown",
   "metadata": {},
   "source": [
    "---\n",
    "- title: \"'CS61A: Lambda Expressions'\"\n",
    "- author: alex\n",
    "- badges: true\n",
    "- comments: true\n",
    "- categories: [CS61A]\n",
    "- date: 2024-09-08 12:00:00 -0800\n",
    "- tags: [CS61A, Lambda Expressions]\n",
    "---"
   ]
  },
  {
   "cell_type": "markdown",
   "metadata": {},
   "source": [
    "# Lambda Expressions\n",
    "- Expressions that evaluate to a function.\n",
    "    - We can directly assign a name to a function without defining it in our frame with `def`"
   ]
  },
  {
   "cell_type": "code",
   "execution_count": 8,
   "metadata": {},
   "outputs": [
    {
     "data": {
      "text/plain": [
       "121"
      ]
     },
     "execution_count": 8,
     "metadata": {},
     "output_type": "execute_result"
    }
   ],
   "source": [
    "x = 10\n",
    "square = x * x              # This expression evaluates to a number\n",
    "square = lambda x : x * x   # This expression evaluates to a function\n",
    "square(10)"
   ]
  },
  {
   "cell_type": "markdown",
   "metadata": {},
   "source": [
    "- Lambda syntax:\n",
    "    - `lambda <formal parameter> : <return value>`\n",
    "    - \"A function with formal parameter that returns the value of return value.\"\n",
    "- The lambda expression is limited to only have a single expression as its return value.\n",
    "    - Cannot have any additional statements.\n",
    "\n",
    "## Lambda Expressions Versus Def Statements\n",
    "<table>\n",
    "    <tr>\n",
    "        <th>Lambda</th>\n",
    "        <th> Both </th>\n",
    "        <th>Def</th>\n",
    "    </tr>\n",
    "    <tr>\n",
    "        <td><code>square = lambda x: x * x</code></td>\n",
    "        <td></td>\n",
    "        <td>\n",
    "            <code>\n",
    "                def square(x):\n",
    "                    return x * x\n",
    "            </code>\n",
    "        </td>\n",
    "    </tr>\n",
    "    <tr>\n",
    "        <td> First creates a function with no name, then an assignment statement binds the function to the name</td>\n",
    "        <td> Same parent (frame in which they were defined) </td>\n",
    "        <td>Both binding and function creation happens as a byproduct of def statement (intrinsic naming)</td>\n",
    "    </tr>\n",
    "</table>\n",
    "- Hence, the environmental diagrams for lambda functions and def statements are different.\n",
    "    - Instead of writing a name for the lambda, we denote the function and the frame name as \"λ\".\n",
    "    - However, names can still be bound to the function within a frame.\n"
   ]
  }
 ],
 "metadata": {
  "kernelspec": {
   "display_name": "Python 3",
   "language": "python",
   "name": "python3"
  },
  "language_info": {
   "codemirror_mode": {
    "name": "ipython",
    "version": 3
   },
   "file_extension": ".py",
   "mimetype": "text/x-python",
   "name": "python",
   "nbconvert_exporter": "python",
   "pygments_lexer": "ipython3",
   "version": "3.10.12"
  }
 },
 "nbformat": 4,
 "nbformat_minor": 2
}
