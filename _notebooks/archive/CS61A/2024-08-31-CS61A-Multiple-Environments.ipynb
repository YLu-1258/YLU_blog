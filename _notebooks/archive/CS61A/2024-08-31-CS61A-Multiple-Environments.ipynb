{
 "cells": [
  {
   "cell_type": "markdown",
   "metadata": {},
   "source": [
    "---\n",
    "- title: \"'CS61A: Multiple Environments'\"\n",
    "- author: alex\n",
    "- badges: true\n",
    "- comments: true\n",
    "- categories: [CS61A]\n",
    "- date: 2024-08-31 02:00:00 -0800\n",
    "- tags: [CS61A, Environmental Diagrams]\n",
    "---"
   ]
  },
  {
   "cell_type": "markdown",
   "metadata": {},
   "source": [
    "# Multiple Environments\n",
    "## Tracing a User-Defined Function\n",
    "<table>\n",
    "    <tr>\n",
    "        <th>Code</th>\n",
    "        <th>Behind the Scenes</th>\n",
    "    </tr>\n",
    "    <tr>\n",
    "        <td> Def Statement </td>\n",
    "        <td> A new function is created! <br> The name is bounded to the function in the current frame </td>\n",
    "    </tr>\n",
    "    <tr>\n",
    "        <td>Call expression</td>\n",
    "        <td>Evaluate the operator and the operand <br> The functions is called on the arguments</td>\n",
    "    </tr>\n",
    "    <tr>\n",
    "        <td> Performing the function call </td>\n",
    "        <td> A new frame is created! <br> The function parameters are bound to the arguments <br> The body executes in the new environment </td>\n",
    "    </tr>\n",
    "</table>\n",
    "\n",
    "## Multiple Environments in One Diagram\n",
    "- Remember, the earlier the frame is, the more towards the bottom it is in the environmental diagram.\n",
    "- For nested functions, we first evaluate whatever the operands of the function is.\n",
    "    - We first draw a new frame for the operand function.\n",
    "    - We then pass the return value of the operand function to the operator function.\n",
    "- **<mark>Environment == Sequence of frames</mark>**\n",
    "    - Only a global frame\n",
    "    - local frame followed by a global frame.\n",
    "    - we can find any given environment by following the parents of the frames.\n",
    "- **Names have no meaning without an environment.**\n",
    "    - Every expression is evaluated in the context of an environment.\n",
    "        - This means that any name is evaluated to the value which is bound to that name in the earliest frame of the current environment containing the name.\n",
    "\n",
    "### Names can have different meanings in different Environments\n",
    "- This is because different environments have different combinations of frames.\n",
    "    - Within each frame, there is a possibility of a particular name being defined to another value.\n",
    "- It is important to note that a call expression and the actual function body are evaluated in seperate environments.\n",
    "    - The call expression belongs to a parent frame (a \"later\" environment)\n",
    "    - The function body creates another frame (an \"earlier\" environment)\n",
    "    - Because of this, we have have functions that have the same name as their parameters.\n"
   ]
  }
 ],
 "metadata": {
  "language_info": {
   "name": "python"
  }
 },
 "nbformat": 4,
 "nbformat_minor": 2
}
