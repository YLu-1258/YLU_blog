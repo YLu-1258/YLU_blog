{
 "cells": [
  {
   "cell_type": "markdown",
   "metadata": {},
   "source": [
    "---\n",
    "- title: \"'CS61A: Sequences'\"\n",
    "- author: alex\n",
    "- badges: true\n",
    "- comments: true\n",
    "- categories: [CS61A]\n",
    "- date: 2024-09-22 6:00:00 -0800\n",
    "- math: true\n",
    "- tags: [CS61A, sequences, lists]\n",
    "---"
   ]
  },
  {
   "cell_type": "markdown",
   "metadata": {},
   "source": [
    "# Lists\n",
    "- Built-in dat type in Python.\n",
    "    - Lists are created with a list literal\n",
    "- Lists have a 0-based indexing system.\n",
    "    - This means that the length of the list is always one more than the ending index\n",
    "    - The index of a list is its offset from the beginning.\n",
    "- The list index can be an evaluation that evalutes to an integer value to access any value from the List. Additionally, the value of each element in a list can be used to be combined into other values.\n",
    "- The `len()` function returns the number of elements in a list.\n",
    "- We can either use list accessing operators `[]` or the `getitem()` function to return a specific element by its index."
   ]
  },
  {
   "cell_type": "code",
   "execution_count": 3,
   "metadata": {},
   "outputs": [
    {
     "name": "stdout",
     "output_type": "stream",
     "text": [
      "49\n",
      "47\n",
      "4\n"
     ]
    }
   ],
   "source": [
    "odds = [41, 43, 47, 49]\n",
    "print(odds[3])\n",
    "print(odds[odds[3]-odds[2]])\n",
    "print(len(odds))"
   ]
  },
  {
   "cell_type": "markdown",
   "metadata": {},
   "source": [
    "- Each element in a list literal can either be a primative type or some expression that evaluates to a value.\n",
    "## Concatentation and reptition\n",
    "- We may combine lists together to form a new list, and we can also have lists repeat themselves for a certain number of times.\n",
    "    - Use the `+` infix operator to concatenate two lists\n",
    "    - Use the `*` infix operator to repeat a list\n",
    "    - The add and mul functions also work properly\n",
    "- Lists may also be nested. A list may have lists as its elements."
   ]
  },
  {
   "cell_type": "code",
   "execution_count": 6,
   "metadata": {},
   "outputs": [
    {
     "name": "stdout",
     "output_type": "stream",
     "text": [
      "True\n",
      "30\n"
     ]
    }
   ],
   "source": [
    "from operator import add, mul\n",
    "digits = [1, 8, 2, 8]\n",
    "print(([2, 7] + digits * 2) == add([2,7], mul(digits, 2)))\n",
    "pairs = [[10, 20], [30, 40]]\n",
    "print(pairs[1][0])"
   ]
  },
  {
   "cell_type": "markdown",
   "metadata": {},
   "source": [
    "# Containers\n",
    "- A list is a container that contains other values.\n",
    "- There exist built-in operators that determine whether or not an element appears in a particular collection. We use the `in` infix operator\n",
    "    - The element that we are looking for must exactly match the form in the list container."
   ]
  },
  {
   "cell_type": "code",
   "execution_count": 9,
   "metadata": {},
   "outputs": [
    {
     "name": "stdout",
     "output_type": "stream",
     "text": [
      "True\n",
      "True\n",
      "False\n"
     ]
    }
   ],
   "source": [
    "digits = [1, 8, 2, 8]\n",
    "print(1 in digits)\n",
    "print(not (5 in digits))\n",
    "print([1,8] in digits)"
   ]
  },
  {
   "cell_type": "markdown",
   "metadata": {},
   "source": [
    "# For Statements\n",
    "- A method of iterating over a sequence."
   ]
  },
  {
   "cell_type": "code",
   "execution_count": 10,
   "metadata": {},
   "outputs": [
    {
     "data": {
      "text/plain": [
       "3"
      ]
     },
     "execution_count": 10,
     "metadata": {},
     "output_type": "execute_result"
    }
   ],
   "source": [
    "def count(s, value):\n",
    "    \"\"\"Count the number of times that value occurs in sequence s.\n",
    "    >>> count([1, 2, 1, 2, 1], 1)\n",
    "    3\n",
    "    \"\"\"\n",
    "    total, index = 0, 0\n",
    "    while index < len(s):\n",
    "        element = s[index]\n",
    "        if value == element:\n",
    "            total+=1\n",
    "        index+=1\n",
    "    return total\n",
    "\n",
    "count([1,2,1,2,1], 1)"
   ]
  },
  {
   "cell_type": "markdown",
   "metadata": {},
   "source": [
    "- We may rewrite this process with a for loop, and simplify the amount of complexity that we have in our code.\n",
    "    - We may just iterate over the element in the sequence, rather than keeping track of the element index at every iteration."
   ]
  },
  {
   "cell_type": "code",
   "execution_count": 11,
   "metadata": {},
   "outputs": [],
   "source": [
    "def count(s, value):\n",
    "    \"\"\"Count the number of times that value occurs in sequence s.\n",
    "    >>> count([1, 2, 1, 2, 1], 1)\n",
    "    3\n",
    "    \"\"\"\n",
    "    total = 0\n",
    "    for element in s:\n",
    "        if element == value:\n",
    "            total+=1\n",
    "    return total\n",
    "\n",
    "count([1,2,1,2,1], 1)"
   ]
  },
  {
   "cell_type": "markdown",
   "metadata": {},
   "source": [
    "## Sequence iteration:\n",
    "- When the for statement creates a new name that is used for iterating over the container, that name is bound in the first frame of the current environment (a new frame is **NOT** created).\n",
    "    - As the for loop executes, the variable is continuously rebounded to each subsequent value.\n",
    "\n",
    "## For Statement Execution Procedure"
   ]
  },
  {
   "cell_type": "code",
   "execution_count": null,
   "metadata": {},
   "outputs": [],
   "source": [
    "for <name> in <expression>:\n",
    "    <suite>"
   ]
  },
  {
   "cell_type": "markdown",
   "metadata": {},
   "source": [
    "The for loop follows these steps in order.\n",
    "1) The header <expression> is evaluated, and returns an iterable value (sequence)\n",
    "2) For each element in the sequence, in order:\n",
    "    A. Bind <name> to that element in the current frame\n",
    "    B. Execute the <suite>\n",
    "\n",
    "## Sequence Unpacking in For Statements\n",
    "- If we have a sequence of fixed-length sequences, we may unpack the values of each subsequence within the for-loop itself.\n",
    "    - Each name is bound to a value."
   ]
  },
  {
   "cell_type": "code",
   "execution_count": 12,
   "metadata": {},
   "outputs": [
    {
     "data": {
      "text/plain": [
       "2"
      ]
     },
     "execution_count": 12,
     "metadata": {},
     "output_type": "execute_result"
    }
   ],
   "source": [
    "pairs = [[1, 2], [2, 2], [3, 2], [4, 4]]\n",
    "same_count = 0\n",
    "for x, y in pairs: # A name is assigned for each element in a fixed-length sequence\n",
    "    if x == y:\n",
    "        same_count = same_count + 1\n",
    "\n",
    "same_count"
   ]
  },
  {
   "cell_type": "markdown",
   "metadata": {},
   "source": [
    "# Ranges\n",
    "- Ranges are another sequence type for consecutive integers.\n",
    "    - It is finite list of integers defined by a starting and ending value that is ordered in increasing order. \n",
    "    - A range includes the starting value, but execludes the ending value.\n",
    "        - This makes it easy for us to calculate the length of a range. `Length = ending value - starting value`\n",
    "        - Element selection is also made easier: `starting value + index`\n",
    "\n",
    "- We may convert a range into a list by using the list constructor `list()`\n",
    "- If only one parameter for range is specified, the range has a default starting value of 0, and treats the solo argument as the ending index.\n",
    "- When a call to the range function is made in the interpreter, the return value is not a list, but the range function itself.\n",
    "    - Ex: `range(5,8)` returns `range(5, 8)`"
   ]
  },
  {
   "cell_type": "code",
   "execution_count": 15,
   "metadata": {},
   "outputs": [
    {
     "name": "stdout",
     "output_type": "stream",
     "text": [
      "[-2, -1, 0, 1]\n"
     ]
    },
    {
     "data": {
      "text/plain": [
       "range(5, 8)"
      ]
     },
     "execution_count": 15,
     "metadata": {},
     "output_type": "execute_result"
    }
   ],
   "source": [
    "print(list(range(-2, 2)))\n",
    "range(5, 8)"
   ]
  },
  {
   "cell_type": "markdown",
   "metadata": {},
   "source": [
    "- Sometimes in a for loop, the actual value of each element in a range doesn't matter. Instead, all we want to do is to iterate and perform a certain suite a number of times."
   ]
  },
  {
   "cell_type": "code",
   "execution_count": 17,
   "metadata": {},
   "outputs": [
    {
     "name": "stdout",
     "output_type": "stream",
     "text": [
      "Go Bears!\n",
      "Go Bears!\n",
      "Go Bears!\n"
     ]
    }
   ],
   "source": [
    "def cheer():\n",
    "    for _ in range(3): # The name is never used\n",
    "        print('Go Bears!')\n",
    "\n",
    "cheer()"
   ]
  },
  {
   "cell_type": "markdown",
   "metadata": {},
   "source": [
    "# List Comprehensions\n",
    "- List comprehension allows us to generate a list from some iterable sequence with conditions and processing."
   ]
  },
  {
   "cell_type": "code",
   "execution_count": 23,
   "metadata": {},
   "outputs": [
    {
     "data": {
      "text/plain": [
       "[1, 3, 9, 13, 39, 117]"
      ]
     },
     "execution_count": 23,
     "metadata": {},
     "output_type": "execute_result"
    }
   ],
   "source": [
    "odds = [1, 3, 5, 7 ,9]\n",
    "evens = [x+1 for x in odds]\n",
    "divisible = [x for x in odds if 25 % x == 0]\n",
    "\n",
    "def divisors(n):\n",
    "    return [x for x in range(1, n+1) if n % x == 0]\n",
    "\n",
    "divisors(117)"
   ]
  }
 ],
 "metadata": {
  "kernelspec": {
   "display_name": "Python 3",
   "language": "python",
   "name": "python3"
  },
  "language_info": {
   "codemirror_mode": {
    "name": "ipython",
    "version": 3
   },
   "file_extension": ".py",
   "mimetype": "text/x-python",
   "name": "python",
   "nbconvert_exporter": "python",
   "pygments_lexer": "ipython3",
   "version": "3.10.12"
  }
 },
 "nbformat": 4,
 "nbformat_minor": 2
}
