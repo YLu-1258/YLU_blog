{
 "cells": [
  {
   "cell_type": "markdown",
   "metadata": {},
   "source": [
    "---\n",
    "- title: \"'CS61A: Lecture 6'\"\n",
    "- author: alex\n",
    "- badges: true\n",
    "- comments: true\n",
    "- categories: [CS61A]\n",
    "- date: 2024-09-11 12:00:00 -0800\n",
    "- tags: [CS61A]\n",
    "---"
   ]
  },
  {
   "cell_type": "markdown",
   "metadata": {},
   "source": [
    "# Lecture\n"
   ]
  },
  {
   "cell_type": "markdown",
   "metadata": {},
   "source": [
    "## Zero-Argument Functions\n",
    "- Yes, functions can take 0 arguments.\n",
    "- Functions always re-evaluate their bodies when called.\n",
    "\n",
    "## Dice Functions\n",
    "- In the Hog project, dice are functions that are zero-argument functions.\n",
    "- IMplement `repeat()` which is a function that returns the # of times in n rolls that an outcome repeat\n"
   ]
  },
  {
   "cell_type": "code",
   "execution_count": 1,
   "metadata": {},
   "outputs": [],
   "source": [
    "def repeats(n, dice):\n",
    "\tcount = 0\n",
    "\tprev = None\n",
    "\twhile n :\n",
    "\t\toutcome = dice()\n",
    "\t\tif outcome == prev:\n",
    "\t\t\tcount += 1\n",
    "\t\tprev = outcome\n",
    "\t\tn -= 1\n",
    "\treturn count\n",
    "\n",
    "repeats(20, six_sided)"
   ]
  },
  {
   "cell_type": "markdown",
   "metadata": {},
   "source": [
    "## Higher Order Functions\n",
    "- Functions are not allowed to change the value of a name associated within another frame. The name will not update in the higher frame.\n"
   ]
  },
  {
   "cell_type": "code",
   "execution_count": 2,
   "metadata": {},
   "outputs": [
    {
     "name": "stdout",
     "output_type": "stream",
     "text": [
      "hey\n",
      "hey\n"
     ]
    }
   ],
   "source": [
    "def reprint(n):\n",
    "    def a(word):\n",
    "        k = n\n",
    "        while k:\n",
    "            print(word)\n",
    "            k-=1\n",
    "    return a\n",
    "\n",
    "twice = reprint(2)\n",
    "twice('hey')"
   ]
  }
 ],
 "metadata": {
  "kernelspec": {
   "display_name": "Python 3",
   "language": "python",
   "name": "python3"
  },
  "language_info": {
   "codemirror_mode": {
    "name": "ipython",
    "version": 3
   },
   "file_extension": ".py",
   "mimetype": "text/x-python",
   "name": "python",
   "nbconvert_exporter": "python",
   "pygments_lexer": "ipython3",
   "version": "3.10.12"
  }
 },
 "nbformat": 4,
 "nbformat_minor": 2
}
