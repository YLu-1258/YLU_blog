{
 "cells": [
  {
   "cell_type": "markdown",
   "metadata": {},
   "source": [
    "---\n",
    "- title: \"'CS61A: Lecture 34'\"\n",
    "- author: alex\n",
    "- badges: true\n",
    "- comments: true\n",
    "- categories: [CS61A]\n",
    "- date: 2024-12-04 1:00:00 -0800\n",
    "- math: true\n",
    "- tags: [CS61A, SQL]\n",
    "---"
   ]
  },
  {
   "cell_type": "markdown",
   "metadata": {},
   "source": [
    "# Designing Functions\n",
    "- Ex: Implement `smalls`, which  takes a Tree instance t containing integer labels. It returns the non-leaf nodes in t whose labels are smaller than any labels of their descendant nodes.\n",
    "- My implementation:"
   ]
  },
  {
   "cell_type": "code",
   "execution_count": 11,
   "metadata": {},
   "outputs": [
    {
     "data": {
      "text/plain": [
       "[2, 0]"
      ]
     },
     "execution_count": 11,
     "metadata": {},
     "output_type": "execute_result"
    }
   ],
   "source": [
    "from treeclass import Tree\n",
    "def smalls(t):\n",
    "    \"\"\"Return a list of the non-leaf nodes in t that are smaller than all their descendants.\n",
    "    \n",
    "    >>> a = Tree(1, [Tree(2, [Tree(4), Tree(5)]), Tree(3, [Tree(0, [Tree(6)])])])\n",
    "    >>> [t.label for t in smalls(a)]\n",
    "    [0, 2]\n",
    "    \"\"\"\n",
    "    result = []\n",
    "    def process(t):\n",
    "        if t.is_leaf():\n",
    "            return\n",
    "        else:\n",
    "            for b in t.branches:\n",
    "                process(b)\n",
    "            if all([t.label < b.label for b in t.branches]) and all([b in result or b.is_leaf() for b in t.branches]):\n",
    "                result.append(t)\n",
    "    process(t)\n",
    "    return result\n",
    "\n",
    "a = Tree(1, [Tree(2, [Tree(4), Tree(5)]), Tree(3, [Tree(0, [Tree(6)])])])\n",
    "[t.label for t in smalls(a)]"
   ]
  },
  {
   "cell_type": "markdown",
   "metadata": {},
   "source": [
    "- Their implementation:"
   ]
  },
  {
   "cell_type": "code",
   "execution_count": 12,
   "metadata": {},
   "outputs": [
    {
     "data": {
      "text/plain": [
       "[2, 0]"
      ]
     },
     "execution_count": 12,
     "metadata": {},
     "output_type": "execute_result"
    }
   ],
   "source": [
    "from treeclass import Tree\n",
    "def smalls(t):\n",
    "    result = []\n",
    "    def process(t):\n",
    "        if t.is_leaf():\n",
    "            return t.label\n",
    "        else:\n",
    "            smallest = min([process(b) for b in t.branches])\n",
    "            if (t.label < smallest):\n",
    "                result.append(t)\n",
    "            return min(smallest, t.label)\n",
    "    process(t)\n",
    "    return result\n",
    "\n",
    "a = Tree(1, [Tree(2, [Tree(4), Tree(5)]), Tree(3, [Tree(0, [Tree(6)])])])\n",
    "[t.label for t in smalls(a)]"
   ]
  },
  {
   "cell_type": "markdown",
   "metadata": {},
   "source": [
    "- A *full path* through Tree is a list of adjacent node labels that starts with the root label and ends with a leaf label.\n",
    "- Ex: count_big(t, n) returns the number of paths in t that have a sum larger or equal to n.\n",
    "- My implementation:"
   ]
  },
  {
   "cell_type": "code",
   "execution_count": null,
   "metadata": {},
   "outputs": [
    {
     "data": {
      "text/plain": [
       "1"
      ]
     },
     "execution_count": 16,
     "metadata": {},
     "output_type": "execute_result"
    }
   ],
   "source": [
    "def count_big(t, n):\n",
    "    \"\"\"Return the number of paths in t that have a sum larger or equal to n.\n",
    "    \n",
    "    >>> t = Tree(1, [Tree(2), Tree(3, [Tree(4), Tree(5)])])\n",
    "    >>> count_big(t, 3)\n",
    "    3\n",
    "    >>> count_big(t, 6)\n",
    "    2\n",
    "    >>> bount_big(t, 9)\n",
    "    1\n",
    "    \"\"\"\n",
    "    if t.is_leaf() and t.label >= n:\n",
    "        return 1\n",
    "    return sum([count_big(b, n - t.label) for b in t.branches])\n",
    "\n",
    "t = Tree(1, [Tree(2), Tree(3, [Tree(4), Tree(5)])])\n",
    "count_big(t, 9)"
   ]
  },
  {
   "cell_type": "markdown",
   "metadata": {},
   "source": [
    "- Their implementation:"
   ]
  },
  {
   "cell_type": "code",
   "execution_count": 19,
   "metadata": {},
   "outputs": [
    {
     "data": {
      "text/plain": [
       "3"
      ]
     },
     "execution_count": 19,
     "metadata": {},
     "output_type": "execute_result"
    }
   ],
   "source": [
    "def one(b):\n",
    "    if b:\n",
    "        return 1\n",
    "    else:\n",
    "        return 0\n",
    "    \n",
    "def count_big(t, n):\n",
    "    if t.is_leaf():\n",
    "        return one(t.label >= n)\n",
    "    return sum([count_big(b, n - t.label) for b in t.branches])\n",
    "\n",
    "t= Tree(1, [Tree(2), Tree(3, [Tree(4), Tree(5)])])\n",
    "count_big(t, 3)"
   ]
  },
  {
   "cell_type": "markdown",
   "metadata": {},
   "source": [
    "- Ex: print_big prints the paths in t that have a sum larger or equal to n.\n",
    "- My implementation:"
   ]
  },
  {
   "cell_type": "code",
   "execution_count": 33,
   "metadata": {},
   "outputs": [
    {
     "name": "stdout",
     "output_type": "stream",
     "text": [
      "[1, 2]\n",
      "[1, 3, 4]\n",
      "[1, 3, 5]\n"
     ]
    }
   ],
   "source": [
    "def print_big(t, n):\n",
    "    def helper(t, p):\n",
    "        p.append(t.label)\n",
    "        if t.is_leaf():\n",
    "            if sum(p) >= n:\n",
    "                print(p)\n",
    "        else:\n",
    "            for b in t.branches:\n",
    "                helper(b, p[:])\n",
    "    helper(t, [])\n",
    "\n",
    "t= Tree(1, [Tree(2), Tree(3, [Tree(4), Tree(5)])])\n",
    "print_big(t, 3)"
   ]
  },
  {
   "cell_type": "markdown",
   "metadata": {},
   "source": [
    "- Their implementation:"
   ]
  },
  {
   "cell_type": "code",
   "execution_count": 25,
   "metadata": {},
   "outputs": [
    {
     "name": "stdout",
     "output_type": "stream",
     "text": [
      "[1, 2]\n",
      "[1, 3, 4]\n",
      "[1, 3, 5]\n"
     ]
    }
   ],
   "source": [
    "def print_big(t, n):\n",
    "    def helper(t, p):\n",
    "        p = p + [t.label]\n",
    "        if t.is_leaf():\n",
    "            if sum(p) >= n:\n",
    "                print(p)\n",
    "        else:\n",
    "            for b in t.branches:\n",
    "                helper(b, p)\n",
    "    helper(t, [])\n",
    "\n",
    "t= Tree(1, [Tree(2), Tree(3, [Tree(4), Tree(5)])])\n",
    "print_big(t, 3)"
   ]
  },
  {
   "cell_type": "markdown",
   "metadata": {},
   "source": [
    "- big_links yield the paths in t that have a sum larger or equal to n as linked lists."
   ]
  },
  {
   "cell_type": "code",
   "execution_count": 34,
   "metadata": {},
   "outputs": [
    {
     "name": "stdout",
     "output_type": "stream",
     "text": [
      "(1->2)\n",
      "(1->3->4)\n",
      "(1->3->5)\n"
     ]
    }
   ],
   "source": [
    "from linked_list import Link\n",
    "def big_links(t, n):\n",
    "    if t.is_leaf() and t.label >= n:\n",
    "        yield Link(t.label)\n",
    "    for b in t.branches:\n",
    "        for x in big_links(b, n - t.label):\n",
    "            yield Link(t.label, x)\n",
    "t= Tree(1, [Tree(2), Tree(3, [Tree(4), Tree(5)])])\n",
    "for p in big_links(t, 3):\n",
    "    print(p)"
   ]
  }
 ],
 "metadata": {
  "kernelspec": {
   "display_name": "Python 3",
   "language": "python",
   "name": "python3"
  },
  "language_info": {
   "codemirror_mode": {
    "name": "ipython",
    "version": 3
   },
   "file_extension": ".py",
   "mimetype": "text/x-python",
   "name": "python",
   "nbconvert_exporter": "python",
   "pygments_lexer": "ipython3",
   "version": "3.10.12"
  }
 },
 "nbformat": 4,
 "nbformat_minor": 2
}
