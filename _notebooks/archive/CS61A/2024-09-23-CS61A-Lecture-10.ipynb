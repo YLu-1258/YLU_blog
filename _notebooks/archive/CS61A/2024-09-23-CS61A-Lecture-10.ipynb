{
 "cells": [
  {
   "cell_type": "markdown",
   "metadata": {},
   "source": [
    "---\n",
    "- title: \"'CS61A: Lecture 10'\"\n",
    "- author: alex\n",
    "- badges: true\n",
    "- comments: true\n",
    "- categories: [CS61A]\n",
    "- date: 2024-09-23 12:00:00 -0800\n",
    "- tags: [CS61A]\n",
    "---"
   ]
  },
  {
   "cell_type": "markdown",
   "metadata": {},
   "source": [
    "# Sequences\n",
    "- Lists are a built-in Python data type.\n",
    "    - We can initialize a list and access elements within it with the square brackets ([]) syntax \n",
    "    - Python arrays are based on the 0-index. 1st element has an index of 0.\n",
    "- Builtin functions can also be evaluated on lists\n",
    "    - `len()` returns the number of leements in the list.\n",
    "        - `len()` can be used to access elements (`list[len(lst) - 1]`)\n",
    "    - `in` is an infix operator that returns `True` if an element is found in a list, and `False` otherwise.\n",
    "        - It must match the value exactly."
   ]
  },
  {
   "cell_type": "code",
   "execution_count": 6,
   "metadata": {},
   "outputs": [
    {
     "name": "stdout",
     "output_type": "stream",
     "text": [
      "First Element: 1\n",
      "Array Length: 4\n",
      "Last Object in list: 8\n",
      "Is 1 in list? True\n",
      "Is [1, 8] in list? False\n",
      "1\n"
     ]
    }
   ],
   "source": [
    "lst = [1, 8, 2, 8]\n",
    "print(\"First Element:\",lst[0])\n",
    "print(\"Array Length:\", len(lst))\n",
    "print(\"Last Object in list:\", lst[len(lst) - 1])\n",
    "print(\"Is 1 in list?\", 1 in lst)\n",
    "print(\"Is [1, 8] in list?\", [1, 8] in lst)"
   ]
  },
  {
   "cell_type": "markdown",
   "metadata": {},
   "source": [
    "- There is an order of operations when evaluating operators.\n",
    "    - Ex: `1 or 8 in lst`\n",
    "        - The `or` keyword gets evaluated first, 1 returns true, so `8 in lst` never gets evaluated.\n",
    "- Lists also have arithmetic operations\n",
    "    - Concatentation: `[1, 2, 3] + [4, 5] = [1, 2, 3, 4, 5]`\n",
    "    - Multiply a list: `[1, 2, 3] * 2 = [1, 2, 3, 1, 2, 3]`\n",
    "\n",
    "# For Loop\n",
    "- The for loop may be used to iterate over a set/collection/range of values.\n",
    "    - `for <dummy_var> in <range>:`\n",
    "    - Try not to delete elements while in a for loop, we can have an `ConcurrentRemovalException`\n",
    "    - The dummy variable that we use in a for loop is also a local variable in the frame where the for loop is being run. It is being consecutively updated by each element of the range.\n",
    "        - After the loop, the variable persists.\n"
   ]
  },
  {
   "cell_type": "code",
   "execution_count": 7,
   "metadata": {},
   "outputs": [
    {
     "name": "stdout",
     "output_type": "stream",
     "text": [
      "1\n",
      "8\n",
      "2\n",
      "8\n"
     ]
    }
   ],
   "source": [
    "for elem in lst:\n",
    "    print(elem)"
   ]
  },
  {
   "cell_type": "code",
   "execution_count": 12,
   "metadata": {},
   "outputs": [
    {
     "name": "stdout",
     "output_type": "stream",
     "text": [
      "this is y: 0\n",
      "this is y: 1\n"
     ]
    },
    {
     "data": {
      "text/plain": [
       "1"
      ]
     },
     "execution_count": 12,
     "metadata": {},
     "output_type": "execute_result"
    }
   ],
   "source": [
    "def f(x):\n",
    "    for y in [x, x+1, x+2]: # Values are evaluated [10, 11, 12] not [10, 10+1, 10+2]\n",
    "        print('this is y:', y)\n",
    "        if y > 0:\n",
    "            return y\n",
    "    return 1000\n",
    "\n",
    "f(0)"
   ]
  },
  {
   "cell_type": "markdown",
   "metadata": {},
   "source": [
    "# Ranges\n",
    "- <mark>Range:</mark>  A range is a sequence of consecutive integers.\n",
    "    - Contains every number from the start number inclusive, to the end number, excusive.\n",
    "    - The length is the ending value - starting value.\n",
    "        - This is why the end index is exvluded.\n",
    "    - A range is not a list, we would convert it into a list using `list()`\n",
    "        - The `list()` function converts a sequence into a list. If only a list is passed into the function, then it will just return the list.\n",
    "            - The input has to be an iterable.\n",
    "    - Element selection: starting value + index\n",
    "- Default starting value is 0.\n"
   ]
  },
  {
   "cell_type": "code",
   "execution_count": 14,
   "metadata": {},
   "outputs": [
    {
     "name": "stdout",
     "output_type": "stream",
     "text": [
      "<class 'range'>\n",
      "<class 'list'>\n"
     ]
    },
    {
     "data": {
      "text/plain": [
       "[-2, -1, 0, 1]"
      ]
     },
     "execution_count": 14,
     "metadata": {},
     "output_type": "execute_result"
    }
   ],
   "source": [
    "a = range(-2, 2)\n",
    "print(type(a))\n",
    "a = list(a)\n",
    "print(type(a))\n",
    "a"
   ]
  },
  {
   "cell_type": "markdown",
   "metadata": {},
   "source": [
    "# List Comprehensions\n",
    "- [<map expr> for <dummy_var> in <sequence> if <condition>]"
   ]
  },
  {
   "cell_type": "code",
   "execution_count": 21,
   "metadata": {},
   "outputs": [
    {
     "data": {
      "text/plain": [
       "[2, 4]"
      ]
     },
     "execution_count": 21,
     "metadata": {},
     "output_type": "execute_result"
    }
   ],
   "source": [
    "lst = list(range(1,6))\n",
    "even_numbers = [elem for elem in lst if elem % 2 == 0]\n",
    "even_numbers"
   ]
  },
  {
   "cell_type": "markdown",
   "metadata": {},
   "source": [
    "## Example:\n",
    "- Given these two related lists of the same length:\n",
    "    - xs = range(-10,11)\n",
    "    - ys = [x*x - 2*x+ 1 for x in xs]\n",
    "- Return all values in xs, such that the corresponding value in ys is less than 10."
   ]
  },
  {
   "cell_type": "code",
   "execution_count": 28,
   "metadata": {},
   "outputs": [
    {
     "name": "stdout",
     "output_type": "stream",
     "text": [
      "range(-10, 11)\n",
      "[121, 100, 81, 64, 49, 36, 25, 16, 9, 4, 1, 0, 1, 4, 9, 16, 25, 36, 49, 64, 81]\n",
      "[-2, -1, 0, 1, 2, 3, 4]\n",
      "[-2, -1, 0, 1, 2, 3, 4]\n"
     ]
    }
   ],
   "source": [
    "xs = range(-10,11)\n",
    "ys = [x*x - 2*x+ 1 for x in xs]\n",
    "xs_where_y_is_below_10 = [i for i in xs if i*i - 2*i + 1 < 10 ]\n",
    "xs_where_y_is_below_10_with_ys = [xs[i] for i in range(len(xs)) if ys[i] < 10]\n",
    "print(xs)\n",
    "print(ys)\n",
    "print(xs_where_y_is_below_10)\n",
    "print(xs_where_y_is_below_10_with_ys)"
   ]
  },
  {
   "cell_type": "code",
   "execution_count": null,
   "metadata": {},
   "outputs": [],
   "source": []
  },
  {
   "cell_type": "code",
   "execution_count": null,
   "metadata": {},
   "outputs": [],
   "source": []
  }
 ],
 "metadata": {
  "kernelspec": {
   "display_name": "Python 3",
   "language": "python",
   "name": "python3"
  },
  "language_info": {
   "codemirror_mode": {
    "name": "ipython",
    "version": 3
   },
   "file_extension": ".py",
   "mimetype": "text/x-python",
   "name": "python",
   "nbconvert_exporter": "python",
   "pygments_lexer": "ipython3",
   "version": "3.10.12"
  }
 },
 "nbformat": 4,
 "nbformat_minor": 2
}
