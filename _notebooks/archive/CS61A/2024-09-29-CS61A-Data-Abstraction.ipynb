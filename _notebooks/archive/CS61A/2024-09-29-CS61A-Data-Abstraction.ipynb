{
 "cells": [
  {
   "cell_type": "markdown",
   "metadata": {},
   "source": [
    "---\n",
    "- title: \"'CS61A: Data Abstraction'\"\n",
    "- author: alex\n",
    "- badges: true\n",
    "- comments: true\n",
    "- categories: [CS61A]\n",
    "- date: 2024-09-29 6:00:00 -0800\n",
    "- math: true\n",
    "- tags: [CS61A, data abstraction]\n",
    "---"
   ]
  },
  {
   "cell_type": "markdown",
   "metadata": {},
   "source": [
    "# Data Abstraction\n",
    "- Compound objects combine objects together\n",
    "    - A date: a year, a month, and a day\n",
    "    - A geographic position: latitute and longitude\n",
    "    - An *abstract data type* lets use manipulate compound objects as units\n",
    "        - We may isolate two parts of any program that use data.\n",
    "        - How data are represented (as parts)\n",
    "        - How data are manipulated (as units)\n",
    "- **Data Abstraction:** A methodology by which functions enforce an abstraction barrier between ***representation*** and ***use***.\n",
    "\n",
    "## Rational Numbers\n",
    "- May be expressed as a numerator divided by a denominator\n",
    "    - We may always express rational numbres exactly using fractions.\n",
    "    - We lose the exact representation if we use division.\n",
    "- Assume that we can compose and decompose rational numbers:\n",
    "    - rational(n, d) returns a rational number x\n",
    "        - This is a constructor, which creates a new compound value.\n",
    "    - numer(x) returns the numerator of x\n",
    "    - denom(x) returns the denominator of x\n",
    "        - These are selectors, which gets the parts of a compound value.\n",
    "- Operations with the compound values may be expressed in terms of constructors and selectors\n",
    "\n",
    "## Pairs\n",
    "- Pairs are made of two values that are joined together that may be used as a unit.\n",
    "    - One way to represent a pair is through a list."
   ]
  },
  {
   "cell_type": "code",
   "execution_count": 6,
   "metadata": {},
   "outputs": [
    {
     "name": "stdout",
     "output_type": "stream",
     "text": [
      "pair: [1, 2]\n",
      "x: 1 \n",
      "y: 2\n",
      "pair[0]: 1 \n",
      "pair[1]: 2\n",
      "getitem(pair, 0) 1 \n",
      "getitem(pair, 1) 2\n"
     ]
    }
   ],
   "source": [
    "pair = [1, 2]  # List literal: Comma-separated expressions in brackets.\n",
    "print(\"pair:\", pair)\n",
    "x, y = pair # List unpacking, x = pair[0], y = pair[1]\n",
    "print(\"x:\", x, \"\\ny:\", y)\n",
    "print(\"pair[0]:\", pair[0], \"\\npair[1]:\", pair[1]) # Element selection using the selection operator\n",
    "\n",
    "from operator import getitem\n",
    "print(\"getitem(pair, 0):\", getitem(pair, 0), \"\\ngetitem(pair, 1):\", getitem(pair, 1))"
   ]
  },
  {
   "cell_type": "markdown",
   "metadata": {},
   "source": [
    "## Representing Rational Numbers\n",
    "- We create a wrapper function `rational` that returns a list that contains the numerator and the denominator. "
   ]
  },
  {
   "cell_type": "code",
   "execution_count": null,
   "metadata": {},
   "outputs": [],
   "source": [
    "def rational(n, d):\n",
    "    \"\"\"Construct a rational number that represents N/D.\"\"\"\n",
    "    \n",
    "    return [n, d] # Construct a list\n",
    "\n",
    "def numer(x):\n",
    "    \"\"\"Return the numerator of rational number X.\"\"\"\n",
    "\n",
    "    return x[0] # Return first number, the numerator\n",
    "\n",
    "def denom(x):\n",
    "    \"\"\"Return the denominator of rational number X.\"\"\"\n",
    "\n",
    "    return x[1] # Return second number, the denominator"
   ]
  },
  {
   "cell_type": "markdown",
   "metadata": {},
   "source": [
    "- NOTE: For a rational number, the fraction representation should always be within the lowest terms with two relatively prime integers.\n",
    "    - Use the gcd function to get the greatest common divisor."
   ]
  },
  {
   "cell_type": "code",
   "execution_count": null,
   "metadata": {},
   "outputs": [],
   "source": [
    "from fractions import gcd\n",
    "\n",
    "def rational(n, d):\n",
    "    \"\"\"Construct a rational number that represents N/D.\"\"\"\n",
    "    greatest_common_divisor = gcd(n, d)\n",
    "    return [n//greatest_common_divisor, d//greatest_common_divisor] # Construct a list"
   ]
  },
  {
   "cell_type": "markdown",
   "metadata": {},
   "source": [
    "- By changing the constructor of the data abstraction, we directly manipulate all other returns and actions of related methods.\n",
    "    - Data abstraction relates each individual part of a piece of data together, and enables us to abstract certain procedures away without affecting each operation at each level of abstraction.\n",
    "    - In simpler words, changing the constructor changes the behavior of all other functions accordingly."
   ]
  },
  {
   "cell_type": "code",
   "execution_count": 7,
   "metadata": {},
   "outputs": [
    {
     "data": {
      "text/plain": [
       "[2, 3, 4, 5]"
      ]
     },
     "execution_count": 7,
     "metadata": {},
     "output_type": "execute_result"
    }
   ],
   "source": [
    "lst = [1,2,3,4,5]\n",
    "lst[1:]"
   ]
  },
  {
   "cell_type": "markdown",
   "metadata": {},
   "source": [
    "# Abstraction Barriers\n",
    "- Seperates each part of the program so that each part only needs to know so much about the rest of the program.\n",
    "    - May make changes to one part of the program without breaking the overall program or creating inconsistencies.\n",
    "\n",
    "<table>\n",
    "    <tr>\n",
    "        <th> Level of Abstraction </th>\n",
    "        <th> Parts of the program that... </th>\n",
    "        <th> Treat rationals as... </th>\n",
    "        <th> Using... </th>\n",
    "    </tr>\n",
    "    <tr>\n",
    "        <td> Uses </td>\n",
    "        <td> Use rational numbers to perform computation </td>\n",
    "        <td> Whole data values </td>\n",
    "        <td> add_rational, mul_rational, rationals_are_equal, print_rational </td>\n",
    "    </tr>\n",
    "    <tr>\n",
    "        <td> Implementation </td>\n",
    "        <td> Create rationals or implement rational operations </td>\n",
    "        <td> numerators and denominators </td>\n",
    "        <td> rational, numer, denom </td>\n",
    "    </tr>\n",
    "    <tr>\n",
    "        <td> Implementation </td>\n",
    "        <td> Implement selectors and constructor for rationals </td>\n",
    "        <td> Two-element lists </td>\n",
    "        <td> list literals and element selection </td>\n",
    "    </tr>\n",
    "</table>\n",
    "\n",
    "- There is an abstraction barrier between the uses of the rational numbers suite, versus the actual implementation.\n",
    "    - When using the uses of the rational numbers suite, only the add_rational, mul_rational, rationals_are_equal, and print_rational functions should be considered, not the functions within the implementation layer.\n",
    "- Introducing a change at any level of this list of abstractions will unfold and realize itself in all lower levels of abstraction.\n",
    "    - Use abstraction barriers and select the appropriate abstraction for each level to ensure that our code implementation is consistent at each level.\n",
    "\n",
    "# Data Representation\n",
    "- Constructor and selector functions must work together to specify the right behavior.\n",
    "    - Behavior condition: If we construct rational number x from numerator n and denominator d, then numer(x)/denom(x) must equal n/d.\n",
    "    - Data abstraction uses selectors and constructors to define behavior.\n",
    "    - If the behavior is correct, then the representation is valid.\n",
    "    - Data abstraction may be recognized by its behavior."
   ]
  },
  {
   "cell_type": "code",
   "execution_count": null,
   "metadata": {},
   "outputs": [],
   "source": [
    "def rational(n, d):\n",
    "    def select(name):\n",
    "        if name == 'n':\n",
    "            return n\n",
    "        elif name == 'd':\n",
    "            return d\n",
    "    return select\n",
    "\n",
    "def numer(x):\n",
    "    return x('n')\n",
    "\n",
    "def denom(x):\n",
    "    return x('d')"
   ]
  },
  {
   "cell_type": "markdown",
   "metadata": {},
   "source": [
    "- It is possible for us to completely re-implement the constructors and selectors in another manner, and the actual behavior of the rational numbers would not change."
   ]
  },
  {
   "cell_type": "markdown",
   "metadata": {},
   "source": []
  },
  {
   "cell_type": "markdown",
   "metadata": {},
   "source": []
  }
 ],
 "metadata": {
  "kernelspec": {
   "display_name": "Python 3",
   "language": "python",
   "name": "python3"
  },
  "language_info": {
   "codemirror_mode": {
    "name": "ipython",
    "version": 3
   },
   "file_extension": ".py",
   "mimetype": "text/x-python",
   "name": "python",
   "nbconvert_exporter": "python",
   "pygments_lexer": "ipython3",
   "version": "3.10.12"
  }
 },
 "nbformat": 4,
 "nbformat_minor": 2
}
