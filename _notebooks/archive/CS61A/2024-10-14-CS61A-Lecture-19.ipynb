{
 "cells": [
  {
   "cell_type": "markdown",
   "metadata": {},
   "source": [
    "---\n",
    "- title: \"'CS61A: Lecture 19'\"\n",
    "- author: alex\n",
    "- badges: true\n",
    "- comments: true\n",
    "- categories: [CS61A]\n",
    "- date: 2024-10-14 6:00:00 -0800\n",
    "- math: true\n",
    "- tags: [CS61A, OOP, objects, inheritance]\n",
    "---"
   ]
  },
  {
   "cell_type": "markdown",
   "metadata": {},
   "source": [
    "# Attributes\n",
    "- All objects have attributes: name-value pairs\n",
    "    - We access attributes using dot expression\n",
    "    - A class is a type (category) of objects\n",
    "    - Classes are objects as well. They may also have attributes.\n",
    "- Instance attributes: attributes of an instance\n",
    "    - May be accessed only by instances\n",
    "- Class attribute: attributes of the class of an instance\n",
    "    - May be accessed by classes and instances\n",
    "- \n",
    "## Python Object system:\n",
    "- Functions are objects\n",
    "- Bound methods are also objects: a function that has its first parameter \"self\" already bound to an instance\n",
    "- Dot expressions evaluate to found methods for class attributes that are functions.\n",
    "- The reference to self doesn't have to be `self`\n",
    "    - We can make the first argument of any method anything. It will refer to the instance.\n",
    "- A class attribute can be accessed from either an instance or its class. There is only one value for a class attribute, regardless of how many instances.\n",
    "- Ex:"
   ]
  },
  {
   "cell_type": "code",
   "execution_count": 17,
   "metadata": {},
   "outputs": [],
   "source": [
    "class Transaction:\n",
    "    \"\"\"A logged transaction.\n",
    "    >>> s = [20, -3, -4]\n",
    "    >>> ts = [Transaction(x) for x in s]\n",
    "    >>> ts[1].balance()\n",
    "    17\n",
    "    >>> ts[2].balance()\n",
    "    13\n",
    "    \"\"\"\n",
    "    log = []\n",
    "    \n",
    "    def __init__(self, amount):\n",
    "        self.amount = amount\n",
    "        self.prior = list(self.log) # This creates  SHALLOW copy. A new list object is created, but it contains the same reference to the original Transaction objects.\n",
    "        Transaction.log.append(self)\n",
    "    \n",
    "    def balance(self):\n",
    "        return self.amount + sum([t.amount for t in self.prior])"
   ]
  },
  {
   "cell_type": "markdown",
   "metadata": {},
   "source": [
    "## Attribute Assignment\n",
    "- Ae may have both Instance attribute assignment and class attribute assignment.\n",
    "- Any update to a class attribute will also update any instance attribute that accesses the class attribute.\n",
    "- Assigning an attribute of an instance that has the same name as a class will create an instance attribute with the same name, only for that instance.\n",
    "    - The class attribute for that class thus become irrelevant."
   ]
  },
  {
   "cell_type": "markdown",
   "metadata": {},
   "source": [
    "print(a.bar) = 4\n",
    "print(a.bar) = 5\n",
    "print(a.bar) = 5\n"
   ]
  },
  {
   "cell_type": "code",
   "execution_count": 18,
   "metadata": {},
   "outputs": [
    {
     "name": "stdout",
     "output_type": "stream",
     "text": [
      "4\n",
      "5\n",
      "5\n"
     ]
    }
   ],
   "source": [
    "Foo = 1\n",
    "\n",
    "class Foo:\n",
    "    bar = 2\n",
    "    def __init__(self, baz, qux):\n",
    "        self.baz = baz\n",
    "        Foo.bar = qux\n",
    "    def a(self, x):\n",
    "        self.bar = x\n",
    "\n",
    "a = Foo(3, 4)\n",
    "b = a.a\n",
    "print(a.bar)\n",
    "b(5)\n",
    "print(a.bar)\n",
    "Foo.bar = 6\n",
    "print(a.bar)"
   ]
  },
  {
   "cell_type": "markdown",
   "metadata": {},
   "source": [
    "# Inheritance\n",
    "- Inheritance is a technique for relating classes together\n",
    "- A common use: Two similar class differ in their degree of specialization\n",
    "- The specialized class may have the same attributes as the general class, along with some special-case behavior\n",
    "```python\n",
    "class <Name>(<Base Class>):\n",
    "    <suite>\n",
    "```"
   ]
  },
  {
   "cell_type": "code",
   "execution_count": null,
   "metadata": {},
   "outputs": [],
   "source": [
    "from account import Account\n",
    "\n",
    "class CheckingAccount(Account):\n",
    "    \"\"\"A bank accont that charges for withdrawals.\"\"\"\n",
    "    withdraw_fee = 1\n",
    "    interest = 0.01\n",
    "    def withdraw(self, amount):\n",
    "        # return Account.withdraw(self, amount + self.withdraw_fee)\n",
    "        return super().withdraw(amount + self.withdraw_fee)"
   ]
  },
  {
   "cell_type": "markdown",
   "metadata": {},
   "source": [
    "## Looking p Attribute Names on Classes\n",
    "- Base class attributes aren't copied into subclasses!\n",
    "- To look up a name in a class:\n",
    "    - If it names an attribute in the class, return the attribute value.\n",
    "    - Otherwise, look up the name in the base class, if there is one.\n",
    "- DRY (Do not Repeat Yourself)"
   ]
  },
  {
   "cell_type": "code",
   "execution_count": 22,
   "metadata": {},
   "outputs": [
    {
     "data": {
      "text/plain": [
       "[6, 1, 'A']"
      ]
     },
     "execution_count": 22,
     "metadata": {},
     "output_type": "execute_result"
    }
   ],
   "source": [
    "class A:\n",
    "    x, y, z = 0, 1, 2\n",
    "\n",
    "    def f(self):\n",
    "        return [self.x, self.y, self.z]\n",
    "\n",
    "class B(A):\n",
    "    x = 6\n",
    "    def __init__(self):\n",
    "        self.z = 'A'\n",
    "\n",
    "B().f()"
   ]
  },
  {
   "cell_type": "markdown",
   "metadata": {},
   "source": [
    "[6, 1, 'A']"
   ]
  },
  {
   "cell_type": "markdown",
   "metadata": {},
   "source": [
    "## Multiple Inheritance"
   ]
  }
 ],
 "metadata": {
  "kernelspec": {
   "display_name": "Python 3",
   "language": "python",
   "name": "python3"
  },
  "language_info": {
   "codemirror_mode": {
    "name": "ipython",
    "version": 3
   },
   "file_extension": ".py",
   "mimetype": "text/x-python",
   "name": "python",
   "nbconvert_exporter": "python",
   "pygments_lexer": "ipython3",
   "version": "3.10.12"
  }
 },
 "nbformat": 4,
 "nbformat_minor": 2
}
