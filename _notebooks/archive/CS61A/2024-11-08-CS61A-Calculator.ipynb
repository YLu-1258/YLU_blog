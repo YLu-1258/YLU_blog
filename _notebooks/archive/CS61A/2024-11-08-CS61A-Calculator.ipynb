{
 "cells": [
  {
   "cell_type": "markdown",
   "metadata": {},
   "source": [
    "---\n",
    "- title: \"'CS61A: Calculator'\"\n",
    "- author: alex\n",
    "- badges: true\n",
    "- comments: true\n",
    "- categories: [CS61A]\n",
    "- date: 2024-11-08 1:00:00 -0800\n",
    "- math: true\n",
    "- tags: [CS61A, Scheme, Calculator]\n",
    "---"
   ]
  },
  {
   "cell_type": "markdown",
   "metadata": {},
   "source": [
    "# Exceptions\n",
    "- Exceptions allow us to raise an error for unexpected behaviors\n",
    "- We may raise exceptions with the raise statement in Python:\n"
   ]
  },
  {
   "cell_type": "code",
   "execution_count": null,
   "metadata": {},
   "outputs": [],
   "source": [
    "raise <expression>"
   ]
  },
  {
   "cell_type": "markdown",
   "metadata": {},
   "source": [
    "- Expression must evaluate to a subclass of `BaseException` or an instance of one.\n",
    "- Exceptions are objects too. They are constructred like other objects.\n",
    "- Types of exceptions\n",
    "    - `TypeError`: A function was passed the wrong number/type of argument\n",
    "    - `NameError`: A name wasn't found\n",
    "    - `KeyError`: A key wasn't found in a dictionary\n",
    "    - `RecursionError`: Too many recursive calls"
   ]
  },
  {
   "cell_type": "code",
   "execution_count": 1,
   "metadata": {},
   "outputs": [
    {
     "ename": "TypeError",
     "evalue": "bad operand type for abs(): 'str'",
     "output_type": "error",
     "traceback": [
      "\u001b[0;31m---------------------------------------------------------------------------\u001b[0m",
      "\u001b[0;31mTypeError\u001b[0m                                 Traceback (most recent call last)",
      "Cell \u001b[0;32mIn[1], line 1\u001b[0m\n\u001b[0;32m----> 1\u001b[0m \u001b[38;5;28;43mabs\u001b[39;49m\u001b[43m(\u001b[49m\u001b[38;5;124;43m\"\u001b[39;49m\u001b[38;5;124;43mHello\u001b[39;49m\u001b[38;5;124;43m\"\u001b[39;49m\u001b[43m)\u001b[49m\n",
      "\u001b[0;31mTypeError\u001b[0m: bad operand type for abs(): 'str'"
     ]
    }
   ],
   "source": [
    "abs(\"Hello\")"
   ]
  },
  {
   "cell_type": "markdown",
   "metadata": {},
   "source": [
    "- We may raise custom errors of our own with messages.\n",
    "- Ex:"
   ]
  },
  {
   "cell_type": "code",
   "execution_count": 2,
   "metadata": {},
   "outputs": [
    {
     "ename": "TypeError",
     "evalue": "This is a custom error!",
     "output_type": "error",
     "traceback": [
      "\u001b[0;31m---------------------------------------------------------------------------\u001b[0m",
      "\u001b[0;31mTypeError\u001b[0m                                 Traceback (most recent call last)",
      "Cell \u001b[0;32mIn[2], line 1\u001b[0m\n\u001b[0;32m----> 1\u001b[0m \u001b[38;5;28;01mraise\u001b[39;00m \u001b[38;5;167;01mTypeError\u001b[39;00m(\u001b[38;5;124m\"\u001b[39m\u001b[38;5;124mThis is a custom error!\u001b[39m\u001b[38;5;124m\"\u001b[39m)\n",
      "\u001b[0;31mTypeError\u001b[0m: This is a custom error!"
     ]
    }
   ],
   "source": [
    "raise TypeError(\"This is a custom error!\")"
   ]
  },
  {
   "cell_type": "markdown",
   "metadata": {},
   "source": [
    "# Try Statements\n",
    "- The reason that exceptions have types is that they both describe an error but also allows the language to handle expcetions differently.\n",
    "- Default behavior of an exception is that the program halts and displays an error emssage\n",
    "- Try statements allow the program to continue executing even with an exception. We just perform some alternative action if the error occurs"
   ]
  },
  {
   "cell_type": "code",
   "execution_count": null,
   "metadata": {},
   "outputs": [],
   "source": [
    "try:\n",
    "    <try suite>\n",
    "except <exception class> as <name>:\n",
    "    <except suite>"
   ]
  },
  {
   "cell_type": "markdown",
   "metadata": {},
   "source": [
    "- If any exceptions occur within the try suite, the except suite would be ran immediately.\n",
    "- We may also assign a name to the error to access it.\n",
    "- Execution flow:\n",
    "    - The `<try suite>` is executed first\n",
    "    - If, during the course of executing the `<try suite>` an exception is raised that is not handled otherwise, and if the class of the exception inherits from `<exception class>`, then the `<except suite>` is executed, with `<name>` bound to the exception.\n",
    "\n",
    "## Handling Exceptions\n",
    "- Exception handling prevents a program from terminating:"
   ]
  },
  {
   "cell_type": "code",
   "execution_count": 3,
   "metadata": {},
   "outputs": [
    {
     "name": "stdout",
     "output_type": "stream",
     "text": [
      "handling a <class 'ZeroDivisionError'>\n",
      "0\n"
     ]
    }
   ],
   "source": [
    "try:\n",
    "    x = 1/0\n",
    "except ZeroDivisionError as e:\n",
    "    print('handling a', type(e))\n",
    "    x = 0\n",
    "\n",
    "print(x)"
   ]
  },
  {
   "cell_type": "markdown",
   "metadata": {},
   "source": [
    "- We may now handle unexpected user behavior: baby-proofing\n",
    "- Ex: Reducing a Sequence to a Value:"
   ]
  },
  {
   "cell_type": "code",
   "execution_count": 6,
   "metadata": {},
   "outputs": [
    {
     "name": "stdout",
     "output_type": "stream",
     "text": [
      "16.0\n",
      "inf\n"
     ]
    }
   ],
   "source": [
    "from operator import truediv\n",
    "\n",
    "def reduce(f, s, initial):\n",
    "    \"\"\"Combine elements of s pairwise using f, starting with initial.\n",
    "    \n",
    "    >>> reduce(mul, [2 4 8], 1)\n",
    "    8\n",
    "    \"\"\"\n",
    "    if not s:\n",
    "        return initial\n",
    "    return reduce(f, s[1:], f(initial, s[0]))\n",
    "\n",
    "def divide_all(n, ds):\n",
    "    try:\n",
    "        return reduce(truediv, ds, n) \n",
    "    except ZeroDivisionError:\n",
    "        return float('inf')\n",
    "    \n",
    "print(divide_all(1024, [2, 4, 8]))\n",
    "print(divide_all(1024, [2, 4, 0, 8]))"
   ]
  },
  {
   "cell_type": "markdown",
   "metadata": {},
   "source": [
    "- There is a separation of concerns here, reduce doesn't have to worry about what errors it may cause. Division would handle the case of a ZeroDivisionError.\n",
    "    - This allows for a specialization of reduce.\n",
    "\n",
    "# Programming Languages\n",
    "- An interpreter is a program that takes code written in the programming language as input and executes the code to create the behavior of the program.\n",
    "- Scheme is powerful but has few rules. Can be easily implemented in Python.\n",
    "- Programs may be thought of as trees of expressions. Interpreters work through tree recursion.\n",
    "- Computers execute programs written in various programming languages\n",
    "    - **Machine Languages:** statements are interpreted by the hardware itself\n",
    "        - A fixed set of instructions invoke operations implemented by the CPU.\n",
    "        - Has limited access to its own memory, but has ways to access additional memory in caches, main memory, and computer disks.\n",
    "        - Cannot change the programming language itself without changing the computer circuitry.\n",
    "        - Harder to program in beacuse operations refer to specific hardware memory addresses and there are no abstraction mechanisms.\n",
    "    - **High-level languages:** statements and expressions are interpreted by another program or compiled into another language.\n",
    "        - Interpreting: reading the program and executing behavior\n",
    "        - Compiling: Translating the language to machine language.\n",
    "        - Provides means of abstraction such as naming, function definition, and objects.\n",
    "        - Abstracts away system details to be independent of hardware and operating system.\n",
    "            - THe same program can run on different operating systems or hardware.\n",
    "- Modern languages mix compilation and interpretation. Statements are compiled just in time as if they were interpreted.\n",
    "- High-level languages are built on other high level languages\n",
    "    - Machine language is used to build the compiler for the C language (a higher level language) which is then used to create an interpreter for python.\n",
    "- Python is compiled into python 3 byte code.\n",
    "\n",
    "## Metalinguistic Abstraction\n",
    "- Another type of abstration is to define a new language that is tailored to a particular type of application or problem domain.\n",
    "    - Ex: Erlang was created for concurrent programs. It has built-in elements for expressing concurrent communication, and is used in cases such as chat servers with many simultaneous connections.\n",
    "    - Ex: MediaWiki mark-up language was designed for generating static web pages. It has built-in elements for text formatting and cross-page linking. Used for blogging.\n",
    "- A programming language has:\n",
    "    - **Syntax:** THe legal statements and expressions in the language.\n",
    "    - **Semantics:** The execution/evaluation rule for those statements and expressions.\n",
    "- A new programming language requires:\n",
    "    - **Specification:** A document taht describes the precise syntax and semantics of the language.\n",
    "    - **Canonical Implementation:** An interpreter or compiler for the language. \n",
    "\n",
    "# Parsing\n",
    "- To implemented a programming language, we must first parse the program text into a structure easy for interpretation\n",
    "    - Scheme is a tree-based language.\n",
    "    - Parsing converts scheme text into an expression tree so the program may be evaluated.\n",
    "\n",
    "## Reading Scheme Lists\n",
    "- We must read scheme lists and convert them into an interpretable structure.\n",
    "- A scheme list is written as elements in  parenthesis, but each element can be a combination of other statements, or a primative expression.\n",
    "- We must parse this string representation into a scheme representation.\n",
    "    - In scheme, expressions are represented as Pairs (linked list)\n",
    "- Parsing has two parts\n",
    "    - A parser takes text and returns an expression.\n",
    "    - Texts are converted into tokens using **Lexical analysis** which are then converted into an expression using **Syntactic analysis**.\n",
    "    - Tokens are symbols representing atomic units of the programming language. \n",
    "    - Syntatic analysis is a tree-recursive processes that balances parenthesis and also returns a tree structure containing the tokens.\n",
    "- Syntatic analysis identifies the hierarchical struct ure of an expression, which may be nested.\n",
    "    - The base case are atomic symbols and numbers\n",
    "    - Recursive calls are `scheme_read` calls on sub-expressions and combining them.\n",
    "    - The `scheme_read` function only ends when the ending parenthesis is found.\n",
    "\n",
    "# Evaluation\n",
    "- The Eval function evaluates an expression in the language represented as a scheme_list.\n",
    "    - It computes the value of an expression\n",
    "    - It is a generic function that dispatches on the type of the expression (primitive or call).\n",
    "- For a calculator program:\n",
    "    - A number evaluates to itself\n",
    "    - A scheme list applies the rest of the scheme list (evaluated arguments) to the operator (first argument)\n",
    "    \n",
    "# Interpreters\n",
    "- Interpreters have a Read-Eval-print Loop\n",
    "    - Print a prompt\n",
    "    - Read text input from the user.\n",
    "    - Parse the text input into an expression.\n",
    "    - Evaluate the expression.\n",
    "    - If any errors occur, report those errors, otherwise, print the value of the expression and repeat.\n",
    "- Exceptions are raised within lexical analysis to ensure that the code is well formed.\n",
    "- An interpreter should not halt on an error, but rather provide information about the error.\n",
    "- Parsing and evaluation are both placed in a try statement that catches any errors.\n"
   ]
  }
 ],
 "metadata": {
  "kernelspec": {
   "display_name": "Python 3",
   "language": "python",
   "name": "python3"
  },
  "language_info": {
   "codemirror_mode": {
    "name": "ipython",
    "version": 3
   },
   "file_extension": ".py",
   "mimetype": "text/x-python",
   "name": "python",
   "nbconvert_exporter": "python",
   "pygments_lexer": "ipython3",
   "version": "3.10.12"
  }
 },
 "nbformat": 4,
 "nbformat_minor": 2
}
