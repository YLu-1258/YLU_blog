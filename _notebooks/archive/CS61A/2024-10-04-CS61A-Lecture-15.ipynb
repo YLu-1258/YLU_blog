{
 "cells": [
  {
   "cell_type": "markdown",
   "metadata": {},
   "source": [
    "---\n",
    "- title: \"'CS61A: Lecture 15'\"\n",
    "- author: alex\n",
    "- badges: true\n",
    "- comments: true\n",
    "- categories: [CS61A]\n",
    "- date: 2024-10-04 6:00:00 -0800\n",
    "- math: true\n",
    "- tags: [CS61A, iterators]\n",
    "---"
   ]
  },
  {
   "cell_type": "markdown",
   "metadata": {},
   "source": [
    "# Iterators\n",
    "- Tuples vs Lists\n",
    "    - Tuples:\n",
    "        - Immutable\n",
    "        - Smaller\n",
    "        - Faster\n",
    "        - Can be hashed (used as a key in a dictionary key)\n",
    "    - Lists\n",
    "        - Mutable (can reassign items)\n",
    "            - More functionalities like pop()\n",
    "        - Bigger and slower\n",
    "        - Cannot be used as a dictionary key (unhashable)\n",
    "- Iterators are like pointers to a list that can only move forwards"
   ]
  },
  {
   "cell_type": "code",
   "execution_count": 7,
   "metadata": {},
   "outputs": [
    {
     "data": {
      "text/plain": [
       "2"
      ]
     },
     "execution_count": 7,
     "metadata": {},
     "output_type": "execute_result"
    }
   ],
   "source": [
    "s = [1,2,3,4]\n",
    "i = iter(s)\n",
    "next(i)\n",
    "s.append(5)\n",
    "next(i)"
   ]
  },
  {
   "cell_type": "markdown",
   "metadata": {},
   "source": [
    "- For dictionaries, iterators by default iterate over the keys.\n",
    "\n",
    "## Map Function\n",
    "- The map function will apply some function to each value within an iterable, and returns an iterator\n",
    "    - Lazy evaluation, processes one element at a time."
   ]
  },
  {
   "cell_type": "code",
   "execution_count": 15,
   "metadata": {},
   "outputs": [
    {
     "name": "stdout",
     "output_type": "stream",
     "text": [
      "2\n",
      "4\n",
      "6\n",
      "8\n"
     ]
    }
   ],
   "source": [
    "s = [1,2,3,4]\n",
    "doubled = map(lambda x: 2*x, s) # This is an iterator!!!\n",
    "for i in doubled:\n",
    "    print(i)"
   ]
  }
 ],
 "metadata": {
  "kernelspec": {
   "display_name": "Python 3",
   "language": "python",
   "name": "python3"
  },
  "language_info": {
   "codemirror_mode": {
    "name": "ipython",
    "version": 3
   },
   "file_extension": ".py",
   "mimetype": "text/x-python",
   "name": "python",
   "nbconvert_exporter": "python",
   "pygments_lexer": "ipython3",
   "version": "3.10.12"
  }
 },
 "nbformat": 4,
 "nbformat_minor": 2
}
