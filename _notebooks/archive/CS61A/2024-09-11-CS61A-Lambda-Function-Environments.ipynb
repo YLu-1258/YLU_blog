{
 "cells": [
  {
   "cell_type": "markdown",
   "metadata": {},
   "source": [
    "---\n",
    "- title: \"'CS61A: Functional Abstraction'\"\n",
    "- author: alex\n",
    "- badges: true\n",
    "- comments: true\n",
    "- categories: [CS61A]\n",
    "- date: 2024-09-09 12:00:00 -0800\n",
    "- tags: [CS61A, lambda, environments]\n",
    "---"
   ]
  },
  {
   "cell_type": "markdown",
   "metadata": {},
   "source": [
    "# Lambda Function Environments\n",
    "- A lambda function's parent is the frame where the lambda expression is evaluated (where lambda appears)."
   ]
  },
  {
   "cell_type": "code",
   "execution_count": null,
   "metadata": {},
   "outputs": [],
   "source": [
    "a = 1\n",
    "def f(g):\n",
    "    a = 2\n",
    "    return lambda y: a * g(y) # This lambda has is evaluated in the frame of f, so its parent is f, and hence a is 2\n",
    "\n",
    "f(lambda y: a + y)(a) # Both a's here are called in the global frame, which refers to 1"
   ]
  },
  {
   "cell_type": "markdown",
   "metadata": {},
   "source": [
    "# Return\n",
    "- Returning means ending a function call and determining the value of the call expression\n",
    "- Execution processes of f(x), a user-defined function\n",
    "    - Call f(x)\n",
    "    - Switch to a new environment\n",
    "    - Execute the body of f\n",
    "    - Switch back to the former environment\n",
    "    - f(x) now has a value\n",
    "- A function will only ever execute one return statement.\n"
   ]
  },
  {
   "cell_type": "code",
   "execution_count": 3,
   "metadata": {},
   "outputs": [
    {
     "name": "stdout",
     "output_type": "stream",
     "text": [
      "7\n",
      "6\n",
      "5\n"
     ]
    }
   ],
   "source": [
    "def end(n,d):\n",
    "    \"\"\"Print the final digits of N in reverse order until D  is found.\n",
    "    >>> end(34567, 5)\n",
    "    7\n",
    "    6\n",
    "    5\n",
    "    \"\"\"\n",
    "    while n:\n",
    "        last, n= n % 10, n // 10\n",
    "        print(last)\n",
    "        if last == d:\n",
    "            return\n",
    "        \n",
    "end(34567, 5)\n",
    "\n"
   ]
  },
  {
   "cell_type": "code",
   "execution_count": 8,
   "metadata": {},
   "outputs": [
    {
     "data": {
      "text/plain": [
       "20"
      ]
     },
     "execution_count": 8,
     "metadata": {},
     "output_type": "execute_result"
    }
   ],
   "source": [
    "def search(f):\n",
    "    x = 0\n",
    "    while True:\n",
    "        if f(x):\n",
    "            return x\n",
    "        x+=1\n",
    "\n",
    "search(lambda x : (x+1) % 21 == 0)"
   ]
  },
  {
   "cell_type": "code",
   "execution_count": 9,
   "metadata": {},
   "outputs": [
    {
     "data": {
      "text/plain": [
       "16"
      ]
     },
     "execution_count": 9,
     "metadata": {},
     "output_type": "execute_result"
    }
   ],
   "source": [
    "is_three = lambda x: x==3\n",
    "square = lambda x: x * x\n",
    "positive = lambda x: max(0, square(x) - 100)\n",
    "\n",
    "def inverse(f):\n",
    "    \"\"\"return g(y) such that g(f(x)) = x\"\"\"\n",
    "    return lambda y : search(lambda x: f(x) == y)\n",
    "\n",
    "sqrt = inverse(square)\n",
    "sqrt(256)\n",
    "# sqrt(2) This would continue to run forever, as 2 is not a perfect square. "
   ]
  },
  {
   "cell_type": "markdown",
   "metadata": {},
   "source": [
    "# Abstraction\n",
    "- Assigning names to a computational process to recall the process without redefining the process' details.\n",
    "- Names do not matter for correctness, but matter for composition.\n",
    "    - Good names = good redability\n",
    "    - Names should convey the meaning/purpose of a value that they are bound to\n",
    "    - Type of value bound to the name should be documented within the function's docstring\n",
    "    - Function names can either convey their effect, hehavior or value returned. "
   ]
  },
  {
   "cell_type": "markdown",
   "metadata": {},
   "source": [
    "# Errors & Tracebacks\n",
    "- Three types of erros\n",
    "    1) Syntax Errors: Detected before program starts executing, caused by improperly written expressions  \n",
    "    2) Runtime Errors: Detected by interpreter while the program is running. A traceback is created that describes what line induced the error.  \n",
    "    3) Logical/Behavorial Error: Not an error with Python, but the program just doesn't do what its meant to do."
   ]
  }
 ],
 "metadata": {
  "kernelspec": {
   "display_name": "Python 3",
   "language": "python",
   "name": "python3"
  },
  "language_info": {
   "codemirror_mode": {
    "name": "ipython",
    "version": 3
   },
   "file_extension": ".py",
   "mimetype": "text/x-python",
   "name": "python",
   "nbconvert_exporter": "python",
   "pygments_lexer": "ipython3",
   "version": "3.10.12"
  }
 },
 "nbformat": 4,
 "nbformat_minor": 2
}
