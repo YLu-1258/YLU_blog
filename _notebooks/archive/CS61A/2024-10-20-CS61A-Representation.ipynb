{
 "cells": [
  {
   "cell_type": "markdown",
   "metadata": {},
   "source": [
    "---\n",
    "- title: \"'CS61A: Representation'\"\n",
    "- author: alex\n",
    "- badges: true\n",
    "- comments: true\n",
    "- categories: [CS61A]\n",
    "- date: 2024-10-20 6:00:00 -0800\n",
    "- math: true\n",
    "- tags: [CS61A, representation, OOP]\n",
    "---"
   ]
  },
  {
   "cell_type": "markdown",
   "metadata": {},
   "source": [
    "# String Representations\n",
    "- An object value should behave like the kind of data it is meant to represent\n",
    "    - Part of this ability is to provide a string representation of a program\n",
    "- There are only two string representations of python objects.\n",
    "    - The `str` representation is legible for humans\n",
    "    - The `repr` representation is legible to the Python interpreter\n",
    "- The `str` and `repr` strings are often the same, but not always\n",
    "\n",
    "## The `repr` String for an Object\n",
    "-  The `repr` function returns a Python expression (a string) that evaluates to an equal object\n",
    "    - `repr(object) -> string`\n",
    "        - Return the canonical string representation of the object.\n",
    "        - For most object types, eval(repr(object)) == object\n",
    "- Complicated objects such as classes or functions do not have a simple Python-readable string.\n",
    "    - This is because not everything that is pertaining to the object could be described simply.\n",
    "    - Ex: The `repr` of a function\n"
   ]
  },
  {
   "cell_type": "code",
   "execution_count": 1,
   "metadata": {},
   "outputs": [
    {
     "data": {
      "text/plain": [
       "'<built-in function max>'"
      ]
     },
     "execution_count": 1,
     "metadata": {},
     "output_type": "execute_result"
    }
   ],
   "source": [
    "repr(max)"
   ]
  },
  {
   "cell_type": "markdown",
   "metadata": {},
   "source": [
    "## The `str` String for an Object\n",
    "- Human interpretable strings are useful as well:\n",
    "    - Sometimes, our programs and objects interact and communicate with the user."
   ]
  },
  {
   "cell_type": "code",
   "execution_count": 9,
   "metadata": {},
   "outputs": [
    {
     "name": "stdout",
     "output_type": "stream",
     "text": [
      "str representation: '1/2'\n",
      "repr representation 'Fraction(1, 2)'\n"
     ]
    }
   ],
   "source": [
    "from fractions import Fraction\n",
    "half = Fraction(1,2)\n",
    "print(\"str representation:\", repr(str(half)))\n",
    "print(\"repr representation\", repr(repr(half)))"
   ]
  },
  {
   "cell_type": "markdown",
   "metadata": {},
   "source": [
    "- The result of calling `str` on the value of an expression displays what Python would print using the print expression."
   ]
  },
  {
   "cell_type": "code",
   "execution_count": 11,
   "metadata": {},
   "outputs": [
    {
     "data": {
      "text/plain": [
       "'Hello, World'"
      ]
     },
     "execution_count": 11,
     "metadata": {},
     "output_type": "execute_result"
    }
   ],
   "source": [
    "s = \"Hello, World\"\n",
    "s"
   ]
  },
  {
   "cell_type": "code",
   "execution_count": 12,
   "metadata": {},
   "outputs": [
    {
     "name": "stdout",
     "output_type": "stream",
     "text": [
      "'Hello, World'\n"
     ]
    }
   ],
   "source": [
    "print(repr(s))"
   ]
  },
  {
   "cell_type": "code",
   "execution_count": 18,
   "metadata": {},
   "outputs": [
    {
     "name": "stdout",
     "output_type": "stream",
     "text": [
      "Hello, World\n"
     ]
    }
   ],
   "source": [
    "print(str(s))"
   ]
  },
  {
   "cell_type": "code",
   "execution_count": 19,
   "metadata": {},
   "outputs": [
    {
     "data": {
      "text/plain": [
       "\"'Hello, World'\""
      ]
     },
     "execution_count": 19,
     "metadata": {},
     "output_type": "execute_result"
    }
   ],
   "source": [
    "repr(s)"
   ]
  },
  {
   "cell_type": "markdown",
   "metadata": {},
   "source": [
    "# F-Strings\n",
    "- We may generate strings out of expressions within a string literal\n",
    "    - In other words, we may embed expressions within a string to create a string that may vary in their content.\n",
    "## String Interpolation in Python\n",
    "- String interpolation is evaluating a string literal that contains expressions"
   ]
  },
  {
   "cell_type": "code",
   "execution_count": 20,
   "metadata": {},
   "outputs": [
    {
     "data": {
      "text/plain": [
       "'pi starts with 3.141592653589793...'"
      ]
     },
     "execution_count": 20,
     "metadata": {},
     "output_type": "execute_result"
    }
   ],
   "source": [
    "from math import pi\n",
    "f\"pi starts with {pi}...\""
   ]
  },
  {
   "cell_type": "markdown",
   "metadata": {},
   "source": [
    "- When we evaluate an f-string literal, we incorporate a str string of the value of each sub-expression.\n",
    "    - Sub-expressions are evaluated in the current environment.\n",
    "- Expressions within an F-string are evaluated in the order that they appear in.\n",
    "\n",
    "# Polymorphic Functions\n",
    "- **Polymorphic Function**: A function that applies to many (poly) different forms (morph) of data\n",
    "- Both `str` and `repr` are polymorphic functions, they apply to any object.\n",
    "    - The way that this behavior is created in python is that `repr` invokes a zero-argument method `__repr__` on its argument.\n",
    "    - The `str` function also invokes a zero-argument method `__str__` on its argument. \n",
    "    - In other words, `repr` asks the argument to display itself.\n",
    "- The `str` and `repr` strings do not know how to obtain the `str` or `repr` representation of the object. It's the object itself that understands how to represent itself.\n",
    "- Important Idea: We can defer the logic of the function to the methods of the argument itself.\n",
    "\n",
    "## Implementing `repr` and `str`\n",
    "- Slightly more complicated than just invoking `__repr__` or `__str__` on the argument.\n",
    "    - If there is an instance attribute called `__repr__` it is ignored.\n",
    "    - Only class attributes are found"
   ]
  },
  {
   "cell_type": "code",
   "execution_count": 21,
   "metadata": {},
   "outputs": [],
   "source": [
    "def repr(x):\n",
    "    return type(x).__repr__(x)"
   ]
  },
  {
   "cell_type": "markdown",
   "metadata": {},
   "source": [
    "- The breakdown of this code is that `type(x)` returns the class that defines the object. Thus, applying `__repr__` on the class would access the class attribute rather than the instance attribute. We also pass te instance into the `__repr__` function because the function accepts a `self` parameter. The `__repr__` that we call is not a bound method, but rather a function.\n",
    "- The behavior of `str` is also complicated\n",
    "    - The instance attribute `__str__` is ignored\n",
    "    - If no `__str__` attribute is found, use the `repr` string.\n",
    "    - This is implemented through interfaces\n",
    "\n",
    "## Interfaces\n",
    "- **Message passing:** Objects interact by looking up attributes on each other (passing messages)\n",
    "- Attribute look-up rules enable different data types to respond to the same message\n",
    "    - This is achived by giving each object the same name. This also creates a standard for communication.\n",
    "- A **shared message** (attribute name) elicits similar behavior from different object classes is a powerful method of abstraction.\n",
    "    - These shared messages forms an interface between different classes, types, and objects.\n",
    "- Classes that implement `__repr__` and `__str__` methods that return Python-interpretable and human-readable strings implement an interface for producing string representations.\n",
    "- At a higher level, as long as we have a collection of classes that have methods of the same name with similar behavior, we have effectively created an interface between the objects. \n",
    "- Example: Ratio"
   ]
  },
  {
   "cell_type": "code",
   "execution_count": 1,
   "metadata": {},
   "outputs": [
    {
     "name": "stdout",
     "output_type": "stream",
     "text": [
      "1/2\n",
      "Ratio(1, 2)\n"
     ]
    }
   ],
   "source": [
    "class Ratio:\n",
    "    def __init__(self, n, d):\n",
    "        self.numer = n\n",
    "        self.denom = d\n",
    "\n",
    "    def __repr__(self):\n",
    "        return 'Ratio({0}, {1})'.format(self.numer, self.denom)\n",
    "    \n",
    "    def __str__(self):\n",
    "        return '{0}/{1}'.format(self.numer, self.denom)\n",
    "    \n",
    "half = Ratio(1,2)\n",
    "print(half)\n",
    "print(repr(half))"
   ]
  },
  {
   "cell_type": "markdown",
   "metadata": {},
   "source": [
    "# Special Method Names\n",
    "- Certain names are special because they have built-in behavior\n",
    "- These names always start and end with two underscores\n",
    "<table>\n",
    "    <tr>\n",
    "        <th>Special Method</th>\n",
    "        <th>Behavior</th>\n",
    "    </tr>\n",
    "    <tr>\n",
    "        <td><code>__init__</code></td>\n",
    "        <td>Method invoked automatically when an object is constructed</td>\n",
    "    </tr>\n",
    "    <tr>\n",
    "        <td><code>__repr__</code></td>\n",
    "        <td>Method invoked to display an object as a Python expression</td>\n",
    "    </tr>\n",
    "    <tr>\n",
    "        <td><code>__add__</code></td>\n",
    "        <td>Method invoked to add one object to another</td>\n",
    "    </tr>\n",
    "    <tr>\n",
    "        <td><code>__bool__</code></td>\n",
    "        <td>Method invoked to convert an object to True or False</td>\n",
    "    </tr>\n",
    "    <tr>\n",
    "        <td><code>__float__</code></td>\n",
    "        <td>Method invoked to convert an object to a float (real number)</td>\n",
    "    </tr>\n",
    "</table>\n",
    "- Ex: This piece of code..."
   ]
  },
  {
   "cell_type": "code",
   "execution_count": 3,
   "metadata": {},
   "outputs": [
    {
     "name": "stdout",
     "output_type": "stream",
     "text": [
      "3\n",
      "False True\n"
     ]
    }
   ],
   "source": [
    "zero, one, two = 0, 1, 2\n",
    "print(one + two)\n",
    "print(bool(zero), bool(one))"
   ]
  },
  {
   "cell_type": "markdown",
   "metadata": {},
   "source": [
    "is the same as this"
   ]
  },
  {
   "cell_type": "code",
   "execution_count": 5,
   "metadata": {},
   "outputs": [
    {
     "name": "stdout",
     "output_type": "stream",
     "text": [
      "3\n",
      "False True\n"
     ]
    }
   ],
   "source": [
    "print(one.__add__(two))\n",
    "print(zero.__bool__(), one.__bool__())"
   ]
  },
  {
   "cell_type": "markdown",
   "metadata": {},
   "source": [
    "## Special Methods\n",
    "- When we add instnaces of user-defined classes, we invoke either the `__add__` or `__radd__` method.\n",
    "- `__add__` and `__radd__` are methods that both perform addition.\n",
    "    - `__add__` is left hand addition\n",
    "    - `__radd__` is right hand addition\n",
    "> There is a subtle, yet important distinction between `__add__` and `__radd__`. The `__add__` method adds an object to another object when the instance itself is the expression to the left of the dot-expression. In other words, it is addition from the left-hand side. The `__radd__` method happens in the reverse, and adds an object to another object when the instance itself is the argument to the right and wrapped in parenthesis of the dot-expression. Here is an example of why this is helpful: <br> \n",
    "A class `myClass` creating an instance `myObj` could be created to handle the addition of a number to it, say 4: <br>\n",
    "myObj + 4 <br>\n",
    "However, if we attempted to add 4 onto `myObj` it would raise an error as the integer type does not have the implementation to add our object to an integer <br>\n",
    "4 + myObj --> NotImplemented --> TypeError <br>\n",
    "We can avoid this unwanted behavior (as some addition is commutative) by implementing the `__radd__` operation for `myClass`. Thus, when running 4 + myObj, python would first try to run `4.__add__(myObj)` to find the NotImplemented return value, but will then run `myObj.__radd__(4)`. This allows an interface that enables our class to avoid handle cases where the other object's implementation of addition does not support our current object's<br>\n",
    "{: .prompt-tip }\n",
    "\n",
    "- It is possible to also use `__radd__` to specify addition operations where the action is not commutative between different objects.\n",
    "- We could now define the addition property for our ratio class.\n"
   ]
  },
  {
   "cell_type": "code",
   "execution_count": 13,
   "metadata": {},
   "outputs": [
    {
     "name": "stdout",
     "output_type": "stream",
     "text": [
      "1/2\n",
      "33/4\n",
      "22/7\n",
      "0.5333333333333333\n"
     ]
    }
   ],
   "source": [
    "class Ratio:\n",
    "    def __init__(self, n, d):\n",
    "        self.numer = n\n",
    "        self.denom = d\n",
    "\n",
    "    def __repr__(self):\n",
    "        return 'Ratio({0}, {1})'.format(self.numer, self.denom)\n",
    "    \n",
    "    def __str__(self):\n",
    "        return '{0}/{1}'.format(self.numer, self.denom)\n",
    "    \n",
    "    def __add__(self, other):\n",
    "        # Type Dispatching\n",
    "        if isinstance(other, int):\n",
    "            n = self.numer + self.denom * other\n",
    "            d = self.denom\n",
    "        elif isinstance(other, Ratio):\n",
    "            n = self.numer * other.denom + self.denom * other.numer\n",
    "            d = self.denom * other.denom\n",
    "        elif isinstance(other, float):\n",
    "            # Type Coercion\n",
    "            return float(self) + other\n",
    "        g = gcd(n, d)\n",
    "        return Ratio(n//g, d//g)\n",
    "    \n",
    "    def __float__(self):\n",
    "        return self.numer/self.denom\n",
    "    \n",
    "    __radd__ = __add__\n",
    "    \n",
    "def gcd(n, d):\n",
    "    while n != d:\n",
    "        n, d = min(n, d), abs(n-d)\n",
    "    return n\n",
    "\n",
    "print(Ratio(1, 3) + Ratio(1, 6))\n",
    "print(Ratio(1,4) + 8)\n",
    "print(3 + Ratio(1,7))\n",
    "print(0.2 + Ratio(1,3))"
   ]
  },
  {
   "cell_type": "markdown",
   "metadata": {},
   "source": [
    "- In the `Ratio` implementation above, we implemented two important ideas:\n",
    "    - **Type Casting:** We inspect the type of an argument and decide what to do.\n",
    "    - **Type Coercion:** We take an object of one type and we convert it into another type to combine it with another value.\n",
    "- By combining these two methods, we may create classes that we may have different classes interact with each other."
   ]
  }
 ],
 "metadata": {
  "kernelspec": {
   "display_name": "Python 3",
   "language": "python",
   "name": "python3"
  },
  "language_info": {
   "codemirror_mode": {
    "name": "ipython",
    "version": 3
   },
   "file_extension": ".py",
   "mimetype": "text/x-python",
   "name": "python",
   "nbconvert_exporter": "python",
   "pygments_lexer": "ipython3",
   "version": "3.10.12"
  }
 },
 "nbformat": 4,
 "nbformat_minor": 2
}
