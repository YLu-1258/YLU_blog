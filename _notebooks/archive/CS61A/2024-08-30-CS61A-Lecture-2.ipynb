{
 "cells": [
  {
   "cell_type": "markdown",
   "metadata": {},
   "source": [
    "---\n",
    "- title: \"'CS61A: Lecture 2'\"\n",
    "- author: alex\n",
    "- badges: true\n",
    "- comments: true\n",
    "- categories: [CS61A]\n",
    "- date: 2024-08-30 12:00:00 -0800\n",
    "- tags: [CS61A]\n",
    "---"
   ]
  },
  {
   "cell_type": "markdown",
   "metadata": {},
   "source": [
    "# Assignment Expressions\n",
    "- To retrieve a lost built in function, just restore its original functionality by setting it to its name under the `__builtins__` class.\n"
   ]
  },
  {
   "cell_type": "code",
   "execution_count": 1,
   "metadata": {},
   "outputs": [],
   "source": [
    "max = __builtins__.max"
   ]
  },
  {
   "cell_type": "markdown",
   "metadata": {},
   "source": [
    "# Environment Diagrams\n",
    "- We may draw out how the program is executed by python.\n",
    "## Calling User-Defined Functions\n",
    "Steps:\n",
    "1. Add a local frame, creating a new environment\n",
    "2. Find function's formal parameters to the arguments in that grame\n",
    "3. Edecute the body of the function within the new environment\n",
    "\n",
    "- The code of the function itself is not called until the function itself is called with an argument.\n",
    "- For this class, we only open new frames for the user-defined function.\n",
    "- The function's dignature has all the info we need to create a local frame\n",
    "\n",
    "## Looking Up Names in Environments\n",
    "- Every expression is evalated in the context of an environment.\n",
    "- When we refer to a frame as being \"early\" it is the one at the bottom of our environmental diagram.\n",
    "- The global frame is always the last frame that we look at.\n",
    "- An environment always comprises of the frame in which another screen is being executed.\n",
    "\n",
    "## Search Problem\n",
    "- Try a bunch of options to see which one is the best\n",
    "    - Computers are really good at this"
   ]
  }
 ],
 "metadata": {
  "kernelspec": {
   "display_name": "Python 3",
   "language": "python",
   "name": "python3"
  },
  "language_info": {
   "codemirror_mode": {
    "name": "ipython",
    "version": 3
   },
   "file_extension": ".py",
   "mimetype": "text/x-python",
   "name": "python",
   "nbconvert_exporter": "python",
   "pygments_lexer": "ipython3",
   "version": "3.10.12"
  }
 },
 "nbformat": 4,
 "nbformat_minor": 2
}
