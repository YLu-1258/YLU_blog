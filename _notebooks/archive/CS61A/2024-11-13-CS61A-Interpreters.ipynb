{
 "cells": [
  {
   "cell_type": "markdown",
   "metadata": {},
   "source": [
    "---\n",
    "- title: \"'CS61A: Interpreters'\"\n",
    "- author: alex\n",
    "- badges: true\n",
    "- comments: true\n",
    "- categories: [CS61A]\n",
    "- date: 2024-11-10 1:00:00 -0800\n",
    "- math: true\n",
    "- tags: [CS61A, Scheme, Calculator, Interpreters]\n",
    "---"
   ]
  },
  {
   "cell_type": "markdown",
   "metadata": {},
   "source": [
    "# Interpreting Scheme\n",
    "- There are two parts to an interpreter\n",
    "    - **Eval:** The eval evaluates primitive and combined expressions. It calls apply to apply a procedure to certain arguments in expressions.\n",
    "    - **Apply:**: Applys a specific procedure onto the provided arguments to retrieve a result.\n",
    "- Both of these parts are mutually recursive, while eval is also recursive to itself.\n",
    "\n",
    "## The Eval Function\n",
    "- The base case of the eval function are primitive values (numbers), or values that are bound to symbols.\n",
    "- The recursive calls must evaluate the operators and the operands themselves.\n",
    "    - Eval is recursively called on all of the arguments until they are reduced down to a primitive. Special forms may also be arguments, and they are also evaluated.\n",
    "    - The apply function is then called with the operator and the reduced arguments.\n",
    "\n",
    "## The Apply Function\n",
    "- The base case are built-in primitive procedures\n",
    "- The recursive calls of Apply on a user-defined procedure will repeatedly call eval on the body of the user-defined procedure.\n",
    "\n",
    "## Environments\n",
    "- Eval must be given an environment so that it could properly look up names bound to symbols in that environment.\n",
    "- The environments that are used by Eval are created when Apply is ran on a user-defined feature.\n",
    "\n",
    "# Special Forms\n",
    "- The scheme_eval function dispatches on expression forms, different actions are performed on different expressions:\n",
    "    - Symbols are bound to values in the current environment.\n",
    "    - Self-evaluating expressions are returned.\n",
    "    - All other legal expressions in scheme are represented as Scheme lists, called combinations.\n",
    "- Special forms are identified by the first list element. All other expressions that are not special forms are just call expressions."
   ]
  },
  {
   "cell_type": "code",
   "execution_count": null,
   "metadata": {
    "vscode": {
     "languageId": "plaintext"
    }
   },
   "outputs": [],
   "source": [
    "(if <predicate> <consequent> <alternative>)\n",
    "(lambda (<formal-parameters>) <body>)\n",
    "(define <name> <expression>)"
   ]
  },
  {
   "cell_type": "markdown",
   "metadata": {},
   "source": [
    "- Ex: The following is a user-defined procedure that appends 3 to the end of a scheme list"
   ]
  },
  {
   "cell_type": "code",
   "execution_count": null,
   "metadata": {
    "vscode": {
     "languageId": "plaintext"
    }
   },
   "outputs": [],
   "source": [
    "(define (demo s)\n",
    "    (if (null? s)\n",
    "        '(3) ; must be a list containing 3\n",
    "        (cons (car s) (demo (cdr s)))\n",
    "    )\n",
    ")"
   ]
  },
  {
   "cell_type": "markdown",
   "metadata": {},
   "source": [
    "# Logical Forms\n",
    "- Logical special forms involve conditions and may only evaluate certain some sub-expressions.\n",
    "    - **If** expression: \n",
    "        - `(if <predicate> <consequent> <alternative>)`\n",
    "    - **And** and **or**:\n",
    "        - `(and <e1> ... <en>)`\n",
    "        - `(or <e1> ... <en>)`\n",
    "        - And may short circuit if any of the expressions prematurely evaluates to false.\n",
    "        - Or may short circuit and return the first value that happens to be true.\n",
    "    - **Cond** expression:\n",
    "        - `(cond (<p1 e1>) (<p2 e2>) ... (<pn en>) <else e>)`\n",
    "        - Enables elif clauses.\n",
    "- The value of an **if** expression is the value of a sub-expression\n",
    "    - Evaluate the predicate.\n",
    "    - Chose a sub-expression `<consequent>` or `alternative`, and evaluate that sub-expression in the place of the whole expression.\n",
    "    - Keep in mind, the only things that are evaluated within an if statement is the predicate and the relevant sub-expression. The `if` keyword itself is not evaluated.\n",
    "    - The other expression is never evaluated\n",
    "\n",
    "# Quotation\n",
    "- The quote special form evaluates to a quoted expression that is not evaluated.\n",
    "    - The `<expression>` is the value of the expression.\n",
    "    - `'<expression>` is shorthand for `(quote <expression>)`\n",
    "- Ex:"
   ]
  },
  {
   "cell_type": "code",
   "execution_count": null,
   "metadata": {
    "vscode": {
     "languageId": "plaintext"
    }
   },
   "outputs": [],
   "source": [
    "scm> (quote (+ 1 2))\n",
    "(+ 1 2)"
   ]
  },
  {
   "cell_type": "markdown",
   "metadata": {},
   "source": [
    "# Lambda Expression\n",
    "- Lambda expressions evaluate to user-defined procedures.\n",
    "    - Evaluating a lambda expression yields a new procedure.\n",
    "    - A lambda expression has formal parameters and a body.\n",
    "    - `(lambda (<formal-parameters>) <body>)`\n",
    "- Ex:"
   ]
  },
  {
   "cell_type": "code",
   "execution_count": null,
   "metadata": {
    "vscode": {
     "languageId": "plaintext"
    }
   },
   "outputs": [],
   "source": [
    "scm> (lambda (x) (* x x))"
   ]
  },
  {
   "cell_type": "markdown",
   "metadata": {},
   "source": [
    "- Besides formals and a body, the first frame within the environment in which the lambda procedure was defined is bound to the environment.\n",
    "\n",
    "## Frames and Environments\n",
    "- A frame represents an environment by having a parent frame.\n",
    "- We may `lookup` and `define` names.\n",
    "- When names are evaluated, they are looked up in the current frame, followed by the parent frames, until the parent frame.\n",
    "\n",
    "# Define Expressions\n",
    "- Define expressions bound a symbol to a value in the first frame of the current environment.\n",
    "    - `(define <name> <expression>)`\n",
    "- Execution procedure:\n",
    "    - Evaluate the `<expression>`.\n",
    "    - Bind `<name>` to its value in the current frame.\n",
    "- Ex:"
   ]
  },
  {
   "cell_type": "code",
   "execution_count": null,
   "metadata": {
    "vscode": {
     "languageId": "plaintext"
    }
   },
   "outputs": [],
   "source": [
    "scm> (define x (+ 1 2))\n",
    "x\n",
    "scm> x\n",
    "3"
   ]
  },
  {
   "cell_type": "markdown",
   "metadata": {},
   "source": [
    "- Procedure definition with define is just shorthand for lambda expression. Thus, the following two expressions are complete equivalent and are interpreted the same way:\n",
    "    - `(define (<name> <formal parameters>) <body>)`\n",
    "    - `(define <name> (lambda (<formal parameters>) <body>))`\n",
    "- Applying User-Defined Procedures\n",
    "    - To apply a user-defined procedure, create a new frame where formal parameters are bound to argument values, and the parent is the `env` of the procedure (that is, the environment where the procedure was originally defined).\n",
    "    - Evaluate the body of the procedure in the environment that starts with the new frame that was created.\n",
    "- CS61A Scheme environments do not have return values attached to them.\n",
    "\n",
    "# Dynamic Scope\n",
    "- The way that names are looked up in Scheme and Python is called **lexical scope** (or **static scope**).\n",
    "- **Lexical Scope:** The parent of a frame is the environment in which a procedure was *defined*\n",
    "- **Dynamic Scope:** The paernt of a frame is the environment in which a procedure was *called*.\n",
    "- Ex:\n",
    "    - If we were to use lexical scoping, then the parent frame of f would be the global frame, so scheme would not be able to find the value that y represents.\n",
    "    - If we were to to use dynamic scoping, then the parent frame of f would be g's frame, in which we assigned 7 to the symbol y, so we'd get 13."
   ]
  },
  {
   "cell_type": "code",
   "execution_count": null,
   "metadata": {
    "vscode": {
     "languageId": "plaintext"
    }
   },
   "outputs": [],
   "source": [
    "scm> (define f (lambda (x) (+ x y)))\n",
    "f\n",
    "scm> (define g (lambda (x y) (f (+ x x))))\n",
    "g\n",
    "scm> (g 3 7)"
   ]
  }
 ],
 "metadata": {
  "kernelspec": {
   "display_name": "Python 3",
   "language": "python",
   "name": "python3"
  },
  "language_info": {
   "codemirror_mode": {
    "name": "ipython",
    "version": 3
   },
   "file_extension": ".py",
   "mimetype": "text/x-python",
   "name": "python",
   "nbconvert_exporter": "python",
   "pygments_lexer": "ipython3",
   "version": "3.10.12"
  }
 },
 "nbformat": 4,
 "nbformat_minor": 2
}
