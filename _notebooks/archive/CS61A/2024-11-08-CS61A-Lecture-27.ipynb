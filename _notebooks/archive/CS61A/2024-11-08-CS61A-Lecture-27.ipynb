{
 "cells": [
  {
   "cell_type": "markdown",
   "metadata": {},
   "source": [
    "---\n",
    "- title: \"'CS61A: Lecture 27'\"\n",
    "- author: alex\n",
    "- badges: true\n",
    "- comments: true\n",
    "- categories: [CS61A]\n",
    "- date: 2024-11-08 1:00:00 -0800\n",
    "- math: true\n",
    "- tags: [CS61A, Scheme]\n",
    "---"
   ]
  },
  {
   "cell_type": "markdown",
   "metadata": {},
   "source": [
    "# List Processing Procedures Review\n",
    "- Built-in Methods:\n",
    "    -`(append s t)`: Concatenates two or more lists together into a new list  \n",
    "    -`(map f s)`: Call a procedures f on each element of a list and returns a new list with the results of the procedure.  \n",
    "    -`(filter f s)`: Return a new list with only the elements of the old list that evaluate as true through the procedure f.  \n",
    "    -`(apply f s)`: Call a procedure f with the leements of a list s as its arguments.  \n",
    "- Quasiquote (`): Within a quasiquote, we can terminate where we literally interperate elements\n",
    "- Ex: Write a procedure to return how many cons cells appear in the diagram for a value s."
   ]
  },
  {
   "cell_type": "code",
   "execution_count": null,
   "metadata": {
    "vscode": {
     "languageId": "plaintext"
    }
   },
   "outputs": [],
   "source": [
    "(define (cons-count s)\n",
    "    (if (list? s) ; Check if the element is a list or not\n",
    "        (+ (length s) (apply + (map cons-counts))) ; If it is a list, we add the length of each element that is a list onto the length of the list\n",
    "        0 ; An element that is just itself has 0 additional cons.\n",
    "    )\n",
    ")"
   ]
  },
  {
   "cell_type": "markdown",
   "metadata": {},
   "source": [
    "## Exceptions\n",
    "- We may catch certain errors in Python and perform some other action if an error or a particular error is encountered.\n",
    "\n",
    "## Calculator Syntax\n",
    "- The Calculator language has primitive expressions and call expressions.\n",
    "- A primitive expression is a number: 2, -4 5.6\n",
    "- A call expression is a combination that begins with an opreator (+, -, *, /) followed by 0 or more expressions:\n",
    "    - (+ 1 2 3)\n",
    "    - (/ 3 (+ 4 5))\n",
    "- These expressions may be expressed as a tree.\n",
    "- Primitives evaluates to themselves, while a call evaluates to its argument values comboined by an operator."
   ]
  },
  {
   "cell_type": "code",
   "execution_count": null,
   "metadata": {
    "vscode": {
     "languageId": "plaintext"
    }
   },
   "outputs": [],
   "source": []
  }
 ],
 "metadata": {
  "kernelspec": {
   "display_name": "Python 3",
   "language": "python",
   "name": "python3"
  },
  "language_info": {
   "codemirror_mode": {
    "name": "ipython",
    "version": 3
   },
   "file_extension": ".py",
   "mimetype": "text/x-python",
   "name": "python",
   "nbconvert_exporter": "python",
   "pygments_lexer": "ipython3",
   "version": "3.10.12"
  }
 },
 "nbformat": 4,
 "nbformat_minor": 2
}
