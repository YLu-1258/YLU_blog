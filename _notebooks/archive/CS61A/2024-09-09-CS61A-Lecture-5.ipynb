{
 "cells": [
  {
   "cell_type": "markdown",
   "metadata": {},
   "source": [
    "---\n",
    "- title: \"'CS61A: Lecture 5'\"\n",
    "- author: alex\n",
    "- badges: true\n",
    "- comments: true\n",
    "- categories: [CS61A]\n",
    "- date: 2024-09-09 12:00:00 -0800\n",
    "- tags: [CS61A]\n",
    "---"
   ]
  },
  {
   "cell_type": "markdown",
   "metadata": {},
   "source": [
    "# Lecture\n",
    "- Sample question: What does the long expression print?"
   ]
  },
  {
   "cell_type": "code",
   "execution_count": 10,
   "metadata": {},
   "outputs": [
    {
     "name": "stdout",
     "output_type": "stream",
     "text": [
      "Knock Knock\n",
      "Who's There?\n",
      "None\n",
      "None Who?\n"
     ]
    }
   ],
   "source": [
    "s = \"Knock\"\n",
    "print(print(print(s,s) or print(\"Who's There?\")), \"Who?\")"
   ]
  },
  {
   "cell_type": "markdown",
   "metadata": {},
   "source": [
    "- First evaluate the operands\n",
    "    - `print(s,s)` outputs \"Knock Knock\" and returns `None`\n",
    "    - `print(\"Who's There?\")` outputs \"Knock Knock\" and returns `None`\n",
    "    - `print(s,s) or print(\"Who's There?\")` evaluates to `None`\n",
    "        - In this expression, we short-circuit and print None as that is what was last evaluated. The or statement always return the result of the last expression it evaluates.\n",
    "        - The or statement first evaluates the \\<left> expression, and if \\<left> is true, it returns the output of left.\n",
    "        - If \\<left> is False, the or statement then evaluates the \\<right> expression, and returns what right outputs.\n",
    "    - None is then printed by `print(print(s,s) or print(\"Who's There?\"))` which is the same as `print(None)`. `None` is then returned.\n",
    "    - `print(print(print(s,s) or print(\"Who's There?\")), \"Who?\")` effectively becomes `print(None, \"Who?)` and `None Who?` is returned.\n",
    "\n",
    "    "
   ]
  },
  {
   "cell_type": "code",
   "execution_count": 20,
   "metadata": {},
   "outputs": [
    {
     "name": "stdout",
     "output_type": "stream",
     "text": [
      "None\n"
     ]
    }
   ],
   "source": [
    "print(False or None)"
   ]
  },
  {
   "cell_type": "markdown",
   "metadata": {},
   "source": [
    "# Environments for Higher-Order Functions\n",
    "- Number of environments == Number of frames\n",
    "- A frame always gets its parent from the function that it gets called in"
   ]
  },
  {
   "cell_type": "code",
   "execution_count": 24,
   "metadata": {},
   "outputs": [
    {
     "data": {
      "text/plain": [
       "17"
      ]
     },
     "execution_count": 24,
     "metadata": {},
     "output_type": "execute_result"
    }
   ],
   "source": [
    "def make_adder(n):\n",
    "    return lambda m : m + n\n",
    "\n",
    "make_adder(3)(4)+make_adder(5)(5)\n"
   ]
  },
  {
   "cell_type": "markdown",
   "metadata": {},
   "source": [
    "# Lambda Expression\n",
    "- Not intrinsically named like def functions."
   ]
  }
 ],
 "metadata": {
  "kernelspec": {
   "display_name": "Python 3",
   "language": "python",
   "name": "python3"
  },
  "language_info": {
   "codemirror_mode": {
    "name": "ipython",
    "version": 3
   },
   "file_extension": ".py",
   "mimetype": "text/x-python",
   "name": "python",
   "nbconvert_exporter": "python",
   "pygments_lexer": "ipython3",
   "version": "3.10.12"
  }
 },
 "nbformat": 4,
 "nbformat_minor": 2
}
