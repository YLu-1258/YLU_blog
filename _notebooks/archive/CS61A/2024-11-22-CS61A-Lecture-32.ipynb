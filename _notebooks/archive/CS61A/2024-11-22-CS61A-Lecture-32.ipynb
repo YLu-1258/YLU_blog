{
 "cells": [
  {
   "cell_type": "markdown",
   "metadata": {},
   "source": [
    "---\n",
    "- title: \"'CS61A: Lecture 32'\"\n",
    "- author: alex\n",
    "- badges: true\n",
    "- comments: true\n",
    "- categories: [CS61A]\n",
    "- date: 2024-11-22 1:00:00 -0800\n",
    "- math: true\n",
    "- tags: [CS61A, SQL]\n",
    "---"
   ]
  },
  {
   "cell_type": "markdown",
   "metadata": {},
   "source": [
    "# SELECT statements\n",
    "- A SELECT statement specifies an input table using `FROM [table]`\n",
    "    - `SELECT [columns] FROM [table] WHERE [condition] ORDER BY [order];`\n",
    "    - `SELECT [expression] AS [name], [expression] AS name;`\n",
    "    - We can optionally use `[column] AS [name]` to rename the input column in our new table.\n",
    "    - Column descriptions determine how each input row is projected to a result row.\n",
    "    - A subset of the rows can be selected (i.e. filtered) using `WHERE [condition]`\n",
    "    - An ordering can be declared using `ORDER BY [column]`\n",
    "- To save the subset of the table we generate using select, we must concatenate the select statement to the `CREATE TABLE [name]` statement using `AS`.\n",
    "    - `CREATE TABLE [name] AS [SELECT statement]`\n",
    "- To Generate a table by stupid brute force:"
   ]
  },
  {
   "cell_type": "code",
   "execution_count": null,
   "metadata": {
    "vscode": {
     "languageId": "plaintext"
    }
   },
   "outputs": [],
   "source": [
    "CREATE TABLE [name] AS\n",
    "SELECT [value] AS [column name], [value] AS [column name] UNION\n",
    "SELECT [VALUE], [value] UNION\n",
    "SELECT [VALUE], [value];"
   ]
  },
  {
   "cell_type": "markdown",
   "metadata": {},
   "source": [
    "# Joining two tables\n",
    "- Tables `A` & `B` are joined by a comma (or JOIN) to form a new table of all the combinations of the rows of A with the rows of B\n",
    "- To format these new tables to reduce ambiguity (duplicate table names) we may assign an alias to each column name."
   ]
  },
  {
   "cell_type": "code",
   "execution_count": null,
   "metadata": {
    "vscode": {
     "languageId": "plaintext"
    }
   },
   "outputs": [],
   "source": [
    "SELECT \n",
    "A.column1 as a_col1,\n",
    "A.column2 as a_col2,\n",
    "B.column1 as b_col1,\n",
    "B.column2 as b_col2,\n",
    "FROM A, B;"
   ]
  },
  {
   "cell_type": "markdown",
   "metadata": {},
   "source": [
    "# Adding to a table\n",
    "- We use the `INSERT INTO` statement to new rows into a table."
   ]
  },
  {
   "cell_type": "code",
   "execution_count": null,
   "metadata": {
    "vscode": {
     "languageId": "sql"
    }
   },
   "outputs": [],
   "source": [
    "INSERT INTO [table name] VALUES ([value for col1], [value for col2])"
   ]
  },
  {
   "cell_type": "markdown",
   "metadata": {},
   "source": [
    "# Joining a table with itself\n",
    "- To join a table with itself, (to create combinations of our original data) we use aliases to distinguish between the same columns of the same table."
   ]
  },
  {
   "cell_type": "code",
   "execution_count": null,
   "metadata": {
    "vscode": {
     "languageId": "sql"
    }
   },
   "outputs": [],
   "source": [
    "SELECT [alias1].[column] as [name1], [alias2].[column] as [name2],\n",
    "FROM [table name] as [alias1], [table name] as [alias2],\n",
    "WHERE [CONDITION]"
   ]
  },
  {
   "cell_type": "code",
   "execution_count": null,
   "metadata": {
    "vscode": {
     "languageId": "sql"
    }
   },
   "outputs": [],
   "source": [
    "SELECT parent from parents, dogs WHERE child = name AND fur = \"curly\""
   ]
  },
  {
   "cell_type": "markdown",
   "metadata": {},
   "source": [
    "- Expressions may contain function calls and arithmetic operators\n",
    "    - Combine valiues: +, -, *, /, %, and, or\n",
    "    - Transformvalues: abs, round\n",
    "    - Compare values: <, <=, >, >=, =\n",
    "- String avlues can be combined to form longer strings"
   ]
  }
 ],
 "metadata": {
  "language_info": {
   "name": "python"
  }
 },
 "nbformat": 4,
 "nbformat_minor": 2
}
