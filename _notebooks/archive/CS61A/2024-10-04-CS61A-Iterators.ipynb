{
 "cells": [
  {
   "cell_type": "markdown",
   "metadata": {},
   "source": [
    "---\n",
    "- title: \"'CS61A: Iterators'\"\n",
    "- author: alex\n",
    "- badges: true\n",
    "- comments: true\n",
    "- categories: [CS61A]\n",
    "- date: 2024-10-04 6:00:00 -0800\n",
    "- math: true\n",
    "- tags: [CS61A, iterators]\n",
    "---"
   ]
  },
  {
   "cell_type": "markdown",
   "metadata": {},
   "source": [
    "# Iterators\n",
    "- Most forms of sequential data are implicity represented with an iterator.\n",
    "- Iterators are a programming interface that are used in python to access the elements of various containers.\n",
    "- A container provides an iterator that provides access to its element in some order\n",
    "    - `iter(iterable)`\n",
    "        - Returns an iterator over the elememts of the iterable.\n",
    "    - `next(iterator)`\n",
    "        - Returns the next element in an iterator\n",
    "- The iterator in python knows the contents of a sequence, has a pointer to the current value, and also has a marker for what's next in the list.\n",
    "    - Iterators basically mark out a position within the list.\n",
    "    - Provides access to the element within that position, and everything after it.\n",
    "    "
   ]
  },
  {
   "cell_type": "code",
   "execution_count": 10,
   "metadata": {},
   "outputs": [
    {
     "name": "stdout",
     "output_type": "stream",
     "text": [
      "first call to next(t) 3\n",
      "second call to next(t) 4\n",
      "first call to next(u): 3\n",
      "third call to next(t): 5\n"
     ]
    }
   ],
   "source": [
    "s = [3, 4, 5]\n",
    "t = iter(s)\n",
    "print(\"first call to next(t)\", next(t))\n",
    "print(\"second call to next(t)\", next(t))\n",
    "u = iter(s)\n",
    "print(\"first call to next(u):\", next(u))\n",
    "print(\"third call to next(t):\", next(t))"
   ]
  },
  {
   "cell_type": "markdown",
   "metadata": {},
   "source": [
    "- A list is not an iterator, but we may create an iterator for a list\n",
    "- An iterator only stores what is left to iterate over.\n"
   ]
  },
  {
   "cell_type": "code",
   "execution_count": 13,
   "metadata": {},
   "outputs": [
    {
     "name": "stdout",
     "output_type": "stream",
     "text": [
      "[3, 4, 5]\n"
     ]
    },
    {
     "ename": "StopIteration",
     "evalue": "",
     "output_type": "error",
     "traceback": [
      "\u001b[0;31m---------------------------------------------------------------------------\u001b[0m",
      "\u001b[0;31mStopIteration\u001b[0m                             Traceback (most recent call last)",
      "Cell \u001b[0;32mIn[13], line 6\u001b[0m\n\u001b[1;32m      4\u001b[0m \u001b[38;5;28mnext\u001b[39m(t)\n\u001b[1;32m      5\u001b[0m \u001b[38;5;28mprint\u001b[39m(\u001b[38;5;28mlist\u001b[39m(t)) \u001b[38;5;66;03m# Only [3,4,5] have not been accessed yet, they are the only values remaining in the iterator.\u001b[39;00m\n\u001b[0;32m----> 6\u001b[0m \u001b[38;5;28;43mnext\u001b[39;49m\u001b[43m(\u001b[49m\u001b[43mt\u001b[49m\u001b[43m)\u001b[49m \u001b[38;5;66;03m# Calling list on the remaining values in the iterator will also \"iterate\" over those values, we get an error on this line\u001b[39;00m\n",
      "\u001b[0;31mStopIteration\u001b[0m: "
     ]
    }
   ],
   "source": [
    "s = [1,2,3,4,5]\n",
    "t = iter(s)\n",
    "next(t)\n",
    "next(t)\n",
    "print(list(t)) # Only [3,4,5] have not been accessed yet, they are the only values remaining in the iterator.\n",
    "next(t) # Calling list on the remaining values in the iterator will also \"iterate\" over those values, we get an error on this line"
   ]
  },
  {
   "cell_type": "markdown",
   "metadata": {},
   "source": [
    "## Dictionary Iteration\n",
    "- We may get different views of objects in a dictionary.\n",
    "- *iterables* are any values that can be passed to `iter()` to produce an iterator\n",
    "- *iterators* are values returned from *iter* that may be passed to *next*\n",
    "    - All iterators are mutable\n",
    "    - Calling `next()` or some other function that access element(s) from the iterator, will mutate the iterator to point to the next unaccessed element.\n",
    "- The dictionary, its keys, its values, and its items are all iterable values.\n",
    "    - Order of items within a dictionary is the order in which they are added (Python 3.6+)\n",
    "    - Historically, items appeared in an arbitrary order (Python 3.5 and earlier)\n"
   ]
  },
  {
   "cell_type": "code",
   "execution_count": 17,
   "metadata": {},
   "outputs": [
    {
     "name": "stdout",
     "output_type": "stream",
     "text": [
      "one\n",
      "two\n",
      "three\n",
      "zero\n"
     ]
    }
   ],
   "source": [
    "d = {'one': 1, 'two': 2, 'three': 3}\n",
    "d['zero'] = 0\n",
    "k = iter(d.keys()) # or iter(d)\n",
    "print(next(k))\n",
    "print(next(k))\n",
    "print(next(k))\n",
    "print(next(k))"
   ]
  },
  {
   "cell_type": "code",
   "execution_count": 18,
   "metadata": {},
   "outputs": [
    {
     "name": "stdout",
     "output_type": "stream",
     "text": [
      "1\n",
      "2\n",
      "3\n",
      "0\n"
     ]
    }
   ],
   "source": [
    "v = iter(d.values())\n",
    "print(next(v))\n",
    "print(next(v))\n",
    "print(next(v))\n",
    "print(next(v))"
   ]
  },
  {
   "cell_type": "code",
   "execution_count": 19,
   "metadata": {},
   "outputs": [
    {
     "name": "stdout",
     "output_type": "stream",
     "text": [
      "('one', 1)\n",
      "('two', 2)\n",
      "('three', 3)\n",
      "('zero', 0)\n"
     ]
    }
   ],
   "source": [
    "i = iter(d.items()) # items within dictionaries represented as key-value pairs of tuples\n",
    "print(next(i))\n",
    "print(next(i))\n",
    "print(next(i))\n",
    "print(next(i))"
   ]
  },
  {
   "cell_type": "markdown",
   "metadata": {},
   "source": [
    "- If we make any additions or removals to the dictionary size while an iterator is active, that iterator would become invalid because the dictionary had been mutated.\n",
    "\n",
    "## For Statements\n",
    "- Iterates over iterable values and iterators.\n",
    "    - For iterators, the for loop increments the marker of the iterator all the way to the end of the sequence.\n",
    "    - Once we reach the end of an iterator, nothing would be returned by the iterator.\n",
    "    - We can iterate through an iterable object as many times as I'd like."
   ]
  },
  {
   "cell_type": "code",
   "execution_count": 5,
   "metadata": {},
   "outputs": [
    {
     "name": "stdout",
     "output_type": "stream",
     "text": [
      "3\n",
      "4\n",
      "5\n"
     ]
    }
   ],
   "source": [
    "ri = iter(range(3, 6))\n",
    "for i in ri:\n",
    "    print(i)\n",
    "\n",
    "for i in ri: # Nothing gets printed this loop\n",
    "    print(i)"
   ]
  },
  {
   "cell_type": "markdown",
   "metadata": {},
   "source": [
    "# Built-In Iterator Functions\n",
    "- These functions take in an iterable and returns an iterator.\n",
    "- Most built-in Python sequence operations return iterators that compute results lazily.\n",
    "    - This means that not everything within the sequence is computed and stored in memory. The values are computed the instant that the value is being accessed.\n",
    "\n",
    "## Map function\n",
    "- `map(func, iterable)` \n",
    "    - Applies the function to every element in the iterable.\n",
    "    - Does not apply the function immediately, rather, an iterator is returned that iterates over every `func(x)`.\n",
    "- `filter(func, iterable)`\n",
    "    - The returned iterable iterates every over every x in the iterable so long as `func(x)` returns true.\n",
    "- `zip(first_iter, second_iter)`\n",
    "    - Iterates over co-indexed pairs of elements from both iterables\n",
    "- `reversed(sequence)`\n",
    "    - Iterates over x in a sequence in reverse order\n",
    "    "
   ]
  },
  {
   "cell_type": "code",
   "execution_count": 12,
   "metadata": {},
   "outputs": [
    {
     "name": "stdout",
     "output_type": "stream",
     "text": [
      "1\n",
      "2\n",
      "3\n",
      "4\n",
      "5\n",
      "6\n"
     ]
    }
   ],
   "source": [
    "i1 = iter([1,2,3,4,5,6])\n",
    "i2 = iter([2,4,6,8,10,12])\n",
    "for x, y in zip(i1, i2):\n",
    "    print(y-x)"
   ]
  },
  {
   "cell_type": "markdown",
   "metadata": {},
   "source": [
    "- To view the (remaining) contents of an iterator, place the resulting elements into a container\n",
    "    - `list(iterable)`\n",
    "        - Creates a list containing all x left in iterable.\n",
    "    - `tuple(iterable)`\n",
    "        - Creates a tuple containing all x left in iterable.\n",
    "    - `sorted(iterable)`\n",
    "        - Creates a sorted list containing all x left in iterable.\n",
    "- Example 1:"
   ]
  },
  {
   "cell_type": "code",
   "execution_count": 16,
   "metadata": {},
   "outputs": [
    {
     "name": "stdout",
     "output_type": "stream",
     "text": [
      "** 1 => 2 **\n",
      "2\n",
      "** 2 => 4 **\n",
      "4\n",
      "** 3 => 6 **\n",
      "6\n",
      "** 4 => 8 **\n",
      "8\n"
     ]
    }
   ],
   "source": [
    "def double(x):\n",
    "    print('**', x, '=>', 2*x, '**')\n",
    "    return 2*x\n",
    "\n",
    "m = map(double, [1,2,3,4]) # This is lazy construction\n",
    "print(next(m)) # Each value within the map is not calculated until it is invoked.\n",
    "print(next(m))\n",
    "print(next(m))\n",
    "print(next(m))"
   ]
  },
  {
   "cell_type": "markdown",
   "metadata": {},
   "source": [
    "- Example 2:\n",
    "    - In this case, the filter iterator did just as much work that it needed to do to return the first valid value (2*5 = 10 >= 10), and stops computation there."
   ]
  },
  {
   "cell_type": "code",
   "execution_count": 21,
   "metadata": {},
   "outputs": [
    {
     "name": "stdout",
     "output_type": "stream",
     "text": [
      "** 3 => 6 **\n",
      "** 4 => 8 **\n",
      "** 5 => 10 **\n",
      "10\n"
     ]
    }
   ],
   "source": [
    "m = map(double, range(3, 7))\n",
    "f = lambda y: y >= 10\n",
    "t = filter(f, m)\n",
    "print(next(t))"
   ]
  },
  {
   "cell_type": "markdown",
   "metadata": {},
   "source": [
    "- Invoking list or any other container constructor on these iterators will immediately exahust all remaining values within that iterator.\n",
    "- This type of lazy computation saves a lot of time as we do not always calculate values that we do not need.\n",
    "- Do not ever compare equality or identity between a list and an iterator, it will return `False`.\n",
    "\n",
    "## The Zip Function\n",
    "- The built-in `zip` function returns an iterator over tuples of co-indexed pairs from each iterable."
   ]
  },
  {
   "cell_type": "code",
   "execution_count": 23,
   "metadata": {},
   "outputs": [
    {
     "data": {
      "text/plain": [
       "[(1, 3), (2, 4)]"
      ]
     },
     "execution_count": 23,
     "metadata": {},
     "output_type": "execute_result"
    }
   ],
   "source": [
    "list(zip([1,2], [3,4]))"
   ]
  },
  {
   "cell_type": "markdown",
   "metadata": {},
   "source": [
    "- If one iterable happens to be longer than the other, `zip` only iterates over the matched indicies and skips any extra elements.\n",
    "- More than two iterables may be passed to `zip`."
   ]
  },
  {
   "cell_type": "code",
   "execution_count": 24,
   "metadata": {},
   "outputs": [
    {
     "data": {
      "text/plain": [
       "[(1, 2, 3), (2, 3, 4), (3, 4, 5)]"
      ]
     },
     "execution_count": 24,
     "metadata": {},
     "output_type": "execute_result"
    }
   ],
   "source": [
    "list(zip([1,2,3],[2,3,4],[3,4,5]))"
   ]
  },
  {
   "cell_type": "markdown",
   "metadata": {},
   "source": [
    "- Example: Implement **palindrome**, to check whether `s` is the same forward and backward."
   ]
  },
  {
   "cell_type": "code",
   "execution_count": 27,
   "metadata": {},
   "outputs": [
    {
     "data": {
      "text/plain": [
       "True"
      ]
     },
     "execution_count": 27,
     "metadata": {},
     "output_type": "execute_result"
    }
   ],
   "source": [
    "def palindrome(s):\n",
    "    return all([a == b for a, b in zip(s, reversed(s))])\n",
    "\n",
    "palindrome(\"racecar\")"
   ]
  },
  {
   "cell_type": "markdown",
   "metadata": {},
   "source": [
    "## Reasons for Using Iterators\n",
    "- When code is written to process iterators, the code makes few assumptions about the data.\n",
    "    - We do not assume the type of the data\n",
    "    - Thus, when we change representation from a list to a tuple, map object, or dict_keys does not require rewriting our existing code.\n",
    "- Iterators also bundle a sequence and the position within the sequence as one object.\n",
    "    - Passing the iterator to other functions wil always retain the current position within the iterator.\n",
    "    - We may ensure that each element of the sequence is processed only once.\n",
    "- Passing iterators around limits the operations that may be performed on the sequence to only using the `next()` function.\n",
    "\n"
   ]
  }
 ],
 "metadata": {
  "kernelspec": {
   "display_name": "Python 3",
   "language": "python",
   "name": "python3"
  },
  "language_info": {
   "codemirror_mode": {
    "name": "ipython",
    "version": 3
   },
   "file_extension": ".py",
   "mimetype": "text/x-python",
   "name": "python",
   "nbconvert_exporter": "python",
   "pygments_lexer": "ipython3",
   "version": "3.10.12"
  }
 },
 "nbformat": 4,
 "nbformat_minor": 2
}
