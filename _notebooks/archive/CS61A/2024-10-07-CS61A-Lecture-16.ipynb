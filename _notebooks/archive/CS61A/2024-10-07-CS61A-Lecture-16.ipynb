{
 "cells": [
  {
   "cell_type": "markdown",
   "metadata": {},
   "source": [
    "---\n",
    "- title: \"'CS61A: Lecture 16'\"\n",
    "- author: alex\n",
    "- badges: true\n",
    "- comments: true\n",
    "- categories: [CS61A]\n",
    "- date: 2024-10-07 6:00:00 -0800\n",
    "- math: true\n",
    "- tags: [CS61A, generator]\n",
    "---"
   ]
  },
  {
   "cell_type": "markdown",
   "metadata": {},
   "source": [
    "# Generators\n",
    "- An iterable is any sequence we can iterate over (we may clal iter() on the iterator and get an iterator)\n",
    "- An iterator allows us to iterate over any iterable sequence (we can call next() on it and get the next item in the sequence)\n",
    "    - iter()\n",
    "    - enumerate()\n",
    "    - map()\n",
    "    - zip()\n",
    "    - range()"
   ]
  },
  {
   "cell_type": "code",
   "execution_count": 8,
   "metadata": {},
   "outputs": [
    {
     "data": {
      "text/plain": [
       "[1, [3], [4], [5, [1]]]"
      ]
     },
     "execution_count": 8,
     "metadata": {},
     "output_type": "execute_result"
    }
   ],
   "source": [
    "from tree import *\n",
    "def exclude(t, x):\n",
    "    filtered_branches = map(lambda y: exclude(y, x), branches(t))\n",
    "    bs = []\n",
    "    for b in filtered_branches:\n",
    "        if label(b) == x:\n",
    "            bs.extend(branches(b))\n",
    "        else:\n",
    "            bs.append(b)\n",
    "    return tree(label(t), bs)\n",
    "\n",
    "t = tree(1, [tree(2, [tree(2), tree(3), tree(4)]), tree(5, [tree(1)])])\n",
    "exclude(t, 2)"
   ]
  }
 ],
 "metadata": {
  "kernelspec": {
   "display_name": "Python 3",
   "language": "python",
   "name": "python3"
  },
  "language_info": {
   "codemirror_mode": {
    "name": "ipython",
    "version": 3
   },
   "file_extension": ".py",
   "mimetype": "text/x-python",
   "name": "python",
   "nbconvert_exporter": "python",
   "pygments_lexer": "ipython3",
   "version": "3.10.12"
  }
 },
 "nbformat": 4,
 "nbformat_minor": 2
}
