{
 "cells": [
  {
   "cell_type": "markdown",
   "metadata": {},
   "source": [
    "---\n",
    "- title: \"'CS61A: Defining Functions'\"\n",
    "- author: alex\n",
    "- badges: true\n",
    "- comments: true\n",
    "- categories: [CS61A]\n",
    "- date: 2024-08-29 02:00:00 -0800\n",
    "- tags: [CS61A, functions]\n",
    "---"
   ]
  },
  {
   "cell_type": "markdown",
   "metadata": {},
   "source": [
    "# Defining Functions\n",
    "- Assignment -> abstraction (names are associated to values.)\n",
    "    - Functions give more flexibility as the names are dynamic. They change as the expression re-evaluates.\n",
    "- This allows us to wrap something complex in a simple statement that we can reuse in our code.\n",
    "- In python:\n",
    "```python\n",
    ">>> def <name>(<formal parameters>):\n",
    "    return <return expression>\n",
    "```\n",
    "- Parameters are argument values passed into the function to be processed. (the name and arguments is the function signature)\n",
    "- The return expression is evaluated with every call. \n",
    " "
   ]
  },
  {
   "cell_type": "markdown",
   "metadata": {},
   "source": [
    "# Execution procedure for def statements:\n",
    "1. The function is created with a signature\n",
    "2. Create the body of the function to be indented after the first line.\n",
    "    - The body is not actually executed until the function is called.\n",
    "    - Because of the above statement, the function body is not shown immediately in the environmental diagram.\n",
    "3. The name of the function is bound to the function in the current frame."
   ]
  },
  {
   "cell_type": "markdown",
   "metadata": {},
   "source": [
    "# Calling User-Defined Functions\n",
    "- Add a local frame to create a new environment.\n",
    "- Bind the function's parameters to its arguments in the frame\n",
    "- Execute the body of the function in the new environment (in the body of the function).\n",
    "- Once a Function is called, we add a new frame to our environment."
   ]
  },
  {
   "cell_type": "markdown",
   "metadata": {},
   "source": [
    "# Names and Environments\n",
    "- All expressions are evaluated in the context of an environment.\n",
    "    - The environment is a memory that keeps track of the name-value bindings\n",
    "- <mark>An environment is a sequence of frames</mark>\n",
    "    - Frame: Bindings between names and values.\n",
    "    - Local Frames are followed by global frames (local frame -> global frame)\n",
    "- <mark> An name evaluates to the value bound to that name in the earliest frame of the environment where the name is found </mark>\n",
    "    - In the case above, first check the local frame, then check the global frame.\n",
    "- Ex:"
   ]
  },
  {
   "cell_type": "code",
   "execution_count": null,
   "metadata": {},
   "outputs": [],
   "source": [
    "from operator import mul\n",
    "def square(square): # There appears to be a conflict between the function name and its parameter\n",
    "    return mul(square,square)\n",
    "\n",
    "square(-2)"
   ]
  },
  {
   "cell_type": "markdown",
   "metadata": {},
   "source": [
    "- And the global Frame"
   ]
  },
  {
   "cell_type": "markdown",
   "metadata": {},
   "source": [
    "Global frame\n",
    "    mul | func mul\n",
    "    square | func square(square)\n",
    "\n",
    "square\n",
    "    square | -2     // Now this means something different than before\n",
    "    return value | 4"
   ]
  },
  {
   "cell_type": "markdown",
   "metadata": {},
   "source": [
    "- The reason that we do not interpret square as the function itself within the function is because we are able to find the name square bound to the value of -2 within the local frame (which we look at first before proceeding to the Global frame) "
   ]
  }
 ],
 "metadata": {
  "kernelspec": {
   "display_name": "Python 3",
   "language": "python",
   "name": "python3"
  },
  "language_info": {
   "codemirror_mode": {
    "name": "ipython",
    "version": 3
   },
   "file_extension": ".py",
   "mimetype": "text/x-python",
   "name": "python",
   "nbconvert_exporter": "python",
   "pygments_lexer": "ipython3",
   "version": "3.10.12"
  }
 },
 "nbformat": 4,
 "nbformat_minor": 2
}
