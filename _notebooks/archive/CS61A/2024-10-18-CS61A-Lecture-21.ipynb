{
 "cells": [
  {
   "cell_type": "markdown",
   "metadata": {},
   "source": [
    "---\n",
    "- title: \"'CS61A: Lecture 21'\"\n",
    "- author: alex\n",
    "- badges: true\n",
    "- comments: true\n",
    "- categories: [CS61A]\n",
    "- date: 2024-10-18 6:00:00 -0800\n",
    "- math: true\n",
    "- tags: [CS61A, OOP, composition]\n",
    "---"
   ]
  },
  {
   "cell_type": "markdown",
   "metadata": {
    "vscode": {
     "languageId": "plaintext"
    }
   },
   "source": [
    "# Lecture\n",
    "\n",
    "## Composition\n",
    "- A linked list is a recursive data structure that represents a sequence.\n",
    "### List Efficiency - Fast\n",
    "- Appending, assigning, and list comprehensions are fast\n",
    "    - The reason that appending is so fast, is because of the way that lists are represented in the python interpreter.\n",
    "    - A list is a contiguous block of memory that actually has some additional reserved space within it for list appending\n",
    "        - When this space runs out, python will move the list contents to a memory space with more capacity.\n",
    "- Assiging is also very fast, because we can very quickly calculate the memory address to update a value through the list index.\n",
    "- List comprehension is fast because the python interpreter pre-allocates the amount of memory required for the list, and just fills in the values.\n",
    "\n",
    "### List Efficiency - Slow\n",
    "- Inserting (beginning/middle), slicing, and adding lists are slow:\n",
    "- Slicing lists is slow because it creates a copy of a list.\n",
    "- Inserting is slow as well. Whenever an element is inserted into a list, every value after the element must be shifted forward once in the list, which slows down the program. \n",
    "- Adding two lists also does not change the original lists, it makes a new list instead, which requires us to reconstruct both lists again.\n",
    "\n",
    "### Linked List Structure\n",
    "- Linked Lists are not built into python, so we must create it ourselves.\n",
    "- A linked list is either:\n",
    "    - Empty\n",
    "    - The first value and the rest of the linked list. Thus, a linked list is a pair of values.\n",
    "- The reason that we would use a linked-list is because operations such as insertion are much faster than a regular list, because we could just adjust the attributes of the Link instances.\n",
    "- Implementation:"
   ]
  },
  {
   "cell_type": "code",
   "execution_count": 1,
   "metadata": {},
   "outputs": [],
   "source": [
    "class Link:\n",
    "    empty = ()\n",
    "    def __init__(self, first, rest=empty):\n",
    "        assert rest is Link.empty or isinstance(rest, Link)\n",
    "        self.first = first\n",
    "        self.rest = rest"
   ]
  },
  {
   "cell_type": "markdown",
   "metadata": {},
   "source": [
    "- To move forward in a linked list, we just set the linked list to the rest."
   ]
  },
  {
   "cell_type": "code",
   "execution_count": 6,
   "metadata": {},
   "outputs": [
    {
     "name": "stdout",
     "output_type": "stream",
     "text": [
      "Before moving: (1->2->3)\n",
      "After moving: (2->3)\n"
     ]
    }
   ],
   "source": [
    "from linked_list import Link\n",
    "s = Link(1, Link(2, Link(3)))\n",
    "print(\"Before moving:\", s)\n",
    "s = s.rest\n",
    "print(\"After moving:\", s)"
   ]
  },
  {
   "cell_type": "markdown",
   "metadata": {},
   "source": [
    "- We may also embed a linked list within a linked list"
   ]
  },
  {
   "cell_type": "code",
   "execution_count": 2,
   "metadata": {},
   "outputs": [
    {
     "name": "stdout",
     "output_type": "stream",
     "text": [
      "5\n"
     ]
    }
   ],
   "source": [
    "s = Link(3, Link(Link(4, Link(5)), Link(6)))\n",
    "\n",
    "print(s.rest.first.rest.first)"
   ]
  },
  {
   "cell_type": "markdown",
   "metadata": {},
   "source": [
    "- Ex: Create a function that inserts a v after each v in a linked list ll."
   ]
  },
  {
   "cell_type": "code",
   "execution_count": 7,
   "metadata": {},
   "outputs": [
    {
     "name": "stdout",
     "output_type": "stream",
     "text": [
      "(2->7->1->8->8->2->8->8)\n"
     ]
    }
   ],
   "source": [
    "def double(ll, v):\n",
    "    \"\"\"Insert another v after each v in linked list ll.\n",
    "    \n",
    "    >>> ll = Link(2, Link(7, Link(1, Link(8, Link(2, Link(8))))))\n",
    "    >>> double_link(s, 8)\n",
    "    >>> print(ll)\n",
    "    (2->7->1->8->8->2->8->8)\n",
    "    \"\"\"\n",
    "    while ll is not Link.empty:\n",
    "        if ll.first == v:\n",
    "            ll.rest = Link(v, ll.rest)\n",
    "            ll = ll.rest.rest\n",
    "        else:\n",
    "            ll = ll.rest\n",
    "\n",
    "ll1 = Link(2, Link(7, Link(1, Link(8, Link(2, Link(8))))))\n",
    "double(ll1, 8)\n",
    "print(ll1)"
   ]
  },
  {
   "cell_type": "markdown",
   "metadata": {},
   "source": [
    "- Ex: Create a copy of a linked list"
   ]
  },
  {
   "cell_type": "code",
   "execution_count": 9,
   "metadata": {},
   "outputs": [
    {
     "data": {
      "text/plain": [
       "False"
      ]
     },
     "execution_count": 9,
     "metadata": {},
     "output_type": "execute_result"
    }
   ],
   "source": [
    "def copy_linked_list(ll):\n",
    "    if ll is Link.empty:\n",
    "        return ll\n",
    "    return Link(ll.first, copy_linked_list(ll.rest))\n",
    "\n",
    "s = Link(3, Link(Link(4, Link(5)), Link(6)))\n",
    "t = copy_linked_list(s)\n",
    "s is t"
   ]
  },
  {
   "cell_type": "markdown",
   "metadata": {},
   "source": [
    "- Ex: Create a slice of a linked list"
   ]
  },
  {
   "cell_type": "code",
   "execution_count": 12,
   "metadata": {},
   "outputs": [
    {
     "data": {
      "text/plain": [
       "Link(3, Link(4))"
      ]
     },
     "execution_count": 12,
     "metadata": {},
     "output_type": "execute_result"
    }
   ],
   "source": [
    "def slice_linked_list(ll, start, end):\n",
    "    assert start >= 0 and end >= 0\n",
    "    if start == end or ll is Link.empty:\n",
    "        return Link.empty\n",
    "    elif start == 0:\n",
    "        return Link(ll.first, slice_linked_list(ll.rest, start, end-1))\n",
    "    return slice_linked_list(ll.rest, start-1, end-1)\n",
    "\n",
    "\n",
    "s = Link(1, Link(2, Link(3, Link(4))))\n",
    "t = slice_linked_list(s, 2, 4)\n",
    "t\n",
    "    \n"
   ]
  }
 ],
 "metadata": {
  "kernelspec": {
   "display_name": "Python 3",
   "language": "python",
   "name": "python3"
  },
  "language_info": {
   "codemirror_mode": {
    "name": "ipython",
    "version": 3
   },
   "file_extension": ".py",
   "mimetype": "text/x-python",
   "name": "python",
   "nbconvert_exporter": "python",
   "pygments_lexer": "ipython3",
   "version": "3.10.12"
  }
 },
 "nbformat": 4,
 "nbformat_minor": 2
}
