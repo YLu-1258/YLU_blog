{
 "cells": [
  {
   "cell_type": "markdown",
   "metadata": {},
   "source": [
    "---\n",
    "- title: \"'CS61A: Lecture 30'\"\n",
    "- author: alex\n",
    "- badges: true\n",
    "- comments: true\n",
    "- categories: [CS61A]\n",
    "- date: 2024-11-18 1:00:00 -0800\n",
    "- math: true\n",
    "- tags: [CS61A, Scheme]\n",
    "---"
   ]
  },
  {
   "cell_type": "markdown",
   "metadata": {},
   "source": [
    "# Quasiquotation\n",
    "- We may extend Lisp as a language itself.\n",
    "    - We may change the language however we want.\n",
    "    - We may extend Scheme by adding more procedures to it, such as a for loop function.\n",
    "- Quasiquotation is like quotation, but we can fill stuff into along the way with other values.\n",
    "    - Quote: '(a b) = > (a b)\n",
    "    - Quasiquote: `(a, b) => (a b)\n",
    "- Parts of a quasi-quoted expression can be escaped (unquoted) and be evaluated with a `,` to evaluate sub-expressions\n",
    "    - Ex:"
   ]
  },
  {
   "cell_type": "code",
   "execution_count": null,
   "metadata": {
    "vscode": {
     "languageId": "plaintext"
    }
   },
   "outputs": [],
   "source": [
    "scm> (define b 4)\n",
    "b\n",
    "scm> '(a (+ b 1))\n",
    "(a (+ b 1))\n",
    "scm> `(a (+ b 1))\n",
    "(a (+ b 1))\n",
    "scm> `(a ,(+ b 1))\n",
    "(a 5)"
   ]
  },
  {
   "cell_type": "markdown",
   "metadata": {
    "vscode": {
     "languageId": "plaintext"
    }
   },
   "source": [
    "- We may also create lambda expressions creatively through this method:"
   ]
  },
  {
   "cell_type": "code",
   "execution_count": null,
   "metadata": {
    "vscode": {
     "languageId": "plaintext"
    }
   },
   "outputs": [],
   "source": [
    "scm> (define n 2)\n",
    "n\n",
    "scm> `(lambda (d) (+d ,n))\n",
    "(lamdda (d) (+ d 2))"
   ]
  },
  {
   "cell_type": "markdown",
   "metadata": {},
   "source": [
    "- Note that `,` only unquotes what immediately follows itself.\n",
    "    - We must wrap everything in a () if we want to unquote multiple \n",
    "- Question: Use quasiquotation to define **fact=expr**, a procedure that takes an integer n and returns a nested multiplication expression that evaluates to n factorial"
   ]
  },
  {
   "cell_type": "code",
   "execution_count": null,
   "metadata": {
    "vscode": {
     "languageId": "plaintext"
    }
   },
   "outputs": [],
   "source": [
    "(define (fact-expr n)\n",
    "    (if (<= n 1) 1 `(* ,n ,(fact-expr (- n 1)))))"
   ]
  },
  {
   "cell_type": "markdown",
   "metadata": {},
   "source": [
    "# Macros\n",
    "- To change how scheme behaves, we must add special forms\n",
    "    - In scheme, we only have primitives, call expressions, and speicla forms.\n",
    "- Macros change the code before it gets run. It is an operation that is performed on the source code of a program before evaluation.\n",
    "- Scheme has a **define-macro** special form that defines a source code transformation\n",
    "- The arguments in the signature of a macro are not automatically evaluated when we call the macro, so we must manually evaluate it.\n",
    "    - Ex: Execute an expression twice."
   ]
  },
  {
   "cell_type": "code",
   "execution_count": null,
   "metadata": {
    "vscode": {
     "languageId": "plaintext"
    }
   },
   "outputs": [],
   "source": [
    "scm> (define-macro (twice expr) (list `begin expr expr))\n",
    "scm> (twice (print 2))\n",
    "2\n",
    "2"
   ]
  },
  {
   "cell_type": "markdown",
   "metadata": {},
   "source": [
    "- Evaluation procedure of a macro call expression:\n",
    "    - Evaluate the operator sub-expression, which evaluates to a macro\n",
    "    - Call the macro procedure on the operand expressions wihout evaluating them first\n",
    "    - Evaluate the expression returned from the macro expression.\n",
    "- We use this because a normal scheme define would eval whatever expression we pass into the function.\n",
    "    - Ex:"
   ]
  },
  {
   "cell_type": "code",
   "execution_count": null,
   "metadata": {
    "vscode": {
     "languageId": "plaintext"
    }
   },
   "outputs": [],
   "source": [
    "scm> (define (twice expr) (list 'begin expr expr))\n",
    "twice\n",
    "scm> (twice (print 2)) ; (print 2) would be EVALUATED before it is passed into the twice function\n",
    "2 \n",
    "(begin undefined undefined) ; print returns undefined"
   ]
  },
  {
   "cell_type": "markdown",
   "metadata": {},
   "source": [
    "- Discussion Question: Repeat\n",
    "    - Define repeat, a macro that is called on a number n and an expresion expr. It evaluates expr n times, and its value is the final result"
   ]
  },
  {
   "cell_type": "code",
   "execution_count": null,
   "metadata": {
    "vscode": {
     "languageId": "plaintext"
    }
   },
   "outputs": [],
   "source": [
    "(define (repeated-expr n expr)\n",
    "    (if (zero? n) nil (cons expr (repeated-expr (- n 1) expr)))\n",
    ")\n",
    "\n",
    "(define-macro (repeat n expr)\n",
    "    (cons 'begin (repeated-expr (eval n) expr))\n",
    ")"
   ]
  },
  {
   "cell_type": "markdown",
   "metadata": {},
   "source": [
    "## For Macro\n",
    "- Define a `for` macro that evaluates an expression for each value in a sequence"
   ]
  },
  {
   "cell_type": "code",
   "execution_count": null,
   "metadata": {
    "vscode": {
     "languageId": "plaintext"
    }
   },
   "outputs": [],
   "source": [
    "scm> (for x '(2 3 4 5) (* x x))\n",
    "(4 9 16 25)\n",
    "scm> (define-macro (for sym vals expr)\n",
    "    (list 'map (list 'lambda (list sym) expr) vals)\n",
    ")\n",
    "scm> (define-macro (for sym vals\n",
    "    `(map (lambda (,sym) ,expr) ,vals)\n",
    "))"
   ]
  }
 ],
 "metadata": {
  "kernelspec": {
   "display_name": "Python 3",
   "language": "python",
   "name": "python3"
  },
  "language_info": {
   "codemirror_mode": {
    "name": "ipython",
    "version": 3
   },
   "file_extension": ".py",
   "mimetype": "text/x-python",
   "name": "python",
   "nbconvert_exporter": "python",
   "pygments_lexer": "ipython3",
   "version": "3.10.12"
  }
 },
 "nbformat": 4,
 "nbformat_minor": 2
}
