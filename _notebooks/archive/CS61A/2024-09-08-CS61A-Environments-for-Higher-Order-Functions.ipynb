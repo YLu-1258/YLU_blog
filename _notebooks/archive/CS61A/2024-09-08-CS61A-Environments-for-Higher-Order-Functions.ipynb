{
 "cells": [
  {
   "cell_type": "markdown",
   "metadata": {},
   "source": [
    "---\n",
    "- title: \"'CS61A: Environments for Higher-Order Functions'\"\n",
    "- author: alex\n",
    "- badges: true\n",
    "- comments: true\n",
    "- categories: [CS61A]\n",
    "- date: 2024-09-08 12:00:00 -0800\n",
    "- tags: [CS61A, Environmental Diagrams, Higher Order Functions]\n",
    "---"
   ]
  },
  {
   "cell_type": "markdown",
   "metadata": {},
   "source": [
    "# Higher Order Functions are enabled by Environments\n",
    "**Higher-order Function:** A function that takes a function as an argument or returns a function as a return value.  "
   ]
  },
  {
   "cell_type": "code",
   "execution_count": 1,
   "metadata": {},
   "outputs": [
    {
     "data": {
      "text/plain": [
       "81"
      ]
     },
     "execution_count": 1,
     "metadata": {},
     "output_type": "execute_result"
    }
   ],
   "source": [
    "def apply_twice(f, x):\n",
    "    return f(f(x))\n",
    "\n",
    "def square(x):\n",
    "    return x * x\n",
    "\n",
    "apply_twice(square, 3)"
   ]
  },
  {
   "cell_type": "markdown",
   "metadata": {},
   "source": [
    "## Runtime\n",
    "- The functions `apply_twice` and `square` are bound to their names in the global frame\n",
    "- apply_twice is called, the argument `x` is stored as 3, and `f` is stored as `square`, a new frame is created\n",
    "- We evaluate the body, of `apply_twice`. We see that the function returns the output of function `f`.\n",
    "- We first evaluate the result of operand, which is `f(x)`. We evaluate the body of `f=square` and create a new frame where `x` is stored as 3\n",
    "- The operand returns a value of `9` to our outer function.\n",
    "- We then evaluate the operator on the operand, which is `f(9)`. We create another frame and evaluate f(9), which finally returns 81, which is also returned by apply_twice.\n",
    "- The return value of `apply_twice` is finally stored under the name of `result` in the global frame."
   ]
  },
  {
   "cell_type": "markdown",
   "metadata": {},
   "source": [
    "# Environments for Nested Definition"
   ]
  },
  {
   "cell_type": "code",
   "execution_count": 3,
   "metadata": {},
   "outputs": [
    {
     "data": {
      "text/plain": [
       "7"
      ]
     },
     "execution_count": 3,
     "metadata": {},
     "output_type": "execute_result"
    }
   ],
   "source": [
    "def make_adder(n):\n",
    "    def adder(k):\n",
    "        return k + n\n",
    "    return adder\n",
    "\n",
    "add_three = make_adder(3)\n",
    "add_three(4)"
   ]
  },
  {
   "cell_type": "markdown",
   "metadata": {},
   "source": [
    "## Runtime\n",
    "- The name `make_adder` is bound to its function\n",
    "- `make_adder(3)` is called. A new frame for `make_adder(3)` is created with a parent as the Global Frame.\n",
    "- In the new frame, the name `n` is bound to 3, while `def adder(k):` binds the name `adder` to the function.\n",
    "- `make_adder(3)` then returns `adder` as its return value, which is bound to the name of `add_three`.\n",
    "- We then execute `add_three(4)` and a new frame is created, with a parent of `make_adder`\n",
    "- The value 4 is bound to `k` in the `add_three` frame.\n",
    "- `add_three` access the value of `n` because it is present in a later frame in an instance of `make_adder`.\n",
    "- `add_three` returns the final value of `n` plus `k` which evaluates to 7. \n",
    "\n",
    "## Reflection\n",
    "- By defining the parents of a function, we can easily trace out way back through our frames to access values from parent functions.\n",
    "- In the example given above, we have an environment with 3 frames when we are executing the add_three function.\n",
    "- All user-defined functions have a parent frame.\n",
    "    - The parent is the frame in which the function was defined.\n",
    "\n",
    "# How to Draw an Environment Diagram\n",
    "- When a function is defined:\n",
    "    - Create a function value `func <name>(<formal parameters>) [parent=<parent>]`\n",
    "    - Parent is the current frame\n",
    "    - Function name is bound to function value in the frame where the function is defined\n",
    "- When a function is called:\n",
    "    - Add a local frame with the name of the function called.\n",
    "    - Copy the parent of the funciton to the local frame: `[parent=<label>]`\n",
    "    - Bind `<formal parameters>` to the arguments within the local frame.\n",
    "    - Execute function body in the environment that starts with the local frame.\n",
    "\n",
    "# Local Names\n",
    "- Formal parameters of functions have a local name\n",
    "- Local names cannot be refered by frame that are not a child of the frame or in a different environment than the frame.\n",
    "\n",
    "# Function Composition"
   ]
  },
  {
   "cell_type": "code",
   "execution_count": 4,
   "metadata": {},
   "outputs": [
    {
     "data": {
      "text/plain": [
       "225"
      ]
     },
     "execution_count": 4,
     "metadata": {},
     "output_type": "execute_result"
    }
   ],
   "source": [
    "def square(x):\n",
    "    return x * x\n",
    "\n",
    "def triple(x):\n",
    "    return 3 * x\n",
    "\n",
    "def compose1(f, g):\n",
    "    def h(x):           # This is function composition\n",
    "        return f(g(x))\n",
    "    return h\n",
    "\n",
    "squiple = compose1(square, triple)\n",
    "squiple(5)"
   ]
  }
 ],
 "metadata": {
  "kernelspec": {
   "display_name": "Python 3",
   "language": "python",
   "name": "python3"
  },
  "language_info": {
   "codemirror_mode": {
    "name": "ipython",
    "version": 3
   },
   "file_extension": ".py",
   "mimetype": "text/x-python",
   "name": "python",
   "nbconvert_exporter": "python",
   "pygments_lexer": "ipython3",
   "version": "3.10.12"
  }
 },
 "nbformat": 4,
 "nbformat_minor": 2
}
