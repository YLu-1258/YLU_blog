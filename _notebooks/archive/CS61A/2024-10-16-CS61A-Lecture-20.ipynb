{
 "cells": [
  {
   "cell_type": "markdown",
   "metadata": {},
   "source": [
    "---\n",
    "- title: \"'CS61A: Lecture 20'\"\n",
    "- author: alex\n",
    "- badges: true\n",
    "- comments: true\n",
    "- categories: [CS61A]\n",
    "- date: 2024-10-16 6:00:00 -0800\n",
    "- math: true\n",
    "- tags: [CS61A, OOP, objects, representation]\n",
    "---"
   ]
  },
  {
   "cell_type": "markdown",
   "metadata": {},
   "source": [
    "# Lecture\n",
    "- Every expression has a value, and every value has a type.\n",
    "- A map in CS is a relationship between a key and a value.\n",
    "- When we build up expressions, keep track of the type at each step.\n",
    "- Ex: Sending an email\n",
    "```\n",
    "self -> server\n",
    "self.clients -> dict\n",
    "email.recipient_name -> string\n",
    "self.clients[email.recipient_name] -> Client\n",
    "self.clients[email.recipient_name].inbox -> List\n",
    "```\n",
    "\n",
    "# String Representations\n",
    "- In Python, all objects produce two string representations:\n",
    "    - `str`: legible to humans\n",
    "    - `repr`: legible to the Python interpreter\n",
    "    - `str` is used to tell humans information, `repr` is a snippet of code that is meant for the python interpreter to understand.\n",
    "- Often times, `str` and `repr` are the same, but not always\n",
    "- Ex:"
   ]
  },
  {
   "cell_type": "code",
   "execution_count": 2,
   "metadata": {},
   "outputs": [
    {
     "name": "stdout",
     "output_type": "stream",
     "text": [
      "str string: 1/2\n",
      "repr string: Fraction(1, 2)\n"
     ]
    }
   ],
   "source": [
    "from fractions import Fraction\n",
    "half = Fraction(1,2)\n",
    "print('str string:', str(half))\n",
    "print('repr string:', repr(half))"
   ]
  },
  {
   "cell_type": "markdown",
   "metadata": {},
   "source": [
    "- In this case, the str string is a a form that is easily readable by humans (mathematical form)\n",
    "- The repr string however, portrays exactly how the Fraction type is created within the python interpreter.\n",
    "- In object-oriented programming, programmers create new types with classes. Thus, programmers must also define the representation for new types."
   ]
  },
  {
   "cell_type": "code",
   "execution_count": 7,
   "metadata": {},
   "outputs": [
    {
     "name": "stdout",
     "output_type": "stream",
     "text": [
      "print(oski): a bear named oski\n",
      "print(str(oski)): a bear named oski\n",
      "print(repr(oski)): Bear()\n"
     ]
    }
   ],
   "source": [
    "class Bear:\n",
    "    \"\"\"A Bear.\n",
    "    >>> oski = Bear()\n",
    "    >>> oski\n",
    "    Bear()\n",
    "    >>> print(oski)\n",
    "    a bear\n",
    "    >>> print(str(oski))\n",
    "    a bear\n",
    "    >>> print(repr(oski))\n",
    "    Bear()\n",
    "    \"\"\"\n",
    "    def __init__(self):\n",
    "        self.name = \"oski\"\n",
    "    \n",
    "    def __repr__(self): # This is a class attribute\n",
    "        return 'Bear()'\n",
    "    \n",
    "    def __str__(self): # class attribute\n",
    "        return f'a bear named {self.name}'\n",
    "\n",
    "oski = Bear()\n",
    "print(\"print(oski):\", oski)\n",
    "print(\"print(str(oski)):\", str(oski))\n",
    "print(\"print(repr(oski)):\", repr(oski))"
   ]
  },
  {
   "cell_type": "markdown",
   "metadata": {},
   "source": [
    "- The f-string in python is a formatted string that enables us to insert values in a string\n",
    "    - The contents of any expressoin enclosed by braces are evaluated into the str representation of the expression\n",
    "        - We may also specify it to print the repr representation.\n",
    "- The print always gets the str representation of an expression and outputs it.\n",
    "- Think of repr as the actual python expression required to get something (NOT ALWAYS!!!)\n",
    "    - For example, when we call repr on a string, we get a string with quotes!"
   ]
  },
  {
   "cell_type": "code",
   "execution_count": 19,
   "metadata": {},
   "outputs": [
    {
     "name": "stdout",
     "output_type": "stream",
     "text": [
      "We have a bear: a bear named oski\n",
      "We have a bear repr: Bear()\n",
      "'a bear named oski'\n"
     ]
    },
    {
     "data": {
      "text/plain": [
       "\"'a bear named oski'\""
      ]
     },
     "execution_count": 19,
     "metadata": {},
     "output_type": "execute_result"
    }
   ],
   "source": [
    "print(f\"We have a bear: {oski}\")\n",
    "print(f\"We have a bear repr: {repr(oski)}\")\n",
    "print(repr(str(oski)))\n",
    "repr(str(oski))"
   ]
  },
  {
   "cell_type": "markdown",
   "metadata": {},
   "source": [
    "- Implement the Letter class. A letter has two instance attributes: contents (a str) and set (a bool). Each Letter can only be sent once. The send method prints whether the letter was sent, and if it was, returns the reply, which is a new Letter instance with the same contents, but in all caps."
   ]
  },
  {
   "cell_type": "code",
   "execution_count": 22,
   "metadata": {},
   "outputs": [],
   "source": [
    "class Letter:\n",
    "    def __init__(self, contents):\n",
    "        self.contents = contents\n",
    "        self.sent = False\n",
    "    \n",
    "    def send(self):\n",
    "        if self.sent:\n",
    "            print(self, 'was already sent.')\n",
    "        else:\n",
    "            print(self, 'has been sent.')\n",
    "            self.sent = True\n",
    "            return Letter(self.contents.upper())\n",
    "    \n",
    "    def __repr__(self):\n",
    "        return self.contents"
   ]
  },
  {
   "cell_type": "code",
   "execution_count": 23,
   "metadata": {},
   "outputs": [
    {
     "name": "stdout",
     "output_type": "stream",
     "text": [
      "Hello, World! has been sent.\n"
     ]
    },
    {
     "data": {
      "text/plain": [
       "HELLO, WORLD!"
      ]
     },
     "execution_count": 23,
     "metadata": {},
     "output_type": "execute_result"
    }
   ],
   "source": [
    "hi = Letter('Hello, World!')\n",
    "hi.send()"
   ]
  },
  {
   "cell_type": "code",
   "execution_count": 24,
   "metadata": {},
   "outputs": [
    {
     "name": "stdout",
     "output_type": "stream",
     "text": [
      "Hello, World! was already sent.\n"
     ]
    }
   ],
   "source": [
    "hi.send()"
   ]
  },
  {
   "cell_type": "code",
   "execution_count": 27,
   "metadata": {},
   "outputs": [
    {
     "name": "stdout",
     "output_type": "stream",
     "text": [
      "Hey has been sent.\n",
      "HEY has been sent.\n"
     ]
    },
    {
     "data": {
      "text/plain": [
       "HEY"
      ]
     },
     "execution_count": 27,
     "metadata": {},
     "output_type": "execute_result"
    }
   ],
   "source": [
    "Letter('Hey').send().send()"
   ]
  },
  {
   "cell_type": "markdown",
   "metadata": {},
   "source": [
    "- Implement the Numbered class. A numbered letter has a number attribute equal to how many numbered letters have previously been constructed. This number appears in its repr string. Assume Letter is implemented correctly."
   ]
  },
  {
   "cell_type": "code",
   "execution_count": null,
   "metadata": {},
   "outputs": [],
   "source": [
    "class Numbered(Letter):\n",
    "    number = 0\n",
    "    def __init__(self, contents):\n",
    "        super().__init__(contents)\n",
    "        self.number = Numbered.number\n",
    "        Numbered.number+=1\n",
    "    def __repr__(self):\n",
    "        return '#' + self.number\n",
    "\n",
    "hey = Numbered()"
   ]
  }
 ],
 "metadata": {
  "kernelspec": {
   "display_name": "Python 3",
   "language": "python",
   "name": "python3"
  },
  "language_info": {
   "codemirror_mode": {
    "name": "ipython",
    "version": 3
   },
   "file_extension": ".py",
   "mimetype": "text/x-python",
   "name": "python",
   "nbconvert_exporter": "python",
   "pygments_lexer": "ipython3",
   "version": "3.10.12"
  }
 },
 "nbformat": 4,
 "nbformat_minor": 2
}
