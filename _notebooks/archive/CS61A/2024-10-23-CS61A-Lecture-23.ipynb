{
 "cells": [
  {
   "cell_type": "markdown",
   "metadata": {},
   "source": [
    "---\n",
    "- title: \"'CS61A: Lecture 23'\"\n",
    "- author: alex\n",
    "- badges: true\n",
    "- comments: true\n",
    "- categories: [CS61A]\n",
    "- date: 2024-10-21 1:00:00 -0800\n",
    "- math: true\n",
    "- tags: [CS61A, OOP, Efficiency]\n",
    "---"
   ]
  },
  {
   "cell_type": "markdown",
   "metadata": {},
   "source": [
    "# Decomposition (Order of Growth & Linked List Practice)\n",
    "- Quadratic Growth: Occurs when we go through pairs of a list.\n",
    "- Linear Growth: Occurs when we traverse over each item in a sequence.\n",
    "- Logarithmic Growth: We may double the size of the input, and still only take one more step.\n",
    "- Ex: `search_sorted(s, v)`"
   ]
  },
  {
   "cell_type": "code",
   "execution_count": 11,
   "metadata": {},
   "outputs": [],
   "source": [
    "def search_sorted(s, v):\n",
    "    if len(s) == 0:\n",
    "        return False\n",
    "    center = len(s) // 2\n",
    "    if s[center] == v:\n",
    "        return True\n",
    "    elif s[center] > v:\n",
    "        return search_sorted(s[:center], v)\n",
    "    else:\n",
    "        return search_sorted(s[center + 1:], v)"
   ]
  },
  {
   "cell_type": "markdown",
   "metadata": {},
   "source": [
    "- This is a logarithmic time algorithm, as we divide the input size by half each time.\n",
    "- Another example of a logarithmic time algorithm is when we only traverse one branch of a tree for any maximal tree.\n",
    "- Another ex: `near_pairs`\n",
    "    - This is a linear growth problem. We are traversing over each element once."
   ]
  },
  {
   "cell_type": "code",
   "execution_count": 12,
   "metadata": {},
   "outputs": [
    {
     "ename": "SyntaxError",
     "evalue": "cannot assign to function call here. Maybe you meant '==' instead of '='? (4034743621.py, line 6)",
     "output_type": "error",
     "traceback": [
      "\u001b[0;36m  Cell \u001b[0;32mIn[12], line 6\u001b[0;36m\u001b[0m\n\u001b[0;31m    max(count) = max(count, max_count)\u001b[0m\n\u001b[0m    ^\u001b[0m\n\u001b[0;31mSyntaxError\u001b[0m\u001b[0;31m:\u001b[0m cannot assign to function call here. Maybe you meant '==' instead of '='?\n"
     ]
    }
   ],
   "source": [
    "def near_pairs(s):\n",
    "    count, max_count, last = 0, 0, None\n",
    "    for i in range(len(s)):\n",
    "        if count == 0 or s[i] == last:\n",
    "            count += 1\n",
    "            max(count) = max(count, max_count)\n",
    "        else:\n",
    "            count = 1\n",
    "        last = s[i]\n",
    "    return max_count"
   ]
  },
  {
   "cell_type": "markdown",
   "metadata": {},
   "source": [
    "- Another example: `max_sum`\n",
    "    - This is a quadratic growth solution. Both loops gets larger as the length of the list gets longer. We do n times a constant more of a work."
   ]
  },
  {
   "cell_type": "code",
   "execution_count": null,
   "metadata": {},
   "outputs": [],
   "source": [
    "def max_sum(s):\n",
    "    largest = 0\n",
    "    for i in range(len(s)):\n",
    "        for j in range(i, len(s)+1):\n",
    "            largest = max(largest, sum(s[i:j]))\n",
    "    return largest"
   ]
  },
  {
   "cell_type": "markdown",
   "metadata": {},
   "source": [
    "## Linked Lists\n",
    "- When creating linked lists, we may also have nested linkedlists within a linked list.\n",
    "- Ex: <<8> <4 6 <7>> 5>"
   ]
  },
  {
   "cell_type": "code",
   "execution_count": 7,
   "metadata": {},
   "outputs": [
    {
     "name": "stdout",
     "output_type": "stream",
     "text": [
      "((8)->(4->6->(7))->5)\n",
      "8\n",
      "Link(7)\n"
     ]
    }
   ],
   "source": [
    "from linked_list import Link\n",
    "s = Link(Link(8), Link(Link(4, Link(6, Link(Link(7)))), Link(5)))\n",
    "print(s)\n",
    "print(repr(s.first.first))\n",
    "print(repr(s.rest.first.rest.rest.first))"
   ]
  },
  {
   "cell_type": "markdown",
   "metadata": {},
   "source": [
    "- Many linked list processing functions can be written both iteratively and recursively:\n",
    "    - Recursive approach:\n",
    "        - What is the recursive call?\n",
    "        - What does this recursive call do/return?\n",
    "        - How is this result useful in solving the problem?\n",
    "    - Iterative approach:\n",
    "        - Describe a proces that solves the problem.\n",
    "        - Figure out what additional names you need to carry out this process\n",
    "        - Implement the process using those names.\n",
    "- Ex: Getting the length of a linked list"
   ]
  },
  {
   "cell_type": "code",
   "execution_count": 8,
   "metadata": {},
   "outputs": [
    {
     "data": {
      "text/plain": [
       "True"
      ]
     },
     "execution_count": 8,
     "metadata": {},
     "output_type": "execute_result"
    }
   ],
   "source": [
    "def length_recur(s):\n",
    "    if s is Link.empty:\n",
    "        return 0\n",
    "    else:\n",
    "        return 1+length_recur(s.rest)\n",
    "    \n",
    "def length_iter(s):\n",
    "    k = 0\n",
    "    while s is not Link.empty:\n",
    "        s, k = s.rest, k+1\n",
    "    return k\n",
    "\n",
    "length_recur(s) == length_iter(s)"
   ]
  },
  {
   "cell_type": "markdown",
   "metadata": {},
   "source": [
    "- Question: Create both iterative and recursive methods for creating a linked list contatining a range."
   ]
  },
  {
   "cell_type": "code",
   "execution_count": null,
   "metadata": {},
   "outputs": [],
   "source": [
    "def range_link_recur(start, end):\n",
    "    if start >= end:\n",
    "        return Link.empty\n",
    "    else:\n",
    "        return Link(start, range_link_recur(start+1, end))\n",
    "    \n",
    "def range_link_iter(start, end):\n",
    "    s = Link.empty\n",
    "    k = end - 1\n",
    "    while k >= end:\n",
    "        s = Link(k, s)\n",
    "        k-=1\n",
    "    return s"
   ]
  },
  {
   "cell_type": "markdown",
   "metadata": {},
   "source": [
    "## Linked List Mutation\n",
    "- In order to change the contents of a Linked List, we want to assign to the first and rest attributes:\n",
    "- Ex: Append"
   ]
  },
  {
   "cell_type": "code",
   "execution_count": null,
   "metadata": {},
   "outputs": [],
   "source": [
    "def append_recur(s, x):\n",
    "    if s.rest is not Link.empty:\n",
    "        append_recur(s.rest, x)\n",
    "    else:\n",
    "        s.rest = Link(x)\n",
    "\n",
    "def append_iter(s, x):\n",
    "    # When we are augmenting the value of s, we do not change the value of the linked list in the parent frame\n",
    "    while s.rest is not Link.empty:\n",
    "        s = s.rest\n",
    "    s.rest = Link(x)"
   ]
  },
  {
   "cell_type": "markdown",
   "metadata": {},
   "source": [
    "- Example : pop"
   ]
  },
  {
   "cell_type": "code",
   "execution_count": 10,
   "metadata": {},
   "outputs": [
    {
     "name": "stdout",
     "output_type": "stream",
     "text": [
      "5\n",
      "6\n",
      "4\n"
     ]
    },
    {
     "data": {
      "text/plain": [
       "Link(3)"
      ]
     },
     "execution_count": 10,
     "metadata": {},
     "output_type": "execute_result"
    }
   ],
   "source": [
    "def pop(s, i):\n",
    "    if i > 1:\n",
    "        return pop(s.rest, i-1)\n",
    "    else:\n",
    "        val = s.rest.first\n",
    "        s.rest = s.rest.rest\n",
    "        return val\n",
    "    \n",
    "def pop_iter(s, i):\n",
    "    for x in range(i-1):\n",
    "        s = s.rest\n",
    "    val = s.rest.first\n",
    "    s.rest = s.rest.rest\n",
    "    return val\n",
    "\n",
    "t = Link(3, Link(4, Link(5, Link(6))))\n",
    "print(pop_iter(t, 2))\n",
    "print(pop_iter(t, 2))\n",
    "print(pop_iter(t, 1))\n",
    "t"
   ]
  }
 ],
 "metadata": {
  "kernelspec": {
   "display_name": "Python 3",
   "language": "python",
   "name": "python3"
  },
  "language_info": {
   "codemirror_mode": {
    "name": "ipython",
    "version": 3
   },
   "file_extension": ".py",
   "mimetype": "text/x-python",
   "name": "python",
   "nbconvert_exporter": "python",
   "pygments_lexer": "ipython3",
   "version": "3.10.12"
  }
 },
 "nbformat": 4,
 "nbformat_minor": 2
}
