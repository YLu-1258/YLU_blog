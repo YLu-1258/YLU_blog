{
 "cells": [
  {
   "cell_type": "markdown",
   "metadata": {},
   "source": [
    "---\n",
    "- title: \"'CS61A: Lecture 24'\"\n",
    "- author: alex\n",
    "- badges: true\n",
    "- comments: true\n",
    "- categories: [CS61A]\n",
    "- date: 2024-10-25 1:00:00 -0800\n",
    "- math: true\n",
    "- tags: [CS61A, Data Examples]\n",
    "---"
   ]
  },
  {
   "cell_type": "markdown",
   "metadata": {},
   "source": [
    "# Lecture\n",
    "- Nested Linked Lists occur when we have a linked list as the value of a node."
   ]
  },
  {
   "cell_type": "code",
   "execution_count": null,
   "metadata": {},
   "outputs": [],
   "source": [
    "from linked_list import Link\n",
    "def fast_overlap(s1, s2):\n",
    "    if (s1 is Link.empty or s2 is Link.empty):\n",
    "        return 0\n",
    "    elif (s1.first == s2.first):\n",
    "        return 1 + compute_same(s1.rest, s2.rest)\n",
    "    elif (s1.first < s2.first):\n",
    "        return compute_same(s1.rest, s2)\n",
    "    else:\n",
    "        return compute_same(s1, s2.rest)\n",
    "    \n",
    "def fast_overlap(s, t):\n",
    "    k = 0\n",
    "    while s and t:\n",
    "        if s.first == t.first:\n",
    "            k+=1\n",
    "            s = s.rest\n",
    "            t = t.rest\n",
    "        elif s.first < t.first:\n",
    "            s = s.rest\n",
    "        elif s.first > t.first:\n",
    "            t = t.rest\n",
    "    return k\n",
    "    "
   ]
  },
  {
   "cell_type": "markdown",
   "metadata": {},
   "source": [
    "- Slow Overlap"
   ]
  },
  {
   "cell_type": "code",
   "execution_count": null,
   "metadata": {},
   "outputs": [],
   "source": [
    "def count_if(f, s):\n",
    "    if f is Link.empty:\n",
    "        return 0\n",
    "    else:\n",
    "        if f(s.first):\n",
    "            return 1+count_if(f, s.rest)\n",
    "        else:\n",
    "            return count_if(f, s.rest)\n",
    "        \n",
    "def contained_in(s):\n",
    "    def f(s, x):\n",
    "        if s is Link.empty:\n",
    "            return False\n",
    "        else:\n",
    "            return s.frist == x or f(s.rest ,x)\n",
    "    return lambda x: f(s, x)\n",
    "\n",
    "def overlap(s, t):\n",
    "    return count_if(contained_in(t), s)"
   ]
  },
  {
   "cell_type": "markdown",
   "metadata": {},
   "source": [
    "- This is a quadratic time, because with each increase in the size of the list, we have an additional call ot the second list in contained_in\n",
    "## Lists in Environment Diagrams\n",
    "- Append: Adds one element to a list.\n",
    "- Extend: Adds all elements in one list to another list.\n",
    "- Addition & slicing: Create new lists containing existing elements.\n",
    "- Using []: Creates a new list (copy)\n",
    "- The list function: Creates a new list contining existing elements.\n",
    "- list.pop(): Removes and returns the last element\n",
    "- list.remove(): Removes the first element equal to the argument\n",
    "- Assume that before each example, we execute:"
   ]
  },
  {
   "cell_type": "code",
   "execution_count": 14,
   "metadata": {},
   "outputs": [],
   "source": [
    "s = [2, 3]\n",
    "t = [5, 6]"
   ]
  },
  {
   "cell_type": "markdown",
   "metadata": {},
   "source": [
    "- When we execute the following, we append the entirety of the t list object as the next element in s. If we update t then the t that is stored in s would also be changed."
   ]
  },
  {
   "cell_type": "code",
   "execution_count": null,
   "metadata": {},
   "outputs": [],
   "source": [
    "s = [2, 3]\n",
    "t = [5, 6]\n",
    "s.append(t)\n",
    "t[1] = 0 # Changes what the value within the second element of list t is.\n",
    "t = 0 # Changes the value that is bound to the value of t"
   ]
  },
  {
   "cell_type": "markdown",
   "metadata": {},
   "source": [
    "- Ex:"
   ]
  },
  {
   "cell_type": "code",
   "execution_count": 3,
   "metadata": {},
   "outputs": [
    {
     "name": "stdout",
     "output_type": "stream",
     "text": [
      "[2, 9, [5, 0]] [3, [5, 0]]\n"
     ]
    }
   ],
   "source": [
    "a = s + [t]\n",
    "b = a[1:]\n",
    "a[1] = 9\n",
    "b[1][1] = 0\n",
    "print(a, b)"
   ]
  },
  {
   "cell_type": "markdown",
   "metadata": {},
   "source": [
    "- Ex:\n"
   ]
  },
  {
   "cell_type": "code",
   "execution_count": 15,
   "metadata": {},
   "outputs": [
    {
     "name": "stdout",
     "output_type": "stream",
     "text": [
      "[[1, 2, [[3, 4]]], [3, 4]]\n"
     ]
    }
   ],
   "source": [
    "t = [[1, 2], [3, 4]]\n",
    "list(t)\n",
    "t[0].append(t[1:2])\n",
    "print(t)"
   ]
  },
  {
   "cell_type": "markdown",
   "metadata": {},
   "source": [
    "-Ex:  \n",
    "    - A *hydra* is a Tree with a special structure Each node has 0 or 2 children. All leaves are heads laveled 1. Each non-leaf body node is laveled with the number of leaves among its descendants.   \n",
    "    - Implement chop_head(hydra, n), which takes a hydra and a positive integer n. It mutates hydra by chopping off the nth head from the left, which adds two new adjacent heads in its place. Update all ancestor labels.  "
   ]
  },
  {
   "cell_type": "code",
   "execution_count": null,
   "metadata": {},
   "outputs": [],
   "source": [
    "from treeclass import Tree\n",
    "def chop_head(hydra, n):\n",
    "    assert n > 0 and n <= hydra.label\n",
    "    if hydra.is_leaf():\n",
    "        hydra.label+=1\n",
    "        hydra.branches = [Tree(1), Tree(1)]\n",
    "    else:\n",
    "        hydra.label += 1\n",
    "        left, right = hydra.branches\n",
    "        if (n>left.label):\n",
    "            chop_head(right, n - left.label)\n",
    "        else:\n",
    "            chop_head(left, n)"
   ]
  }
 ],
 "metadata": {
  "kernelspec": {
   "display_name": "Python 3",
   "language": "python",
   "name": "python3"
  },
  "language_info": {
   "codemirror_mode": {
    "name": "ipython",
    "version": 3
   },
   "file_extension": ".py",
   "mimetype": "text/x-python",
   "name": "python",
   "nbconvert_exporter": "python",
   "pygments_lexer": "ipython3",
   "version": "3.10.12"
  }
 },
 "nbformat": 4,
 "nbformat_minor": 2
}
