{
 "cells": [
  {
   "cell_type": "markdown",
   "metadata": {},
   "source": [
    "---\n",
    "- title: \"'CS61A: Lecture 29'\"\n",
    "- author: alex\n",
    "- badges: true\n",
    "- comments: true\n",
    "- categories: [CS61A]\n",
    "- date: 2024-11-15 1:00:00 -0800\n",
    "- math: true\n",
    "- tags: [CS61A, Scheme]\n",
    "---"
   ]
  },
  {
   "cell_type": "markdown",
   "metadata": {},
   "source": [
    "# Programs as data\n",
    "- A scheme expression is just a scheme list. Thus, we may use scheme to write scheme programs ourselves\n",
    "- Built-in Scheme list data strucutre may represent combinations\n",
    "- Ex:"
   ]
  },
  {
   "cell_type": "code",
   "execution_count": null,
   "metadata": {
    "vscode": {
     "languageId": "plaintext"
    }
   },
   "outputs": [],
   "source": [
    "scm> (list 'quotient 10 2)\n",
    "(quotient 10 2)\n",
    "scm> (eval (list 'quotient 10 2))\n",
    "5"
   ]
  },
  {
   "cell_type": "markdown",
   "metadata": {},
   "source": [
    "-Ex: fact procedure to generate an expression to calculate a factorial"
   ]
  },
  {
   "cell_type": "code",
   "execution_count": null,
   "metadata": {
    "vscode": {
     "languageId": "plaintext"
    }
   },
   "outputs": [],
   "source": [
    "scm> (define (fact-exp n) (if (<= n 1) n (list '* n (fact-exp (- n 1)))))\n",
    "fact-exp\n",
    "scm> (fact-exp 4)\n",
    "(* 4 (* 3 (* 2 1)))\n",
    "scm> (list? (fact-exp 4))\n",
    "#t\n",
    "scm> (eval (fact-exp 4))\n",
    "24"
   ]
  },
  {
   "cell_type": "markdown",
   "metadata": {},
   "source": [
    "# Discussion Question: Automatically Simplifying Code\n",
    "- We want to flatten a nested expression, in this case\n",
    "    - Ex: (* 1 2 (* 3 (* 4)) (+ 5 (* 6 (* 7 8)))) to (* 1 2 3 4 (+ 5 (* 6 7 8)))"
   ]
  },
  {
   "cell_type": "code",
   "execution_count": null,
   "metadata": {
    "vscode": {
     "languageId": "plaintext"
    }
   },
   "outputs": [],
   "source": [
    "(define (is-*-call expr)\n",
    "    (and (list? expr) (equal? '* (car expr)))\n",
    ")\n",
    "\n",
    "(define flatten-nested-* expr\n",
    "    (if (not (list? expr))\n",
    "        expr\n",
    "        (let ((expr (map flatten-nested-* expr))) ; Now expr is (* 1 2 (* 3 4) (+ 5 (*6 7 8)))\n",
    "            (if (is-*-call expr)\n",
    "                (apply append (map (lambda (e) (if (is-*-call e) (cdr e) (list e))) expr))\n",
    "                expr\n",
    "            )\n",
    "        )\n",
    "    )\n",
    ")"
   ]
  }
 ],
 "metadata": {
  "kernelspec": {
   "display_name": "Python 3",
   "language": "python",
   "name": "python3"
  },
  "language_info": {
   "codemirror_mode": {
    "name": "ipython",
    "version": 3
   },
   "file_extension": ".py",
   "mimetype": "text/x-python",
   "name": "python",
   "nbconvert_exporter": "python",
   "pygments_lexer": "ipython3",
   "version": "3.10.12"
  }
 },
 "nbformat": 4,
 "nbformat_minor": 2
}
