{
 "cells": [
  {
   "cell_type": "markdown",
   "metadata": {},
   "source": [
    "---\n",
    "- title: Binary Search and Merge Sort\n",
    "- description: Exploring the binary search and merge sort algorithms\n",
    "- toc: true\n",
    "- layout: post\n",
    "- type: hacks\n",
    "- comments: true\n",
    "---"
   ]
  },
  {
   "cell_type": "markdown",
   "metadata": {},
   "source": [
    "## BubbleSort\n",
    "BubbleSort is an iterative sorting algorithm that sorts a collection of objects by swapping adjacent objects if they are in the incorrect order. The algorithm performs multiple passes over the array until it detects no swaps have been made, by which it then stops execution as the array has been sorted.\n",
    "\n",
    "![Bubble Sort](https://upload.wikimedia.org/wikipedia/commons/5/54/Sorting_bubblesort_anim.gif)"
   ]
  },
  {
   "cell_type": "markdown",
   "metadata": {},
   "source": [
    "### BubbleSort Pseudo-code\n",
    "\n",
    "```text\n",
    "BUBBLESORT(A[], n)\n",
    "    for i = 0 to n - 1\n",
    "        for j = n downto i + 1\n",
    "            if A[j] < A[j - 1]\n",
    "                swap(A[j], A[j-1])\n",
    "```"
   ]
  },
  {
   "cell_type": "markdown",
   "metadata": {},
   "source": [
    "### BubbleSort Code\n",
    "Given this incomplete code below, fill in the blanks so that the algorithm works as intended"
   ]
  },
  {
   "cell_type": "code",
   "execution_count": 2,
   "metadata": {
    "vscode": {
     "languageId": "java"
    }
   },
   "outputs": [
    {
     "name": "stdout",
     "output_type": "stream",
     "text": [
      "Sorted array is: 11 12 22 25 34 64 90 "
     ]
    }
   ],
   "source": [
    "public class BubbleSort {\n",
    "    public static void bubbleSort(int[] arr) {\n",
    "        int n = arr.length;\n",
    "        for (int i = 0; i < n - 1; i++) {\n",
    "            for (_____________) { // code here\n",
    "                if (arr[j] < arr[j - 1]) {\n",
    "                    // Code here\n",
    "                }\n",
    "            }\n",
    "        }\n",
    "    }\n",
    "\n",
    "    public static void main(String[] args) {\n",
    "        int[] arr = {64, 34, 25, 12, 22, 11, 90};\n",
    "        bubbleSort(arr);\n",
    "        System.out.print(\"Sorted array is: \");\n",
    "        for (int i = 0; i < arr.length; i++) {\n",
    "            System.out.print(arr[i] + \" \");\n",
    "        }\n",
    "    }\n",
    "}\n",
    "\n",
    "BubbleSort.main(null);\n"
   ]
  },
  {
   "cell_type": "markdown",
   "metadata": {},
   "source": [
    "## Insertion Sort\n",
    "Insertion Sort is probably the simplest of all sorting algorithms, and the most intuitive. We select a value and compare it to other values until it's properly sorted. This means we need to traverse through all the values in the array twice, once to select the value and once to compare it to the other values. Thus, you traverse through the array n times, then n times again. This allows us to figure out it's time complexity, which is O(n^2).\n",
    "\n",
    "![Insertion Sort](https://upload.wikimedia.org/wikipedia/commons/2/24/Sorting_insertion_sort_anim.gif)"
   ]
  },
  {
   "cell_type": "markdown",
   "metadata": {},
   "source": [
    "### Pseudocode\n",
    "We start by selecting the second element of the array and compare it to the 1st. If our selected element is smaller than the 1st, we swap them. We repeat this over and over again until the list is sorted.\n",
    "\n",
    "```text\n",
    "INSERTION-SORT(Array)\n",
    "    for index = 0 to length of Array, incrementing index by 1 every time\n",
    "        value1 = Array[index]\n",
    "        // Insert value1 into the sorted array\n",
    "        compareIndex = index + 1\n",
    "        while compareIndex < length of Array and Array[indexToSort] > key\n",
    "            Array[indexToSort + 1] = Array[indexToSort]\n",
    "            indexToSort = indexToSort - 1\n",
    "            Array[indexToSort + 1] = key\n",
    "```"
   ]
  },
  {
   "cell_type": "code",
   "execution_count": 3,
   "metadata": {
    "vscode": {
     "languageId": "java"
    }
   },
   "outputs": [
    {
     "name": "stdout",
     "output_type": "stream",
     "text": [
      "0 1 2 3 4 5 6 7 8 9 \n"
     ]
    }
   ],
   "source": [
    "private static void printArray(int[] array) {\n",
    "    for (int i:array) {\n",
    "        System.out.print(i + \" \");\n",
    "    }\n",
    "    System.out.println();\n",
    "}\n",
    "\n",
    "public class insertionSort {\n",
    "    public static int[] insertionSort(int[] array) {\n",
    "        for (int i=1; i<array.length; i++) {\n",
    "            int key=array[i];\n",
    "            int j=i-1;\n",
    "            while (j>=0 && array[j] > key) {\n",
    "                array[j+1] = array[j];\n",
    "                j--;\n",
    "            }\n",
    "            array[j+1] = key;\n",
    "        }\n",
    "        return array;\n",
    "    }\n",
    "}\n",
    "\n",
    "int[] array = {5, 3, 7, 2, 8, 1, 9, 4, 0, 6};\n",
    "printArray(insertionSort.insertionSort(array));"
   ]
  },
  {
   "cell_type": "markdown",
   "metadata": {},
   "source": [
    "## Selection Sort\n",
    "Selection Sort is an iterative sorting algoritm that repeatedly moves elements into their properly sorted locations in the array. In selection sort, our procedure keeps tracks of two subarrays, a sorted subarray, and an unsorted half. As we iterate through the array, we select the smallest element from the unsorted half of the array and append it to the sorted half. With each subsequent iteration, we are effectively constructing the array in increasing order.\n",
    "\n",
    "![Selection Sort](https://upload.wikimedia.org/wikipedia/commons/3/3e/Sorting_selection_sort_anim.gif)"
   ]
  },
  {
   "cell_type": "markdown",
   "metadata": {},
   "source": [
    "```text\n",
    "function Selection-Sort(A[],N)\n",
    "    for i = 0 to N-1 do:\n",
    "       Smallsub = i\n",
    "       For j = i + 1 to N-1 do:\n",
    "            If A[j] < A[Smallsub]\n",
    "            Smallsub = J\n",
    "       temp = A[I]\n",
    "       A[I] = A[Smallsub]\n",
    "       A[Smallsub] = temp\n",
    "```"
   ]
  },
  {
   "cell_type": "markdown",
   "metadata": {},
   "source": [
    "### Popcorn Hack\n",
    "\n",
    "1. Given the pseudo-code for selection sort, rewrite the algorithm in Java such that it sorts in decreasing order, rather than increasing order."
   ]
  },
  {
   "cell_type": "markdown",
   "metadata": {},
   "source": [
    "## MergeSort\n",
    "MergeSort is a sorting algorithm that relies on recursion to solve what is commonly known as a \"divide-and-conquer\" problem. Essentially, the problem of sorting an array (or any collection of objects really) can be broken down into sub problems which can be recursively solved to be combined into a final solution.\n",
    "\n",
    "In the context of sorting, imagine an initial array of length n. We can reduce the \"size\" of the problem by passing a smaller size, maybe \"n/2\", back into our algorithm for a simpler calculation, reducing the complexity. We repeat this process until we hit a sub array of size 1, which is a trvially easy case: the \"array\" is already sorted. From this point and onwards, we use a procedure called merge to repeatedly re-combine these smaller elements into larger sorted elements, until we eventually get back to the original n length array which should be sorted.\n",
    "\n",
    "\n",
    "![Q12](/assets/img/sorting/MergeSort.png)"
   ]
  },
  {
   "cell_type": "markdown",
   "metadata": {},
   "source": [
    "### MergeSort Pseudo-code\n",
    "```text\n",
    "MERGE-SORT(A, p, r)  \n",
    "if p >= r               // zero or one element?  \n",
    "    return   \n",
    "q = ⌊p + r/2⌋            // midpoint of A[p,r]  \n",
    "MERGE-SORT(A, p, q)     // recursively sort A[p,q]  \n",
    "MERGE-SORT(A, q+1, r)   // recursively sort A[q+1:r]  \n",
    "// Merge A[p:q] and A[q+1:r] into A[p:r].  \n",
    "MERGE(A, p, q, r)  \n",
    "```"
   ]
  },
  {
   "cell_type": "markdown",
   "metadata": {},
   "source": [
    "### MergeSort Code"
   ]
  },
  {
   "cell_type": "code",
   "execution_count": 1,
   "metadata": {
    "vscode": {
     "languageId": "java"
    }
   },
   "outputs": [
    {
     "name": "stdout",
     "output_type": "stream",
     "text": [
      "Before array: [4, 7, 6, 1, 3, 9]\n",
      "After array: [1, 3, 4, 6, 7, 9]\n"
     ]
    }
   ],
   "source": [
    "class MergeSort {\n",
    "    private static void mergeSort(ArrayList<Integer> array, int left, int right) {\n",
    "        if (left < right) {\n",
    "            int mid = (left+right-1)/2;\n",
    "            mergeSort(array, left, mid);\n",
    "            mergeSort(array, mid+1, right);\n",
    "            merge(array, left, mid, right);\n",
    "        }\n",
    "    }\n",
    "\n",
    "    private static void merge(ArrayList<Integer> array, int left, int mid, int right) {\n",
    "        // create temp arrays\n",
    "        ArrayList<Integer> leftSubArray = new ArrayList<Integer>();\n",
    "        ArrayList<Integer> rightSubArray = new ArrayList<Integer>();\n",
    "\n",
    "        for (int i = left; i <= mid; i++) {\n",
    "            leftSubArray.add(array.get(i));\n",
    "        }\n",
    "\n",
    "        for (int j = mid+1; j <= right; j++) {\n",
    "            rightSubArray.add(array.get(j));\n",
    "        }\n",
    "\n",
    "        int i = 0; int j = 0; int k = left;\n",
    "        while (i < leftSubArray.size() && j < rightSubArray.size()) {\n",
    "            if (leftSubArray.get(i) <= rightSubArray.get(j)) {\n",
    "                array.set(k, leftSubArray.get(i));\n",
    "                i++;\n",
    "                k++;\n",
    "            } else {\n",
    "                array.set(k, rightSubArray.get(j));\n",
    "                j++;\n",
    "                k++;\n",
    "            }\n",
    "        }\n",
    "\n",
    "        while (i < leftSubArray.size()) {\n",
    "            array.set(k, leftSubArray.get(i));\n",
    "            i++;\n",
    "            k++;\n",
    "        }\n",
    "\n",
    "        while (j < rightSubArray.size()) {\n",
    "            array.set(k, rightSubArray.get(j));\n",
    "            j++;\n",
    "            k++;\n",
    "        }\n",
    "    }\n",
    "\n",
    "    public static void main(String args[]) {\n",
    "        ArrayList<Integer> array = new ArrayList<Integer>();\n",
    "        array.add(4); array.add(7); array.add(6); array.add(1); array.add(3); array.add(9); \n",
    "        System.out.println(\"Before array: \" + array);\n",
    "        mergeSort(array, 0, array.size()-1);\n",
    "        System.out.println(\"After array: \" + array);\n",
    "    }\n",
    "\n",
    "}\n",
    "\n",
    "MergeSort.main(null);"
   ]
  },
  {
   "cell_type": "markdown",
   "metadata": {},
   "source": [
    "### Popcorn Hack\n",
    "1. The current implementation of MergeSort sorts our array in increasing order (least to greatest). Can you adjust this implementation such that it sorts in the inverse order, that is, decreasing order (greatest to least)?"
   ]
  },
  {
   "cell_type": "code",
   "execution_count": null,
   "metadata": {
    "vscode": {
     "languageId": "java"
    }
   },
   "outputs": [],
   "source": [
    "// Code Here"
   ]
  },
  {
   "cell_type": "markdown",
   "metadata": {},
   "source": [
    "## QuickSort\n",
    "QuickSort is another divide-and-conquer algorithm that typically operates via recursion. While the sub-problems in mergesort was to repeatedly sort each subarray, the sub-problem in quicksort is to sort each individual element into their rightful place.  \n",
    "\n",
    "| Vocab | Definition |\n",
    "| - | - |\n",
    "| Pivot | any element that we select to be sorted into the right position while partitioning the array into two halves |\n",
    "| Partition | The act of splitting the array into two subarrays, reducing the complexity of the problem |\n",
    "\n",
    "Essentially, the QuickSort algorithm selects a random pivot element with each function call. The algorithm then \"partitions\" the array around this pivot element, moving all elements lesser than the pivot below the pivot, and all elements greater than the pivot above the pivot. This is done using a procedure \"partition\" which also returns the index of the sorted pivot element. The index of the sorted pivot element is then used in subsequent calls of the algorithm, where quicksort is called to sort the two remaining unsorted subarrays, until the whole array is sorted.\n",
    "\n",
    "![Quick Sort](https://upload.wikimedia.org/wikipedia/commons/6/6a/Sorting_quicksort_anim.gif)"
   ]
  },
  {
   "cell_type": "markdown",
   "metadata": {},
   "source": [
    "### QuickSort Pseudo-code\n",
    "```text\n",
    "function Quick-Sort(A[], start, end)\t\t\t\t\n",
    "    if start >= end then\t\t\t\t\t    \t\n",
    "        return\t\t\t\t\t\t            \t\t\t\t\t\t            \n",
    "    pivot_index = partition(A[], start, end)\t\n",
    "    Quick-Sort(A[], start, pivot_index – 1)\t\t\n",
    "    QUICKSORT(A[], pivot_index + 1, end)\t\t\n",
    "\n",
    "function partition(A[], start, end)\t\t\t\n",
    "    pivot_value = A[end]\t\t\t\t        \n",
    "    pivot_index = start\t\t\t\t\t        \n",
    "    for index from start to end\t\t\t\t\n",
    "        if A[index] <= pivot_value\t\t\t\n",
    "            temp = A[index]        \t\t    \n",
    "            A[index] = A[pivot_index]\t\n",
    "            A[pivot_index] = temp\t\t\t\n",
    "            pivot_index = pivot_index + 1\t\t    \t\t\t\t\t            \t\t\t\t\t\t\t        \n",
    "    return pivot_index – 1\t\t\t\t\t \n",
    "```\n"
   ]
  },
  {
   "cell_type": "markdown",
   "metadata": {},
   "source": [
    "## Hacks\n",
    "\n",
    "1) Based on the Pseudo-code, what do you think is the exit case for Quick-Sort and Merge-Sort?  \n",
    "\n",
    "2) Given the Pseudo-code for Quick-Sort, implement the algorithm in Java where the pivot element uses the LAST value rather than the first value in the array  \n",
    "\n",
    "3) Does the pivot we select for Quick-Sort matter?"
   ]
  }
 ],
 "metadata": {
  "kernelspec": {
   "display_name": "Java",
   "language": "java",
   "name": "java"
  },
  "language_info": {
   "codemirror_mode": "java",
   "file_extension": ".jshell",
   "mimetype": "text/x-java-source",
   "name": "Java",
   "pygments_lexer": "java",
   "version": "17.0.10+7-Ubuntu-122.04.1"
  }
 },
 "nbformat": 4,
 "nbformat_minor": 2
}
