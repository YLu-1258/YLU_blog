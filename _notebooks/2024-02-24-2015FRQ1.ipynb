{
 "cells": [
  {
   "cell_type": "markdown",
   "metadata": {},
   "source": [
    "---\n",
    "- title: 2015 APCSA FRQ 1\n",
    "- description: The first FRQ for the 2015 APCSA Practice Exam places an emphasis on Arrays and Arraylists\n",
    "- author: alex\n",
    "- badges: true\n",
    "- comments: true\n",
    "- categories: [CSA]\n",
    "- date: 2024-02-23 06:05:00 -0800\n",
    "- tags: [APPREP]\n",
    "- week: 19\n",
    "- render_with_liquid: false\n",
    "- type: tangibles\n",
    "---"
   ]
  },
  {
   "cell_type": "markdown",
   "metadata": {},
   "source": [
    "## The Problem\n",
    "This question involves reasoning about one-dimensional and two-dimensional arrays of integers. You will write three static methods, all of which are in a single enclosing class, named DiverseArray (not shown). The first method returns the sum of the values of a one-dimensional array; the second method returns an array that represents the sums of the rows of a two-dimensional array; and the third method analyzes row sums.\n",
    "\n",
    "> (a) Write a static method arraySum that calculates and returns the sum of the entries in a specified one-dimensional array. The following example shows an array arr1 and the value returned by a call to arraySum.  \n",
    "\n",
    "![alt text](/assets/img/2015_FRQ/FRQ1partA.png)\n",
    "\n",
    "Complete method arraySum below.\n",
    "```java\n",
    "/ * * Returns the sum of the entries in the one-dimensional array arr.\n",
    "\n",
    "* /\n",
    "\n",
    "public static int arraySum (int [ ] arr)\n",
    "```\n",
    "\n",
    ">(b) Write a static method rowSums that calculates the sums of each of the rows in a given two-dimensional array and returns these sums in a one-dimensional array. The method has one parameter, a two-dimensional array arr2D of int values. The array is in row-major order: arr2D [ r ] [ c ] is the entry at row r and column c. The method returns a one-dimensional array with one entry for each row of arr2D such that each entry is the sum of the corresponding row in arr2D. As a reminder, each row of a two-dimensional array is a one-dimensional array.\n",
    "\n",
    "For example, if mat1 is the array represented by the following table, the call rowSums(mat1) returns the array {16, 32, 28, 20}.  \n",
    "![alt text](/assets/img/2015_FRQ/FRQ1partB.png)\n",
    "\n",
    "Assume that arraySum works as specified, regardless of what you wrote in part (a). You must use arraySum appropriately to receive full credit.  \n",
    "\n",
    "Complete method rowSums below.  \n",
    "\n",
    "```java\n",
    "/ * * Returns a one-dimensional array in which the entry at index k is the sum of\n",
    "\n",
    "* the entries of row k of the two-dimensional array arr2D.\n",
    "\n",
    "* /\n",
    "\n",
    "public static int [ ] rowSums(int [ ] [ ] arr2D)\n",
    "```\n",
    "\n",
    "> (c) A two-dimensional array is diverse if no two of its rows have entries that sum to the same value. In the following examples, the array mat1 is diverse because each row sum is different, but the array mat2 is not diverse because the first and last rows have the same sum.  \n",
    "\n",
    "![alt text](/assets/img/2015_FRQ/FRQ1partC1.png)  \n",
    "Write a static method isDiverse that determines whether or not a given two-dimensional array is diverse. The method has one parameter: a two-dimensional array arr2D of int values. The method should return true if all the row sums in the given array are unique; otherwise, it should return false. In the arrays shown above, the call isDiverse (mat1) returns true and the call isDiverse(mat2) returns false.  \n",
    "\n",
    "Assume that arraySum and rowSums work as specified, regardless of what you wrote in parts (a) and(b). You must use rowSums appropriately to receive full credit.\n",
    "Complete method isDiverse below.  \n",
    "\n",
    "```java\n",
    "/ * * Returns true if all rows in arr2D have different row sums;\n",
    "* false otherwise.\n",
    "\n",
    "* /public static boolean isDiverse(int [ ] [ ] arr2D)\n",
    "```"
   ]
  },
  {
   "cell_type": "markdown",
   "metadata": {},
   "source": [
    "## Part A\n",
    "To complete this question, I simply create a public static method called arraySum, which utilizes a simple for-loop to iterate and sum the values of the array."
   ]
  },
  {
   "cell_type": "code",
   "execution_count": 14,
   "metadata": {},
   "outputs": [
    {
     "name": "stdout",
     "output_type": "stream",
     "text": [
      "Sum of array: 6"
     ]
    }
   ],
   "source": [
    "class DiverseArray {\n",
    "    public static int arraySum(int[] arr) {\n",
    "        int sum = 0;\n",
    "        for (int i = 0; i<arr.length; i++){\n",
    "            sum+=arr[i];\n",
    "        }\n",
    "        return sum;\n",
    "    }\n",
    "}\n",
    "int[] array = {1,1,1,1,1,1};\n",
    "System.out.print(\"Sum of array: \");\n",
    "System.out.print(DiverseArrayPartA.arraySum(array));"
   ]
  },
  {
   "cell_type": "markdown",
   "metadata": {},
   "source": [
    "## Part B\n",
    "To solve this question, I merely recreated the code from part A and added a new method rowSums to return the sum of each row. Once again, I used a simple for-loop to loop through each row of the array to output the final sum."
   ]
  },
  {
   "cell_type": "code",
   "execution_count": 15,
   "metadata": {},
   "outputs": [
    {
     "name": "stdout",
     "output_type": "stream",
     "text": [
      "Row sums of array: 15 30 "
     ]
    }
   ],
   "source": [
    "class DiverseArray {\n",
    "    public static int arraySum(int[] arr) {\n",
    "        int sum = 0;\n",
    "        for (int i = 0; i<arr.length; i++){\n",
    "            sum+=arr[i];\n",
    "        }\n",
    "        return sum;\n",
    "    }\n",
    "\n",
    "    public static int[] rowSums(int[][] twoD) {\n",
    "        int[] sums = new int[twoD.length];\n",
    "        for (int i = 0; i<twoD.length; i++) {\n",
    "            sums[i] = arraySum(twoD[i]);\n",
    "        }\n",
    "        return sums;\n",
    "    }\n",
    "}\n",
    "\n",
    "int[][] array = {{1,2,3,4,5}, {6,7,8,9,0}};\n",
    "int[] result = DiverseArray.rowSums(array);\n",
    "System.out.print(\"Row sums of array: \");\n",
    "for (int i = 0; i<result.length; i++) {\n",
    "    System.out.print(result[i] + \" \");\n",
    "}"
   ]
  },
  {
   "cell_type": "markdown",
   "metadata": {},
   "source": [
    "## Part C\n",
    "To solve this question, I merely recreated the code from part A and added a new method `countOccurences` to count the number of occurences of an element in a array. I then used this method in `isDiverse` to iterate over the rowSums to look for duplicate values, printing false if found, true otherwise."
   ]
  },
  {
   "cell_type": "code",
   "execution_count": 23,
   "metadata": {},
   "outputs": [
    {
     "name": "stdout",
     "output_type": "stream",
     "text": [
      "Array 1 diverse? true\n",
      "Array 2 diverse? "
     ]
    },
    {
     "name": "stdout",
     "output_type": "stream",
     "text": [
      "false"
     ]
    }
   ],
   "source": [
    "class DiverseArray {\n",
    "    public static int arraySum(int[] arr) {\n",
    "        int sum = 0;\n",
    "        for (int i = 0; i<arr.length; i++){\n",
    "            sum+=arr[i];\n",
    "        }\n",
    "        return sum;\n",
    "    }\n",
    "\n",
    "    public static int[] rowSums(int[][] twoD) {\n",
    "        int[] sums = new int[twoD.length];\n",
    "        for (int i = 0; i<twoD.length; i++) {\n",
    "            sums[i] = arraySum(twoD[i]);\n",
    "        }\n",
    "        return sums;\n",
    "    }\n",
    "\n",
    "    public static int countOccurence(int[] arr, int val) {\n",
    "        int occurence = 0;\n",
    "        for (int i = 0; i < arr.length; i++) {\n",
    "            if (arr[i] == val) {\n",
    "                occurence++;\n",
    "            }\n",
    "        }\n",
    "        return occurence;\n",
    "    }\n",
    "\n",
    "    public static boolean isDiverse(int[][] twoD) {\n",
    "        int[] rowSums = rowSums(twoD);\n",
    "        for (int i = 0; i < rowSums.length; i++) {\n",
    "            if (countOccurence(rowSums, rowSums[i]) > 1) {\n",
    "                return false;\n",
    "            }\n",
    "        }\n",
    "        return true;\n",
    "\n",
    "    }\n",
    "\n",
    "    public static void main(String args[]) {\n",
    "        int[][] array1 = {{1,2,3,4,5}, {6,7,8,9,0}};\n",
    "        int[][] array2 = {{1,1,1,1,1}, {1,1,1,1,1}};\n",
    "        System.out.print(\"Array 1 diverse? \");\n",
    "        System.out.print(DiverseArray.isDiverse(array1) + \"\\n\");\n",
    "        System.out.print(\"Array 2 diverse? \");\n",
    "        System.out.print(DiverseArray.isDiverse(array2));\n",
    "    }\n",
    "}\n",
    "\n"
   ]
  }
 ],
 "metadata": {
  "kernelspec": {
   "display_name": "java",
   "language": "java",
   "name": "java"
  },
  "language_info": {
   "codemirror_mode": "java",
   "file_extension": ".jshell",
   "mimetype": "text/x-java-source",
   "name": "java",
   "pygments_lexer": "java",
   "version": "17.0.9+9-Ubuntu-120.04"
  }
 },
 "nbformat": 4,
 "nbformat_minor": 2
}
