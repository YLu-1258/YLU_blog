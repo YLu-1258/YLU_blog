{
 "cells": [
  {
   "cell_type": "markdown",
   "metadata": {},
   "source": [
    "---\n",
    "- title: \"'CS61A: Lecture 11'\"\n",
    "- author: alex\n",
    "- badges: true\n",
    "- comments: true\n",
    "- categories: [CS61A]\n",
    "- date: 2024-09-27 12:00:00 -0800\n",
    "- tags: [CS61A]\n",
    "---"
   ]
  },
  {
   "cell_type": "markdown",
   "metadata": {},
   "source": [
    "# Manipulating Lists\n",
    "- Making a list with a list literal\n",
    "- Get a certain element using item selection\n",
    "- Get a portion of the list using slicing\n",
    "- Make a longer list using addition\n"
   ]
  },
  {
   "cell_type": "code",
   "execution_count": 1,
   "metadata": {},
   "outputs": [
    {
     "name": "stdout",
     "output_type": "stream",
     "text": [
      "4\n",
      "[7, 9, 11]\n",
      "[3, 4, 7, 9, 11]\n"
     ]
    }
   ],
   "source": [
    "s = [4, 7, 9, 11]\n",
    "print(s[0])\n",
    "print(s[1:])\n",
    "print([3] + s)"
   ]
  },
  {
   "cell_type": "markdown",
   "metadata": {},
   "source": [
    "## Max Product\n",
    "- Write a function that takes in a list and returns the maximum product that can be formed using non-consecutive elemnts of the list. All numbers in the input list are greater than or equal to 1."
   ]
  },
  {
   "cell_type": "code",
   "execution_count": 4,
   "metadata": {},
   "outputs": [
    {
     "data": {
      "text/plain": [
       "1"
      ]
     },
     "execution_count": 4,
     "metadata": {},
     "output_type": "execute_result"
    }
   ],
   "source": [
    "def max_product(s):\n",
    "    \"\"\"Return the maximum product that can be formed using non-consecutive elements in the list.\n",
    "    \"\"\"\n",
    "    if len(s) == 0:\n",
    "        return 1\n",
    "    elif len(s) == 1:\n",
    "        return s[0]\n",
    "    return max(s[0] * max_product(s[2:]), s[1] * max_product(s[3:]))\n",
    "    # return max(s[0] * max_product(s[2:], max_product(s[1:]))) <--- Denero's solution\n",
    "\n",
    "max_product([])"
   ]
  },
  {
   "cell_type": "markdown",
   "metadata": {},
   "source": [
    "## Sums Fun\n",
    "Implement sums(n, m), which takes a total n and maximium m. It returns a list of all lists:\n",
    "    - That sums to n,\n",
    "    - That contain only positive numbers up to m, and\n",
    "    - in which no two adjacent numbers are the same"
   ]
  },
  {
   "cell_type": "code",
   "execution_count": 11,
   "metadata": {},
   "outputs": [
    {
     "data": {
      "text/plain": [
       "[[1, 3, 1], [1, 4], [2, 1, 2], [2, 3], [3, 2], [4, 1], [5]]"
      ]
     },
     "execution_count": 11,
     "metadata": {},
     "output_type": "execute_result"
    }
   ],
   "source": [
    "def sums(n, m):\n",
    "    if n < 0:\n",
    "        return []\n",
    "    if n == 0:\n",
    "        sums_to_zero = []\n",
    "        return [sums_to_zero]\n",
    "    result = []\n",
    "    for k in range(1, m+1):\n",
    "        # if rest == [] checks to make sure that we are not accessing an index out of bounds error.\n",
    "        result = result + [ [k]+rest for rest in sums(n-k,m) if rest == [] or k != rest[0]]\n",
    "    return result\n",
    "\n",
    "sums(5,5)"
   ]
  },
  {
   "cell_type": "code",
   "execution_count": 14,
   "metadata": {},
   "outputs": [
    {
     "data": {
      "text/plain": [
       "1"
      ]
     },
     "execution_count": 14,
     "metadata": {},
     "output_type": "execute_result"
    }
   ],
   "source": [
    "xs = range(-10, 11)\n",
    "ys = [x*x - 2*x + 1 for x in xs]\n",
    "def x_corresponding_to_min_y():\n",
    "    return xs[ys.index(min(ys))]\n",
    "\n",
    "x_corresponding_to_min_y()"
   ]
  },
  {
   "cell_type": "markdown",
   "metadata": {},
   "source": [
    "- We can also pass in a function into the min function to get the key."
   ]
  },
  {
   "cell_type": "code",
   "execution_count": 17,
   "metadata": {},
   "outputs": [
    {
     "data": {
      "text/plain": [
       "1"
      ]
     },
     "execution_count": 17,
     "metadata": {},
     "output_type": "execute_result"
    }
   ],
   "source": [
    "xs = range(-10, 11)\n",
    "ys = [x*x - 2*x + 1 for x in xs]\n",
    "def x_corresponding_to_min_y():\n",
    "    return xs[min(range(len(ys)), key=lambda i : ys[i])]\n",
    "\n",
    "x_corresponding_to_min_y()"
   ]
  },
  {
   "cell_type": "markdown",
   "metadata": {},
   "source": [
    "- If there are multiple minimums, then "
   ]
  },
  {
   "cell_type": "markdown",
   "metadata": {},
   "source": [
    "# Slicing Practice\n",
    "- Implement `prefix`, which takes a list of numbers `s` and returns a list of the prefix sums of `s` in in creasing order of the length of the prefix."
   ]
  },
  {
   "cell_type": "code",
   "execution_count": 29,
   "metadata": {},
   "outputs": [
    {
     "data": {
      "text/plain": [
       "[1, 3, 6, 6, 10, 15]"
      ]
     },
     "execution_count": 29,
     "metadata": {},
     "output_type": "execute_result"
    }
   ],
   "source": [
    "def prefix(s):\n",
    "    \"\"\"Return a list of all prefix sums of list s.\"\"\"\n",
    "    return [sum(s[:k+1]) for k in range(len(s))]\n",
    "\n",
    "prefix([1,2,3,0,4,5])"
   ]
  },
  {
   "cell_type": "markdown",
   "metadata": {},
   "source": [
    "- make a function park that prints out all the ways of arranging a parking lot."
   ]
  },
  {
   "cell_type": "code",
   "execution_count": 41,
   "metadata": {},
   "outputs": [
    {
     "data": {
      "text/plain": [
       "['%%%%',\n",
       " '%%%.',\n",
       " '%%.%',\n",
       " '%%..',\n",
       " '%%<>',\n",
       " '%.%%',\n",
       " '%.%.',\n",
       " '%..%',\n",
       " '%...',\n",
       " '%.<>',\n",
       " '%<>%',\n",
       " '%<>.',\n",
       " '.%%%',\n",
       " '.%%.',\n",
       " '.%.%',\n",
       " '.%..',\n",
       " '.%<>',\n",
       " '..%%',\n",
       " '..%.',\n",
       " '...%',\n",
       " '....',\n",
       " '..<>',\n",
       " '.<>%',\n",
       " '.<>.',\n",
       " '<>%%',\n",
       " '<>%.',\n",
       " '<>.%',\n",
       " '<>..',\n",
       " '<><>']"
      ]
     },
     "execution_count": 41,
     "metadata": {},
     "output_type": "execute_result"
    }
   ],
   "source": [
    "def park(n):\n",
    "    if n < 0:\n",
    "        return []\n",
    "    elif n == 0:\n",
    "        return [\"\"]\n",
    "    else:\n",
    "        return ['%'+ way for way  in park(n-1)] + ['.' + way for way in park(n-1)] + ['<>'+ way for way in park(n-2)]\n",
    "    \n",
    "park(4)"
   ]
  }
 ],
 "metadata": {
  "kernelspec": {
   "display_name": "Python 3",
   "language": "python",
   "name": "python3"
  },
  "language_info": {
   "codemirror_mode": {
    "name": "ipython",
    "version": 3
   },
   "file_extension": ".py",
   "mimetype": "text/x-python",
   "name": "python",
   "nbconvert_exporter": "python",
   "pygments_lexer": "ipython3",
   "version": "3.10.12"
  }
 },
 "nbformat": 4,
 "nbformat_minor": 2
}
