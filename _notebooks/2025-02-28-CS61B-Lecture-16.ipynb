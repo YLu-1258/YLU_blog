{
 "cells": [
  {
   "cell_type": "markdown",
   "metadata": {},
   "source": [
    "---\n",
    "- title: \"'CS61B: Lecture 16'\"\n",
    "- author: alex\n",
    "- badges: true\n",
    "- comments: true\n",
    "- categories: [CS61B]\n",
    "- date: 2025-02-26 1:00:00 -0800\n",
    "- math: true\n",
    "- tags: [CS61B, ADT, BST, JAVA]\n",
    "---"
   ]
  },
  {
   "cell_type": "markdown",
   "metadata": {},
   "source": [
    "# Extends\n",
    "- When we use extends, we inherit all public members of a class into our child class. However, private attributes and methods are not inherited.\n",
    "- Constructors are not inherited. However, the superclass constructor is called within the child class constructor.\n",
    "- Super class methods can still be involved using `super`. "
   ]
  },
  {
   "cell_type": "code",
   "execution_count": null,
   "metadata": {},
   "outputs": [],
   "source": [
    "public class VengefulSLList<Item> extends SLList<Item> {\n",
    "    private List<Item> deletedItems;\n",
    "\n",
    "    public VengefulSList() {\n",
    "        // super() is implicitly called.\n",
    "        deletedItems = new ArrayList<>();\n",
    "    }\n",
    "\n",
    "    @Override\n",
    "    public Item removeLast() {\n",
    "        Item removedItem = super.removeLast(); // This will call the SList removeLast method\n",
    "        deletedItems.add(removedItem);\n",
    "        return removeditem;\n",
    "    }\n",
    "\n",
    "    private void printLostItems() {\n",
    "        System.out.println(deletedItems);\n",
    "    }\n",
    "}"
   ]
  },
  {
   "cell_type": "markdown",
   "metadata": {},
   "source": [
    "# Set, Map, and ADT\n",
    "- An **Abstract Data Type (ADT)** is defined only by operations, not by its implementation.\n",
    "## TreeSet and TreeMap\n",
    "- A traditional linked list structure is too slow to check if an element exists within the set.\n",
    "    - We have to traverse through all the elements of the Linked list to find the element.\n",
    "    - It is a slow search even if the list was in order.\n",
    "- To add efficiency, we are going to use a binary search tree to represent a set.\n",
    "- A tree contains a set of nodes and edges that connect its nodes.\n",
    "    - There is exactly one path between any two nodes\n",
    "- A **Rooted Tree** has one node called the root.\n",
    "    - Every node except for the root has exactly one parent.\n",
    "    - A node with no child is called a leaf.\n",
    "- In a rooted binary tree, every node has either 0, 1, or 2 children (subtrees).\n",
    "\n",
    "## Binary Search Trees\n",
    "- A Binary Search Tree is a tree that satisfies the BST Property. \n",
    "    - For every node X in the tree:\n",
    "        - Every key in the left subtree is less than X's key.\n",
    "        - Every key in the right subtree is greater than X's key.\n",
    "- The ordering in a BST must be complete, transitive, and antisymmetric. Given keys p and q:\n",
    "    - Exactly one of $p < q$ and $q > p$ are true.\n",
    "    - $p < q$ and $q < r$ imples $p < r$.\n",
    "\n",
    "## Searching BST \n",
    "- If searchKey equals T.key, we return T.key.\n",
    "    - If searchkey < T.key, we search T.left\n",
    "    - If searchkey > T.key, we search T.right\n",
    "- Bushy BSTs are extrememly fast for searching.\n",
    "\n",
    "\n",
    "## Inserting BST\n",
    "- We search for the key\n",
    "    - If the key is found, no nothing,\n",
    "    - If the key is not found, we create a new node and set an appropriate link.\n",
    "\n",
    "## Deleting BST\n",
    "- Three cases:\n",
    "- If we delete a node with 0 children, we may just simply remove it.\n",
    "- If we delete a node with 1 children, we may just set the parent of the child of the removed node to the parent of the removed node.\n",
    "- If we delete a node with 2 children, we use hibbard deletion.\n",
    "    - We want a new node to replace the deleted node. This node muts be greater than all nodes in the left subtree, and less than all nodes in the right subtree.\n",
    "    - We just either pick the greatest node in the left subtree or the least node in the right subtree."
   ]
  }
 ],
 "metadata": {
  "kernelspec": {
   "display_name": "Java",
   "language": "java",
   "name": "java"
  },
  "language_info": {
   "codemirror_mode": "java",
   "file_extension": ".jshell",
   "mimetype": "text/x-java-source",
   "name": "java",
   "pygments_lexer": "java",
   "version": "17.0.14+7-Ubuntu-122.04.1"
  }
 },
 "nbformat": 4,
 "nbformat_minor": 2
}
