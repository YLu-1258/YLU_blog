{
 "cells": [
  {
   "cell_type": "markdown",
   "metadata": {},
   "source": [
    "---\n",
    "- title: 2019 AP CSA FRQ 4 \n",
    "- author: alex\n",
    "- badges: true\n",
    "- comments: true\n",
    "- categories: [AP FRQ prep, tutorials]\n",
    "- date: 2023-09-19 18:00:00 -0800\n",
    "- tags: [notebooks, FRQ, 2Darrays]\n",
    "- week: 4\n",
    "- render_with_liquid: false\n",
    "- type: hacks\n",
    "---"
   ]
  },
  {
   "cell_type": "markdown",
   "metadata": {},
   "source": [
    "# 2019 APCSA FRQ 4\n",
    "\n",
    "> The LightBoard class models a two-dimensional display of lights, where each light is either on or off, as\n",
    "represented by a Boolean value. You will implement a constructor to initialize the display and a method to\n",
    "evaluate a light."
   ]
  },
  {
   "cell_type": "markdown",
   "metadata": {},
   "source": [
    "## Code provided"
   ]
  },
  {
   "cell_type": "code",
   "execution_count": null,
   "metadata": {
    "vscode": {
     "languageId": "java"
    }
   },
   "outputs": [],
   "source": [
    "public class LightBoard\n",
    "{\n",
    "    /** The lights on the board, where true represents on and false represents off.\n",
    "    */\n",
    "    private boolean[][] lights;\n",
    "    /** Constructs a LightBoard object having numRows rows and numCols columns.\n",
    "    * Precondition: numRows > 0, numCols > 0\n",
    "    * Postcondition: each light has a 40% probability of being set to on.\n",
    "    */\n",
    "    public LightBoard(int numRows, int numCols)\n",
    "    { /* to be implemented in part (a) */ }\n",
    "    /** Evaluates a light in row index row and column index col and returns a status\n",
    "    * as described in part (b).\n",
    "    * Precondition: row and col are valid indexes in lights.\n",
    "    */\n",
    "    public boolean evaluateLight(int row, int col)\n",
    "    { /* to be implemented in part (b) */ }\n",
    "    // There may be additional instance variables, constructors, and methods not shown.\n",
    "} "
   ]
  },
  {
   "cell_type": "markdown",
   "metadata": {},
   "source": [
    "## Part A\n",
    "Write the constructor for the `LightBoard` class, which initializes `lights` so that each light is set to\n",
    "on with a 40% probability. The notation `lights[r][c]` represents the array element at row `r` and\n",
    "column `c`.\n",
    "\n",
    "Complete the `LightBoard` constructor below."
   ]
  },
  {
   "cell_type": "code",
   "execution_count": null,
   "metadata": {
    "vscode": {
     "languageId": "java"
    }
   },
   "outputs": [],
   "source": [
    "/** Constructs a LightBoard object having numRows rows and numCols columns.\n",
    "* Precondition: numRows > 0, numCols > 0\n",
    "* Postcondition: each light has a 40% probability of being set to on.\n",
    "*/\n",
    "public LightBoard(int numRows, int numCols)"
   ]
  },
  {
   "cell_type": "markdown",
   "metadata": {},
   "source": [
    "### My Solution\n",
    "From the problem, we can glean 3 main functions we need to implement:  \n",
    "1. Allocate a `numRows` by `numCols` 2D array to store lights\n",
    "2. Properly iterate over each indice in the array\n",
    "3. Introduce randomness to give each light a 40% probabilty of being on ()"
   ]
  },
  {
   "cell_type": "code",
   "execution_count": 1,
   "metadata": {
    "vscode": {
     "languageId": "java"
    }
   },
   "outputs": [
    {
     "name": "stdout",
     "output_type": "stream",
     "text": [
      "true true false false false \n",
      "true true false false true \n",
      "true false true true false \n",
      "false false false false false \n",
      "On: 8\n",
      "Off: 12\n"
     ]
    }
   ],
   "source": [
    "import java.util.Random;\n",
    "public class LightBoard\n",
    "{\n",
    "    /** The lights on the board, where true represents on and false represents off.\n",
    "    */\n",
    "    private boolean[][] lightsprivate;\n",
    "    private Random RNG = new Random();\n",
    "    /** Constructs a LightBoard object having numRows rows and numCols columns.\n",
    "    * Precondition: numRows > 0, numCols > 0\n",
    "    * Postcondition: each light has a 40% probability of being set to on.\n",
    "    */\n",
    "    public LightBoard(int numRows, int numCols)\n",
    "    {\n",
    "        lightsprivate = new boolean[numRows][numCols];      // Create new numRows by numCols array\n",
    "        for (int i = 0; i<numRows; i++) {                   // 2D array iteration using nested for loop\n",
    "            for (int j = 0; j<numCols; j++) {\n",
    "                if (RNG.nextInt(10) >= 6) {                 // Only 4 values satisfy this condition\n",
    "                    lightsprivate[i][j] = true;\n",
    "                } else {\n",
    "                    lightsprivate[i][j] = false;\n",
    "                }\n",
    "            }\n",
    "        }\n",
    "    }\n",
    "\n",
    "    /* Not part of the FRQ, But added \n",
    "     * This in order to print the lights\n",
    "     * and see if the end result is \n",
    "     * acceptable\n",
    "    */\n",
    "    public void printLights() {\n",
    "        int on = 0;     // Counter Variables to count on and off lights\n",
    "        int off = 0;\n",
    "        for (int i = 0; i<lightsprivate.length; i++) {          // 2-D array iteration\n",
    "            for (int j = 0; j<lightsprivate[0].length; j++) {\n",
    "                System.out.print(lightsprivate[i][j] + \" \");    // Print out each light\n",
    "                if (lightsprivate[i][j]==true) {\n",
    "                    on++;\n",
    "                } else {\n",
    "                    off++;\n",
    "                }\n",
    "            }\n",
    "            System.out.println();\n",
    "        }\n",
    "        System.out.println(\"On: \" + on);\n",
    "        System.out.println(\"Off: \" + off);\n",
    "    }\n",
    "} \n",
    "\n",
    "LightBoard test = new LightBoard(4,5);      // Instantiate new lightboard\n",
    "test.printLights();"
   ]
  },
  {
   "cell_type": "markdown",
   "metadata": {},
   "source": [
    "## Part B\n",
    "Write the method evaluateLight, which computes and returns the status of a light at a given row and\n",
    "column based on the following rules.\n",
    "1. If the light is on, return false if the number of lights in its column that are on is even, including\n",
    "the current light.\n",
    "2. If the light is off, return true if the number of lights in its column that are on is divisible by three.\n",
    "3. Otherwise, return the light’s current status.\n",
    "For example, suppose that LightBoard sim = new LightBoard(7, 5) creates a light board\n",
    "with the initial state shown below, where true represents a light that is on and false represents a light\n",
    "that is off. Lights that are off are shaded. \n",
    "\n",
    "![2019 FRQ4 B](/assets/img/2019_FRQ4_B.png)"
   ]
  },
  {
   "cell_type": "markdown",
   "metadata": {},
   "source": [
    "### My Solution\n",
    "\n",
    "Again, this is just a very simple iteration of our 2-D array. We can simply calculate the number of lights in the column provided and then use control flows to dictate our program."
   ]
  },
  {
   "cell_type": "code",
   "execution_count": 40,
   "metadata": {
    "vscode": {
     "languageId": "java"
    }
   },
   "outputs": [
    {
     "name": "stdout",
     "output_type": "stream",
     "text": [
      "false true true false true \n",
      "false true false false false \n",
      "false false false false false \n",
      "false true true true false \n",
      "On: 7\n",
      "Off: 13\n"
     ]
    },
    {
     "data": {
      "text/plain": [
       "false"
      ]
     },
     "execution_count": 40,
     "metadata": {},
     "output_type": "execute_result"
    }
   ],
   "source": [
    "import java.util.Random;\n",
    "public class LightBoard\n",
    "{\n",
    "    /** The lights on the board, where true represents on and false represents off.\n",
    "    */\n",
    "    private boolean[][] lightsprivate;\n",
    "    private Random RNG = new Random();\n",
    "    /** Constructs a LightBoard object having numRows rows and numCols columns.\n",
    "    * Precondition: numRows > 0, numCols > 0\n",
    "    * Postcondition: each light has a 40% probability of being set to on.\n",
    "    */\n",
    "    public LightBoard(int numRows, int numCols)\n",
    "    {\n",
    "        lightsprivate = new boolean[numRows][numCols];\n",
    "        for (int i = 0; i<numRows; i++) {\n",
    "            for (int j = 0; j<numCols; j++) {\n",
    "                if (RNG.nextInt(10) >= 6) {\n",
    "                    lightsprivate[i][j] = true;\n",
    "                } else {\n",
    "                    lightsprivate[i][j] = false;\n",
    "                }\n",
    "            }\n",
    "        }\n",
    "    }\n",
    "\n",
    "    public boolean evaluateLight(int row, int col){\n",
    "        int numOnInCol = 0;\n",
    "        for (int i = 0; i<lightsprivate.length; i++) {      // Count number of lights in the column\n",
    "            if (lightsprivate[i][col] == true) {\n",
    "                numOnInCol++;\n",
    "            }\n",
    "        }\n",
    "        if (lightsprivate[row][col] == true) {              // First conditional, if even then return false if light is true\n",
    "            if (numOnInCol % 2 == 0) {\n",
    "                return false;\n",
    "            }\n",
    "        } else if (lightsprivate[row][col] == false) {      // Second conditional, if divisible by e then return true if light is true\n",
    "            if (numOnInCol % 3 == 0) {\n",
    "                return true;\n",
    "            }\n",
    "        }\n",
    "        return lightsprivate[row][col];                     // Third and fourth conditionals, return default light values.\n",
    "    }\n",
    "\n",
    "    // Extraneous function to print lights for viewing and testing.\n",
    "    public void printLights() {\n",
    "        int on = 0; \n",
    "        int off = 0;\n",
    "        for (int i = 0; i<lightsprivate.length; i++) {\n",
    "            for (int j = 0; j<lightsprivate[0].length; j++) {\n",
    "                System.out.print(lightsprivate[i][j] + \" \");\n",
    "                if (lightsprivate[i][j]==true) {\n",
    "                    on++;\n",
    "                } else {\n",
    "                    off++;\n",
    "                }\n",
    "            }\n",
    "            System.out.println();\n",
    "        }\n",
    "        System.out.println(\"On: \" + on);\n",
    "        System.out.println(\"Off: \" + off);\n",
    "    }\n",
    "\n",
    "} \n",
    "\n",
    "LightBoard test = new LightBoard(4,5);\n",
    "test.printLights();\n",
    "test.evaluateLight(3,4);"
   ]
  }
 ],
 "metadata": {
  "kernelspec": {
   "display_name": "java",
   "language": "java",
   "name": "java"
  },
  "language_info": {
   "codemirror_mode": "java",
   "file_extension": ".jshell",
   "mimetype": "text/x-java-source",
   "name": "Java",
   "pygments_lexer": "java",
   "version": "11.0.20.1+1-post-Ubuntu-0ubuntu120.04"
  },
  "orig_nbformat": 4
 },
 "nbformat": 4,
 "nbformat_minor": 2
}
