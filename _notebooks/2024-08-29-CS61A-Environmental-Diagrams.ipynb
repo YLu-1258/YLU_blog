{
 "cells": [
  {
   "cell_type": "markdown",
   "metadata": {},
   "source": [
    "---\n",
    "- title: \"CS61A:  Environmental Diagrams\"\n",
    "- author: alex\n",
    "- badges: true\n",
    "- comments: true\n",
    "- categories: [CS61A]\n",
    "- date: 2024-08-29 02:00:00 -0800\n",
    "- tags: [CS61A, Environmental Diagrams]\n",
    "---"
   ]
  },
  {
   "cell_type": "markdown",
   "metadata": {},
   "source": [
    "# Environment Diagrams\n",
    "- Used to keep track what goes on in the python interpreter.\n",
    "- Memory that keeps track of bindings between names and values.\n",
    "- Expressed in the form of pictures\n",
    "- Operates in the form of frames. Each frame represents a subroutine, with the main program executing in the global frame.  \n",
    "\n",
    "| Code | Frames |\n",
    "|-|-|\n",
    "| Statements and expressions | Each name is bound to a value |\n",
    "| Arrows indicate evaluation order | Within a frame, a name cannot be repeated (collisions). Must be counded to one value|\n",
    "\n",
    "- Once a new binding is created, the name loses its original value.\n",
    "- We can practice drawing the environmental diagrams at [this link](https://pythontutor.com/cp/composingprograms.html#mode=display)\n"
   ]
  },
  {
   "cell_type": "markdown",
   "metadata": {},
   "source": [
    "# Some Cool Syntax\n",
    "- For built-in functions, the formal parameters are not displayed. Formal paramters **are** displayed for user-defined functions. Ex:\n",
    "```python\n",
    "from operator import mul\n",
    "def multiply(a,b):\n",
    "    return a,b\n",
    "```\n",
    "Environmental Diagram:\n",
    "```\n",
    "Global Frame\n",
    "    mul | func mul(...)\n",
    "    multiply | func multiply(a,b)\n",
    "```\n",
    "- Local frames are named according to the name of the function they represent. Using the above example:\n",
    "```python\n",
    "from operator import mul\n",
    "def multiply(a,b):\n",
    "    return a,b\n",
    "\n",
    "multiply(1,2)\n",
    "```\n",
    "```\n",
    "Global frame // This is our global frame\n",
    "    mul | func mul(...)\n",
    "    multiply | func multiply(a,b)\n",
    "\n",
    "multiply // This is a local frame\n",
    "    a | 1 // Binding betwen argument name and value\n",
    "    b | 2\n",
    "    return value | 2 // The return value is not a binding! This is annotation\n",
    "```"
   ]
  },
  {
   "cell_type": "markdown",
   "metadata": {},
   "source": [
    "# Assignment Statements\n",
    "- Assignment statements change the bindings between names and values in frames\n",
    "- Execution rule for assignment statements\n",
    "    - The expressions are evaluated from left to right\n",
    "    - Once evaluated, the new values are then binded to the values on the left.\n",
    "\n",
    "```python\n",
    "a = 1               # Standard assignment\n",
    "b = 2\n",
    "b, a = a + b, b     # First a+b is evaluated to 3, then b evaluates as b, then 3 is assigned to b, and 2 is assigned to a.\n",
    "```\n",
    "- Sample environmental diagram for the following code:\n",
    "```python\n",
    "f = min\n",
    "f = max\n",
    "g, h = min, max\n",
    "max = g\n",
    "max(f(2,g(h(1,5),3)),4)\n",
    "```\n",
    "```\n",
    "Global frame\n",
    "f | function max // Max function has 2 names but there is still only 1 max function\n",
    "g | function min\n",
    "h | function max\n",
    "max | function min\n",
    "min | function min\n",
    "```"
   ]
  }
 ],
 "metadata": {
  "kernelspec": {
   "display_name": "Python 3",
   "language": "python",
   "name": "python3"
  },
  "language_info": {
   "codemirror_mode": {
    "name": "ipython",
    "version": 3
   },
   "file_extension": ".py",
   "mimetype": "text/x-python",
   "name": "python",
   "nbconvert_exporter": "python",
   "pygments_lexer": "ipython3",
   "version": "3.10.12"
  }
 },
 "nbformat": 4,
 "nbformat_minor": 2
}
