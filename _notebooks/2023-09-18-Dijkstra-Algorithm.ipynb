{
 "cells": [
  {
   "cell_type": "markdown",
   "metadata": {},
   "source": [
    "---\n",
    "- title: Dijkstra's Algorithm\n",
    "- author: alex\n",
    "- badges: true\n",
    "- comments: true\n",
    "- categories: [algorithm, tutorials]\n",
    "- date: 2023-09-13 09:00:00 -0800\n",
    "- tags: [notebooks, pathfinding]\n",
    "- week: 4\n",
    "- render_with_liquid: false\n",
    "- type: hacks\n",
    "---"
   ]
  },
  {
   "cell_type": "markdown",
   "metadata": {},
   "source": [
    "# Dijkstra's Algorithm\n",
    "\n",
    "In Computer Science, a common problem that we encounter are **parthfinding problems**. These problems are typically seen in GPS programs, maze-solvers, or robotics. We would typically represent the map in queston with a graph. For the sake of demonstrating Dijkstra's algorithm, we will implement our own weighted graphs to use for this algorithm "
   ]
  },
  {
   "cell_type": "markdown",
   "metadata": {},
   "source": [
    "## Weighted Graph\n",
    "\n",
    "To implement our weighted graph, we could create a `Node()` object representing each individual vertice, and the weighted edges that it is connected by. This Node object should have the following properties:\n",
    "- Store the label of the Vertice at question\n",
    "- Store a hashmap of edges that points to other nodes, associated with a numerical value (Integer:Integer)\n",
    "- Grab the label and edges\n",
    "- Update the label and edges"
   ]
  },
  {
   "cell_type": "code",
   "execution_count": 2,
   "metadata": {
    "vscode": {
     "languageId": "java"
    }
   },
   "outputs": [],
   "source": [
    "import java.util.HashMap; // Import the Hashmap that we'll need for this implementation"
   ]
  },
  {
   "cell_type": "code",
   "execution_count": 39,
   "metadata": {
    "vscode": {
     "languageId": "java"
    }
   },
   "outputs": [],
   "source": [
    "public class Node{\n",
    "    private int VerticeIndex;\n",
    "    private HashMap<Integer, Integer> Edges;\n",
    "\n",
    "    Node (int ProvidedIndexFromFrontend) {\n",
    "        this.VerticeIndex = ProvidedIndexFromFrontend; \n",
    "        this.Edges = new HashMap<Integer, Integer>();\n",
    "    }\n",
    "\n",
    "    Node (int ProvidedIndexFromFrontend, HashMap<Integer, Integer> ProvidedEdgesFromFrontend) {\n",
    "        this.VerticeIndex = ProvidedIndexFromFrontend; \n",
    "        this.Edges = ProvidedEdgesFromFrontend;\n",
    "    }\n",
    "\n",
    "    public int getIndex() {\n",
    "        return this.VerticeIndex;\n",
    "    }\n",
    "\n",
    "    public HashMap<Integer, Integer> getEdges() {\n",
    "        return this.Edges;\n",
    "    }\n",
    "\n",
    "    public void setIndex(int ProvidedIndex) {\n",
    "        this.VerticeIndex = ProvidedIndex;\n",
    "    }\n",
    "\n",
    "    public void addEdgeToVertex(int ProvidedDestinationIndex, int ProvidedEdgeWeight) {\n",
    "        this.Edges.put(ProvidedDestinationIndex, ProvidedEdgeWeight);\n",
    "    }\n",
    "\n",
    "    public void removeEdgeFromVertex(int ProvidedDestinationIndex) {\n",
    "        this.Edges.remove(ProvidedDestinationIndex);\n",
    "    }\n",
    "}"
   ]
  },
  {
   "cell_type": "code",
   "execution_count": 41,
   "metadata": {
    "vscode": {
     "languageId": "java"
    }
   },
   "outputs": [
    {
     "name": "stdout",
     "output_type": "stream",
     "text": [
      "1:{2=1, 3=7, 4=5}\n",
      "2:{1=1}\n",
      "3:{1=7, 4=10}\n",
      "4:{1=5, 3=10}\n"
     ]
    }
   ],
   "source": [
    "public class WeightedGraph {\n",
    "    private ArrayList<Node> Graph;\n",
    "\n",
    "    WeightedGraph() {\n",
    "        this.Graph = new ArrayList<Node>();\n",
    "    }\n",
    "    \n",
    "    public ArrayList<Node> RetrieveArrayofVertices(){\n",
    "        return this.Graph;\n",
    "    }\n",
    "\n",
    "    private int getMaximumLabel() {\n",
    "        return this.Graph.size();\n",
    "    }\n",
    "\n",
    "    private Node getVerticeFromLabel(int ProvidedLabel) {\n",
    "        for (Node vertice : this.Graph) {\n",
    "            if (vertice.getIndex() == ProvidedLabel) {\n",
    "                return vertice;\n",
    "            }\n",
    "        }\n",
    "        return null;\n",
    "    }\n",
    "\n",
    "    private boolean isVerticeExist(int ProvidedLabel) {\n",
    "        for (Node vertice : this.Graph) {\n",
    "            if (vertice.getIndex() == ProvidedLabel) {\n",
    "                return true;\n",
    "            }\n",
    "        }\n",
    "        return false;\n",
    "    }\n",
    "\n",
    "    public void addVertice(Node ProvidedNewVertice) {\n",
    "        for (Node vertice : this.Graph) {\n",
    "            if (vertice.getIndex() == ProvidedNewVertice.getIndex()) {\n",
    "                return ;\n",
    "            }\n",
    "        }\n",
    "        this.Graph.add(ProvidedNewVertice);\n",
    "    }\n",
    "\n",
    "    public void addEdgeToGraph(int ProvidedSourceVertice, int ProvidedDestinationVertice, int ProvidedEdgeWeight) {\n",
    "        assert isVerticeExist(ProvidedSourceVertice);\n",
    "        assert isVerticeExist(ProvidedDestinationVertice);\n",
    "        Node SourceVerticeObj = getVerticeFromLabel(ProvidedSourceVertice);\n",
    "        Node DestinationVerticeObj = getVerticeFromLabel(ProvidedDestinationVertice);\n",
    "        SourceVerticeObj.addEdgeToVertex(ProvidedDestinationVertice, ProvidedEdgeWeight);   \n",
    "        DestinationVerticeObj.addEdgeToVertex(ProvidedSourceVertice, ProvidedEdgeWeight);       \n",
    "    }\n",
    "\n",
    "    public void removeEdgeFromGraph(int ProvidedSourceVertice, int ProvidedDestinationVertice, int ProvidedEdgeWeight) {\n",
    "        assert isVerticeExist(ProvidedSourceVertice);\n",
    "        assert isVerticeExist(ProvidedDestinationVertice);\n",
    "        Node SourceVerticeObj = getVerticeFromLabel(ProvidedSourceVertice);\n",
    "        Node DestinationVerticeObj = getVerticeFromLabel(ProvidedDestinationVertice);\n",
    "        SourceVerticeObj.removeEdgeFromVertex(ProvidedDestinationVertice);   \n",
    "        DestinationVerticeObj.removeEdgeFromVertex(ProvidedSourceVertice);       \n",
    "    }\n",
    "}\n",
    "\n",
    "WeightedGraph test = new WeightedGraph();\n",
    "\n",
    "\n",
    "Node vertice1 = new Node(1);\n",
    "Node vertice2 = new Node(2);\n",
    "Node vertice3 = new Node(3);\n",
    "Node vertice4 = new Node(4);\n",
    "\n",
    "test.addVertice(vertice1);\n",
    "test.addVertice(vertice2);\n",
    "test.addVertice(vertice3);\n",
    "test.addVertice(vertice4);\n",
    "\n",
    "test.addEdgeToGraph(1,4,5);\n",
    "test.addEdgeToGraph(1,3,7);\n",
    "test.addEdgeToGraph(1,2,1);\n",
    "test.addEdgeToGraph(3,4,10);\n",
    "\n",
    "\n",
    "ArrayList<Node> sampleList = test.RetrieveArrayofVertices();\n",
    "for (Node node: sampleList) {\n",
    "    System.out.println(node.getIndex() + \":\" + node.getEdges());\n",
    "}"
   ]
  },
  {
   "cell_type": "markdown",
   "metadata": {},
   "source": [
    "## Dijkstra methods"
   ]
  }
 ],
 "metadata": {
  "kernelspec": {
   "display_name": "java",
   "language": "java",
   "name": "java"
  },
  "language_info": {
   "codemirror_mode": "java",
   "file_extension": ".jshell",
   "mimetype": "text/x-java-source",
   "name": "Java",
   "pygments_lexer": "java",
   "version": "11.0.20.1+1-post-Ubuntu-0ubuntu120.04"
  },
  "orig_nbformat": 4
 },
 "nbformat": 4,
 "nbformat_minor": 2
}
