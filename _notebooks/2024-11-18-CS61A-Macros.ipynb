{
 "cells": [
  {
   "cell_type": "markdown",
   "metadata": {},
   "source": [
    "---\n",
    "- title: \"'CS61A: Macros'\"\n",
    "- author: alex\n",
    "- badges: true\n",
    "- comments: true\n",
    "- categories: [CS61A]\n",
    "- date: 2024-11-18 1:00:00 -0800\n",
    "- math: true\n",
    "- tags: [CS61A, Scheme]\n",
    "---"
   ]
  },
  {
   "cell_type": "markdown",
   "metadata": {},
   "source": [
    "# Macros\n",
    "- Macros enable us to define new special forms within scheme.\n",
    "- Macros perform code transformations.\n",
    "    - We describe how to take parts of a special form and construct a regular scheme expression from that which is then evaluated.\n",
    "- A macro is an operation performed on the source code of a program before its evauation.\n",
    "- In scheme, the `define-macro` special form is used to define a source code transformation\n",
    "- Ex:"
   ]
  },
  {
   "cell_type": "code",
   "execution_count": null,
   "metadata": {
    "vscode": {
     "languageId": "plaintext"
    }
   },
   "outputs": [],
   "source": [
    "scm> (define-macro (twice expr)\n",
    "    (list 'begin expr expr)\n",
    ")\n",
    "twice\n",
    "scm> (twice (print 2))\n",
    "2\n",
    "2"
   ]
  },
  {
   "cell_type": "markdown",
   "metadata": {},
   "source": [
    "- Because twice is a macro, it evaluates the body of the macro with the expression that is provided BEFORE the expression is evaluated.\n",
    "    - The macro constructs a new expression `(begin (print 2) (print 2))`, which is then ultimately evauated.\n",
    "- If twice was a normal procedure, then the argument, `(print 2)`, would've been evauated before the procedure twice was ever called.\n",
    "    - Two would be only printed once.\n",
    "    - Macros \"copy\" the raw form (data) of the arguments, and assembles a new expression which is then ran.\n",
    "- Evaluation procedure of a macro call expression:\n",
    "    - Evaluate the operator sub-expression, which evaluates to a macro\n",
    "    - Call the macro procedure on the operand expressions __without evaluating them first__\n",
    "    - Evaluate the expression returned from the macro procedure\n",
    "- Anything that we create as a macro is automatically a new special form in scheme.\n",
    "    - This means that we can pass in combinations of inputs like any other special form that we have.\n",
    "- Ex: A macro that checks if a certain"
   ]
  },
  {
   "cell_type": "code",
   "execution_count": null,
   "metadata": {
    "vscode": {
     "languageId": "plaintext"
    }
   },
   "outputs": [],
   "source": [
    "(define-macro (check expr)\n",
    "    (list 'if expr \n",
    "        ''passed \n",
    "        (list 'quote (list 'failed: expr)))\n",
    ")\n",
    "\n",
    "This generates the following expression\n",
    "\n",
    "(if expr\n",
    "    'passed\n",
    "    (quote (list 'failed: expr))\n",
    ")"
   ]
  },
  {
   "cell_type": "markdown",
   "metadata": {},
   "source": [
    "# For Macro\n",
    "- We want to create a macro that would apply a function over a list and return a new list.\n",
    "    - This is very similar to the map function, and to do this, we first must define a map function itself."
   ]
  },
  {
   "cell_type": "code",
   "execution_count": null,
   "metadata": {
    "vscode": {
     "languageId": "plaintext"
    }
   },
   "outputs": [],
   "source": [
    "scm> (define (map fn vals)\n",
    "    (if (null? vals)\n",
    "        ()\n",
    "        (cons (fn (car vals)) (map fn (cdr vals)))\n",
    "    )\n",
    ")\n",
    "map\n",
    "scm> (map (lambda (x) (* x x)) '(2 3 4 5))\n",
    "(4 9 16 25)"
   ]
  },
  {
   "cell_type": "markdown",
   "metadata": {},
   "source": [
    "- What we have now is already very similar to the for loop we are trying to implement. we just need to conver this form into a macro."
   ]
  },
  {
   "cell_type": "code",
   "execution_count": null,
   "metadata": {
    "vscode": {
     "languageId": "plaintext"
    }
   },
   "outputs": [],
   "source": [
    "(define-macro (for sym vals expr)\n",
    "    (list 'map (list 'lambda (list sym) expr) vals)\n",
    ")"
   ]
  },
  {
   "cell_type": "markdown",
   "metadata": {},
   "source": [
    "- Keep in mind that when we create lists in a macro, do not be lazy and us the single quote. The single quote would actually make everything within the list a string, which is not what we want. sometimes, we just want the value itself, not the value itself quoted.\n",
    "\n",
    "# Trace Macro\n",
    "- We want to create a procedure that enables us to track recursive calls to a function, similar to the trace decorator in the python ucb module.\n",
    "- We may achieve similar functionality using regular procedures without macros:\n"
   ]
  },
  {
   "cell_type": "code",
   "execution_count": null,
   "metadata": {
    "vscode": {
     "languageId": "plaintext"
    }
   },
   "outputs": [],
   "source": [
    "(define fact (lambda (n)\n",
    "    (if (zero? n) 1 (* n (fact (- n 1)))))\n",
    ")"
   ]
  },
  {
   "cell_type": "markdown",
   "metadata": {},
   "source": [
    "- To trace this:"
   ]
  },
  {
   "cell_type": "code",
   "execution_count": null,
   "metadata": {
    "vscode": {
     "languageId": "plaintext"
    }
   },
   "outputs": [],
   "source": [
    "(begin\n",
    "    (define original fact)  ; save our original function\n",
    "\n",
    "    (define fact \n",
    "        (lambda (n) (print (list 'fact n)) (original n))\n",
    "    )   ; make our new function trace\n",
    "\n",
    "    (define result (fact 5))    ; Bind our function result to result\n",
    "\n",
    "    (define fact original)  ; restore our original function\n",
    "    result ; return our result\n",
    ")\n"
   ]
  },
  {
   "cell_type": "markdown",
   "metadata": {},
   "source": [
    "- However, unlike python, this implementation does not have a separation of concerns between the actual tracing and the function itself. We want to generalize this procedure.\n",
    "    - As always, to create this macro, we try to construct a list that contains our four previous statements."
   ]
  },
  {
   "cell_type": "markdown",
   "metadata": {},
   "source": [
    "(define-macro (trace expr)\n",
    "    (define operator (car expr))    ; isolate our original operator\n",
    "    `(begin\n",
    "        (define original ,operator) ; save our original procedure\n",
    "        (define ,operator (lambda (n) (print (list (quote ,operator) n)) (original n))) ; redefine our procedure to trace itself. We must quote the value of the operator as otherwise we'd be getting the value of the operator instead.\n",
    "        (define result ,expr)\n",
    "        (define ,operator original)\n",
    "        result\n",
    "    )\n",
    ")"
   ]
  }
 ],
 "metadata": {
  "kernelspec": {
   "display_name": "Python 3",
   "language": "python",
   "name": "python3"
  },
  "language_info": {
   "codemirror_mode": {
    "name": "ipython",
    "version": 3
   },
   "file_extension": ".py",
   "mimetype": "text/x-python",
   "name": "python",
   "nbconvert_exporter": "python",
   "pygments_lexer": "ipython3",
   "version": "3.10.12"
  }
 },
 "nbformat": 4,
 "nbformat_minor": 2
}
