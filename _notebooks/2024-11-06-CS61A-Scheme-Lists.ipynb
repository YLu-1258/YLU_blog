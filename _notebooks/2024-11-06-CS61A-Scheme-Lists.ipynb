{
 "cells": [
  {
   "cell_type": "markdown",
   "metadata": {},
   "source": [
    "---\n",
    "- title: \"'CS61A: Scheme Lists'\"\n",
    "- author: alex\n",
    "- badges: true\n",
    "- comments: true\n",
    "- categories: [CS61A]\n",
    "- date: 2024-11-06 1:00:00 -0800\n",
    "- math: true\n",
    "- tags: [CS61A, Scheme]\n",
    "---"
   ]
  },
  {
   "cell_type": "markdown",
   "metadata": {},
   "source": [
    "# Lists\n",
    "- Every list in Scheme is a linked list.\n",
    "- Names for linked list:\n",
    "    - **cons:** Two-argument procedure that creates a linked list\n",
    "    - **car:** Procedure that returns the first element of a list\n",
    "    - **cdr:** Procedure that returns the rest of a list\n",
    "    - **nil:** The empty list.\n",
    "- Scheme lists are written in parentheses with elements separated by spaces.\n",
    "- Ex:"
   ]
  },
  {
   "cell_type": "code",
   "execution_count": null,
   "metadata": {
    "vscode": {
     "languageId": "plaintext"
    }
   },
   "outputs": [],
   "source": [
    "(cons 1 (cons 2 nil))"
   ]
  },
  {
   "cell_type": "markdown",
   "metadata": {},
   "source": [
    "- This creates a linked-"
   ]
  }
 ],
 "metadata": {
  "language_info": {
   "name": "python"
  }
 },
 "nbformat": 4,
 "nbformat_minor": 2
}
