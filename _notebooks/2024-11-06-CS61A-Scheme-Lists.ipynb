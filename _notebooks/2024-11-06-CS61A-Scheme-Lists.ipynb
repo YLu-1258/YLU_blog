{
 "cells": [
  {
   "cell_type": "markdown",
   "metadata": {},
   "source": [
    "---\n",
    "- title: \"'CS61A: Scheme Lists'\"\n",
    "- author: alex\n",
    "- badges: true\n",
    "- comments: true\n",
    "- categories: [CS61A]\n",
    "- date: 2024-11-06 1:00:00 -0800\n",
    "- math: true\n",
    "- tags: [CS61A, Scheme]\n",
    "---"
   ]
  },
  {
   "cell_type": "markdown",
   "metadata": {},
   "source": [
    "# Lists\n",
    "- Every list in Scheme is a linked list.\n",
    "- Names for linked list:\n",
    "    - **cons:** Two-argument procedure that creates a linked list\n",
    "    - **car:** Procedure that returns the first element of a list\n",
    "    - **cdr:** Procedure that returns the rest of a list\n",
    "    - **nil:** The empty list.\n",
    "- Scheme lists are written in parentheses with elements separated by spaces.\n",
    "- Ex:"
   ]
  },
  {
   "cell_type": "code",
   "execution_count": null,
   "metadata": {
    "vscode": {
     "languageId": "plaintext"
    }
   },
   "outputs": [],
   "source": [
    "(define x (cons 1 (cons 2 nil)))"
   ]
  },
  {
   "cell_type": "markdown",
   "metadata": {},
   "source": [
    "- This creates a linked-list with the elements 1 and 2.\n",
    "- To retrieve 1:"
   ]
  },
  {
   "cell_type": "code",
   "execution_count": null,
   "metadata": {
    "vscode": {
     "languageId": "plaintext"
    }
   },
   "outputs": [],
   "source": [
    "(car x) # 1"
   ]
  },
  {
   "cell_type": "markdown",
   "metadata": {},
   "source": [
    "- To retrieve the rest of the list:"
   ]
  },
  {
   "cell_type": "code",
   "execution_count": null,
   "metadata": {
    "vscode": {
     "languageId": "plaintext"
    }
   },
   "outputs": [],
   "source": [
    "(cdr x)     # (2)"
   ]
  },
  {
   "cell_type": "markdown",
   "metadata": {},
   "source": [
    "- To retrieve 2:"
   ]
  },
  {
   "cell_type": "code",
   "execution_count": null,
   "metadata": {
    "vscode": {
     "languageId": "plaintext"
    }
   },
   "outputs": [],
   "source": [
    "(car (cdr x)) # 2"
   ]
  },
  {
   "cell_type": "markdown",
   "metadata": {},
   "source": [
    "- Lists in scheme are displayed as a collection of values:"
   ]
  },
  {
   "cell_type": "code",
   "execution_count": null,
   "metadata": {
    "vscode": {
     "languageId": "plaintext"
    }
   },
   "outputs": [],
   "source": [
    "(cons 1 cons(2 cons(3 cons(4 nil))))\n",
    "# This outputs\n",
    "(1 2 3 4)"
   ]
  },
  {
   "cell_type": "markdown",
   "metadata": {},
   "source": [
    "- Like our python implementation of a linked list, the list in scheme is also capable of nesting lists within lists."
   ]
  },
  {
   "cell_type": "code",
   "execution_count": null,
   "metadata": {
    "vscode": {
     "languageId": "plaintext"
    }
   },
   "outputs": [],
   "source": [
    "scm> (define s (cons 1 (cons 2 nil)))\n",
    "scm> (define n (cons s (cons 3 (cons 4 nil))))\n",
    "# n is now equivalent to\n",
    "scm> n\n",
    "((1 2) 3 4)"
   ]
  },
  {
   "cell_type": "markdown",
   "metadata": {},
   "source": [
    "- Ex: What is (cons s (cons s nil))"
   ]
  },
  {
   "cell_type": "code",
   "execution_count": null,
   "metadata": {
    "vscode": {
     "languageId": "plaintext"
    }
   },
   "outputs": [],
   "source": [
    "scm> (cons s (cons s nil))\n",
    "((1 2) (1 2))"
   ]
  },
  {
   "cell_type": "markdown",
   "metadata": {},
   "source": [
    "## Builtin List functions\n",
    "- `list?`: Checks if an object is a list.\n",
    "    - `nil`, the empty list, is a list.\n",
    "- `null?`: Checks if a list is an empty list or not\n",
    "- `list`: Creates a new linked list fwith the provided arguments.\n",
    "\n",
    "# Symbolic Programming\n",
    "- List introduces the idea of symbolic programming.\n",
    "    - We manipulate lists of symbols which represent things in the real world as structured objects.\n",
    "    - We may manipulate entire equations with lisp, instead of only evaluating equations.\n",
    "- Symbols typically refer only to values.\n",
    "    - In list, we may refer to the symbol itself.\n",
    "    - Ex: \n",
    "        - `(define a 1)` a is a symbol for 1\n",
    "        - `(define b 2)` b is a symbol for 2\n",
    "        - `(list a b)`\n",
    "            - This would give a list `(1 2)`, there is no existance of an \"a\" and \"b\". There are no symbols in this list.\n",
    "- However, through quotation, we may refer to symbols directly.\n",
    "    - We only use 1 single quote at the start.\n",
    "    - Ex:\n",
    "        - `(list 'a b)` would give a list `(a 2)` as we indicate that the expression `a` itself is the value. We do not evaluate `a`.\n",
    "    - The `'` is short hand for the quote expression `(quote)`\n",
    "- Quotation may be used/applied to combinations to form lists:"
   ]
  },
  {
   "cell_type": "code",
   "execution_count": null,
   "metadata": {
    "vscode": {
     "languageId": "plaintext"
    }
   },
   "outputs": [],
   "source": [
    "scm> '(a b c)\n",
    "(a b c)\n",
    "scm> (car `(a b c))\n",
    "a\n",
    "scm> (cdr `(a b c))\n",
    "(b c)"
   ]
  },
  {
   "cell_type": "markdown",
   "metadata": {},
   "source": [
    "- Quoting a list would produce a list, but all expressions within the list are quoted as well.\n",
    "- We may also quote a nested expression to create lists that has lists as some of its elements"
   ]
  },
  {
   "cell_type": "code",
   "execution_count": null,
   "metadata": {
    "vscode": {
     "languageId": "plaintext"
    }
   },
   "outputs": [],
   "source": [
    "scm> '(1 (2 3) 4)\n",
    "(1 (2 3) 4)"
   ]
  },
  {
   "cell_type": "markdown",
   "metadata": {},
   "source": [
    "# List Processing\n",
    "- There are various built-in list procedures\n",
    "    - `(append s t)`: list the elements of s and t. Combines them into one list\n",
    "    - `(map f s)`: call a procedure f on each element of a list s and list the results\n",
    "    - `(filter f s)`: call a procedure f on each element of a list s and list the elements for which a true value is the result.\n",
    "    - `(apply f s)`: call a procedure f with the elements of a list as its arguments."
   ]
  }
 ],
 "metadata": {
  "language_info": {
   "name": "python"
  }
 },
 "nbformat": 4,
 "nbformat_minor": 2
}
