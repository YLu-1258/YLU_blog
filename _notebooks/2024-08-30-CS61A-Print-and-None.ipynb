{
 "cells": [
  {
   "cell_type": "markdown",
   "metadata": {},
   "source": [
    "---\n",
    "- title: Print and None type\n",
    "- author: alex\n",
    "- badges: true\n",
    "- comments: true\n",
    "- categories: [CS61A]\n",
    "- date: 2024-08-30 02:00:00 -0800\n",
    "- tags: [CS61A, None, Print]\n",
    "---"
   ]
  },
  {
   "cell_type": "markdown",
   "metadata": {},
   "source": [
    "# Forethought\n",
    "Consider\n",
    "```python\n",
    ">>> -2\n",
    "-2\n",
    ">>> print(-2)\n",
    "-2\n",
    "```\n",
    "There is a difference in the two."
   ]
  },
  {
   "cell_type": "markdown",
   "metadata": {},
   "source": [
    "# The print function and the None value\n",
    "- Python has rules for automatically displaying values of expressions\n",
    "\n",
    "## The print function\n",
    "- This function prints out the value. (Duh)\n",
    "- It can also print out multiple values seperated by commas\n",
    "```python\n",
    ">>> print(1,2,3)\n",
    "1 2 3\n",
    ">>>\n",
    "```\n",
    "- The return value of print is a `None`!\n",
    "\n",
    "## None indicates that nothing is returned\n",
    "- The None value represents the absence of a value (nothing). When we run it in the python interpreter, literally nothing happens. This is because None itself is not automatically displayed by the interpreter.\n",
    "```python\n",
    ">>> None\n",
    ">>>\n",
    "```\n",
    "- If we print None with the print function, we actually see the value\n",
    "```python\n",
    ">>> print(None)\n",
    "None\n",
    ">>>\n",
    "```\n",
    "- If a function is not defined to return a value, it will return `None`.\n"
   ]
  },
  {
   "cell_type": "markdown",
   "metadata": {},
   "source": [
    "# Two types of Functions\n",
    "\n",
    "## Pure functions\n",
    "- Just return values\n",
    "- Ex: `abs(x)`, `pow(a,b)`\n",
    "- They are closed systems\n",
    "\n",
    "## Non-Pure Functions\n",
    "- Have other side effects\n",
    "- Ex: Print returns None itself, but it also displays a value. (A consequence of calling the function)\n",
    "\n",
    "## Interpreting Nested Print Expressions\n",
    "```python\n",
    ">>> print(print(1), print(2))\n",
    "1\n",
    "2\n",
    "None None\n",
    "```\n",
    "1) We try to execute the outside print, which wants to print the return values of `print(1)` and `print(2)` seperated by white space.\n",
    "2) We execute `print(1)` and `print(2)` to gain their return values\n",
    "3) First, `print(1)` also prints \"1\" with a newline, then returns None.\n",
    "4) Then, `print(2)` prints \"2\" with a newline, then returns None.\n",
    "5) `print(print(1), print(2))` effectively becomes print(None, None), and returns None.\n",
    "6) `None None` is printed\n",
    "7) `None` is not displayed according to the rules of the Python interpreter."
   ]
  }
 ],
 "metadata": {
  "language_info": {
   "name": "python"
  }
 },
 "nbformat": 4,
 "nbformat_minor": 2
}
