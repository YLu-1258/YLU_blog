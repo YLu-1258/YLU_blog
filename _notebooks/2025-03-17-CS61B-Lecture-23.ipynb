{
 "cells": [
  {
   "cell_type": "markdown",
   "metadata": {},
   "source": [
    "---\n",
    "- title: \"'CS61B: Lecture 23'\"\n",
    "- author: alex\n",
    "- badges: true\n",
    "- comments: true\n",
    "- categories: [CS61B]\n",
    "- date: 2025-03-17 1:00:00 -0800\n",
    "- math: true\n",
    "- tags: [CS61B, Graph Traversals, JAVA]\n",
    "---"
   ]
  },
  {
   "cell_type": "markdown",
   "metadata": {},
   "source": [
    "# BFS, DFS, Graph Traversals and Implementations\n",
    "- To implement any graph algorithms like DFS, we need:\n",
    "    - An **API** (Application Programming Interface) for graphs.\n",
    "        - Defines a set of protocols for how Graph programmers must think.\n",
    "    - A concrete data structure to represent graphs.\n",
    "\n",
    "## Graph API\n",
    "- Common Convention: We have number nodes assigned to each node, and use numbers throughout the graph implementation.\n",
    "    - Looking up a vertex by label needs a `Map<Label, Integer>`"
   ]
  },
  {
   "cell_type": "code",
   "execution_count": null,
   "metadata": {},
   "outputs": [],
   "source": [
    "public class Graph {\n",
    "    public Graph(int V):                // Create empty grpah with v vertices\n",
    "    public void addEdge(int v; int w):  // Adds an edge v-w\n",
    "    Iterable<Integer> adj(int v):       // vertices adjacent to v\n",
    "    int V():                            // number of vertices\n",
    "    int E():                            // number of edges\n",
    "}"
   ]
  },
  {
   "cell_type": "markdown",
   "metadata": {},
   "source": [
    "- Restrictions about our class\n",
    "    - Number of vertices must be specified in advance\n",
    "    - Does not support weights or labels on nodes or edges.\n",
    "    - Has no method for getting the number of edges for a vertex (the degree of a vertex)."
   ]
  },
  {
   "cell_type": "code",
   "execution_count": null,
   "metadata": {},
   "outputs": [],
   "source": [
    "public static int degree(Graph G, int v) {\n",
    "    int degree = 0;\n",
    "    for (int u : graph.adj(v)) {\n",
    "        degree++;\n",
    "    }\n",
    "    return degree;\n",
    "}\n",
    "\n",
    "public static void print(Graph G) {\n",
    "    for (int v; v < G.V(); v++) {\n",
    "        for (int u : G.adj(u)) {\n",
    "            // Print each edge once\n",
    "            if (u > v) {\n",
    "                System.out.println(v + \" - \" + u);\n",
    "            }\n",
    "        }\n",
    "    }\n",
    "}"
   ]
  },
  {
   "cell_type": "markdown",
   "metadata": {},
   "source": [
    "# Depth First Search Implementations\n",
    "- We create a wrapper class for a graph for the operations that we want to perform operations on.\n",
    "    - We have a specialized class for each type of question that we want to address\n",
    "    - Ex: Paths.\n",
    "        - We create a graph object\n",
    "        - Pass the graph to a graph-processing method (or constructor) in a client class.\n",
    "        - Query te client class for information."
   ]
  },
  {
   "cell_type": "code",
   "execution_count": null,
   "metadata": {},
   "outputs": [],
   "source": [
    "public class Paths {\n",
    "    public Paths(Graph G, int s):\n",
    "    boolean hasPathTo(int v):\n",
    "    Iterable<Integer> pathTo(int v):\n",
    "}"
   ]
  },
  {
   "cell_type": "markdown",
   "metadata": {},
   "source": [
    "- This wrapper class has access to the underlaying graph structure, but we may add another layer of abstraction by adding more helper methods.\n",
    "- Recall s-t Connectivity\n",
    "    - connected(s, t):\n",
    "        - Mark s.\n",
    "        - Does s == t? If so, return true.\n",
    "        - Otherwise, if connected(v,t) for any unmarked neighbor v or s, return true.\n",
    "        - Return false."
   ]
  },
  {
   "cell_type": "code",
   "execution_count": null,
   "metadata": {},
   "outputs": [],
   "source": [
    "public class DepthFirstPaths {\n",
    "    private boolean[] marked;\n",
    "    private int[] edgeTo;\n",
    "    private int s;\n",
    "\n",
    "    public DepthFirstPaths(Graph G, int s) {\n",
    "        // Create a data structure for our graph G\n",
    "        dfs(G, s);\n",
    "    }\n",
    "\n",
    "    private void dfs(Graph G, int v) {\n",
    "        // Mark the current vertex as visited\n",
    "        marked[v] = true;\n",
    "        for (int w: G.adj(v)) {\n",
    "            // Visit each unmarked vertex w\n",
    "            if (!marked[w]) {\n",
    "                // Set our vertex as the neighbor of w\n",
    "                edgeTo[w] = v;\n",
    "                // Recurse on w\n",
    "                dfs(G, w)\n",
    "            }\n",
    "        }\n",
    "    }\n",
    "\n",
    "    public boolean hasPathTo(int v) {\n",
    "        // If we have traveled vertex through dfs, then there is a path\n",
    "        return marked[v];\n",
    "    }\n",
    "\n",
    "    public Iterable<Integer> pathTo(int v) {\n",
    "        // No path\n",
    "        if (!hasPathTo(v)) return null;\n",
    "        for (int x = v; x != s; s = edgeTo[x]) {\n",
    "            path.add(x);\n",
    "        }\n",
    "        path.add(s);\n",
    "        Collections.reverse(path);\n",
    "        return path;\n",
    "    }\n",
    "}"
   ]
  },
  {
   "cell_type": "markdown",
   "metadata": {},
   "source": [
    "## Different Graph Implementations\n",
    "- **Adjacency Matrix**\n",
    "    - We keep a 2-Dimensional array where each index (v, w) represents the presence or the absense of an edge between vertices v and w.\n",
    "        - Very fast constant time look up but $O(N^2)$ space complexity \n",
    "- **Edge Sets:**\n",
    "    - We have a collection of all edges.\n",
    "    - HashSet<Edge>, where each Edge is a pair of ints.\n",
    "- **Adjacency lists:**\n",
    "    - Maintain an array of lists index by vertex number.\n",
    "    - This is efficient when graphs are \"sparse\"\n",
    "- Whichever graph implementation we choose has implications on our runtime.\n",
    "\n",
    "# Breadth First Search Implementation\n",
    "- Unlike Depth First search, we propagate our search through different levels of the graph relative to some fringe node.\n",
    "- For each vertex, we keep track of:\n",
    "    - `marked`: If the vertex has been marked.\n",
    "    - `edgeTo`: What vertex is the vertex connected to in our BFS propagation.\n",
    "    - `distTo`: The total distance of our vertex to our fringe vertex.\n",
    "- Since we go one layer at a time, we guarantee that the paths we find are the fasts paths.\n",
    "- Breadth first search is $O(V+E)$"
   ]
  }
 ],
 "metadata": {
  "kernelspec": {
   "display_name": "Java",
   "language": "java",
   "name": "java"
  },
  "language_info": {
   "codemirror_mode": "java",
   "file_extension": ".jshell",
   "mimetype": "text/x-java-source",
   "name": "java",
   "pygments_lexer": "java",
   "version": "17.0.14+7-Ubuntu-122.04.1"
  }
 },
 "nbformat": 4,
 "nbformat_minor": 2
}
