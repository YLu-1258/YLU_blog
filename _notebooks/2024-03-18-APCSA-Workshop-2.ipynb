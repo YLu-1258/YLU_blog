{
 "cells": [
  {
   "cell_type": "markdown",
   "metadata": {},
   "source": [
    "---\n",
    "toc: true\n",
    "comments: true\n",
    "layout: notebook\n",
    "title: Classes\n",
    "description: The difference in the application and use of Value and Reference types in Java.\n",
    "authors: Kevin Du\n",
    "courses: { compsci: {week: 1} }\n",
    "type: hacks\n",
    "---"
   ]
  },
  {
   "cell_type": "markdown",
   "metadata": {},
   "source": [
    "1. **Class Instantiation**:\n",
    "    - **Purpose**: Creating an object (instance) of a class.\n",
    "    - **Syntax**: `ClassName objectName = new ClassName();`\n",
    "    - **Explanation**:\n",
    "        - `ClassName` refers to the name of the class you want to instantiate.\n",
    "        - `objectName` is the reference variable that points to the newly created object.\n",
    "        - `new ClassName()` allocates memory and initializes the object.\n",
    "\n",
    "2. **Constructors**:\n",
    "    - **Purpose**: Special methods used for object initialization.\n",
    "    - **Default Constructor**:\n",
    "        - Takes no arguments.\n",
    "        - Initializes instance variables to default values (e.g., `0`, `null`, etc.).\n",
    "    - **Parameterized Constructors**:\n",
    "        - Accept one or more arguments.\n",
    "        - Used to set initial values for instance variables."
   ]
  },
  {
   "cell_type": "code",
   "execution_count": null,
   "metadata": {},
   "outputs": [],
   "source": [
    "public class MyClass {\n",
    "    private int value;\n",
    "\n",
    "    // Parameterized constructor\n",
    "    public MyClass(int initialValue) {\n",
    "        value = initialValue;\n",
    "    }\n",
    "}"
   ]
  },
  {
   "cell_type": "markdown",
   "metadata": {},
   "source": [
    "## Instantiation of Classes\n"
   ]
  },
  {
   "cell_type": "code",
   "execution_count": null,
   "metadata": {},
   "outputs": [],
   "source": [
    "public class WordPair { \n",
    "    /** Constructs a WordPair object. */ \n",
    "    public WordPair(String first, String second) \n",
    "    { \n",
    "        /* implementation not shown */ \n",
    "    } \n",
    "    /** Returns the first string of this WordPair object. */ \n",
    "    public String getFirst() \n",
    "    { \n",
    "        /* implementation not shown */ \n",
    "    } /** Returns the second string of this WordPair object. */ \n",
    "    public String getSecond() \n",
    "    {\n",
    "        /* implementation not shown */ \n",
    "    } \n",
    "}\n",
    "public class WordPairList { \n",
    "    /** The list of word pairs, initialized by the constructor. */ \n",
    "    private ArrayList<WordPair> allPairs; \n",
    "    /** Constructs a WordPairList object as described in part (a). * Precondition: words.length >= 2 */ \n",
    "    public WordPairList(String[] words) \n",
    "    { \n",
    "        /* to be implemented in part (a) */ \n",
    "    } \n",
    "    /** Returns the number of matches as described in part (b). */ \n",
    "    public int numMatches() { \n",
    "        /* to be implemented in part (b) */\n",
    "    } \n",
    "}"
   ]
  },
  {
   "cell_type": "code",
   "execution_count": 15,
   "metadata": {},
   "outputs": [
    {
     "name": "stdout",
     "output_type": "stream",
     "text": [
      "Here are the results for example 2 and 3\n",
      "0\n",
      "1\n",
      "2\n"
     ]
    }
   ],
   "source": [
    "public class WordPair {\n",
    "    private String First;\n",
    "    private String Second;\n",
    "    /** Constructs a WordPair object. */ \n",
    "    public WordPair(String first, String second) \n",
    "    { \n",
    "        this.First = first;\n",
    "        this.Second = second;\n",
    "    } \n",
    "    /** Returns the first string of this WordPair object. */ \n",
    "    public String getFirst() \n",
    "    { \n",
    "        return this.First;\n",
    "    } /** Returns the second string of this WordPair object. */ \n",
    "    public String getSecond() \n",
    "    {\n",
    "        return this.Second;\n",
    "    } \n",
    "}\n",
    "public class WordPairList { \n",
    "    /** The list of word pairs, initialized by the constructor. */ \n",
    "    private ArrayList<WordPair> allPairs; \n",
    "    /** Constructs a WordPairList object as described in part (a). * Precondition: words.length >= 2 */ \n",
    "    public WordPairList(String[] words) \n",
    "    { \n",
    "        this.allPairs = new ArrayList<WordPair>(); //Some people miss this for some reason. You need an array list so that way you can add more pairs needed in the future.\n",
    "        for (int i = 0; i<words.length;i++){ //Goes through each word\n",
    "            for(int j = i+1;j<words.length;j++){ //This is the nested for loop; The i+1 makes it so that j doesn't overlap itself, otherwise, it would think that it was pairing with itself; Many people miss this surprisingly\n",
    "                this.allPairs.add(new WordPair(words[i],words[j]));\n",
    "            }\n",
    "        }\n",
    "    } \n",
    "    /** Returns the number of matches as described in part (b). */ \n",
    "    public int numMatches() { \n",
    "        int result = 0;\n",
    "        for (WordPair wp:allPairs){ //this for iterates through each word pair in the allPairs arraylist\n",
    "            if(wp.getFirst() == wp.getSecond()){ //This makes sure that the words are equal to each other to create a valid pair.\n",
    "                result += 1; //This increments for every pair\n",
    "            }\n",
    "        }\n",
    "        return result;\n",
    "    } \n",
    "}\n",
    "\n",
    "//Main Function\n",
    "//Example 1:\n",
    "String[] wordNums = {\"one\", \"two\", \"three\"}; \n",
    "WordPairList exampleOne = new WordPairList(wordNums);\n",
    "//Example 2\n",
    "String[] phrase = {\"the\", \"more\", \"the\", \"merrier\"}; \n",
    "WordPairList exampleTwo = new WordPairList(phrase);\n",
    "//Example 3:\n",
    "String[] moreWords = {\"the\", \"red\", \"fox\", \"the\", \"red\"}; \n",
    "WordPairList exampleThree = new WordPairList(moreWords);\n",
    "System.out.println(\"Here are the results for example 2 and 3\");\n",
    "System.out.println(exampleOne.numMatches());\n",
    "System.out.println(exampleTwo.numMatches());\n",
    "System.out.println(exampleThree.numMatches());"
   ]
  },
    {
   "cell_type": "markdown",
   "metadata": {},
   "source": [
    "# Overloaded Constructor\n",
    "\n",
    "Below is an example of an overloaded constructor. It's identical to the code above, except now when creating a WordPairList object if we don't pass through any words, tester words will be given and used. "
   ]
  },
  {
   "cell_type": "code",
   "execution_count": 4,
   "metadata": {
    "vscode": {
     "languageId": "java"
    }
   },
   "outputs": [
    {
     "name": "stdout",
     "output_type": "stream",
     "text": [
      "Here are the results for the examples\n",
      "1\n",
      "1\n"
     ]
    }
   ],
   "source": [
    "public class WordPairList { \n",
    "    /** The list of word pairs, initialized by the constructor. */ \n",
    "    private ArrayList<WordPair> allPairs; \n",
    "    /** Constructs a WordPairList object as described in part (a). * Precondition: words.length >= 2 */ \n",
    "    public WordPairList(String[] words) \n",
    "    { \n",
    "        this.allPairs = new ArrayList<WordPair>(); \n",
    "        for (int i = 0; i<words.length;i++){ \n",
    "            for(int j = i+1;j<words.length;j++){ \n",
    "                this.allPairs.add(new WordPair(words[i],words[j]));\n",
    "            }\n",
    "        }\n",
    "    } \n",
    "\n",
    "    public WordPairList() \n",
    "    { \n",
    "        String[] testerWords = {\"test\", \"testing\", \"best\", \"test\", \"hello\"}; \n",
    "        this.allPairs = new ArrayList<WordPair>(); \n",
    "        for (int i = 0; i<testerWords.length;i++){ \n",
    "            for(int j = i+1;j<testerWords.length;j++){ \n",
    "                this.allPairs.add(new WordPair(testerWords[i],testerWords[j]));\n",
    "            }\n",
    "        }\n",
    "    } \n",
    "\n",
    "    /** Returns the number of matches as described in part (b). */ \n",
    "    public int numMatches() { \n",
    "        int result = 0;\n",
    "        for (WordPair wp:allPairs){ //this for iterates through each word pair in the allPairs arraylist\n",
    "            if(wp.getFirst() == wp.getSecond()){ //This makes sure that the words are equal to each other to create a valid pair.\n",
    "                result += 1; //This increments for every pair\n",
    "            }\n",
    "        }\n",
    "        return result;\n",
    "    } \n",
    "}\n",
    "\n",
    "String[] words = {\"the\", \"more\", \"the\", \"merrier\"}; \n",
    "WordPairList exampleOne = new WordPairList(words);\n",
    "WordPairList exampleTwo = new WordPairList();\n",
    "System.out.println(\"Here are the results for the examples\");\n",
    "System.out.println(exampleOne.numMatches());\n",
    "System.out.println(exampleTwo.numMatches());"
   ]
  },
  {
   "cell_type": "markdown",
   "metadata": {},
   "source": [
    "# Resources\n",
    "\n",
    "GridWorld Case Study is a program that was previously used to supplement the AP CSA curriculum and was on the AP Exam from 2008 to 2014. While it is no longer tested, it is still a useful program to help prepare for the AP Exam as it provides a graphical environment that shows objects inhabiting and interacting with each other in a grid. For those interested, you can start [here](http://www.minich.com/education/wyo/java/apexam/gridworld_notes.php).\n"
   ]
  },
  {
   "cell_type": "markdown",
   "metadata": {},
   "source": [
    "# Tips and Tricks\n",
    "\n",
    "1. Common Points:\n",
    "    - declared class header \n",
    "    - constructor\n",
    "    - private instances \n",
    "    - declare headers for class methods\n",
    "    - properly uses methods from given class\n",
    "    - methods returns the right thing based on logic\n",
    "2. Use meaningful variable names\n",
    "3. For inheritence questions, pay attention to whether the attribute is of the parent or child class\n",
    "4. Check your code with the examples provided\n",
    "5. Super() must be in the first line of your constructor\n",
    "6. Initialize your variables outside of the constructor and any method (to have the correct scope)\n",
    "7. Point distribution, very few given for functioning code, just ensure you have the basic requirements"
   ]
  },
  {
   "cell_type": "markdown",
   "metadata": {},
   "source": [
    "# Hacks:\n",
    "\n",
    "Complete this FRQ **AND** write about a possible application in 3 sentences **AND** create an example of a real life application with that FRQ.\n",
    "\n",
    "## Prompt\n",
    "\n",
    "Problem Statement:\n",
    "\n",
    "You are tasked with implementing a simple online shopping system. The system consists of classes to represent products, customers, and orders. Your task is to complete the missing methods and implement additional functionality as described in the comments.\n",
    "\n",
    "Instructions:\n",
    "- Review the provided classes: Product, Customer, Order.\n",
    "- Complete the missing methods and implement additional functionality as per the comments within each class.\n",
    "- Ensure that your implementations adhere to good coding practices, including proper encapsulation and error handling.\n",
    "- Test your implementations thoroughly to verify correctness and robustness.\n",
    "\n",
    "```java\n",
    "public class Product {\n",
    "    private String name;\n",
    "    private double price;\n",
    "\n",
    "    // TODO: Implement the Product class\n",
    "}\n",
    "\n",
    "// Customer.java\n",
    "public class Customer {\n",
    "    private String name;\n",
    "    private String email;\n",
    "    private String address;\n",
    "\n",
    "    // TODO: Implement the Customer class\n",
    "}\n",
    "\n",
    "// Order.java\n",
    "import java.util.ArrayList;\n",
    "\n",
    "public class Order {\n",
    "    private Customer customer;\n",
    "    private ArrayList<Product> products;\n",
    "\n",
    "    // TODO: Implement the Order class\n",
    "}\n",
    "```\n",
    "\n",
    "## Your Task:\n",
    "\n",
    "Complete the implementations of the Product, Customer, and Order classes according to the following specifications:\n",
    "\n",
    "**Product Class:**\n",
    "\n",
    "- Implement a constructor to initialize a product with a name and price.\n",
    "- Implement getters and setters for the name and price attributes.\n",
    "\n",
    "**Customer Class:**\n",
    "- Implement a constructor to initialize a customer with a name, email, and address.\n",
    "- Implement getters and setters for the name, email, and address attributes.\n",
    "\n",
    "**Order Class:**\n",
    "- Implement a method to add a product to the order.\n",
    "- Implement a method to calculate the total price of the order.\n",
    "- Ensure that each order is associated with a customer.\n",
    "\n",
    "#### Additional Requirements:\n",
    "\n",
    "Ensure that prices are non-negative and orders cannot be created without a customer.\n",
    "Implement proper error handling and validation for invalid operations or inputs.\n",
    "Document your code with clear comments to explain the purpose and functionality of each method.\n",
    "Demonstrate the usage of your implementations with sample test cases in a separate class.\n",
    "\n",
    "#### Note:\n",
    "\n",
    "This question assesses your understanding of class design, constructors, methods, encapsulation, and error handling. Take your time to carefully analyze the requirements and design your solutions accordingly. Soley using AI for any part of the hack results in a 0 for the whole thing."
   ]
  },
  {
   "cell_type": "code",
   "execution_count": null,
   "metadata": {},
   "outputs": [],
   "source": [
    "// Use this to complete the FRQ for both (a) and (b). Point out specifically which parts are (a) and (b) and the features you have used (for example, if you used a nested for loop or an arraylist, point it out) (0.9)"
   ]
  },
  {
   "cell_type": "markdown",
   "metadata": {},
   "source": [
    "### Write your application here and why you think its more applicable (0.05)"
   ]
  },
  {
   "cell_type": "code",
   "execution_count": null,
   "metadata": {},
   "outputs": [],
   "source": [
    "// Use this to complete the Applications. Do not mix up the cells (0.05)"
   ]
  }
 ],
 "metadata": {
  "kernelspec": {
   "display_name": "Java",
   "language": "java",
   "name": "java"
  },
  "language_info": {
   "codemirror_mode": "java",
   "file_extension": ".jshell",
   "mimetype": "text/x-java-source",
   "name": "java",
   "pygments_lexer": "java",
   "version": "17.0.10+7-Ubuntu-122.04.1"
  }
 },
 "nbformat": 4,
 "nbformat_minor": 2
}
