{
 "cells": [
  {
   "cell_type": "markdown",
   "metadata": {},
   "source": [
    "---\n",
    "- title: \"'CS61A: Lecture 8'\"\n",
    "- author: alex\n",
    "- badges: true\n",
    "- comments: true\n",
    "- categories: [CS61A]\n",
    "- date: 2024-09-18 12:00:00 -0800\n",
    "- tags: [CS61A]\n",
    "---"
   ]
  },
  {
   "cell_type": "markdown",
   "metadata": {},
   "source": [
    "# Recursion\n",
    "- Self-reference: A function refers to itself with its own name.\n",
    "- Mutual Recursion: Mutual recursive functions call one another"
   ]
  },
  {
   "cell_type": "code",
   "execution_count": 1,
   "metadata": {},
   "outputs": [
    {
     "name": "stdout",
     "output_type": "stream",
     "text": [
      "2500\n",
      "3000\n",
      "2000\n",
      "2024\n"
     ]
    },
    {
     "data": {
      "text/plain": [
       "<function __main__.subtract_next.<locals>.<lambda>(f)>"
      ]
     },
     "execution_count": 1,
     "metadata": {},
     "output_type": "execute_result"
    }
   ],
   "source": [
    "def add_next(n):\n",
    "    print(n)\n",
    "    return lambda f: subtract_next(n+f)\n",
    "\n",
    "def subtract_next(n):\n",
    "    print(n)\n",
    "    return lambda f: add_next(n-f)\n",
    "\n",
    "add_next(2500)(500)(1000)(24)"
   ]
  },
  {
   "cell_type": "markdown",
   "metadata": {},
   "source": [
    "- Environmental Diagram:  \n",
    "![Environmental Diagram](/assets/img/CS61A/Recursion_Environmental/AddNextDiagram.png)  \n",
    "- Be careful! the return value of the lambdas wasn't the add_next or subtract_next function. It is the lambda that the functions return. "
   ]
  },
  {
   "cell_type": "code",
   "execution_count": null,
   "metadata": {},
   "outputs": [],
   "source": [
    "def f(x):\n",
    "    print(x)\n",
    "    return f(x+1)\n",
    "\n",
    "# f(0) This will result in a maximum recursion depth error. There is no base case for the recursion to exit!"
   ]
  },
  {
   "cell_type": "markdown",
   "metadata": {},
   "source": [
    "- This is an example with a base case"
   ]
  },
  {
   "cell_type": "code",
   "execution_count": 9,
   "metadata": {},
   "outputs": [
    {
     "data": {
      "text/plain": [
       "1220136825991110068701238785423046926253574342803192842192413588385845373153881997605496447502203281863013616477148203584163378722078177200480785205159329285477907571939330603772960859086270429174547882424912726344305670173270769461062802310452644218878789465754777149863494367781037644274033827365397471386477878495438489595537537990423241061271326984327745715546309977202781014561081188373709531016356324432987029563896628911658974769572087926928871281780070265174507768410719624390394322536422605234945850129918571501248706961568141625359056693423813008856249246891564126775654481886506593847951775360894005745238940335798476363944905313062323749066445048824665075946735862074637925184200459369692981022263971952597190945217823331756934581508552332820762820023402626907898342451712006207714640979456116127629145951237229913340169552363850942885592018727433795173014586357570828355780158735432768888680120399882384702151467605445407663535984174430480128938313896881639487469658817504506926365338175055478128640000000000000000000000000000000000000000000000000000000000000000000000000000000000000000000000000000000000000000000000000000"
      ]
     },
     "execution_count": 9,
     "metadata": {},
     "output_type": "execute_result"
    }
   ],
   "source": [
    "def fact(n):\n",
    "    \"\"\"compute factorial(n) n!\n",
    "    >>> fact(5) # 5! = 5 * 4 * 3 * 2 * 1\n",
    "    120\n",
    "    \"\"\"\n",
    "    if n == 0:\n",
    "        return 1\n",
    "    return n * fact(n-1)\n",
    "\n",
    "\n",
    "fact(500)"
   ]
  },
  {
   "cell_type": "markdown",
   "metadata": {},
   "source": [
    "- This is an example of abstraction and induction. We assume that the function can be stacked on repeated more complex values, but we also use abstraction to assign the complex operations behind a name and just repeat it."
   ]
  },
  {
   "cell_type": "code",
   "execution_count": 10,
   "metadata": {},
   "outputs": [
    {
     "data": {
      "text/plain": [
       "True"
      ]
     },
     "execution_count": 10,
     "metadata": {},
     "output_type": "execute_result"
    }
   ],
   "source": [
    "def fact_iter(n):\n",
    "    result = 1\n",
    "    while (n>0):\n",
    "        result = result * n\n",
    "        n-=1\n",
    "    return result\n",
    "\n",
    "fact(1000) == fact_iter(1000)"
   ]
  },
  {
   "cell_type": "markdown",
   "metadata": {},
   "source": [
    "## Example: Boxes and Pyramids"
   ]
  },
  {
   "cell_type": "code",
   "execution_count": 21,
   "metadata": {},
   "outputs": [
    {
     "name": "stdout",
     "output_type": "stream",
     "text": [
      "[4][3][2][1]\n",
      "[1][2][3][4]"
     ]
    }
   ],
   "source": [
    "def boxes_iter(k):\n",
    "    \"\"\"prints out k boxes.\n",
    "    >>> boxes_iter(4)\n",
    "    [][][][]\n",
    "    \"\"\"\n",
    "    while k > 0:\n",
    "        print(f\"[{k}]\", end=\"\")\n",
    "        k-=1\n",
    "    return\n",
    "\n",
    "def boxes_r(k):\n",
    "    if not k:\n",
    "        return \n",
    "    else: \n",
    "        boxes_r(k-1)\n",
    "        print(f\"[{k}]\", end=\"\")\n",
    "    return\n",
    "\n",
    "boxes_iter(4)\n",
    "print()\n",
    "boxes_r(4)"
   ]
  },
  {
   "cell_type": "code",
   "execution_count": 27,
   "metadata": {},
   "outputs": [
    {
     "name": "stdout",
     "output_type": "stream",
     "text": [
      "[1][2][3][4][5][6][7][8]\n",
      "[1][2][3][4][5][6][7]\n",
      "[1][2][3][4][5][6]\n",
      "[1][2][3][4][5]\n",
      "[1][2][3][4]\n",
      "[1][2][3]\n",
      "[1][2]\n",
      "[1]\n"
     ]
    }
   ],
   "source": [
    "def pyramid_iter(k):\n",
    "    \"\"\"prints out a pyramid of k height.\n",
    "    >>> pyramid(4)\n",
    "    []\n",
    "    [][]\n",
    "    [][][]\n",
    "    [][][][]\n",
    "    \"\"\"\n",
    "    i = 1\n",
    "    while k > i:\n",
    "        print(\" \")\n",
    "        boxes_r(k)\n",
    "        k-=1\n",
    "    return\n",
    "\n",
    "def pyramid(k):\n",
    "    if k == 0:\n",
    "        return\n",
    "    else:\n",
    "        boxes_r(k)\n",
    "        print(\"\")\n",
    "        pyramid(k-1)\n",
    "        \n",
    "        \n",
    "\n",
    "pyramid(8)"
   ]
  },
  {
   "cell_type": "markdown",
   "metadata": {},
   "source": [
    "# Recursion and Iteration\n",
    "- Iteration is a special type of recursion"
   ]
  }
 ],
 "metadata": {
  "kernelspec": {
   "display_name": "Python 3",
   "language": "python",
   "name": "python3"
  },
  "language_info": {
   "codemirror_mode": {
    "name": "ipython",
    "version": 3
   },
   "file_extension": ".py",
   "mimetype": "text/x-python",
   "name": "python",
   "nbconvert_exporter": "python",
   "pygments_lexer": "ipython3",
   "version": "3.10.12"
  }
 },
 "nbformat": 4,
 "nbformat_minor": 2
}
